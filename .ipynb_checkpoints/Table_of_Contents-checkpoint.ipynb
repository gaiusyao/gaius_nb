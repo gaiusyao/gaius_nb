{
 "cells": [
  {
   "cell_type": "markdown",
   "metadata": {},
   "source": [
    "# Gaius Note Book\n",
    "\n",
    "- [tutorials](https://nbviewer.jupyter.org/github/gaiusyao/gaius_nb/tree/master/tutorials/index.ipynb): 教程\n",
    "    - [Pandas](https://nbviewer.jupyter.org/github/gaiusyao/gaius_nb/blob/master/tutorials/Pandas/index.ipynb): Pandas官方教程\n",
    "    - [Plotly](https://nbviewer.jupyter.org/github/gaiusyao/gaius_nb/blob/master/tutorials/Plotly/index.ipynb): Plotly官方教程\n",
    "    - [seaborn](https://nbviewer.jupyter.org/github/gaiusyao/gaius_nb/blob/master/tutorials/seaborn/index.ipynb): Seaborn官方教程\n",
    "    - [bqplot](https://nbviewer.jupyter.org/github/gaiusyao/gaius_nb/blob/master/tutorials/bqplot/index.ipynb): bqplot官方示例\n",
    "    - [bokeh](https://nbviewer.jupyter.org/github/gaiusyao/gaius_nb/blob/master/tutorials/bokeh/index.ipynb): Bokeh官方教程\n",
    "    - [Py36](https://nbviewer.jupyter.org/github/gaiusyao/gaius_nb/blob/master/tutorials/Py36/Index.ipynb): Python3.6官方教程\n",
    "\n",
    "\n",
    "- [reading](https://nbviewer.jupyter.org/github/gaiusyao/gaius_nb/tree/master/reading/index.ipynb): 读书笔记\n",
    "    - [SQL必知必会_4th](https://nbviewer.jupyter.org/github/gaiusyao/gaius_nb/blob/master/reading/SQL必知必会_4th/index.ipynb): SQL必知必会（第四版）\n",
    "    - [Python_for_Data_Analysis](https://nbviewer.jupyter.org/github/gaiusyao/gaius_nb/blob/master/reading/Python_for_Data_Analysis/index.ipynb): 利用Python进行数据分析（第二版）\n",
    "    - [Data Science Essentials in Python](https://nbviewer.jupyter.org/github/gaiusyao/gaius_nb/blob/master/reading/Data_Science_Essentials_in_Python/index.ipynb): Python数据科学入门\n",
    "\n",
    "\n",
    "- [Julia](https://nbviewer.jupyter.org/github/gaiusyao/gaius_nb/tree/master/Julia/index.ipynb): Julia\n",
    "\n",
    "\n",
    "- [data](https://github.com/gaiusyao/gaius_nb/tree/master/data): 数据集"
   ]
  },
  {
   "cell_type": "code",
   "execution_count": null,
   "metadata": {},
   "outputs": [],
   "source": []
  }
 ],
 "metadata": {
  "hide_input": false,
  "kernelspec": {
   "display_name": "Python 3",
   "language": "python",
   "name": "python3"
  },
  "language_info": {
   "codemirror_mode": {
    "name": "ipython",
    "version": 3
   },
   "file_extension": ".py",
   "mimetype": "text/x-python",
   "name": "python",
   "nbconvert_exporter": "python",
   "pygments_lexer": "ipython3",
   "version": "3.6.4"
  }
 },
 "nbformat": 4,
 "nbformat_minor": 2
}
