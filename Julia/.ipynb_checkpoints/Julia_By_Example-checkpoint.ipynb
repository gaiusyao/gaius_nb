{
 "cells": [
  {
   "cell_type": "markdown",
   "metadata": {},
   "source": [
    "## Hello World"
   ]
  },
  {
   "cell_type": "code",
   "execution_count": 1,
   "metadata": {},
   "outputs": [
    {
     "name": "stdout",
     "output_type": "stream",
     "text": [
      "hello world\n"
     ]
    }
   ],
   "source": [
    "println(\"hello world\")"
   ]
  },
  {
   "cell_type": "markdown",
   "metadata": {},
   "source": [
    "## Simple Functions"
   ]
  },
  {
   "cell_type": "code",
   "execution_count": 2,
   "metadata": {},
   "outputs": [
    {
     "data": {
      "text/plain": [
       "sphere_vol (generic function with 1 method)"
      ]
     },
     "execution_count": 2,
     "metadata": {},
     "output_type": "execute_result"
    }
   ],
   "source": [
    "# function to calculate the volume of a sphere\n",
    "function sphere_vol(r)\n",
    "    # julia allows Unicode names (in UTF-8 encoding)\n",
    "    # so either \"pi\" or the symbol π can be used\n",
    "    return 4/3*pi*r^3\n",
    "end"
   ]
  },
  {
   "cell_type": "code",
   "execution_count": 3,
   "metadata": {},
   "outputs": [
    {
     "data": {
      "text/plain": [
       "quadratic (generic function with 1 method)"
      ]
     },
     "execution_count": 3,
     "metadata": {},
     "output_type": "execute_result"
    }
   ],
   "source": [
    "# functions can also be defined more succinctly\n",
    "quadratic(a, sqr_term, b) = (-b + sqr_term) / 2a"
   ]
  },
  {
   "cell_type": "code",
   "execution_count": 4,
   "metadata": {},
   "outputs": [
    {
     "data": {
      "text/plain": [
       "quadratic2 (generic function with 1 method)"
      ]
     },
     "execution_count": 4,
     "metadata": {},
     "output_type": "execute_result"
    }
   ],
   "source": [
    "# calculates x for 0 = a*x^2+b*x+c, arguments types can be defined in function definitions\n",
    "function quadratic2(a::Float64, b::Float64, c::Float64)\n",
    "    # unlike other languages 2a is equivalent to 2*a\n",
    "    # a^2 is used instead of a**2 or pow(a,2)\n",
    "    sqr_term = sqrt(b^2-4a*c)\n",
    "    r1 = quadratic(a, sqr_term, b)\n",
    "    r2 = quadratic(a, -sqr_term, b)\n",
    "    # multiple values can be returned from a function using tuples\n",
    "    # if the return keyword is omitted, the last term is returned\n",
    "    r1, r2\n",
    "end"
   ]
  },
  {
   "cell_type": "code",
   "execution_count": 5,
   "metadata": {},
   "outputs": [
    {
     "data": {
      "text/plain": [
       "113.09733552923254"
      ]
     },
     "execution_count": 5,
     "metadata": {},
     "output_type": "execute_result"
    }
   ],
   "source": [
    "vol = sphere_vol(3)"
   ]
  },
  {
   "cell_type": "code",
   "execution_count": 6,
   "metadata": {},
   "outputs": [
    {
     "name": "stdout",
     "output_type": "stream",
     "text": [
      "volume = 113.097\n"
     ]
    }
   ],
   "source": [
    "# @printf allows number formatting but does not automatically append the \\n to statements\n",
    "@printf \"volume = %0.3f\\n\" vol"
   ]
  },
  {
   "cell_type": "code",
   "execution_count": 7,
   "metadata": {},
   "outputs": [
    {
     "data": {
      "text/plain": [
       "(3.0, -2.0)"
      ]
     },
     "execution_count": 7,
     "metadata": {},
     "output_type": "execute_result"
    }
   ],
   "source": [
    "quad1, quad2 = quadratic2(2.0, -2.0, -12.0)"
   ]
  },
  {
   "cell_type": "code",
   "execution_count": 8,
   "metadata": {},
   "outputs": [
    {
     "name": "stdout",
     "output_type": "stream",
     "text": [
      "result 1: 3.0\n"
     ]
    }
   ],
   "source": [
    "println(\"result 1: \", quad1)"
   ]
  },
  {
   "cell_type": "code",
   "execution_count": 9,
   "metadata": {},
   "outputs": [
    {
     "name": "stdout",
     "output_type": "stream",
     "text": [
      "result 2: -2.0\n"
     ]
    }
   ],
   "source": [
    "println(\"result 2: \", quad2)"
   ]
  },
  {
   "cell_type": "markdown",
   "metadata": {},
   "source": [
    "## Strings Basics"
   ]
  },
  {
   "cell_type": "code",
   "execution_count": 10,
   "metadata": {},
   "outputs": [
    {
     "name": "stdout",
     "output_type": "stream",
     "text": [
      "The quick brown fox jumps over the lazy dog α,β,γ\n"
     ]
    }
   ],
   "source": [
    "# strings are defined with double quotes\n",
    "# like variables, strings can contain any unicode character\n",
    "s1 = \"The quick brown fox jumps over the lazy dog α,β,γ\"\n",
    "println(s1)"
   ]
  },
  {
   "cell_type": "code",
   "execution_count": 11,
   "metadata": {},
   "outputs": [
    {
     "name": "stdout",
     "output_type": "stream",
     "text": [
      "this and that.\n"
     ]
    }
   ],
   "source": [
    "# println adds a new line to the end of output\n",
    "# print can be used if you dont want that:\n",
    "print(\"this\")\n",
    "print(\" and\")\n",
    "print(\" that.\\n\")"
   ]
  },
  {
   "cell_type": "code",
   "execution_count": 12,
   "metadata": {},
   "outputs": [
    {
     "name": "stdout",
     "output_type": "stream",
     "text": [
      "a\n"
     ]
    }
   ],
   "source": [
    "# chars are defined with single quotes\n",
    "c1 = 'a'\n",
    "println(c1)"
   ]
  },
  {
   "cell_type": "code",
   "execution_count": 13,
   "metadata": {},
   "outputs": [
    {
     "name": "stdout",
     "output_type": "stream",
     "text": [
      "a ascii value = 97\n"
     ]
    }
   ],
   "source": [
    "# the ascii value of a char can be found with Int():\n",
    "println(c1, \" ascii value = \", Int(c1))"
   ]
  },
  {
   "cell_type": "code",
   "execution_count": 14,
   "metadata": {},
   "outputs": [
    {
     "name": "stdout",
     "output_type": "stream",
     "text": [
      "Int('α') == 945\n"
     ]
    }
   ],
   "source": [
    "println(\"Int('α') == \", Int('α'))"
   ]
  },
  {
   "cell_type": "code",
   "execution_count": 15,
   "metadata": {},
   "outputs": [
    {
     "name": "stdout",
     "output_type": "stream",
     "text": [
      "false\n"
     ]
    }
   ],
   "source": [
    "# so be aware that\n",
    "println(Int('1') == 1)"
   ]
  },
  {
   "cell_type": "code",
   "execution_count": 16,
   "metadata": {},
   "outputs": [
    {
     "name": "stdout",
     "output_type": "stream",
     "text": [
      "THE QUICK BROWN FOX JUMPS OVER THE LAZY DOG Α,Β,Γ\n",
      "the quick brown fox jumps over the lazy dog α,β,γ\n"
     ]
    }
   ],
   "source": [
    "# strings can be converted to upper case or lower case:\n",
    "s1_caps = uppercase(s1)\n",
    "s1_lower = lowercase(s1)\n",
    "println(s1_caps, \"\\n\", s1_lower)"
   ]
  },
  {
   "cell_type": "code",
   "execution_count": 17,
   "metadata": {},
   "outputs": [
    {
     "name": "stdout",
     "output_type": "stream",
     "text": [
      "'b'\n"
     ]
    }
   ],
   "source": [
    "# sub strings can be indexed like arrays:\n",
    "# (show prints the raw value)\n",
    "show(s1[11]); println()"
   ]
  },
  {
   "cell_type": "code",
   "execution_count": 18,
   "metadata": {},
   "outputs": [
    {
     "name": "stdout",
     "output_type": "stream",
     "text": [
      "\"The quick \"\n"
     ]
    }
   ],
   "source": [
    "# or sub strings can be created:\n",
    "show(s1[1:10]); println()"
   ]
  },
  {
   "cell_type": "code",
   "execution_count": 19,
   "metadata": {},
   "outputs": [
    {
     "name": "stdout",
     "output_type": "stream",
     "text": [
      "\"dog α,β,γ\"\n"
     ]
    }
   ],
   "source": [
    "# end is used for the end of the array or string\n",
    "show(s1[end-10:end]); println()"
   ]
  },
  {
   "cell_type": "code",
   "execution_count": 20,
   "metadata": {},
   "outputs": [
    {
     "name": "stdout",
     "output_type": "stream",
     "text": [
      "welcome to julia.\n"
     ]
    }
   ],
   "source": [
    "# julia allows string Interpolation:\n",
    "a = \"welcome\"\n",
    "b = \"julia\"\n",
    "println(\"$a to $b.\")"
   ]
  },
  {
   "cell_type": "code",
   "execution_count": 21,
   "metadata": {},
   "outputs": [
    {
     "name": "stdout",
     "output_type": "stream",
     "text": [
      "1 + 2 = 3\n"
     ]
    }
   ],
   "source": [
    "# this can extend to evaluate statements:\n",
    "println(\"1 + 2 = $(1 + 2)\")"
   ]
  },
  {
   "cell_type": "code",
   "execution_count": 22,
   "metadata": {},
   "outputs": [
    {
     "name": "stdout",
     "output_type": "stream",
     "text": [
      "this and that\n"
     ]
    }
   ],
   "source": [
    "# strings can also be concatenated using the * operator\n",
    "# using * instead of + isn't intuitive when you start with Julia,\n",
    "# however people think it makes more sense\n",
    "s2 = \"this\" * \" and\" * \" that\"\n",
    "println(s2)"
   ]
  },
  {
   "cell_type": "code",
   "execution_count": 23,
   "metadata": {},
   "outputs": [
    {
     "name": "stdout",
     "output_type": "stream",
     "text": [
      "this and that\n"
     ]
    }
   ],
   "source": [
    "# as well as the string function\n",
    "s3 = string(\"this\", \" and\", \" that\")\n",
    "println(s3)"
   ]
  },
  {
   "cell_type": "markdown",
   "metadata": {},
   "source": [
    "## String: Converting and formatting"
   ]
  },
  {
   "cell_type": "code",
   "execution_count": 24,
   "metadata": {},
   "outputs": [
    {
     "name": "stdout",
     "output_type": "stream",
     "text": [
      "13.59\n"
     ]
    }
   ],
   "source": [
    "# strings can be converted using float and int:\n",
    "e_str1 = \"2.718\"\n",
    "e = float(e_str1)\n",
    "println(5e)"
   ]
  },
  {
   "cell_type": "code",
   "execution_count": 25,
   "metadata": {},
   "outputs": [
    {
     "name": "stdout",
     "output_type": "stream",
     "text": [
      "45\n"
     ]
    }
   ],
   "source": [
    "num_15 = parse(Int, \"15\")\n",
    "println(3num_15)"
   ]
  },
  {
   "cell_type": "code",
   "execution_count": 26,
   "metadata": {},
   "outputs": [
    {
     "name": "stdout",
     "output_type": "stream",
     "text": [
      "e = 2.72\n"
     ]
    }
   ],
   "source": [
    "# numbers can be converted to strings and formatted using printf\n",
    "@printf \"e = %0.2f\\n\" e"
   ]
  },
  {
   "cell_type": "code",
   "execution_count": 27,
   "metadata": {},
   "outputs": [
    {
     "data": {
      "text/plain": [
       "\"2.718\""
      ]
     },
     "execution_count": 27,
     "metadata": {},
     "output_type": "execute_result"
    }
   ],
   "source": [
    "# or to create another string sprintf\n",
    "e_str2 = @sprintf(\"%0.3f\", e)"
   ]
  },
  {
   "cell_type": "code",
   "execution_count": 28,
   "metadata": {},
   "outputs": [
    {
     "name": "stdout",
     "output_type": "stream",
     "text": [
      "e_str1 == e_str2: true\n"
     ]
    }
   ],
   "source": [
    "# to show that the 2 strings are the same\n",
    "println(\"e_str1 == e_str2: $(e_str1 == e_str2)\")"
   ]
  },
  {
   "cell_type": "code",
   "execution_count": 29,
   "metadata": {},
   "outputs": [
    {
     "name": "stdout",
     "output_type": "stream",
     "text": [
      "fix trailing precision: 3.142\n"
     ]
    }
   ],
   "source": [
    "# available number format characters are f, e, g, c, s, p, d:\n",
    "# (pi is a predefined constant; however, since its type is \n",
    "# \"MathConst\" it has to be converted to a float to be formatted)\n",
    "@printf \"fix trailing precision: %0.3f\\n\" float(pi)"
   ]
  },
  {
   "cell_type": "code",
   "execution_count": 30,
   "metadata": {},
   "outputs": [
    {
     "name": "stdout",
     "output_type": "stream",
     "text": [
      "scientific form: 3.141593e+03\n"
     ]
    }
   ],
   "source": [
    "@printf \"scientific form: %0.6e\\n\" 1000pi"
   ]
  },
  {
   "cell_type": "code",
   "execution_count": 31,
   "metadata": {},
   "outputs": [
    {
     "name": "stdout",
     "output_type": "stream",
     "text": [
      "a character: α\n"
     ]
    }
   ],
   "source": [
    "# g is not implemented yet\n",
    "@printf \"a character: %c\\n\" 'α'"
   ]
  },
  {
   "cell_type": "code",
   "execution_count": 32,
   "metadata": {},
   "outputs": [
    {
     "name": "stdout",
     "output_type": "stream",
     "text": [
      "a string: look I'm a string!\n"
     ]
    }
   ],
   "source": [
    "@printf \"a string: %s\\n\" \"look I'm a string!\""
   ]
  },
  {
   "cell_type": "code",
   "execution_count": 33,
   "metadata": {},
   "outputs": [
    {
     "name": "stdout",
     "output_type": "stream",
     "text": [
      "right justify a string:                    width 50, text right justified!\n"
     ]
    }
   ],
   "source": [
    "@printf \"right justify a string: %50s\\n\" \"width 50, text right justified!\""
   ]
  },
  {
   "cell_type": "code",
   "execution_count": 34,
   "metadata": {},
   "outputs": [
    {
     "name": "stdout",
     "output_type": "stream",
     "text": [
      "a pointer: 0x0000000005f5e100\n"
     ]
    }
   ],
   "source": [
    "@printf \"a pointer: %p\\n\" 100000000"
   ]
  },
  {
   "cell_type": "code",
   "execution_count": 35,
   "metadata": {},
   "outputs": [
    {
     "name": "stdout",
     "output_type": "stream",
     "text": [
      "print a integer: 10000000000\n"
     ]
    }
   ],
   "source": [
    "@printf \"print a integer: %d\\n\" 1e10"
   ]
  },
  {
   "cell_type": "markdown",
   "metadata": {},
   "source": [
    "## String Manipulations"
   ]
  },
  {
   "cell_type": "code",
   "execution_count": 36,
   "metadata": {},
   "outputs": [
    {
     "data": {
      "text/plain": [
       "\"The quick brown fox jumps over the lazy dog α,β,γ\""
      ]
     },
     "execution_count": 36,
     "metadata": {},
     "output_type": "execute_result"
    }
   ],
   "source": [
    "s1 = \"The quick brown fox jumps over the lazy dog α,β,γ\""
   ]
  },
  {
   "cell_type": "code",
   "execution_count": 37,
   "metadata": {},
   "outputs": [
    {
     "name": "stdout",
     "output_type": "stream",
     "text": [
      "11\n"
     ]
    }
   ],
   "source": [
    "# search returns the first index of a char\n",
    "i = search(s1, 'b')\n",
    "println(i)"
   ]
  },
  {
   "cell_type": "code",
   "execution_count": 38,
   "metadata": {},
   "outputs": [
    {
     "name": "stdout",
     "output_type": "stream",
     "text": [
      "11:15\n"
     ]
    }
   ],
   "source": [
    "# the second argument is equivalent to the second argument of split\n",
    "# or a range if called with another string\n",
    "r = search(s1, \"brown\")\n",
    "println(r)"
   ]
  },
  {
   "cell_type": "code",
   "execution_count": 39,
   "metadata": {},
   "outputs": [
    {
     "name": "stdout",
     "output_type": "stream",
     "text": [
      "\"The quick red fox jumps over the lazy dog α,β,γ\"\n"
     ]
    }
   ],
   "source": [
    "# string replace is done thus:\n",
    "r = replace(s1, \"brown\", \"red\")\n",
    "show(r); println()"
   ]
  },
  {
   "cell_type": "code",
   "execution_count": 40,
   "metadata": {},
   "outputs": [
    {
     "name": "stdout",
     "output_type": "stream",
     "text": [
      "11:15\n"
     ]
    }
   ],
   "source": [
    "# search and replace can also take a regular expressions by preceding the string with 'r'\n",
    "r = search(s1, r\"b[\\w]*n\")\n",
    "println(r)"
   ]
  },
  {
   "cell_type": "code",
   "execution_count": 41,
   "metadata": {},
   "outputs": [
    {
     "name": "stdout",
     "output_type": "stream",
     "text": [
      "\"The quick red fox jumps over the lazy dog α,β,γ\"\n"
     ]
    }
   ],
   "source": [
    "# again with a regular expression\n",
    "r = replace(s1, r\"b[\\w]*n\", \"red\")\n",
    "show(r); println()"
   ]
  },
  {
   "cell_type": "code",
   "execution_count": 42,
   "metadata": {},
   "outputs": [
    {
     "name": "stdout",
     "output_type": "stream",
     "text": [
      "RegexMatch(\"brown\")\n"
     ]
    }
   ],
   "source": [
    "# there are also functions for regular expressions that return RegexMatch types\n",
    "# match scans left to right for the first match (specified starting index optional)\n",
    "r = match(r\"b[\\w]*n\", s1)\n",
    "println(r)"
   ]
  },
  {
   "cell_type": "code",
   "execution_count": 43,
   "metadata": {},
   "outputs": [
    {
     "name": "stdout",
     "output_type": "stream",
     "text": [
      "\"brown\"\n"
     ]
    }
   ],
   "source": [
    "# RegexMatch types have a property match that holds the matched string\n",
    "show(r.match); println()"
   ]
  },
  {
   "cell_type": "code",
   "execution_count": 44,
   "metadata": {},
   "outputs": [
    {
     "name": "stdout",
     "output_type": "stream",
     "text": [
      "SubString{String}[\"quick\", \"brown\", \"jumps\", \"over\", \"lazy\"]\n"
     ]
    }
   ],
   "source": [
    "# matchall returns a vector with RegexMatches for each match\n",
    "r = matchall(r\"[\\w]{4,}\", s1)\n",
    "println(r)"
   ]
  },
  {
   "cell_type": "code",
   "execution_count": 45,
   "metadata": {},
   "outputs": [
    {
     "name": "stdout",
     "output_type": "stream",
     "text": [
      "\"quick\" \"brown\" \"jumps\" \"over\" \"lazy\" \n"
     ]
    }
   ],
   "source": [
    "# eachmatch returns an iterator over all the matches\n",
    "r = eachmatch(r\"[\\w]{4,}\", s1)\n",
    "for i in r\n",
    "    print(\"\\\"$(i.match)\\\" \") \n",
    "end\n",
    "println()"
   ]
  },
  {
   "cell_type": "code",
   "execution_count": 46,
   "metadata": {},
   "outputs": [
    {
     "name": "stdout",
     "output_type": "stream",
     "text": [
      "\"hello hello hello \"\n"
     ]
    }
   ],
   "source": [
    "# a string can be repeated using the repeat function, \n",
    "# or more succinctly with the ^ syntax:\n",
    "r = \"hello \"^3\n",
    "show(r); println()"
   ]
  },
  {
   "cell_type": "code",
   "execution_count": 47,
   "metadata": {},
   "outputs": [
    {
     "name": "stdout",
     "output_type": "stream",
     "text": [
      "\"hello\"\n"
     ]
    }
   ],
   "source": [
    "# the strip function works the same as python:\n",
    "# e.g., with one argument it strips the outer whitespace\n",
    "r = strip(\"hello \")\n",
    "show(r); println()"
   ]
  },
  {
   "cell_type": "code",
   "execution_count": 48,
   "metadata": {},
   "outputs": [
    {
     "name": "stdout",
     "output_type": "stream",
     "text": [
      "\"ello\"\n"
     ]
    }
   ],
   "source": [
    "# or with a second argument of an array of chars it strips any of them;\n",
    "r = strip(\"hello \", ['h', ' '])\n",
    "show(r); println()"
   ]
  },
  {
   "cell_type": "code",
   "execution_count": 49,
   "metadata": {},
   "outputs": [
    {
     "name": "stdout",
     "output_type": "stream",
     "text": [
      "SubString{String}[\"hello\", \" there\", \"bob\"]\n"
     ]
    }
   ],
   "source": [
    "# similarly split works in basically the same way as python:\n",
    "r = split(\"hello, there,bob\", ',')\n",
    "show(r); println()"
   ]
  },
  {
   "cell_type": "code",
   "execution_count": 50,
   "metadata": {},
   "outputs": [
    {
     "name": "stdout",
     "output_type": "stream",
     "text": [
      "SubString{String}[\"hello\", \"there,bob\"]\n"
     ]
    }
   ],
   "source": [
    "r = split(\"hello, there,bob\", \", \")\n",
    "show(r); println()"
   ]
  },
  {
   "cell_type": "code",
   "execution_count": 51,
   "metadata": {},
   "outputs": [
    {
     "name": "stdout",
     "output_type": "stream",
     "text": [
      "SubString{String}[\"hello\", \"there\", \"bob\"]\n"
     ]
    }
   ],
   "source": [
    "r = split(\"hello, there,bob\", [',', ' '], limit=0, keep=false)\n",
    "show(r); println()"
   ]
  },
  {
   "cell_type": "code",
   "execution_count": 52,
   "metadata": {},
   "outputs": [
    {
     "name": "stdout",
     "output_type": "stream",
     "text": [
      "1, 2, 3, 4, 5, 6, 7, 8, 9, 10\n"
     ]
    }
   ],
   "source": [
    "# the opposite of split: join is simply\n",
    "r= join(collect(1:10), \", \")\n",
    "println(r)"
   ]
  },
  {
   "cell_type": "markdown",
   "metadata": {},
   "source": [
    "## Arrays"
   ]
  },
  {
   "cell_type": "code",
   "execution_count": 53,
   "metadata": {},
   "outputs": [
    {
     "data": {
      "text/plain": [
       "printsum (generic function with 1 method)"
      ]
     },
     "execution_count": 53,
     "metadata": {},
     "output_type": "execute_result"
    }
   ],
   "source": [
    "function printsum(a)\n",
    "    # summary generates a summary of an object\n",
    "    println(summary(a), \": \", repr(a))\n",
    "end"
   ]
  },
  {
   "cell_type": "code",
   "execution_count": 54,
   "metadata": {},
   "outputs": [
    {
     "name": "stdout",
     "output_type": "stream",
     "text": [
      "3-element Array{Int64,1}: [1, 2, 3]\n"
     ]
    }
   ],
   "source": [
    "# arrays can be initialised directly:\n",
    "a1 = [1, 2, 3]\n",
    "printsum(a1)"
   ]
  },
  {
   "cell_type": "code",
   "execution_count": 55,
   "metadata": {},
   "outputs": [
    {
     "name": "stdout",
     "output_type": "stream",
     "text": [
      "0-element Array{Any,1}: Any[]\n"
     ]
    }
   ],
   "source": [
    "# or initialised empty:\n",
    "a2 = []\n",
    "printsum(a2)"
   ]
  },
  {
   "cell_type": "code",
   "execution_count": 56,
   "metadata": {},
   "outputs": [
    {
     "name": "stdout",
     "output_type": "stream",
     "text": [
      "0-element Array{Int64,1}: Int64[]\n"
     ]
    }
   ],
   "source": [
    "# since this array has no type, functions like push! (see below) don't work\n",
    "# instead arrays can be initialised with a type:\n",
    "a3 = Int64[]\n",
    "printsum(a3)"
   ]
  },
  {
   "cell_type": "code",
   "execution_count": 57,
   "metadata": {},
   "outputs": [
    {
     "name": "stdout",
     "output_type": "stream",
     "text": [
      "20-element UnitRange{Int64}: 1:20\n"
     ]
    }
   ],
   "source": [
    "# ranges are different from arrays:\n",
    "a4 = 1:20\n",
    "printsum(a4)"
   ]
  },
  {
   "cell_type": "code",
   "execution_count": 58,
   "metadata": {},
   "outputs": [
    {
     "name": "stdout",
     "output_type": "stream",
     "text": [
      "20-element Array{Int64,1}: [1, 2, 3, 4, 5, 6, 7, 8, 9, 10, 11, 12, 13, 14, 15, 16, 17, 18, 19, 20]\n"
     ]
    }
   ],
   "source": [
    "# however they can be used to create arrays thus:\n",
    "a4 = collect(1:20)\n",
    "printsum(a4)"
   ]
  },
  {
   "cell_type": "code",
   "execution_count": 59,
   "metadata": {},
   "outputs": [
    {
     "name": "stdout",
     "output_type": "stream",
     "text": [
      "10-element Array{Int64,1}: [2, 4, 8, 16, 32, 64, 128, 256, 512, 1024]\n"
     ]
    }
   ],
   "source": [
    "# arrays can also be generated from comprehensions:\n",
    "a5 = [2^i for i = 1:10]\n",
    "printsum(a5)"
   ]
  },
  {
   "cell_type": "code",
   "execution_count": 60,
   "metadata": {},
   "outputs": [
    {
     "name": "stdout",
     "output_type": "stream",
     "text": [
      "0-element Array{Array{Int64,1},1}: Array{Int64,1}[]\n"
     ]
    }
   ],
   "source": [
    "# arrays can be any type, so arrays of arrays can be created:\n",
    "a6 = (Array{Int64, 1})[]\n",
    "printsum(a6)"
   ]
  },
  {
   "cell_type": "code",
   "execution_count": 61,
   "metadata": {},
   "outputs": [
    {
     "name": "stdout",
     "output_type": "stream",
     "text": [
      "4-element Array{Int64,1}: [1, 2, 3, 4]\n"
     ]
    }
   ],
   "source": [
    "# Julia provided a number of \"Dequeue\" functions, the most common for appending to the end of arrays is push!\n",
    "# ! at the end of a function name indicates that the first argument is updated.\n",
    "\n",
    "push!(a1, 4)\n",
    "printsum(a1)"
   ]
  },
  {
   "cell_type": "code",
   "execution_count": 62,
   "metadata": {},
   "outputs": [
    {
     "name": "stdout",
     "output_type": "stream",
     "text": [
      "1-element Array{Int64,1}: [1]\n"
     ]
    }
   ],
   "source": [
    "# push!(a2, 1) would cause error:\n",
    "\n",
    "push!(a3, 1)\n",
    "printsum(a3) #> 1-element Array{Int64,1}: [1]"
   ]
  },
  {
   "cell_type": "code",
   "execution_count": 63,
   "metadata": {},
   "outputs": [
    {
     "name": "stdout",
     "output_type": "stream",
     "text": [
      "1-element Array{Array{Int64,1},1}: Array{Int64,1}[[1, 2, 3]]\n"
     ]
    }
   ],
   "source": [
    "push!(a6, [1, 2, 3])\n",
    "printsum(a6)"
   ]
  },
  {
   "cell_type": "code",
   "execution_count": 64,
   "metadata": {},
   "outputs": [
    {
     "name": "stdout",
     "output_type": "stream",
     "text": [
      "8-element Array{Int64,1}: [1, 1, 2, 2, 3, 3, 4, 4]\n"
     ]
    }
   ],
   "source": [
    "# using repeat() to create arrays\n",
    "# you must use the keywords \"inner\" and \"outer\"\n",
    "# all arguments must be arrays (not ranges)\n",
    "a7 = repeat(a1,inner=[2],outer=[1])\n",
    "printsum(a7)"
   ]
  },
  {
   "cell_type": "code",
   "execution_count": 65,
   "metadata": {},
   "outputs": [
    {
     "name": "stdout",
     "output_type": "stream",
     "text": [
      "2-element Array{StepRange{Int64,Int64},1}: StepRange{Int64,Int64}[4:-1:1, 4:-1:1]\n"
     ]
    }
   ],
   "source": [
    "#> 8-element Array{Int64,1}: [1,1,2,2,3,3,4,4]\n",
    "a8 = repeat([4:-1:1],inner=[1],outer=[2])\n",
    "printsum(a8)"
   ]
  },
  {
   "cell_type": "markdown",
   "metadata": {},
   "source": [
    "## Error Handing"
   ]
  },
  {
   "cell_type": "code",
   "execution_count": 66,
   "metadata": {},
   "outputs": [
    {
     "name": "stdout",
     "output_type": "stream",
     "text": [
      "Continuing after error\n"
     ]
    }
   ],
   "source": [
    "a = []\n",
    "# try, catch can be used to deal with errors as with many other languages\n",
    "try\n",
    "    push!(a,1)\n",
    "catch err\n",
    "    showerror(STDOUT, err, backtrace());println()\n",
    "end\n",
    "println(\"Continuing after error\")"
   ]
  },
  {
   "cell_type": "markdown",
   "metadata": {},
   "source": [
    "## Multidimensional Arrays"
   ]
  },
  {
   "cell_type": "code",
   "execution_count": 67,
   "metadata": {},
   "outputs": [
    {
     "name": "stdout",
     "output_type": "stream",
     "text": [
      "12×3 Array{Int64,2}: [1 1 1; 2 1 1; 1 2 1; 2 2 2; 1 3 2; 2 3 2; 1 1 3; 2 1 3; 1 2 3; 2 2 4; 1 3 4; 2 3 4]\n"
     ]
    }
   ],
   "source": [
    "# repeat can be useful to expand a grid\n",
    "# as in R's expand.grid() function:\n",
    "\n",
    "m1 = hcat(repeat([1,2],inner=[1],outer=[3*2]),\n",
    "          repeat([1,2,3],inner=[2],outer=[2]),\n",
    "          repeat([1,2,3,4],inner=[3],outer=[1]))\n",
    "printsum(m1)"
   ]
  },
  {
   "cell_type": "code",
   "execution_count": 68,
   "metadata": {},
   "outputs": [
    {
     "name": "stdout",
     "output_type": "stream",
     "text": [
      "size: (12, 6)\n"
     ]
    }
   ],
   "source": [
    "# for simple repetitions of arrays,\n",
    "# use repmat\n",
    "m2 = repmat(m1,1,2)     # replicate a9 once into dim1 and twice into dim2\n",
    "println(\"size: \", size(m2))"
   ]
  },
  {
   "cell_type": "code",
   "execution_count": 69,
   "metadata": {},
   "outputs": [
    {
     "name": "stdout",
     "output_type": "stream",
     "text": [
      "size: (24, 3)\n"
     ]
    }
   ],
   "source": [
    "m3 = repmat(m1,2,1)     # replicate a9 twice into dim1 and once into dim2\n",
    "println(\"size: \", size(m3))"
   ]
  },
  {
   "cell_type": "code",
   "execution_count": 70,
   "metadata": {},
   "outputs": [
    {
     "data": {
      "text/plain": [
       "2×3×2 Array{String,3}:\n",
       "[:, :, 1] =\n",
       " \"Hi Im # 1\"  \"Hi Im # 3\"  \"Hi Im # 5\"\n",
       " \"Hi Im # 2\"  \"Hi Im # 4\"  \"Hi Im # 6\"\n",
       "\n",
       "[:, :, 2] =\n",
       " \"Hi Im # 7\"  \"Hi Im # 9\"   \"Hi Im # 11\"\n",
       " \"Hi Im # 8\"  \"Hi Im # 10\"  \"Hi Im # 12\""
      ]
     },
     "execution_count": 70,
     "metadata": {},
     "output_type": "execute_result"
    }
   ],
   "source": [
    "# Julia comprehensions are another way to easily create \n",
    "# multidimensional arrays\n",
    "\n",
    "m4 = [i+j+k for i=1:2, j=1:3, k=1:2] # creates a 2x3x2 array of Int64\n",
    "m5 = [\"Hi Im # $(i+2*(j-1 + 3*(k-1)))\" for i=1:2, j=1:3, k=1:2] # expressions are very flexible"
   ]
  },
  {
   "cell_type": "code",
   "execution_count": 71,
   "metadata": {},
   "outputs": [
    {
     "data": {
      "text/plain": [
       "2×3×1 Array{Int64,3}:\n",
       "[:, :, 1] =\n",
       " 7   9  11\n",
       " 9  11  13"
      ]
     },
     "execution_count": 71,
     "metadata": {},
     "output_type": "execute_result"
    }
   ],
   "source": [
    "sum(m4,3) "
   ]
  },
  {
   "cell_type": "code",
   "execution_count": 72,
   "metadata": {},
   "outputs": [
    {
     "data": {
      "text/plain": [
       "1×3×1 Array{Int64,3}:\n",
       "[:, :, 1] =\n",
       " 16  20  24"
      ]
     },
     "execution_count": 72,
     "metadata": {},
     "output_type": "execute_result"
    }
   ],
   "source": [
    "sum(m4,(1,3))"
   ]
  },
  {
   "cell_type": "code",
   "execution_count": 73,
   "metadata": {},
   "outputs": [
    {
     "data": {
      "text/plain": [
       "2×1×2 Array{Int64,3}:\n",
       "[:, :, 1] =\n",
       " 5\n",
       " 6\n",
       "\n",
       "[:, :, 2] =\n",
       " 6\n",
       " 7"
      ]
     },
     "execution_count": 73,
     "metadata": {},
     "output_type": "execute_result"
    }
   ],
   "source": [
    "maximum(m4,2) "
   ]
  },
  {
   "cell_type": "code",
   "execution_count": 74,
   "metadata": {},
   "outputs": [
    {
     "data": {
      "text/plain": [
       "([4 5 6; 5 6 7], [7 9 11; 8 10 12])"
      ]
     },
     "execution_count": 74,
     "metadata": {},
     "output_type": "execute_result"
    }
   ],
   "source": [
    "findmax(m4,3)"
   ]
  },
  {
   "cell_type": "code",
   "execution_count": 75,
   "metadata": {},
   "outputs": [
    {
     "data": {
      "text/plain": [
       "2×3×2 Array{Int64,3}:\n",
       "[:, :, 1] =\n",
       " 4  5  6\n",
       " 6  7  8\n",
       "\n",
       "[:, :, 2] =\n",
       " 5  6  7\n",
       " 7  8  9"
      ]
     },
     "execution_count": 75,
     "metadata": {},
     "output_type": "execute_result"
    }
   ],
   "source": [
    "# Broadcasting\n",
    "# when you combine arrays of different sizes in an operation,\n",
    "# an attempt is made to \"spread\" or \"broadcast\" the smaller array\n",
    "# so that the sizes match up. broadcast operators are preceded by a dot: \n",
    "\n",
    "m4 .+ 3       # add 3 to all elements\n",
    "m4 .+ [1,2]      # adds vector [1,2] to all elements along first dim"
   ]
  },
  {
   "cell_type": "code",
   "execution_count": 76,
   "metadata": {},
   "outputs": [
    {
     "data": {
      "text/plain": [
       "2×2 Array{Int64,2}:\n",
       " 4  5\n",
       " 5  6"
      ]
     },
     "execution_count": 76,
     "metadata": {},
     "output_type": "execute_result"
    }
   ],
   "source": [
    "# slices and views\n",
    "m4[:,:,1]  # holds dim 3 fixed and displays the resulting view\n",
    "m4[:,2,:]  # that's a 2x1x2 array. not very intuititive to look at"
   ]
  },
  {
   "cell_type": "code",
   "execution_count": 77,
   "metadata": {},
   "outputs": [
    {
     "name": "stdout",
     "output_type": "stream",
     "text": [
      "2×3×2 Array{Int64,3}: [4 2 2; 5 2 3]\n",
      "\n",
      "[4 5 6; 5 6 7]\n"
     ]
    }
   ],
   "source": [
    "# assign new values to a certain view\n",
    "m4[:,:,1] = rand(1:6,2,3)\n",
    "printsum(m4)"
   ]
  },
  {
   "cell_type": "code",
   "execution_count": 78,
   "metadata": {},
   "outputs": [
    {
     "name": "stdout",
     "output_type": "stream",
     "text": [
      "InexactError()\n"
     ]
    }
   ],
   "source": [
    "# (for more examples of try, catch see Error Handling above)\n",
    "try\n",
    "    # this will cause an error, you have to assign the correct type\n",
    "    m4[:,:,1] = rand(2,3)\n",
    "catch err\n",
    "    println(err)\n",
    "end"
   ]
  },
  {
   "cell_type": "code",
   "execution_count": 79,
   "metadata": {},
   "outputs": [
    {
     "name": "stdout",
     "output_type": "stream",
     "text": [
      "DimensionMismatch(\"tried to assign 3×2 array to 2×3×1 destination\")\n"
     ]
    }
   ],
   "source": [
    "try\n",
    "    # this will cause an error, you have to assign the right shape\n",
    "    m4[:,:,1] = rand(1:6,3,2)\n",
    "catch err\n",
    "    println(err)\n",
    "end"
   ]
  },
  {
   "cell_type": "markdown",
   "metadata": {},
   "source": [
    "## Dictionaries"
   ]
  },
  {
   "cell_type": "code",
   "execution_count": 80,
   "metadata": {},
   "outputs": [
    {
     "name": "stdout",
     "output_type": "stream",
     "text": [
      "Dict{Int64,String} with 2 entries: Dict(2=>\"two\",1=>\"one\")\n"
     ]
    }
   ],
   "source": [
    "# dicts can be initialised directly:\n",
    "a1 = Dict(1=>\"one\", 2=>\"two\")\n",
    "printsum(a1)"
   ]
  },
  {
   "cell_type": "code",
   "execution_count": 81,
   "metadata": {},
   "outputs": [
    {
     "name": "stdout",
     "output_type": "stream",
     "text": [
      "Dict{Int64,String} with 3 entries: Dict(2=>\"two\",3=>\"three\",1=>\"one\")\n"
     ]
    }
   ],
   "source": [
    "# then added to:\n",
    "a1[3]=\"three\"\n",
    "printsum(a1) #> Dict{Any,Any}: {2=>\"two\",3=>\"three\",1=>\"one\"}"
   ]
  },
  {
   "cell_type": "code",
   "execution_count": 82,
   "metadata": {},
   "outputs": [
    {
     "data": {
      "text/plain": [
       "\"zero\""
      ]
     },
     "execution_count": 82,
     "metadata": {},
     "output_type": "execute_result"
    }
   ],
   "source": [
    "# dicts may also be created with the type explicitly set\n",
    "a2 = Dict{Int64, AbstractString}()\n",
    "a2[0]=\"zero\""
   ]
  },
  {
   "cell_type": "code",
   "execution_count": 83,
   "metadata": {},
   "outputs": [
    {
     "name": "stdout",
     "output_type": "stream",
     "text": [
      "Dict{Int64,String} with 10 entries: Dict(7=>\"7\",4=>\"4\",9=>\"9\",10=>\"10\",2=>\"2\",3=>\"3\",5=>\"5\",8=>\"8\",6=>\"6\",1=>\"1\")\n"
     ]
    }
   ],
   "source": [
    "# dicts, like arrays, may also be created from comprehensions\n",
    "a3 = Dict([i => @sprintf(\"%d\", i) for i = 1:10])\n",
    "printsum(a3)"
   ]
  },
  {
   "cell_type": "code",
   "execution_count": 84,
   "metadata": {},
   "outputs": [
    {
     "name": "stdout",
     "output_type": "stream",
     "text": [
      "true\n"
     ]
    }
   ],
   "source": [
    "# as you would expect, Julia comes with all the normal helper functions\n",
    "# for dicts, e.g., haskey\n",
    "println(haskey(a1,1))"
   ]
  },
  {
   "cell_type": "code",
   "execution_count": 85,
   "metadata": {},
   "outputs": [
    {
     "name": "stdout",
     "output_type": "stream",
     "text": [
      "true\n"
     ]
    }
   ],
   "source": [
    "# which is equivalent to\n",
    "println(1 in keys(a1))"
   ]
  },
  {
   "cell_type": "code",
   "execution_count": 86,
   "metadata": {},
   "outputs": [
    {
     "name": "stdout",
     "output_type": "stream",
     "text": [
      "Base.ValueIterator for a Dict{Int64,String} with 3 entries: String[\"two\", \"three\", \"one\"]\n"
     ]
    }
   ],
   "source": [
    "# similar to keys, values get iterators over the dict's values:\n",
    "printsum(values(a1)) "
   ]
  },
  {
   "cell_type": "code",
   "execution_count": 87,
   "metadata": {},
   "outputs": [
    {
     "name": "stdout",
     "output_type": "stream",
     "text": [
      "3-element Array{String,1}: String[\"two\", \"three\", \"one\"]\n"
     ]
    }
   ],
   "source": [
    "# use collect to get an array:\n",
    "printsum(collect(values(a1)))"
   ]
  },
  {
   "cell_type": "markdown",
   "metadata": {},
   "source": [
    "## Loops and Map"
   ]
  },
  {
   "cell_type": "code",
   "execution_count": 88,
   "metadata": {},
   "outputs": [
    {
     "name": "stdout",
     "output_type": "stream",
     "text": [
      "1, 2, 3, 4, 5, "
     ]
    }
   ],
   "source": [
    "for i in 1:5\n",
    "    print(i, \", \")\n",
    "end"
   ]
  },
  {
   "cell_type": "code",
   "execution_count": 89,
   "metadata": {},
   "outputs": [
    {
     "name": "stdout",
     "output_type": "stream",
     "text": [
      "1, 2, 3, 4, 5, \n"
     ]
    }
   ],
   "source": [
    "# In loop definitions \"in\" is equivilent to \"=\" (AFAIK, the two are interchangable in this context)\n",
    "for i = 1:5\n",
    "    print(i, \", \")\n",
    "end\n",
    "println()"
   ]
  },
  {
   "cell_type": "code",
   "execution_count": 90,
   "metadata": {},
   "outputs": [
    {
     "name": "stdout",
     "output_type": "stream",
     "text": [
      "1, 2, 3, 4, \n"
     ]
    }
   ],
   "source": [
    "# arrays can also be looped over directly:\n",
    "a1 = [1,2,3,4]\n",
    "for i in a1\n",
    "    print(i, \", \")\n",
    "end\n",
    "println()"
   ]
  },
  {
   "cell_type": "code",
   "execution_count": 91,
   "metadata": {},
   "outputs": [
    {
     "name": "stdout",
     "output_type": "stream",
     "text": [
      "2, 4, 6, 8, \n"
     ]
    }
   ],
   "source": [
    "# continue and break work in the same way as python\n",
    "a2 = collect(1:20)\n",
    "for i in a2\n",
    "    if i % 2 != 0\n",
    "        continue\n",
    "    end\n",
    "    print(i, \", \")\n",
    "    if i >= 8\n",
    "        break\n",
    "    end\n",
    "end\n",
    "println()"
   ]
  },
  {
   "cell_type": "code",
   "execution_count": 92,
   "metadata": {},
   "outputs": [
    {
     "name": "stdout",
     "output_type": "stream",
     "text": [
      "4, 3, 2, 1, \n"
     ]
    }
   ],
   "source": [
    "# if the array is being manipulated during evaluation a while loop shoud be used\n",
    "# pop removes the last element from an array\n",
    "while !isempty(a1)\n",
    "    print(pop!(a1), \", \")\n",
    "end\n",
    "println()"
   ]
  },
  {
   "cell_type": "code",
   "execution_count": 93,
   "metadata": {},
   "outputs": [
    {
     "data": {
      "text/plain": [
       "Dict{Int64,String} with 3 entries:\n",
       "  2 => \"two\"\n",
       "  3 => \"three\"\n",
       "  1 => \"one\""
      ]
     },
     "execution_count": 93,
     "metadata": {},
     "output_type": "execute_result"
    }
   ],
   "source": [
    "d1 = Dict(1=>\"one\", 2=>\"two\", 3=>\"three\")"
   ]
  },
  {
   "cell_type": "code",
   "execution_count": 94,
   "metadata": {},
   "outputs": [
    {
     "name": "stdout",
     "output_type": "stream",
     "text": [
      "1: one, 2: two, 3: three, \n"
     ]
    }
   ],
   "source": [
    "# dicts may be looped through using the keys function:\n",
    "for k in sort(collect(keys(d1)))\n",
    "    print(k, \": \", d1[k], \", \")\n",
    "end\n",
    "println()"
   ]
  },
  {
   "cell_type": "code",
   "execution_count": 95,
   "metadata": {},
   "outputs": [
    {
     "name": "stdout",
     "output_type": "stream",
     "text": [
      "1: one, 2: two, 3: three, \n"
     ]
    }
   ],
   "source": [
    "# like python enumerate can be used to get both the index and value in a loop\n",
    "a3 = [\"one\", \"two\", \"three\"]\n",
    "for (i, v) in enumerate(a3)\n",
    "    print(i, \": \", v, \", \")\n",
    "end\n",
    "println()"
   ]
  },
  {
   "cell_type": "code",
   "execution_count": 96,
   "metadata": {},
   "outputs": [
    {
     "name": "stdout",
     "output_type": "stream",
     "text": [
      "[1, 4, 9, 49]"
     ]
    }
   ],
   "source": [
    "# map works as you might expect performing the given function on each member of an array or iter much like comprehensions\n",
    "a4 = map((x) -> x^2, [1, 2, 3, 7])\n",
    "print(a4)"
   ]
  },
  {
   "cell_type": "markdown",
   "metadata": {},
   "source": [
    "## Types"
   ]
  },
  {
   "cell_type": "code",
   "execution_count": 97,
   "metadata": {},
   "outputs": [],
   "source": [
    "# Type Definitions are probably most similar to tyepdefs in c?\n",
    "# a simple type with no special constructor functions might look like this\n",
    "type Person\n",
    "    name::AbstractString\n",
    "    male::Bool\n",
    "    age::Float64\n",
    "    children::Int\n",
    "end"
   ]
  },
  {
   "cell_type": "code",
   "execution_count": 98,
   "metadata": {},
   "outputs": [
    {
     "name": "stdout",
     "output_type": "stream",
     "text": [
      "Person: Person(\"Julia\", false, 4.0, 0)\n"
     ]
    }
   ],
   "source": [
    "p = Person(\"Julia\", false, 4, 0)\n",
    "printsum(p)"
   ]
  },
  {
   "cell_type": "code",
   "execution_count": 99,
   "metadata": {},
   "outputs": [
    {
     "name": "stdout",
     "output_type": "stream",
     "text": [
      "2-element Array{Person,1}: Person[Person(\"Steve\", true, 42.0, 0), Person(\"Jade\", false, 17.0, 3)]\n"
     ]
    }
   ],
   "source": [
    "people = Person[]\n",
    "push!(people, Person(\"Steve\", true, 42, 0))\n",
    "push!(people, Person(\"Jade\", false, 17, 3))\n",
    "printsum(people)"
   ]
  },
  {
   "cell_type": "code",
   "execution_count": 100,
   "metadata": {},
   "outputs": [
    {
     "name": "stdout",
     "output_type": "stream",
     "text": [
      "Family(\"blogs\", AbstractString[], false)\n"
     ]
    }
   ],
   "source": [
    "# types may also contains arrays and dicts\n",
    "# constructor functions can be defined to easily create objects\n",
    "type Family\n",
    "    name::AbstractString\n",
    "    members::Array{AbstractString, 1}\n",
    "    extended::Bool\n",
    "    # constructor that takes one argument and generates a default\n",
    "    # for the other two values\n",
    "    Family(name::AbstractString) = new(name, AbstractString[], false)\n",
    "    # constructor that takes two arguements and infers the third\n",
    "    Family(name::AbstractString, members) = new(name, members, length(members) > 3)\n",
    "end\n",
    "\n",
    "fam1 = Family(\"blogs\")\n",
    "println(fam1)"
   ]
  },
  {
   "cell_type": "code",
   "execution_count": 101,
   "metadata": {},
   "outputs": [
    {
     "name": "stdout",
     "output_type": "stream",
     "text": [
      "Family(\"jones\", AbstractString[\"anna\", \"bob\", \"charlie\", \"dick\"], true)\n"
     ]
    }
   ],
   "source": [
    "fam2 = Family(\"jones\", [\"anna\", \"bob\", \"charlie\", \"dick\"])\n",
    "println(fam2)"
   ]
  },
  {
   "cell_type": "markdown",
   "metadata": {},
   "source": [
    "## Input & Output"
   ]
  },
  {
   "cell_type": "code",
   "execution_count": 102,
   "metadata": {},
   "outputs": [
    {
     "name": "stdout",
     "output_type": "stream",
     "text": [
      "this is a simple file containingtext and numbers:43.317"
     ]
    }
   ],
   "source": [
    "fname = \"data/simple.dat\"\n",
    "\n",
    "# using do means the file is closed automatically\n",
    "# in the same way \"with\" does in python\n",
    "open(fname,\"r\") do f\n",
    "    for line in eachline(f)\n",
    "        print(line)\n",
    "    end\n",
    "end"
   ]
  },
  {
   "cell_type": "code",
   "execution_count": 103,
   "metadata": {},
   "outputs": [
    {
     "name": "stdout",
     "output_type": "stream",
     "text": [
      "String[\"this is a simple file containing\", \"text and numbers:\", \"43.3\", \"17\"]"
     ]
    }
   ],
   "source": [
    "f = open(fname,\"r\")\n",
    "showall(readlines(f))"
   ]
  },
  {
   "cell_type": "code",
   "execution_count": 104,
   "metadata": {},
   "outputs": [],
   "source": [
    "close(f)"
   ]
  },
  {
   "cell_type": "code",
   "execution_count": 105,
   "metadata": {},
   "outputs": [
    {
     "name": "stdout",
     "output_type": "stream",
     "text": [
      "59-element Array{UInt8,1}\n"
     ]
    }
   ],
   "source": [
    "f = open(fname,\"r\")\n",
    "fstring = read(f)\n",
    "close(f)\n",
    "println(summary(fstring))"
   ]
  },
  {
   "cell_type": "code",
   "execution_count": 106,
   "metadata": {},
   "outputs": [],
   "source": [
    "outfile = \"data/outfile.dat\"\n",
    "# writing to files is very similar:\n",
    "f = open(outfile, \"w\")\n",
    "# both print and println can be used as usual but with f as their first arugment\n",
    "println(f, \"some content\")\n",
    "print(f, \"more content\")\n",
    "print(f, \" more on the same line\")\n",
    "close(f)"
   ]
  },
  {
   "cell_type": "code",
   "execution_count": 107,
   "metadata": {},
   "outputs": [
    {
     "name": "stdout",
     "output_type": "stream",
     "text": [
      "IOStream(<file data/outfile.dat>)\n"
     ]
    }
   ],
   "source": [
    "outfile_content = open(outfile, \"r\")\n",
    "println(repr(outfile_content))"
   ]
  },
  {
   "cell_type": "markdown",
   "metadata": {},
   "source": [
    "## Packages and Including of Files"
   ]
  },
  {
   "cell_type": "code",
   "execution_count": 108,
   "metadata": {},
   "outputs": [
    {
     "data": {
      "text/plain": [
       "1645-element Array{AbstractString,1}:\n",
       " \"AbaqusReader\"          \n",
       " \"AbbrvKW\"               \n",
       " \"AbstractDomains\"       \n",
       " \"AbstractFFTs\"          \n",
       " \"AbstractNumbers\"       \n",
       " \"AbstractOperators\"     \n",
       " \"AbstractTables\"        \n",
       " \"AbstractTrees\"         \n",
       " \"Accumulo\"              \n",
       " \"ACME\"                  \n",
       " \"ActiveAppearanceModels\"\n",
       " \"Actors\"                \n",
       " \"ActuarialScience\"      \n",
       " ⋮                       \n",
       " \"YAML\"                  \n",
       " \"Yelp\"                  \n",
       " \"Yeppp\"                 \n",
       " \"YT\"                    \n",
       " \"ZChop\"                 \n",
       " \"Zeros\"                 \n",
       " \"ZipCode\"               \n",
       " \"ZipFile\"               \n",
       " \"ZippedArrays\"          \n",
       " \"Zlib\"                  \n",
       " \"ZMQ\"                   \n",
       " \"ZVSimulator\"           "
      ]
     },
     "execution_count": 108,
     "metadata": {},
     "output_type": "execute_result"
    }
   ],
   "source": [
    "# You might not want to run this file completely, as the Pkg-commands can take a\n",
    "# long time to complete.\n",
    "\n",
    "# list all available packages:\n",
    "Pkg.available()"
   ]
  },
  {
   "cell_type": "code",
   "execution_count": 109,
   "metadata": {},
   "outputs": [],
   "source": [
    "# install one package (e.g. Calculus) and all its dependencies:\n",
    "#Pkg.add(\"Calculus\")"
   ]
  },
  {
   "cell_type": "code",
   "execution_count": 110,
   "metadata": {},
   "outputs": [
    {
     "data": {
      "text/plain": [
       "Dict{String,VersionNumber} with 194 entries:\n",
       "  \"Interact\"             => v\"0.6.3\"\n",
       "  \"AxisAlgorithms\"       => v\"0.2.0\"\n",
       "  \"TableTraits\"          => v\"0.0.3\"\n",
       "  \"ZMQ\"                  => v\"0.5.1\"\n",
       "  \"NullableArrays\"       => v\"0.1.2\"\n",
       "  \"ColorVectorSpace\"     => v\"0.5.2\"\n",
       "  \"SweepOperator\"        => v\"0.1.0\"\n",
       "  \"Clustering\"           => v\"0.9.1\"\n",
       "  \"RecipesBase\"          => v\"0.2.3\"\n",
       "  \"Knet\"                 => v\"0.8.5\"\n",
       "  \"CodeTools\"            => v\"0.4.7\"\n",
       "  \"MNIST\"                => v\"0.0.2\"\n",
       "  \"AbstractFFTs\"         => v\"0.2.0\"\n",
       "  \"FixedPointNumbers\"    => v\"0.4.3\"\n",
       "  \"PooledArrays\"         => v\"0.1.1\"\n",
       "  \"Combinatorics\"        => v\"0.5.0\"\n",
       "  \"BufferedStreams\"      => v\"0.3.3\"\n",
       "  \"Polynomials\"          => v\"0.1.6\"\n",
       "  \"FileIO\"               => v\"0.6.1\"\n",
       "  \"ImageCore\"            => v\"0.5.0\"\n",
       "  \"CommonSubexpressions\" => v\"0.0.1\"\n",
       "  \"StatsBase\"            => v\"0.19.2\"\n",
       "  \"Hexagons\"             => v\"0.1.0\"\n",
       "  \"IJulia\"               => v\"1.6.2\"\n",
       "  \"Images\"               => v\"0.11.5\"\n",
       "  ⋮                      => ⋮"
      ]
     },
     "execution_count": 110,
     "metadata": {},
     "output_type": "execute_result"
    }
   ],
   "source": [
    "# to list all installed packages\n",
    "Pkg.installed()"
   ]
  },
  {
   "cell_type": "code",
   "execution_count": 111,
   "metadata": {},
   "outputs": [],
   "source": [
    "# to update all packages to their newest version\n",
    "#Pkg.update()"
   ]
  },
  {
   "cell_type": "code",
   "execution_count": 112,
   "metadata": {},
   "outputs": [
    {
     "data": {
      "text/plain": [
       "0.5403023058631036"
      ]
     },
     "execution_count": 112,
     "metadata": {},
     "output_type": "execute_result"
    }
   ],
   "source": [
    "# to use a package:\n",
    "using Calculus\n",
    "# will import all functions of that package into the current namespace, so that\n",
    "# it is possible to call\n",
    "derivative(x -> sin(x), 1.0)"
   ]
  },
  {
   "cell_type": "code",
   "execution_count": 113,
   "metadata": {},
   "outputs": [
    {
     "data": {
      "text/plain": [
       "-0.8414709847974693"
      ]
     },
     "execution_count": 113,
     "metadata": {},
     "output_type": "execute_result"
    }
   ],
   "source": [
    "import Calculus\n",
    "# will enable you to specify which package the function is called from\n",
    "Calculus.derivative(x -> cos(x), 1.0)"
   ]
  },
  {
   "cell_type": "code",
   "execution_count": 114,
   "metadata": {},
   "outputs": [],
   "source": [
    "# Using `import` is especially useful if there are conflicts in function/type-names\n",
    "# between packages."
   ]
  },
  {
   "cell_type": "markdown",
   "metadata": {},
   "source": [
    "## DataFrames"
   ]
  },
  {
   "cell_type": "code",
   "execution_count": 115,
   "metadata": {},
   "outputs": [],
   "source": [
    "using DataFrames"
   ]
  },
  {
   "cell_type": "code",
   "execution_count": 116,
   "metadata": {},
   "outputs": [
    {
     "data": {
      "text/plain": [
       "showln (generic function with 1 method)"
      ]
     },
     "execution_count": 116,
     "metadata": {},
     "output_type": "execute_result"
    }
   ],
   "source": [
    "showln(x) = (show(x); println())"
   ]
  },
  {
   "cell_type": "code",
   "execution_count": 117,
   "metadata": {},
   "outputs": [
    {
     "name": "stdout",
     "output_type": "stream",
     "text": [
      "2×3 DataFrames.DataFrame\n",
      "│ Row │ A │ B       │ C    │\n",
      "├─────┼───┼─────────┼──────┤\n",
      "│ 1   │ 1 │ 2.718   │ \"xx\" │\n",
      "│ 2   │ 2 │ 3.14159 │ \"xy\" │\n"
     ]
    }
   ],
   "source": [
    "df = DataFrame(A = [1, 2], B = [e, pi], C = [\"xx\", \"xy\"])\n",
    "showln(df)"
   ]
  },
  {
   "cell_type": "code",
   "execution_count": 118,
   "metadata": {},
   "outputs": [
    {
     "name": "stdout",
     "output_type": "stream",
     "text": [
      "[1, 2]\n"
     ]
    }
   ],
   "source": [
    "showln(df[1])"
   ]
  },
  {
   "cell_type": "code",
   "execution_count": 119,
   "metadata": {},
   "outputs": [
    {
     "name": "stdout",
     "output_type": "stream",
     "text": [
      "[1, 2]\n"
     ]
    }
   ],
   "source": [
    "showln(df[:A])"
   ]
  },
  {
   "cell_type": "code",
   "execution_count": 120,
   "metadata": {},
   "outputs": [
    {
     "name": "stdout",
     "output_type": "stream",
     "text": [
      "[2.718, 3.14159]\n"
     ]
    }
   ],
   "source": [
    "showln(df[2])"
   ]
  },
  {
   "cell_type": "code",
   "execution_count": 121,
   "metadata": {},
   "outputs": [
    {
     "name": "stdout",
     "output_type": "stream",
     "text": [
      "[2.718, 3.14159]\n"
     ]
    }
   ],
   "source": [
    "showln(df[:B])"
   ]
  },
  {
   "cell_type": "code",
   "execution_count": 122,
   "metadata": {},
   "outputs": [
    {
     "name": "stdout",
     "output_type": "stream",
     "text": [
      "String[\"xx\", \"xy\"]\n"
     ]
    }
   ],
   "source": [
    "showln(df[3])"
   ]
  },
  {
   "cell_type": "code",
   "execution_count": 123,
   "metadata": {},
   "outputs": [
    {
     "name": "stdout",
     "output_type": "stream",
     "text": [
      "String[\"xx\", \"xy\"]\n"
     ]
    }
   ],
   "source": [
    "showln(df[:C])"
   ]
  },
  {
   "cell_type": "code",
   "execution_count": 124,
   "metadata": {},
   "outputs": [
    {
     "name": "stdout",
     "output_type": "stream",
     "text": [
      "1×3 DataFrames.DataFrame\n",
      "│ Row │ A │ B     │ C    │\n",
      "├─────┼───┼───────┼──────┤\n",
      "│ 1   │ 1 │ 2.718 │ \"xx\" │\n"
     ]
    }
   ],
   "source": [
    "# The rows of a DataFrame can be indexed only by using numbers\n",
    "showln(df[1, :])"
   ]
  },
  {
   "cell_type": "code",
   "execution_count": 125,
   "metadata": {},
   "outputs": [
    {
     "name": "stdout",
     "output_type": "stream",
     "text": [
      "2×3 DataFrames.DataFrame\n",
      "│ Row │ A │ B       │ C    │\n",
      "├─────┼───┼─────────┼──────┤\n",
      "│ 1   │ 1 │ 2.718   │ \"xx\" │\n",
      "│ 2   │ 2 │ 3.14159 │ \"xy\" │\n"
     ]
    }
   ],
   "source": [
    "showln(df[1:2, :])"
   ]
  },
  {
   "cell_type": "code",
   "execution_count": 126,
   "metadata": {},
   "outputs": [
    {
     "data": {
      "text/html": [
       "<table class=\"data-frame\"><thead><tr><th></th><th>SepalLength</th><th>SepalWidth</th><th>PetalLength</th><th>PetalWidth</th><th>Species</th></tr></thead><tbody><tr><th>1</th><td>5.1</td><td>3.5</td><td>1.4</td><td>0.2</td><td>setosa</td></tr><tr><th>2</th><td>4.9</td><td>3.0</td><td>1.4</td><td>0.2</td><td>setosa</td></tr><tr><th>3</th><td>4.7</td><td>3.2</td><td>1.3</td><td>0.2</td><td>setosa</td></tr><tr><th>4</th><td>4.6</td><td>3.1</td><td>1.5</td><td>0.2</td><td>setosa</td></tr><tr><th>5</th><td>5.0</td><td>3.6</td><td>1.4</td><td>0.2</td><td>setosa</td></tr><tr><th>6</th><td>5.4</td><td>3.9</td><td>1.7</td><td>0.4</td><td>setosa</td></tr><tr><th>7</th><td>4.6</td><td>3.4</td><td>1.4</td><td>0.3</td><td>setosa</td></tr><tr><th>8</th><td>5.0</td><td>3.4</td><td>1.5</td><td>0.2</td><td>setosa</td></tr><tr><th>9</th><td>4.4</td><td>2.9</td><td>1.4</td><td>0.2</td><td>setosa</td></tr><tr><th>10</th><td>4.9</td><td>3.1</td><td>1.5</td><td>0.1</td><td>setosa</td></tr><tr><th>11</th><td>5.4</td><td>3.7</td><td>1.5</td><td>0.2</td><td>setosa</td></tr><tr><th>12</th><td>4.8</td><td>3.4</td><td>1.6</td><td>0.2</td><td>setosa</td></tr><tr><th>13</th><td>4.8</td><td>3.0</td><td>1.4</td><td>0.1</td><td>setosa</td></tr><tr><th>14</th><td>4.3</td><td>3.0</td><td>1.1</td><td>0.1</td><td>setosa</td></tr><tr><th>15</th><td>5.8</td><td>4.0</td><td>1.2</td><td>0.2</td><td>setosa</td></tr><tr><th>16</th><td>5.7</td><td>4.4</td><td>1.5</td><td>0.4</td><td>setosa</td></tr><tr><th>17</th><td>5.4</td><td>3.9</td><td>1.3</td><td>0.4</td><td>setosa</td></tr><tr><th>18</th><td>5.1</td><td>3.5</td><td>1.4</td><td>0.3</td><td>setosa</td></tr><tr><th>19</th><td>5.7</td><td>3.8</td><td>1.7</td><td>0.3</td><td>setosa</td></tr><tr><th>20</th><td>5.1</td><td>3.8</td><td>1.5</td><td>0.3</td><td>setosa</td></tr><tr><th>21</th><td>5.4</td><td>3.4</td><td>1.7</td><td>0.2</td><td>setosa</td></tr><tr><th>22</th><td>5.1</td><td>3.7</td><td>1.5</td><td>0.4</td><td>setosa</td></tr><tr><th>23</th><td>4.6</td><td>3.6</td><td>1.0</td><td>0.2</td><td>setosa</td></tr><tr><th>24</th><td>5.1</td><td>3.3</td><td>1.7</td><td>0.5</td><td>setosa</td></tr><tr><th>25</th><td>4.8</td><td>3.4</td><td>1.9</td><td>0.2</td><td>setosa</td></tr><tr><th>26</th><td>5.0</td><td>3.0</td><td>1.6</td><td>0.2</td><td>setosa</td></tr><tr><th>27</th><td>5.0</td><td>3.4</td><td>1.6</td><td>0.4</td><td>setosa</td></tr><tr><th>28</th><td>5.2</td><td>3.5</td><td>1.5</td><td>0.2</td><td>setosa</td></tr><tr><th>29</th><td>5.2</td><td>3.4</td><td>1.4</td><td>0.2</td><td>setosa</td></tr><tr><th>30</th><td>4.7</td><td>3.2</td><td>1.6</td><td>0.2</td><td>setosa</td></tr><tr><th>&vellip;</th><td>&vellip;</td><td>&vellip;</td><td>&vellip;</td><td>&vellip;</td><td>&vellip;</td></tr></tbody></table>"
      ],
      "text/plain": [
       "150×5 DataFrames.DataFrame\n",
       "│ Row │ SepalLength │ SepalWidth │ PetalLength │ PetalWidth │ Species     │\n",
       "├─────┼─────────────┼────────────┼─────────────┼────────────┼─────────────┤\n",
       "│ 1   │ 5.1         │ 3.5        │ 1.4         │ 0.2        │ \"setosa\"    │\n",
       "│ 2   │ 4.9         │ 3.0        │ 1.4         │ 0.2        │ \"setosa\"    │\n",
       "│ 3   │ 4.7         │ 3.2        │ 1.3         │ 0.2        │ \"setosa\"    │\n",
       "│ 4   │ 4.6         │ 3.1        │ 1.5         │ 0.2        │ \"setosa\"    │\n",
       "│ 5   │ 5.0         │ 3.6        │ 1.4         │ 0.2        │ \"setosa\"    │\n",
       "│ 6   │ 5.4         │ 3.9        │ 1.7         │ 0.4        │ \"setosa\"    │\n",
       "│ 7   │ 4.6         │ 3.4        │ 1.4         │ 0.3        │ \"setosa\"    │\n",
       "│ 8   │ 5.0         │ 3.4        │ 1.5         │ 0.2        │ \"setosa\"    │\n",
       "│ 9   │ 4.4         │ 2.9        │ 1.4         │ 0.2        │ \"setosa\"    │\n",
       "│ 10  │ 4.9         │ 3.1        │ 1.5         │ 0.1        │ \"setosa\"    │\n",
       "│ 11  │ 5.4         │ 3.7        │ 1.5         │ 0.2        │ \"setosa\"    │\n",
       "⋮\n",
       "│ 139 │ 6.0         │ 3.0        │ 4.8         │ 1.8        │ \"virginica\" │\n",
       "│ 140 │ 6.9         │ 3.1        │ 5.4         │ 2.1        │ \"virginica\" │\n",
       "│ 141 │ 6.7         │ 3.1        │ 5.6         │ 2.4        │ \"virginica\" │\n",
       "│ 142 │ 6.9         │ 3.1        │ 5.1         │ 2.3        │ \"virginica\" │\n",
       "│ 143 │ 5.8         │ 2.7        │ 5.1         │ 1.9        │ \"virginica\" │\n",
       "│ 144 │ 6.8         │ 3.2        │ 5.9         │ 2.3        │ \"virginica\" │\n",
       "│ 145 │ 6.7         │ 3.3        │ 5.7         │ 2.5        │ \"virginica\" │\n",
       "│ 146 │ 6.7         │ 3.0        │ 5.2         │ 2.3        │ \"virginica\" │\n",
       "│ 147 │ 6.3         │ 2.5        │ 5.0         │ 1.9        │ \"virginica\" │\n",
       "│ 148 │ 6.5         │ 3.0        │ 5.2         │ 2.0        │ \"virginica\" │\n",
       "│ 149 │ 6.2         │ 3.4        │ 5.4         │ 2.3        │ \"virginica\" │\n",
       "│ 150 │ 5.9         │ 3.0        │ 5.1         │ 1.8        │ \"virginica\" │"
      ]
     },
     "execution_count": 126,
     "metadata": {},
     "output_type": "execute_result"
    }
   ],
   "source": [
    "# DataFrames can be loaded from CSV files using readtable()\n",
    "iris = readtable(\"data/iris.csv\")"
   ]
  },
  {
   "cell_type": "code",
   "execution_count": 127,
   "metadata": {},
   "outputs": [
    {
     "name": "stdout",
     "output_type": "stream",
     "text": [
      "Symbol[:SepalLength, :SepalWidth, :PetalLength, :PetalWidth, :Species]\n"
     ]
    }
   ],
   "source": [
    "# Check the names and element types of the columns of our new DataFrame\n",
    "showln(names(iris))"
   ]
  },
  {
   "cell_type": "code",
   "execution_count": 128,
   "metadata": {},
   "outputs": [
    {
     "name": "stdout",
     "output_type": "stream",
     "text": [
      "Type[Float64, Float64, Float64, Float64, String]\n"
     ]
    }
   ],
   "source": [
    "showln(eltypes(iris))"
   ]
  },
  {
   "cell_type": "code",
   "execution_count": 129,
   "metadata": {},
   "outputs": [
    {
     "name": "stdout",
     "output_type": "stream",
     "text": [
      "50×5 DataFrames.DataFrame\n",
      "│ Row │ SepalLength │ SepalWidth │ PetalLength │ PetalWidth │ Species  │\n",
      "├─────┼─────────────┼────────────┼─────────────┼────────────┼──────────┤\n",
      "│ 1   │ 5.1         │ 3.5        │ 1.4         │ 0.2        │ \"setosa\" │\n",
      "│ 2   │ 4.9         │ 3.0        │ 1.4         │ 0.2        │ \"setosa\" │\n",
      "│ 3   │ 4.7         │ 3.2        │ 1.3         │ 0.2        │ \"setosa\" │\n",
      "│ 4   │ 4.6         │ 3.1        │ 1.5         │ 0.2        │ \"setosa\" │\n",
      "│ 5   │ 5.0         │ 3.6        │ 1.4         │ 0.2        │ \"setosa\" │\n",
      "│ 6   │ 5.4         │ 3.9        │ 1.7         │ 0.4        │ \"setosa\" │\n",
      "│ 7   │ 4.6         │ 3.4        │ 1.4         │ 0.3        │ \"setosa\" │\n",
      "│ 8   │ 5.0         │ 3.4        │ 1.5         │ 0.2        │ \"setosa\" │\n",
      "│ 9   │ 4.4         │ 2.9        │ 1.4         │ 0.2        │ \"setosa\" │\n",
      "│ 10  │ 4.9         │ 3.1        │ 1.5         │ 0.1        │ \"setosa\" │\n",
      "│ 11  │ 5.4         │ 3.7        │ 1.5         │ 0.2        │ \"setosa\" │\n",
      "⋮\n",
      "│ 39  │ 4.4         │ 3.0        │ 1.3         │ 0.2        │ \"setosa\" │\n",
      "│ 40  │ 5.1         │ 3.4        │ 1.5         │ 0.2        │ \"setosa\" │\n",
      "│ 41  │ 5.0         │ 3.5        │ 1.3         │ 0.3        │ \"setosa\" │\n",
      "│ 42  │ 4.5         │ 2.3        │ 1.3         │ 0.3        │ \"setosa\" │\n",
      "│ 43  │ 4.4         │ 3.2        │ 1.3         │ 0.2        │ \"setosa\" │\n",
      "│ 44  │ 5.0         │ 3.5        │ 1.6         │ 0.6        │ \"setosa\" │\n",
      "│ 45  │ 5.1         │ 3.8        │ 1.9         │ 0.4        │ \"setosa\" │\n",
      "│ 46  │ 4.8         │ 3.0        │ 1.4         │ 0.3        │ \"setosa\" │\n",
      "│ 47  │ 5.1         │ 3.8        │ 1.6         │ 0.2        │ \"setosa\" │\n",
      "│ 48  │ 4.6         │ 3.2        │ 1.4         │ 0.2        │ \"setosa\" │\n",
      "│ 49  │ 5.3         │ 3.7        │ 1.5         │ 0.2        │ \"setosa\" │\n",
      "│ 50  │ 5.0         │ 3.3        │ 1.4         │ 0.2        │ \"setosa\" │\n"
     ]
    }
   ],
   "source": [
    "# Subset the DataFrame to only include rows for one species\n",
    "showln(iris[iris[:Species] .== \"setosa\", :])"
   ]
  },
  {
   "cell_type": "code",
   "execution_count": 130,
   "metadata": {},
   "outputs": [
    {
     "name": "stdout",
     "output_type": "stream",
     "text": [
      "3×2 DataFrames.DataFrame\n",
      "│ Row │ Species      │ x1 │\n",
      "├─────┼──────────────┼────┤\n",
      "│ 1   │ \"setosa\"     │ 50 │\n",
      "│ 2   │ \"versicolor\" │ 50 │\n",
      "│ 3   │ \"virginica\"  │ 50 │\n"
     ]
    }
   ],
   "source": [
    "# Count the number of rows for each species\n",
    "showln(by(iris, :Species, df -> size(df, 1)))"
   ]
  },
  {
   "cell_type": "code",
   "execution_count": null,
   "metadata": {},
   "outputs": [],
   "source": []
  }
 ],
 "metadata": {
  "kernelspec": {
   "display_name": "Julia 0.6.2",
   "language": "julia",
   "name": "julia-0.6"
  },
  "language_info": {
   "file_extension": ".jl",
   "mimetype": "application/julia",
   "name": "julia",
   "version": "0.6.2"
  }
 },
 "nbformat": 4,
 "nbformat_minor": 2
}
