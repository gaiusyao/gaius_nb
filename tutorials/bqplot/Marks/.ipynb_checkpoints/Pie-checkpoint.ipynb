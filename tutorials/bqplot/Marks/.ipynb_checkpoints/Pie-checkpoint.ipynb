{
 "cells": [
  {
   "cell_type": "code",
   "execution_count": 1,
   "metadata": {
    "scrolled": true
   },
   "outputs": [],
   "source": [
    "from bqplot import Pie, Figure\n",
    "import numpy as np"
   ]
  },
  {
   "cell_type": "markdown",
   "metadata": {},
   "source": [
    "## Basic Pie Chart"
   ]
  },
  {
   "cell_type": "code",
   "execution_count": 2,
   "metadata": {
    "scrolled": true
   },
   "outputs": [
    {
     "data": {
      "application/vnd.jupyter.widget-view+json": {
       "model_id": "b00948e6fc9a414ebbaafb41fbfc426f",
       "version_major": 2,
       "version_minor": 0
      },
      "text/html": [
       "<p>Failed to display Jupyter Widget of type <code>Figure</code>.</p>\n",
       "<p>\n",
       "  If you're reading this message in the Jupyter Notebook or JupyterLab Notebook, it may mean\n",
       "  that the widgets JavaScript is still loading. If this message persists, it\n",
       "  likely means that the widgets JavaScript library is either not installed or\n",
       "  not enabled. See the <a href=\"https://ipywidgets.readthedocs.io/en/stable/user_install.html\">Jupyter\n",
       "  Widgets Documentation</a> for setup instructions.\n",
       "</p>\n",
       "<p>\n",
       "  If you're reading this message in another frontend (for example, a static\n",
       "  rendering on GitHub or <a href=\"https://nbviewer.jupyter.org/\">NBViewer</a>),\n",
       "  it may mean that your frontend doesn't currently support widgets.\n",
       "</p>\n"
      ],
      "text/plain": [
       "Figure(animation_duration=1000, fig_margin={'top': 60, 'bottom': 60, 'left': 60, 'right': 60}, layout=Layout(min_width='125px'), marks=[Pie(colors=['#1f77b4', '#ff7f0e', '#2ca02c', '#d62728', '#9467bd', '#8c564b', '#e377c2', '#7f7f7f', '#bcbd22', '#17becf'], display_labels='outside', interactions={'hover': 'tooltip'}, scales_metadata={'color': {'dimension': 'color'}}, sizes=array([0.36789253, 0.40929196, 0.41843594]), tooltip_style={'opacity': 0.9}, x=0.5, y=0.5)], scale_x=LinearScale(allow_padding=False, max=1.0, min=0.0), scale_y=LinearScale(allow_padding=False, max=1.0, min=0.0))"
      ]
     },
     "metadata": {},
     "output_type": "display_data"
    }
   ],
   "source": [
    "data = np.random.rand(3)\n",
    "pie = Pie(sizes=data, display_labels='outside')\n",
    "# Set `animation_duration` (in milliseconds) to have smooth transitions\n",
    "fig = Figure(marks=[pie], animation_duration=1000)\n",
    "fig"
   ]
  },
  {
   "cell_type": "markdown",
   "metadata": {},
   "source": [
    "### Update Data"
   ]
  },
  {
   "cell_type": "code",
   "execution_count": 3,
   "metadata": {
    "scrolled": true
   },
   "outputs": [],
   "source": [
    "n = np.random.randint(1, 10)\n",
    "pie.sizes = np.random.rand(n)"
   ]
  },
  {
   "cell_type": "markdown",
   "metadata": {},
   "source": [
    "### Display Values"
   ]
  },
  {
   "cell_type": "code",
   "execution_count": 4,
   "metadata": {
    "scrolled": true
   },
   "outputs": [],
   "source": [
    "with pie.hold_sync():\n",
    "    pie.display_values = True\n",
    "    pie.values_format = '.1f'"
   ]
  },
  {
   "cell_type": "markdown",
   "metadata": {},
   "source": [
    "### Enable sort "
   ]
  },
  {
   "cell_type": "code",
   "execution_count": 5,
   "metadata": {
    "scrolled": true
   },
   "outputs": [],
   "source": [
    "pie.sort = True"
   ]
  },
  {
   "cell_type": "markdown",
   "metadata": {},
   "source": [
    "### Set different styles for selected slices"
   ]
  },
  {
   "cell_type": "code",
   "execution_count": 6,
   "metadata": {
    "scrolled": true
   },
   "outputs": [],
   "source": [
    "pie.selected_style = {\"opacity\": \"1\", \"stroke\": \"white\", \"stroke-width\": \"2\"}\n",
    "pie.unselected_style = {\"opacity\": \"0.2\"}\n",
    "pie.selected = [1]"
   ]
  },
  {
   "cell_type": "code",
   "execution_count": 7,
   "metadata": {
    "scrolled": true
   },
   "outputs": [],
   "source": [
    "pie.selected = None"
   ]
  },
  {
   "cell_type": "markdown",
   "metadata": {},
   "source": [
    "### Update labels"
   ]
  },
  {
   "cell_type": "code",
   "execution_count": 8,
   "metadata": {
    "scrolled": true
   },
   "outputs": [],
   "source": [
    "pie.labels = list('ABCDEF')"
   ]
  },
  {
   "cell_type": "markdown",
   "metadata": {},
   "source": [
    "For more on piechart interactions, see the [Mark Interactions notebook](../Interactions/Mark Interactions.ipynb)"
   ]
  },
  {
   "cell_type": "markdown",
   "metadata": {},
   "source": [
    "### Modify label styling"
   ]
  },
  {
   "cell_type": "code",
   "execution_count": 9,
   "metadata": {
    "scrolled": true
   },
   "outputs": [],
   "source": [
    "pie.label_color = 'Red'\n",
    "pie.font_size = '20px'\n",
    "pie.font_weight = 'bold'"
   ]
  },
  {
   "cell_type": "markdown",
   "metadata": {},
   "source": [
    "### Update pie shape and style"
   ]
  },
  {
   "cell_type": "code",
   "execution_count": 10,
   "metadata": {
    "scrolled": true
   },
   "outputs": [
    {
     "data": {
      "application/vnd.jupyter.widget-view+json": {
       "model_id": "00d21f37d020430d9531c639becb714b",
       "version_major": 2,
       "version_minor": 0
      },
      "text/html": [
       "<p>Failed to display Jupyter Widget of type <code>Figure</code>.</p>\n",
       "<p>\n",
       "  If you're reading this message in the Jupyter Notebook or JupyterLab Notebook, it may mean\n",
       "  that the widgets JavaScript is still loading. If this message persists, it\n",
       "  likely means that the widgets JavaScript library is either not installed or\n",
       "  not enabled. See the <a href=\"https://ipywidgets.readthedocs.io/en/stable/user_install.html\">Jupyter\n",
       "  Widgets Documentation</a> for setup instructions.\n",
       "</p>\n",
       "<p>\n",
       "  If you're reading this message in another frontend (for example, a static\n",
       "  rendering on GitHub or <a href=\"https://nbviewer.jupyter.org/\">NBViewer</a>),\n",
       "  it may mean that your frontend doesn't currently support widgets.\n",
       "</p>\n"
      ],
      "text/plain": [
       "Figure(animation_duration=1000, fig_margin={'top': 60, 'bottom': 60, 'left': 60, 'right': 60}, layout=Layout(min_width='125px'), marks=[Pie(colors=['#1f77b4', '#ff7f0e', '#2ca02c', '#d62728', '#9467bd', '#8c564b', '#e377c2', '#7f7f7f', '#bcbd22', '#17becf'], inner_radius=0.05, interactions={'hover': 'tooltip'}, scales_metadata={'color': {'dimension': 'color'}}, sizes=array([0.69682603, 0.79178014, 0.14665474, 0.36834391, 0.46446862,\n",
       "       0.59642867]), tooltip_style={'opacity': 0.9}, x=0.5, y=0.5)], scale_x=LinearScale(allow_padding=False, max=1.0, min=0.0), scale_y=LinearScale(allow_padding=False, max=1.0, min=0.0))"
      ]
     },
     "metadata": {},
     "output_type": "display_data"
    }
   ],
   "source": [
    "pie1 = Pie(sizes=np.random.rand(6), inner_radius=0.05)\n",
    "fig1 = Figure(marks=[pie1], animation_duration=1000)\n",
    "fig1"
   ]
  },
  {
   "cell_type": "markdown",
   "metadata": {},
   "source": [
    "### Change pie dimensions"
   ]
  },
  {
   "cell_type": "code",
   "execution_count": 11,
   "metadata": {
    "scrolled": true
   },
   "outputs": [],
   "source": [
    "# As of now, the radius sizes are absolute, in pixels\n",
    "with pie1.hold_sync():\n",
    "    pie1.radius = 150\n",
    "    pie1.inner_radius = 100"
   ]
  },
  {
   "cell_type": "code",
   "execution_count": 12,
   "metadata": {
    "scrolled": true
   },
   "outputs": [],
   "source": [
    "# Angles are in radians, 0 being the top vertical\n",
    "with pie1.hold_sync():\n",
    "    pie1.start_angle = -180\n",
    "    pie1.end_angle = 180"
   ]
  },
  {
   "cell_type": "markdown",
   "metadata": {},
   "source": [
    "### Move the pie around\n",
    "`x` and `y` attributes control the position of the pie in the figure.\n",
    "If no scales are passed for `x` and `y`, they are taken in absolute \n",
    "figure coordinates, between 0 and 1."
   ]
  },
  {
   "cell_type": "code",
   "execution_count": 13,
   "metadata": {
    "scrolled": true
   },
   "outputs": [],
   "source": [
    "pie1.y = 0.1\n",
    "pie1.x = 0.6\n",
    "pie1.radius = 180"
   ]
  },
  {
   "cell_type": "markdown",
   "metadata": {},
   "source": [
    "### Change slice styles\n",
    "Pie slice colors cycle through the `colors` and `opacities` attribute, as the `Lines` Mark."
   ]
  },
  {
   "cell_type": "code",
   "execution_count": 14,
   "metadata": {
    "scrolled": true
   },
   "outputs": [
    {
     "data": {
      "application/vnd.jupyter.widget-view+json": {
       "model_id": "00d21f37d020430d9531c639becb714b",
       "version_major": 2,
       "version_minor": 0
      },
      "text/html": [
       "<p>Failed to display Jupyter Widget of type <code>Figure</code>.</p>\n",
       "<p>\n",
       "  If you're reading this message in the Jupyter Notebook or JupyterLab Notebook, it may mean\n",
       "  that the widgets JavaScript is still loading. If this message persists, it\n",
       "  likely means that the widgets JavaScript library is either not installed or\n",
       "  not enabled. See the <a href=\"https://ipywidgets.readthedocs.io/en/stable/user_install.html\">Jupyter\n",
       "  Widgets Documentation</a> for setup instructions.\n",
       "</p>\n",
       "<p>\n",
       "  If you're reading this message in another frontend (for example, a static\n",
       "  rendering on GitHub or <a href=\"https://nbviewer.jupyter.org/\">NBViewer</a>),\n",
       "  it may mean that your frontend doesn't currently support widgets.\n",
       "</p>\n"
      ],
      "text/plain": [
       "Figure(animation_duration=1000, fig_margin={'top': 60, 'bottom': 60, 'left': 60, 'right': 60}, layout=Layout(min_width='125px'), marks=[Pie(colors=['orange', 'darkviolet'], end_angle=180.0, inner_radius=100.0, interactions={'hover': 'tooltip'}, opacities=[0.1, 1.0], scales_metadata={'color': {'dimension': 'color'}}, sizes=array([0.69682603, 0.79178014, 0.14665474, 0.36834391, 0.46446862,\n",
       "       0.59642867]), start_angle=-180.0, stroke='brown', tooltip_style={'opacity': 0.9}, x=0.6, y=0.1)], scale_x=LinearScale(allow_padding=False, max=1.0, min=0.0), scale_y=LinearScale(allow_padding=False, max=1.0, min=0.0))"
      ]
     },
     "metadata": {},
     "output_type": "display_data"
    }
   ],
   "source": [
    "pie1.stroke = 'brown'\n",
    "pie1.colors = ['orange', 'darkviolet']\n",
    "pie1.opacities = [.1, 1]\n",
    "fig1"
   ]
  },
  {
   "cell_type": "markdown",
   "metadata": {},
   "source": [
    "## Represent an additional dimension using Color"
   ]
  },
  {
   "cell_type": "markdown",
   "metadata": {},
   "source": [
    "The `Pie` allows for its colors to be determined by data, that is passed to the `color` attribute. \n",
    "A `ColorScale` with the desired color scheme must also be passed."
   ]
  },
  {
   "cell_type": "code",
   "execution_count": 15,
   "metadata": {
    "scrolled": true
   },
   "outputs": [
    {
     "data": {
      "application/vnd.jupyter.widget-view+json": {
       "model_id": "18e5f45f54984130afa6999b0d5a34d6",
       "version_major": 2,
       "version_minor": 0
      },
      "text/html": [
       "<p>Failed to display Jupyter Widget of type <code>Figure</code>.</p>\n",
       "<p>\n",
       "  If you're reading this message in the Jupyter Notebook or JupyterLab Notebook, it may mean\n",
       "  that the widgets JavaScript is still loading. If this message persists, it\n",
       "  likely means that the widgets JavaScript library is either not installed or\n",
       "  not enabled. See the <a href=\"https://ipywidgets.readthedocs.io/en/stable/user_install.html\">Jupyter\n",
       "  Widgets Documentation</a> for setup instructions.\n",
       "</p>\n",
       "<p>\n",
       "  If you're reading this message in another frontend (for example, a static\n",
       "  rendering on GitHub or <a href=\"https://nbviewer.jupyter.org/\">NBViewer</a>),\n",
       "  it may mean that your frontend doesn't currently support widgets.\n",
       "</p>\n"
      ],
      "text/plain": [
       "Figure(axes=[ColorAxis(scale=ColorScale(scheme='Reds'))], fig_margin={'top': 60, 'bottom': 60, 'left': 60, 'right': 60}, layout=Layout(min_width='125px'), marks=[Pie(color=array([ 0.41635475, -0.59577583,  0.16634921, -1.01592618,  0.5009233 ,\n",
       "        0.59044396,  0.47563135]), colors=['#1f77b4', '#ff7f0e', '#2ca02c', '#d62728', '#9467bd', '#8c564b', '#e377c2', '#7f7f7f', '#bcbd22', '#17becf'], interactions={'hover': 'tooltip'}, scales={'color': ColorScale(scheme='Reds')}, scales_metadata={'color': {'dimension': 'color'}}, sizes=array([0.79918147, 0.98971828, 0.90952626, 0.52695931, 0.64099014,\n",
       "       0.86181077, 0.97022578]), tooltip_style={'opacity': 0.9}, x=0.5, y=0.5)], scale_x=LinearScale(allow_padding=False, max=1.0, min=0.0), scale_y=LinearScale(allow_padding=False, max=1.0, min=0.0))"
      ]
     },
     "metadata": {},
     "output_type": "display_data"
    }
   ],
   "source": [
    "from bqplot import ColorScale, ColorAxis\n",
    "\n",
    "Nslices = 7\n",
    "size_data = np.random.rand(Nslices)\n",
    "color_data = np.random.randn(Nslices)\n",
    "\n",
    "sc = ColorScale(scheme='Reds')\n",
    "# The ColorAxis gives a visual representation of its ColorScale\n",
    "ax = ColorAxis(scale=sc)\n",
    "\n",
    "pie2 = Pie(sizes=size_data, scales={'color': sc}, color=color_data)\n",
    "Figure(marks=[pie2], axes=[ax])"
   ]
  },
  {
   "cell_type": "markdown",
   "metadata": {},
   "source": [
    "## Position the Pie using custom scales"
   ]
  },
  {
   "cell_type": "markdown",
   "metadata": {},
   "source": [
    "Pies can be positioned, via the `x` and `y` attributes, \n",
    "using either absolute figure scales or custom 'x' or 'y' scales"
   ]
  },
  {
   "cell_type": "code",
   "execution_count": 16,
   "metadata": {
    "scrolled": true
   },
   "outputs": [
    {
     "data": {
      "application/vnd.jupyter.widget-view+json": {
       "model_id": "c49572661b8b4cfcbb5e14eabde1124a",
       "version_major": 2,
       "version_minor": 0
      },
      "text/html": [
       "<p>Failed to display Jupyter Widget of type <code>Figure</code>.</p>\n",
       "<p>\n",
       "  If you're reading this message in the Jupyter Notebook or JupyterLab Notebook, it may mean\n",
       "  that the widgets JavaScript is still loading. If this message persists, it\n",
       "  likely means that the widgets JavaScript library is either not installed or\n",
       "  not enabled. See the <a href=\"https://ipywidgets.readthedocs.io/en/stable/user_install.html\">Jupyter\n",
       "  Widgets Documentation</a> for setup instructions.\n",
       "</p>\n",
       "<p>\n",
       "  If you're reading this message in another frontend (for example, a static\n",
       "  rendering on GitHub or <a href=\"https://nbviewer.jupyter.org/\">NBViewer</a>),\n",
       "  it may mean that your frontend doesn't currently support widgets.\n",
       "</p>\n"
      ],
      "text/plain": [
       "Figure(axes=[Axis(label='month', scale=DateScale(), tick_format='%b'), Axis(label='average temperature', orientation='vertical', scale=LinearScale())], fig_margin={'top': 60, 'bottom': 60, 'left': 60, 'right': 60}, layout=Layout(min_width='125px'), marks=[Pie(colors=['navy', 'navy'], display_labels='none', interactions={'hover': 'tooltip'}, opacities=[1.0, 0.1], radius=30.0, scales={'x': DateScale(), 'y': LinearScale()}, scales_metadata={'color': {'dimension': 'color'}}, sizes=array([0.06666667, 0.93333333]), stroke='navy', tooltip_style={'opacity': 0.9}, x=datetime.datetime(2010, 1, 1, 0, 0), y=9.0), Pie(colors=['navy', 'navy'], display_labels='none', interactions={'hover': 'tooltip'}, opacities=[1.0, 0.1], radius=30.0, scales={'x': DateScale(), 'y': LinearScale()}, scales_metadata={'color': {'dimension': 'color'}}, sizes=array([0.1, 0.9]), stroke='navy', tooltip_style={'opacity': 0.9}, x=datetime.datetime(2010, 2, 1, 0, 0), y=12.0), Pie(colors=['navy', 'navy'], display_labels='none', interactions={'hover': 'tooltip'}, opacities=[1.0, 0.1], radius=30.0, scales={'x': DateScale(), 'y': LinearScale()}, scales_metadata={'color': {'dimension': 'color'}}, sizes=array([0.13333333, 0.86666667]), stroke='navy', tooltip_style={'opacity': 0.9}, x=datetime.datetime(2010, 3, 1, 0, 0), y=16.0), Pie(colors=['navy', 'navy'], display_labels='none', interactions={'hover': 'tooltip'}, opacities=[1.0, 0.1], radius=30.0, scales={'x': DateScale(), 'y': LinearScale()}, scales_metadata={'color': {'dimension': 'color'}}, sizes=array([0.2, 0.8]), stroke='navy', tooltip_style={'opacity': 0.9}, x=datetime.datetime(2010, 4, 1, 0, 0), y=20.0), Pie(colors=['navy', 'navy'], display_labels='none', interactions={'hover': 'tooltip'}, opacities=[1.0, 0.1], radius=30.0, scales={'x': DateScale(), 'y': LinearScale()}, scales_metadata={'color': {'dimension': 'color'}}, sizes=array([0.4, 0.6]), stroke='navy', tooltip_style={'opacity': 0.9}, x=datetime.datetime(2010, 5, 1, 0, 0), y=22.0), Pie(colors=['navy', 'navy'], display_labels='none', interactions={'hover': 'tooltip'}, opacities=[1.0, 0.1], radius=30.0, scales={'x': DateScale(), 'y': LinearScale()}, scales_metadata={'color': {'dimension': 'color'}}, sizes=array([0.56666667, 0.43333333]), stroke='navy', tooltip_style={'opacity': 0.9}, x=datetime.datetime(2010, 6, 1, 0, 0), y=23.0), Pie(colors=['navy', 'navy'], display_labels='none', interactions={'hover': 'tooltip'}, opacities=[1.0, 0.1], radius=30.0, scales={'x': DateScale(), 'y': LinearScale()}, scales_metadata={'color': {'dimension': 'color'}}, sizes=array([0.76666667, 0.23333333]), stroke='navy', tooltip_style={'opacity': 0.9}, x=datetime.datetime(2010, 7, 1, 0, 0), y=22.0), Pie(colors=['navy', 'navy'], display_labels='none', interactions={'hover': 'tooltip'}, opacities=[1.0, 0.1], radius=30.0, scales={'x': DateScale(), 'y': LinearScale()}, scales_metadata={'color': {'dimension': 'color'}}, sizes=array([0.73333333, 0.26666667]), stroke='navy', tooltip_style={'opacity': 0.9}, x=datetime.datetime(2010, 8, 1, 0, 0), y=22.0), Pie(colors=['navy', 'navy'], display_labels='none', interactions={'hover': 'tooltip'}, opacities=[1.0, 0.1], radius=30.0, scales={'x': DateScale(), 'y': LinearScale()}, scales_metadata={'color': {'dimension': 'color'}}, sizes=array([0.5, 0.5]), stroke='navy', tooltip_style={'opacity': 0.9}, x=datetime.datetime(2010, 9, 1, 0, 0), y=22.0), Pie(colors=['navy', 'navy'], display_labels='none', interactions={'hover': 'tooltip'}, opacities=[1.0, 0.1], radius=30.0, scales={'x': DateScale(), 'y': LinearScale()}, scales_metadata={'color': {'dimension': 'color'}}, sizes=array([0.13333333, 0.86666667]), stroke='navy', tooltip_style={'opacity': 0.9}, x=datetime.datetime(2010, 10, 1, 0, 0), y=20.0), Pie(colors=['navy', 'navy'], display_labels='none', interactions={'hover': 'tooltip'}, opacities=[1.0, 0.1], radius=30.0, scales={'x': DateScale(), 'y': LinearScale()}, scales_metadata={'color': {'dimension': 'color'}}, sizes=array([0.03333333, 0.96666667]), stroke='navy', tooltip_style={'opacity': 0.9}, x=datetime.datetime(2010, 11, 1, 0, 0), y=15.0), Pie(colors=['navy', 'navy'], display_labels='none', interactions={'hover': 'tooltip'}, opacities=[1.0, 0.1], radius=30.0, scales={'x': DateScale(), 'y': LinearScale()}, scales_metadata={'color': {'dimension': 'color'}}, sizes=array([0.03333333, 0.96666667]), stroke='navy', tooltip_style={'opacity': 0.9}, x=datetime.datetime(2010, 12, 1, 0, 0), y=11.0)], padding_x=0.05, padding_y=0.1, scale_x=LinearScale(allow_padding=False, max=1.0, min=0.0), scale_y=LinearScale(allow_padding=False, max=1.0, min=0.0), title='Kathmandu precipitation')"
      ]
     },
     "metadata": {},
     "output_type": "display_data"
    }
   ],
   "source": [
    "from datetime import datetime\n",
    "from bqplot.traits import convert_to_date\n",
    "from bqplot import DateScale, LinearScale, Axis\n",
    "\n",
    "avg_precipitation_days = [(d/30., 1-d/30.) for d in [2, 3, 4, 6, 12, 17, 23, 22, 15, 4, 1, 1]]\n",
    "temperatures = [9, 12, 16, 20, 22, 23, 22, 22, 22, 20, 15, 11]\n",
    "\n",
    "dates = [datetime(2010, k, 1) for k in range(1, 13)]\n",
    "\n",
    "sc_x = DateScale()\n",
    "sc_y = LinearScale()\n",
    "ax_x = Axis(scale=sc_x, label='month', tick_format='%b')\n",
    "ax_y = Axis(scale=sc_y, orientation='vertical', label='average temperature')\n",
    "\n",
    "pies = [Pie(sizes=precipit, x=date, y=temp,display_labels='none',\n",
    "            scales={\"x\": sc_x, \"y\": sc_y}, radius=30., stroke='navy',\n",
    "            colors=['navy', 'navy'], opacities=[1, .1]) \n",
    "        for precipit, date, temp in zip(avg_precipitation_days, dates, temperatures)]\n",
    "\n",
    "Figure(title='Kathmandu precipitation', marks=pies, axes=[ax_x, ax_y],\n",
    "       padding_x=.05, padding_y=.1)"
   ]
  },
  {
   "cell_type": "code",
   "execution_count": null,
   "metadata": {},
   "outputs": [],
   "source": []
  },
  {
   "cell_type": "code",
   "execution_count": null,
   "metadata": {},
   "outputs": [],
   "source": []
  }
 ],
 "metadata": {
  "hide_input": false,
  "kernelspec": {
   "display_name": "Python 3",
   "language": "python",
   "name": "python3"
  },
  "language_info": {
   "codemirror_mode": {
    "name": "ipython",
    "version": 3
   },
   "file_extension": ".py",
   "mimetype": "text/x-python",
   "name": "python",
   "nbconvert_exporter": "python",
   "pygments_lexer": "ipython3",
   "version": "3.6.4"
  }
 },
 "nbformat": 4,
 "nbformat_minor": 1
}
