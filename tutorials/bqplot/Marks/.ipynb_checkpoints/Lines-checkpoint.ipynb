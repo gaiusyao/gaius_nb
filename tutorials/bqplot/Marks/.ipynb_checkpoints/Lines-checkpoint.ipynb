{
 "cells": [
  {
   "cell_type": "markdown",
   "metadata": {},
   "source": [
    "## The `Lines` Mark\n",
    "\n",
    "`Lines` is a `Mark` object that is primarily used to visualize quantitative data. It works particularly well for continuous data, or when the shape of the data needs to be extracted."
   ]
  },
  {
   "cell_type": "markdown",
   "metadata": {},
   "source": [
    "### Introduction\n",
    "\n",
    "The `Lines` object provides the following features:\n",
    "\n",
    "1. Ability to plot a single set or multiple sets of y-values as a function of a set or multiple sets of x-values\n",
    "2. Ability to style the line object in different ways, by setting different attributes such as the `colors`, `line_style`, `stroke_width` etc.\n",
    "3. Ability to specify a marker at each point passed to the line. The marker can be a shape which is at the data points between which the line is interpolated and can be set through the `markers` attribute"
   ]
  },
  {
   "cell_type": "markdown",
   "metadata": {},
   "source": [
    "The `Lines` object has the following attributes"
   ]
  },
  {
   "cell_type": "markdown",
   "metadata": {},
   "source": [
    " | Attribute |  Description | Default Value  |\n",
    "|:-:|---|:-:|\n",
    "|  `colors` | Sets the color of each line, takes as input a list of any RGB, HEX, or HTML color name  | `CATEGORY10`  |\n",
    "| `opacities`  | Controls the opacity of each line, takes as input a real number between 0 and 1  | `1.0`  |\n",
    "| `stroke_width`  | Real number which sets the width of all paths  | `2.0`  |\n",
    "| `line_style`  | Specifies whether a line is solid, dashed, dotted or both dashed and dotted  | `'solid'`  |\n",
    "| `interpolation`  | Sets the type of interpolation between two points  | `'linear'`  |\n",
    "| `marker`  | Specifies the shape of the marker inserted at each data point  | `None`  |\n",
    "| `marker_size`  | Controls the size of the marker, takes as input a non-negative integer  | `64`  |\n",
    "|`close_path`| Controls whether to close the paths or not | `False` |\n",
    "|`fill`| Specifies in which way the paths are filled. Can be set to one of `{'none', 'bottom', 'top', 'inside'}`| `None` |\n",
    "|`fill_colors`| `List` that specifies the `fill` colors of each path | `[]` |                                                                         \n",
    "| **Data Attribute** |  **Description** | **Default Value**  |\n",
    "|`x` |abscissas of the data points | `array([])` |\n",
    "|`y` |ordinates of the data points | `array([])` |\n",
    "|`color` | Data according to which the `Lines` will be colored. Setting it to `None` defaults the choice of colors to the `colors` attribute | `None` |"
   ]
  },
  {
   "cell_type": "markdown",
   "metadata": {},
   "source": [
    "To explore more features, run the following lines of code:\n",
    "    \n",
    "```python\n",
    "from bqplot import Lines\n",
    "?Lines\n",
    "```\n",
    "\n",
    "or visit the [`Lines` documentation page](http://bqplot.readthedocs.io/en/stable/_generate/bqplot.marks.Lines.html#bqplot.marks.Lines)"
   ]
  },
  {
   "cell_type": "markdown",
   "metadata": {},
   "source": [
    "**Let's explore these features one by one**"
   ]
  },
  {
   "cell_type": "markdown",
   "metadata": {},
   "source": [
    "We begin by importing the modules that we will need in this example"
   ]
  },
  {
   "cell_type": "code",
   "execution_count": 1,
   "metadata": {},
   "outputs": [],
   "source": [
    "import numpy as np #For numerical programming and multi-dimensional arrays\n",
    "from pandas import date_range #For date-rate generation\n",
    "from bqplot import * #We import the relevant modules from bqplot"
   ]
  },
  {
   "cell_type": "markdown",
   "metadata": {},
   "source": [
    "**Random Data Generation**"
   ]
  },
  {
   "cell_type": "code",
   "execution_count": 2,
   "metadata": {},
   "outputs": [],
   "source": [
    "security_1 = np.cumsum(np.random.randn(150)) + 100.\n",
    "security_2 = np.cumsum(np.random.randn(150)) + 100."
   ]
  },
  {
   "cell_type": "markdown",
   "metadata": {},
   "source": [
    "## Basic Line Chart"
   ]
  },
  {
   "cell_type": "markdown",
   "metadata": {},
   "source": [
    "Using the `bqplot`, object oriented API, we can generate a Line Chart with the following code snippet:"
   ]
  },
  {
   "cell_type": "code",
   "execution_count": 3,
   "metadata": {},
   "outputs": [
    {
     "data": {
      "application/vnd.jupyter.widget-view+json": {
       "model_id": "8e3ff12e6e4a408c8a799f4ed9e8cee3",
       "version_major": 2,
       "version_minor": 0
      },
      "text/html": [
       "<p>Failed to display Jupyter Widget of type <code>Figure</code>.</p>\n",
       "<p>\n",
       "  If you're reading this message in the Jupyter Notebook or JupyterLab Notebook, it may mean\n",
       "  that the widgets JavaScript is still loading. If this message persists, it\n",
       "  likely means that the widgets JavaScript library is either not installed or\n",
       "  not enabled. See the <a href=\"https://ipywidgets.readthedocs.io/en/stable/user_install.html\">Jupyter\n",
       "  Widgets Documentation</a> for setup instructions.\n",
       "</p>\n",
       "<p>\n",
       "  If you're reading this message in another frontend (for example, a static\n",
       "  rendering on GitHub or <a href=\"https://nbviewer.jupyter.org/\">NBViewer</a>),\n",
       "  it may mean that your frontend doesn't currently support widgets.\n",
       "</p>\n"
      ],
      "text/plain": [
       "Figure(axes=[Axis(label='Index', scale=LinearScale()), Axis(label='y-values of Security 1', orientation='vertical', scale=LinearScale())], fig_margin={'top': 60, 'bottom': 60, 'left': 60, 'right': 60}, layout=Layout(min_width='125px'), marks=[Lines(colors=['#1f77b4', '#ff7f0e', '#2ca02c', '#d62728', '#9467bd', '#8c564b', '#e377c2', '#7f7f7f', '#bcbd22', '#17becf'], interactions={'hover': 'tooltip'}, scales={'x': LinearScale(), 'y': LinearScale()}, scales_metadata={'x': {'orientation': 'horizontal', 'dimension': 'x'}, 'y': {'orientation': 'vertical', 'dimension': 'y'}, 'color': {'dimension': 'color'}}, tooltip_style={'opacity': 0.9}, x=array([  0,   1,   2,   3,   4,   5,   6,   7,   8,   9,  10,  11,  12,\n",
       "        13,  14,  15,  16,  17,  18,  19,  20,  21,  22,  23,  24,  25,\n",
       "        26,  27,  28,  29,  30,  31,  32,  33,  34,  35,  36,  37,  38,\n",
       "        39,  40,  41,  42,  43,  44,  45,  46,  47,  48,  49,  50,  51,\n",
       "        52,  53,  54,  55,  56,  57,  58,  59,  60,  61,  62,  63,  64,\n",
       "        65,  66,  67,  68,  69,  70,  71,  72,  73,  74,  75,  76,  77,\n",
       "        78,  79,  80,  81,  82,  83,  84,  85,  86,  87,  88,  89,  90,\n",
       "        91,  92,  93,  94,  95,  96,  97,  98,  99, 100, 101, 102, 103,\n",
       "       104, 105, 106, 107, 108, 109, 110, 111, 112, 113, 114, 115, 116,\n",
       "       117, 118, 119, 120, 121, 122, 123, 124, 125, 126, 127, 128, 129,\n",
       "       130, 131, 132, 133, 134, 135, 136, 137, 138, 139, 140, 141, 142,\n",
       "       143, 144, 145, 146, 147, 148, 149]), y=array([ 99.67886768, 101.39385684, 102.07344566, 101.441302  ,\n",
       "       101.86108772, 100.69715998, 100.29414603, 100.66551988,\n",
       "       100.76974432, 102.37143703, 102.47038512, 102.69066616,\n",
       "       102.46054798, 102.64460463, 103.08439317, 103.69505882,\n",
       "       105.080609  , 104.13225374, 104.08557293, 105.00558474,\n",
       "       103.64120899, 104.20459276, 104.40398673, 104.83288503,\n",
       "       106.51144312, 107.27701827, 107.21174232, 108.49920767,\n",
       "       108.96950892, 110.27595851, 110.84745806, 111.9569357 ,\n",
       "       111.2559381 , 112.29305961, 111.16890498, 109.51526537,\n",
       "       108.12000091, 109.22886045, 110.08700284, 110.28761884,\n",
       "       109.08410157, 107.35785304, 105.60640389, 105.67348532,\n",
       "       103.7770133 , 102.36344412, 101.59013422, 100.08768254,\n",
       "        99.53308899,  99.50530855,  99.65203662,  99.69353545,\n",
       "        99.16404937, 101.78955526, 100.98128764, 101.10845277,\n",
       "        99.79632313,  98.87758481,  99.79317697, 100.44946513,\n",
       "       102.49333702, 104.19269164, 103.12198299, 104.74702319,\n",
       "       106.41639709, 105.99453226, 106.33415664, 106.53860399,\n",
       "       105.14834621, 106.52311279, 106.83598831, 106.41591498,\n",
       "       105.86128858, 105.04009919, 105.89748201, 106.11576572,\n",
       "       103.87241214, 105.55278015, 106.31227405, 106.26623866,\n",
       "       105.17013476, 105.61475987, 104.58800198, 104.74440458,\n",
       "       102.55839517, 101.74220823, 100.34901194,  99.97156405,\n",
       "       100.78372381, 100.69833989, 101.92685816, 101.43437322,\n",
       "       101.6219283 , 103.05370304, 103.38198859, 104.15283842,\n",
       "       104.27820428, 104.80956692, 102.65188229, 103.07224444,\n",
       "       103.34176428, 102.59532379, 103.33906627, 102.4046212 ,\n",
       "       100.32541236, 101.39352939, 101.59926299, 102.42182831,\n",
       "       103.44600502, 103.37147371, 102.83476385, 104.88907792,\n",
       "       106.87133424, 107.57302746, 107.96182552, 109.09814407,\n",
       "       108.84136925, 111.06196393, 112.11881927, 110.30330444,\n",
       "       109.43909433, 108.05219516, 108.87663805, 110.20748785,\n",
       "       109.10130567, 110.52937632, 110.48185781, 111.60960561,\n",
       "       111.70579558, 111.05636796, 110.90618774, 110.7289413 ,\n",
       "       109.62394628, 110.76239655, 110.05791186, 110.96644138,\n",
       "       110.66064638, 110.84207426, 110.78444476, 112.14625454,\n",
       "       112.38883646, 112.9004789 , 113.15318897, 114.41209218,\n",
       "       114.36477209, 115.48919081, 116.1879784 , 114.15745768,\n",
       "       114.95480964, 113.66076282]))], scale_x=LinearScale(allow_padding=False, max=1.0, min=0.0), scale_y=LinearScale(allow_padding=False, max=1.0, min=0.0), title='Security 1')"
      ]
     },
     "metadata": {},
     "output_type": "display_data"
    }
   ],
   "source": [
    "sc_x = LinearScale()\n",
    "sc_y = LinearScale()\n",
    "\n",
    "line = Lines(x=np.arange(len(security_1)), y=security_1,\n",
    "             scales={'x': sc_x, 'y': sc_y})\n",
    "ax_x = Axis(scale=sc_x, label='Index')\n",
    "ax_y = Axis(scale=sc_y, orientation='vertical', label='y-values of Security 1')\n",
    "\n",
    "Figure(marks=[line], axes=[ax_x, ax_y], title='Security 1')"
   ]
  },
  {
   "cell_type": "markdown",
   "metadata": {},
   "source": [
    "The `x` attribute refers to the data represented horizontally, while the `y` attribute refers the data represented vertically. \n",
    "\n",
    "**We can explore the different attributes by changing each of them for the plot above:**"
   ]
  },
  {
   "cell_type": "code",
   "execution_count": 4,
   "metadata": {},
   "outputs": [],
   "source": [
    "line.colors = ['DarkOrange']"
   ]
  },
  {
   "cell_type": "markdown",
   "metadata": {},
   "source": [
    "In a similar way, we can also change any attribute after the plot has been displayed to change the plot. Run each of the cells below, and try changing the attributes to explore the different features and how they affect the plot."
   ]
  },
  {
   "cell_type": "code",
   "execution_count": 5,
   "metadata": {},
   "outputs": [],
   "source": [
    "# The opacity allows us to display the Line while featuring other Marks that may be on the Figure\n",
    "line.opacities = [.5]"
   ]
  },
  {
   "cell_type": "code",
   "execution_count": 6,
   "metadata": {},
   "outputs": [],
   "source": [
    "line.stroke_width = 2.5"
   ]
  },
  {
   "cell_type": "code",
   "execution_count": 7,
   "metadata": {},
   "outputs": [],
   "source": [
    "line.line_style = 'dashed'"
   ]
  },
  {
   "cell_type": "code",
   "execution_count": 8,
   "metadata": {},
   "outputs": [],
   "source": [
    "line.interpolation = 'basis'"
   ]
  },
  {
   "cell_type": "markdown",
   "metadata": {},
   "source": [
    "While a `Lines` plot allows the user to extract the general shape of the data being plotted, there may be a need to visualize discrete data points along with this shape. This is where the `markers` attribute comes in."
   ]
  },
  {
   "cell_type": "code",
   "execution_count": 9,
   "metadata": {},
   "outputs": [],
   "source": [
    "line.marker = 'triangle-down'"
   ]
  },
  {
   "cell_type": "markdown",
   "metadata": {},
   "source": [
    "The `marker` attributes accepts the values `square`, `circle`, `cross`, `diamond`, `square`, `triangle-down`, `triangle-up`, `arrow`, `rectangle`, `ellipse`. Try changing the string above and re-running the cell to see how each `marker` type looks."
   ]
  },
  {
   "cell_type": "markdown",
   "metadata": {
    "collapsed": true
   },
   "source": [
    "## Plotting a Time-Series"
   ]
  },
  {
   "cell_type": "markdown",
   "metadata": {},
   "source": [
    "The `DateScale` allows us to plot time series as a `Lines` plot conveniently with most `date` formats."
   ]
  },
  {
   "cell_type": "code",
   "execution_count": 10,
   "metadata": {},
   "outputs": [],
   "source": [
    "# Here we define the dates we would like to use\n",
    "dates = date_range(start='01-01-2007', periods=150)"
   ]
  },
  {
   "cell_type": "code",
   "execution_count": 11,
   "metadata": {},
   "outputs": [
    {
     "data": {
      "application/vnd.jupyter.widget-view+json": {
       "model_id": "5dad03a498db4a898c6cf9b8b2c43ad6",
       "version_major": 2,
       "version_minor": 0
      },
      "text/html": [
       "<p>Failed to display Jupyter Widget of type <code>Figure</code>.</p>\n",
       "<p>\n",
       "  If you're reading this message in the Jupyter Notebook or JupyterLab Notebook, it may mean\n",
       "  that the widgets JavaScript is still loading. If this message persists, it\n",
       "  likely means that the widgets JavaScript library is either not installed or\n",
       "  not enabled. See the <a href=\"https://ipywidgets.readthedocs.io/en/stable/user_install.html\">Jupyter\n",
       "  Widgets Documentation</a> for setup instructions.\n",
       "</p>\n",
       "<p>\n",
       "  If you're reading this message in another frontend (for example, a static\n",
       "  rendering on GitHub or <a href=\"https://nbviewer.jupyter.org/\">NBViewer</a>),\n",
       "  it may mean that your frontend doesn't currently support widgets.\n",
       "</p>\n"
      ],
      "text/plain": [
       "Figure(axes=[Axis(label='Date', scale=DateScale()), Axis(label='Security 1', orientation='vertical', scale=LinearScale())], fig_margin={'top': 60, 'bottom': 60, 'left': 60, 'right': 60}, layout=Layout(min_width='125px'), marks=[Lines(colors=['#1f77b4', '#ff7f0e', '#2ca02c', '#d62728', '#9467bd', '#8c564b', '#e377c2', '#7f7f7f', '#bcbd22', '#17becf'], interactions={'hover': 'tooltip'}, scales={'x': DateScale(), 'y': LinearScale()}, scales_metadata={'x': {'orientation': 'horizontal', 'dimension': 'x'}, 'y': {'orientation': 'vertical', 'dimension': 'y'}, 'color': {'dimension': 'color'}}, tooltip_style={'opacity': 0.9}, x=array(['2007-01-01T00:00:00.000000000', '2007-01-02T00:00:00.000000000',\n",
       "       '2007-01-03T00:00:00.000000000', '2007-01-04T00:00:00.000000000',\n",
       "       '2007-01-05T00:00:00.000000000', '2007-01-06T00:00:00.000000000',\n",
       "       '2007-01-07T00:00:00.000000000', '2007-01-08T00:00:00.000000000',\n",
       "       '2007-01-09T00:00:00.000000000', '2007-01-10T00:00:00.000000000',\n",
       "       '2007-01-11T00:00:00.000000000', '2007-01-12T00:00:00.000000000',\n",
       "       '2007-01-13T00:00:00.000000000', '2007-01-14T00:00:00.000000000',\n",
       "       '2007-01-15T00:00:00.000000000', '2007-01-16T00:00:00.000000000',\n",
       "       '2007-01-17T00:00:00.000000000', '2007-01-18T00:00:00.000000000',\n",
       "       '2007-01-19T00:00:00.000000000', '2007-01-20T00:00:00.000000000',\n",
       "       '2007-01-21T00:00:00.000000000', '2007-01-22T00:00:00.000000000',\n",
       "       '2007-01-23T00:00:00.000000000', '2007-01-24T00:00:00.000000000',\n",
       "       '2007-01-25T00:00:00.000000000', '2007-01-26T00:00:00.000000000',\n",
       "       '2007-01-27T00:00:00.000000000', '2007-01-28T00:00:00.000000000',\n",
       "       '2007-01-29T00:00:00.000000000', '2007-01-30T00:00:00.000000000',\n",
       "       '2007-01-31T00:00:00.000000000', '2007-02-01T00:00:00.000000000',\n",
       "       '2007-02-02T00:00:00.000000000', '2007-02-03T00:00:00.000000000',\n",
       "       '2007-02-04T00:00:00.000000000', '2007-02-05T00:00:00.000000000',\n",
       "       '2007-02-06T00:00:00.000000000', '2007-02-07T00:00:00.000000000',\n",
       "       '2007-02-08T00:00:00.000000000', '2007-02-09T00:00:00.000000000',\n",
       "       '2007-02-10T00:00:00.000000000', '2007-02-11T00:00:00.000000000',\n",
       "       '2007-02-12T00:00:00.000000000', '2007-02-13T00:00:00.000000000',\n",
       "       '2007-02-14T00:00:00.000000000', '2007-02-15T00:00:00.000000000',\n",
       "       '2007-02-16T00:00:00.000000000', '2007-02-17T00:00:00.000000000',\n",
       "       '2007-02-18T00:00:00.000000000', '2007-02-19T00:00:00.000000000',\n",
       "       '2007-02-20T00:00:00.000000000', '2007-02-21T00:00:00.000000000',\n",
       "       '2007-02-22T00:00:00.000000000', '2007-02-23T00:00:00.000000000',\n",
       "       '2007-02-24T00:00:00.000000000', '2007-02-25T00:00:00.000000000',\n",
       "       '2007-02-26T00:00:00.000000000', '2007-02-27T00:00:00.000000000',\n",
       "       '2007-02-28T00:00:00.000000000', '2007-03-01T00:00:00.000000000',\n",
       "       '2007-03-02T00:00:00.000000000', '2007-03-03T00:00:00.000000000',\n",
       "       '2007-03-04T00:00:00.000000000', '2007-03-05T00:00:00.000000000',\n",
       "       '2007-03-06T00:00:00.000000000', '2007-03-07T00:00:00.000000000',\n",
       "       '2007-03-08T00:00:00.000000000', '2007-03-09T00:00:00.000000000',\n",
       "       '2007-03-10T00:00:00.000000000', '2007-03-11T00:00:00.000000000',\n",
       "       '2007-03-12T00:00:00.000000000', '2007-03-13T00:00:00.000000000',\n",
       "       '2007-03-14T00:00:00.000000000', '2007-03-15T00:00:00.000000000',\n",
       "       '2007-03-16T00:00:00.000000000', '2007-03-17T00:00:00.000000000',\n",
       "       '2007-03-18T00:00:00.000000000', '2007-03-19T00:00:00.000000000',\n",
       "       '2007-03-20T00:00:00.000000000', '2007-03-21T00:00:00.000000000',\n",
       "       '2007-03-22T00:00:00.000000000', '2007-03-23T00:00:00.000000000',\n",
       "       '2007-03-24T00:00:00.000000000', '2007-03-25T00:00:00.000000000',\n",
       "       '2007-03-26T00:00:00.000000000', '2007-03-27T00:00:00.000000000',\n",
       "       '2007-03-28T00:00:00.000000000', '2007-03-29T00:00:00.000000000',\n",
       "       '2007-03-30T00:00:00.000000000', '2007-03-31T00:00:00.000000000',\n",
       "       '2007-04-01T00:00:00.000000000', '2007-04-02T00:00:00.000000000',\n",
       "       '2007-04-03T00:00:00.000000000', '2007-04-04T00:00:00.000000000',\n",
       "       '2007-04-05T00:00:00.000000000', '2007-04-06T00:00:00.000000000',\n",
       "       '2007-04-07T00:00:00.000000000', '2007-04-08T00:00:00.000000000',\n",
       "       '2007-04-09T00:00:00.000000000', '2007-04-10T00:00:00.000000000',\n",
       "       '2007-04-11T00:00:00.000000000', '2007-04-12T00:00:00.000000000',\n",
       "       '2007-04-13T00:00:00.000000000', '2007-04-14T00:00:00.000000000',\n",
       "       '2007-04-15T00:00:00.000000000', '2007-04-16T00:00:00.000000000',\n",
       "       '2007-04-17T00:00:00.000000000', '2007-04-18T00:00:00.000000000',\n",
       "       '2007-04-19T00:00:00.000000000', '2007-04-20T00:00:00.000000000',\n",
       "       '2007-04-21T00:00:00.000000000', '2007-04-22T00:00:00.000000000',\n",
       "       '2007-04-23T00:00:00.000000000', '2007-04-24T00:00:00.000000000',\n",
       "       '2007-04-25T00:00:00.000000000', '2007-04-26T00:00:00.000000000',\n",
       "       '2007-04-27T00:00:00.000000000', '2007-04-28T00:00:00.000000000',\n",
       "       '2007-04-29T00:00:00.000000000', '2007-04-30T00:00:00.000000000',\n",
       "       '2007-05-01T00:00:00.000000000', '2007-05-02T00:00:00.000000000',\n",
       "       '2007-05-03T00:00:00.000000000', '2007-05-04T00:00:00.000000000',\n",
       "       '2007-05-05T00:00:00.000000000', '2007-05-06T00:00:00.000000000',\n",
       "       '2007-05-07T00:00:00.000000000', '2007-05-08T00:00:00.000000000',\n",
       "       '2007-05-09T00:00:00.000000000', '2007-05-10T00:00:00.000000000',\n",
       "       '2007-05-11T00:00:00.000000000', '2007-05-12T00:00:00.000000000',\n",
       "       '2007-05-13T00:00:00.000000000', '2007-05-14T00:00:00.000000000',\n",
       "       '2007-05-15T00:00:00.000000000', '2007-05-16T00:00:00.000000000',\n",
       "       '2007-05-17T00:00:00.000000000', '2007-05-18T00:00:00.000000000',\n",
       "       '2007-05-19T00:00:00.000000000', '2007-05-20T00:00:00.000000000',\n",
       "       '2007-05-21T00:00:00.000000000', '2007-05-22T00:00:00.000000000',\n",
       "       '2007-05-23T00:00:00.000000000', '2007-05-24T00:00:00.000000000',\n",
       "       '2007-05-25T00:00:00.000000000', '2007-05-26T00:00:00.000000000',\n",
       "       '2007-05-27T00:00:00.000000000', '2007-05-28T00:00:00.000000000',\n",
       "       '2007-05-29T00:00:00.000000000', '2007-05-30T00:00:00.000000000'],\n",
       "      dtype='datetime64[ns]'), y=array([ 99.67886768, 101.39385684, 102.07344566, 101.441302  ,\n",
       "       101.86108772, 100.69715998, 100.29414603, 100.66551988,\n",
       "       100.76974432, 102.37143703, 102.47038512, 102.69066616,\n",
       "       102.46054798, 102.64460463, 103.08439317, 103.69505882,\n",
       "       105.080609  , 104.13225374, 104.08557293, 105.00558474,\n",
       "       103.64120899, 104.20459276, 104.40398673, 104.83288503,\n",
       "       106.51144312, 107.27701827, 107.21174232, 108.49920767,\n",
       "       108.96950892, 110.27595851, 110.84745806, 111.9569357 ,\n",
       "       111.2559381 , 112.29305961, 111.16890498, 109.51526537,\n",
       "       108.12000091, 109.22886045, 110.08700284, 110.28761884,\n",
       "       109.08410157, 107.35785304, 105.60640389, 105.67348532,\n",
       "       103.7770133 , 102.36344412, 101.59013422, 100.08768254,\n",
       "        99.53308899,  99.50530855,  99.65203662,  99.69353545,\n",
       "        99.16404937, 101.78955526, 100.98128764, 101.10845277,\n",
       "        99.79632313,  98.87758481,  99.79317697, 100.44946513,\n",
       "       102.49333702, 104.19269164, 103.12198299, 104.74702319,\n",
       "       106.41639709, 105.99453226, 106.33415664, 106.53860399,\n",
       "       105.14834621, 106.52311279, 106.83598831, 106.41591498,\n",
       "       105.86128858, 105.04009919, 105.89748201, 106.11576572,\n",
       "       103.87241214, 105.55278015, 106.31227405, 106.26623866,\n",
       "       105.17013476, 105.61475987, 104.58800198, 104.74440458,\n",
       "       102.55839517, 101.74220823, 100.34901194,  99.97156405,\n",
       "       100.78372381, 100.69833989, 101.92685816, 101.43437322,\n",
       "       101.6219283 , 103.05370304, 103.38198859, 104.15283842,\n",
       "       104.27820428, 104.80956692, 102.65188229, 103.07224444,\n",
       "       103.34176428, 102.59532379, 103.33906627, 102.4046212 ,\n",
       "       100.32541236, 101.39352939, 101.59926299, 102.42182831,\n",
       "       103.44600502, 103.37147371, 102.83476385, 104.88907792,\n",
       "       106.87133424, 107.57302746, 107.96182552, 109.09814407,\n",
       "       108.84136925, 111.06196393, 112.11881927, 110.30330444,\n",
       "       109.43909433, 108.05219516, 108.87663805, 110.20748785,\n",
       "       109.10130567, 110.52937632, 110.48185781, 111.60960561,\n",
       "       111.70579558, 111.05636796, 110.90618774, 110.7289413 ,\n",
       "       109.62394628, 110.76239655, 110.05791186, 110.96644138,\n",
       "       110.66064638, 110.84207426, 110.78444476, 112.14625454,\n",
       "       112.38883646, 112.9004789 , 113.15318897, 114.41209218,\n",
       "       114.36477209, 115.48919081, 116.1879784 , 114.15745768,\n",
       "       114.95480964, 113.66076282]))], scale_x=LinearScale(allow_padding=False, max=1.0, min=0.0), scale_y=LinearScale(allow_padding=False, max=1.0, min=0.0), title='A Time Series Plot')"
      ]
     },
     "metadata": {},
     "output_type": "display_data"
    }
   ],
   "source": [
    "dt_x = DateScale()\n",
    "sc_y = LinearScale()\n",
    "\n",
    "time_series = Lines(x=dates, y=security_1, scales={'x': dt_x, 'y': sc_y})\n",
    "ax_x = Axis(scale=dt_x, label='Date')\n",
    "ax_y = Axis(scale=sc_y, orientation='vertical', label='Security 1')\n",
    "\n",
    "Figure(marks=[time_series], axes=[ax_x, ax_y], title='A Time Series Plot')"
   ]
  },
  {
   "cell_type": "markdown",
   "metadata": {},
   "source": [
    "## Plotting Multiples Sets of Data with `Lines`"
   ]
  },
  {
   "cell_type": "markdown",
   "metadata": {},
   "source": [
    "The `Lines` mark allows the user to plot multiple `y`-values for a single `x`-value. This can be done by passing an `ndarray` or a list of the different `y`-values as the y-attribute of the `Lines` as shown below."
   ]
  },
  {
   "cell_type": "code",
   "execution_count": 12,
   "metadata": {},
   "outputs": [],
   "source": [
    "x_dt = DateScale()\n",
    "y_sc = LinearScale()"
   ]
  },
  {
   "cell_type": "markdown",
   "metadata": {},
   "source": [
    "We pass each data set as an element of a `list`. The colors attribute allows us to pass a specific color for each line."
   ]
  },
  {
   "cell_type": "code",
   "execution_count": 13,
   "metadata": {},
   "outputs": [],
   "source": [
    "dates_new = date_range(start='06-01-2007', periods=150)"
   ]
  },
  {
   "cell_type": "code",
   "execution_count": 14,
   "metadata": {},
   "outputs": [],
   "source": [
    "securities = np.cumsum(np.random.randn(150, 10), axis=0)\n",
    "positions = np.random.randint(0, 2, size=10)"
   ]
  },
  {
   "cell_type": "code",
   "execution_count": 15,
   "metadata": {},
   "outputs": [],
   "source": [
    "# We pass the color scale and the color data to the lines\n",
    "line = Lines(x=dates, y=[security_1, security_2], \n",
    "             scales={'x': x_dt, 'y': y_sc},\n",
    "             labels=['Security 1', 'Security 2'])"
   ]
  },
  {
   "cell_type": "code",
   "execution_count": 16,
   "metadata": {},
   "outputs": [
    {
     "data": {
      "application/vnd.jupyter.widget-view+json": {
       "model_id": "2f837d0a29c44bf28585fa8766089777",
       "version_major": 2,
       "version_minor": 0
      },
      "text/html": [
       "<p>Failed to display Jupyter Widget of type <code>Figure</code>.</p>\n",
       "<p>\n",
       "  If you're reading this message in the Jupyter Notebook or JupyterLab Notebook, it may mean\n",
       "  that the widgets JavaScript is still loading. If this message persists, it\n",
       "  likely means that the widgets JavaScript library is either not installed or\n",
       "  not enabled. See the <a href=\"https://ipywidgets.readthedocs.io/en/stable/user_install.html\">Jupyter\n",
       "  Widgets Documentation</a> for setup instructions.\n",
       "</p>\n",
       "<p>\n",
       "  If you're reading this message in another frontend (for example, a static\n",
       "  rendering on GitHub or <a href=\"https://nbviewer.jupyter.org/\">NBViewer</a>),\n",
       "  it may mean that your frontend doesn't currently support widgets.\n",
       "</p>\n"
      ],
      "text/plain": [
       "Figure(axes=[Axis(label='Date', scale=DateScale()), Axis(label='Security 1', orientation='vertical', scale=LinearScale())], fig_margin={'top': 60, 'bottom': 60, 'left': 60, 'right': 60}, layout=Layout(min_width='125px'), legend_location='top-left', marks=[Lines(colors=['#1f77b4', '#ff7f0e', '#2ca02c', '#d62728', '#9467bd', '#8c564b', '#e377c2', '#7f7f7f', '#bcbd22', '#17becf'], interactions={'hover': 'tooltip'}, labels=['Security 1', 'Security 2'], scales={'x': DateScale(), 'y': LinearScale()}, scales_metadata={'x': {'orientation': 'horizontal', 'dimension': 'x'}, 'y': {'orientation': 'vertical', 'dimension': 'y'}, 'color': {'dimension': 'color'}}, tooltip_style={'opacity': 0.9}, x=array(['2007-01-01T00:00:00.000000000', '2007-01-02T00:00:00.000000000',\n",
       "       '2007-01-03T00:00:00.000000000', '2007-01-04T00:00:00.000000000',\n",
       "       '2007-01-05T00:00:00.000000000', '2007-01-06T00:00:00.000000000',\n",
       "       '2007-01-07T00:00:00.000000000', '2007-01-08T00:00:00.000000000',\n",
       "       '2007-01-09T00:00:00.000000000', '2007-01-10T00:00:00.000000000',\n",
       "       '2007-01-11T00:00:00.000000000', '2007-01-12T00:00:00.000000000',\n",
       "       '2007-01-13T00:00:00.000000000', '2007-01-14T00:00:00.000000000',\n",
       "       '2007-01-15T00:00:00.000000000', '2007-01-16T00:00:00.000000000',\n",
       "       '2007-01-17T00:00:00.000000000', '2007-01-18T00:00:00.000000000',\n",
       "       '2007-01-19T00:00:00.000000000', '2007-01-20T00:00:00.000000000',\n",
       "       '2007-01-21T00:00:00.000000000', '2007-01-22T00:00:00.000000000',\n",
       "       '2007-01-23T00:00:00.000000000', '2007-01-24T00:00:00.000000000',\n",
       "       '2007-01-25T00:00:00.000000000', '2007-01-26T00:00:00.000000000',\n",
       "       '2007-01-27T00:00:00.000000000', '2007-01-28T00:00:00.000000000',\n",
       "       '2007-01-29T00:00:00.000000000', '2007-01-30T00:00:00.000000000',\n",
       "       '2007-01-31T00:00:00.000000000', '2007-02-01T00:00:00.000000000',\n",
       "       '2007-02-02T00:00:00.000000000', '2007-02-03T00:00:00.000000000',\n",
       "       '2007-02-04T00:00:00.000000000', '2007-02-05T00:00:00.000000000',\n",
       "       '2007-02-06T00:00:00.000000000', '2007-02-07T00:00:00.000000000',\n",
       "       '2007-02-08T00:00:00.000000000', '2007-02-09T00:00:00.000000000',\n",
       "       '2007-02-10T00:00:00.000000000', '2007-02-11T00:00:00.000000000',\n",
       "       '2007-02-12T00:00:00.000000000', '2007-02-13T00:00:00.000000000',\n",
       "       '2007-02-14T00:00:00.000000000', '2007-02-15T00:00:00.000000000',\n",
       "       '2007-02-16T00:00:00.000000000', '2007-02-17T00:00:00.000000000',\n",
       "       '2007-02-18T00:00:00.000000000', '2007-02-19T00:00:00.000000000',\n",
       "       '2007-02-20T00:00:00.000000000', '2007-02-21T00:00:00.000000000',\n",
       "       '2007-02-22T00:00:00.000000000', '2007-02-23T00:00:00.000000000',\n",
       "       '2007-02-24T00:00:00.000000000', '2007-02-25T00:00:00.000000000',\n",
       "       '2007-02-26T00:00:00.000000000', '2007-02-27T00:00:00.000000000',\n",
       "       '2007-02-28T00:00:00.000000000', '2007-03-01T00:00:00.000000000',\n",
       "       '2007-03-02T00:00:00.000000000', '2007-03-03T00:00:00.000000000',\n",
       "       '2007-03-04T00:00:00.000000000', '2007-03-05T00:00:00.000000000',\n",
       "       '2007-03-06T00:00:00.000000000', '2007-03-07T00:00:00.000000000',\n",
       "       '2007-03-08T00:00:00.000000000', '2007-03-09T00:00:00.000000000',\n",
       "       '2007-03-10T00:00:00.000000000', '2007-03-11T00:00:00.000000000',\n",
       "       '2007-03-12T00:00:00.000000000', '2007-03-13T00:00:00.000000000',\n",
       "       '2007-03-14T00:00:00.000000000', '2007-03-15T00:00:00.000000000',\n",
       "       '2007-03-16T00:00:00.000000000', '2007-03-17T00:00:00.000000000',\n",
       "       '2007-03-18T00:00:00.000000000', '2007-03-19T00:00:00.000000000',\n",
       "       '2007-03-20T00:00:00.000000000', '2007-03-21T00:00:00.000000000',\n",
       "       '2007-03-22T00:00:00.000000000', '2007-03-23T00:00:00.000000000',\n",
       "       '2007-03-24T00:00:00.000000000', '2007-03-25T00:00:00.000000000',\n",
       "       '2007-03-26T00:00:00.000000000', '2007-03-27T00:00:00.000000000',\n",
       "       '2007-03-28T00:00:00.000000000', '2007-03-29T00:00:00.000000000',\n",
       "       '2007-03-30T00:00:00.000000000', '2007-03-31T00:00:00.000000000',\n",
       "       '2007-04-01T00:00:00.000000000', '2007-04-02T00:00:00.000000000',\n",
       "       '2007-04-03T00:00:00.000000000', '2007-04-04T00:00:00.000000000',\n",
       "       '2007-04-05T00:00:00.000000000', '2007-04-06T00:00:00.000000000',\n",
       "       '2007-04-07T00:00:00.000000000', '2007-04-08T00:00:00.000000000',\n",
       "       '2007-04-09T00:00:00.000000000', '2007-04-10T00:00:00.000000000',\n",
       "       '2007-04-11T00:00:00.000000000', '2007-04-12T00:00:00.000000000',\n",
       "       '2007-04-13T00:00:00.000000000', '2007-04-14T00:00:00.000000000',\n",
       "       '2007-04-15T00:00:00.000000000', '2007-04-16T00:00:00.000000000',\n",
       "       '2007-04-17T00:00:00.000000000', '2007-04-18T00:00:00.000000000',\n",
       "       '2007-04-19T00:00:00.000000000', '2007-04-20T00:00:00.000000000',\n",
       "       '2007-04-21T00:00:00.000000000', '2007-04-22T00:00:00.000000000',\n",
       "       '2007-04-23T00:00:00.000000000', '2007-04-24T00:00:00.000000000',\n",
       "       '2007-04-25T00:00:00.000000000', '2007-04-26T00:00:00.000000000',\n",
       "       '2007-04-27T00:00:00.000000000', '2007-04-28T00:00:00.000000000',\n",
       "       '2007-04-29T00:00:00.000000000', '2007-04-30T00:00:00.000000000',\n",
       "       '2007-05-01T00:00:00.000000000', '2007-05-02T00:00:00.000000000',\n",
       "       '2007-05-03T00:00:00.000000000', '2007-05-04T00:00:00.000000000',\n",
       "       '2007-05-05T00:00:00.000000000', '2007-05-06T00:00:00.000000000',\n",
       "       '2007-05-07T00:00:00.000000000', '2007-05-08T00:00:00.000000000',\n",
       "       '2007-05-09T00:00:00.000000000', '2007-05-10T00:00:00.000000000',\n",
       "       '2007-05-11T00:00:00.000000000', '2007-05-12T00:00:00.000000000',\n",
       "       '2007-05-13T00:00:00.000000000', '2007-05-14T00:00:00.000000000',\n",
       "       '2007-05-15T00:00:00.000000000', '2007-05-16T00:00:00.000000000',\n",
       "       '2007-05-17T00:00:00.000000000', '2007-05-18T00:00:00.000000000',\n",
       "       '2007-05-19T00:00:00.000000000', '2007-05-20T00:00:00.000000000',\n",
       "       '2007-05-21T00:00:00.000000000', '2007-05-22T00:00:00.000000000',\n",
       "       '2007-05-23T00:00:00.000000000', '2007-05-24T00:00:00.000000000',\n",
       "       '2007-05-25T00:00:00.000000000', '2007-05-26T00:00:00.000000000',\n",
       "       '2007-05-27T00:00:00.000000000', '2007-05-28T00:00:00.000000000',\n",
       "       '2007-05-29T00:00:00.000000000', '2007-05-30T00:00:00.000000000'],\n",
       "      dtype='datetime64[ns]'), y=array([[ 99.67886768, 101.39385684, 102.07344566, 101.441302  ,\n",
       "        101.86108772, 100.69715998, 100.29414603, 100.66551988,\n",
       "        100.76974432, 102.37143703, 102.47038512, 102.69066616,\n",
       "        102.46054798, 102.64460463, 103.08439317, 103.69505882,\n",
       "        105.080609  , 104.13225374, 104.08557293, 105.00558474,\n",
       "        103.64120899, 104.20459276, 104.40398673, 104.83288503,\n",
       "        106.51144312, 107.27701827, 107.21174232, 108.49920767,\n",
       "        108.96950892, 110.27595851, 110.84745806, 111.9569357 ,\n",
       "        111.2559381 , 112.29305961, 111.16890498, 109.51526537,\n",
       "        108.12000091, 109.22886045, 110.08700284, 110.28761884,\n",
       "        109.08410157, 107.35785304, 105.60640389, 105.67348532,\n",
       "        103.7770133 , 102.36344412, 101.59013422, 100.08768254,\n",
       "         99.53308899,  99.50530855,  99.65203662,  99.69353545,\n",
       "         99.16404937, 101.78955526, 100.98128764, 101.10845277,\n",
       "         99.79632313,  98.87758481,  99.79317697, 100.44946513,\n",
       "        102.49333702, 104.19269164, 103.12198299, 104.74702319,\n",
       "        106.41639709, 105.99453226, 106.33415664, 106.53860399,\n",
       "        105.14834621, 106.52311279, 106.83598831, 106.41591498,\n",
       "        105.86128858, 105.04009919, 105.89748201, 106.11576572,\n",
       "        103.87241214, 105.55278015, 106.31227405, 106.26623866,\n",
       "        105.17013476, 105.61475987, 104.58800198, 104.74440458,\n",
       "        102.55839517, 101.74220823, 100.34901194,  99.97156405,\n",
       "        100.78372381, 100.69833989, 101.92685816, 101.43437322,\n",
       "        101.6219283 , 103.05370304, 103.38198859, 104.15283842,\n",
       "        104.27820428, 104.80956692, 102.65188229, 103.07224444,\n",
       "        103.34176428, 102.59532379, 103.33906627, 102.4046212 ,\n",
       "        100.32541236, 101.39352939, 101.59926299, 102.42182831,\n",
       "        103.44600502, 103.37147371, 102.83476385, 104.88907792,\n",
       "        106.87133424, 107.57302746, 107.96182552, 109.09814407,\n",
       "        108.84136925, 111.06196393, 112.11881927, 110.30330444,\n",
       "        109.43909433, 108.05219516, 108.87663805, 110.20748785,\n",
       "        109.10130567, 110.52937632, 110.48185781, 111.60960561,\n",
       "        111.70579558, 111.05636796, 110.90618774, 110.7289413 ,\n",
       "        109.62394628, 110.76239655, 110.05791186, 110.96644138,\n",
       "        110.66064638, 110.84207426, 110.78444476, 112.14625454,\n",
       "        112.38883646, 112.9004789 , 113.15318897, 114.41209218,\n",
       "        114.36477209, 115.48919081, 116.1879784 , 114.15745768,\n",
       "        114.95480964, 113.66076282],\n",
       "       [100.07017669, 101.88190852, 101.83345124, 102.39260255,\n",
       "        102.02043702, 103.21164903, 104.20294099, 104.19343613,\n",
       "        106.28928717, 105.52963866, 104.7983496 , 105.33983941,\n",
       "        104.32015031, 105.14072447, 104.43822513, 103.66326399,\n",
       "        104.09454573, 103.82337208, 105.29310623, 106.05913021,\n",
       "        106.45234204, 105.5038493 , 104.82418066, 103.28668151,\n",
       "        103.2062581 , 102.38183127, 100.6852609 , 100.51881118,\n",
       "        101.62722838, 102.20028722, 102.61853708, 102.84797319,\n",
       "        104.45317629, 106.31134748, 105.84573484, 104.99762136,\n",
       "        104.54536491, 102.26408718, 103.34020444, 101.39953075,\n",
       "        100.62689839, 100.62770066, 100.60008002, 101.87966673,\n",
       "        100.26024339,  99.86860639,  98.92973853,  98.22503413,\n",
       "         98.98611624,  99.08544788,  98.86496957,  98.93921179,\n",
       "         98.4433158 ,  96.97561975,  98.18244169,  98.69131829,\n",
       "         99.72981093, 101.5991792 , 101.59027665, 101.64815732,\n",
       "         99.74542542,  98.11619552,  98.39924315,  97.81322859,\n",
       "         95.2943229 ,  94.64074421,  92.67608224,  92.26669824,\n",
       "         91.66482831,  93.24557362,  92.85527338,  93.71169749,\n",
       "         94.8092094 ,  93.92070895,  94.96744554,  95.26024599,\n",
       "         97.41203476,  97.95533644,  96.23610935,  94.95947618,\n",
       "         96.33960495,  98.30477319, 100.78347687, 100.87692474,\n",
       "        100.52220086, 100.58827738, 101.83130995, 101.75272526,\n",
       "        100.85429695, 100.47014873,  99.0676569 ,  98.49126664,\n",
       "        100.15316103,  99.67302698,  99.37745092,  99.34242827,\n",
       "         98.72228067,  98.09223992,  98.45898615,  99.18606845,\n",
       "         99.96137268,  98.25883978,  99.61580363, 100.97906843,\n",
       "        100.32104299, 100.77688077, 101.78159552, 101.7342235 ,\n",
       "        101.58911412, 100.22788298, 100.0676189 ,  98.87243674,\n",
       "        100.34937758, 102.00773633, 100.64346567, 100.6072263 ,\n",
       "         99.68031787, 100.31792224, 101.31293438, 103.06801409,\n",
       "        102.98739511, 103.47685037, 103.85309055, 103.9841342 ,\n",
       "        102.66585888, 102.44203742, 103.70210287, 104.37909925,\n",
       "        105.08357406, 104.65491648, 102.87179542, 100.35139445,\n",
       "        101.45908814, 102.33276019, 103.94355001, 103.46883381,\n",
       "        102.93486404, 105.43546647, 105.76456386, 106.03956465,\n",
       "        104.79264168, 103.22605333, 103.46820888, 103.44134537,\n",
       "        102.86039711, 103.85536244, 104.59762449, 106.41221857,\n",
       "        105.04032524, 105.64918825]]))], scale_x=LinearScale(allow_padding=False, max=1.0, min=0.0), scale_y=LinearScale(allow_padding=False, max=1.0, min=0.0))"
      ]
     },
     "metadata": {},
     "output_type": "display_data"
    }
   ],
   "source": [
    "ax_x = Axis(scale=x_dt, label='Date')\n",
    "ax_y = Axis(scale=y_sc, orientation='vertical', label='Security 1')\n",
    "\n",
    "Figure(marks=[line], axes=[ax_x, ax_y], legend_location='top-left')"
   ]
  },
  {
   "cell_type": "markdown",
   "metadata": {},
   "source": [
    "Similarly, we can also pass multiple `x`-values for multiple sets of `y`-values"
   ]
  },
  {
   "cell_type": "code",
   "execution_count": 17,
   "metadata": {},
   "outputs": [],
   "source": [
    "line.x, line.y = [dates, dates_new], [security_1, security_2]"
   ]
  },
  {
   "cell_type": "markdown",
   "metadata": {},
   "source": [
    "### Coloring Lines according to data"
   ]
  },
  {
   "cell_type": "markdown",
   "metadata": {},
   "source": [
    "The `color` attribute of a `Lines` mark can also be used to encode one more dimension of data. Suppose we have a portfolio of securities and we would like to color them based on whether we have bought or sold them. We can use the `color` attribute to encode this information."
   ]
  },
  {
   "cell_type": "code",
   "execution_count": 18,
   "metadata": {},
   "outputs": [],
   "source": [
    "x_dt = DateScale()\n",
    "y_sc = LinearScale()\n",
    "col_sc = ColorScale(colors=['Red', 'Green'])"
   ]
  },
  {
   "cell_type": "code",
   "execution_count": 19,
   "metadata": {},
   "outputs": [],
   "source": [
    "dates_color = date_range(start='06-01-2007', periods=150)"
   ]
  },
  {
   "cell_type": "code",
   "execution_count": 20,
   "metadata": {},
   "outputs": [],
   "source": [
    "securities = 100. + np.cumsum(np.random.randn(150, 10), axis=0)\n",
    "positions = np.random.randint(0, 2, size=10)\n",
    "# Here we generate 10 random price series and 10 random positions"
   ]
  },
  {
   "cell_type": "code",
   "execution_count": 21,
   "metadata": {},
   "outputs": [],
   "source": [
    "# We pass the color scale and the color data to the lines\n",
    "line = Lines(x=dates_color, y=securities.T, \n",
    "             scales={'x': x_dt, 'y': y_sc, 'color': col_sc}, color=positions,\n",
    "             labels=['Security 1', 'Security 2'])"
   ]
  },
  {
   "cell_type": "code",
   "execution_count": 22,
   "metadata": {},
   "outputs": [
    {
     "data": {
      "application/vnd.jupyter.widget-view+json": {
       "model_id": "ece39e0128dd4a60a5158ca5bb81272a",
       "version_major": 2,
       "version_minor": 0
      },
      "text/html": [
       "<p>Failed to display Jupyter Widget of type <code>Figure</code>.</p>\n",
       "<p>\n",
       "  If you're reading this message in the Jupyter Notebook or JupyterLab Notebook, it may mean\n",
       "  that the widgets JavaScript is still loading. If this message persists, it\n",
       "  likely means that the widgets JavaScript library is either not installed or\n",
       "  not enabled. See the <a href=\"https://ipywidgets.readthedocs.io/en/stable/user_install.html\">Jupyter\n",
       "  Widgets Documentation</a> for setup instructions.\n",
       "</p>\n",
       "<p>\n",
       "  If you're reading this message in another frontend (for example, a static\n",
       "  rendering on GitHub or <a href=\"https://nbviewer.jupyter.org/\">NBViewer</a>),\n",
       "  it may mean that your frontend doesn't currently support widgets.\n",
       "</p>\n"
      ],
      "text/plain": [
       "Figure(axes=[Axis(label='Date', scale=DateScale()), Axis(label='Security 1', orientation='vertical', scale=LinearScale())], fig_margin={'top': 60, 'bottom': 60, 'left': 60, 'right': 60}, layout=Layout(min_width='125px'), legend_location='top-left', marks=[Lines(color=array([1, 0, 0, 1, 1, 1, 1, 1, 1, 0]), colors=['#1f77b4', '#ff7f0e', '#2ca02c', '#d62728', '#9467bd', '#8c564b', '#e377c2', '#7f7f7f', '#bcbd22', '#17becf'], interactions={'hover': 'tooltip'}, labels=['Security 1', 'Security 2'], scales={'x': DateScale(), 'y': LinearScale(), 'color': ColorScale(colors=['Red', 'Green'])}, scales_metadata={'x': {'orientation': 'horizontal', 'dimension': 'x'}, 'y': {'orientation': 'vertical', 'dimension': 'y'}, 'color': {'dimension': 'color'}}, tooltip_style={'opacity': 0.9}, x=array(['2007-06-01T00:00:00.000000000', '2007-06-02T00:00:00.000000000',\n",
       "       '2007-06-03T00:00:00.000000000', '2007-06-04T00:00:00.000000000',\n",
       "       '2007-06-05T00:00:00.000000000', '2007-06-06T00:00:00.000000000',\n",
       "       '2007-06-07T00:00:00.000000000', '2007-06-08T00:00:00.000000000',\n",
       "       '2007-06-09T00:00:00.000000000', '2007-06-10T00:00:00.000000000',\n",
       "       '2007-06-11T00:00:00.000000000', '2007-06-12T00:00:00.000000000',\n",
       "       '2007-06-13T00:00:00.000000000', '2007-06-14T00:00:00.000000000',\n",
       "       '2007-06-15T00:00:00.000000000', '2007-06-16T00:00:00.000000000',\n",
       "       '2007-06-17T00:00:00.000000000', '2007-06-18T00:00:00.000000000',\n",
       "       '2007-06-19T00:00:00.000000000', '2007-06-20T00:00:00.000000000',\n",
       "       '2007-06-21T00:00:00.000000000', '2007-06-22T00:00:00.000000000',\n",
       "       '2007-06-23T00:00:00.000000000', '2007-06-24T00:00:00.000000000',\n",
       "       '2007-06-25T00:00:00.000000000', '2007-06-26T00:00:00.000000000',\n",
       "       '2007-06-27T00:00:00.000000000', '2007-06-28T00:00:00.000000000',\n",
       "       '2007-06-29T00:00:00.000000000', '2007-06-30T00:00:00.000000000',\n",
       "       '2007-07-01T00:00:00.000000000', '2007-07-02T00:00:00.000000000',\n",
       "       '2007-07-03T00:00:00.000000000', '2007-07-04T00:00:00.000000000',\n",
       "       '2007-07-05T00:00:00.000000000', '2007-07-06T00:00:00.000000000',\n",
       "       '2007-07-07T00:00:00.000000000', '2007-07-08T00:00:00.000000000',\n",
       "       '2007-07-09T00:00:00.000000000', '2007-07-10T00:00:00.000000000',\n",
       "       '2007-07-11T00:00:00.000000000', '2007-07-12T00:00:00.000000000',\n",
       "       '2007-07-13T00:00:00.000000000', '2007-07-14T00:00:00.000000000',\n",
       "       '2007-07-15T00:00:00.000000000', '2007-07-16T00:00:00.000000000',\n",
       "       '2007-07-17T00:00:00.000000000', '2007-07-18T00:00:00.000000000',\n",
       "       '2007-07-19T00:00:00.000000000', '2007-07-20T00:00:00.000000000',\n",
       "       '2007-07-21T00:00:00.000000000', '2007-07-22T00:00:00.000000000',\n",
       "       '2007-07-23T00:00:00.000000000', '2007-07-24T00:00:00.000000000',\n",
       "       '2007-07-25T00:00:00.000000000', '2007-07-26T00:00:00.000000000',\n",
       "       '2007-07-27T00:00:00.000000000', '2007-07-28T00:00:00.000000000',\n",
       "       '2007-07-29T00:00:00.000000000', '2007-07-30T00:00:00.000000000',\n",
       "       '2007-07-31T00:00:00.000000000', '2007-08-01T00:00:00.000000000',\n",
       "       '2007-08-02T00:00:00.000000000', '2007-08-03T00:00:00.000000000',\n",
       "       '2007-08-04T00:00:00.000000000', '2007-08-05T00:00:00.000000000',\n",
       "       '2007-08-06T00:00:00.000000000', '2007-08-07T00:00:00.000000000',\n",
       "       '2007-08-08T00:00:00.000000000', '2007-08-09T00:00:00.000000000',\n",
       "       '2007-08-10T00:00:00.000000000', '2007-08-11T00:00:00.000000000',\n",
       "       '2007-08-12T00:00:00.000000000', '2007-08-13T00:00:00.000000000',\n",
       "       '2007-08-14T00:00:00.000000000', '2007-08-15T00:00:00.000000000',\n",
       "       '2007-08-16T00:00:00.000000000', '2007-08-17T00:00:00.000000000',\n",
       "       '2007-08-18T00:00:00.000000000', '2007-08-19T00:00:00.000000000',\n",
       "       '2007-08-20T00:00:00.000000000', '2007-08-21T00:00:00.000000000',\n",
       "       '2007-08-22T00:00:00.000000000', '2007-08-23T00:00:00.000000000',\n",
       "       '2007-08-24T00:00:00.000000000', '2007-08-25T00:00:00.000000000',\n",
       "       '2007-08-26T00:00:00.000000000', '2007-08-27T00:00:00.000000000',\n",
       "       '2007-08-28T00:00:00.000000000', '2007-08-29T00:00:00.000000000',\n",
       "       '2007-08-30T00:00:00.000000000', '2007-08-31T00:00:00.000000000',\n",
       "       '2007-09-01T00:00:00.000000000', '2007-09-02T00:00:00.000000000',\n",
       "       '2007-09-03T00:00:00.000000000', '2007-09-04T00:00:00.000000000',\n",
       "       '2007-09-05T00:00:00.000000000', '2007-09-06T00:00:00.000000000',\n",
       "       '2007-09-07T00:00:00.000000000', '2007-09-08T00:00:00.000000000',\n",
       "       '2007-09-09T00:00:00.000000000', '2007-09-10T00:00:00.000000000',\n",
       "       '2007-09-11T00:00:00.000000000', '2007-09-12T00:00:00.000000000',\n",
       "       '2007-09-13T00:00:00.000000000', '2007-09-14T00:00:00.000000000',\n",
       "       '2007-09-15T00:00:00.000000000', '2007-09-16T00:00:00.000000000',\n",
       "       '2007-09-17T00:00:00.000000000', '2007-09-18T00:00:00.000000000',\n",
       "       '2007-09-19T00:00:00.000000000', '2007-09-20T00:00:00.000000000',\n",
       "       '2007-09-21T00:00:00.000000000', '2007-09-22T00:00:00.000000000',\n",
       "       '2007-09-23T00:00:00.000000000', '2007-09-24T00:00:00.000000000',\n",
       "       '2007-09-25T00:00:00.000000000', '2007-09-26T00:00:00.000000000',\n",
       "       '2007-09-27T00:00:00.000000000', '2007-09-28T00:00:00.000000000',\n",
       "       '2007-09-29T00:00:00.000000000', '2007-09-30T00:00:00.000000000',\n",
       "       '2007-10-01T00:00:00.000000000', '2007-10-02T00:00:00.000000000',\n",
       "       '2007-10-03T00:00:00.000000000', '2007-10-04T00:00:00.000000000',\n",
       "       '2007-10-05T00:00:00.000000000', '2007-10-06T00:00:00.000000000',\n",
       "       '2007-10-07T00:00:00.000000000', '2007-10-08T00:00:00.000000000',\n",
       "       '2007-10-09T00:00:00.000000000', '2007-10-10T00:00:00.000000000',\n",
       "       '2007-10-11T00:00:00.000000000', '2007-10-12T00:00:00.000000000',\n",
       "       '2007-10-13T00:00:00.000000000', '2007-10-14T00:00:00.000000000',\n",
       "       '2007-10-15T00:00:00.000000000', '2007-10-16T00:00:00.000000000',\n",
       "       '2007-10-17T00:00:00.000000000', '2007-10-18T00:00:00.000000000',\n",
       "       '2007-10-19T00:00:00.000000000', '2007-10-20T00:00:00.000000000',\n",
       "       '2007-10-21T00:00:00.000000000', '2007-10-22T00:00:00.000000000',\n",
       "       '2007-10-23T00:00:00.000000000', '2007-10-24T00:00:00.000000000',\n",
       "       '2007-10-25T00:00:00.000000000', '2007-10-26T00:00:00.000000000',\n",
       "       '2007-10-27T00:00:00.000000000', '2007-10-28T00:00:00.000000000'],\n",
       "      dtype='datetime64[ns]'), y=array([[ 99.17904737,  99.24792706, 100.95819947, ..., 100.32066703,\n",
       "         99.00009986,  99.51122142],\n",
       "       [100.54207656, 100.00901637, 101.84798781, ..., 111.62159386,\n",
       "        113.22916733, 114.36856771],\n",
       "       [ 99.26823429, 100.22632459,  99.07735619, ...,  88.65282888,\n",
       "         88.74175843,  88.39238803],\n",
       "       ...,\n",
       "       [ 99.05947712,  96.83670693,  97.89784887, ...,  83.58859414,\n",
       "         83.32325482,  85.94753166],\n",
       "       [ 99.26851419, 100.35024495,  99.40317289, ..., 116.48657164,\n",
       "        116.89680767, 116.98706185],\n",
       "       [100.3940027 , 101.856361  , 100.37708449, ..., 106.31985342,\n",
       "        104.46534301, 104.76192502]]))], scale_x=LinearScale(allow_padding=False, max=1.0, min=0.0), scale_y=LinearScale(allow_padding=False, max=1.0, min=0.0))"
      ]
     },
     "metadata": {},
     "output_type": "display_data"
    }
   ],
   "source": [
    "ax_x = Axis(scale=x_dt, label='Date')\n",
    "ax_y = Axis(scale=y_sc, orientation='vertical', label='Security 1')\n",
    "\n",
    "Figure(marks=[line], axes=[ax_x, ax_y], legend_location='top-left')"
   ]
  },
  {
   "cell_type": "markdown",
   "metadata": {},
   "source": [
    "We can also reset the colors of the Line to their defaults by setting the `color` attribute to `None`."
   ]
  },
  {
   "cell_type": "code",
   "execution_count": 23,
   "metadata": {},
   "outputs": [],
   "source": [
    "line.color = None"
   ]
  },
  {
   "cell_type": "markdown",
   "metadata": {},
   "source": [
    "## Patches"
   ]
  },
  {
   "cell_type": "markdown",
   "metadata": {},
   "source": [
    "The `fill` attribute of the `Lines` mark allows us to fill a path in different ways, while the `fill_colors` attribute lets us control the color of the `fill`"
   ]
  },
  {
   "cell_type": "code",
   "execution_count": 24,
   "metadata": {},
   "outputs": [
    {
     "data": {
      "application/vnd.jupyter.widget-view+json": {
       "model_id": "a7552b1cd37d4ddbaab5b8aa33e691b5",
       "version_major": 2,
       "version_minor": 0
      },
      "text/html": [
       "<p>Failed to display Jupyter Widget of type <code>Figure</code>.</p>\n",
       "<p>\n",
       "  If you're reading this message in the Jupyter Notebook or JupyterLab Notebook, it may mean\n",
       "  that the widgets JavaScript is still loading. If this message persists, it\n",
       "  likely means that the widgets JavaScript library is either not installed or\n",
       "  not enabled. See the <a href=\"https://ipywidgets.readthedocs.io/en/stable/user_install.html\">Jupyter\n",
       "  Widgets Documentation</a> for setup instructions.\n",
       "</p>\n",
       "<p>\n",
       "  If you're reading this message in another frontend (for example, a static\n",
       "  rendering on GitHub or <a href=\"https://nbviewer.jupyter.org/\">NBViewer</a>),\n",
       "  it may mean that your frontend doesn't currently support widgets.\n",
       "</p>\n"
      ],
      "text/plain": [
       "Figure(animation_duration=1000, fig_margin={'top': 60, 'bottom': 60, 'left': 60, 'right': 60}, layout=Layout(min_width='125px'), marks=[Lines(close_path=True, colors=['#1f77b4', '#ff7f0e', '#2ca02c', '#d62728', '#9467bd', '#8c564b', '#e377c2', '#7f7f7f', '#bcbd22', '#17becf'], display_legend=True, fill='inside', fill_colors=['orange', 'blue', 'red'], interactions={'hover': 'tooltip'}, scales={'x': LinearScale(), 'y': LinearScale()}, scales_metadata={'x': {'orientation': 'horizontal', 'dimension': 'x'}, 'y': {'orientation': 'vertical', 'dimension': 'y'}, 'color': {'dimension': 'color'}}, stroke_width=10.0, tooltip_style={'opacity': 0.9}, x=array([list([0, 2, 1.2]), list([0.5, 2.5, 1.7]),\n",
       "       list([4, 5, 6, 6, 5, 4, 3])], dtype=object), y=array([list([0, 0, 1]), list([0.5, 0.5, -0.5]),\n",
       "       list([1, 1.1, 1.2, 2.3, 2.2, 2.7, 1.0])], dtype=object))], scale_x=LinearScale(allow_padding=False, max=1.0, min=0.0), scale_y=LinearScale(allow_padding=False, max=1.0, min=0.0))"
      ]
     },
     "metadata": {},
     "output_type": "display_data"
    }
   ],
   "source": [
    "sc_x = LinearScale()\n",
    "sc_y = LinearScale()\n",
    "\n",
    "patch = Lines(x=[[0, 2, 1.2], [0.5, 2.5, 1.7], [4,5,6, 6, 5, 4, 3]], \n",
    "              y=[[0, 0, 1], [0.5, 0.5, -0.5], [1, 1.1, 1.2, 2.3, 2.2, 2.7, 1.0]],\n",
    "              fill_colors=['orange', 'blue', 'red'],\n",
    "              fill='inside',\n",
    "              stroke_width=10,\n",
    "              close_path=True,\n",
    "              scales={'x': sc_x, 'y': sc_y},\n",
    "              display_legend=True)\n",
    "\n",
    "Figure(marks=[patch], animation_duration=1000)"
   ]
  },
  {
   "cell_type": "code",
   "execution_count": 25,
   "metadata": {},
   "outputs": [],
   "source": [
    "patch.fill = 'top'"
   ]
  },
  {
   "cell_type": "code",
   "execution_count": 26,
   "metadata": {},
   "outputs": [],
   "source": [
    "patch.fill = 'bottom'"
   ]
  },
  {
   "cell_type": "code",
   "execution_count": 27,
   "metadata": {},
   "outputs": [],
   "source": [
    "patch.opacities = [0.1, 0.2]"
   ]
  },
  {
   "cell_type": "code",
   "execution_count": 28,
   "metadata": {},
   "outputs": [],
   "source": [
    "patch.x = [[2, 3, 3.2], [0.5, 2.5, 1.7], [4,5,6, 6, 5, 4, 3]]"
   ]
  },
  {
   "cell_type": "code",
   "execution_count": 29,
   "metadata": {},
   "outputs": [],
   "source": [
    "#patch.fill=['', 'blue']\n",
    "patch.close_path = False"
   ]
  },
  {
   "cell_type": "code",
   "execution_count": null,
   "metadata": {},
   "outputs": [],
   "source": []
  }
 ],
 "metadata": {
  "anaconda-cloud": {},
  "hide_input": false,
  "kernelspec": {
   "display_name": "Python 3",
   "language": "python",
   "name": "python3"
  },
  "language_info": {
   "codemirror_mode": {
    "name": "ipython",
    "version": 3
   },
   "file_extension": ".py",
   "mimetype": "text/x-python",
   "name": "python",
   "nbconvert_exporter": "python",
   "pygments_lexer": "ipython3",
   "version": "3.6.4"
  }
 },
 "nbformat": 4,
 "nbformat_minor": 1
}
