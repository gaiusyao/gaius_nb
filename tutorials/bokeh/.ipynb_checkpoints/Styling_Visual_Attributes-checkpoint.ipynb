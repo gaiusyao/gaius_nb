{
 "cells": [
  {
   "cell_type": "code",
   "execution_count": 1,
   "metadata": {},
   "outputs": [
    {
     "data": {
      "text/html": [
       "\n",
       "    <div class=\"bk-root\">\n",
       "        <a href=\"https://bokeh.pydata.org\" target=\"_blank\" class=\"bk-logo bk-logo-small bk-logo-notebook\"></a>\n",
       "        <span id=\"f5444dde-e659-4f62-9c33-4ee1ec1ba36a\">Loading BokehJS ...</span>\n",
       "    </div>"
      ]
     },
     "metadata": {},
     "output_type": "display_data"
    },
    {
     "data": {
      "application/javascript": [
       "\n",
       "(function(root) {\n",
       "  function now() {\n",
       "    return new Date();\n",
       "  }\n",
       "\n",
       "  var force = true;\n",
       "\n",
       "  if (typeof (root._bokeh_onload_callbacks) === \"undefined\" || force === true) {\n",
       "    root._bokeh_onload_callbacks = [];\n",
       "    root._bokeh_is_loading = undefined;\n",
       "  }\n",
       "\n",
       "  var JS_MIME_TYPE = 'application/javascript';\n",
       "  var HTML_MIME_TYPE = 'text/html';\n",
       "  var EXEC_MIME_TYPE = 'application/vnd.bokehjs_exec.v0+json';\n",
       "  var CLASS_NAME = 'output_bokeh rendered_html';\n",
       "\n",
       "  /**\n",
       "   * Render data to the DOM node\n",
       "   */\n",
       "  function render(props, node) {\n",
       "    var script = document.createElement(\"script\");\n",
       "    node.appendChild(script);\n",
       "  }\n",
       "\n",
       "  /**\n",
       "   * Handle when an output is cleared or removed\n",
       "   */\n",
       "  function handleClearOutput(event, handle) {\n",
       "    var cell = handle.cell;\n",
       "\n",
       "    var id = cell.output_area._bokeh_element_id;\n",
       "    var server_id = cell.output_area._bokeh_server_id;\n",
       "    // Clean up Bokeh references\n",
       "    if (id !== undefined) {\n",
       "      Bokeh.index[id].model.document.clear();\n",
       "      delete Bokeh.index[id];\n",
       "    }\n",
       "\n",
       "    if (server_id !== undefined) {\n",
       "      // Clean up Bokeh references\n",
       "      var cmd = \"from bokeh.io.state import curstate; print(curstate().uuid_to_server['\" + server_id + \"'].get_sessions()[0].document.roots[0]._id)\";\n",
       "      cell.notebook.kernel.execute(cmd, {\n",
       "        iopub: {\n",
       "          output: function(msg) {\n",
       "            var element_id = msg.content.text.trim();\n",
       "            Bokeh.index[element_id].model.document.clear();\n",
       "            delete Bokeh.index[element_id];\n",
       "          }\n",
       "        }\n",
       "      });\n",
       "      // Destroy server and session\n",
       "      var cmd = \"import bokeh.io.notebook as ion; ion.destroy_server('\" + server_id + \"')\";\n",
       "      cell.notebook.kernel.execute(cmd);\n",
       "    }\n",
       "  }\n",
       "\n",
       "  /**\n",
       "   * Handle when a new output is added\n",
       "   */\n",
       "  function handleAddOutput(event, handle) {\n",
       "    var output_area = handle.output_area;\n",
       "    var output = handle.output;\n",
       "\n",
       "    // limit handleAddOutput to display_data with EXEC_MIME_TYPE content only\n",
       "    if ((output.output_type != \"display_data\") || (!output.data.hasOwnProperty(EXEC_MIME_TYPE))) {\n",
       "      return\n",
       "    }\n",
       "\n",
       "    var toinsert = output_area.element.find(\".\" + CLASS_NAME.split(' ')[0]);\n",
       "\n",
       "    if (output.metadata[EXEC_MIME_TYPE][\"id\"] !== undefined) {\n",
       "      toinsert[0].firstChild.textContent = output.data[JS_MIME_TYPE];\n",
       "      // store reference to embed id on output_area\n",
       "      output_area._bokeh_element_id = output.metadata[EXEC_MIME_TYPE][\"id\"];\n",
       "    }\n",
       "    if (output.metadata[EXEC_MIME_TYPE][\"server_id\"] !== undefined) {\n",
       "      var bk_div = document.createElement(\"div\");\n",
       "      bk_div.innerHTML = output.data[HTML_MIME_TYPE];\n",
       "      var script_attrs = bk_div.children[0].attributes;\n",
       "      for (var i = 0; i < script_attrs.length; i++) {\n",
       "        toinsert[0].firstChild.setAttribute(script_attrs[i].name, script_attrs[i].value);\n",
       "      }\n",
       "      // store reference to server id on output_area\n",
       "      output_area._bokeh_server_id = output.metadata[EXEC_MIME_TYPE][\"server_id\"];\n",
       "    }\n",
       "  }\n",
       "\n",
       "  function register_renderer(events, OutputArea) {\n",
       "\n",
       "    function append_mime(data, metadata, element) {\n",
       "      // create a DOM node to render to\n",
       "      var toinsert = this.create_output_subarea(\n",
       "        metadata,\n",
       "        CLASS_NAME,\n",
       "        EXEC_MIME_TYPE\n",
       "      );\n",
       "      this.keyboard_manager.register_events(toinsert);\n",
       "      // Render to node\n",
       "      var props = {data: data, metadata: metadata[EXEC_MIME_TYPE]};\n",
       "      render(props, toinsert[0]);\n",
       "      element.append(toinsert);\n",
       "      return toinsert\n",
       "    }\n",
       "\n",
       "    /* Handle when an output is cleared or removed */\n",
       "    events.on('clear_output.CodeCell', handleClearOutput);\n",
       "    events.on('delete.Cell', handleClearOutput);\n",
       "\n",
       "    /* Handle when a new output is added */\n",
       "    events.on('output_added.OutputArea', handleAddOutput);\n",
       "\n",
       "    /**\n",
       "     * Register the mime type and append_mime function with output_area\n",
       "     */\n",
       "    OutputArea.prototype.register_mime_type(EXEC_MIME_TYPE, append_mime, {\n",
       "      /* Is output safe? */\n",
       "      safe: true,\n",
       "      /* Index of renderer in `output_area.display_order` */\n",
       "      index: 0\n",
       "    });\n",
       "  }\n",
       "\n",
       "  // register the mime type if in Jupyter Notebook environment and previously unregistered\n",
       "  if (root.Jupyter !== undefined) {\n",
       "    var events = require('base/js/events');\n",
       "    var OutputArea = require('notebook/js/outputarea').OutputArea;\n",
       "\n",
       "    if (OutputArea.prototype.mime_types().indexOf(EXEC_MIME_TYPE) == -1) {\n",
       "      register_renderer(events, OutputArea);\n",
       "    }\n",
       "  }\n",
       "\n",
       "  \n",
       "  if (typeof (root._bokeh_timeout) === \"undefined\" || force === true) {\n",
       "    root._bokeh_timeout = Date.now() + 5000;\n",
       "    root._bokeh_failed_load = false;\n",
       "  }\n",
       "\n",
       "  var NB_LOAD_WARNING = {'data': {'text/html':\n",
       "     \"<div style='background-color: #fdd'>\\n\"+\n",
       "     \"<p>\\n\"+\n",
       "     \"BokehJS does not appear to have successfully loaded. If loading BokehJS from CDN, this \\n\"+\n",
       "     \"may be due to a slow or bad network connection. Possible fixes:\\n\"+\n",
       "     \"</p>\\n\"+\n",
       "     \"<ul>\\n\"+\n",
       "     \"<li>re-rerun `output_notebook()` to attempt to load from CDN again, or</li>\\n\"+\n",
       "     \"<li>use INLINE resources instead, as so:</li>\\n\"+\n",
       "     \"</ul>\\n\"+\n",
       "     \"<code>\\n\"+\n",
       "     \"from bokeh.resources import INLINE\\n\"+\n",
       "     \"output_notebook(resources=INLINE)\\n\"+\n",
       "     \"</code>\\n\"+\n",
       "     \"</div>\"}};\n",
       "\n",
       "  function display_loaded() {\n",
       "    var el = document.getElementById(\"f5444dde-e659-4f62-9c33-4ee1ec1ba36a\");\n",
       "    if (el != null) {\n",
       "      el.textContent = \"BokehJS is loading...\";\n",
       "    }\n",
       "    if (root.Bokeh !== undefined) {\n",
       "      if (el != null) {\n",
       "        el.textContent = \"BokehJS \" + root.Bokeh.version + \" successfully loaded.\";\n",
       "      }\n",
       "    } else if (Date.now() < root._bokeh_timeout) {\n",
       "      setTimeout(display_loaded, 100)\n",
       "    }\n",
       "  }\n",
       "\n",
       "\n",
       "  function run_callbacks() {\n",
       "    try {\n",
       "      root._bokeh_onload_callbacks.forEach(function(callback) { callback() });\n",
       "    }\n",
       "    finally {\n",
       "      delete root._bokeh_onload_callbacks\n",
       "    }\n",
       "    console.info(\"Bokeh: all callbacks have finished\");\n",
       "  }\n",
       "\n",
       "  function load_libs(js_urls, callback) {\n",
       "    root._bokeh_onload_callbacks.push(callback);\n",
       "    if (root._bokeh_is_loading > 0) {\n",
       "      console.log(\"Bokeh: BokehJS is being loaded, scheduling callback at\", now());\n",
       "      return null;\n",
       "    }\n",
       "    if (js_urls == null || js_urls.length === 0) {\n",
       "      run_callbacks();\n",
       "      return null;\n",
       "    }\n",
       "    console.log(\"Bokeh: BokehJS not loaded, scheduling load and callback at\", now());\n",
       "    root._bokeh_is_loading = js_urls.length;\n",
       "    for (var i = 0; i < js_urls.length; i++) {\n",
       "      var url = js_urls[i];\n",
       "      var s = document.createElement('script');\n",
       "      s.src = url;\n",
       "      s.async = false;\n",
       "      s.onreadystatechange = s.onload = function() {\n",
       "        root._bokeh_is_loading--;\n",
       "        if (root._bokeh_is_loading === 0) {\n",
       "          console.log(\"Bokeh: all BokehJS libraries loaded\");\n",
       "          run_callbacks()\n",
       "        }\n",
       "      };\n",
       "      s.onerror = function() {\n",
       "        console.warn(\"failed to load library \" + url);\n",
       "      };\n",
       "      console.log(\"Bokeh: injecting script tag for BokehJS library: \", url);\n",
       "      document.getElementsByTagName(\"head\")[0].appendChild(s);\n",
       "    }\n",
       "  };var element = document.getElementById(\"f5444dde-e659-4f62-9c33-4ee1ec1ba36a\");\n",
       "  if (element == null) {\n",
       "    console.log(\"Bokeh: ERROR: autoload.js configured with elementid 'f5444dde-e659-4f62-9c33-4ee1ec1ba36a' but no matching script tag was found. \")\n",
       "    return false;\n",
       "  }\n",
       "\n",
       "  var js_urls = [\"https://cdn.pydata.org/bokeh/release/bokeh-0.12.13.min.js\", \"https://cdn.pydata.org/bokeh/release/bokeh-widgets-0.12.13.min.js\", \"https://cdn.pydata.org/bokeh/release/bokeh-tables-0.12.13.min.js\", \"https://cdn.pydata.org/bokeh/release/bokeh-gl-0.12.13.min.js\"];\n",
       "\n",
       "  var inline_js = [\n",
       "    function(Bokeh) {\n",
       "      Bokeh.set_log_level(\"info\");\n",
       "    },\n",
       "    \n",
       "    function(Bokeh) {\n",
       "      \n",
       "    },\n",
       "    function(Bokeh) {\n",
       "      console.log(\"Bokeh: injecting CSS: https://cdn.pydata.org/bokeh/release/bokeh-0.12.13.min.css\");\n",
       "      Bokeh.embed.inject_css(\"https://cdn.pydata.org/bokeh/release/bokeh-0.12.13.min.css\");\n",
       "      console.log(\"Bokeh: injecting CSS: https://cdn.pydata.org/bokeh/release/bokeh-widgets-0.12.13.min.css\");\n",
       "      Bokeh.embed.inject_css(\"https://cdn.pydata.org/bokeh/release/bokeh-widgets-0.12.13.min.css\");\n",
       "      console.log(\"Bokeh: injecting CSS: https://cdn.pydata.org/bokeh/release/bokeh-tables-0.12.13.min.css\");\n",
       "      Bokeh.embed.inject_css(\"https://cdn.pydata.org/bokeh/release/bokeh-tables-0.12.13.min.css\");\n",
       "    }\n",
       "  ];\n",
       "\n",
       "  function run_inline_js() {\n",
       "    \n",
       "    if ((root.Bokeh !== undefined) || (force === true)) {\n",
       "      for (var i = 0; i < inline_js.length; i++) {\n",
       "        inline_js[i].call(root, root.Bokeh);\n",
       "      }if (force === true) {\n",
       "        display_loaded();\n",
       "      }} else if (Date.now() < root._bokeh_timeout) {\n",
       "      setTimeout(run_inline_js, 100);\n",
       "    } else if (!root._bokeh_failed_load) {\n",
       "      console.log(\"Bokeh: BokehJS failed to load within specified timeout.\");\n",
       "      root._bokeh_failed_load = true;\n",
       "    } else if (force !== true) {\n",
       "      var cell = $(document.getElementById(\"f5444dde-e659-4f62-9c33-4ee1ec1ba36a\")).parents('.cell').data().cell;\n",
       "      cell.output_area.append_execute_result(NB_LOAD_WARNING)\n",
       "    }\n",
       "\n",
       "  }\n",
       "\n",
       "  if (root._bokeh_is_loading === 0) {\n",
       "    console.log(\"Bokeh: BokehJS loaded, going straight to plotting\");\n",
       "    run_inline_js();\n",
       "  } else {\n",
       "    load_libs(js_urls, function() {\n",
       "      console.log(\"Bokeh: BokehJS plotting callback run at\", now());\n",
       "      run_inline_js();\n",
       "    });\n",
       "  }\n",
       "}(window));"
      ],
      "application/vnd.bokehjs_load.v0+json": "\n(function(root) {\n  function now() {\n    return new Date();\n  }\n\n  var force = true;\n\n  if (typeof (root._bokeh_onload_callbacks) === \"undefined\" || force === true) {\n    root._bokeh_onload_callbacks = [];\n    root._bokeh_is_loading = undefined;\n  }\n\n  \n\n  \n  if (typeof (root._bokeh_timeout) === \"undefined\" || force === true) {\n    root._bokeh_timeout = Date.now() + 5000;\n    root._bokeh_failed_load = false;\n  }\n\n  var NB_LOAD_WARNING = {'data': {'text/html':\n     \"<div style='background-color: #fdd'>\\n\"+\n     \"<p>\\n\"+\n     \"BokehJS does not appear to have successfully loaded. If loading BokehJS from CDN, this \\n\"+\n     \"may be due to a slow or bad network connection. Possible fixes:\\n\"+\n     \"</p>\\n\"+\n     \"<ul>\\n\"+\n     \"<li>re-rerun `output_notebook()` to attempt to load from CDN again, or</li>\\n\"+\n     \"<li>use INLINE resources instead, as so:</li>\\n\"+\n     \"</ul>\\n\"+\n     \"<code>\\n\"+\n     \"from bokeh.resources import INLINE\\n\"+\n     \"output_notebook(resources=INLINE)\\n\"+\n     \"</code>\\n\"+\n     \"</div>\"}};\n\n  function display_loaded() {\n    var el = document.getElementById(\"f5444dde-e659-4f62-9c33-4ee1ec1ba36a\");\n    if (el != null) {\n      el.textContent = \"BokehJS is loading...\";\n    }\n    if (root.Bokeh !== undefined) {\n      if (el != null) {\n        el.textContent = \"BokehJS \" + root.Bokeh.version + \" successfully loaded.\";\n      }\n    } else if (Date.now() < root._bokeh_timeout) {\n      setTimeout(display_loaded, 100)\n    }\n  }\n\n\n  function run_callbacks() {\n    try {\n      root._bokeh_onload_callbacks.forEach(function(callback) { callback() });\n    }\n    finally {\n      delete root._bokeh_onload_callbacks\n    }\n    console.info(\"Bokeh: all callbacks have finished\");\n  }\n\n  function load_libs(js_urls, callback) {\n    root._bokeh_onload_callbacks.push(callback);\n    if (root._bokeh_is_loading > 0) {\n      console.log(\"Bokeh: BokehJS is being loaded, scheduling callback at\", now());\n      return null;\n    }\n    if (js_urls == null || js_urls.length === 0) {\n      run_callbacks();\n      return null;\n    }\n    console.log(\"Bokeh: BokehJS not loaded, scheduling load and callback at\", now());\n    root._bokeh_is_loading = js_urls.length;\n    for (var i = 0; i < js_urls.length; i++) {\n      var url = js_urls[i];\n      var s = document.createElement('script');\n      s.src = url;\n      s.async = false;\n      s.onreadystatechange = s.onload = function() {\n        root._bokeh_is_loading--;\n        if (root._bokeh_is_loading === 0) {\n          console.log(\"Bokeh: all BokehJS libraries loaded\");\n          run_callbacks()\n        }\n      };\n      s.onerror = function() {\n        console.warn(\"failed to load library \" + url);\n      };\n      console.log(\"Bokeh: injecting script tag for BokehJS library: \", url);\n      document.getElementsByTagName(\"head\")[0].appendChild(s);\n    }\n  };var element = document.getElementById(\"f5444dde-e659-4f62-9c33-4ee1ec1ba36a\");\n  if (element == null) {\n    console.log(\"Bokeh: ERROR: autoload.js configured with elementid 'f5444dde-e659-4f62-9c33-4ee1ec1ba36a' but no matching script tag was found. \")\n    return false;\n  }\n\n  var js_urls = [\"https://cdn.pydata.org/bokeh/release/bokeh-0.12.13.min.js\", \"https://cdn.pydata.org/bokeh/release/bokeh-widgets-0.12.13.min.js\", \"https://cdn.pydata.org/bokeh/release/bokeh-tables-0.12.13.min.js\", \"https://cdn.pydata.org/bokeh/release/bokeh-gl-0.12.13.min.js\"];\n\n  var inline_js = [\n    function(Bokeh) {\n      Bokeh.set_log_level(\"info\");\n    },\n    \n    function(Bokeh) {\n      \n    },\n    function(Bokeh) {\n      console.log(\"Bokeh: injecting CSS: https://cdn.pydata.org/bokeh/release/bokeh-0.12.13.min.css\");\n      Bokeh.embed.inject_css(\"https://cdn.pydata.org/bokeh/release/bokeh-0.12.13.min.css\");\n      console.log(\"Bokeh: injecting CSS: https://cdn.pydata.org/bokeh/release/bokeh-widgets-0.12.13.min.css\");\n      Bokeh.embed.inject_css(\"https://cdn.pydata.org/bokeh/release/bokeh-widgets-0.12.13.min.css\");\n      console.log(\"Bokeh: injecting CSS: https://cdn.pydata.org/bokeh/release/bokeh-tables-0.12.13.min.css\");\n      Bokeh.embed.inject_css(\"https://cdn.pydata.org/bokeh/release/bokeh-tables-0.12.13.min.css\");\n    }\n  ];\n\n  function run_inline_js() {\n    \n    if ((root.Bokeh !== undefined) || (force === true)) {\n      for (var i = 0; i < inline_js.length; i++) {\n        inline_js[i].call(root, root.Bokeh);\n      }if (force === true) {\n        display_loaded();\n      }} else if (Date.now() < root._bokeh_timeout) {\n      setTimeout(run_inline_js, 100);\n    } else if (!root._bokeh_failed_load) {\n      console.log(\"Bokeh: BokehJS failed to load within specified timeout.\");\n      root._bokeh_failed_load = true;\n    } else if (force !== true) {\n      var cell = $(document.getElementById(\"f5444dde-e659-4f62-9c33-4ee1ec1ba36a\")).parents('.cell').data().cell;\n      cell.output_area.append_execute_result(NB_LOAD_WARNING)\n    }\n\n  }\n\n  if (root._bokeh_is_loading === 0) {\n    console.log(\"Bokeh: BokehJS loaded, going straight to plotting\");\n    run_inline_js();\n  } else {\n    load_libs(js_urls, function() {\n      console.log(\"Bokeh: BokehJS plotting callback run at\", now());\n      run_inline_js();\n    });\n  }\n}(window));"
     },
     "metadata": {},
     "output_type": "display_data"
    }
   ],
   "source": [
    "from bokeh.io import output_notebook, show\n",
    "from bokeh.plotting import figure\n",
    "import pandas as pd\n",
    "import numpy as np\n",
    "\n",
    "output_notebook()"
   ]
  },
  {
   "cell_type": "markdown",
   "metadata": {},
   "source": [
    "## Using Palettes"
   ]
  },
  {
   "cell_type": "code",
   "execution_count": 2,
   "metadata": {},
   "outputs": [
    {
     "data": {
      "text/plain": [
       "['#3288bd', '#99d594', '#e6f598', '#fee08b', '#fc8d59', '#d53e4f']"
      ]
     },
     "execution_count": 2,
     "metadata": {},
     "output_type": "execute_result"
    }
   ],
   "source": [
    "from bokeh.palettes import Spectral6\n",
    "Spectral6"
   ]
  },
  {
   "cell_type": "markdown",
   "metadata": {},
   "source": [
    "## Visual Properties\n",
    "- **line properties** line color, width, etc.\n",
    "- **fill properties** fill color, alpha, etc.\n",
    "- **text properties** font styles, colors, etc.\n",
    "\n",
    "### Line Properties\n",
    "- line_color: color to use to stroke lines with\n",
    "- line_width: line stroke width in units of pixels\n",
    "- line_alpha: floating point between 0 (transparent) and 1 (opaque)\n",
    "- line_join: how path segments should be joined together\n",
    "    - 'miter' miter_join\n",
    "    - 'round' round_join\n",
    "    - 'bevel' bevel_join\n",
    "- line_cap: how path segments should be terminated\n",
    "    - 'butt' butt_cap\n",
    "    - 'round' round_cap\n",
    "    - 'square' square_cap\n",
    "- line_dash: a line style to use\n",
    "    - 'solid'\n",
    "    - 'dashed'\n",
    "    - 'dotted'\n",
    "    - 'dotdash'\n",
    "    - 'dashdot'\n",
    "    - an array of integer pixel distances that describe the on-off pattern of dashing to use\n",
    "    - a string of spaced integers matching the regular expression `‘^(\\d+(\\s+\\d+)*)?$’` that describe the on-off pattern of dashing to use\n",
    "- line_dash_offset: the distance in pixels into the line_dash that the pattern should start from\n",
    "\n",
    "### Fill Properties\n",
    "- fill_color: color to use to fill paths with\n",
    "- fill_alpha: floating point between 0 (transparent) and 1 (opaque)\n",
    "\n",
    "### Text Properties\n",
    "- text_font: font name, e.g., 'times', 'helvetica'\n",
    "- text_font_size: font size in px, em, or pt, e.g., '12pt', '1.5em'\n",
    "- text_font_style: font style to use\n",
    "    - 'normal' normal text\n",
    "    - 'italic' italic text\n",
    "    - 'bold' bold text\n",
    "- text_color: color to use to render text with\n",
    "- text_alpha: floating point between 0 (transparent) and 1 (opaque)\n",
    "- text_align: horizontal anchor point for text: 'left', 'right', 'center'\n",
    "- text_baseline: vertical anchor point for text\n",
    "    - 'top'\n",
    "    - 'middle'\n",
    "    - 'bottom'\n",
    "    - 'alphabetic'\n",
    "    - 'hanging'\n",
    "    \n",
    "> There is currently only support for filling text. An interface to stroke the outlines of text has not yet been exposed."
   ]
  },
  {
   "cell_type": "markdown",
   "metadata": {},
   "source": [
    "### Visible property"
   ]
  },
  {
   "cell_type": "code",
   "execution_count": 3,
   "metadata": {},
   "outputs": [
    {
     "data": {
      "text/html": [
       "\n",
       "<div class=\"bk-root\">\n",
       "    <div class=\"bk-plotdiv\" id=\"7318dc8a-c58e-4de7-aec1-296e71ebfcd9\"></div>\n",
       "</div>"
      ]
     },
     "metadata": {},
     "output_type": "display_data"
    },
    {
     "data": {
      "application/javascript": [
       "(function(root) {\n",
       "  function embed_document(root) {\n",
       "    \n",
       "  var docs_json = {\"27ad8448-f242-4f66-b999-608c2d75f640\":{\"roots\":{\"references\":[{\"attributes\":{\"line_alpha\":0.1,\"line_color\":\"#1f77b4\",\"x\":{\"field\":\"x\"},\"y\":{\"field\":\"y\"}},\"id\":\"28f02a7e-96a1-400f-a137-973911eaf559\",\"type\":\"Line\"},{\"attributes\":{\"formatter\":{\"id\":\"3200fe23-926d-4ab6-abf9-984e5e0113ed\",\"type\":\"BasicTickFormatter\"},\"plot\":{\"id\":\"c9ece2ed-40ca-4111-878f-10046efd42fa\",\"subtype\":\"Figure\",\"type\":\"Plot\"},\"ticker\":{\"id\":\"3df3db74-7bee-4bc2-8d0c-026cd3c4b1f4\",\"type\":\"BasicTicker\"}},\"id\":\"6ae05776-c162-4b22-9f30-9764e17e3ef4\",\"type\":\"LinearAxis\"},{\"attributes\":{},\"id\":\"3df3db74-7bee-4bc2-8d0c-026cd3c4b1f4\",\"type\":\"BasicTicker\"},{\"attributes\":{\"dimension\":1,\"plot\":{\"id\":\"c9ece2ed-40ca-4111-878f-10046efd42fa\",\"subtype\":\"Figure\",\"type\":\"Plot\"},\"ticker\":{\"id\":\"3df3db74-7bee-4bc2-8d0c-026cd3c4b1f4\",\"type\":\"BasicTicker\"}},\"id\":\"f1ef18d3-d292-4e96-8625-51c22e92b04a\",\"type\":\"Grid\"},{\"attributes\":{\"line_color\":\"blue\",\"x\":{\"field\":\"x\"},\"y\":{\"field\":\"y\"}},\"id\":\"434c8651-e302-4d7d-a4be-2edf3cb69cfd\",\"type\":\"Line\"},{\"attributes\":{\"data_source\":{\"id\":\"6791c6b0-0b73-442a-9a4d-d9a571dc1e74\",\"type\":\"ColumnDataSource\"},\"glyph\":{\"id\":\"434c8651-e302-4d7d-a4be-2edf3cb69cfd\",\"type\":\"Line\"},\"hover_glyph\":null,\"muted_glyph\":null,\"nonselection_glyph\":{\"id\":\"28f02a7e-96a1-400f-a137-973911eaf559\",\"type\":\"Line\"},\"selection_glyph\":null,\"view\":{\"id\":\"cd3d33a3-9577-4b06-a1f6-006a52451b80\",\"type\":\"CDSView\"}},\"id\":\"84db233a-cf62-48e8-9712-a4bc278231c6\",\"type\":\"GlyphRenderer\"},{\"attributes\":{},\"id\":\"3200fe23-926d-4ab6-abf9-984e5e0113ed\",\"type\":\"BasicTickFormatter\"},{\"attributes\":{\"below\":[{\"id\":\"5098857e-363f-40c0-828e-478733cc6cc5\",\"type\":\"LinearAxis\"}],\"left\":[{\"id\":\"6ae05776-c162-4b22-9f30-9764e17e3ef4\",\"type\":\"LinearAxis\"}],\"plot_height\":200,\"plot_width\":500,\"renderers\":[{\"id\":\"5098857e-363f-40c0-828e-478733cc6cc5\",\"type\":\"LinearAxis\"},{\"id\":\"e1050c5b-0444-411f-9ae8-6845545f7977\",\"type\":\"Grid\"},{\"id\":\"6ae05776-c162-4b22-9f30-9764e17e3ef4\",\"type\":\"LinearAxis\"},{\"id\":\"f1ef18d3-d292-4e96-8625-51c22e92b04a\",\"type\":\"Grid\"},{\"id\":\"84db233a-cf62-48e8-9712-a4bc278231c6\",\"type\":\"GlyphRenderer\"},{\"id\":\"a9adb960-1fb5-4419-b592-20857d44f872\",\"type\":\"GlyphRenderer\"}],\"title\":{\"id\":\"75299808-86d1-4b95-9339-e7c355b39162\",\"type\":\"Title\"},\"toolbar\":{\"id\":\"177400db-58cb-4280-80c8-27e35a99a838\",\"type\":\"Toolbar\"},\"x_range\":{\"id\":\"1fd0762f-39b0-4f66-ac3a-78eaf6fb8223\",\"type\":\"DataRange1d\"},\"x_scale\":{\"id\":\"b82ffda6-5edd-4635-9885-7453c0221317\",\"type\":\"LinearScale\"},\"y_range\":{\"id\":\"cd075644-694d-49b9-954f-fbf3b23e3753\",\"type\":\"DataRange1d\"},\"y_scale\":{\"id\":\"002270e2-2e03-48da-89a9-cc886e68ee06\",\"type\":\"LinearScale\"}},\"id\":\"c9ece2ed-40ca-4111-878f-10046efd42fa\",\"subtype\":\"Figure\",\"type\":\"Plot\"},{\"attributes\":{\"callback\":null,\"column_names\":[\"x\",\"y\"],\"data\":{\"x\":[1,2,3],\"y\":[1,2,1]}},\"id\":\"6791c6b0-0b73-442a-9a4d-d9a571dc1e74\",\"type\":\"ColumnDataSource\"},{\"attributes\":{\"callback\":null,\"column_names\":[\"x\",\"y\"],\"data\":{\"x\":[1,2,3],\"y\":[2,1,2]}},\"id\":\"e5510770-1390-439d-afa8-cb7740346210\",\"type\":\"ColumnDataSource\"},{\"attributes\":{\"source\":{\"id\":\"6791c6b0-0b73-442a-9a4d-d9a571dc1e74\",\"type\":\"ColumnDataSource\"}},\"id\":\"cd3d33a3-9577-4b06-a1f6-006a52451b80\",\"type\":\"CDSView\"},{\"attributes\":{\"active_drag\":\"auto\",\"active_inspect\":\"auto\",\"active_scroll\":\"auto\",\"active_tap\":\"auto\"},\"id\":\"177400db-58cb-4280-80c8-27e35a99a838\",\"type\":\"Toolbar\"},{\"attributes\":{},\"id\":\"6fa0d181-4c57-40fd-9759-f36e9f057870\",\"type\":\"BasicTickFormatter\"},{\"attributes\":{\"callback\":null},\"id\":\"1fd0762f-39b0-4f66-ac3a-78eaf6fb8223\",\"type\":\"DataRange1d\"},{\"attributes\":{\"plot\":null,\"text\":\"\"},\"id\":\"75299808-86d1-4b95-9339-e7c355b39162\",\"type\":\"Title\"},{\"attributes\":{\"source\":{\"id\":\"e5510770-1390-439d-afa8-cb7740346210\",\"type\":\"ColumnDataSource\"}},\"id\":\"5871f2fd-f2e0-456a-8537-9cc538bb6ffb\",\"type\":\"CDSView\"},{\"attributes\":{\"callback\":null},\"id\":\"cd075644-694d-49b9-954f-fbf3b23e3753\",\"type\":\"DataRange1d\"},{\"attributes\":{},\"id\":\"b82ffda6-5edd-4635-9885-7453c0221317\",\"type\":\"LinearScale\"},{\"attributes\":{},\"id\":\"002270e2-2e03-48da-89a9-cc886e68ee06\",\"type\":\"LinearScale\"},{\"attributes\":{\"line_color\":\"pink\",\"x\":{\"field\":\"x\"},\"y\":{\"field\":\"y\"}},\"id\":\"1f135070-de97-4055-a93e-7a026304016d\",\"type\":\"Line\"},{\"attributes\":{\"line_alpha\":0.1,\"line_color\":\"#1f77b4\",\"x\":{\"field\":\"x\"},\"y\":{\"field\":\"y\"}},\"id\":\"365554f0-063b-4034-b23e-1b2f0b6c204e\",\"type\":\"Line\"},{\"attributes\":{\"formatter\":{\"id\":\"6fa0d181-4c57-40fd-9759-f36e9f057870\",\"type\":\"BasicTickFormatter\"},\"plot\":{\"id\":\"c9ece2ed-40ca-4111-878f-10046efd42fa\",\"subtype\":\"Figure\",\"type\":\"Plot\"},\"ticker\":{\"id\":\"d0ef34fe-981e-42dc-8763-e1a951030192\",\"type\":\"BasicTicker\"},\"visible\":false},\"id\":\"5098857e-363f-40c0-828e-478733cc6cc5\",\"type\":\"LinearAxis\"},{\"attributes\":{\"data_source\":{\"id\":\"e5510770-1390-439d-afa8-cb7740346210\",\"type\":\"ColumnDataSource\"},\"glyph\":{\"id\":\"1f135070-de97-4055-a93e-7a026304016d\",\"type\":\"Line\"},\"hover_glyph\":null,\"muted_glyph\":null,\"nonselection_glyph\":{\"id\":\"365554f0-063b-4034-b23e-1b2f0b6c204e\",\"type\":\"Line\"},\"selection_glyph\":null,\"view\":{\"id\":\"5871f2fd-f2e0-456a-8537-9cc538bb6ffb\",\"type\":\"CDSView\"},\"visible\":false},\"id\":\"a9adb960-1fb5-4419-b592-20857d44f872\",\"type\":\"GlyphRenderer\"},{\"attributes\":{},\"id\":\"d0ef34fe-981e-42dc-8763-e1a951030192\",\"type\":\"BasicTicker\"},{\"attributes\":{\"plot\":{\"id\":\"c9ece2ed-40ca-4111-878f-10046efd42fa\",\"subtype\":\"Figure\",\"type\":\"Plot\"},\"ticker\":{\"id\":\"d0ef34fe-981e-42dc-8763-e1a951030192\",\"type\":\"BasicTicker\"},\"visible\":false},\"id\":\"e1050c5b-0444-411f-9ae8-6845545f7977\",\"type\":\"Grid\"}],\"root_ids\":[\"c9ece2ed-40ca-4111-878f-10046efd42fa\"]},\"title\":\"Bokeh Application\",\"version\":\"0.12.13\"}};\n",
       "  var render_items = [{\"docid\":\"27ad8448-f242-4f66-b999-608c2d75f640\",\"elementid\":\"7318dc8a-c58e-4de7-aec1-296e71ebfcd9\",\"modelid\":\"c9ece2ed-40ca-4111-878f-10046efd42fa\"}];\n",
       "  root.Bokeh.embed.embed_items_notebook(docs_json, render_items);\n",
       "\n",
       "  }\n",
       "  if (root.Bokeh !== undefined) {\n",
       "    embed_document(root);\n",
       "  } else {\n",
       "    var attempts = 0;\n",
       "    var timer = setInterval(function(root) {\n",
       "      if (root.Bokeh !== undefined) {\n",
       "        embed_document(root);\n",
       "        clearInterval(timer);\n",
       "      }\n",
       "      attempts++;\n",
       "      if (attempts > 100) {\n",
       "        console.log(\"Bokeh: ERROR: Unable to run BokehJS code because BokehJS library is missing\")\n",
       "        clearInterval(timer);\n",
       "      }\n",
       "    }, 10, root)\n",
       "  }\n",
       "})(window);"
      ],
      "application/vnd.bokehjs_exec.v0+json": ""
     },
     "metadata": {
      "application/vnd.bokehjs_exec.v0+json": {
       "id": "c9ece2ed-40ca-4111-878f-10046efd42fa"
      }
     },
     "output_type": "display_data"
    }
   ],
   "source": [
    "# We set-up a standard figure with two lines\n",
    "p = figure(plot_width=500, plot_height=200, tools='')\n",
    "visible_line = p.line([1, 2, 3], [1, 2, 1], line_color=\"blue\")\n",
    "invisible_line = p.line([1, 2, 3], [2, 1, 2], line_color=\"pink\")\n",
    "\n",
    "# We hide the xaxis, the xgrid lines, and the pink line\n",
    "invisible_line.visible = False\n",
    "p.xaxis.visible = False\n",
    "p.xgrid.visible = False\n",
    "\n",
    "show(p)"
   ]
  },
  {
   "cell_type": "code",
   "execution_count": 4,
   "metadata": {},
   "outputs": [
    {
     "data": {
      "text/html": [
       "\n",
       "<div class=\"bk-root\">\n",
       "    <div class=\"bk-plotdiv\" id=\"4ef548b1-7c60-40a4-924b-498348b72520\"></div>\n",
       "</div>"
      ]
     },
     "metadata": {},
     "output_type": "display_data"
    },
    {
     "data": {
      "application/javascript": [
       "(function(root) {\n",
       "  function embed_document(root) {\n",
       "    \n",
       "  var docs_json = {\"f3287d2e-80e7-4774-afb1-ce051ba2c84f\":{\"roots\":{\"references\":[{\"attributes\":{},\"id\":\"222c39d8-08ed-465c-afde-1af9db615e66\",\"type\":\"BasicTicker\"},{\"attributes\":{\"callback\":null},\"id\":\"7afc9c82-16f3-4429-8a3c-a50a6c57f9d9\",\"type\":\"DataRange1d\"},{\"attributes\":{\"line_alpha\":0.1,\"line_color\":\"#1f77b4\",\"x\":{\"field\":\"x\"},\"y\":{\"field\":\"y\"}},\"id\":\"d5a58bfc-5c74-410e-8b09-e47793f9d3ac\",\"type\":\"Line\"},{\"attributes\":{\"plot\":{\"id\":\"9fc2f3ef-378a-48a2-a2d3-fe9fce1648b3\",\"subtype\":\"Figure\",\"type\":\"Plot\"},\"ticker\":{\"id\":\"222c39d8-08ed-465c-afde-1af9db615e66\",\"type\":\"BasicTicker\"}},\"id\":\"0d55450e-5644-4e99-8a75-868fb5e3be00\",\"type\":\"Grid\"},{\"attributes\":{},\"id\":\"52973553-08c4-4273-94d2-0d50b551194e\",\"type\":\"BasicTickFormatter\"},{\"attributes\":{\"formatter\":{\"id\":\"52973553-08c4-4273-94d2-0d50b551194e\",\"type\":\"BasicTickFormatter\"},\"plot\":{\"id\":\"9fc2f3ef-378a-48a2-a2d3-fe9fce1648b3\",\"subtype\":\"Figure\",\"type\":\"Plot\"},\"ticker\":{\"id\":\"fb431535-418d-4d07-87d1-68ff99fa700f\",\"type\":\"BasicTicker\"}},\"id\":\"b5b221e0-9b64-4c69-ac6f-483b20e5e6c6\",\"type\":\"LinearAxis\"},{\"attributes\":{},\"id\":\"ae31ff4d-1db4-4c63-bc92-1c65bc374bab\",\"type\":\"LinearScale\"},{\"attributes\":{},\"id\":\"fb431535-418d-4d07-87d1-68ff99fa700f\",\"type\":\"BasicTicker\"},{\"attributes\":{\"line_color\":\"blue\",\"x\":{\"field\":\"x\"},\"y\":{\"field\":\"y\"}},\"id\":\"4e2777a4-03ef-42fb-84f7-28f87ae2499d\",\"type\":\"Line\"},{\"attributes\":{\"dimension\":1,\"plot\":{\"id\":\"9fc2f3ef-378a-48a2-a2d3-fe9fce1648b3\",\"subtype\":\"Figure\",\"type\":\"Plot\"},\"ticker\":{\"id\":\"fb431535-418d-4d07-87d1-68ff99fa700f\",\"type\":\"BasicTicker\"}},\"id\":\"4a05c180-6177-41f3-b98f-ee9655f88d26\",\"type\":\"Grid\"},{\"attributes\":{\"children\":[{\"id\":\"9fc2f3ef-378a-48a2-a2d3-fe9fce1648b3\",\"subtype\":\"Figure\",\"type\":\"Plot\"}]},\"id\":\"3c099318-4904-4e5a-aa81-43f336b868ad\",\"type\":\"Row\"},{\"attributes\":{\"formatter\":{\"id\":\"90e3387b-ec52-4509-9543-4e860060baf0\",\"type\":\"BasicTickFormatter\"},\"plot\":{\"id\":\"9fc2f3ef-378a-48a2-a2d3-fe9fce1648b3\",\"subtype\":\"Figure\",\"type\":\"Plot\"},\"ticker\":{\"id\":\"222c39d8-08ed-465c-afde-1af9db615e66\",\"type\":\"BasicTicker\"}},\"id\":\"1b784c13-8bc5-4bc3-a710-ed11430433d9\",\"type\":\"LinearAxis\"},{\"attributes\":{\"data_source\":{\"id\":\"5b0e237d-958b-4791-9184-754b8d48a7c8\",\"type\":\"ColumnDataSource\"},\"glyph\":{\"id\":\"4e2777a4-03ef-42fb-84f7-28f87ae2499d\",\"type\":\"Line\"},\"hover_glyph\":null,\"muted_glyph\":null,\"nonselection_glyph\":{\"id\":\"d5a58bfc-5c74-410e-8b09-e47793f9d3ac\",\"type\":\"Line\"},\"selection_glyph\":null,\"view\":{\"id\":\"14454075-a147-4b7f-9234-07668d1c81da\",\"type\":\"CDSView\"}},\"id\":\"4335f016-93ab-4232-9fb0-8fe45a1eedd8\",\"type\":\"GlyphRenderer\"},{\"attributes\":{\"source\":{\"id\":\"5b0e237d-958b-4791-9184-754b8d48a7c8\",\"type\":\"ColumnDataSource\"}},\"id\":\"14454075-a147-4b7f-9234-07668d1c81da\",\"type\":\"CDSView\"},{\"attributes\":{\"args\":{\"object\":{\"id\":\"dfc60230-3882-4f6f-81ce-45d3f3532a03\",\"type\":\"BoxAnnotation\"},\"toggle\":{\"id\":\"0ceb8fe9-447a-4cf5-8b1c-2b196eea9373\",\"type\":\"Toggle\"}},\"code\":\"object.visible = toggle.active;\\r\\n\"},\"id\":\"b3fcdca0-0080-4f94-a29c-de08995ffc86\",\"type\":\"CustomJS\"},{\"attributes\":{\"plot\":null,\"text\":\"\"},\"id\":\"1b9a3d8d-44b9-4593-a74a-978506ad9f92\",\"type\":\"Title\"},{\"attributes\":{},\"id\":\"0f66a5bb-9df0-483f-835e-70d266b8754a\",\"type\":\"LinearScale\"},{\"attributes\":{\"line_color\":\"pink\",\"x\":{\"field\":\"x\"},\"y\":{\"field\":\"y\"}},\"id\":\"9802e88d-22b4-4743-8473-fe23c628ef6e\",\"type\":\"Line\"},{\"attributes\":{\"args\":{\"object\":{\"id\":\"cb5a62d6-e484-4987-9620-e55ccf5bcc46\",\"type\":\"GlyphRenderer\"},\"toggle\":{\"id\":\"789371e1-c009-4f0c-ba08-a00312913e08\",\"type\":\"Toggle\"}},\"code\":\"object.visible = toggle.active;\\r\\n\"},\"id\":\"d1584b9e-5353-4545-abe5-03f1ffc8f255\",\"type\":\"CustomJS\"},{\"attributes\":{\"line_alpha\":0.1,\"line_color\":\"#1f77b4\",\"x\":{\"field\":\"x\"},\"y\":{\"field\":\"y\"}},\"id\":\"edd57658-c90d-4bab-9de9-24ba8eda8778\",\"type\":\"Line\"},{\"attributes\":{\"fill_alpha\":{\"value\":0.1},\"fill_color\":{\"value\":\"green\"},\"left\":1.5,\"plot\":{\"id\":\"9fc2f3ef-378a-48a2-a2d3-fe9fce1648b3\",\"subtype\":\"Figure\",\"type\":\"Plot\"},\"right\":2.5},\"id\":\"dfc60230-3882-4f6f-81ce-45d3f3532a03\",\"type\":\"BoxAnnotation\"},{\"attributes\":{},\"id\":\"90e3387b-ec52-4509-9543-4e860060baf0\",\"type\":\"BasicTickFormatter\"},{\"attributes\":{\"source\":{\"id\":\"ddc9dcbb-1711-4005-9819-63afcf8f7083\",\"type\":\"ColumnDataSource\"}},\"id\":\"59770694-2aa5-42be-a60e-e47f85470cc2\",\"type\":\"CDSView\"},{\"attributes\":{\"button_type\":\"success\",\"callback\":{\"id\":\"d1584b9e-5353-4545-abe5-03f1ffc8f255\",\"type\":\"CustomJS\"},\"icon\":null,\"label\":\"Pink Line\"},\"id\":\"789371e1-c009-4f0c-ba08-a00312913e08\",\"type\":\"Toggle\"},{\"attributes\":{\"data_source\":{\"id\":\"ddc9dcbb-1711-4005-9819-63afcf8f7083\",\"type\":\"ColumnDataSource\"},\"glyph\":{\"id\":\"9802e88d-22b4-4743-8473-fe23c628ef6e\",\"type\":\"Line\"},\"hover_glyph\":null,\"muted_glyph\":null,\"nonselection_glyph\":{\"id\":\"edd57658-c90d-4bab-9de9-24ba8eda8778\",\"type\":\"Line\"},\"selection_glyph\":null,\"view\":{\"id\":\"59770694-2aa5-42be-a60e-e47f85470cc2\",\"type\":\"CDSView\"}},\"id\":\"cb5a62d6-e484-4987-9620-e55ccf5bcc46\",\"type\":\"GlyphRenderer\"},{\"attributes\":{\"button_type\":\"success\",\"callback\":{\"id\":\"b3fcdca0-0080-4f94-a29c-de08995ffc86\",\"type\":\"CustomJS\"},\"icon\":null,\"label\":\"Green Box\"},\"id\":\"0ceb8fe9-447a-4cf5-8b1c-2b196eea9373\",\"type\":\"Toggle\"},{\"attributes\":{\"children\":[{\"id\":\"0ceb8fe9-447a-4cf5-8b1c-2b196eea9373\",\"type\":\"Toggle\"}]},\"id\":\"0f9ac330-ec53-4c13-83f8-9d6b5b7ca097\",\"type\":\"WidgetBox\"},{\"attributes\":{\"children\":[{\"id\":\"3c099318-4904-4e5a-aa81-43f336b868ad\",\"type\":\"Row\"},{\"id\":\"5c8a2150-f20f-4246-a4b1-d17708740bb0\",\"type\":\"Row\"}]},\"id\":\"969a2fa2-ceac-4093-8802-fedb867dd177\",\"type\":\"Column\"},{\"attributes\":{\"children\":[{\"id\":\"0f9ac330-ec53-4c13-83f8-9d6b5b7ca097\",\"type\":\"WidgetBox\"},{\"id\":\"e81d2c33-5014-466d-9f4e-1acb2d12edda\",\"type\":\"WidgetBox\"}]},\"id\":\"5c8a2150-f20f-4246-a4b1-d17708740bb0\",\"type\":\"Row\"},{\"attributes\":{\"callback\":null,\"column_names\":[\"x\",\"y\"],\"data\":{\"x\":[1,2,3],\"y\":[2,1,2]}},\"id\":\"ddc9dcbb-1711-4005-9819-63afcf8f7083\",\"type\":\"ColumnDataSource\"},{\"attributes\":{\"children\":[{\"id\":\"789371e1-c009-4f0c-ba08-a00312913e08\",\"type\":\"Toggle\"}]},\"id\":\"e81d2c33-5014-466d-9f4e-1acb2d12edda\",\"type\":\"WidgetBox\"},{\"attributes\":{\"active_drag\":\"auto\",\"active_inspect\":\"auto\",\"active_scroll\":\"auto\",\"active_tap\":\"auto\"},\"id\":\"de1001ca-2415-43e1-8f4f-f45ae90495f3\",\"type\":\"Toolbar\"},{\"attributes\":{\"callback\":null,\"column_names\":[\"x\",\"y\"],\"data\":{\"x\":[1,2,3],\"y\":[1,2,1]}},\"id\":\"5b0e237d-958b-4791-9184-754b8d48a7c8\",\"type\":\"ColumnDataSource\"},{\"attributes\":{\"below\":[{\"id\":\"1b784c13-8bc5-4bc3-a710-ed11430433d9\",\"type\":\"LinearAxis\"}],\"left\":[{\"id\":\"b5b221e0-9b64-4c69-ac6f-483b20e5e6c6\",\"type\":\"LinearAxis\"}],\"plot_height\":200,\"renderers\":[{\"id\":\"1b784c13-8bc5-4bc3-a710-ed11430433d9\",\"type\":\"LinearAxis\"},{\"id\":\"0d55450e-5644-4e99-8a75-868fb5e3be00\",\"type\":\"Grid\"},{\"id\":\"b5b221e0-9b64-4c69-ac6f-483b20e5e6c6\",\"type\":\"LinearAxis\"},{\"id\":\"4a05c180-6177-41f3-b98f-ee9655f88d26\",\"type\":\"Grid\"},{\"id\":\"4335f016-93ab-4232-9fb0-8fe45a1eedd8\",\"type\":\"GlyphRenderer\"},{\"id\":\"cb5a62d6-e484-4987-9620-e55ccf5bcc46\",\"type\":\"GlyphRenderer\"},{\"id\":\"dfc60230-3882-4f6f-81ce-45d3f3532a03\",\"type\":\"BoxAnnotation\"}],\"title\":{\"id\":\"1b9a3d8d-44b9-4593-a74a-978506ad9f92\",\"type\":\"Title\"},\"toolbar\":{\"id\":\"de1001ca-2415-43e1-8f4f-f45ae90495f3\",\"type\":\"Toolbar\"},\"x_range\":{\"id\":\"1ecb7f83-67c9-428f-8cff-349e96b9313d\",\"type\":\"DataRange1d\"},\"x_scale\":{\"id\":\"ae31ff4d-1db4-4c63-bc92-1c65bc374bab\",\"type\":\"LinearScale\"},\"y_range\":{\"id\":\"7afc9c82-16f3-4429-8a3c-a50a6c57f9d9\",\"type\":\"DataRange1d\"},\"y_scale\":{\"id\":\"0f66a5bb-9df0-483f-835e-70d266b8754a\",\"type\":\"LinearScale\"}},\"id\":\"9fc2f3ef-378a-48a2-a2d3-fe9fce1648b3\",\"subtype\":\"Figure\",\"type\":\"Plot\"},{\"attributes\":{\"callback\":null},\"id\":\"1ecb7f83-67c9-428f-8cff-349e96b9313d\",\"type\":\"DataRange1d\"}],\"root_ids\":[\"969a2fa2-ceac-4093-8802-fedb867dd177\"]},\"title\":\"Bokeh Application\",\"version\":\"0.12.13\"}};\n",
       "  var render_items = [{\"docid\":\"f3287d2e-80e7-4774-afb1-ce051ba2c84f\",\"elementid\":\"4ef548b1-7c60-40a4-924b-498348b72520\",\"modelid\":\"969a2fa2-ceac-4093-8802-fedb867dd177\"}];\n",
       "  root.Bokeh.embed.embed_items_notebook(docs_json, render_items);\n",
       "\n",
       "  }\n",
       "  if (root.Bokeh !== undefined) {\n",
       "    embed_document(root);\n",
       "  } else {\n",
       "    var attempts = 0;\n",
       "    var timer = setInterval(function(root) {\n",
       "      if (root.Bokeh !== undefined) {\n",
       "        embed_document(root);\n",
       "        clearInterval(timer);\n",
       "      }\n",
       "      attempts++;\n",
       "      if (attempts > 100) {\n",
       "        console.log(\"Bokeh: ERROR: Unable to run BokehJS code because BokehJS library is missing\")\n",
       "        clearInterval(timer);\n",
       "      }\n",
       "    }, 10, root)\n",
       "  }\n",
       "})(window);"
      ],
      "application/vnd.bokehjs_exec.v0+json": ""
     },
     "metadata": {
      "application/vnd.bokehjs_exec.v0+json": {
       "id": "969a2fa2-ceac-4093-8802-fedb867dd177"
      }
     },
     "output_type": "display_data"
    }
   ],
   "source": [
    "from bokeh.layouts import layout\n",
    "from bokeh.models import Toggle, BoxAnnotation, CustomJS\n",
    "\n",
    "# We set-up the same standard figure with two lines and now a box over top\n",
    "p = figure(plot_width=600, plot_height=200, tools='')\n",
    "visible_line = p.line([1, 2, 3], [1, 2, 1], line_color=\"blue\")\n",
    "invisible_line = p.line([1, 2, 3], [2, 1, 2], line_color=\"pink\")\n",
    "\n",
    "box = BoxAnnotation(left=1.5, right=2.5, fill_color='green', fill_alpha=0.1)\n",
    "p.add_layout(box)\n",
    "\n",
    "# We write coffeescript to link toggle with visible property of box and line\n",
    "code = '''\\\n",
    "object.visible = toggle.active\n",
    "'''\n",
    "\n",
    "callback1 = CustomJS.from_coffeescript(code=code, args={})\n",
    "toggle1 = Toggle(label=\"Green Box\", button_type=\"success\", callback=callback1)\n",
    "callback1.args = {'toggle': toggle1, 'object': box}\n",
    "\n",
    "callback2 = CustomJS.from_coffeescript(code=code, args={})\n",
    "toggle2 = Toggle(label=\"Pink Line\", button_type=\"success\", callback=callback2)\n",
    "callback2.args = {'toggle': toggle2, 'object': invisible_line}\n",
    "\n",
    "show(layout([p], [toggle1, toggle2]))"
   ]
  },
  {
   "cell_type": "markdown",
   "metadata": {},
   "source": [
    "### Specifying Colors\n",
    "&emsp;&emsp;Color values can be provided in any of the following ways:\n",
    "- any of the 147 named CSS colors, e.g 'green', 'indigo'\n",
    "- an RGB(A) hex value, e.g., '#FF0000', '#44444444'\n",
    "- a 3-tuple of integers (r,g,b) between 0 and 255\n",
    "- a 4-tuple of (r,g,b,a) where r, g, b are integers between 0 and 255 and a is a floating point value between 0 and 1\n",
    "\n",
    "### Styling Arrow Annotations\n",
    "&emsp;&emsp;There are several ArrowHead subtypes that can be applied to Arrow annotations. Setting the start or end property to None will cause no arrow head to be applied at the specified arrow end. Double-sided arrows can be created by setting both start and end styles. Setting visible to false on an arrow will also make the corresponding arrow head invisible.\n",
    "\n",
    "### Screen Units and Data-space Units\n",
    "&emsp;&emsp;Screen units use raw numbers of pixels to specify height or width, while data-space units are relative to the data and the axes of the plot. For example, in a 400 pixel by 400 pixel graph with x and y axes ranging from 0 through 10, a glyph one fifth as wide and tall as the graph would be 80 screen units or 2 data-space units."
   ]
  },
  {
   "cell_type": "markdown",
   "metadata": {},
   "source": [
    "## Selecting Plot Objects"
   ]
  },
  {
   "cell_type": "code",
   "execution_count": 5,
   "metadata": {},
   "outputs": [
    {
     "data": {
      "text/plain": [
       "[]"
      ]
     },
     "execution_count": 5,
     "metadata": {},
     "output_type": "execute_result"
    }
   ],
   "source": [
    "from bokeh.models.tools import PanTool\n",
    "p.select(type=PanTool)"
   ]
  },
  {
   "cell_type": "code",
   "execution_count": 6,
   "metadata": {},
   "outputs": [
    {
     "data": {
      "text/html": [
       "<div style=\"display: table;\"><div style=\"display: table-row;\"><div style=\"display: table-cell;\"><b title=\"bokeh.models.renderers.GlyphRenderer\">GlyphRenderer</b>(</div><div style=\"display: table-cell;\">id&nbsp;=&nbsp;'5371de21-b01a-47bb-8617-a7a7ed11ff52', <span id=\"228a5a08-3f16-4233-bdf4-ea9222d2580b\" style=\"cursor: pointer;\">&hellip;)</span></div></div><div class=\"b4cee39c-d06f-4802-92db-a67f689a34b3\" style=\"display: none;\"><div style=\"display: table-cell;\"></div><div style=\"display: table-cell;\">data_source&nbsp;=&nbsp;ColumnDataSource(id='9d2aa3c8-8070-49b8-b74c-b90efc2246ef', ...),</div></div><div class=\"b4cee39c-d06f-4802-92db-a67f689a34b3\" style=\"display: none;\"><div style=\"display: table-cell;\"></div><div style=\"display: table-cell;\">glyph&nbsp;=&nbsp;Circle(id='b537cb02-7e63-4ef1-bf2a-1ce05bb06c04', ...),</div></div><div class=\"b4cee39c-d06f-4802-92db-a67f689a34b3\" style=\"display: none;\"><div style=\"display: table-cell;\"></div><div style=\"display: table-cell;\">hover_glyph&nbsp;=&nbsp;None,</div></div><div class=\"b4cee39c-d06f-4802-92db-a67f689a34b3\" style=\"display: none;\"><div style=\"display: table-cell;\"></div><div style=\"display: table-cell;\">js_event_callbacks&nbsp;=&nbsp;{},</div></div><div class=\"b4cee39c-d06f-4802-92db-a67f689a34b3\" style=\"display: none;\"><div style=\"display: table-cell;\"></div><div style=\"display: table-cell;\">js_property_callbacks&nbsp;=&nbsp;{},</div></div><div class=\"b4cee39c-d06f-4802-92db-a67f689a34b3\" style=\"display: none;\"><div style=\"display: table-cell;\"></div><div style=\"display: table-cell;\">level&nbsp;=&nbsp;'glyph',</div></div><div class=\"b4cee39c-d06f-4802-92db-a67f689a34b3\" style=\"display: none;\"><div style=\"display: table-cell;\"></div><div style=\"display: table-cell;\">muted&nbsp;=&nbsp;False,</div></div><div class=\"b4cee39c-d06f-4802-92db-a67f689a34b3\" style=\"display: none;\"><div style=\"display: table-cell;\"></div><div style=\"display: table-cell;\">muted_glyph&nbsp;=&nbsp;None,</div></div><div class=\"b4cee39c-d06f-4802-92db-a67f689a34b3\" style=\"display: none;\"><div style=\"display: table-cell;\"></div><div style=\"display: table-cell;\">name&nbsp;=&nbsp;'mycircle',</div></div><div class=\"b4cee39c-d06f-4802-92db-a67f689a34b3\" style=\"display: none;\"><div style=\"display: table-cell;\"></div><div style=\"display: table-cell;\">nonselection_glyph&nbsp;=&nbsp;Circle(id='8918c997-864e-4014-9fa6-b242b4cf0257', ...),</div></div><div class=\"b4cee39c-d06f-4802-92db-a67f689a34b3\" style=\"display: none;\"><div style=\"display: table-cell;\"></div><div style=\"display: table-cell;\">selection_glyph&nbsp;=&nbsp;None,</div></div><div class=\"b4cee39c-d06f-4802-92db-a67f689a34b3\" style=\"display: none;\"><div style=\"display: table-cell;\"></div><div style=\"display: table-cell;\">subscribed_events&nbsp;=&nbsp;[],</div></div><div class=\"b4cee39c-d06f-4802-92db-a67f689a34b3\" style=\"display: none;\"><div style=\"display: table-cell;\"></div><div style=\"display: table-cell;\">tags&nbsp;=&nbsp;[],</div></div><div class=\"b4cee39c-d06f-4802-92db-a67f689a34b3\" style=\"display: none;\"><div style=\"display: table-cell;\"></div><div style=\"display: table-cell;\">view&nbsp;=&nbsp;CDSView(id='00d52c2e-abe1-4ef6-8040-36fcfc7e7945', ...),</div></div><div class=\"b4cee39c-d06f-4802-92db-a67f689a34b3\" style=\"display: none;\"><div style=\"display: table-cell;\"></div><div style=\"display: table-cell;\">visible&nbsp;=&nbsp;True,</div></div><div class=\"b4cee39c-d06f-4802-92db-a67f689a34b3\" style=\"display: none;\"><div style=\"display: table-cell;\"></div><div style=\"display: table-cell;\">x_range_name&nbsp;=&nbsp;'default',</div></div><div class=\"b4cee39c-d06f-4802-92db-a67f689a34b3\" style=\"display: none;\"><div style=\"display: table-cell;\"></div><div style=\"display: table-cell;\">y_range_name&nbsp;=&nbsp;'default')</div></div></div>\n",
       "<script>\n",
       "(function() {\n",
       "  var expanded = false;\n",
       "  var ellipsis = document.getElementById(\"228a5a08-3f16-4233-bdf4-ea9222d2580b\");\n",
       "  ellipsis.addEventListener(\"click\", function() {\n",
       "    var rows = document.getElementsByClassName(\"b4cee39c-d06f-4802-92db-a67f689a34b3\");\n",
       "    for (var i = 0; i < rows.length; i++) {\n",
       "      var el = rows[i];\n",
       "      el.style.display = expanded ? \"none\" : \"table-row\";\n",
       "    }\n",
       "    ellipsis.innerHTML = expanded ? \"&hellip;)\" : \"&lsaquo;&lsaquo;&lsaquo;\";\n",
       "    expanded = !expanded;\n",
       "  });\n",
       "})();\n",
       "</script>\n"
      ],
      "text/plain": [
       "GlyphRenderer(id='5371de21-b01a-47bb-8617-a7a7ed11ff52', ...)"
      ]
     },
     "execution_count": 6,
     "metadata": {},
     "output_type": "execute_result"
    }
   ],
   "source": [
    "p.circle(0, 0, name=\"mycircle\")"
   ]
  },
  {
   "cell_type": "code",
   "execution_count": 7,
   "metadata": {},
   "outputs": [
    {
     "data": {
      "text/plain": [
       "[GlyphRenderer(id='5371de21-b01a-47bb-8617-a7a7ed11ff52', ...)]"
      ]
     },
     "execution_count": 7,
     "metadata": {},
     "output_type": "execute_result"
    }
   ],
   "source": [
    "p.select(name=\"mycircle\")"
   ]
  },
  {
   "cell_type": "markdown",
   "metadata": {},
   "source": [
    "## Plot"
   ]
  },
  {
   "cell_type": "code",
   "execution_count": 8,
   "metadata": {},
   "outputs": [
    {
     "data": {
      "text/html": [
       "\n",
       "<div class=\"bk-root\">\n",
       "    <div class=\"bk-plotdiv\" id=\"1659fc7b-342e-4177-855a-1d32c08a3ce3\"></div>\n",
       "</div>"
      ]
     },
     "metadata": {},
     "output_type": "display_data"
    },
    {
     "data": {
      "application/javascript": [
       "(function(root) {\n",
       "  function embed_document(root) {\n",
       "    \n",
       "  var docs_json = {\"fe3155d6-d169-49e0-b4f7-602abf56cc0d\":{\"roots\":{\"references\":[{\"attributes\":{\"callback\":null},\"id\":\"035e33b2-598a-4daf-98af-4e3082d9b6f8\",\"type\":\"DataRange1d\"},{\"attributes\":{},\"id\":\"cb9577b7-5ab9-4f4b-aff4-355a08e0f1c0\",\"type\":\"HelpTool\"},{\"attributes\":{\"bottom_units\":\"screen\",\"fill_alpha\":{\"value\":0.5},\"fill_color\":{\"value\":\"lightgrey\"},\"left_units\":\"screen\",\"level\":\"overlay\",\"line_alpha\":{\"value\":1.0},\"line_color\":{\"value\":\"black\"},\"line_dash\":[4,4],\"line_width\":{\"value\":2},\"plot\":null,\"render_mode\":\"css\",\"right_units\":\"screen\",\"top_units\":\"screen\"},\"id\":\"dda2ecf8-ea32-4530-a8f9-732d0a2c9253\",\"type\":\"BoxAnnotation\"},{\"attributes\":{},\"id\":\"a7461bb7-d105-40c1-99cf-99e5bd1f9a1b\",\"type\":\"SaveTool\"},{\"attributes\":{},\"id\":\"4b894c93-1e23-4420-bf0e-f01749646e30\",\"type\":\"ResetTool\"},{\"attributes\":{\"fill_alpha\":{\"value\":0.1},\"fill_color\":{\"value\":\"#1f77b4\"},\"line_alpha\":{\"value\":0.1},\"line_color\":{\"value\":\"#1f77b4\"},\"size\":{\"units\":\"screen\",\"value\":10},\"x\":{\"field\":\"x\"},\"y\":{\"field\":\"y\"}},\"id\":\"76c9ed19-7e21-441f-b2d9-449d9195e07d\",\"type\":\"Circle\"},{\"attributes\":{},\"id\":\"105bd8be-e4dc-4bb4-ac69-2bca6183b147\",\"type\":\"BasicTickFormatter\"},{\"attributes\":{\"callback\":null},\"id\":\"470a6501-ca9a-437f-8ade-4182d584cf5b\",\"type\":\"DataRange1d\"},{\"attributes\":{},\"id\":\"63630f82-8c5b-4a6c-8cbf-a6f4d1b20e0c\",\"type\":\"BasicTickFormatter\"},{\"attributes\":{\"active_drag\":\"auto\",\"active_inspect\":\"auto\",\"active_scroll\":\"auto\",\"active_tap\":\"auto\",\"tools\":[{\"id\":\"722ea593-73ff-4b92-a575-225c57a8a134\",\"type\":\"PanTool\"},{\"id\":\"ada46ae8-c8c4-4a85-a005-64dcde722dfb\",\"type\":\"WheelZoomTool\"},{\"id\":\"144f96ee-e36d-4f09-8cac-a8b6db471752\",\"type\":\"BoxZoomTool\"},{\"id\":\"a7461bb7-d105-40c1-99cf-99e5bd1f9a1b\",\"type\":\"SaveTool\"},{\"id\":\"4b894c93-1e23-4420-bf0e-f01749646e30\",\"type\":\"ResetTool\"},{\"id\":\"cb9577b7-5ab9-4f4b-aff4-355a08e0f1c0\",\"type\":\"HelpTool\"}]},\"id\":\"1d7eaca8-835e-45d5-8c73-cfd1e717a992\",\"type\":\"Toolbar\"},{\"attributes\":{},\"id\":\"bdc7ef07-166a-4c8d-a85a-784e646a6683\",\"type\":\"LinearScale\"},{\"attributes\":{\"plot\":null,\"text\":\"\"},\"id\":\"37f19e88-4eb7-4bca-bf26-9fc18546d4cf\",\"type\":\"Title\"},{\"attributes\":{\"dimension\":1,\"plot\":{\"id\":\"74a66c79-5301-4ca2-ac6a-14b16df588bb\",\"subtype\":\"Figure\",\"type\":\"Plot\"},\"ticker\":{\"id\":\"a065cfc0-7ee2-4b00-a698-e1de1b18a412\",\"type\":\"BasicTicker\"}},\"id\":\"57890f0f-b04e-4be9-885f-22bf147d2c27\",\"type\":\"Grid\"},{\"attributes\":{\"data_source\":{\"id\":\"ceb0468b-4676-4d8b-abc2-63f25007581a\",\"type\":\"ColumnDataSource\"},\"glyph\":{\"id\":\"310dac14-986c-4e8e-bda7-b8020b34d82c\",\"type\":\"Circle\"},\"hover_glyph\":null,\"muted_glyph\":null,\"nonselection_glyph\":{\"id\":\"76c9ed19-7e21-441f-b2d9-449d9195e07d\",\"type\":\"Circle\"},\"selection_glyph\":null,\"view\":{\"id\":\"c6578085-77bc-46d7-b094-16d487300721\",\"type\":\"CDSView\"}},\"id\":\"00d5def1-8002-4b75-853e-f04b1453f980\",\"type\":\"GlyphRenderer\"},{\"attributes\":{},\"id\":\"a065cfc0-7ee2-4b00-a698-e1de1b18a412\",\"type\":\"BasicTicker\"},{\"attributes\":{},\"id\":\"09605c06-c00d-4598-bb5d-8a32b17c444a\",\"type\":\"LinearScale\"},{\"attributes\":{},\"id\":\"ada46ae8-c8c4-4a85-a005-64dcde722dfb\",\"type\":\"WheelZoomTool\"},{\"attributes\":{\"formatter\":{\"id\":\"63630f82-8c5b-4a6c-8cbf-a6f4d1b20e0c\",\"type\":\"BasicTickFormatter\"},\"plot\":{\"id\":\"74a66c79-5301-4ca2-ac6a-14b16df588bb\",\"subtype\":\"Figure\",\"type\":\"Plot\"},\"ticker\":{\"id\":\"a065cfc0-7ee2-4b00-a698-e1de1b18a412\",\"type\":\"BasicTicker\"}},\"id\":\"5a350a4a-2002-46eb-8a21-2dcc16533c03\",\"type\":\"LinearAxis\"},{\"attributes\":{\"fill_color\":{\"value\":\"#1f77b4\"},\"line_color\":{\"value\":\"#1f77b4\"},\"size\":{\"units\":\"screen\",\"value\":10},\"x\":{\"field\":\"x\"},\"y\":{\"field\":\"y\"}},\"id\":\"310dac14-986c-4e8e-bda7-b8020b34d82c\",\"type\":\"Circle\"},{\"attributes\":{\"callback\":null,\"column_names\":[\"x\",\"y\"],\"data\":{\"x\":[1,2,3,4,5],\"y\":[2,5,8,2,7]}},\"id\":\"ceb0468b-4676-4d8b-abc2-63f25007581a\",\"type\":\"ColumnDataSource\"},{\"attributes\":{},\"id\":\"7dd07cc5-e8ab-40c9-90d7-2e77ca32174c\",\"type\":\"BasicTicker\"},{\"attributes\":{\"formatter\":{\"id\":\"105bd8be-e4dc-4bb4-ac69-2bca6183b147\",\"type\":\"BasicTickFormatter\"},\"plot\":{\"id\":\"74a66c79-5301-4ca2-ac6a-14b16df588bb\",\"subtype\":\"Figure\",\"type\":\"Plot\"},\"ticker\":{\"id\":\"7dd07cc5-e8ab-40c9-90d7-2e77ca32174c\",\"type\":\"BasicTicker\"}},\"id\":\"5b03d432-de2b-4a1e-877b-62d16645883f\",\"type\":\"LinearAxis\"},{\"attributes\":{\"plot\":{\"id\":\"74a66c79-5301-4ca2-ac6a-14b16df588bb\",\"subtype\":\"Figure\",\"type\":\"Plot\"},\"ticker\":{\"id\":\"7dd07cc5-e8ab-40c9-90d7-2e77ca32174c\",\"type\":\"BasicTicker\"}},\"id\":\"3e73ab0c-1b57-4b2d-af14-16866b2a5107\",\"type\":\"Grid\"},{\"attributes\":{\"source\":{\"id\":\"ceb0468b-4676-4d8b-abc2-63f25007581a\",\"type\":\"ColumnDataSource\"}},\"id\":\"c6578085-77bc-46d7-b094-16d487300721\",\"type\":\"CDSView\"},{\"attributes\":{},\"id\":\"722ea593-73ff-4b92-a575-225c57a8a134\",\"type\":\"PanTool\"},{\"attributes\":{\"below\":[{\"id\":\"5b03d432-de2b-4a1e-877b-62d16645883f\",\"type\":\"LinearAxis\"}],\"left\":[{\"id\":\"5a350a4a-2002-46eb-8a21-2dcc16533c03\",\"type\":\"LinearAxis\"}],\"plot_height\":400,\"renderers\":[{\"id\":\"5b03d432-de2b-4a1e-877b-62d16645883f\",\"type\":\"LinearAxis\"},{\"id\":\"3e73ab0c-1b57-4b2d-af14-16866b2a5107\",\"type\":\"Grid\"},{\"id\":\"5a350a4a-2002-46eb-8a21-2dcc16533c03\",\"type\":\"LinearAxis\"},{\"id\":\"57890f0f-b04e-4be9-885f-22bf147d2c27\",\"type\":\"Grid\"},{\"id\":\"dda2ecf8-ea32-4530-a8f9-732d0a2c9253\",\"type\":\"BoxAnnotation\"},{\"id\":\"00d5def1-8002-4b75-853e-f04b1453f980\",\"type\":\"GlyphRenderer\"}],\"title\":{\"id\":\"37f19e88-4eb7-4bca-bf26-9fc18546d4cf\",\"type\":\"Title\"},\"toolbar\":{\"id\":\"1d7eaca8-835e-45d5-8c73-cfd1e717a992\",\"type\":\"Toolbar\"},\"x_range\":{\"id\":\"035e33b2-598a-4daf-98af-4e3082d9b6f8\",\"type\":\"DataRange1d\"},\"x_scale\":{\"id\":\"09605c06-c00d-4598-bb5d-8a32b17c444a\",\"type\":\"LinearScale\"},\"y_range\":{\"id\":\"470a6501-ca9a-437f-8ade-4182d584cf5b\",\"type\":\"DataRange1d\"},\"y_scale\":{\"id\":\"bdc7ef07-166a-4c8d-a85a-784e646a6683\",\"type\":\"LinearScale\"}},\"id\":\"74a66c79-5301-4ca2-ac6a-14b16df588bb\",\"subtype\":\"Figure\",\"type\":\"Plot\"},{\"attributes\":{\"overlay\":{\"id\":\"dda2ecf8-ea32-4530-a8f9-732d0a2c9253\",\"type\":\"BoxAnnotation\"}},\"id\":\"144f96ee-e36d-4f09-8cac-a8b6db471752\",\"type\":\"BoxZoomTool\"}],\"root_ids\":[\"74a66c79-5301-4ca2-ac6a-14b16df588bb\"]},\"title\":\"Bokeh Application\",\"version\":\"0.12.13\"}};\n",
       "  var render_items = [{\"docid\":\"fe3155d6-d169-49e0-b4f7-602abf56cc0d\",\"elementid\":\"1659fc7b-342e-4177-855a-1d32c08a3ce3\",\"modelid\":\"74a66c79-5301-4ca2-ac6a-14b16df588bb\"}];\n",
       "  root.Bokeh.embed.embed_items_notebook(docs_json, render_items);\n",
       "\n",
       "  }\n",
       "  if (root.Bokeh !== undefined) {\n",
       "    embed_document(root);\n",
       "  } else {\n",
       "    var attempts = 0;\n",
       "    var timer = setInterval(function(root) {\n",
       "      if (root.Bokeh !== undefined) {\n",
       "        embed_document(root);\n",
       "        clearInterval(timer);\n",
       "      }\n",
       "      attempts++;\n",
       "      if (attempts > 100) {\n",
       "        console.log(\"Bokeh: ERROR: Unable to run BokehJS code because BokehJS library is missing\")\n",
       "        clearInterval(timer);\n",
       "      }\n",
       "    }, 10, root)\n",
       "  }\n",
       "})(window);"
      ],
      "application/vnd.bokehjs_exec.v0+json": ""
     },
     "metadata": {
      "application/vnd.bokehjs_exec.v0+json": {
       "id": "74a66c79-5301-4ca2-ac6a-14b16df588bb"
      }
     },
     "output_type": "display_data"
    }
   ],
   "source": [
    "# Dimensions\n",
    "\n",
    "# create a new plot with specific dimensions\n",
    "p = figure(plot_width=600)\n",
    "p.plot_height = 400\n",
    "\n",
    "p.circle([1, 2, 3, 4, 5], [2, 5, 8, 2, 7], size=10)\n",
    "\n",
    "show(p)"
   ]
  },
  {
   "cell_type": "code",
   "execution_count": 9,
   "metadata": {},
   "outputs": [
    {
     "data": {
      "text/html": [
       "\n",
       "<div class=\"bk-root\">\n",
       "    <div class=\"bk-plotdiv\" id=\"97820c83-3ae3-4979-b3ef-b5035437089c\"></div>\n",
       "</div>"
      ]
     },
     "metadata": {},
     "output_type": "display_data"
    },
    {
     "data": {
      "application/javascript": [
       "(function(root) {\n",
       "  function embed_document(root) {\n",
       "    \n",
       "  var docs_json = {\"184c6f9b-f9a7-4155-976a-134957bde9c5\":{\"roots\":{\"references\":[{\"attributes\":{\"overlay\":{\"id\":\"324594fe-0ab5-482d-a7cc-b3a6d32026e1\",\"type\":\"BoxAnnotation\"}},\"id\":\"1422ec4e-707f-47ae-8457-5e731787aead\",\"type\":\"BoxZoomTool\"},{\"attributes\":{\"fill_color\":{\"value\":\"#1f77b4\"},\"line_color\":{\"value\":\"#1f77b4\"},\"size\":{\"units\":\"screen\",\"value\":10},\"x\":{\"field\":\"x\"},\"y\":{\"field\":\"y\"}},\"id\":\"ff902875-ce1d-48fc-b1ca-37324e53298f\",\"type\":\"Circle\"},{\"attributes\":{\"plot\":{\"id\":\"744bebdb-3ae7-4c43-8adb-be1ccac8de52\",\"subtype\":\"Figure\",\"type\":\"Plot\"},\"ticker\":{\"id\":\"fdc34b5c-a4fb-46a1-9d08-b891f531bd77\",\"type\":\"BasicTicker\"}},\"id\":\"1612e22b-bc51-4c71-87f5-2810fe03098c\",\"type\":\"Grid\"},{\"attributes\":{},\"id\":\"34c3b8d6-acc1-4105-ba3b-e4954cad4ea7\",\"type\":\"HelpTool\"},{\"attributes\":{},\"id\":\"99e337e6-beca-466f-8fac-5e460ff846ee\",\"type\":\"BasicTickFormatter\"},{\"attributes\":{\"fill_alpha\":{\"value\":0.1},\"fill_color\":{\"value\":\"#1f77b4\"},\"line_alpha\":{\"value\":0.1},\"line_color\":{\"value\":\"#1f77b4\"},\"size\":{\"units\":\"screen\",\"value\":10},\"x\":{\"field\":\"x\"},\"y\":{\"field\":\"y\"}},\"id\":\"2e4ab155-2d28-450b-abe4-7a2e25361bf7\",\"type\":\"Circle\"},{\"attributes\":{},\"id\":\"a5e4d340-e280-4ff0-97d4-b8171ae0e29f\",\"type\":\"WheelZoomTool\"},{\"attributes\":{\"formatter\":{\"id\":\"0827d901-dfd0-45ed-b7ed-1dc4fb8618e8\",\"type\":\"BasicTickFormatter\"},\"plot\":{\"id\":\"744bebdb-3ae7-4c43-8adb-be1ccac8de52\",\"subtype\":\"Figure\",\"type\":\"Plot\"},\"ticker\":{\"id\":\"a1fad6a1-5608-4ee0-b398-330b42eeab33\",\"type\":\"BasicTicker\"}},\"id\":\"307442a8-7d4d-43f0-b4e6-1a49acc8fd55\",\"type\":\"LinearAxis\"},{\"attributes\":{},\"id\":\"a9bd9c32-bbec-4275-a16a-be51e573268d\",\"type\":\"SaveTool\"},{\"attributes\":{},\"id\":\"0aa51e7d-74cf-4974-baa1-768260cefecd\",\"type\":\"ResetTool\"},{\"attributes\":{},\"id\":\"a1fad6a1-5608-4ee0-b398-330b42eeab33\",\"type\":\"BasicTicker\"},{\"attributes\":{},\"id\":\"0827d901-dfd0-45ed-b7ed-1dc4fb8618e8\",\"type\":\"BasicTickFormatter\"},{\"attributes\":{},\"id\":\"ef3a88a4-3070-40d5-8cfb-7e220511f22f\",\"type\":\"PanTool\"},{\"attributes\":{\"source\":{\"id\":\"bf6bbc5e-6022-408b-b4fb-2939ab70edfb\",\"type\":\"ColumnDataSource\"}},\"id\":\"924f73d8-f7e0-479e-ba24-962ff13ca972\",\"type\":\"CDSView\"},{\"attributes\":{\"plot\":null,\"text\":\"Some Title\",\"text_color\":{\"value\":\"olive\"},\"text_font\":\"times\",\"text_font_style\":\"italic\"},\"id\":\"3f298f25-a558-49dd-ad8d-126ade15c4a8\",\"type\":\"Title\"},{\"attributes\":{\"bottom_units\":\"screen\",\"fill_alpha\":{\"value\":0.5},\"fill_color\":{\"value\":\"lightgrey\"},\"left_units\":\"screen\",\"level\":\"overlay\",\"line_alpha\":{\"value\":1.0},\"line_color\":{\"value\":\"black\"},\"line_dash\":[4,4],\"line_width\":{\"value\":2},\"plot\":null,\"render_mode\":\"css\",\"right_units\":\"screen\",\"top_units\":\"screen\"},\"id\":\"324594fe-0ab5-482d-a7cc-b3a6d32026e1\",\"type\":\"BoxAnnotation\"},{\"attributes\":{},\"id\":\"d84cc89e-f540-45f0-a5df-3bdcf70d7274\",\"type\":\"LinearScale\"},{\"attributes\":{\"dimension\":1,\"plot\":{\"id\":\"744bebdb-3ae7-4c43-8adb-be1ccac8de52\",\"subtype\":\"Figure\",\"type\":\"Plot\"},\"ticker\":{\"id\":\"a1fad6a1-5608-4ee0-b398-330b42eeab33\",\"type\":\"BasicTicker\"}},\"id\":\"e8d16312-b641-4454-8f8f-12854ce0b398\",\"type\":\"Grid\"},{\"attributes\":{\"below\":[{\"id\":\"4d52d56f-afa0-4c87-98f4-704b834d5d93\",\"type\":\"LinearAxis\"}],\"left\":[{\"id\":\"307442a8-7d4d-43f0-b4e6-1a49acc8fd55\",\"type\":\"LinearAxis\"}],\"plot_height\":400,\"plot_width\":400,\"renderers\":[{\"id\":\"4d52d56f-afa0-4c87-98f4-704b834d5d93\",\"type\":\"LinearAxis\"},{\"id\":\"1612e22b-bc51-4c71-87f5-2810fe03098c\",\"type\":\"Grid\"},{\"id\":\"307442a8-7d4d-43f0-b4e6-1a49acc8fd55\",\"type\":\"LinearAxis\"},{\"id\":\"e8d16312-b641-4454-8f8f-12854ce0b398\",\"type\":\"Grid\"},{\"id\":\"324594fe-0ab5-482d-a7cc-b3a6d32026e1\",\"type\":\"BoxAnnotation\"},{\"id\":\"336bd298-8259-4369-a6f9-0ae71879ede7\",\"type\":\"GlyphRenderer\"}],\"title\":{\"id\":\"3f298f25-a558-49dd-ad8d-126ade15c4a8\",\"type\":\"Title\"},\"toolbar\":{\"id\":\"4df9b7f9-02aa-4431-93ec-228fd348ae40\",\"type\":\"Toolbar\"},\"x_range\":{\"id\":\"4c91384a-539b-499c-9124-27827552296d\",\"type\":\"DataRange1d\"},\"x_scale\":{\"id\":\"5dede19c-0ecd-47b1-8f98-f792a326e5ef\",\"type\":\"LinearScale\"},\"y_range\":{\"id\":\"14b0255b-67e2-4475-97a2-c39735681d15\",\"type\":\"DataRange1d\"},\"y_scale\":{\"id\":\"d84cc89e-f540-45f0-a5df-3bdcf70d7274\",\"type\":\"LinearScale\"}},\"id\":\"744bebdb-3ae7-4c43-8adb-be1ccac8de52\",\"subtype\":\"Figure\",\"type\":\"Plot\"},{\"attributes\":{},\"id\":\"fdc34b5c-a4fb-46a1-9d08-b891f531bd77\",\"type\":\"BasicTicker\"},{\"attributes\":{\"active_drag\":\"auto\",\"active_inspect\":\"auto\",\"active_scroll\":\"auto\",\"active_tap\":\"auto\",\"tools\":[{\"id\":\"ef3a88a4-3070-40d5-8cfb-7e220511f22f\",\"type\":\"PanTool\"},{\"id\":\"a5e4d340-e280-4ff0-97d4-b8171ae0e29f\",\"type\":\"WheelZoomTool\"},{\"id\":\"1422ec4e-707f-47ae-8457-5e731787aead\",\"type\":\"BoxZoomTool\"},{\"id\":\"a9bd9c32-bbec-4275-a16a-be51e573268d\",\"type\":\"SaveTool\"},{\"id\":\"0aa51e7d-74cf-4974-baa1-768260cefecd\",\"type\":\"ResetTool\"},{\"id\":\"34c3b8d6-acc1-4105-ba3b-e4954cad4ea7\",\"type\":\"HelpTool\"}]},\"id\":\"4df9b7f9-02aa-4431-93ec-228fd348ae40\",\"type\":\"Toolbar\"},{\"attributes\":{\"formatter\":{\"id\":\"99e337e6-beca-466f-8fac-5e460ff846ee\",\"type\":\"BasicTickFormatter\"},\"plot\":{\"id\":\"744bebdb-3ae7-4c43-8adb-be1ccac8de52\",\"subtype\":\"Figure\",\"type\":\"Plot\"},\"ticker\":{\"id\":\"fdc34b5c-a4fb-46a1-9d08-b891f531bd77\",\"type\":\"BasicTicker\"}},\"id\":\"4d52d56f-afa0-4c87-98f4-704b834d5d93\",\"type\":\"LinearAxis\"},{\"attributes\":{},\"id\":\"5dede19c-0ecd-47b1-8f98-f792a326e5ef\",\"type\":\"LinearScale\"},{\"attributes\":{\"callback\":null,\"column_names\":[\"x\",\"y\"],\"data\":{\"x\":[1,2,3,4,5],\"y\":[2,5,8,2,7]}},\"id\":\"bf6bbc5e-6022-408b-b4fb-2939ab70edfb\",\"type\":\"ColumnDataSource\"},{\"attributes\":{\"data_source\":{\"id\":\"bf6bbc5e-6022-408b-b4fb-2939ab70edfb\",\"type\":\"ColumnDataSource\"},\"glyph\":{\"id\":\"ff902875-ce1d-48fc-b1ca-37324e53298f\",\"type\":\"Circle\"},\"hover_glyph\":null,\"muted_glyph\":null,\"nonselection_glyph\":{\"id\":\"2e4ab155-2d28-450b-abe4-7a2e25361bf7\",\"type\":\"Circle\"},\"selection_glyph\":null,\"view\":{\"id\":\"924f73d8-f7e0-479e-ba24-962ff13ca972\",\"type\":\"CDSView\"}},\"id\":\"336bd298-8259-4369-a6f9-0ae71879ede7\",\"type\":\"GlyphRenderer\"},{\"attributes\":{\"callback\":null},\"id\":\"14b0255b-67e2-4475-97a2-c39735681d15\",\"type\":\"DataRange1d\"},{\"attributes\":{\"callback\":null},\"id\":\"4c91384a-539b-499c-9124-27827552296d\",\"type\":\"DataRange1d\"}],\"root_ids\":[\"744bebdb-3ae7-4c43-8adb-be1ccac8de52\"]},\"title\":\"Bokeh Application\",\"version\":\"0.12.13\"}};\n",
       "  var render_items = [{\"docid\":\"184c6f9b-f9a7-4155-976a-134957bde9c5\",\"elementid\":\"97820c83-3ae3-4979-b3ef-b5035437089c\",\"modelid\":\"744bebdb-3ae7-4c43-8adb-be1ccac8de52\"}];\n",
       "  root.Bokeh.embed.embed_items_notebook(docs_json, render_items);\n",
       "\n",
       "  }\n",
       "  if (root.Bokeh !== undefined) {\n",
       "    embed_document(root);\n",
       "  } else {\n",
       "    var attempts = 0;\n",
       "    var timer = setInterval(function(root) {\n",
       "      if (root.Bokeh !== undefined) {\n",
       "        embed_document(root);\n",
       "        clearInterval(timer);\n",
       "      }\n",
       "      attempts++;\n",
       "      if (attempts > 100) {\n",
       "        console.log(\"Bokeh: ERROR: Unable to run BokehJS code because BokehJS library is missing\")\n",
       "        clearInterval(timer);\n",
       "      }\n",
       "    }, 10, root)\n",
       "  }\n",
       "})(window);"
      ],
      "application/vnd.bokehjs_exec.v0+json": ""
     },
     "metadata": {
      "application/vnd.bokehjs_exec.v0+json": {
       "id": "744bebdb-3ae7-4c43-8adb-be1ccac8de52"
      }
     },
     "output_type": "display_data"
    }
   ],
   "source": [
    "# Title\n",
    "\n",
    "p = figure(plot_width=400, plot_height=400, title=\"Some Title\")\n",
    "p.title.text_color = \"olive\"\n",
    "p.title.text_font = \"times\"\n",
    "p.title.text_font_style = \"italic\"\n",
    "\n",
    "p.circle([1, 2, 3, 4, 5], [2, 5, 8, 2, 7], size=10)\n",
    "\n",
    "show(p)"
   ]
  },
  {
   "cell_type": "code",
   "execution_count": 10,
   "metadata": {},
   "outputs": [
    {
     "data": {
      "text/html": [
       "\n",
       "<div class=\"bk-root\">\n",
       "    <div class=\"bk-plotdiv\" id=\"279e3407-cdbf-49d4-8f05-63287eb533c1\"></div>\n",
       "</div>"
      ]
     },
     "metadata": {},
     "output_type": "display_data"
    },
    {
     "data": {
      "application/javascript": [
       "(function(root) {\n",
       "  function embed_document(root) {\n",
       "    \n",
       "  var docs_json = {\"843204d4-1652-4a1a-a068-e47244f87135\":{\"roots\":{\"references\":[{\"attributes\":{\"formatter\":{\"id\":\"d520c0f1-5eb4-4998-8db3-7a2906ccf36f\",\"type\":\"BasicTickFormatter\"},\"plot\":{\"id\":\"b6768c7a-c7b3-498c-89f0-56fb00571217\",\"subtype\":\"Figure\",\"type\":\"Plot\"},\"ticker\":{\"id\":\"9f067691-c303-4693-aec2-d8a0d5fa56b2\",\"type\":\"BasicTicker\"}},\"id\":\"fc6d05fa-7a55-42f1-ba6b-e4669f117b30\",\"type\":\"LinearAxis\"},{\"attributes\":{\"data_source\":{\"id\":\"77b94fe2-7295-4f6f-84b0-81dc02b0ba04\",\"type\":\"ColumnDataSource\"},\"glyph\":{\"id\":\"eaa0ab71-6100-4975-b642-8fba7a58fd00\",\"type\":\"Circle\"},\"hover_glyph\":null,\"muted_glyph\":null,\"nonselection_glyph\":{\"id\":\"a043e947-8158-4d0a-9cc7-3719ad556016\",\"type\":\"Circle\"},\"selection_glyph\":null,\"view\":{\"id\":\"71d8188c-05e8-453c-a532-c7708a601bfb\",\"type\":\"CDSView\"}},\"id\":\"73948a24-f830-44e0-a040-4f8e7fa9f715\",\"type\":\"GlyphRenderer\"},{\"attributes\":{\"dimension\":1,\"plot\":{\"id\":\"b6768c7a-c7b3-498c-89f0-56fb00571217\",\"subtype\":\"Figure\",\"type\":\"Plot\"},\"ticker\":{\"id\":\"c1d05dda-d930-4ed7-a620-f4eb2e11ca3d\",\"type\":\"BasicTicker\"}},\"id\":\"43831a68-b435-4088-b443-3ffe29a84f8c\",\"type\":\"Grid\"},{\"attributes\":{},\"id\":\"0fdc4e9b-748e-4dd4-bc39-ebb852b015bf\",\"type\":\"LinearScale\"},{\"attributes\":{\"source\":{\"id\":\"77b94fe2-7295-4f6f-84b0-81dc02b0ba04\",\"type\":\"ColumnDataSource\"}},\"id\":\"71d8188c-05e8-453c-a532-c7708a601bfb\",\"type\":\"CDSView\"},{\"attributes\":{\"fill_alpha\":{\"value\":0.1},\"fill_color\":{\"value\":\"#1f77b4\"},\"line_alpha\":{\"value\":0.1},\"line_color\":{\"value\":\"#1f77b4\"},\"size\":{\"units\":\"screen\",\"value\":10},\"x\":{\"field\":\"x\"},\"y\":{\"field\":\"y\"}},\"id\":\"a043e947-8158-4d0a-9cc7-3719ad556016\",\"type\":\"Circle\"},{\"attributes\":{\"plot\":{\"id\":\"b6768c7a-c7b3-498c-89f0-56fb00571217\",\"subtype\":\"Figure\",\"type\":\"Plot\"},\"ticker\":{\"id\":\"9f067691-c303-4693-aec2-d8a0d5fa56b2\",\"type\":\"BasicTicker\"}},\"id\":\"610f03fa-f83c-4872-9703-11f6c8f72f08\",\"type\":\"Grid\"},{\"attributes\":{\"callback\":null},\"id\":\"6b4fbaeb-c6d1-4cd7-859f-bd04e68f7568\",\"type\":\"DataRange1d\"},{\"attributes\":{\"overlay\":{\"id\":\"0a0f12f2-0b06-482e-9da9-63cf5c12de96\",\"type\":\"BoxAnnotation\"}},\"id\":\"0db70bc2-bb5b-4d0c-9d1a-3628633b607c\",\"type\":\"BoxZoomTool\"},{\"attributes\":{},\"id\":\"c1d05dda-d930-4ed7-a620-f4eb2e11ca3d\",\"type\":\"BasicTicker\"},{\"attributes\":{\"formatter\":{\"id\":\"c9f0e68c-c0c7-4bee-b264-db4e39f8e7b8\",\"type\":\"BasicTickFormatter\"},\"plot\":{\"id\":\"b6768c7a-c7b3-498c-89f0-56fb00571217\",\"subtype\":\"Figure\",\"type\":\"Plot\"},\"ticker\":{\"id\":\"c1d05dda-d930-4ed7-a620-f4eb2e11ca3d\",\"type\":\"BasicTicker\"}},\"id\":\"abd611de-f44f-4c4e-8c16-d16dfff3d3dc\",\"type\":\"LinearAxis\"},{\"attributes\":{},\"id\":\"ea072a49-5c52-4c93-8dc8-83700954d636\",\"type\":\"LinearScale\"},{\"attributes\":{},\"id\":\"052d9002-7840-4042-82b0-686f88ba7e8a\",\"type\":\"HelpTool\"},{\"attributes\":{\"callback\":null},\"id\":\"887c05e6-ae82-49b9-a61c-567a294ea40b\",\"type\":\"DataRange1d\"},{\"attributes\":{\"plot\":null,\"text\":\"\"},\"id\":\"1ed93b56-221c-4759-9f70-ed4c960431eb\",\"type\":\"Title\"},{\"attributes\":{},\"id\":\"2b6426c8-9960-4cce-ac83-5b151948ad72\",\"type\":\"PanTool\"},{\"attributes\":{\"fill_color\":{\"value\":\"#1f77b4\"},\"line_color\":{\"value\":\"#1f77b4\"},\"size\":{\"units\":\"screen\",\"value\":10},\"x\":{\"field\":\"x\"},\"y\":{\"field\":\"y\"}},\"id\":\"eaa0ab71-6100-4975-b642-8fba7a58fd00\",\"type\":\"Circle\"},{\"attributes\":{},\"id\":\"c9f0e68c-c0c7-4bee-b264-db4e39f8e7b8\",\"type\":\"BasicTickFormatter\"},{\"attributes\":{\"active_drag\":\"auto\",\"active_inspect\":\"auto\",\"active_scroll\":\"auto\",\"active_tap\":\"auto\",\"tools\":[{\"id\":\"2b6426c8-9960-4cce-ac83-5b151948ad72\",\"type\":\"PanTool\"},{\"id\":\"957a5e4f-74ec-48bf-8e95-e9f385e810f2\",\"type\":\"WheelZoomTool\"},{\"id\":\"0db70bc2-bb5b-4d0c-9d1a-3628633b607c\",\"type\":\"BoxZoomTool\"},{\"id\":\"07c46427-4720-488f-8303-8da1f8fff78d\",\"type\":\"SaveTool\"},{\"id\":\"0bbde69a-236e-4360-996d-af2aa8112670\",\"type\":\"ResetTool\"},{\"id\":\"052d9002-7840-4042-82b0-686f88ba7e8a\",\"type\":\"HelpTool\"}]},\"id\":\"0f61654a-03c8-483b-858e-a3f2558fd30a\",\"type\":\"Toolbar\"},{\"attributes\":{},\"id\":\"957a5e4f-74ec-48bf-8e95-e9f385e810f2\",\"type\":\"WheelZoomTool\"},{\"attributes\":{},\"id\":\"9f067691-c303-4693-aec2-d8a0d5fa56b2\",\"type\":\"BasicTicker\"},{\"attributes\":{},\"id\":\"07c46427-4720-488f-8303-8da1f8fff78d\",\"type\":\"SaveTool\"},{\"attributes\":{},\"id\":\"d520c0f1-5eb4-4998-8db3-7a2906ccf36f\",\"type\":\"BasicTickFormatter\"},{\"attributes\":{\"bottom_units\":\"screen\",\"fill_alpha\":{\"value\":0.5},\"fill_color\":{\"value\":\"lightgrey\"},\"left_units\":\"screen\",\"level\":\"overlay\",\"line_alpha\":{\"value\":1.0},\"line_color\":{\"value\":\"black\"},\"line_dash\":[4,4],\"line_width\":{\"value\":2},\"plot\":null,\"render_mode\":\"css\",\"right_units\":\"screen\",\"top_units\":\"screen\"},\"id\":\"0a0f12f2-0b06-482e-9da9-63cf5c12de96\",\"type\":\"BoxAnnotation\"},{\"attributes\":{\"background_fill_alpha\":{\"value\":0.5},\"background_fill_color\":{\"value\":\"beige\"},\"below\":[{\"id\":\"fc6d05fa-7a55-42f1-ba6b-e4669f117b30\",\"type\":\"LinearAxis\"}],\"left\":[{\"id\":\"abd611de-f44f-4c4e-8c16-d16dfff3d3dc\",\"type\":\"LinearAxis\"}],\"plot_height\":400,\"plot_width\":400,\"renderers\":[{\"id\":\"fc6d05fa-7a55-42f1-ba6b-e4669f117b30\",\"type\":\"LinearAxis\"},{\"id\":\"610f03fa-f83c-4872-9703-11f6c8f72f08\",\"type\":\"Grid\"},{\"id\":\"abd611de-f44f-4c4e-8c16-d16dfff3d3dc\",\"type\":\"LinearAxis\"},{\"id\":\"43831a68-b435-4088-b443-3ffe29a84f8c\",\"type\":\"Grid\"},{\"id\":\"0a0f12f2-0b06-482e-9da9-63cf5c12de96\",\"type\":\"BoxAnnotation\"},{\"id\":\"73948a24-f830-44e0-a040-4f8e7fa9f715\",\"type\":\"GlyphRenderer\"}],\"title\":{\"id\":\"1ed93b56-221c-4759-9f70-ed4c960431eb\",\"type\":\"Title\"},\"toolbar\":{\"id\":\"0f61654a-03c8-483b-858e-a3f2558fd30a\",\"type\":\"Toolbar\"},\"x_range\":{\"id\":\"887c05e6-ae82-49b9-a61c-567a294ea40b\",\"type\":\"DataRange1d\"},\"x_scale\":{\"id\":\"0fdc4e9b-748e-4dd4-bc39-ebb852b015bf\",\"type\":\"LinearScale\"},\"y_range\":{\"id\":\"6b4fbaeb-c6d1-4cd7-859f-bd04e68f7568\",\"type\":\"DataRange1d\"},\"y_scale\":{\"id\":\"ea072a49-5c52-4c93-8dc8-83700954d636\",\"type\":\"LinearScale\"}},\"id\":\"b6768c7a-c7b3-498c-89f0-56fb00571217\",\"subtype\":\"Figure\",\"type\":\"Plot\"},{\"attributes\":{},\"id\":\"0bbde69a-236e-4360-996d-af2aa8112670\",\"type\":\"ResetTool\"},{\"attributes\":{\"callback\":null,\"column_names\":[\"x\",\"y\"],\"data\":{\"x\":[1,2,3,4,5],\"y\":[2,5,8,2,7]}},\"id\":\"77b94fe2-7295-4f6f-84b0-81dc02b0ba04\",\"type\":\"ColumnDataSource\"}],\"root_ids\":[\"b6768c7a-c7b3-498c-89f0-56fb00571217\"]},\"title\":\"Bokeh Application\",\"version\":\"0.12.13\"}};\n",
       "  var render_items = [{\"docid\":\"843204d4-1652-4a1a-a068-e47244f87135\",\"elementid\":\"279e3407-cdbf-49d4-8f05-63287eb533c1\",\"modelid\":\"b6768c7a-c7b3-498c-89f0-56fb00571217\"}];\n",
       "  root.Bokeh.embed.embed_items_notebook(docs_json, render_items);\n",
       "\n",
       "  }\n",
       "  if (root.Bokeh !== undefined) {\n",
       "    embed_document(root);\n",
       "  } else {\n",
       "    var attempts = 0;\n",
       "    var timer = setInterval(function(root) {\n",
       "      if (root.Bokeh !== undefined) {\n",
       "        embed_document(root);\n",
       "        clearInterval(timer);\n",
       "      }\n",
       "      attempts++;\n",
       "      if (attempts > 100) {\n",
       "        console.log(\"Bokeh: ERROR: Unable to run BokehJS code because BokehJS library is missing\")\n",
       "        clearInterval(timer);\n",
       "      }\n",
       "    }, 10, root)\n",
       "  }\n",
       "})(window);"
      ],
      "application/vnd.bokehjs_exec.v0+json": ""
     },
     "metadata": {
      "application/vnd.bokehjs_exec.v0+json": {
       "id": "b6768c7a-c7b3-498c-89f0-56fb00571217"
      }
     },
     "output_type": "display_data"
    }
   ],
   "source": [
    "# Background\n",
    "\n",
    "p = figure(plot_width=400, plot_height=400)\n",
    "p.background_fill_color = \"beige\"\n",
    "p.background_fill_alpha = 0.5\n",
    "\n",
    "p.circle([1, 2, 3, 4, 5], [2, 5, 8, 2, 7], size=10)\n",
    "\n",
    "show(p)"
   ]
  },
  {
   "cell_type": "code",
   "execution_count": 11,
   "metadata": {},
   "outputs": [
    {
     "data": {
      "text/html": [
       "\n",
       "<div class=\"bk-root\">\n",
       "    <div class=\"bk-plotdiv\" id=\"c218500e-a92d-4c56-81aa-c9951c92bfd7\"></div>\n",
       "</div>"
      ]
     },
     "metadata": {},
     "output_type": "display_data"
    },
    {
     "data": {
      "application/javascript": [
       "(function(root) {\n",
       "  function embed_document(root) {\n",
       "    \n",
       "  var docs_json = {\"3f1d649f-3ed9-414a-baed-eae12c3169f1\":{\"roots\":{\"references\":[{\"attributes\":{\"formatter\":{\"id\":\"4f61f53c-009c-4405-997c-cf9df306119d\",\"type\":\"BasicTickFormatter\"},\"plot\":{\"id\":\"a0017e7b-215c-4d91-ad4b-660691c5b7a5\",\"subtype\":\"Figure\",\"type\":\"Plot\"},\"ticker\":{\"id\":\"3b1acdf7-2e6d-4e88-9440-732c7ff85301\",\"type\":\"BasicTicker\"}},\"id\":\"4a018088-39a3-4328-b975-e52cf128a3b4\",\"type\":\"LinearAxis\"},{\"attributes\":{},\"id\":\"4f61f53c-009c-4405-997c-cf9df306119d\",\"type\":\"BasicTickFormatter\"},{\"attributes\":{\"dimension\":1,\"plot\":{\"id\":\"a0017e7b-215c-4d91-ad4b-660691c5b7a5\",\"subtype\":\"Figure\",\"type\":\"Plot\"},\"ticker\":{\"id\":\"3b1acdf7-2e6d-4e88-9440-732c7ff85301\",\"type\":\"BasicTicker\"}},\"id\":\"36ec0936-90de-47ea-aaaa-c1c1c65be5c5\",\"type\":\"Grid\"},{\"attributes\":{\"formatter\":{\"id\":\"d8615e66-4e20-4186-8b87-767c6225c44a\",\"type\":\"BasicTickFormatter\"},\"plot\":{\"id\":\"a0017e7b-215c-4d91-ad4b-660691c5b7a5\",\"subtype\":\"Figure\",\"type\":\"Plot\"},\"ticker\":{\"id\":\"f3659880-8747-49f7-a14b-8cbcc52bf3ea\",\"type\":\"BasicTicker\"}},\"id\":\"bf7246bf-de92-4b92-a025-36edc473f1d7\",\"type\":\"LinearAxis\"},{\"attributes\":{\"data_source\":{\"id\":\"6e27f6d9-6a0a-449a-95e0-0936b9f811df\",\"type\":\"ColumnDataSource\"},\"glyph\":{\"id\":\"f1b46534-62e5-46e0-9aeb-d297ff545aa0\",\"type\":\"Circle\"},\"hover_glyph\":null,\"muted_glyph\":null,\"nonselection_glyph\":{\"id\":\"4e2c8338-2468-4160-8eb9-47786a891432\",\"type\":\"Circle\"},\"selection_glyph\":null,\"view\":{\"id\":\"9d3a7af2-4d07-4739-9a6a-701d9198aa25\",\"type\":\"CDSView\"}},\"id\":\"87e09ad3-faef-4fcc-ad90-301334784b4b\",\"type\":\"GlyphRenderer\"},{\"attributes\":{\"callback\":null},\"id\":\"83696e63-ef68-44ae-b8be-8f389616a8fa\",\"type\":\"DataRange1d\"},{\"attributes\":{\"callback\":null,\"column_names\":[\"x\",\"y\"],\"data\":{\"x\":[1,2,3,4,5],\"y\":[2,5,8,2,7]}},\"id\":\"6e27f6d9-6a0a-449a-95e0-0936b9f811df\",\"type\":\"ColumnDataSource\"},{\"attributes\":{},\"id\":\"38a386dd-cb3d-452a-8a75-5bc4e58aebec\",\"type\":\"ResetTool\"},{\"attributes\":{\"fill_alpha\":{\"value\":0.1},\"fill_color\":{\"value\":\"#1f77b4\"},\"line_alpha\":{\"value\":0.1},\"line_color\":{\"value\":\"#1f77b4\"},\"size\":{\"units\":\"screen\",\"value\":10},\"x\":{\"field\":\"x\"},\"y\":{\"field\":\"y\"}},\"id\":\"4e2c8338-2468-4160-8eb9-47786a891432\",\"type\":\"Circle\"},{\"attributes\":{\"source\":{\"id\":\"6e27f6d9-6a0a-449a-95e0-0936b9f811df\",\"type\":\"ColumnDataSource\"}},\"id\":\"9d3a7af2-4d07-4739-9a6a-701d9198aa25\",\"type\":\"CDSView\"},{\"attributes\":{},\"id\":\"685b62a5-2baf-4b04-a138-6b4b135cb67c\",\"type\":\"LinearScale\"},{\"attributes\":{\"below\":[{\"id\":\"bf7246bf-de92-4b92-a025-36edc473f1d7\",\"type\":\"LinearAxis\"}],\"border_fill_color\":{\"value\":\"whitesmoke\"},\"left\":[{\"id\":\"4a018088-39a3-4328-b975-e52cf128a3b4\",\"type\":\"LinearAxis\"}],\"min_border_left\":32,\"plot_height\":400,\"plot_width\":400,\"renderers\":[{\"id\":\"bf7246bf-de92-4b92-a025-36edc473f1d7\",\"type\":\"LinearAxis\"},{\"id\":\"9995446b-b226-4dcd-891e-caa165bf3bd5\",\"type\":\"Grid\"},{\"id\":\"4a018088-39a3-4328-b975-e52cf128a3b4\",\"type\":\"LinearAxis\"},{\"id\":\"36ec0936-90de-47ea-aaaa-c1c1c65be5c5\",\"type\":\"Grid\"},{\"id\":\"aebf8a45-2216-4cc9-804b-5d46c7cc527c\",\"type\":\"BoxAnnotation\"},{\"id\":\"87e09ad3-faef-4fcc-ad90-301334784b4b\",\"type\":\"GlyphRenderer\"}],\"title\":{\"id\":\"71e56578-658f-4b33-a2a1-55eed9c04652\",\"type\":\"Title\"},\"toolbar\":{\"id\":\"e2fbe28d-b399-4da3-973f-c972e2b8dce9\",\"type\":\"Toolbar\"},\"x_range\":{\"id\":\"83696e63-ef68-44ae-b8be-8f389616a8fa\",\"type\":\"DataRange1d\"},\"x_scale\":{\"id\":\"685b62a5-2baf-4b04-a138-6b4b135cb67c\",\"type\":\"LinearScale\"},\"y_range\":{\"id\":\"419e2034-b7f0-471f-83e5-07fd9afd4817\",\"type\":\"DataRange1d\"},\"y_scale\":{\"id\":\"925e70c6-ca0f-4dd1-a6ad-8b0622ac9678\",\"type\":\"LinearScale\"}},\"id\":\"a0017e7b-215c-4d91-ad4b-660691c5b7a5\",\"subtype\":\"Figure\",\"type\":\"Plot\"},{\"attributes\":{},\"id\":\"f7066907-f105-449c-b8c5-ef2ad8683027\",\"type\":\"PanTool\"},{\"attributes\":{\"active_drag\":\"auto\",\"active_inspect\":\"auto\",\"active_scroll\":\"auto\",\"active_tap\":\"auto\",\"tools\":[{\"id\":\"f7066907-f105-449c-b8c5-ef2ad8683027\",\"type\":\"PanTool\"},{\"id\":\"f764e913-8e6d-4f53-b8c3-199645038ee1\",\"type\":\"WheelZoomTool\"},{\"id\":\"390c3116-3ba6-41e2-9137-1c825cbd2fb2\",\"type\":\"BoxZoomTool\"},{\"id\":\"86240514-4bfd-4fd3-8ca4-7f1c4355c685\",\"type\":\"SaveTool\"},{\"id\":\"38a386dd-cb3d-452a-8a75-5bc4e58aebec\",\"type\":\"ResetTool\"},{\"id\":\"5c64ad90-8b72-4e4a-b210-e23acdcc2a4c\",\"type\":\"HelpTool\"}]},\"id\":\"e2fbe28d-b399-4da3-973f-c972e2b8dce9\",\"type\":\"Toolbar\"},{\"attributes\":{},\"id\":\"3b1acdf7-2e6d-4e88-9440-732c7ff85301\",\"type\":\"BasicTicker\"},{\"attributes\":{},\"id\":\"d8615e66-4e20-4186-8b87-767c6225c44a\",\"type\":\"BasicTickFormatter\"},{\"attributes\":{},\"id\":\"925e70c6-ca0f-4dd1-a6ad-8b0622ac9678\",\"type\":\"LinearScale\"},{\"attributes\":{},\"id\":\"5c64ad90-8b72-4e4a-b210-e23acdcc2a4c\",\"type\":\"HelpTool\"},{\"attributes\":{\"overlay\":{\"id\":\"aebf8a45-2216-4cc9-804b-5d46c7cc527c\",\"type\":\"BoxAnnotation\"}},\"id\":\"390c3116-3ba6-41e2-9137-1c825cbd2fb2\",\"type\":\"BoxZoomTool\"},{\"attributes\":{\"fill_color\":{\"value\":\"#1f77b4\"},\"line_color\":{\"value\":\"#1f77b4\"},\"size\":{\"units\":\"screen\",\"value\":10},\"x\":{\"field\":\"x\"},\"y\":{\"field\":\"y\"}},\"id\":\"f1b46534-62e5-46e0-9aeb-d297ff545aa0\",\"type\":\"Circle\"},{\"attributes\":{},\"id\":\"86240514-4bfd-4fd3-8ca4-7f1c4355c685\",\"type\":\"SaveTool\"},{\"attributes\":{},\"id\":\"f764e913-8e6d-4f53-b8c3-199645038ee1\",\"type\":\"WheelZoomTool\"},{\"attributes\":{\"plot\":{\"id\":\"a0017e7b-215c-4d91-ad4b-660691c5b7a5\",\"subtype\":\"Figure\",\"type\":\"Plot\"},\"ticker\":{\"id\":\"f3659880-8747-49f7-a14b-8cbcc52bf3ea\",\"type\":\"BasicTicker\"}},\"id\":\"9995446b-b226-4dcd-891e-caa165bf3bd5\",\"type\":\"Grid\"},{\"attributes\":{\"plot\":null,\"text\":\"\"},\"id\":\"71e56578-658f-4b33-a2a1-55eed9c04652\",\"type\":\"Title\"},{\"attributes\":{\"callback\":null},\"id\":\"419e2034-b7f0-471f-83e5-07fd9afd4817\",\"type\":\"DataRange1d\"},{\"attributes\":{\"bottom_units\":\"screen\",\"fill_alpha\":{\"value\":0.5},\"fill_color\":{\"value\":\"lightgrey\"},\"left_units\":\"screen\",\"level\":\"overlay\",\"line_alpha\":{\"value\":1.0},\"line_color\":{\"value\":\"black\"},\"line_dash\":[4,4],\"line_width\":{\"value\":2},\"plot\":null,\"render_mode\":\"css\",\"right_units\":\"screen\",\"top_units\":\"screen\"},\"id\":\"aebf8a45-2216-4cc9-804b-5d46c7cc527c\",\"type\":\"BoxAnnotation\"},{\"attributes\":{},\"id\":\"f3659880-8747-49f7-a14b-8cbcc52bf3ea\",\"type\":\"BasicTicker\"}],\"root_ids\":[\"a0017e7b-215c-4d91-ad4b-660691c5b7a5\"]},\"title\":\"Bokeh Application\",\"version\":\"0.12.13\"}};\n",
       "  var render_items = [{\"docid\":\"3f1d649f-3ed9-414a-baed-eae12c3169f1\",\"elementid\":\"c218500e-a92d-4c56-81aa-c9951c92bfd7\",\"modelid\":\"a0017e7b-215c-4d91-ad4b-660691c5b7a5\"}];\n",
       "  root.Bokeh.embed.embed_items_notebook(docs_json, render_items);\n",
       "\n",
       "  }\n",
       "  if (root.Bokeh !== undefined) {\n",
       "    embed_document(root);\n",
       "  } else {\n",
       "    var attempts = 0;\n",
       "    var timer = setInterval(function(root) {\n",
       "      if (root.Bokeh !== undefined) {\n",
       "        embed_document(root);\n",
       "        clearInterval(timer);\n",
       "      }\n",
       "      attempts++;\n",
       "      if (attempts > 100) {\n",
       "        console.log(\"Bokeh: ERROR: Unable to run BokehJS code because BokehJS library is missing\")\n",
       "        clearInterval(timer);\n",
       "      }\n",
       "    }, 10, root)\n",
       "  }\n",
       "})(window);"
      ],
      "application/vnd.bokehjs_exec.v0+json": ""
     },
     "metadata": {
      "application/vnd.bokehjs_exec.v0+json": {
       "id": "a0017e7b-215c-4d91-ad4b-660691c5b7a5"
      }
     },
     "output_type": "display_data"
    }
   ],
   "source": [
    "# Border\n",
    "\n",
    "p = figure(plot_width=400, plot_height=400)\n",
    "p.border_fill_color = \"whitesmoke\"\n",
    "p.min_border_left = 32\n",
    "\n",
    "p.circle([1,2,3,4,5], [2,5,8,2,7], size=10)\n",
    "\n",
    "show(p)"
   ]
  },
  {
   "cell_type": "code",
   "execution_count": 12,
   "metadata": {},
   "outputs": [
    {
     "data": {
      "text/html": [
       "\n",
       "<div class=\"bk-root\">\n",
       "    <div class=\"bk-plotdiv\" id=\"9004a610-a3b1-4ab9-849a-7f07b5e77982\"></div>\n",
       "</div>"
      ]
     },
     "metadata": {},
     "output_type": "display_data"
    },
    {
     "data": {
      "application/javascript": [
       "(function(root) {\n",
       "  function embed_document(root) {\n",
       "    \n",
       "  var docs_json = {\"65986634-f3b3-454b-97cb-b176acab55f0\":{\"roots\":{\"references\":[{\"attributes\":{\"callback\":null},\"id\":\"868990c5-659c-46f0-8ec1-661564bf9319\",\"type\":\"DataRange1d\"},{\"attributes\":{\"active_drag\":\"auto\",\"active_inspect\":\"auto\",\"active_scroll\":\"auto\",\"active_tap\":\"auto\",\"tools\":[{\"id\":\"d3c1c0b5-edb7-40f2-bf2a-ab027328af40\",\"type\":\"PanTool\"},{\"id\":\"375e01b9-5596-4d31-828f-33cacb8ecb2a\",\"type\":\"WheelZoomTool\"},{\"id\":\"57a4ac6d-a57f-4f6d-b8ee-1d3381b996eb\",\"type\":\"BoxZoomTool\"},{\"id\":\"3878f70d-86b1-42e3-a26c-6be913d4e25b\",\"type\":\"SaveTool\"},{\"id\":\"07994d85-0b36-4bec-bb37-7cb3213a93c3\",\"type\":\"ResetTool\"},{\"id\":\"19b5a6ae-7a33-4242-bdd0-a46ef0d6fff0\",\"type\":\"HelpTool\"}]},\"id\":\"110403fd-ab32-4338-979d-c9fd0e66848d\",\"type\":\"Toolbar\"},{\"attributes\":{\"data_source\":{\"id\":\"409e482c-77ac-4860-97a1-35840d66dc43\",\"type\":\"ColumnDataSource\"},\"glyph\":{\"id\":\"efccfdb3-ba96-4628-b056-07775890f580\",\"type\":\"Circle\"},\"hover_glyph\":null,\"muted_glyph\":null,\"nonselection_glyph\":{\"id\":\"2b0ec35a-4726-4b41-999e-ac57f359f7f9\",\"type\":\"Circle\"},\"selection_glyph\":null,\"view\":{\"id\":\"a03a991c-2ef6-45fc-8431-276ae50eafa7\",\"type\":\"CDSView\"}},\"id\":\"fa77c553-0432-4df4-9d03-e27bff6b642d\",\"type\":\"GlyphRenderer\"},{\"attributes\":{\"source\":{\"id\":\"409e482c-77ac-4860-97a1-35840d66dc43\",\"type\":\"ColumnDataSource\"}},\"id\":\"a03a991c-2ef6-45fc-8431-276ae50eafa7\",\"type\":\"CDSView\"},{\"attributes\":{},\"id\":\"7a7fbc8f-4683-4020-9964-6036beda4bb4\",\"type\":\"LinearScale\"},{\"attributes\":{\"fill_alpha\":{\"value\":0.1},\"fill_color\":{\"value\":\"#1f77b4\"},\"line_alpha\":{\"value\":0.1},\"line_color\":{\"value\":\"#1f77b4\"},\"size\":{\"units\":\"screen\",\"value\":10},\"x\":{\"field\":\"x\"},\"y\":{\"field\":\"y\"}},\"id\":\"2b0ec35a-4726-4b41-999e-ac57f359f7f9\",\"type\":\"Circle\"},{\"attributes\":{\"below\":[{\"id\":\"43aaac34-d5fa-48be-b52c-2caf6234b000\",\"type\":\"LinearAxis\"}],\"left\":[{\"id\":\"d221f3a2-b770-460b-a26d-c7ce9abc4109\",\"type\":\"LinearAxis\"}],\"outline_line_alpha\":{\"value\":0.3},\"outline_line_color\":{\"value\":\"navy\"},\"outline_line_width\":{\"value\":7},\"plot_height\":400,\"plot_width\":400,\"renderers\":[{\"id\":\"43aaac34-d5fa-48be-b52c-2caf6234b000\",\"type\":\"LinearAxis\"},{\"id\":\"56dc525f-db7a-418b-b3c5-ded88ce40577\",\"type\":\"Grid\"},{\"id\":\"d221f3a2-b770-460b-a26d-c7ce9abc4109\",\"type\":\"LinearAxis\"},{\"id\":\"cc145d9d-6966-480b-a39a-7e634f7deffc\",\"type\":\"Grid\"},{\"id\":\"9751f2e9-586f-4a84-93ae-0ac2217c030c\",\"type\":\"BoxAnnotation\"},{\"id\":\"fa77c553-0432-4df4-9d03-e27bff6b642d\",\"type\":\"GlyphRenderer\"}],\"title\":{\"id\":\"0320be5d-4af7-42ef-ba9b-4ecc0f00b628\",\"type\":\"Title\"},\"toolbar\":{\"id\":\"110403fd-ab32-4338-979d-c9fd0e66848d\",\"type\":\"Toolbar\"},\"x_range\":{\"id\":\"868990c5-659c-46f0-8ec1-661564bf9319\",\"type\":\"DataRange1d\"},\"x_scale\":{\"id\":\"7a7fbc8f-4683-4020-9964-6036beda4bb4\",\"type\":\"LinearScale\"},\"y_range\":{\"id\":\"ed64e249-fed6-4a61-bcdb-29e63197ae1f\",\"type\":\"DataRange1d\"},\"y_scale\":{\"id\":\"86a96365-2ea0-43cc-abbd-602475726351\",\"type\":\"LinearScale\"}},\"id\":\"78a215ba-354e-4865-b322-90f3899b68f1\",\"subtype\":\"Figure\",\"type\":\"Plot\"},{\"attributes\":{},\"id\":\"516ec9dc-e55e-41b4-86f6-1eb1b0f37805\",\"type\":\"BasicTickFormatter\"},{\"attributes\":{},\"id\":\"7b83cd9a-9073-4eec-8c65-9e04bc3c7f96\",\"type\":\"BasicTicker\"},{\"attributes\":{\"bottom_units\":\"screen\",\"fill_alpha\":{\"value\":0.5},\"fill_color\":{\"value\":\"lightgrey\"},\"left_units\":\"screen\",\"level\":\"overlay\",\"line_alpha\":{\"value\":1.0},\"line_color\":{\"value\":\"black\"},\"line_dash\":[4,4],\"line_width\":{\"value\":2},\"plot\":null,\"render_mode\":\"css\",\"right_units\":\"screen\",\"top_units\":\"screen\"},\"id\":\"9751f2e9-586f-4a84-93ae-0ac2217c030c\",\"type\":\"BoxAnnotation\"},{\"attributes\":{},\"id\":\"d3c1c0b5-edb7-40f2-bf2a-ab027328af40\",\"type\":\"PanTool\"},{\"attributes\":{},\"id\":\"7315235a-fd08-4a3b-ae64-885e88e51756\",\"type\":\"BasicTickFormatter\"},{\"attributes\":{},\"id\":\"375e01b9-5596-4d31-828f-33cacb8ecb2a\",\"type\":\"WheelZoomTool\"},{\"attributes\":{\"callback\":null},\"id\":\"ed64e249-fed6-4a61-bcdb-29e63197ae1f\",\"type\":\"DataRange1d\"},{\"attributes\":{\"overlay\":{\"id\":\"9751f2e9-586f-4a84-93ae-0ac2217c030c\",\"type\":\"BoxAnnotation\"}},\"id\":\"57a4ac6d-a57f-4f6d-b8ee-1d3381b996eb\",\"type\":\"BoxZoomTool\"},{\"attributes\":{},\"id\":\"3878f70d-86b1-42e3-a26c-6be913d4e25b\",\"type\":\"SaveTool\"},{\"attributes\":{\"callback\":null,\"column_names\":[\"x\",\"y\"],\"data\":{\"x\":[1,2,3,4,5],\"y\":[2,5,8,2,7]}},\"id\":\"409e482c-77ac-4860-97a1-35840d66dc43\",\"type\":\"ColumnDataSource\"},{\"attributes\":{\"plot\":{\"id\":\"78a215ba-354e-4865-b322-90f3899b68f1\",\"subtype\":\"Figure\",\"type\":\"Plot\"},\"ticker\":{\"id\":\"3a7f495c-d57a-46bc-81c9-b511c27da949\",\"type\":\"BasicTicker\"}},\"id\":\"56dc525f-db7a-418b-b3c5-ded88ce40577\",\"type\":\"Grid\"},{\"attributes\":{},\"id\":\"07994d85-0b36-4bec-bb37-7cb3213a93c3\",\"type\":\"ResetTool\"},{\"attributes\":{\"dimension\":1,\"plot\":{\"id\":\"78a215ba-354e-4865-b322-90f3899b68f1\",\"subtype\":\"Figure\",\"type\":\"Plot\"},\"ticker\":{\"id\":\"7b83cd9a-9073-4eec-8c65-9e04bc3c7f96\",\"type\":\"BasicTicker\"}},\"id\":\"cc145d9d-6966-480b-a39a-7e634f7deffc\",\"type\":\"Grid\"},{\"attributes\":{},\"id\":\"19b5a6ae-7a33-4242-bdd0-a46ef0d6fff0\",\"type\":\"HelpTool\"},{\"attributes\":{\"formatter\":{\"id\":\"516ec9dc-e55e-41b4-86f6-1eb1b0f37805\",\"type\":\"BasicTickFormatter\"},\"plot\":{\"id\":\"78a215ba-354e-4865-b322-90f3899b68f1\",\"subtype\":\"Figure\",\"type\":\"Plot\"},\"ticker\":{\"id\":\"7b83cd9a-9073-4eec-8c65-9e04bc3c7f96\",\"type\":\"BasicTicker\"}},\"id\":\"d221f3a2-b770-460b-a26d-c7ce9abc4109\",\"type\":\"LinearAxis\"},{\"attributes\":{\"plot\":null,\"text\":\"\"},\"id\":\"0320be5d-4af7-42ef-ba9b-4ecc0f00b628\",\"type\":\"Title\"},{\"attributes\":{\"fill_color\":{\"value\":\"#1f77b4\"},\"line_color\":{\"value\":\"#1f77b4\"},\"size\":{\"units\":\"screen\",\"value\":10},\"x\":{\"field\":\"x\"},\"y\":{\"field\":\"y\"}},\"id\":\"efccfdb3-ba96-4628-b056-07775890f580\",\"type\":\"Circle\"},{\"attributes\":{},\"id\":\"3a7f495c-d57a-46bc-81c9-b511c27da949\",\"type\":\"BasicTicker\"},{\"attributes\":{},\"id\":\"86a96365-2ea0-43cc-abbd-602475726351\",\"type\":\"LinearScale\"},{\"attributes\":{\"formatter\":{\"id\":\"7315235a-fd08-4a3b-ae64-885e88e51756\",\"type\":\"BasicTickFormatter\"},\"plot\":{\"id\":\"78a215ba-354e-4865-b322-90f3899b68f1\",\"subtype\":\"Figure\",\"type\":\"Plot\"},\"ticker\":{\"id\":\"3a7f495c-d57a-46bc-81c9-b511c27da949\",\"type\":\"BasicTicker\"}},\"id\":\"43aaac34-d5fa-48be-b52c-2caf6234b000\",\"type\":\"LinearAxis\"}],\"root_ids\":[\"78a215ba-354e-4865-b322-90f3899b68f1\"]},\"title\":\"Bokeh Application\",\"version\":\"0.12.13\"}};\n",
       "  var render_items = [{\"docid\":\"65986634-f3b3-454b-97cb-b176acab55f0\",\"elementid\":\"9004a610-a3b1-4ab9-849a-7f07b5e77982\",\"modelid\":\"78a215ba-354e-4865-b322-90f3899b68f1\"}];\n",
       "  root.Bokeh.embed.embed_items_notebook(docs_json, render_items);\n",
       "\n",
       "  }\n",
       "  if (root.Bokeh !== undefined) {\n",
       "    embed_document(root);\n",
       "  } else {\n",
       "    var attempts = 0;\n",
       "    var timer = setInterval(function(root) {\n",
       "      if (root.Bokeh !== undefined) {\n",
       "        embed_document(root);\n",
       "        clearInterval(timer);\n",
       "      }\n",
       "      attempts++;\n",
       "      if (attempts > 100) {\n",
       "        console.log(\"Bokeh: ERROR: Unable to run BokehJS code because BokehJS library is missing\")\n",
       "        clearInterval(timer);\n",
       "      }\n",
       "    }, 10, root)\n",
       "  }\n",
       "})(window);"
      ],
      "application/vnd.bokehjs_exec.v0+json": ""
     },
     "metadata": {
      "application/vnd.bokehjs_exec.v0+json": {
       "id": "78a215ba-354e-4865-b322-90f3899b68f1"
      }
     },
     "output_type": "display_data"
    }
   ],
   "source": [
    "# Outline\n",
    "\n",
    "p = figure(plot_width=400, plot_height=400)\n",
    "p.outline_line_width = 7\n",
    "p.outline_line_alpha = 0.3\n",
    "p.outline_line_color = \"navy\"\n",
    "\n",
    "p.circle([1,2,3,4,5], [2,5,8,2,7], size=10)\n",
    "\n",
    "show(p)"
   ]
  },
  {
   "cell_type": "markdown",
   "metadata": {},
   "source": [
    "## Glyphs"
   ]
  },
  {
   "cell_type": "code",
   "execution_count": 13,
   "metadata": {},
   "outputs": [],
   "source": [
    "r = p.circle([1,2,3,4,5], [2,5,8,2,7])"
   ]
  },
  {
   "cell_type": "code",
   "execution_count": 14,
   "metadata": {},
   "outputs": [
    {
     "data": {
      "text/html": [
       "<div style=\"display: table;\"><div style=\"display: table-row;\"><div style=\"display: table-cell;\"><b title=\"bokeh.models.renderers.GlyphRenderer\">GlyphRenderer</b>(</div><div style=\"display: table-cell;\">id&nbsp;=&nbsp;'467bceb7-1362-4f26-93ef-69ee237da8b8', <span id=\"bc5370bf-61d0-42cb-9c46-f2634683a89a\" style=\"cursor: pointer;\">&hellip;)</span></div></div><div class=\"ba74c849-6136-4e00-8e8f-e3e286d2e106\" style=\"display: none;\"><div style=\"display: table-cell;\"></div><div style=\"display: table-cell;\">data_source&nbsp;=&nbsp;ColumnDataSource(id='7ee4f608-13af-478d-9e74-c34557cbc8a9', ...),</div></div><div class=\"ba74c849-6136-4e00-8e8f-e3e286d2e106\" style=\"display: none;\"><div style=\"display: table-cell;\"></div><div style=\"display: table-cell;\">glyph&nbsp;=&nbsp;Circle(id='01659747-0e46-4234-83aa-b784521b5df8', ...),</div></div><div class=\"ba74c849-6136-4e00-8e8f-e3e286d2e106\" style=\"display: none;\"><div style=\"display: table-cell;\"></div><div style=\"display: table-cell;\">hover_glyph&nbsp;=&nbsp;None,</div></div><div class=\"ba74c849-6136-4e00-8e8f-e3e286d2e106\" style=\"display: none;\"><div style=\"display: table-cell;\"></div><div style=\"display: table-cell;\">js_event_callbacks&nbsp;=&nbsp;{},</div></div><div class=\"ba74c849-6136-4e00-8e8f-e3e286d2e106\" style=\"display: none;\"><div style=\"display: table-cell;\"></div><div style=\"display: table-cell;\">js_property_callbacks&nbsp;=&nbsp;{},</div></div><div class=\"ba74c849-6136-4e00-8e8f-e3e286d2e106\" style=\"display: none;\"><div style=\"display: table-cell;\"></div><div style=\"display: table-cell;\">level&nbsp;=&nbsp;'glyph',</div></div><div class=\"ba74c849-6136-4e00-8e8f-e3e286d2e106\" style=\"display: none;\"><div style=\"display: table-cell;\"></div><div style=\"display: table-cell;\">muted&nbsp;=&nbsp;False,</div></div><div class=\"ba74c849-6136-4e00-8e8f-e3e286d2e106\" style=\"display: none;\"><div style=\"display: table-cell;\"></div><div style=\"display: table-cell;\">muted_glyph&nbsp;=&nbsp;None,</div></div><div class=\"ba74c849-6136-4e00-8e8f-e3e286d2e106\" style=\"display: none;\"><div style=\"display: table-cell;\"></div><div style=\"display: table-cell;\">name&nbsp;=&nbsp;None,</div></div><div class=\"ba74c849-6136-4e00-8e8f-e3e286d2e106\" style=\"display: none;\"><div style=\"display: table-cell;\"></div><div style=\"display: table-cell;\">nonselection_glyph&nbsp;=&nbsp;Circle(id='1522632d-0008-4f2e-9787-6931aa259bc4', ...),</div></div><div class=\"ba74c849-6136-4e00-8e8f-e3e286d2e106\" style=\"display: none;\"><div style=\"display: table-cell;\"></div><div style=\"display: table-cell;\">selection_glyph&nbsp;=&nbsp;None,</div></div><div class=\"ba74c849-6136-4e00-8e8f-e3e286d2e106\" style=\"display: none;\"><div style=\"display: table-cell;\"></div><div style=\"display: table-cell;\">subscribed_events&nbsp;=&nbsp;[],</div></div><div class=\"ba74c849-6136-4e00-8e8f-e3e286d2e106\" style=\"display: none;\"><div style=\"display: table-cell;\"></div><div style=\"display: table-cell;\">tags&nbsp;=&nbsp;[],</div></div><div class=\"ba74c849-6136-4e00-8e8f-e3e286d2e106\" style=\"display: none;\"><div style=\"display: table-cell;\"></div><div style=\"display: table-cell;\">view&nbsp;=&nbsp;CDSView(id='9a1ac593-8089-477c-8c4c-8dc98cc02005', ...),</div></div><div class=\"ba74c849-6136-4e00-8e8f-e3e286d2e106\" style=\"display: none;\"><div style=\"display: table-cell;\"></div><div style=\"display: table-cell;\">visible&nbsp;=&nbsp;True,</div></div><div class=\"ba74c849-6136-4e00-8e8f-e3e286d2e106\" style=\"display: none;\"><div style=\"display: table-cell;\"></div><div style=\"display: table-cell;\">x_range_name&nbsp;=&nbsp;'default',</div></div><div class=\"ba74c849-6136-4e00-8e8f-e3e286d2e106\" style=\"display: none;\"><div style=\"display: table-cell;\"></div><div style=\"display: table-cell;\">y_range_name&nbsp;=&nbsp;'default')</div></div></div>\n",
       "<script>\n",
       "(function() {\n",
       "  var expanded = false;\n",
       "  var ellipsis = document.getElementById(\"bc5370bf-61d0-42cb-9c46-f2634683a89a\");\n",
       "  ellipsis.addEventListener(\"click\", function() {\n",
       "    var rows = document.getElementsByClassName(\"ba74c849-6136-4e00-8e8f-e3e286d2e106\");\n",
       "    for (var i = 0; i < rows.length; i++) {\n",
       "      var el = rows[i];\n",
       "      el.style.display = expanded ? \"none\" : \"table-row\";\n",
       "    }\n",
       "    ellipsis.innerHTML = expanded ? \"&hellip;)\" : \"&lsaquo;&lsaquo;&lsaquo;\";\n",
       "    expanded = !expanded;\n",
       "  });\n",
       "})();\n",
       "</script>\n"
      ],
      "text/plain": [
       "GlyphRenderer(id='467bceb7-1362-4f26-93ef-69ee237da8b8', ...)"
      ]
     },
     "execution_count": 14,
     "metadata": {},
     "output_type": "execute_result"
    }
   ],
   "source": [
    "r"
   ]
  },
  {
   "cell_type": "code",
   "execution_count": 15,
   "metadata": {},
   "outputs": [
    {
     "data": {
      "text/html": [
       "<div style=\"display: table;\"><div style=\"display: table-row;\"><div style=\"display: table-cell;\"><b title=\"bokeh.models.markers.Circle\">Circle</b>(</div><div style=\"display: table-cell;\">id&nbsp;=&nbsp;'01659747-0e46-4234-83aa-b784521b5df8', <span id=\"b6862cec-3fc3-4e6e-9eef-fc0f9e6574bc\" style=\"cursor: pointer;\">&hellip;)</span></div></div><div class=\"edd9ec9a-1f31-4b95-87c1-7f04ce83a583\" style=\"display: none;\"><div style=\"display: table-cell;\"></div><div style=\"display: table-cell;\">angle&nbsp;=&nbsp;{'value': 0.0, 'units': 'rad'},</div></div><div class=\"edd9ec9a-1f31-4b95-87c1-7f04ce83a583\" style=\"display: none;\"><div style=\"display: table-cell;\"></div><div style=\"display: table-cell;\">fill_alpha&nbsp;=&nbsp;{'value': 1.0},</div></div><div class=\"edd9ec9a-1f31-4b95-87c1-7f04ce83a583\" style=\"display: none;\"><div style=\"display: table-cell;\"></div><div style=\"display: table-cell;\">fill_color&nbsp;=&nbsp;{'value': '#1f77b4'},</div></div><div class=\"edd9ec9a-1f31-4b95-87c1-7f04ce83a583\" style=\"display: none;\"><div style=\"display: table-cell;\"></div><div style=\"display: table-cell;\">js_event_callbacks&nbsp;=&nbsp;{},</div></div><div class=\"edd9ec9a-1f31-4b95-87c1-7f04ce83a583\" style=\"display: none;\"><div style=\"display: table-cell;\"></div><div style=\"display: table-cell;\">js_property_callbacks&nbsp;=&nbsp;{},</div></div><div class=\"edd9ec9a-1f31-4b95-87c1-7f04ce83a583\" style=\"display: none;\"><div style=\"display: table-cell;\"></div><div style=\"display: table-cell;\">line_alpha&nbsp;=&nbsp;{'value': 1.0},</div></div><div class=\"edd9ec9a-1f31-4b95-87c1-7f04ce83a583\" style=\"display: none;\"><div style=\"display: table-cell;\"></div><div style=\"display: table-cell;\">line_cap&nbsp;=&nbsp;'butt',</div></div><div class=\"edd9ec9a-1f31-4b95-87c1-7f04ce83a583\" style=\"display: none;\"><div style=\"display: table-cell;\"></div><div style=\"display: table-cell;\">line_color&nbsp;=&nbsp;{'value': '#1f77b4'},</div></div><div class=\"edd9ec9a-1f31-4b95-87c1-7f04ce83a583\" style=\"display: none;\"><div style=\"display: table-cell;\"></div><div style=\"display: table-cell;\">line_dash&nbsp;=&nbsp;[],</div></div><div class=\"edd9ec9a-1f31-4b95-87c1-7f04ce83a583\" style=\"display: none;\"><div style=\"display: table-cell;\"></div><div style=\"display: table-cell;\">line_dash_offset&nbsp;=&nbsp;0,</div></div><div class=\"edd9ec9a-1f31-4b95-87c1-7f04ce83a583\" style=\"display: none;\"><div style=\"display: table-cell;\"></div><div style=\"display: table-cell;\">line_join&nbsp;=&nbsp;'miter',</div></div><div class=\"edd9ec9a-1f31-4b95-87c1-7f04ce83a583\" style=\"display: none;\"><div style=\"display: table-cell;\"></div><div style=\"display: table-cell;\">line_width&nbsp;=&nbsp;{'value': 1},</div></div><div class=\"edd9ec9a-1f31-4b95-87c1-7f04ce83a583\" style=\"display: none;\"><div style=\"display: table-cell;\"></div><div style=\"display: table-cell;\">name&nbsp;=&nbsp;None,</div></div><div class=\"edd9ec9a-1f31-4b95-87c1-7f04ce83a583\" style=\"display: none;\"><div style=\"display: table-cell;\"></div><div style=\"display: table-cell;\">radius&nbsp;=&nbsp;None,</div></div><div class=\"edd9ec9a-1f31-4b95-87c1-7f04ce83a583\" style=\"display: none;\"><div style=\"display: table-cell;\"></div><div style=\"display: table-cell;\">radius_dimension&nbsp;=&nbsp;'x',</div></div><div class=\"edd9ec9a-1f31-4b95-87c1-7f04ce83a583\" style=\"display: none;\"><div style=\"display: table-cell;\"></div><div style=\"display: table-cell;\">size&nbsp;=&nbsp;{'value': 4, 'units': 'screen'},</div></div><div class=\"edd9ec9a-1f31-4b95-87c1-7f04ce83a583\" style=\"display: none;\"><div style=\"display: table-cell;\"></div><div style=\"display: table-cell;\">subscribed_events&nbsp;=&nbsp;[],</div></div><div class=\"edd9ec9a-1f31-4b95-87c1-7f04ce83a583\" style=\"display: none;\"><div style=\"display: table-cell;\"></div><div style=\"display: table-cell;\">tags&nbsp;=&nbsp;[],</div></div><div class=\"edd9ec9a-1f31-4b95-87c1-7f04ce83a583\" style=\"display: none;\"><div style=\"display: table-cell;\"></div><div style=\"display: table-cell;\">x&nbsp;=&nbsp;{'field': 'x'},</div></div><div class=\"edd9ec9a-1f31-4b95-87c1-7f04ce83a583\" style=\"display: none;\"><div style=\"display: table-cell;\"></div><div style=\"display: table-cell;\">y&nbsp;=&nbsp;{'field': 'y'})</div></div></div>\n",
       "<script>\n",
       "(function() {\n",
       "  var expanded = false;\n",
       "  var ellipsis = document.getElementById(\"b6862cec-3fc3-4e6e-9eef-fc0f9e6574bc\");\n",
       "  ellipsis.addEventListener(\"click\", function() {\n",
       "    var rows = document.getElementsByClassName(\"edd9ec9a-1f31-4b95-87c1-7f04ce83a583\");\n",
       "    for (var i = 0; i < rows.length; i++) {\n",
       "      var el = rows[i];\n",
       "      el.style.display = expanded ? \"none\" : \"table-row\";\n",
       "    }\n",
       "    ellipsis.innerHTML = expanded ? \"&hellip;)\" : \"&lsaquo;&lsaquo;&lsaquo;\";\n",
       "    expanded = !expanded;\n",
       "  });\n",
       "})();\n",
       "</script>\n"
      ],
      "text/plain": [
       "Circle(id='01659747-0e46-4234-83aa-b784521b5df8', ...)"
      ]
     },
     "execution_count": 15,
     "metadata": {},
     "output_type": "execute_result"
    }
   ],
   "source": [
    "r.glyph"
   ]
  },
  {
   "cell_type": "code",
   "execution_count": 16,
   "metadata": {},
   "outputs": [
    {
     "data": {
      "text/html": [
       "\n",
       "<div class=\"bk-root\">\n",
       "    <div class=\"bk-plotdiv\" id=\"958e822d-2cc2-449b-b531-1de69d4aa1fb\"></div>\n",
       "</div>"
      ]
     },
     "metadata": {},
     "output_type": "display_data"
    },
    {
     "data": {
      "application/javascript": [
       "(function(root) {\n",
       "  function embed_document(root) {\n",
       "    \n",
       "  var docs_json = {\"d53f79ee-1b44-477e-93de-da6d00d7aa44\":{\"roots\":{\"references\":[{\"attributes\":{},\"id\":\"8bc1f100-5443-48f1-9305-40c8c64582dd\",\"type\":\"ResetTool\"},{\"attributes\":{},\"id\":\"d0aaf3e9-a756-4af0-b2a1-152b9aeec86d\",\"type\":\"PanTool\"},{\"attributes\":{},\"id\":\"08dfd439-17aa-4a14-a8e0-acb880db63ba\",\"type\":\"WheelZoomTool\"},{\"attributes\":{\"fill_alpha\":{\"value\":0.2},\"fill_color\":{\"value\":\"#1f77b4\"},\"line_color\":{\"value\":\"firebrick\"},\"line_dash\":[6,3],\"line_width\":{\"value\":2},\"size\":{\"units\":\"screen\",\"value\":60},\"x\":{\"field\":\"x\"},\"y\":{\"field\":\"y\"}},\"id\":\"cdbab4a6-3527-4474-9589-cfbd9b601843\",\"type\":\"Circle\"},{\"attributes\":{\"dimension\":1,\"plot\":{\"id\":\"1c2a4af2-1909-450f-8f1e-841308e98272\",\"subtype\":\"Figure\",\"type\":\"Plot\"},\"ticker\":{\"id\":\"a42ca98a-3155-4a88-9705-8c0ca9b297ef\",\"type\":\"BasicTicker\"}},\"id\":\"c65f8891-9dfe-4de0-a245-16891a60afd9\",\"type\":\"Grid\"},{\"attributes\":{\"plot\":null,\"text\":\"\"},\"id\":\"a1158f98-dcd8-4aa2-b249-ae7c128ace18\",\"type\":\"Title\"},{\"attributes\":{},\"id\":\"fc0d40b1-a6c9-431b-8290-84c5589c2efd\",\"type\":\"LinearScale\"},{\"attributes\":{\"callback\":null},\"id\":\"b37c79c9-6f64-43c6-83bf-da85c2a7a193\",\"type\":\"DataRange1d\"},{\"attributes\":{\"overlay\":{\"id\":\"c49e59eb-8a06-4d81-8066-aa48402ddcec\",\"type\":\"BoxAnnotation\"}},\"id\":\"de07ea59-5bbf-4f21-a9d7-007d8f7e80c0\",\"type\":\"BoxZoomTool\"},{\"attributes\":{},\"id\":\"2870741f-b54e-406e-82cb-90ce7ed6119a\",\"type\":\"BasicTicker\"},{\"attributes\":{\"plot\":{\"id\":\"1c2a4af2-1909-450f-8f1e-841308e98272\",\"subtype\":\"Figure\",\"type\":\"Plot\"},\"ticker\":{\"id\":\"2870741f-b54e-406e-82cb-90ce7ed6119a\",\"type\":\"BasicTicker\"}},\"id\":\"c326780a-59d9-44e9-bd4e-8b3fefeac5b6\",\"type\":\"Grid\"},{\"attributes\":{\"formatter\":{\"id\":\"21b1c69f-b204-4042-9ba5-9e27659757ea\",\"type\":\"BasicTickFormatter\"},\"plot\":{\"id\":\"1c2a4af2-1909-450f-8f1e-841308e98272\",\"subtype\":\"Figure\",\"type\":\"Plot\"},\"ticker\":{\"id\":\"2870741f-b54e-406e-82cb-90ce7ed6119a\",\"type\":\"BasicTicker\"}},\"id\":\"e173d2ac-ff9c-49bc-a3d6-07f59c1be647\",\"type\":\"LinearAxis\"},{\"attributes\":{},\"id\":\"20a49170-afb2-4318-b7c2-8d07c9b23f2d\",\"type\":\"BasicTickFormatter\"},{\"attributes\":{\"active_drag\":\"auto\",\"active_inspect\":\"auto\",\"active_scroll\":\"auto\",\"active_tap\":\"auto\",\"tools\":[{\"id\":\"d0aaf3e9-a756-4af0-b2a1-152b9aeec86d\",\"type\":\"PanTool\"},{\"id\":\"08dfd439-17aa-4a14-a8e0-acb880db63ba\",\"type\":\"WheelZoomTool\"},{\"id\":\"de07ea59-5bbf-4f21-a9d7-007d8f7e80c0\",\"type\":\"BoxZoomTool\"},{\"id\":\"48edcf2c-f70b-420f-80e8-e535e154fd6b\",\"type\":\"SaveTool\"},{\"id\":\"8bc1f100-5443-48f1-9305-40c8c64582dd\",\"type\":\"ResetTool\"},{\"id\":\"e0968ace-372b-43a8-aace-5b0e7d448609\",\"type\":\"HelpTool\"}]},\"id\":\"32e46752-fa1b-46b6-9920-30ccf5c04112\",\"type\":\"Toolbar\"},{\"attributes\":{},\"id\":\"21b1c69f-b204-4042-9ba5-9e27659757ea\",\"type\":\"BasicTickFormatter\"},{\"attributes\":{\"source\":{\"id\":\"a213ca9a-27ba-4ceb-9db4-11bf9aa76b69\",\"type\":\"ColumnDataSource\"}},\"id\":\"1a4e5cd6-e1d8-4399-957d-0340a3e48cbc\",\"type\":\"CDSView\"},{\"attributes\":{},\"id\":\"32ad9b26-59f0-41d9-9f50-8f79f216d729\",\"type\":\"LinearScale\"},{\"attributes\":{\"below\":[{\"id\":\"e173d2ac-ff9c-49bc-a3d6-07f59c1be647\",\"type\":\"LinearAxis\"}],\"left\":[{\"id\":\"40cfdb28-2e5d-407e-bcd1-b55ede9082b8\",\"type\":\"LinearAxis\"}],\"plot_height\":400,\"plot_width\":400,\"renderers\":[{\"id\":\"e173d2ac-ff9c-49bc-a3d6-07f59c1be647\",\"type\":\"LinearAxis\"},{\"id\":\"c326780a-59d9-44e9-bd4e-8b3fefeac5b6\",\"type\":\"Grid\"},{\"id\":\"40cfdb28-2e5d-407e-bcd1-b55ede9082b8\",\"type\":\"LinearAxis\"},{\"id\":\"c65f8891-9dfe-4de0-a245-16891a60afd9\",\"type\":\"Grid\"},{\"id\":\"c49e59eb-8a06-4d81-8066-aa48402ddcec\",\"type\":\"BoxAnnotation\"},{\"id\":\"f30a7c5c-d4f5-40d1-8603-6adbaf9aa7f2\",\"type\":\"GlyphRenderer\"}],\"title\":{\"id\":\"a1158f98-dcd8-4aa2-b249-ae7c128ace18\",\"type\":\"Title\"},\"toolbar\":{\"id\":\"32e46752-fa1b-46b6-9920-30ccf5c04112\",\"type\":\"Toolbar\"},\"x_range\":{\"id\":\"b37c79c9-6f64-43c6-83bf-da85c2a7a193\",\"type\":\"DataRange1d\"},\"x_scale\":{\"id\":\"fc0d40b1-a6c9-431b-8290-84c5589c2efd\",\"type\":\"LinearScale\"},\"y_range\":{\"id\":\"af186b7d-22e2-4fb3-b4c4-07fb93516531\",\"type\":\"DataRange1d\"},\"y_scale\":{\"id\":\"32ad9b26-59f0-41d9-9f50-8f79f216d729\",\"type\":\"LinearScale\"}},\"id\":\"1c2a4af2-1909-450f-8f1e-841308e98272\",\"subtype\":\"Figure\",\"type\":\"Plot\"},{\"attributes\":{},\"id\":\"e0968ace-372b-43a8-aace-5b0e7d448609\",\"type\":\"HelpTool\"},{\"attributes\":{},\"id\":\"48edcf2c-f70b-420f-80e8-e535e154fd6b\",\"type\":\"SaveTool\"},{\"attributes\":{},\"id\":\"a42ca98a-3155-4a88-9705-8c0ca9b297ef\",\"type\":\"BasicTicker\"},{\"attributes\":{\"callback\":null,\"column_names\":[\"x\",\"y\"],\"data\":{\"x\":[1,2,3,4,5],\"y\":[2,5,8,2,7]}},\"id\":\"a213ca9a-27ba-4ceb-9db4-11bf9aa76b69\",\"type\":\"ColumnDataSource\"},{\"attributes\":{\"callback\":null},\"id\":\"af186b7d-22e2-4fb3-b4c4-07fb93516531\",\"type\":\"DataRange1d\"},{\"attributes\":{\"bottom_units\":\"screen\",\"fill_alpha\":{\"value\":0.5},\"fill_color\":{\"value\":\"lightgrey\"},\"left_units\":\"screen\",\"level\":\"overlay\",\"line_alpha\":{\"value\":1.0},\"line_color\":{\"value\":\"black\"},\"line_dash\":[4,4],\"line_width\":{\"value\":2},\"plot\":null,\"render_mode\":\"css\",\"right_units\":\"screen\",\"top_units\":\"screen\"},\"id\":\"c49e59eb-8a06-4d81-8066-aa48402ddcec\",\"type\":\"BoxAnnotation\"},{\"attributes\":{\"fill_alpha\":{\"value\":0.1},\"fill_color\":{\"value\":\"#1f77b4\"},\"line_alpha\":{\"value\":0.1},\"line_color\":{\"value\":\"#1f77b4\"},\"x\":{\"field\":\"x\"},\"y\":{\"field\":\"y\"}},\"id\":\"2df975be-515c-4db2-a464-3b465ad67187\",\"type\":\"Circle\"},{\"attributes\":{\"data_source\":{\"id\":\"a213ca9a-27ba-4ceb-9db4-11bf9aa76b69\",\"type\":\"ColumnDataSource\"},\"glyph\":{\"id\":\"cdbab4a6-3527-4474-9589-cfbd9b601843\",\"type\":\"Circle\"},\"hover_glyph\":null,\"muted_glyph\":null,\"nonselection_glyph\":{\"id\":\"2df975be-515c-4db2-a464-3b465ad67187\",\"type\":\"Circle\"},\"selection_glyph\":null,\"view\":{\"id\":\"1a4e5cd6-e1d8-4399-957d-0340a3e48cbc\",\"type\":\"CDSView\"}},\"id\":\"f30a7c5c-d4f5-40d1-8603-6adbaf9aa7f2\",\"type\":\"GlyphRenderer\"},{\"attributes\":{\"formatter\":{\"id\":\"20a49170-afb2-4318-b7c2-8d07c9b23f2d\",\"type\":\"BasicTickFormatter\"},\"plot\":{\"id\":\"1c2a4af2-1909-450f-8f1e-841308e98272\",\"subtype\":\"Figure\",\"type\":\"Plot\"},\"ticker\":{\"id\":\"a42ca98a-3155-4a88-9705-8c0ca9b297ef\",\"type\":\"BasicTicker\"}},\"id\":\"40cfdb28-2e5d-407e-bcd1-b55ede9082b8\",\"type\":\"LinearAxis\"}],\"root_ids\":[\"1c2a4af2-1909-450f-8f1e-841308e98272\"]},\"title\":\"Bokeh Application\",\"version\":\"0.12.13\"}};\n",
       "  var render_items = [{\"docid\":\"d53f79ee-1b44-477e-93de-da6d00d7aa44\",\"elementid\":\"958e822d-2cc2-449b-b531-1de69d4aa1fb\",\"modelid\":\"1c2a4af2-1909-450f-8f1e-841308e98272\"}];\n",
       "  root.Bokeh.embed.embed_items_notebook(docs_json, render_items);\n",
       "\n",
       "  }\n",
       "  if (root.Bokeh !== undefined) {\n",
       "    embed_document(root);\n",
       "  } else {\n",
       "    var attempts = 0;\n",
       "    var timer = setInterval(function(root) {\n",
       "      if (root.Bokeh !== undefined) {\n",
       "        embed_document(root);\n",
       "        clearInterval(timer);\n",
       "      }\n",
       "      attempts++;\n",
       "      if (attempts > 100) {\n",
       "        console.log(\"Bokeh: ERROR: Unable to run BokehJS code because BokehJS library is missing\")\n",
       "        clearInterval(timer);\n",
       "      }\n",
       "    }, 10, root)\n",
       "  }\n",
       "})(window);"
      ],
      "application/vnd.bokehjs_exec.v0+json": ""
     },
     "metadata": {
      "application/vnd.bokehjs_exec.v0+json": {
       "id": "1c2a4af2-1909-450f-8f1e-841308e98272"
      }
     },
     "output_type": "display_data"
    }
   ],
   "source": [
    "p = figure(plot_width=400, plot_height=400)\n",
    "r = p.circle([1,2,3,4,5], [2,5,8,2,7])\n",
    "\n",
    "glyph = r.glyph\n",
    "glyph.size = 60\n",
    "glyph.fill_alpha = 0.2\n",
    "glyph.line_color = \"firebrick\"\n",
    "glyph.line_dash = [6, 3]\n",
    "glyph.line_width = 2\n",
    "\n",
    "show(p)"
   ]
  },
  {
   "cell_type": "code",
   "execution_count": 17,
   "metadata": {},
   "outputs": [
    {
     "data": {
      "text/html": [
       "\n",
       "<div class=\"bk-root\">\n",
       "    <div class=\"bk-plotdiv\" id=\"450884f2-8395-4365-8b5a-0c5f2a40f83e\"></div>\n",
       "</div>"
      ]
     },
     "metadata": {},
     "output_type": "display_data"
    },
    {
     "data": {
      "application/javascript": [
       "(function(root) {\n",
       "  function embed_document(root) {\n",
       "    \n",
       "  var docs_json = {\"118a4edf-dc41-4a72-b12f-f5471c8c5c7b\":{\"roots\":{\"references\":[{\"attributes\":{\"formatter\":{\"id\":\"f301ccb1-78b8-409d-a6fc-9362164251e9\",\"type\":\"BasicTickFormatter\"},\"plot\":{\"id\":\"d1b10613-e12f-4416-a504-cea6733c3979\",\"subtype\":\"Figure\",\"type\":\"Plot\"},\"ticker\":{\"id\":\"14481bab-c63a-4cb1-8817-0290cfcc11e1\",\"type\":\"BasicTicker\"}},\"id\":\"4a7f48ac-8016-4e4e-aee7-2e8f7526cc0b\",\"type\":\"LinearAxis\"},{\"attributes\":{},\"id\":\"14481bab-c63a-4cb1-8817-0290cfcc11e1\",\"type\":\"BasicTicker\"},{\"attributes\":{\"dimension\":1,\"plot\":{\"id\":\"d1b10613-e12f-4416-a504-cea6733c3979\",\"subtype\":\"Figure\",\"type\":\"Plot\"},\"ticker\":{\"id\":\"14481bab-c63a-4cb1-8817-0290cfcc11e1\",\"type\":\"BasicTicker\"}},\"id\":\"1f65085d-211e-45f1-8d71-1b87562afd63\",\"type\":\"Grid\"},{\"attributes\":{\"data_source\":{\"id\":\"58fc8d2c-6663-43dd-a1fb-806227f8f581\",\"type\":\"ColumnDataSource\"},\"glyph\":{\"id\":\"7aa0ed3a-d036-4852-a285-87bd316ad785\",\"type\":\"Circle\"},\"hover_glyph\":null,\"muted_glyph\":null,\"nonselection_glyph\":{\"id\":\"b8b92404-027c-41c5-a971-5a863ee23f61\",\"type\":\"Circle\"},\"selection_glyph\":{\"id\":\"694ee128-9cbd-4012-ac6d-8a06694b2f5f\",\"type\":\"Circle\"},\"view\":{\"id\":\"bf94b608-bda5-4107-9e19-2e62741d4d32\",\"type\":\"CDSView\"}},\"id\":\"7822ca20-a58c-470b-b782-7417de01c118\",\"type\":\"GlyphRenderer\"},{\"attributes\":{\"fill_color\":{\"value\":\"#1f77b4\"},\"line_color\":{\"value\":\"#1f77b4\"},\"size\":{\"units\":\"screen\",\"value\":50},\"x\":{\"field\":\"x\"},\"y\":{\"field\":\"y\"}},\"id\":\"7aa0ed3a-d036-4852-a285-87bd316ad785\",\"type\":\"Circle\"},{\"attributes\":{\"callback\":null},\"id\":\"ac4fb645-15f8-49e9-8bce-eeff9eb23c77\",\"type\":\"DataRange1d\"},{\"attributes\":{\"source\":{\"id\":\"58fc8d2c-6663-43dd-a1fb-806227f8f581\",\"type\":\"ColumnDataSource\"}},\"id\":\"bf94b608-bda5-4107-9e19-2e62741d4d32\",\"type\":\"CDSView\"},{\"attributes\":{\"plot\":null,\"text\":\"Select a circle\"},\"id\":\"b06d77f6-6553-43d4-81f5-f62df9da9f67\",\"type\":\"Title\"},{\"attributes\":{},\"id\":\"05e1ee84-fbbf-4cfa-b213-8c8a0ee1e748\",\"type\":\"BasicTickFormatter\"},{\"attributes\":{\"callback\":null,\"column_names\":[\"x\",\"y\"],\"data\":{\"x\":[1,2,3,4,5],\"y\":[2,5,8,2,7]}},\"id\":\"58fc8d2c-6663-43dd-a1fb-806227f8f581\",\"type\":\"ColumnDataSource\"},{\"attributes\":{},\"id\":\"f301ccb1-78b8-409d-a6fc-9362164251e9\",\"type\":\"BasicTickFormatter\"},{\"attributes\":{\"active_drag\":\"auto\",\"active_inspect\":\"auto\",\"active_scroll\":\"auto\",\"active_tap\":\"auto\",\"tools\":[{\"id\":\"0f48a53a-d7d7-4083-a92b-de89e2d052fe\",\"type\":\"TapTool\"}]},\"id\":\"bbea847b-b279-48ce-94ff-a3d21c45ce77\",\"type\":\"Toolbar\"},{\"attributes\":{\"callback\":null},\"id\":\"0f48a53a-d7d7-4083-a92b-de89e2d052fe\",\"type\":\"TapTool\"},{\"attributes\":{},\"id\":\"857f3887-0916-4f9e-b5a8-eb721c76e467\",\"type\":\"LinearScale\"},{\"attributes\":{\"fill_alpha\":{\"value\":0.2},\"fill_color\":{\"value\":\"blue\"},\"line_color\":{\"value\":\"firebrick\"}},\"id\":\"b8b92404-027c-41c5-a971-5a863ee23f61\",\"type\":\"Circle\"},{\"attributes\":{\"callback\":null},\"id\":\"e35f1964-60a0-4d2a-bbe1-ec91d316550c\",\"type\":\"DataRange1d\"},{\"attributes\":{},\"id\":\"89f4349a-b020-4c75-a56e-5bbc5d32cbbe\",\"type\":\"LinearScale\"},{\"attributes\":{\"below\":[{\"id\":\"4540ca68-6912-470e-8de0-abe4f6e1a6a2\",\"type\":\"LinearAxis\"}],\"left\":[{\"id\":\"4a7f48ac-8016-4e4e-aee7-2e8f7526cc0b\",\"type\":\"LinearAxis\"}],\"plot_height\":400,\"plot_width\":400,\"renderers\":[{\"id\":\"4540ca68-6912-470e-8de0-abe4f6e1a6a2\",\"type\":\"LinearAxis\"},{\"id\":\"5edb4065-a313-43bd-b313-2afc9c4af1b9\",\"type\":\"Grid\"},{\"id\":\"4a7f48ac-8016-4e4e-aee7-2e8f7526cc0b\",\"type\":\"LinearAxis\"},{\"id\":\"1f65085d-211e-45f1-8d71-1b87562afd63\",\"type\":\"Grid\"},{\"id\":\"7822ca20-a58c-470b-b782-7417de01c118\",\"type\":\"GlyphRenderer\"}],\"title\":{\"id\":\"b06d77f6-6553-43d4-81f5-f62df9da9f67\",\"type\":\"Title\"},\"toolbar\":{\"id\":\"bbea847b-b279-48ce-94ff-a3d21c45ce77\",\"type\":\"Toolbar\"},\"x_range\":{\"id\":\"ac4fb645-15f8-49e9-8bce-eeff9eb23c77\",\"type\":\"DataRange1d\"},\"x_scale\":{\"id\":\"857f3887-0916-4f9e-b5a8-eb721c76e467\",\"type\":\"LinearScale\"},\"y_range\":{\"id\":\"e35f1964-60a0-4d2a-bbe1-ec91d316550c\",\"type\":\"DataRange1d\"},\"y_scale\":{\"id\":\"89f4349a-b020-4c75-a56e-5bbc5d32cbbe\",\"type\":\"LinearScale\"}},\"id\":\"d1b10613-e12f-4416-a504-cea6733c3979\",\"subtype\":\"Figure\",\"type\":\"Plot\"},{\"attributes\":{\"plot\":{\"id\":\"d1b10613-e12f-4416-a504-cea6733c3979\",\"subtype\":\"Figure\",\"type\":\"Plot\"},\"ticker\":{\"id\":\"3467c4ac-492c-4f69-9e5d-10be18f901a2\",\"type\":\"BasicTicker\"}},\"id\":\"5edb4065-a313-43bd-b313-2afc9c4af1b9\",\"type\":\"Grid\"},{\"attributes\":{\"fill_color\":{\"value\":\"firebrick\"},\"line_color\":{\"value\":null}},\"id\":\"694ee128-9cbd-4012-ac6d-8a06694b2f5f\",\"type\":\"Circle\"},{\"attributes\":{\"formatter\":{\"id\":\"05e1ee84-fbbf-4cfa-b213-8c8a0ee1e748\",\"type\":\"BasicTickFormatter\"},\"plot\":{\"id\":\"d1b10613-e12f-4416-a504-cea6733c3979\",\"subtype\":\"Figure\",\"type\":\"Plot\"},\"ticker\":{\"id\":\"3467c4ac-492c-4f69-9e5d-10be18f901a2\",\"type\":\"BasicTicker\"}},\"id\":\"4540ca68-6912-470e-8de0-abe4f6e1a6a2\",\"type\":\"LinearAxis\"},{\"attributes\":{},\"id\":\"3467c4ac-492c-4f69-9e5d-10be18f901a2\",\"type\":\"BasicTicker\"}],\"root_ids\":[\"d1b10613-e12f-4416-a504-cea6733c3979\"]},\"title\":\"Bokeh Application\",\"version\":\"0.12.13\"}};\n",
       "  var render_items = [{\"docid\":\"118a4edf-dc41-4a72-b12f-f5471c8c5c7b\",\"elementid\":\"450884f2-8395-4365-8b5a-0c5f2a40f83e\",\"modelid\":\"d1b10613-e12f-4416-a504-cea6733c3979\"}];\n",
       "  root.Bokeh.embed.embed_items_notebook(docs_json, render_items);\n",
       "\n",
       "  }\n",
       "  if (root.Bokeh !== undefined) {\n",
       "    embed_document(root);\n",
       "  } else {\n",
       "    var attempts = 0;\n",
       "    var timer = setInterval(function(root) {\n",
       "      if (root.Bokeh !== undefined) {\n",
       "        embed_document(root);\n",
       "        clearInterval(timer);\n",
       "      }\n",
       "      attempts++;\n",
       "      if (attempts > 100) {\n",
       "        console.log(\"Bokeh: ERROR: Unable to run BokehJS code because BokehJS library is missing\")\n",
       "        clearInterval(timer);\n",
       "      }\n",
       "    }, 10, root)\n",
       "  }\n",
       "})(window);"
      ],
      "application/vnd.bokehjs_exec.v0+json": ""
     },
     "metadata": {
      "application/vnd.bokehjs_exec.v0+json": {
       "id": "d1b10613-e12f-4416-a504-cea6733c3979"
      }
     },
     "output_type": "display_data"
    }
   ],
   "source": [
    "# Selected and Unselected Glyphs\n",
    "\n",
    "from bokeh.models import Circle\n",
    "\n",
    "plot = figure(plot_width=400, plot_height=400, tools=\"tap\", title=\"Select a circle\")\n",
    "renderer = plot.circle([1, 2, 3, 4, 5], [2, 5, 8, 2, 7], size=50)\n",
    "\n",
    "selected_circle = Circle(fill_alpha=1, fill_color=\"firebrick\", line_color=None)\n",
    "nonselected_circle = Circle(fill_alpha=0.2, fill_color=\"blue\", line_color=\"firebrick\")\n",
    "\n",
    "renderer.selection_glyph = selected_circle\n",
    "renderer.nonselection_glyph = nonselected_circle\n",
    "\n",
    "show(plot)"
   ]
  },
  {
   "cell_type": "code",
   "execution_count": 18,
   "metadata": {},
   "outputs": [
    {
     "data": {
      "text/html": [
       "\n",
       "<div class=\"bk-root\">\n",
       "    <div class=\"bk-plotdiv\" id=\"9022dd82-57f8-4ebc-9367-dfe84611416a\"></div>\n",
       "</div>"
      ]
     },
     "metadata": {},
     "output_type": "display_data"
    },
    {
     "data": {
      "application/javascript": [
       "(function(root) {\n",
       "  function embed_document(root) {\n",
       "    \n",
       "  var docs_json = {\"a7ce9c0a-d526-4e09-8606-39a1236cfacf\":{\"roots\":{\"references\":[{\"attributes\":{},\"id\":\"9ed4bcc3-5125-481b-a687-ab1da7479457\",\"type\":\"LinearScale\"},{\"attributes\":{\"plot\":null,\"text\":\"Select a circle\"},\"id\":\"dab6dc82-fd92-4a3e-90fb-b1b16ea01c52\",\"type\":\"Title\"},{\"attributes\":{\"callback\":null,\"column_names\":[\"x\",\"y\"],\"data\":{\"x\":[1,2,3,4,5],\"y\":[2,5,8,2,7]}},\"id\":\"07f31575-1b16-4154-b696-cf74ae82db38\",\"type\":\"ColumnDataSource\"},{\"attributes\":{\"dimension\":1,\"plot\":{\"id\":\"93154455-9a7b-49d6-a08c-65abe424ad59\",\"subtype\":\"Figure\",\"type\":\"Plot\"},\"ticker\":{\"id\":\"55e8a53c-db3d-4168-8b49-5464e7f83ca7\",\"type\":\"BasicTicker\"}},\"id\":\"81326246-89d0-4e1d-a79b-2a6ef282fd80\",\"type\":\"Grid\"},{\"attributes\":{\"plot\":{\"id\":\"93154455-9a7b-49d6-a08c-65abe424ad59\",\"subtype\":\"Figure\",\"type\":\"Plot\"},\"ticker\":{\"id\":\"6f0c9b5d-62cf-4fde-90f7-3f7be47a3daa\",\"type\":\"BasicTicker\"}},\"id\":\"726ae07f-a2e4-4a85-b183-31c39d2ee661\",\"type\":\"Grid\"},{\"attributes\":{\"formatter\":{\"id\":\"98222dd3-53ee-4024-a838-8b8d3e1fb62d\",\"type\":\"BasicTickFormatter\"},\"plot\":{\"id\":\"93154455-9a7b-49d6-a08c-65abe424ad59\",\"subtype\":\"Figure\",\"type\":\"Plot\"},\"ticker\":{\"id\":\"6f0c9b5d-62cf-4fde-90f7-3f7be47a3daa\",\"type\":\"BasicTicker\"}},\"id\":\"86e2d404-54af-4538-8043-3235207ed8fd\",\"type\":\"LinearAxis\"},{\"attributes\":{\"formatter\":{\"id\":\"d4278f97-2d95-4e1e-84df-08a2b1686a8f\",\"type\":\"BasicTickFormatter\"},\"plot\":{\"id\":\"93154455-9a7b-49d6-a08c-65abe424ad59\",\"subtype\":\"Figure\",\"type\":\"Plot\"},\"ticker\":{\"id\":\"55e8a53c-db3d-4168-8b49-5464e7f83ca7\",\"type\":\"BasicTicker\"}},\"id\":\"68573bd6-081a-41fb-a669-b1a45121e2af\",\"type\":\"LinearAxis\"},{\"attributes\":{\"below\":[{\"id\":\"86e2d404-54af-4538-8043-3235207ed8fd\",\"type\":\"LinearAxis\"}],\"left\":[{\"id\":\"68573bd6-081a-41fb-a669-b1a45121e2af\",\"type\":\"LinearAxis\"}],\"plot_height\":400,\"plot_width\":400,\"renderers\":[{\"id\":\"86e2d404-54af-4538-8043-3235207ed8fd\",\"type\":\"LinearAxis\"},{\"id\":\"726ae07f-a2e4-4a85-b183-31c39d2ee661\",\"type\":\"Grid\"},{\"id\":\"68573bd6-081a-41fb-a669-b1a45121e2af\",\"type\":\"LinearAxis\"},{\"id\":\"81326246-89d0-4e1d-a79b-2a6ef282fd80\",\"type\":\"Grid\"},{\"id\":\"84a0538b-b2cf-4a2a-be17-7c81366eb2bd\",\"type\":\"GlyphRenderer\"}],\"title\":{\"id\":\"dab6dc82-fd92-4a3e-90fb-b1b16ea01c52\",\"type\":\"Title\"},\"toolbar\":{\"id\":\"a68ff3a4-27af-45b5-94b0-897cd89b424c\",\"type\":\"Toolbar\"},\"x_range\":{\"id\":\"9f59a70e-47bb-4741-9e78-181f16444649\",\"type\":\"DataRange1d\"},\"x_scale\":{\"id\":\"9ed4bcc3-5125-481b-a687-ab1da7479457\",\"type\":\"LinearScale\"},\"y_range\":{\"id\":\"f1a29d5d-f53c-4c38-afb1-3a9de69c3681\",\"type\":\"DataRange1d\"},\"y_scale\":{\"id\":\"c26b1067-7ecf-4707-9f28-8c9f42328cc9\",\"type\":\"LinearScale\"}},\"id\":\"93154455-9a7b-49d6-a08c-65abe424ad59\",\"subtype\":\"Figure\",\"type\":\"Plot\"},{\"attributes\":{},\"id\":\"6f0c9b5d-62cf-4fde-90f7-3f7be47a3daa\",\"type\":\"BasicTicker\"},{\"attributes\":{},\"id\":\"55e8a53c-db3d-4168-8b49-5464e7f83ca7\",\"type\":\"BasicTicker\"},{\"attributes\":{\"callback\":null},\"id\":\"36de7919-b7ac-4dfc-a90e-7ab0a05df5f0\",\"type\":\"TapTool\"},{\"attributes\":{\"source\":{\"id\":\"07f31575-1b16-4154-b696-cf74ae82db38\",\"type\":\"ColumnDataSource\"}},\"id\":\"4b82e82c-097e-4872-851c-d355c781d3df\",\"type\":\"CDSView\"},{\"attributes\":{\"data_source\":{\"id\":\"07f31575-1b16-4154-b696-cf74ae82db38\",\"type\":\"ColumnDataSource\"},\"glyph\":{\"id\":\"a28e1bc8-aa0f-4cef-8c8d-c3d44c47bf5e\",\"type\":\"Circle\"},\"hover_glyph\":null,\"muted_glyph\":null,\"nonselection_glyph\":{\"id\":\"e7f8d959-340f-40bd-9ded-0786b850cc18\",\"type\":\"Circle\"},\"selection_glyph\":{\"id\":\"a28e7be1-693b-4fbc-a3f2-f4d6c206d426\",\"type\":\"Circle\"},\"view\":{\"id\":\"4b82e82c-097e-4872-851c-d355c781d3df\",\"type\":\"CDSView\"}},\"id\":\"84a0538b-b2cf-4a2a-be17-7c81366eb2bd\",\"type\":\"GlyphRenderer\"},{\"attributes\":{\"fill_color\":{\"value\":\"firebrick\"},\"line_color\":{\"value\":\"firebrick\"},\"size\":{\"units\":\"screen\",\"value\":50},\"x\":{\"field\":\"x\"},\"y\":{\"field\":\"y\"}},\"id\":\"a28e7be1-693b-4fbc-a3f2-f4d6c206d426\",\"type\":\"Circle\"},{\"attributes\":{\"active_drag\":\"auto\",\"active_inspect\":\"auto\",\"active_scroll\":\"auto\",\"active_tap\":\"auto\",\"tools\":[{\"id\":\"36de7919-b7ac-4dfc-a90e-7ab0a05df5f0\",\"type\":\"TapTool\"}]},\"id\":\"a68ff3a4-27af-45b5-94b0-897cd89b424c\",\"type\":\"Toolbar\"},{\"attributes\":{\"fill_alpha\":{\"value\":0.2},\"fill_color\":{\"value\":\"blue\"},\"line_color\":{\"value\":\"firebrick\"},\"size\":{\"units\":\"screen\",\"value\":50},\"x\":{\"field\":\"x\"},\"y\":{\"field\":\"y\"}},\"id\":\"e7f8d959-340f-40bd-9ded-0786b850cc18\",\"type\":\"Circle\"},{\"attributes\":{\"callback\":null},\"id\":\"9f59a70e-47bb-4741-9e78-181f16444649\",\"type\":\"DataRange1d\"},{\"attributes\":{\"fill_color\":{\"value\":\"#1f77b4\"},\"line_color\":{\"value\":\"#1f77b4\"},\"size\":{\"units\":\"screen\",\"value\":50},\"x\":{\"field\":\"x\"},\"y\":{\"field\":\"y\"}},\"id\":\"a28e1bc8-aa0f-4cef-8c8d-c3d44c47bf5e\",\"type\":\"Circle\"},{\"attributes\":{},\"id\":\"c26b1067-7ecf-4707-9f28-8c9f42328cc9\",\"type\":\"LinearScale\"},{\"attributes\":{},\"id\":\"98222dd3-53ee-4024-a838-8b8d3e1fb62d\",\"type\":\"BasicTickFormatter\"},{\"attributes\":{},\"id\":\"d4278f97-2d95-4e1e-84df-08a2b1686a8f\",\"type\":\"BasicTickFormatter\"},{\"attributes\":{\"callback\":null},\"id\":\"f1a29d5d-f53c-4c38-afb1-3a9de69c3681\",\"type\":\"DataRange1d\"}],\"root_ids\":[\"93154455-9a7b-49d6-a08c-65abe424ad59\"]},\"title\":\"Bokeh Application\",\"version\":\"0.12.13\"}};\n",
       "  var render_items = [{\"docid\":\"a7ce9c0a-d526-4e09-8606-39a1236cfacf\",\"elementid\":\"9022dd82-57f8-4ebc-9367-dfe84611416a\",\"modelid\":\"93154455-9a7b-49d6-a08c-65abe424ad59\"}];\n",
       "  root.Bokeh.embed.embed_items_notebook(docs_json, render_items);\n",
       "\n",
       "  }\n",
       "  if (root.Bokeh !== undefined) {\n",
       "    embed_document(root);\n",
       "  } else {\n",
       "    var attempts = 0;\n",
       "    var timer = setInterval(function(root) {\n",
       "      if (root.Bokeh !== undefined) {\n",
       "        embed_document(root);\n",
       "        clearInterval(timer);\n",
       "      }\n",
       "      attempts++;\n",
       "      if (attempts > 100) {\n",
       "        console.log(\"Bokeh: ERROR: Unable to run BokehJS code because BokehJS library is missing\")\n",
       "        clearInterval(timer);\n",
       "      }\n",
       "    }, 10, root)\n",
       "  }\n",
       "})(window);"
      ],
      "application/vnd.bokehjs_exec.v0+json": ""
     },
     "metadata": {
      "application/vnd.bokehjs_exec.v0+json": {
       "id": "93154455-9a7b-49d6-a08c-65abe424ad59"
      }
     },
     "output_type": "display_data"
    }
   ],
   "source": [
    "plot = figure(plot_width=400, plot_height=400, tools=\"tap\", title=\"Select a circle\")\n",
    "renderer = plot.circle([1, 2, 3, 4, 5], [2, 5, 8, 2, 7], size=50,\n",
    "\n",
    "                       # set visual properties for selected glyphs\n",
    "                       selection_color=\"firebrick\",\n",
    "\n",
    "                       # set visual properties for non-selected glyphs\n",
    "                       nonselection_fill_alpha=0.2,\n",
    "                       nonselection_fill_color=\"blue\",\n",
    "                       nonselection_line_color=\"firebrick\",\n",
    "                       nonselection_line_alpha=1.0)\n",
    "\n",
    "show(plot)"
   ]
  },
  {
   "cell_type": "code",
   "execution_count": 19,
   "metadata": {},
   "outputs": [
    {
     "data": {
      "text/html": [
       "\n",
       "<div class=\"bk-root\">\n",
       "    <div class=\"bk-plotdiv\" id=\"4e046499-5395-4f4e-93e1-6ab65ee2e595\"></div>\n",
       "</div>"
      ]
     },
     "metadata": {},
     "output_type": "display_data"
    },
    {
     "data": {
      "application/javascript": [
       "(function(root) {\n",
       "  function embed_document(root) {\n",
       "    \n",
       "  var docs_json = {\"63f6f2b2-d3c3-4caa-944f-261a2042fe1e\":{\"roots\":{\"references\":[{\"attributes\":{\"formatter\":{\"id\":\"9ba05bbc-d96b-4218-884c-5cf94bce24fe\",\"type\":\"DatetimeTickFormatter\"},\"plot\":{\"id\":\"623441ad-e68d-4339-8430-653a662bd3e4\",\"subtype\":\"Figure\",\"type\":\"Plot\"},\"ticker\":{\"id\":\"ff52595f-42cd-4a4a-8c63-2fa272d18f98\",\"type\":\"DatetimeTicker\"}},\"id\":\"df0fbaaa-527a-4734-b1e0-5fb4ab411c97\",\"type\":\"DatetimeAxis\"},{\"attributes\":{\"num_minor_ticks\":5,\"tickers\":[{\"id\":\"eef7f598-1380-4731-bbc5-fdd6447dc3b5\",\"type\":\"AdaptiveTicker\"},{\"id\":\"80b1ce67-d3e3-4663-9554-3918f6f0b506\",\"type\":\"AdaptiveTicker\"},{\"id\":\"e12c4f7a-d7a3-4bee-867b-ca0398909063\",\"type\":\"AdaptiveTicker\"},{\"id\":\"22c8e2b9-75ce-48bf-8fc1-c773626022db\",\"type\":\"DaysTicker\"},{\"id\":\"b81ca6d6-764c-46b5-a795-da1098aedb76\",\"type\":\"DaysTicker\"},{\"id\":\"befa3ae2-1996-4fab-be38-e9b124206d26\",\"type\":\"DaysTicker\"},{\"id\":\"6186bcd4-ee2e-4ac5-9650-c6309c981e98\",\"type\":\"DaysTicker\"},{\"id\":\"360b69d6-9451-4359-ab11-63311e25acdd\",\"type\":\"MonthsTicker\"},{\"id\":\"b6e4867c-4d31-40db-9793-6f2cb4951cd4\",\"type\":\"MonthsTicker\"},{\"id\":\"7b8cab18-ebc4-4935-9f8d-612f90472964\",\"type\":\"MonthsTicker\"},{\"id\":\"a302a584-c6c8-4f2d-bcaa-417200242cc9\",\"type\":\"MonthsTicker\"},{\"id\":\"75cb678d-4981-49ca-b567-06f57f63f623\",\"type\":\"YearsTicker\"}]},\"id\":\"ff52595f-42cd-4a4a-8c63-2fa272d18f98\",\"type\":\"DatetimeTicker\"},{\"attributes\":{\"dimension\":1,\"plot\":{\"id\":\"623441ad-e68d-4339-8430-653a662bd3e4\",\"subtype\":\"Figure\",\"type\":\"Plot\"},\"ticker\":{\"id\":\"6e2b2a25-36f7-4ac5-ba2d-73522cdd8a64\",\"type\":\"BasicTicker\"}},\"id\":\"fe33b2c0-d64a-4bc6-9e7e-e90c900ac7cb\",\"type\":\"Grid\"},{\"attributes\":{\"line_alpha\":0.1,\"line_color\":\"#1f77b4\",\"line_dash\":[4,4],\"x\":{\"field\":\"x\"},\"y\":{\"field\":\"y\"}},\"id\":\"784f284e-de91-47a9-9075-dd49d0cc30db\",\"type\":\"Line\"},{\"attributes\":{\"data_source\":{\"id\":\"c49f5c31-63e7-4db1-bf81-30fe15e13f7f\",\"type\":\"ColumnDataSource\"},\"glyph\":{\"id\":\"b9341463-b1d2-4455-9e50-61635aa114bf\",\"type\":\"Line\"},\"hover_glyph\":null,\"muted_glyph\":null,\"nonselection_glyph\":{\"id\":\"784f284e-de91-47a9-9075-dd49d0cc30db\",\"type\":\"Line\"},\"selection_glyph\":null,\"view\":{\"id\":\"1dc860ea-ce2b-4c73-8341-2e41daf559db\",\"type\":\"CDSView\"}},\"id\":\"735ef36e-a12b-4d77-b7d6-3ef11e81cb37\",\"type\":\"GlyphRenderer\"},{\"attributes\":{\"source\":{\"id\":\"c49f5c31-63e7-4db1-bf81-30fe15e13f7f\",\"type\":\"ColumnDataSource\"}},\"id\":\"1dc860ea-ce2b-4c73-8341-2e41daf559db\",\"type\":\"CDSView\"},{\"attributes\":{},\"id\":\"9ba05bbc-d96b-4218-884c-5cf94bce24fe\",\"type\":\"DatetimeTickFormatter\"},{\"attributes\":{},\"id\":\"7389f676-a075-4214-8e8f-91d5a735629c\",\"type\":\"BasicTickFormatter\"},{\"attributes\":{\"callback\":null,\"mode\":\"hline\",\"renderers\":[{\"id\":\"a068e8f2-01bc-491a-a403-5762fc2c5f11\",\"type\":\"GlyphRenderer\"}],\"tooltips\":null},\"id\":\"b89171e3-a023-4dc0-99af-508cd30a4dc6\",\"type\":\"HoverTool\"},{\"attributes\":{\"callback\":null,\"column_names\":[\"x\",\"y\"],\"data\":{\"x\":{\"__ndarray__\":\"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\",\"dtype\":\"float64\",\"shape\":[288]},\"y\":[143,147,150,152,152,152,154,155,142,140,138,134,131,130,128,127,126,126,126,126,127,129,131,132,134,136,136,136,136,135,134,132,130,130,130,129,128,127,125,124,123,123,122,121,120,118,115,112,111,111,110,110,109,108,107,107,107,108,107,105,105,105,105,104,103,102,99,97,96,94,94,93,93,92,91,92,94,95,96,97,99,102,104,112,112,112,111,110,107,104,105,105,103,99,96,94,95,102,114,128,144,160,173,185,196,205,209,214,219,226,234,241,248,255,260,265,268,270,272,271,271,268,265,261,256,253,250,246,244,241,237,233,229,225,222,204,200,197,193,190,186,182,179,175,171,168,164,158,154,151,148,145,141,133,139,152,173,196,217,233,244,249,250,253,256,260,263,265,265,264,260,254,246,234,217,200,188,181,175,169,164,159,154,147,138,132,129,127,123,117,111,106,104,103,100,94,88,83,78,75,73,71,69,68,67,67,68,70,71,71,70,69,68,67,67,67,66,67,69,71,74,76,78,80,80,80,80,80,80,82,84,87,90,92,87,87,86,86,86,86,87,87,87,85,83,82,83,87,95,107,118,130,141,149,172,179,187,201,214,221,225,230,232,230,223,216,208,199,191,185,181,177,176,177,176,173,171,169,163,154,152,153,154,154,153,151,150,150]}},\"id\":\"c49f5c31-63e7-4db1-bf81-30fe15e13f7f\",\"type\":\"ColumnDataSource\"},{\"attributes\":{\"base\":60,\"mantissas\":[1,2,5,10,15,20,30],\"max_interval\":1800000.0,\"min_interval\":1000.0,\"num_minor_ticks\":0},\"id\":\"80b1ce67-d3e3-4663-9554-3918f6f0b506\",\"type\":\"AdaptiveTicker\"},{\"attributes\":{\"days\":[1,2,3,4,5,6,7,8,9,10,11,12,13,14,15,16,17,18,19,20,21,22,23,24,25,26,27,28,29,30,31]},\"id\":\"22c8e2b9-75ce-48bf-8fc1-c773626022db\",\"type\":\"DaysTicker\"},{\"attributes\":{\"base\":24,\"mantissas\":[1,2,4,6,8,12],\"max_interval\":43200000.0,\"min_interval\":3600000.0,\"num_minor_ticks\":0},\"id\":\"e12c4f7a-d7a3-4bee-867b-ca0398909063\",\"type\":\"AdaptiveTicker\"},{\"attributes\":{\"days\":[1,4,7,10,13,16,19,22,25,28]},\"id\":\"b81ca6d6-764c-46b5-a795-da1098aedb76\",\"type\":\"DaysTicker\"},{\"attributes\":{\"days\":[1,8,15,22]},\"id\":\"befa3ae2-1996-4fab-be38-e9b124206d26\",\"type\":\"DaysTicker\"},{\"attributes\":{\"below\":[{\"id\":\"df0fbaaa-527a-4734-b1e0-5fb4ab411c97\",\"type\":\"DatetimeAxis\"}],\"left\":[{\"id\":\"5c13ffd3-0d93-4f8b-91bd-f18315b81118\",\"type\":\"LinearAxis\"}],\"plot_height\":300,\"renderers\":[{\"id\":\"df0fbaaa-527a-4734-b1e0-5fb4ab411c97\",\"type\":\"DatetimeAxis\"},{\"id\":\"04616105-8dc2-4645-bc20-bc42d2a61e02\",\"type\":\"Grid\"},{\"id\":\"5c13ffd3-0d93-4f8b-91bd-f18315b81118\",\"type\":\"LinearAxis\"},{\"id\":\"fe33b2c0-d64a-4bc6-9e7e-e90c900ac7cb\",\"type\":\"Grid\"},{\"id\":\"735ef36e-a12b-4d77-b7d6-3ef11e81cb37\",\"type\":\"GlyphRenderer\"},{\"id\":\"a068e8f2-01bc-491a-a403-5762fc2c5f11\",\"type\":\"GlyphRenderer\"}],\"title\":{\"id\":\"0ecc0c23-3e3e-41d5-a5d9-cbb9bd90ba88\",\"type\":\"Title\"},\"toolbar\":{\"id\":\"899abf3a-3b19-42fb-bfb6-a6bfd3de272b\",\"type\":\"Toolbar\"},\"toolbar_location\":null,\"x_range\":{\"id\":\"df1e543e-13e8-4be9-a75b-d7f518fdb9e1\",\"type\":\"DataRange1d\"},\"x_scale\":{\"id\":\"5299c1e5-bf83-46e9-b288-636b2f4b1005\",\"type\":\"LinearScale\"},\"y_range\":{\"id\":\"190410f6-eabb-4cbc-86a0-295a412f90aa\",\"type\":\"DataRange1d\"},\"y_scale\":{\"id\":\"068aa617-2728-46b7-9641-cb5c550ce16e\",\"type\":\"LinearScale\"}},\"id\":\"623441ad-e68d-4339-8430-653a662bd3e4\",\"subtype\":\"Figure\",\"type\":\"Plot\"},{\"attributes\":{\"days\":[1,15]},\"id\":\"6186bcd4-ee2e-4ac5-9650-c6309c981e98\",\"type\":\"DaysTicker\"},{\"attributes\":{\"months\":[0,1,2,3,4,5,6,7,8,9,10,11]},\"id\":\"360b69d6-9451-4359-ab11-63311e25acdd\",\"type\":\"MonthsTicker\"},{\"attributes\":{\"months\":[0,2,4,6,8,10]},\"id\":\"b6e4867c-4d31-40db-9793-6f2cb4951cd4\",\"type\":\"MonthsTicker\"},{\"attributes\":{\"months\":[0,4,8]},\"id\":\"7b8cab18-ebc4-4935-9f8d-612f90472964\",\"type\":\"MonthsTicker\"},{\"attributes\":{\"months\":[0,6]},\"id\":\"a302a584-c6c8-4f2d-bcaa-417200242cc9\",\"type\":\"MonthsTicker\"},{\"attributes\":{},\"id\":\"75cb678d-4981-49ca-b567-06f57f63f623\",\"type\":\"YearsTicker\"},{\"attributes\":{\"fill_alpha\":{\"value\":0.05},\"fill_color\":{\"value\":\"grey\"},\"line_color\":{\"value\":null},\"size\":{\"units\":\"screen\",\"value\":20},\"x\":{\"field\":\"x\"},\"y\":{\"field\":\"y\"}},\"id\":\"4b7d3f01-b138-42f5-8130-f600605effed\",\"type\":\"Circle\"},{\"attributes\":{\"fill_alpha\":{\"value\":0.1},\"fill_color\":{\"value\":\"#1f77b4\"},\"line_alpha\":{\"value\":0.1},\"line_color\":{\"value\":\"#1f77b4\"},\"size\":{\"units\":\"screen\",\"value\":20},\"x\":{\"field\":\"x\"},\"y\":{\"field\":\"y\"}},\"id\":\"c5f04d9f-f798-41b2-a303-27cbe0f5ba5f\",\"type\":\"Circle\"},{\"attributes\":{\"fill_alpha\":{\"value\":0.3},\"fill_color\":{\"value\":\"firebrick\"},\"line_alpha\":{\"value\":0.3},\"line_color\":{\"value\":\"white\"},\"size\":{\"units\":\"screen\",\"value\":20},\"x\":{\"field\":\"x\"},\"y\":{\"field\":\"y\"}},\"id\":\"7a7b9eaf-fb02-46c3-b512-de2edad6ec27\",\"type\":\"Circle\"},{\"attributes\":{\"mantissas\":[1,2,5],\"max_interval\":500.0,\"num_minor_ticks\":0},\"id\":\"eef7f598-1380-4731-bbc5-fdd6447dc3b5\",\"type\":\"AdaptiveTicker\"},{\"attributes\":{\"data_source\":{\"id\":\"74c74b85-991c-4804-b96b-8272b3bc170e\",\"type\":\"ColumnDataSource\"},\"glyph\":{\"id\":\"4b7d3f01-b138-42f5-8130-f600605effed\",\"type\":\"Circle\"},\"hover_glyph\":{\"id\":\"7a7b9eaf-fb02-46c3-b512-de2edad6ec27\",\"type\":\"Circle\"},\"muted_glyph\":null,\"nonselection_glyph\":{\"id\":\"c5f04d9f-f798-41b2-a303-27cbe0f5ba5f\",\"type\":\"Circle\"},\"selection_glyph\":null,\"view\":{\"id\":\"85c72c4d-b461-48d3-bb0f-3e8e822a4a20\",\"type\":\"CDSView\"}},\"id\":\"a068e8f2-01bc-491a-a403-5762fc2c5f11\",\"type\":\"GlyphRenderer\"},{\"attributes\":{\"active_drag\":\"auto\",\"active_inspect\":\"auto\",\"active_scroll\":\"auto\",\"active_tap\":\"auto\",\"tools\":[{\"id\":\"b89171e3-a023-4dc0-99af-508cd30a4dc6\",\"type\":\"HoverTool\"}]},\"id\":\"899abf3a-3b19-42fb-bfb6-a6bfd3de272b\",\"type\":\"Toolbar\"},{\"attributes\":{\"source\":{\"id\":\"74c74b85-991c-4804-b96b-8272b3bc170e\",\"type\":\"ColumnDataSource\"}},\"id\":\"85c72c4d-b461-48d3-bb0f-3e8e822a4a20\",\"type\":\"CDSView\"},{\"attributes\":{\"callback\":null},\"id\":\"df1e543e-13e8-4be9-a75b-d7f518fdb9e1\",\"type\":\"DataRange1d\"},{\"attributes\":{},\"id\":\"5299c1e5-bf83-46e9-b288-636b2f4b1005\",\"type\":\"LinearScale\"},{\"attributes\":{\"callback\":null},\"id\":\"190410f6-eabb-4cbc-86a0-295a412f90aa\",\"type\":\"DataRange1d\"},{\"attributes\":{},\"id\":\"068aa617-2728-46b7-9641-cb5c550ce16e\",\"type\":\"LinearScale\"},{\"attributes\":{\"line_color\":\"gray\",\"line_dash\":[4,4],\"x\":{\"field\":\"x\"},\"y\":{\"field\":\"y\"}},\"id\":\"b9341463-b1d2-4455-9e50-61635aa114bf\",\"type\":\"Line\"},{\"attributes\":{\"plot\":{\"id\":\"623441ad-e68d-4339-8430-653a662bd3e4\",\"subtype\":\"Figure\",\"type\":\"Plot\"},\"ticker\":{\"id\":\"ff52595f-42cd-4a4a-8c63-2fa272d18f98\",\"type\":\"DatetimeTicker\"}},\"id\":\"04616105-8dc2-4645-bc20-bc42d2a61e02\",\"type\":\"Grid\"},{\"attributes\":{\"callback\":null,\"column_names\":[\"x\",\"y\"],\"data\":{\"x\":{\"__ndarray__\":\"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\",\"dtype\":\"float64\",\"shape\":[288]},\"y\":[143,147,150,152,152,152,154,155,142,140,138,134,131,130,128,127,126,126,126,126,127,129,131,132,134,136,136,136,136,135,134,132,130,130,130,129,128,127,125,124,123,123,122,121,120,118,115,112,111,111,110,110,109,108,107,107,107,108,107,105,105,105,105,104,103,102,99,97,96,94,94,93,93,92,91,92,94,95,96,97,99,102,104,112,112,112,111,110,107,104,105,105,103,99,96,94,95,102,114,128,144,160,173,185,196,205,209,214,219,226,234,241,248,255,260,265,268,270,272,271,271,268,265,261,256,253,250,246,244,241,237,233,229,225,222,204,200,197,193,190,186,182,179,175,171,168,164,158,154,151,148,145,141,133,139,152,173,196,217,233,244,249,250,253,256,260,263,265,265,264,260,254,246,234,217,200,188,181,175,169,164,159,154,147,138,132,129,127,123,117,111,106,104,103,100,94,88,83,78,75,73,71,69,68,67,67,68,70,71,71,70,69,68,67,67,67,66,67,69,71,74,76,78,80,80,80,80,80,80,82,84,87,90,92,87,87,86,86,86,86,87,87,87,85,83,82,83,87,95,107,118,130,141,149,172,179,187,201,214,221,225,230,232,230,223,216,208,199,191,185,181,177,176,177,176,173,171,169,163,154,152,153,154,154,153,151,150,150]}},\"id\":\"74c74b85-991c-4804-b96b-8272b3bc170e\",\"type\":\"ColumnDataSource\"},{\"attributes\":{\"plot\":null,\"text\":\"Hover over points\"},\"id\":\"0ecc0c23-3e3e-41d5-a5d9-cbb9bd90ba88\",\"type\":\"Title\"},{\"attributes\":{\"formatter\":{\"id\":\"7389f676-a075-4214-8e8f-91d5a735629c\",\"type\":\"BasicTickFormatter\"},\"plot\":{\"id\":\"623441ad-e68d-4339-8430-653a662bd3e4\",\"subtype\":\"Figure\",\"type\":\"Plot\"},\"ticker\":{\"id\":\"6e2b2a25-36f7-4ac5-ba2d-73522cdd8a64\",\"type\":\"BasicTicker\"}},\"id\":\"5c13ffd3-0d93-4f8b-91bd-f18315b81118\",\"type\":\"LinearAxis\"},{\"attributes\":{},\"id\":\"6e2b2a25-36f7-4ac5-ba2d-73522cdd8a64\",\"type\":\"BasicTicker\"}],\"root_ids\":[\"623441ad-e68d-4339-8430-653a662bd3e4\"]},\"title\":\"Bokeh Application\",\"version\":\"0.12.13\"}};\n",
       "  var render_items = [{\"docid\":\"63f6f2b2-d3c3-4caa-944f-261a2042fe1e\",\"elementid\":\"4e046499-5395-4f4e-93e1-6ab65ee2e595\",\"modelid\":\"623441ad-e68d-4339-8430-653a662bd3e4\"}];\n",
       "  root.Bokeh.embed.embed_items_notebook(docs_json, render_items);\n",
       "\n",
       "  }\n",
       "  if (root.Bokeh !== undefined) {\n",
       "    embed_document(root);\n",
       "  } else {\n",
       "    var attempts = 0;\n",
       "    var timer = setInterval(function(root) {\n",
       "      if (root.Bokeh !== undefined) {\n",
       "        embed_document(root);\n",
       "        clearInterval(timer);\n",
       "      }\n",
       "      attempts++;\n",
       "      if (attempts > 100) {\n",
       "        console.log(\"Bokeh: ERROR: Unable to run BokehJS code because BokehJS library is missing\")\n",
       "        clearInterval(timer);\n",
       "      }\n",
       "    }, 10, root)\n",
       "  }\n",
       "})(window);"
      ],
      "application/vnd.bokehjs_exec.v0+json": ""
     },
     "metadata": {
      "application/vnd.bokehjs_exec.v0+json": {
       "id": "623441ad-e68d-4339-8430-653a662bd3e4"
      }
     },
     "output_type": "display_data"
    }
   ],
   "source": [
    "# Hover Inspections\n",
    "\n",
    "from bokeh.models import HoverTool\n",
    "from bokeh.sampledata.glucose import data\n",
    "\n",
    "subset = data.loc['2010-10-06']\n",
    "\n",
    "x, y = subset.index.to_series(), subset['glucose']\n",
    "\n",
    "# Basic plot setup\n",
    "plot = figure(plot_width=600, plot_height=300, x_axis_type=\"datetime\", tools=\"\",\n",
    "              toolbar_location=None, title='Hover over points')\n",
    "\n",
    "plot.line(x, y, line_dash=\"4 4\", line_width=1, color='gray')\n",
    "\n",
    "cr = plot.circle(x, y, size=20,\n",
    "                fill_color=\"grey\", hover_fill_color=\"firebrick\",\n",
    "                fill_alpha=0.05, hover_alpha=0.3,\n",
    "                line_color=None, hover_line_color=\"white\")\n",
    "\n",
    "plot.add_tools(HoverTool(tooltips=None, renderers=[cr], mode='hline'))\n",
    "\n",
    "show(plot)"
   ]
  },
  {
   "cell_type": "markdown",
   "metadata": {},
   "source": [
    "## Tool Overlays"
   ]
  },
  {
   "cell_type": "code",
   "execution_count": 20,
   "metadata": {},
   "outputs": [
    {
     "data": {
      "text/html": [
       "\n",
       "<div class=\"bk-root\">\n",
       "    <div class=\"bk-plotdiv\" id=\"c71e52f0-4960-46b4-ae7f-40f3361758d9\"></div>\n",
       "</div>"
      ]
     },
     "metadata": {},
     "output_type": "display_data"
    },
    {
     "data": {
      "application/javascript": [
       "(function(root) {\n",
       "  function embed_document(root) {\n",
       "    \n",
       "  var docs_json = {\"18ac9721-7a9a-41ab-9841-4f430a4f0958\":{\"roots\":{\"references\":[{\"attributes\":{},\"id\":\"b81c4201-a466-47a6-8416-c850a661740b\",\"type\":\"BasicTickFormatter\"},{\"attributes\":{\"plot\":null,\"text\":\"Select and Zoom\"},\"id\":\"217e656f-b44a-42d1-9cbe-e1e4c89793e3\",\"type\":\"Title\"},{\"attributes\":{\"fill_alpha\":{\"value\":0.5},\"fill_color\":{\"value\":\"lightgrey\"},\"level\":\"overlay\",\"line_alpha\":{\"value\":1.0},\"line_color\":{\"value\":\"black\"},\"line_dash\":[10,10],\"line_width\":{\"value\":2},\"plot\":null,\"xs_units\":\"screen\",\"ys_units\":\"screen\"},\"id\":\"84a6dd99-082d-44e3-9058-11075b7d5ff0\",\"type\":\"PolyAnnotation\"},{\"attributes\":{\"active_drag\":\"auto\",\"active_inspect\":\"auto\",\"active_scroll\":\"auto\",\"active_tap\":\"auto\",\"tools\":[{\"id\":\"13214028-b13e-48f7-878b-e3d1c6fece11\",\"type\":\"BoxSelectTool\"},{\"id\":\"4d5eaae0-fb28-4c9f-bc16-fd82661da1ae\",\"type\":\"BoxZoomTool\"},{\"id\":\"78c2dbcf-0206-4e1f-b529-81afa3adfd0c\",\"type\":\"LassoSelectTool\"},{\"id\":\"545354c6-7a13-4889-96f1-329165271a36\",\"type\":\"ResetTool\"}]},\"id\":\"d438a3b1-c453-497a-86a8-1549625f815e\",\"type\":\"Toolbar\"},{\"attributes\":{},\"id\":\"3d59d964-613e-4ec0-a736-cc708e2e5982\",\"type\":\"LinearScale\"},{\"attributes\":{\"callback\":null},\"id\":\"e5366641-227f-4058-8703-ef39330106d2\",\"type\":\"DataRange1d\"},{\"attributes\":{\"source\":{\"id\":\"73d137cb-9d1b-4fa9-98b5-654aad6c3185\",\"type\":\"ColumnDataSource\"}},\"id\":\"66d6f59a-3b2b-475c-afa4-72161ed50b55\",\"type\":\"CDSView\"},{\"attributes\":{\"plot\":{\"id\":\"ca38b31c-9464-4cd2-b492-e864c25cb356\",\"subtype\":\"Figure\",\"type\":\"Plot\"},\"ticker\":{\"id\":\"bb9b54f0-8ee8-4d90-917b-3f33d44af213\",\"type\":\"BasicTicker\"}},\"id\":\"0a9f91f9-3df3-46ad-87cb-ac33fd794d24\",\"type\":\"Grid\"},{\"attributes\":{\"fill_alpha\":{\"value\":0.1},\"fill_color\":{\"value\":\"#1f77b4\"},\"line_alpha\":{\"value\":0.1},\"line_color\":{\"value\":\"#1f77b4\"},\"size\":{\"units\":\"screen\",\"value\":5},\"x\":{\"field\":\"x\"},\"y\":{\"field\":\"y\"}},\"id\":\"b5b862df-b7a5-44c4-bead-3fec30e70d69\",\"type\":\"Circle\"},{\"attributes\":{\"formatter\":{\"id\":\"b81c4201-a466-47a6-8416-c850a661740b\",\"type\":\"BasicTickFormatter\"},\"plot\":{\"id\":\"ca38b31c-9464-4cd2-b492-e864c25cb356\",\"subtype\":\"Figure\",\"type\":\"Plot\"},\"ticker\":{\"id\":\"bb9b54f0-8ee8-4d90-917b-3f33d44af213\",\"type\":\"BasicTicker\"}},\"id\":\"504e9bd1-6f7d-4a20-b16b-98ff72e8c760\",\"type\":\"LinearAxis\"},{\"attributes\":{\"data_source\":{\"id\":\"73d137cb-9d1b-4fa9-98b5-654aad6c3185\",\"type\":\"ColumnDataSource\"},\"glyph\":{\"id\":\"ae387571-265c-4d45-b3d0-5e83dfa10e96\",\"type\":\"Circle\"},\"hover_glyph\":null,\"muted_glyph\":null,\"nonselection_glyph\":{\"id\":\"b5b862df-b7a5-44c4-bead-3fec30e70d69\",\"type\":\"Circle\"},\"selection_glyph\":null,\"view\":{\"id\":\"66d6f59a-3b2b-475c-afa4-72161ed50b55\",\"type\":\"CDSView\"}},\"id\":\"8e25e33a-7c1b-4a65-9188-c540f83c8a1e\",\"type\":\"GlyphRenderer\"},{\"attributes\":{},\"id\":\"bb9b54f0-8ee8-4d90-917b-3f33d44af213\",\"type\":\"BasicTicker\"},{\"attributes\":{\"formatter\":{\"id\":\"fa076780-b20a-421f-ab8b-a39465db4908\",\"type\":\"BasicTickFormatter\"},\"plot\":{\"id\":\"ca38b31c-9464-4cd2-b492-e864c25cb356\",\"subtype\":\"Figure\",\"type\":\"Plot\"},\"ticker\":{\"id\":\"321ba975-a86f-4d69-b19b-0d55b276e84f\",\"type\":\"BasicTicker\"}},\"id\":\"283c2ea2-faa5-4533-a56e-ec30dbca990f\",\"type\":\"LinearAxis\"},{\"attributes\":{\"callback\":null},\"id\":\"b91f8630-60ba-4742-bd6c-3637ffad9acf\",\"type\":\"DataRange1d\"},{\"attributes\":{},\"id\":\"321ba975-a86f-4d69-b19b-0d55b276e84f\",\"type\":\"BasicTicker\"},{\"attributes\":{\"dimension\":1,\"plot\":{\"id\":\"ca38b31c-9464-4cd2-b492-e864c25cb356\",\"subtype\":\"Figure\",\"type\":\"Plot\"},\"ticker\":{\"id\":\"321ba975-a86f-4d69-b19b-0d55b276e84f\",\"type\":\"BasicTicker\"}},\"id\":\"4b712f1b-4057-4b29-a4c2-d067b72ff7f2\",\"type\":\"Grid\"},{\"attributes\":{\"callback\":null,\"overlay\":{\"id\":\"8da4773e-f042-4e2b-8533-d5ef5aff9100\",\"type\":\"BoxAnnotation\"},\"renderers\":[{\"id\":\"8e25e33a-7c1b-4a65-9188-c540f83c8a1e\",\"type\":\"GlyphRenderer\"}]},\"id\":\"13214028-b13e-48f7-878b-e3d1c6fece11\",\"type\":\"BoxSelectTool\"},{\"attributes\":{},\"id\":\"fa076780-b20a-421f-ab8b-a39465db4908\",\"type\":\"BasicTickFormatter\"},{\"attributes\":{\"overlay\":{\"id\":\"8de937fd-2834-4382-9567-8bb04698e397\",\"type\":\"BoxAnnotation\"}},\"id\":\"4d5eaae0-fb28-4c9f-bc16-fd82661da1ae\",\"type\":\"BoxZoomTool\"},{\"attributes\":{},\"id\":\"4e8d3a35-1edb-45cc-9477-e59cf200f611\",\"type\":\"LinearScale\"},{\"attributes\":{\"callback\":null,\"overlay\":{\"id\":\"84a6dd99-082d-44e3-9058-11075b7d5ff0\",\"type\":\"PolyAnnotation\"}},\"id\":\"78c2dbcf-0206-4e1f-b529-81afa3adfd0c\",\"type\":\"LassoSelectTool\"},{\"attributes\":{},\"id\":\"545354c6-7a13-4889-96f1-329165271a36\",\"type\":\"ResetTool\"},{\"attributes\":{\"bottom_units\":\"screen\",\"fill_alpha\":{\"value\":0.5},\"fill_color\":{\"value\":\"firebrick\"},\"left_units\":\"screen\",\"level\":\"overlay\",\"line_alpha\":{\"value\":1.0},\"line_color\":{\"value\":null},\"line_dash\":[4,4],\"line_width\":{\"value\":2},\"plot\":null,\"render_mode\":\"css\",\"right_units\":\"screen\",\"top_units\":\"screen\"},\"id\":\"8da4773e-f042-4e2b-8533-d5ef5aff9100\",\"type\":\"BoxAnnotation\"},{\"attributes\":{\"fill_color\":{\"value\":\"#1f77b4\"},\"line_color\":{\"value\":\"#1f77b4\"},\"size\":{\"units\":\"screen\",\"value\":5},\"x\":{\"field\":\"x\"},\"y\":{\"field\":\"y\"}},\"id\":\"ae387571-265c-4d45-b3d0-5e83dfa10e96\",\"type\":\"Circle\"},{\"attributes\":{\"callback\":null,\"column_names\":[\"x\",\"y\"],\"data\":{\"x\":{\"__ndarray__\":\"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\",\"dtype\":\"float64\",\"shape\":[200]},\"y\":{\"__ndarray__\":\"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\",\"dtype\":\"float64\",\"shape\":[200]}}},\"id\":\"73d137cb-9d1b-4fa9-98b5-654aad6c3185\",\"type\":\"ColumnDataSource\"},{\"attributes\":{\"bottom_units\":\"screen\",\"fill_alpha\":{\"value\":0.5},\"fill_color\":{\"value\":null},\"left_units\":\"screen\",\"level\":\"overlay\",\"line_alpha\":{\"value\":1.0},\"line_color\":{\"value\":\"olive\"},\"line_dash\":[],\"line_width\":{\"value\":8},\"plot\":null,\"render_mode\":\"css\",\"right_units\":\"screen\",\"top_units\":\"screen\"},\"id\":\"8de937fd-2834-4382-9567-8bb04698e397\",\"type\":\"BoxAnnotation\"},{\"attributes\":{\"below\":[{\"id\":\"504e9bd1-6f7d-4a20-b16b-98ff72e8c760\",\"type\":\"LinearAxis\"}],\"left\":[{\"id\":\"283c2ea2-faa5-4533-a56e-ec30dbca990f\",\"type\":\"LinearAxis\"}],\"plot_height\":400,\"plot_width\":400,\"renderers\":[{\"id\":\"504e9bd1-6f7d-4a20-b16b-98ff72e8c760\",\"type\":\"LinearAxis\"},{\"id\":\"0a9f91f9-3df3-46ad-87cb-ac33fd794d24\",\"type\":\"Grid\"},{\"id\":\"283c2ea2-faa5-4533-a56e-ec30dbca990f\",\"type\":\"LinearAxis\"},{\"id\":\"4b712f1b-4057-4b29-a4c2-d067b72ff7f2\",\"type\":\"Grid\"},{\"id\":\"8da4773e-f042-4e2b-8533-d5ef5aff9100\",\"type\":\"BoxAnnotation\"},{\"id\":\"8de937fd-2834-4382-9567-8bb04698e397\",\"type\":\"BoxAnnotation\"},{\"id\":\"84a6dd99-082d-44e3-9058-11075b7d5ff0\",\"type\":\"PolyAnnotation\"},{\"id\":\"8e25e33a-7c1b-4a65-9188-c540f83c8a1e\",\"type\":\"GlyphRenderer\"}],\"title\":{\"id\":\"217e656f-b44a-42d1-9cbe-e1e4c89793e3\",\"type\":\"Title\"},\"toolbar\":{\"id\":\"d438a3b1-c453-497a-86a8-1549625f815e\",\"type\":\"Toolbar\"},\"x_range\":{\"id\":\"b91f8630-60ba-4742-bd6c-3637ffad9acf\",\"type\":\"DataRange1d\"},\"x_scale\":{\"id\":\"4e8d3a35-1edb-45cc-9477-e59cf200f611\",\"type\":\"LinearScale\"},\"y_range\":{\"id\":\"e5366641-227f-4058-8703-ef39330106d2\",\"type\":\"DataRange1d\"},\"y_scale\":{\"id\":\"3d59d964-613e-4ec0-a736-cc708e2e5982\",\"type\":\"LinearScale\"}},\"id\":\"ca38b31c-9464-4cd2-b492-e864c25cb356\",\"subtype\":\"Figure\",\"type\":\"Plot\"}],\"root_ids\":[\"ca38b31c-9464-4cd2-b492-e864c25cb356\"]},\"title\":\"Bokeh Application\",\"version\":\"0.12.13\"}};\n",
       "  var render_items = [{\"docid\":\"18ac9721-7a9a-41ab-9841-4f430a4f0958\",\"elementid\":\"c71e52f0-4960-46b4-ae7f-40f3361758d9\",\"modelid\":\"ca38b31c-9464-4cd2-b492-e864c25cb356\"}];\n",
       "  root.Bokeh.embed.embed_items_notebook(docs_json, render_items);\n",
       "\n",
       "  }\n",
       "  if (root.Bokeh !== undefined) {\n",
       "    embed_document(root);\n",
       "  } else {\n",
       "    var attempts = 0;\n",
       "    var timer = setInterval(function(root) {\n",
       "      if (root.Bokeh !== undefined) {\n",
       "        embed_document(root);\n",
       "        clearInterval(timer);\n",
       "      }\n",
       "      attempts++;\n",
       "      if (attempts > 100) {\n",
       "        console.log(\"Bokeh: ERROR: Unable to run BokehJS code because BokehJS library is missing\")\n",
       "        clearInterval(timer);\n",
       "      }\n",
       "    }, 10, root)\n",
       "  }\n",
       "})(window);"
      ],
      "application/vnd.bokehjs_exec.v0+json": ""
     },
     "metadata": {
      "application/vnd.bokehjs_exec.v0+json": {
       "id": "ca38b31c-9464-4cd2-b492-e864c25cb356"
      }
     },
     "output_type": "display_data"
    }
   ],
   "source": [
    "# Select and Zoom\n",
    "\n",
    "from bokeh.models import BoxSelectTool, BoxZoomTool, LassoSelectTool\n",
    "\n",
    "x = np.random.random(size=200)\n",
    "y = np.random.random(size=200)\n",
    "\n",
    "# Basic plot setup\n",
    "plot = figure(plot_width=400, plot_height=400, title='Select and Zoom',\n",
    "              tools=\"box_select,box_zoom,lasso_select,reset\")\n",
    "\n",
    "plot.circle(x, y, size=5)\n",
    "\n",
    "select_overlay = plot.select_one(BoxSelectTool).overlay\n",
    "\n",
    "select_overlay.fill_color = \"firebrick\"\n",
    "select_overlay.line_color = None\n",
    "\n",
    "zoom_overlay = plot.select_one(BoxZoomTool).overlay\n",
    "\n",
    "zoom_overlay.line_color = \"olive\"\n",
    "zoom_overlay.line_width = 8\n",
    "zoom_overlay.line_dash = \"solid\"\n",
    "zoom_overlay.fill_color = None\n",
    "\n",
    "plot.select_one(LassoSelectTool).overlay.line_dash = [10, 10]\n",
    "\n",
    "show(plot)"
   ]
  },
  {
   "cell_type": "markdown",
   "metadata": {},
   "source": [
    "## Axes"
   ]
  },
  {
   "cell_type": "code",
   "execution_count": 21,
   "metadata": {},
   "outputs": [
    {
     "data": {
      "text/plain": [
       "[LinearAxis(id='e173d2ac-ff9c-49bc-a3d6-07f59c1be647', ...)]"
      ]
     },
     "execution_count": 21,
     "metadata": {},
     "output_type": "execute_result"
    }
   ],
   "source": [
    "p.xaxis"
   ]
  },
  {
   "cell_type": "code",
   "execution_count": 22,
   "metadata": {},
   "outputs": [],
   "source": [
    "p.xaxis.axis_label = \"Temperature\""
   ]
  },
  {
   "cell_type": "code",
   "execution_count": 23,
   "metadata": {},
   "outputs": [
    {
     "data": {
      "text/html": [
       "\n",
       "<div class=\"bk-root\">\n",
       "    <div class=\"bk-plotdiv\" id=\"aaafbf1d-ce5b-4a80-9436-8a5d63e07ded\"></div>\n",
       "</div>"
      ]
     },
     "metadata": {},
     "output_type": "display_data"
    },
    {
     "data": {
      "application/javascript": [
       "(function(root) {\n",
       "  function embed_document(root) {\n",
       "    \n",
       "  var docs_json = {\"13b69727-d1d2-4726-9311-8fb43ac89250\":{\"roots\":{\"references\":[{\"attributes\":{\"below\":[{\"id\":\"cec3a6fc-6f89-4929-80c6-3b66816c7655\",\"type\":\"LinearAxis\"}],\"left\":[{\"id\":\"e1ccf157-dc93-4d78-bd54-de38ed15e899\",\"type\":\"LinearAxis\"}],\"plot_height\":400,\"plot_width\":400,\"renderers\":[{\"id\":\"cec3a6fc-6f89-4929-80c6-3b66816c7655\",\"type\":\"LinearAxis\"},{\"id\":\"ea2a3b1d-913d-49e3-8746-0b3ba323ec6c\",\"type\":\"Grid\"},{\"id\":\"e1ccf157-dc93-4d78-bd54-de38ed15e899\",\"type\":\"LinearAxis\"},{\"id\":\"94055363-f213-4c28-b046-9b0990da524b\",\"type\":\"Grid\"},{\"id\":\"3d272367-0146-4f5f-81a8-248d8ee65369\",\"type\":\"BoxAnnotation\"},{\"id\":\"106ca986-fe46-49d2-9715-658f25c23859\",\"type\":\"GlyphRenderer\"}],\"title\":{\"id\":\"60245c8c-a464-4eed-a0b3-5b74560e4f03\",\"type\":\"Title\"},\"toolbar\":{\"id\":\"58c3dea9-5f62-4f78-9201-beed6ce2c756\",\"type\":\"Toolbar\"},\"x_range\":{\"id\":\"786e235d-db61-43b4-98b5-04151a296f44\",\"type\":\"DataRange1d\"},\"x_scale\":{\"id\":\"6bfd1302-fcd2-40fd-b96a-6b04f16c42b6\",\"type\":\"LinearScale\"},\"y_range\":{\"id\":\"b7269763-b5fa-453a-aaa6-f8cac6ccf009\",\"type\":\"DataRange1d\"},\"y_scale\":{\"id\":\"0be5169d-f4ff-430b-8722-aff044156e09\",\"type\":\"LinearScale\"}},\"id\":\"794ad3a3-bc1f-46ea-a0aa-59454c8a9aea\",\"subtype\":\"Figure\",\"type\":\"Plot\"},{\"attributes\":{\"callback\":null},\"id\":\"786e235d-db61-43b4-98b5-04151a296f44\",\"type\":\"DataRange1d\"},{\"attributes\":{},\"id\":\"6db7c782-0207-4e6b-a89d-07357e86eeb9\",\"type\":\"WheelZoomTool\"},{\"attributes\":{},\"id\":\"a3de96e4-57b4-4fe1-aebb-69ffca8d4cd7\",\"type\":\"BasicTicker\"},{\"attributes\":{\"callback\":null},\"id\":\"b7269763-b5fa-453a-aaa6-f8cac6ccf009\",\"type\":\"DataRange1d\"},{\"attributes\":{},\"id\":\"5ac971db-a976-4b7a-9ea6-e32e1811fe33\",\"type\":\"SaveTool\"},{\"attributes\":{\"overlay\":{\"id\":\"3d272367-0146-4f5f-81a8-248d8ee65369\",\"type\":\"BoxAnnotation\"}},\"id\":\"68b7ed9a-20b3-454a-b0b6-ef6f4dbeafa6\",\"type\":\"BoxZoomTool\"},{\"attributes\":{},\"id\":\"3e398e8f-856b-4aec-a463-e79406839186\",\"type\":\"BasicTicker\"},{\"attributes\":{},\"id\":\"abb9efbb-eb3d-418e-8162-a871d6e19c66\",\"type\":\"ResetTool\"},{\"attributes\":{\"callback\":null,\"column_names\":[\"x\",\"y\"],\"data\":{\"x\":[1,2,3,4,5],\"y\":[2,5,8,2,7]}},\"id\":\"d54e4a7e-3262-4b74-8a2e-ea29290f3958\",\"type\":\"ColumnDataSource\"},{\"attributes\":{},\"id\":\"539c1146-377e-4952-bf6b-5f0d74401f4f\",\"type\":\"BasicTickFormatter\"},{\"attributes\":{},\"id\":\"6bfd1302-fcd2-40fd-b96a-6b04f16c42b6\",\"type\":\"LinearScale\"},{\"attributes\":{},\"id\":\"fbb4dc77-8e54-4b0f-8388-1ad288e39198\",\"type\":\"PanTool\"},{\"attributes\":{\"fill_alpha\":{\"value\":0.1},\"fill_color\":{\"value\":\"#1f77b4\"},\"line_alpha\":{\"value\":0.1},\"line_color\":{\"value\":\"#1f77b4\"},\"size\":{\"units\":\"screen\",\"value\":10},\"x\":{\"field\":\"x\"},\"y\":{\"field\":\"y\"}},\"id\":\"0c2571a2-db09-4593-8a13-a3505c5ca5d8\",\"type\":\"Circle\"},{\"attributes\":{\"bottom_units\":\"screen\",\"fill_alpha\":{\"value\":0.5},\"fill_color\":{\"value\":\"lightgrey\"},\"left_units\":\"screen\",\"level\":\"overlay\",\"line_alpha\":{\"value\":1.0},\"line_color\":{\"value\":\"black\"},\"line_dash\":[4,4],\"line_width\":{\"value\":2},\"plot\":null,\"render_mode\":\"css\",\"right_units\":\"screen\",\"top_units\":\"screen\"},\"id\":\"3d272367-0146-4f5f-81a8-248d8ee65369\",\"type\":\"BoxAnnotation\"},{\"attributes\":{\"axis_label\":\"Pressure\",\"formatter\":{\"id\":\"eef02ebd-f19c-4b68-a309-0f45db0d5293\",\"type\":\"BasicTickFormatter\"},\"major_label_orientation\":\"vertical\",\"major_label_text_color\":{\"value\":\"orange\"},\"minor_tick_in\":-3,\"minor_tick_out\":6,\"plot\":{\"id\":\"794ad3a3-bc1f-46ea-a0aa-59454c8a9aea\",\"subtype\":\"Figure\",\"type\":\"Plot\"},\"ticker\":{\"id\":\"a3de96e4-57b4-4fe1-aebb-69ffca8d4cd7\",\"type\":\"BasicTicker\"}},\"id\":\"e1ccf157-dc93-4d78-bd54-de38ed15e899\",\"type\":\"LinearAxis\"},{\"attributes\":{},\"id\":\"2a777aa3-395d-4197-b0d7-974569bc6f2a\",\"type\":\"HelpTool\"},{\"attributes\":{\"active_drag\":\"auto\",\"active_inspect\":\"auto\",\"active_scroll\":\"auto\",\"active_tap\":\"auto\",\"tools\":[{\"id\":\"fbb4dc77-8e54-4b0f-8388-1ad288e39198\",\"type\":\"PanTool\"},{\"id\":\"6db7c782-0207-4e6b-a89d-07357e86eeb9\",\"type\":\"WheelZoomTool\"},{\"id\":\"68b7ed9a-20b3-454a-b0b6-ef6f4dbeafa6\",\"type\":\"BoxZoomTool\"},{\"id\":\"5ac971db-a976-4b7a-9ea6-e32e1811fe33\",\"type\":\"SaveTool\"},{\"id\":\"abb9efbb-eb3d-418e-8162-a871d6e19c66\",\"type\":\"ResetTool\"},{\"id\":\"2a777aa3-395d-4197-b0d7-974569bc6f2a\",\"type\":\"HelpTool\"}]},\"id\":\"58c3dea9-5f62-4f78-9201-beed6ce2c756\",\"type\":\"Toolbar\"},{\"attributes\":{\"data_source\":{\"id\":\"d54e4a7e-3262-4b74-8a2e-ea29290f3958\",\"type\":\"ColumnDataSource\"},\"glyph\":{\"id\":\"d520034e-5246-4db6-bc29-3c4f27769ff2\",\"type\":\"Circle\"},\"hover_glyph\":null,\"muted_glyph\":null,\"nonselection_glyph\":{\"id\":\"0c2571a2-db09-4593-8a13-a3505c5ca5d8\",\"type\":\"Circle\"},\"selection_glyph\":null,\"view\":{\"id\":\"a724d994-cde0-4136-b956-c33fbe9dca53\",\"type\":\"CDSView\"}},\"id\":\"106ca986-fe46-49d2-9715-658f25c23859\",\"type\":\"GlyphRenderer\"},{\"attributes\":{\"source\":{\"id\":\"d54e4a7e-3262-4b74-8a2e-ea29290f3958\",\"type\":\"ColumnDataSource\"}},\"id\":\"a724d994-cde0-4136-b956-c33fbe9dca53\",\"type\":\"CDSView\"},{\"attributes\":{\"plot\":null,\"text\":\"\"},\"id\":\"60245c8c-a464-4eed-a0b3-5b74560e4f03\",\"type\":\"Title\"},{\"attributes\":{\"plot\":{\"id\":\"794ad3a3-bc1f-46ea-a0aa-59454c8a9aea\",\"subtype\":\"Figure\",\"type\":\"Plot\"},\"ticker\":{\"id\":\"3e398e8f-856b-4aec-a463-e79406839186\",\"type\":\"BasicTicker\"}},\"id\":\"ea2a3b1d-913d-49e3-8746-0b3ba323ec6c\",\"type\":\"Grid\"},{\"attributes\":{\"fill_color\":{\"value\":\"#1f77b4\"},\"line_color\":{\"value\":\"#1f77b4\"},\"size\":{\"units\":\"screen\",\"value\":10},\"x\":{\"field\":\"x\"},\"y\":{\"field\":\"y\"}},\"id\":\"d520034e-5246-4db6-bc29-3c4f27769ff2\",\"type\":\"Circle\"},{\"attributes\":{\"dimension\":1,\"plot\":{\"id\":\"794ad3a3-bc1f-46ea-a0aa-59454c8a9aea\",\"subtype\":\"Figure\",\"type\":\"Plot\"},\"ticker\":{\"id\":\"a3de96e4-57b4-4fe1-aebb-69ffca8d4cd7\",\"type\":\"BasicTicker\"}},\"id\":\"94055363-f213-4c28-b046-9b0990da524b\",\"type\":\"Grid\"},{\"attributes\":{},\"id\":\"eef02ebd-f19c-4b68-a309-0f45db0d5293\",\"type\":\"BasicTickFormatter\"},{\"attributes\":{\"axis_label\":\"Temp\",\"axis_line_color\":{\"value\":\"red\"},\"axis_line_width\":{\"value\":3},\"formatter\":{\"id\":\"539c1146-377e-4952-bf6b-5f0d74401f4f\",\"type\":\"BasicTickFormatter\"},\"minor_tick_in\":-3,\"minor_tick_out\":6,\"plot\":{\"id\":\"794ad3a3-bc1f-46ea-a0aa-59454c8a9aea\",\"subtype\":\"Figure\",\"type\":\"Plot\"},\"ticker\":{\"id\":\"3e398e8f-856b-4aec-a463-e79406839186\",\"type\":\"BasicTicker\"}},\"id\":\"cec3a6fc-6f89-4929-80c6-3b66816c7655\",\"type\":\"LinearAxis\"},{\"attributes\":{},\"id\":\"0be5169d-f4ff-430b-8722-aff044156e09\",\"type\":\"LinearScale\"}],\"root_ids\":[\"794ad3a3-bc1f-46ea-a0aa-59454c8a9aea\"]},\"title\":\"Bokeh Application\",\"version\":\"0.12.13\"}};\n",
       "  var render_items = [{\"docid\":\"13b69727-d1d2-4726-9311-8fb43ac89250\",\"elementid\":\"aaafbf1d-ce5b-4a80-9436-8a5d63e07ded\",\"modelid\":\"794ad3a3-bc1f-46ea-a0aa-59454c8a9aea\"}];\n",
       "  root.Bokeh.embed.embed_items_notebook(docs_json, render_items);\n",
       "\n",
       "  }\n",
       "  if (root.Bokeh !== undefined) {\n",
       "    embed_document(root);\n",
       "  } else {\n",
       "    var attempts = 0;\n",
       "    var timer = setInterval(function(root) {\n",
       "      if (root.Bokeh !== undefined) {\n",
       "        embed_document(root);\n",
       "        clearInterval(timer);\n",
       "      }\n",
       "      attempts++;\n",
       "      if (attempts > 100) {\n",
       "        console.log(\"Bokeh: ERROR: Unable to run BokehJS code because BokehJS library is missing\")\n",
       "        clearInterval(timer);\n",
       "      }\n",
       "    }, 10, root)\n",
       "  }\n",
       "})(window);"
      ],
      "application/vnd.bokehjs_exec.v0+json": ""
     },
     "metadata": {
      "application/vnd.bokehjs_exec.v0+json": {
       "id": "794ad3a3-bc1f-46ea-a0aa-59454c8a9aea"
      }
     },
     "output_type": "display_data"
    }
   ],
   "source": [
    "p = figure(plot_width=400, plot_height=400)\n",
    "p.circle([1,2,3,4,5], [2,5,8,2,7], size=10)\n",
    "\n",
    "# change just some things about the x-axes\n",
    "p.xaxis.axis_label = \"Temp\"\n",
    "p.xaxis.axis_line_width = 3\n",
    "p.xaxis.axis_line_color = \"red\"\n",
    "\n",
    "# change just some things about the y-axes\n",
    "p.yaxis.axis_label = \"Pressure\"\n",
    "p.yaxis.major_label_text_color = \"orange\"\n",
    "p.yaxis.major_label_orientation = \"vertical\"\n",
    "\n",
    "# change things on all axes\n",
    "p.axis.minor_tick_in = -3\n",
    "p.axis.minor_tick_out = 6\n",
    "\n",
    "show(p)"
   ]
  },
  {
   "cell_type": "code",
   "execution_count": 24,
   "metadata": {},
   "outputs": [
    {
     "data": {
      "text/html": [
       "\n",
       "<div class=\"bk-root\">\n",
       "    <div class=\"bk-plotdiv\" id=\"222cbe00-caa1-46f9-ba50-06cfa792c6a6\"></div>\n",
       "</div>"
      ]
     },
     "metadata": {},
     "output_type": "display_data"
    },
    {
     "data": {
      "application/javascript": [
       "(function(root) {\n",
       "  function embed_document(root) {\n",
       "    \n",
       "  var docs_json = {\"6c27811f-8a2c-4b00-84b0-d17364d0dfe3\":{\"roots\":{\"references\":[{\"attributes\":{\"axis_label\":\"Lot Number\",\"axis_label_standoff\":30,\"axis_label_text_color\":{\"value\":\"#aa6666\"},\"formatter\":{\"id\":\"42b22cb0-3b3a-4f1f-a939-9eef6e7032e4\",\"type\":\"BasicTickFormatter\"},\"plot\":{\"id\":\"fad8c172-eb2e-476a-9d35-2713845ee098\",\"subtype\":\"Figure\",\"type\":\"Plot\"},\"ticker\":{\"id\":\"542e61cc-14b5-43fe-81cb-6b79498b5de8\",\"type\":\"BasicTicker\"}},\"id\":\"89e4dde2-41f2-4d2b-b199-ee7c3d5cc692\",\"type\":\"LinearAxis\"},{\"attributes\":{\"bottom_units\":\"screen\",\"fill_alpha\":{\"value\":0.5},\"fill_color\":{\"value\":\"lightgrey\"},\"left_units\":\"screen\",\"level\":\"overlay\",\"line_alpha\":{\"value\":1.0},\"line_color\":{\"value\":\"black\"},\"line_dash\":[4,4],\"line_width\":{\"value\":2},\"plot\":null,\"render_mode\":\"css\",\"right_units\":\"screen\",\"top_units\":\"screen\"},\"id\":\"49cd24fc-7b2e-45a6-81de-fa0da4b7df06\",\"type\":\"BoxAnnotation\"},{\"attributes\":{\"fill_alpha\":{\"value\":0.1},\"fill_color\":{\"value\":\"#1f77b4\"},\"line_alpha\":{\"value\":0.1},\"line_color\":{\"value\":\"#1f77b4\"},\"size\":{\"units\":\"screen\",\"value\":10},\"x\":{\"field\":\"x\"},\"y\":{\"field\":\"y\"}},\"id\":\"e2f3878f-7cff-4b89-9c48-0bb46750d7b5\",\"type\":\"Circle\"},{\"attributes\":{\"overlay\":{\"id\":\"49cd24fc-7b2e-45a6-81de-fa0da4b7df06\",\"type\":\"BoxAnnotation\"}},\"id\":\"78a8a7cd-0aee-452f-a4a3-017caeab9751\",\"type\":\"BoxZoomTool\"},{\"attributes\":{},\"id\":\"30280d4f-b970-4bc4-83ac-a1f9ecd5b6ad\",\"type\":\"LinearScale\"},{\"attributes\":{},\"id\":\"9b98966b-2900-4e69-a538-a8d5852218ef\",\"type\":\"PanTool\"},{\"attributes\":{},\"id\":\"6e528779-a2b8-4897-95c7-d64d8bf618ae\",\"type\":\"HelpTool\"},{\"attributes\":{},\"id\":\"878eda34-2da0-46d3-a058-e0dabbc79629\",\"type\":\"BasicTickFormatter\"},{\"attributes\":{\"axis_label\":\"Bin Count\",\"formatter\":{\"id\":\"878eda34-2da0-46d3-a058-e0dabbc79629\",\"type\":\"BasicTickFormatter\"},\"plot\":{\"id\":\"fad8c172-eb2e-476a-9d35-2713845ee098\",\"subtype\":\"Figure\",\"type\":\"Plot\"},\"ticker\":{\"id\":\"7009da1f-cc78-44be-9682-4a2b905d0e17\",\"type\":\"BasicTicker\"}},\"id\":\"455c415e-7a0f-4998-a655-04be63dd391a\",\"type\":\"LinearAxis\"},{\"attributes\":{\"callback\":null},\"id\":\"024a630d-990a-4cb1-9abe-c328e77801f3\",\"type\":\"DataRange1d\"},{\"attributes\":{\"source\":{\"id\":\"59f473d2-ceae-4952-a4f2-faf5118dff5e\",\"type\":\"ColumnDataSource\"}},\"id\":\"7e6ebe62-e437-4662-b7a3-a32b0c4c2b8e\",\"type\":\"CDSView\"},{\"attributes\":{\"dimension\":1,\"plot\":{\"id\":\"fad8c172-eb2e-476a-9d35-2713845ee098\",\"subtype\":\"Figure\",\"type\":\"Plot\"},\"ticker\":{\"id\":\"7009da1f-cc78-44be-9682-4a2b905d0e17\",\"type\":\"BasicTicker\"}},\"id\":\"5aa1c1f3-19b8-422f-8acb-a630ba0dac9f\",\"type\":\"Grid\"},{\"attributes\":{},\"id\":\"cc62934c-4044-41e4-bb9a-5a9fb12066e1\",\"type\":\"SaveTool\"},{\"attributes\":{\"callback\":null,\"column_names\":[\"x\",\"y\"],\"data\":{\"x\":[1,2,3,4,5],\"y\":[2,5,8,2,7]}},\"id\":\"59f473d2-ceae-4952-a4f2-faf5118dff5e\",\"type\":\"ColumnDataSource\"},{\"attributes\":{\"below\":[{\"id\":\"89e4dde2-41f2-4d2b-b199-ee7c3d5cc692\",\"type\":\"LinearAxis\"}],\"left\":[{\"id\":\"455c415e-7a0f-4998-a655-04be63dd391a\",\"type\":\"LinearAxis\"}],\"plot_height\":400,\"plot_width\":400,\"renderers\":[{\"id\":\"89e4dde2-41f2-4d2b-b199-ee7c3d5cc692\",\"type\":\"LinearAxis\"},{\"id\":\"45b56b84-f5c7-4660-a972-a425d67273f1\",\"type\":\"Grid\"},{\"id\":\"455c415e-7a0f-4998-a655-04be63dd391a\",\"type\":\"LinearAxis\"},{\"id\":\"5aa1c1f3-19b8-422f-8acb-a630ba0dac9f\",\"type\":\"Grid\"},{\"id\":\"49cd24fc-7b2e-45a6-81de-fa0da4b7df06\",\"type\":\"BoxAnnotation\"},{\"id\":\"253f8508-e6df-40ba-84c7-ba76a19b0bd1\",\"type\":\"GlyphRenderer\"}],\"title\":{\"id\":\"bab39155-582e-4bea-9a84-5c3724b6fbf7\",\"type\":\"Title\"},\"toolbar\":{\"id\":\"ad1733f4-4bfc-4730-81fd-cd463e931e8f\",\"type\":\"Toolbar\"},\"x_range\":{\"id\":\"024a630d-990a-4cb1-9abe-c328e77801f3\",\"type\":\"DataRange1d\"},\"x_scale\":{\"id\":\"30280d4f-b970-4bc4-83ac-a1f9ecd5b6ad\",\"type\":\"LinearScale\"},\"y_range\":{\"id\":\"8858e1ab-428f-4070-aace-b3bd6a3095ad\",\"type\":\"DataRange1d\"},\"y_scale\":{\"id\":\"69ffe096-dc49-493a-a402-62e0d447a95a\",\"type\":\"LinearScale\"}},\"id\":\"fad8c172-eb2e-476a-9d35-2713845ee098\",\"subtype\":\"Figure\",\"type\":\"Plot\"},{\"attributes\":{},\"id\":\"ef89c8f3-fc1c-4392-9de5-03ea0fd90401\",\"type\":\"WheelZoomTool\"},{\"attributes\":{\"plot\":null,\"text\":\"\"},\"id\":\"bab39155-582e-4bea-9a84-5c3724b6fbf7\",\"type\":\"Title\"},{\"attributes\":{},\"id\":\"24939f45-d442-4e86-853c-447b74662fd6\",\"type\":\"ResetTool\"},{\"attributes\":{},\"id\":\"42b22cb0-3b3a-4f1f-a939-9eef6e7032e4\",\"type\":\"BasicTickFormatter\"},{\"attributes\":{\"active_drag\":\"auto\",\"active_inspect\":\"auto\",\"active_scroll\":\"auto\",\"active_tap\":\"auto\",\"tools\":[{\"id\":\"9b98966b-2900-4e69-a538-a8d5852218ef\",\"type\":\"PanTool\"},{\"id\":\"ef89c8f3-fc1c-4392-9de5-03ea0fd90401\",\"type\":\"WheelZoomTool\"},{\"id\":\"78a8a7cd-0aee-452f-a4a3-017caeab9751\",\"type\":\"BoxZoomTool\"},{\"id\":\"cc62934c-4044-41e4-bb9a-5a9fb12066e1\",\"type\":\"SaveTool\"},{\"id\":\"24939f45-d442-4e86-853c-447b74662fd6\",\"type\":\"ResetTool\"},{\"id\":\"6e528779-a2b8-4897-95c7-d64d8bf618ae\",\"type\":\"HelpTool\"}]},\"id\":\"ad1733f4-4bfc-4730-81fd-cd463e931e8f\",\"type\":\"Toolbar\"},{\"attributes\":{\"data_source\":{\"id\":\"59f473d2-ceae-4952-a4f2-faf5118dff5e\",\"type\":\"ColumnDataSource\"},\"glyph\":{\"id\":\"2bc01591-165b-4377-8dfc-a46aaa75e145\",\"type\":\"Circle\"},\"hover_glyph\":null,\"muted_glyph\":null,\"nonselection_glyph\":{\"id\":\"e2f3878f-7cff-4b89-9c48-0bb46750d7b5\",\"type\":\"Circle\"},\"selection_glyph\":null,\"view\":{\"id\":\"7e6ebe62-e437-4662-b7a3-a32b0c4c2b8e\",\"type\":\"CDSView\"}},\"id\":\"253f8508-e6df-40ba-84c7-ba76a19b0bd1\",\"type\":\"GlyphRenderer\"},{\"attributes\":{},\"id\":\"69ffe096-dc49-493a-a402-62e0d447a95a\",\"type\":\"LinearScale\"},{\"attributes\":{\"plot\":{\"id\":\"fad8c172-eb2e-476a-9d35-2713845ee098\",\"subtype\":\"Figure\",\"type\":\"Plot\"},\"ticker\":{\"id\":\"542e61cc-14b5-43fe-81cb-6b79498b5de8\",\"type\":\"BasicTicker\"}},\"id\":\"45b56b84-f5c7-4660-a972-a425d67273f1\",\"type\":\"Grid\"},{\"attributes\":{\"callback\":null},\"id\":\"8858e1ab-428f-4070-aace-b3bd6a3095ad\",\"type\":\"DataRange1d\"},{\"attributes\":{},\"id\":\"7009da1f-cc78-44be-9682-4a2b905d0e17\",\"type\":\"BasicTicker\"},{\"attributes\":{},\"id\":\"542e61cc-14b5-43fe-81cb-6b79498b5de8\",\"type\":\"BasicTicker\"},{\"attributes\":{\"fill_color\":{\"value\":\"#1f77b4\"},\"line_color\":{\"value\":\"#1f77b4\"},\"size\":{\"units\":\"screen\",\"value\":10},\"x\":{\"field\":\"x\"},\"y\":{\"field\":\"y\"}},\"id\":\"2bc01591-165b-4377-8dfc-a46aaa75e145\",\"type\":\"Circle\"}],\"root_ids\":[\"fad8c172-eb2e-476a-9d35-2713845ee098\"]},\"title\":\"Bokeh Application\",\"version\":\"0.12.13\"}};\n",
       "  var render_items = [{\"docid\":\"6c27811f-8a2c-4b00-84b0-d17364d0dfe3\",\"elementid\":\"222cbe00-caa1-46f9-ba50-06cfa792c6a6\",\"modelid\":\"fad8c172-eb2e-476a-9d35-2713845ee098\"}];\n",
       "  root.Bokeh.embed.embed_items_notebook(docs_json, render_items);\n",
       "\n",
       "  }\n",
       "  if (root.Bokeh !== undefined) {\n",
       "    embed_document(root);\n",
       "  } else {\n",
       "    var attempts = 0;\n",
       "    var timer = setInterval(function(root) {\n",
       "      if (root.Bokeh !== undefined) {\n",
       "        embed_document(root);\n",
       "        clearInterval(timer);\n",
       "      }\n",
       "      attempts++;\n",
       "      if (attempts > 100) {\n",
       "        console.log(\"Bokeh: ERROR: Unable to run BokehJS code because BokehJS library is missing\")\n",
       "        clearInterval(timer);\n",
       "      }\n",
       "    }, 10, root)\n",
       "  }\n",
       "})(window);"
      ],
      "application/vnd.bokehjs_exec.v0+json": ""
     },
     "metadata": {
      "application/vnd.bokehjs_exec.v0+json": {
       "id": "fad8c172-eb2e-476a-9d35-2713845ee098"
      }
     },
     "output_type": "display_data"
    }
   ],
   "source": [
    "# Labels\n",
    "\n",
    "p = figure(plot_width=400, plot_height=400)\n",
    "p.circle([1,2,3,4,5], [2,5,8,2,7], size=10)\n",
    "\n",
    "p.xaxis.axis_label = \"Lot Number\"\n",
    "p.xaxis.axis_label_text_color = \"#aa6666\"\n",
    "p.xaxis.axis_label_standoff = 30\n",
    "\n",
    "p.yaxis.axis_label = \"Bin Count\"\n",
    "p.yaxis.axis_label_text_font_style = \"italic\"\n",
    "\n",
    "show(p)"
   ]
  },
  {
   "cell_type": "code",
   "execution_count": 25,
   "metadata": {},
   "outputs": [
    {
     "data": {
      "text/html": [
       "\n",
       "<div class=\"bk-root\">\n",
       "    <div class=\"bk-plotdiv\" id=\"d0bb0eff-1743-41fc-aec5-f50e1e397aab\"></div>\n",
       "</div>"
      ]
     },
     "metadata": {},
     "output_type": "display_data"
    },
    {
     "data": {
      "application/javascript": [
       "(function(root) {\n",
       "  function embed_document(root) {\n",
       "    \n",
       "  var docs_json = {\"2013c2fe-773a-4b78-ad0f-5d4501c09620\":{\"roots\":{\"references\":[{\"attributes\":{\"fill_alpha\":{\"value\":0.1},\"fill_color\":{\"value\":\"#1f77b4\"},\"line_alpha\":{\"value\":0.1},\"line_color\":{\"value\":\"#1f77b4\"},\"size\":{\"units\":\"screen\",\"value\":10},\"x\":{\"field\":\"x\"},\"y\":{\"field\":\"y\"}},\"id\":\"6f12b1ab-dcd4-4ea4-8574-01db2732c9bb\",\"type\":\"Circle\"},{\"attributes\":{\"plot\":null,\"text\":\"\"},\"id\":\"4da52507-f36d-4cec-97d1-d0a14c202d57\",\"type\":\"Title\"},{\"attributes\":{},\"id\":\"656e3d16-416d-4045-88cd-942f9316ce84\",\"type\":\"WheelZoomTool\"},{\"attributes\":{\"fill_color\":{\"value\":\"#1f77b4\"},\"line_color\":{\"value\":\"#1f77b4\"},\"size\":{\"units\":\"screen\",\"value\":10},\"x\":{\"field\":\"x\"},\"y\":{\"field\":\"y\"}},\"id\":\"66a2d89d-906f-4c52-956f-396eed6021aa\",\"type\":\"Circle\"},{\"attributes\":{\"formatter\":{\"id\":\"6b31d1bd-c597-4232-ad69-7768f5073457\",\"type\":\"BasicTickFormatter\"},\"plot\":{\"id\":\"e48d2a5b-9bc7-4d04-b2af-393be5c399d7\",\"subtype\":\"Figure\",\"type\":\"Plot\"},\"ticker\":{\"id\":\"fbe75da1-a144-4d5e-b8a5-a7fbde1041dc\",\"type\":\"BasicTicker\"}},\"id\":\"50f8ea8f-7f14-4a07-8652-186aa4f3012e\",\"type\":\"LinearAxis\"},{\"attributes\":{},\"id\":\"ae014a92-7c15-4603-bc74-c5c3e3ad93bc\",\"type\":\"BasicTicker\"},{\"attributes\":{\"active_drag\":\"auto\",\"active_inspect\":\"auto\",\"active_scroll\":\"auto\",\"active_tap\":\"auto\",\"tools\":[{\"id\":\"135228d3-d4f0-4415-8852-df68996eb4e1\",\"type\":\"PanTool\"},{\"id\":\"656e3d16-416d-4045-88cd-942f9316ce84\",\"type\":\"WheelZoomTool\"},{\"id\":\"add76b88-e6b5-48cb-be64-4911f292f0d0\",\"type\":\"BoxZoomTool\"},{\"id\":\"dac5b0bc-8944-465f-85cb-573643f4e779\",\"type\":\"SaveTool\"},{\"id\":\"0bdfde8d-00e8-4a7d-bc23-832d50d045ac\",\"type\":\"ResetTool\"},{\"id\":\"c957f393-bdb8-4435-9f20-9eba0467db7f\",\"type\":\"HelpTool\"}]},\"id\":\"8a8bb6ce-8995-48bf-85e8-476cf4362ffd\",\"type\":\"Toolbar\"},{\"attributes\":{\"plot\":{\"id\":\"e48d2a5b-9bc7-4d04-b2af-393be5c399d7\",\"subtype\":\"Figure\",\"type\":\"Plot\"},\"ticker\":{\"id\":\"ae014a92-7c15-4603-bc74-c5c3e3ad93bc\",\"type\":\"BasicTicker\"}},\"id\":\"f872a0e7-7102-467c-88d9-385a131aee23\",\"type\":\"Grid\"},{\"attributes\":{},\"id\":\"b516b0c7-b917-4797-8ba3-b8268c720c6b\",\"type\":\"LinearScale\"},{\"attributes\":{\"callback\":null},\"id\":\"6bfedad4-538a-4673-b6fb-3eeee65ceead\",\"type\":\"DataRange1d\"},{\"attributes\":{},\"id\":\"dac5b0bc-8944-465f-85cb-573643f4e779\",\"type\":\"SaveTool\"},{\"attributes\":{},\"id\":\"135228d3-d4f0-4415-8852-df68996eb4e1\",\"type\":\"PanTool\"},{\"attributes\":{\"callback\":null,\"column_names\":[\"x\",\"y\"],\"data\":{\"x\":[1,2,3,4,5],\"y\":[2,5,8,2,7]}},\"id\":\"14746e3b-c850-4d95-8a3a-4847f8a8a1a8\",\"type\":\"ColumnDataSource\"},{\"attributes\":{\"source\":{\"id\":\"14746e3b-c850-4d95-8a3a-4847f8a8a1a8\",\"type\":\"ColumnDataSource\"}},\"id\":\"4671c0c3-2606-42fa-97aa-f6d8213a6e80\",\"type\":\"CDSView\"},{\"attributes\":{},\"id\":\"9a7d8b28-b78a-4173-ae38-b3d6adadf4d7\",\"type\":\"BasicTickFormatter\"},{\"attributes\":{\"bounds\":[2,4],\"formatter\":{\"id\":\"9a7d8b28-b78a-4173-ae38-b3d6adadf4d7\",\"type\":\"BasicTickFormatter\"},\"plot\":{\"id\":\"e48d2a5b-9bc7-4d04-b2af-393be5c399d7\",\"subtype\":\"Figure\",\"type\":\"Plot\"},\"ticker\":{\"id\":\"ae014a92-7c15-4603-bc74-c5c3e3ad93bc\",\"type\":\"BasicTicker\"}},\"id\":\"1edc8d0c-86de-42c4-8f09-3b0f373183a8\",\"type\":\"LinearAxis\"},{\"attributes\":{},\"id\":\"6b31d1bd-c597-4232-ad69-7768f5073457\",\"type\":\"BasicTickFormatter\"},{\"attributes\":{\"overlay\":{\"id\":\"176f097f-e335-44e4-bcb8-f9de12ed06c1\",\"type\":\"BoxAnnotation\"}},\"id\":\"add76b88-e6b5-48cb-be64-4911f292f0d0\",\"type\":\"BoxZoomTool\"},{\"attributes\":{\"bottom_units\":\"screen\",\"fill_alpha\":{\"value\":0.5},\"fill_color\":{\"value\":\"lightgrey\"},\"left_units\":\"screen\",\"level\":\"overlay\",\"line_alpha\":{\"value\":1.0},\"line_color\":{\"value\":\"black\"},\"line_dash\":[4,4],\"line_width\":{\"value\":2},\"plot\":null,\"render_mode\":\"css\",\"right_units\":\"screen\",\"top_units\":\"screen\"},\"id\":\"176f097f-e335-44e4-bcb8-f9de12ed06c1\",\"type\":\"BoxAnnotation\"},{\"attributes\":{\"below\":[{\"id\":\"1edc8d0c-86de-42c4-8f09-3b0f373183a8\",\"type\":\"LinearAxis\"}],\"left\":[{\"id\":\"50f8ea8f-7f14-4a07-8652-186aa4f3012e\",\"type\":\"LinearAxis\"}],\"plot_height\":400,\"plot_width\":400,\"renderers\":[{\"id\":\"1edc8d0c-86de-42c4-8f09-3b0f373183a8\",\"type\":\"LinearAxis\"},{\"id\":\"f872a0e7-7102-467c-88d9-385a131aee23\",\"type\":\"Grid\"},{\"id\":\"50f8ea8f-7f14-4a07-8652-186aa4f3012e\",\"type\":\"LinearAxis\"},{\"id\":\"08599f5d-15d5-400f-9359-ecd8d96b9b70\",\"type\":\"Grid\"},{\"id\":\"176f097f-e335-44e4-bcb8-f9de12ed06c1\",\"type\":\"BoxAnnotation\"},{\"id\":\"eceeec03-4e69-4e64-b4dc-fc1ffc16950e\",\"type\":\"GlyphRenderer\"}],\"title\":{\"id\":\"4da52507-f36d-4cec-97d1-d0a14c202d57\",\"type\":\"Title\"},\"toolbar\":{\"id\":\"8a8bb6ce-8995-48bf-85e8-476cf4362ffd\",\"type\":\"Toolbar\"},\"x_range\":{\"id\":\"6bfedad4-538a-4673-b6fb-3eeee65ceead\",\"type\":\"DataRange1d\"},\"x_scale\":{\"id\":\"fa687ec8-1435-469a-843d-11dda877ea03\",\"type\":\"LinearScale\"},\"y_range\":{\"id\":\"0668c707-f758-4318-b59e-cce4ab74cd5a\",\"type\":\"DataRange1d\"},\"y_scale\":{\"id\":\"b516b0c7-b917-4797-8ba3-b8268c720c6b\",\"type\":\"LinearScale\"}},\"id\":\"e48d2a5b-9bc7-4d04-b2af-393be5c399d7\",\"subtype\":\"Figure\",\"type\":\"Plot\"},{\"attributes\":{},\"id\":\"fa687ec8-1435-469a-843d-11dda877ea03\",\"type\":\"LinearScale\"},{\"attributes\":{\"dimension\":1,\"plot\":{\"id\":\"e48d2a5b-9bc7-4d04-b2af-393be5c399d7\",\"subtype\":\"Figure\",\"type\":\"Plot\"},\"ticker\":{\"id\":\"fbe75da1-a144-4d5e-b8a5-a7fbde1041dc\",\"type\":\"BasicTicker\"}},\"id\":\"08599f5d-15d5-400f-9359-ecd8d96b9b70\",\"type\":\"Grid\"},{\"attributes\":{},\"id\":\"0bdfde8d-00e8-4a7d-bc23-832d50d045ac\",\"type\":\"ResetTool\"},{\"attributes\":{},\"id\":\"fbe75da1-a144-4d5e-b8a5-a7fbde1041dc\",\"type\":\"BasicTicker\"},{\"attributes\":{\"callback\":null},\"id\":\"0668c707-f758-4318-b59e-cce4ab74cd5a\",\"type\":\"DataRange1d\"},{\"attributes\":{},\"id\":\"c957f393-bdb8-4435-9f20-9eba0467db7f\",\"type\":\"HelpTool\"},{\"attributes\":{\"data_source\":{\"id\":\"14746e3b-c850-4d95-8a3a-4847f8a8a1a8\",\"type\":\"ColumnDataSource\"},\"glyph\":{\"id\":\"66a2d89d-906f-4c52-956f-396eed6021aa\",\"type\":\"Circle\"},\"hover_glyph\":null,\"muted_glyph\":null,\"nonselection_glyph\":{\"id\":\"6f12b1ab-dcd4-4ea4-8574-01db2732c9bb\",\"type\":\"Circle\"},\"selection_glyph\":null,\"view\":{\"id\":\"4671c0c3-2606-42fa-97aa-f6d8213a6e80\",\"type\":\"CDSView\"}},\"id\":\"eceeec03-4e69-4e64-b4dc-fc1ffc16950e\",\"type\":\"GlyphRenderer\"}],\"root_ids\":[\"e48d2a5b-9bc7-4d04-b2af-393be5c399d7\"]},\"title\":\"Bokeh Application\",\"version\":\"0.12.13\"}};\n",
       "  var render_items = [{\"docid\":\"2013c2fe-773a-4b78-ad0f-5d4501c09620\",\"elementid\":\"d0bb0eff-1743-41fc-aec5-f50e1e397aab\",\"modelid\":\"e48d2a5b-9bc7-4d04-b2af-393be5c399d7\"}];\n",
       "  root.Bokeh.embed.embed_items_notebook(docs_json, render_items);\n",
       "\n",
       "  }\n",
       "  if (root.Bokeh !== undefined) {\n",
       "    embed_document(root);\n",
       "  } else {\n",
       "    var attempts = 0;\n",
       "    var timer = setInterval(function(root) {\n",
       "      if (root.Bokeh !== undefined) {\n",
       "        embed_document(root);\n",
       "        clearInterval(timer);\n",
       "      }\n",
       "      attempts++;\n",
       "      if (attempts > 100) {\n",
       "        console.log(\"Bokeh: ERROR: Unable to run BokehJS code because BokehJS library is missing\")\n",
       "        clearInterval(timer);\n",
       "      }\n",
       "    }, 10, root)\n",
       "  }\n",
       "})(window);"
      ],
      "application/vnd.bokehjs_exec.v0+json": ""
     },
     "metadata": {
      "application/vnd.bokehjs_exec.v0+json": {
       "id": "e48d2a5b-9bc7-4d04-b2af-393be5c399d7"
      }
     },
     "output_type": "display_data"
    }
   ],
   "source": [
    "# Bounds\n",
    "\n",
    "p = figure(plot_width=400, plot_height=400)\n",
    "p.circle([1,2,3,4,5], [2,5,8,2,7], size=10)\n",
    "\n",
    "p.xaxis.bounds = (2, 4)\n",
    "\n",
    "show(p)"
   ]
  },
  {
   "cell_type": "code",
   "execution_count": 26,
   "metadata": {},
   "outputs": [],
   "source": [
    "# FixedTicker\n",
    "\n",
    "from bokeh.models.tickers import FixedTicker\n",
    "\n",
    "p = figure()\n",
    "\n",
    "# no additional tick locations will be displayed on the x-axis\n",
    "p.xaxis.ticker = FixedTicker(ticks=[10, 20, 37.4])"
   ]
  },
  {
   "cell_type": "code",
   "execution_count": 27,
   "metadata": {},
   "outputs": [
    {
     "data": {
      "text/html": [
       "\n",
       "<div class=\"bk-root\">\n",
       "    <div class=\"bk-plotdiv\" id=\"a5b06a7c-a8dc-4104-8d6d-4d86ac985f7e\"></div>\n",
       "</div>"
      ]
     },
     "metadata": {},
     "output_type": "display_data"
    },
    {
     "data": {
      "application/javascript": [
       "(function(root) {\n",
       "  function embed_document(root) {\n",
       "    \n",
       "  var docs_json = {\"649dfe83-8932-4fe6-9951-6a9c86f098dc\":{\"roots\":{\"references\":[{\"attributes\":{\"formatter\":{\"id\":\"7ab827d9-4844-4d66-8de8-1b5c12dff93c\",\"type\":\"BasicTickFormatter\"},\"plot\":{\"id\":\"9497fd5a-21f6-46b1-926a-e2a8e0fb5382\",\"subtype\":\"Figure\",\"type\":\"Plot\"},\"ticker\":{\"id\":\"f6632a77-9a12-43d5-a634-376cec996c42\",\"type\":\"BasicTicker\"}},\"id\":\"b79c8cb1-fedb-431c-94d0-a657d1d6c16b\",\"type\":\"LinearAxis\"},{\"attributes\":{},\"id\":\"f6632a77-9a12-43d5-a634-376cec996c42\",\"type\":\"BasicTicker\"},{\"attributes\":{\"dimension\":1,\"plot\":{\"id\":\"9497fd5a-21f6-46b1-926a-e2a8e0fb5382\",\"subtype\":\"Figure\",\"type\":\"Plot\"},\"ticker\":{\"id\":\"f6632a77-9a12-43d5-a634-376cec996c42\",\"type\":\"BasicTicker\"}},\"id\":\"2ed21c74-7633-4cec-b322-639d6e5fed2c\",\"type\":\"Grid\"},{\"attributes\":{},\"id\":\"57ad2b89-f6ba-4e44-a027-f9415ed1c6f2\",\"type\":\"BasicTickFormatter\"},{\"attributes\":{\"bottom_units\":\"screen\",\"fill_alpha\":{\"value\":0.5},\"fill_color\":{\"value\":\"lightgrey\"},\"left_units\":\"screen\",\"level\":\"overlay\",\"line_alpha\":{\"value\":1.0},\"line_color\":{\"value\":\"black\"},\"line_dash\":[4,4],\"line_width\":{\"value\":2},\"plot\":null,\"render_mode\":\"css\",\"right_units\":\"screen\",\"top_units\":\"screen\"},\"id\":\"73569724-d70b-4766-a196-b1bbd696253f\",\"type\":\"BoxAnnotation\"},{\"attributes\":{\"below\":[{\"id\":\"ef63cd20-e98d-42a1-b226-0c9adfd9ad32\",\"type\":\"LinearAxis\"}],\"left\":[{\"id\":\"b79c8cb1-fedb-431c-94d0-a657d1d6c16b\",\"type\":\"LinearAxis\"}],\"plot_height\":400,\"plot_width\":400,\"renderers\":[{\"id\":\"ef63cd20-e98d-42a1-b226-0c9adfd9ad32\",\"type\":\"LinearAxis\"},{\"id\":\"708cc1f1-9b87-425d-99dd-0ef5d99134f4\",\"type\":\"Grid\"},{\"id\":\"b79c8cb1-fedb-431c-94d0-a657d1d6c16b\",\"type\":\"LinearAxis\"},{\"id\":\"2ed21c74-7633-4cec-b322-639d6e5fed2c\",\"type\":\"Grid\"},{\"id\":\"73569724-d70b-4766-a196-b1bbd696253f\",\"type\":\"BoxAnnotation\"},{\"id\":\"ad4c1d0a-cbac-4b46-8ae6-f46058589bab\",\"type\":\"GlyphRenderer\"}],\"title\":{\"id\":\"46982216-857b-4631-a7ac-5ca90d2dbd13\",\"type\":\"Title\"},\"toolbar\":{\"id\":\"383aaf41-aec1-44ae-9f9b-d5ee6992d0e6\",\"type\":\"Toolbar\"},\"x_range\":{\"id\":\"8d2b8b54-7d4d-4d5d-9954-83a29508e83d\",\"type\":\"DataRange1d\"},\"x_scale\":{\"id\":\"fe0ee115-086b-43d8-a742-50807e96d362\",\"type\":\"LinearScale\"},\"y_range\":{\"id\":\"da5cb46c-41d4-4fb4-9b6d-f8a2c9785f74\",\"type\":\"DataRange1d\"},\"y_scale\":{\"id\":\"f188b699-42ac-469d-bcde-f77e14ceaae7\",\"type\":\"LinearScale\"}},\"id\":\"9497fd5a-21f6-46b1-926a-e2a8e0fb5382\",\"subtype\":\"Figure\",\"type\":\"Plot\"},{\"attributes\":{\"ticks\":[2,3.5,4]},\"id\":\"1c61bb66-126f-48d9-8dbe-b361700ac016\",\"type\":\"FixedTicker\"},{\"attributes\":{},\"id\":\"1ef0ef2c-7a64-4ac3-acc5-95f05c8b00f6\",\"type\":\"PanTool\"},{\"attributes\":{\"callback\":null,\"column_names\":[\"x\",\"y\"],\"data\":{\"x\":[1,2,3,4,5],\"y\":[2,5,8,2,7]}},\"id\":\"f68a5b3a-d4e9-4ab6-a0de-cf494e09b8e9\",\"type\":\"ColumnDataSource\"},{\"attributes\":{\"data_source\":{\"id\":\"f68a5b3a-d4e9-4ab6-a0de-cf494e09b8e9\",\"type\":\"ColumnDataSource\"},\"glyph\":{\"id\":\"61bb870d-a626-4e4f-acc4-4c35cde4c57a\",\"type\":\"Circle\"},\"hover_glyph\":null,\"muted_glyph\":null,\"nonselection_glyph\":{\"id\":\"247acfe9-5c0f-4692-a21e-8ca20a8afd80\",\"type\":\"Circle\"},\"selection_glyph\":null,\"view\":{\"id\":\"b2f780a9-df18-4036-a8cd-238243e44d3f\",\"type\":\"CDSView\"}},\"id\":\"ad4c1d0a-cbac-4b46-8ae6-f46058589bab\",\"type\":\"GlyphRenderer\"},{\"attributes\":{\"fill_alpha\":{\"value\":0.1},\"fill_color\":{\"value\":\"#1f77b4\"},\"line_alpha\":{\"value\":0.1},\"line_color\":{\"value\":\"#1f77b4\"},\"size\":{\"units\":\"screen\",\"value\":10},\"x\":{\"field\":\"x\"},\"y\":{\"field\":\"y\"}},\"id\":\"247acfe9-5c0f-4692-a21e-8ca20a8afd80\",\"type\":\"Circle\"},{\"attributes\":{},\"id\":\"b5d8fd15-1933-42a2-944a-9b67e70a0242\",\"type\":\"WheelZoomTool\"},{\"attributes\":{\"active_drag\":\"auto\",\"active_inspect\":\"auto\",\"active_scroll\":\"auto\",\"active_tap\":\"auto\",\"tools\":[{\"id\":\"1ef0ef2c-7a64-4ac3-acc5-95f05c8b00f6\",\"type\":\"PanTool\"},{\"id\":\"b5d8fd15-1933-42a2-944a-9b67e70a0242\",\"type\":\"WheelZoomTool\"},{\"id\":\"b1d144a7-6129-4170-9be9-fcd308e410f5\",\"type\":\"BoxZoomTool\"},{\"id\":\"a1ffd4e0-3612-4e3a-9f51-0cd90cb75c26\",\"type\":\"SaveTool\"},{\"id\":\"829ad665-a079-4388-9845-d34eaf99b3c9\",\"type\":\"ResetTool\"},{\"id\":\"b4584302-3dc8-4d49-a94d-05635544e099\",\"type\":\"HelpTool\"}]},\"id\":\"383aaf41-aec1-44ae-9f9b-d5ee6992d0e6\",\"type\":\"Toolbar\"},{\"attributes\":{},\"id\":\"7ab827d9-4844-4d66-8de8-1b5c12dff93c\",\"type\":\"BasicTickFormatter\"},{\"attributes\":{\"overlay\":{\"id\":\"73569724-d70b-4766-a196-b1bbd696253f\",\"type\":\"BoxAnnotation\"}},\"id\":\"b1d144a7-6129-4170-9be9-fcd308e410f5\",\"type\":\"BoxZoomTool\"},{\"attributes\":{\"callback\":null},\"id\":\"8d2b8b54-7d4d-4d5d-9954-83a29508e83d\",\"type\":\"DataRange1d\"},{\"attributes\":{},\"id\":\"a1ffd4e0-3612-4e3a-9f51-0cd90cb75c26\",\"type\":\"SaveTool\"},{\"attributes\":{\"fill_color\":{\"value\":\"#1f77b4\"},\"line_color\":{\"value\":\"#1f77b4\"},\"size\":{\"units\":\"screen\",\"value\":10},\"x\":{\"field\":\"x\"},\"y\":{\"field\":\"y\"}},\"id\":\"61bb870d-a626-4e4f-acc4-4c35cde4c57a\",\"type\":\"Circle\"},{\"attributes\":{},\"id\":\"829ad665-a079-4388-9845-d34eaf99b3c9\",\"type\":\"ResetTool\"},{\"attributes\":{\"callback\":null},\"id\":\"da5cb46c-41d4-4fb4-9b6d-f8a2c9785f74\",\"type\":\"DataRange1d\"},{\"attributes\":{},\"id\":\"b4584302-3dc8-4d49-a94d-05635544e099\",\"type\":\"HelpTool\"},{\"attributes\":{},\"id\":\"fe0ee115-086b-43d8-a742-50807e96d362\",\"type\":\"LinearScale\"},{\"attributes\":{\"plot\":null,\"text\":\"\"},\"id\":\"46982216-857b-4631-a7ac-5ca90d2dbd13\",\"type\":\"Title\"},{\"attributes\":{},\"id\":\"f188b699-42ac-469d-bcde-f77e14ceaae7\",\"type\":\"LinearScale\"},{\"attributes\":{\"source\":{\"id\":\"f68a5b3a-d4e9-4ab6-a0de-cf494e09b8e9\",\"type\":\"ColumnDataSource\"}},\"id\":\"b2f780a9-df18-4036-a8cd-238243e44d3f\",\"type\":\"CDSView\"},{\"attributes\":{\"plot\":{\"id\":\"9497fd5a-21f6-46b1-926a-e2a8e0fb5382\",\"subtype\":\"Figure\",\"type\":\"Plot\"},\"ticker\":{\"id\":\"a9d82290-23f9-4cc1-bdb3-ecea9f89f949\",\"type\":\"BasicTicker\"}},\"id\":\"708cc1f1-9b87-425d-99dd-0ef5d99134f4\",\"type\":\"Grid\"},{\"attributes\":{\"formatter\":{\"id\":\"57ad2b89-f6ba-4e44-a027-f9415ed1c6f2\",\"type\":\"BasicTickFormatter\"},\"plot\":{\"id\":\"9497fd5a-21f6-46b1-926a-e2a8e0fb5382\",\"subtype\":\"Figure\",\"type\":\"Plot\"},\"ticker\":{\"id\":\"1c61bb66-126f-48d9-8dbe-b361700ac016\",\"type\":\"FixedTicker\"}},\"id\":\"ef63cd20-e98d-42a1-b226-0c9adfd9ad32\",\"type\":\"LinearAxis\"},{\"attributes\":{},\"id\":\"a9d82290-23f9-4cc1-bdb3-ecea9f89f949\",\"type\":\"BasicTicker\"}],\"root_ids\":[\"9497fd5a-21f6-46b1-926a-e2a8e0fb5382\"]},\"title\":\"Bokeh Application\",\"version\":\"0.12.13\"}};\n",
       "  var render_items = [{\"docid\":\"649dfe83-8932-4fe6-9951-6a9c86f098dc\",\"elementid\":\"a5b06a7c-a8dc-4104-8d6d-4d86ac985f7e\",\"modelid\":\"9497fd5a-21f6-46b1-926a-e2a8e0fb5382\"}];\n",
       "  root.Bokeh.embed.embed_items_notebook(docs_json, render_items);\n",
       "\n",
       "  }\n",
       "  if (root.Bokeh !== undefined) {\n",
       "    embed_document(root);\n",
       "  } else {\n",
       "    var attempts = 0;\n",
       "    var timer = setInterval(function(root) {\n",
       "      if (root.Bokeh !== undefined) {\n",
       "        embed_document(root);\n",
       "        clearInterval(timer);\n",
       "      }\n",
       "      attempts++;\n",
       "      if (attempts > 100) {\n",
       "        console.log(\"Bokeh: ERROR: Unable to run BokehJS code because BokehJS library is missing\")\n",
       "        clearInterval(timer);\n",
       "      }\n",
       "    }, 10, root)\n",
       "  }\n",
       "})(window);"
      ],
      "application/vnd.bokehjs_exec.v0+json": ""
     },
     "metadata": {
      "application/vnd.bokehjs_exec.v0+json": {
       "id": "9497fd5a-21f6-46b1-926a-e2a8e0fb5382"
      }
     },
     "output_type": "display_data"
    }
   ],
   "source": [
    "p = figure(plot_width=400, plot_height=400)\n",
    "p.circle([1,2,3,4,5], [2,5,8,2,7], size=10)\n",
    "\n",
    "p.xaxis.ticker = [2, 3.5, 4]\n",
    "\n",
    "show(p)"
   ]
  },
  {
   "cell_type": "code",
   "execution_count": 28,
   "metadata": {},
   "outputs": [
    {
     "data": {
      "text/html": [
       "\n",
       "<div class=\"bk-root\">\n",
       "    <div class=\"bk-plotdiv\" id=\"9bb14f0c-e411-4520-a26f-639529ceed9b\"></div>\n",
       "</div>"
      ]
     },
     "metadata": {},
     "output_type": "display_data"
    },
    {
     "data": {
      "application/javascript": [
       "(function(root) {\n",
       "  function embed_document(root) {\n",
       "    \n",
       "  var docs_json = {\"9bc5f409-6a5b-4e89-b9ff-1c40a793df29\":{\"roots\":{\"references\":[{\"attributes\":{},\"id\":\"d004b624-a34a-4897-a5ee-9b0e98ef9731\",\"type\":\"SaveTool\"},{\"attributes\":{},\"id\":\"58f600fd-1f94-46c7-8de6-22c6915def33\",\"type\":\"PanTool\"},{\"attributes\":{\"data_source\":{\"id\":\"e08c9ccc-610d-445d-8b9c-4f225a418d4c\",\"type\":\"ColumnDataSource\"},\"glyph\":{\"id\":\"51c2500f-9b43-46e5-9f6d-08325281bed6\",\"type\":\"Circle\"},\"hover_glyph\":null,\"muted_glyph\":null,\"nonselection_glyph\":{\"id\":\"945f547b-615c-4c68-a90c-1c0a976dd3d7\",\"type\":\"Circle\"},\"selection_glyph\":null,\"view\":{\"id\":\"005c812b-864a-499e-8056-3630bf1571c7\",\"type\":\"CDSView\"}},\"id\":\"2c491ba7-db2a-4ed3-bf3f-b3a3c8d1aca8\",\"type\":\"GlyphRenderer\"},{\"attributes\":{\"formatter\":{\"id\":\"da8db78a-1b94-46cc-b8c9-3564f2bfaba5\",\"type\":\"BasicTickFormatter\"},\"major_tick_out\":10,\"minor_tick_in\":-3,\"minor_tick_line_color\":{\"value\":null},\"minor_tick_out\":8,\"plot\":{\"id\":\"455f6083-3de2-43ee-8590-dcdd4fc990a6\",\"subtype\":\"Figure\",\"type\":\"Plot\"},\"ticker\":{\"id\":\"0a3121db-0934-48c2-b3cc-56ec84858800\",\"type\":\"BasicTicker\"}},\"id\":\"6c0ecd26-933b-4e52-92d0-c1dcd1a88a81\",\"type\":\"LinearAxis\"},{\"attributes\":{\"dimension\":1,\"plot\":{\"id\":\"455f6083-3de2-43ee-8590-dcdd4fc990a6\",\"subtype\":\"Figure\",\"type\":\"Plot\"},\"ticker\":{\"id\":\"0a3121db-0934-48c2-b3cc-56ec84858800\",\"type\":\"BasicTicker\"}},\"id\":\"6c8a2832-6899-40e0-ac79-f0576128e632\",\"type\":\"Grid\"},{\"attributes\":{},\"id\":\"0f9620d1-b157-45ea-85e4-e9a37bdc3038\",\"type\":\"HelpTool\"},{\"attributes\":{},\"id\":\"eaf06b5d-8f68-4ecd-9c21-8a252e795f58\",\"type\":\"ResetTool\"},{\"attributes\":{\"plot\":null,\"text\":\"\"},\"id\":\"0e67b8f7-3083-45d5-8786-c34839fd82cd\",\"type\":\"Title\"},{\"attributes\":{\"callback\":null},\"id\":\"c1760951-db38-4bb2-b337-a7d960582fa4\",\"type\":\"DataRange1d\"},{\"attributes\":{\"source\":{\"id\":\"e08c9ccc-610d-445d-8b9c-4f225a418d4c\",\"type\":\"ColumnDataSource\"}},\"id\":\"005c812b-864a-499e-8056-3630bf1571c7\",\"type\":\"CDSView\"},{\"attributes\":{},\"id\":\"da8db78a-1b94-46cc-b8c9-3564f2bfaba5\",\"type\":\"BasicTickFormatter\"},{\"attributes\":{},\"id\":\"7cc6cbc4-acb2-4fc4-a5ce-6c749c4c2141\",\"type\":\"LinearScale\"},{\"attributes\":{\"overlay\":{\"id\":\"cfda36b3-b392-4758-822e-62068eb95e64\",\"type\":\"BoxAnnotation\"}},\"id\":\"86b0aab2-ad49-4004-bbd8-f5ee9039104e\",\"type\":\"BoxZoomTool\"},{\"attributes\":{\"callback\":null,\"column_names\":[\"x\",\"y\"],\"data\":{\"x\":[1,2,3,4,5],\"y\":[2,5,8,2,7]}},\"id\":\"e08c9ccc-610d-445d-8b9c-4f225a418d4c\",\"type\":\"ColumnDataSource\"},{\"attributes\":{\"active_drag\":\"auto\",\"active_inspect\":\"auto\",\"active_scroll\":\"auto\",\"active_tap\":\"auto\",\"tools\":[{\"id\":\"58f600fd-1f94-46c7-8de6-22c6915def33\",\"type\":\"PanTool\"},{\"id\":\"ee8b24c0-82d3-4b2d-ab0b-76909c5b84e8\",\"type\":\"WheelZoomTool\"},{\"id\":\"86b0aab2-ad49-4004-bbd8-f5ee9039104e\",\"type\":\"BoxZoomTool\"},{\"id\":\"d004b624-a34a-4897-a5ee-9b0e98ef9731\",\"type\":\"SaveTool\"},{\"id\":\"eaf06b5d-8f68-4ecd-9c21-8a252e795f58\",\"type\":\"ResetTool\"},{\"id\":\"0f9620d1-b157-45ea-85e4-e9a37bdc3038\",\"type\":\"HelpTool\"}]},\"id\":\"b8b8c7f8-e7f8-4b2c-a81c-c67359673b2e\",\"type\":\"Toolbar\"},{\"attributes\":{\"fill_color\":{\"value\":\"#1f77b4\"},\"line_color\":{\"value\":\"#1f77b4\"},\"size\":{\"units\":\"screen\",\"value\":10},\"x\":{\"field\":\"x\"},\"y\":{\"field\":\"y\"}},\"id\":\"51c2500f-9b43-46e5-9f6d-08325281bed6\",\"type\":\"Circle\"},{\"attributes\":{},\"id\":\"b5a66bec-a3d9-43eb-8944-9d317d1a6508\",\"type\":\"BasicTickFormatter\"},{\"attributes\":{\"fill_alpha\":{\"value\":0.1},\"fill_color\":{\"value\":\"#1f77b4\"},\"line_alpha\":{\"value\":0.1},\"line_color\":{\"value\":\"#1f77b4\"},\"size\":{\"units\":\"screen\",\"value\":10},\"x\":{\"field\":\"x\"},\"y\":{\"field\":\"y\"}},\"id\":\"945f547b-615c-4c68-a90c-1c0a976dd3d7\",\"type\":\"Circle\"},{\"attributes\":{},\"id\":\"ee8b24c0-82d3-4b2d-ab0b-76909c5b84e8\",\"type\":\"WheelZoomTool\"},{\"attributes\":{},\"id\":\"3de80ac5-3b04-46cc-b170-a519c0e23e81\",\"type\":\"BasicTicker\"},{\"attributes\":{\"below\":[{\"id\":\"75cda027-abb0-4f6c-8747-9bef4c0fda42\",\"type\":\"LinearAxis\"}],\"left\":[{\"id\":\"6c0ecd26-933b-4e52-92d0-c1dcd1a88a81\",\"type\":\"LinearAxis\"}],\"plot_height\":400,\"plot_width\":400,\"renderers\":[{\"id\":\"75cda027-abb0-4f6c-8747-9bef4c0fda42\",\"type\":\"LinearAxis\"},{\"id\":\"1d7e460f-09a6-4916-96dd-7f9b260ad9d7\",\"type\":\"Grid\"},{\"id\":\"6c0ecd26-933b-4e52-92d0-c1dcd1a88a81\",\"type\":\"LinearAxis\"},{\"id\":\"6c8a2832-6899-40e0-ac79-f0576128e632\",\"type\":\"Grid\"},{\"id\":\"cfda36b3-b392-4758-822e-62068eb95e64\",\"type\":\"BoxAnnotation\"},{\"id\":\"2c491ba7-db2a-4ed3-bf3f-b3a3c8d1aca8\",\"type\":\"GlyphRenderer\"}],\"title\":{\"id\":\"0e67b8f7-3083-45d5-8786-c34839fd82cd\",\"type\":\"Title\"},\"toolbar\":{\"id\":\"b8b8c7f8-e7f8-4b2c-a81c-c67359673b2e\",\"type\":\"Toolbar\"},\"x_range\":{\"id\":\"9e44feaf-0f6b-4620-bee6-600e42b476c0\",\"type\":\"DataRange1d\"},\"x_scale\":{\"id\":\"1ecd8da9-51be-4053-a7fb-f4e6259c6505\",\"type\":\"LinearScale\"},\"y_range\":{\"id\":\"c1760951-db38-4bb2-b337-a7d960582fa4\",\"type\":\"DataRange1d\"},\"y_scale\":{\"id\":\"7cc6cbc4-acb2-4fc4-a5ce-6c749c4c2141\",\"type\":\"LinearScale\"}},\"id\":\"455f6083-3de2-43ee-8590-dcdd4fc990a6\",\"subtype\":\"Figure\",\"type\":\"Plot\"},{\"attributes\":{\"formatter\":{\"id\":\"b5a66bec-a3d9-43eb-8944-9d317d1a6508\",\"type\":\"BasicTickFormatter\"},\"major_tick_line_color\":{\"value\":\"firebrick\"},\"major_tick_line_width\":{\"value\":3},\"major_tick_out\":10,\"minor_tick_in\":-3,\"minor_tick_line_color\":{\"value\":\"orange\"},\"minor_tick_out\":8,\"plot\":{\"id\":\"455f6083-3de2-43ee-8590-dcdd4fc990a6\",\"subtype\":\"Figure\",\"type\":\"Plot\"},\"ticker\":{\"id\":\"3de80ac5-3b04-46cc-b170-a519c0e23e81\",\"type\":\"BasicTicker\"}},\"id\":\"75cda027-abb0-4f6c-8747-9bef4c0fda42\",\"type\":\"LinearAxis\"},{\"attributes\":{\"plot\":{\"id\":\"455f6083-3de2-43ee-8590-dcdd4fc990a6\",\"subtype\":\"Figure\",\"type\":\"Plot\"},\"ticker\":{\"id\":\"3de80ac5-3b04-46cc-b170-a519c0e23e81\",\"type\":\"BasicTicker\"}},\"id\":\"1d7e460f-09a6-4916-96dd-7f9b260ad9d7\",\"type\":\"Grid\"},{\"attributes\":{},\"id\":\"0a3121db-0934-48c2-b3cc-56ec84858800\",\"type\":\"BasicTicker\"},{\"attributes\":{\"bottom_units\":\"screen\",\"fill_alpha\":{\"value\":0.5},\"fill_color\":{\"value\":\"lightgrey\"},\"left_units\":\"screen\",\"level\":\"overlay\",\"line_alpha\":{\"value\":1.0},\"line_color\":{\"value\":\"black\"},\"line_dash\":[4,4],\"line_width\":{\"value\":2},\"plot\":null,\"render_mode\":\"css\",\"right_units\":\"screen\",\"top_units\":\"screen\"},\"id\":\"cfda36b3-b392-4758-822e-62068eb95e64\",\"type\":\"BoxAnnotation\"},{\"attributes\":{\"callback\":null},\"id\":\"9e44feaf-0f6b-4620-bee6-600e42b476c0\",\"type\":\"DataRange1d\"},{\"attributes\":{},\"id\":\"1ecd8da9-51be-4053-a7fb-f4e6259c6505\",\"type\":\"LinearScale\"}],\"root_ids\":[\"455f6083-3de2-43ee-8590-dcdd4fc990a6\"]},\"title\":\"Bokeh Application\",\"version\":\"0.12.13\"}};\n",
       "  var render_items = [{\"docid\":\"9bc5f409-6a5b-4e89-b9ff-1c40a793df29\",\"elementid\":\"9bb14f0c-e411-4520-a26f-639529ceed9b\",\"modelid\":\"455f6083-3de2-43ee-8590-dcdd4fc990a6\"}];\n",
       "  root.Bokeh.embed.embed_items_notebook(docs_json, render_items);\n",
       "\n",
       "  }\n",
       "  if (root.Bokeh !== undefined) {\n",
       "    embed_document(root);\n",
       "  } else {\n",
       "    var attempts = 0;\n",
       "    var timer = setInterval(function(root) {\n",
       "      if (root.Bokeh !== undefined) {\n",
       "        embed_document(root);\n",
       "        clearInterval(timer);\n",
       "      }\n",
       "      attempts++;\n",
       "      if (attempts > 100) {\n",
       "        console.log(\"Bokeh: ERROR: Unable to run BokehJS code because BokehJS library is missing\")\n",
       "        clearInterval(timer);\n",
       "      }\n",
       "    }, 10, root)\n",
       "  }\n",
       "})(window);"
      ],
      "application/vnd.bokehjs_exec.v0+json": ""
     },
     "metadata": {
      "application/vnd.bokehjs_exec.v0+json": {
       "id": "455f6083-3de2-43ee-8590-dcdd4fc990a6"
      }
     },
     "output_type": "display_data"
    }
   ],
   "source": [
    "# Tick Lines\n",
    "\n",
    "p = figure(plot_width=400, plot_height=400)\n",
    "p.circle([1,2,3,4,5], [2,5,8,2,7], size=10)\n",
    "\n",
    "p.xaxis.major_tick_line_color = \"firebrick\"\n",
    "p.xaxis.major_tick_line_width = 3\n",
    "p.xaxis.minor_tick_line_color = \"orange\"\n",
    "\n",
    "p.yaxis.minor_tick_line_color = None\n",
    "\n",
    "p.axis.major_tick_out = 10\n",
    "p.axis.minor_tick_in = -3\n",
    "p.axis.minor_tick_out = 8\n",
    "\n",
    "show(p)"
   ]
  },
  {
   "cell_type": "code",
   "execution_count": 29,
   "metadata": {},
   "outputs": [
    {
     "data": {
      "text/html": [
       "\n",
       "<div class=\"bk-root\">\n",
       "    <div class=\"bk-plotdiv\" id=\"49970c37-81e8-403e-b598-2d7feebe8d9a\"></div>\n",
       "</div>"
      ]
     },
     "metadata": {},
     "output_type": "display_data"
    },
    {
     "data": {
      "application/javascript": [
       "(function(root) {\n",
       "  function embed_document(root) {\n",
       "    \n",
       "  var docs_json = {\"3e6c3f20-459e-49b8-b90a-cfcc5aecc419\":{\"roots\":{\"references\":[{\"attributes\":{\"below\":[{\"id\":\"aa03067e-0031-4dd1-a467-5c0463ab6cae\",\"type\":\"LinearAxis\"}],\"left\":[{\"id\":\"64f8902a-be75-448f-b682-4a8061595787\",\"type\":\"LinearAxis\"}],\"plot_height\":400,\"plot_width\":400,\"renderers\":[{\"id\":\"aa03067e-0031-4dd1-a467-5c0463ab6cae\",\"type\":\"LinearAxis\"},{\"id\":\"dfcee3ff-2399-4eff-9282-df9958f2c875\",\"type\":\"Grid\"},{\"id\":\"64f8902a-be75-448f-b682-4a8061595787\",\"type\":\"LinearAxis\"},{\"id\":\"a524be3f-fcfa-47ce-9fc5-d069b56a56f0\",\"type\":\"Grid\"},{\"id\":\"9130f10a-cbed-4b54-88e4-ebb079e1fc13\",\"type\":\"BoxAnnotation\"},{\"id\":\"30da3ccf-d285-45f2-a6b0-a9eaf76e5691\",\"type\":\"GlyphRenderer\"}],\"title\":{\"id\":\"4782c8b9-9810-4533-875c-b735ce8e1ae4\",\"type\":\"Title\"},\"toolbar\":{\"id\":\"7af4b327-74fc-4e78-85d8-d284edc41b55\",\"type\":\"Toolbar\"},\"x_range\":{\"id\":\"897743ad-cde4-4e3e-87a6-933be0d2d2eb\",\"type\":\"DataRange1d\"},\"x_scale\":{\"id\":\"417492dc-00ed-4d9c-b0fb-4c3f7065092a\",\"type\":\"LinearScale\"},\"y_range\":{\"id\":\"469cdff2-81b4-46cc-b980-d303e4ec134c\",\"type\":\"DataRange1d\"},\"y_scale\":{\"id\":\"cbe6fe77-2ede-47db-9cb5-d372530bd3f8\",\"type\":\"LinearScale\"}},\"id\":\"4776fbec-4cad-41a3-a078-bad2fb51dbc2\",\"subtype\":\"Figure\",\"type\":\"Plot\"},{\"attributes\":{},\"id\":\"9d49ebe7-efde-4e1a-b8de-db67b242231e\",\"type\":\"HelpTool\"},{\"attributes\":{\"source\":{\"id\":\"f538d872-efd9-4249-8b25-895b39ad20b1\",\"type\":\"ColumnDataSource\"}},\"id\":\"6c51e78e-2505-460c-b1a0-1977ab923e76\",\"type\":\"CDSView\"},{\"attributes\":{\"fill_alpha\":{\"value\":0.1},\"fill_color\":{\"value\":\"#1f77b4\"},\"line_alpha\":{\"value\":0.1},\"line_color\":{\"value\":\"#1f77b4\"},\"size\":{\"units\":\"screen\",\"value\":10},\"x\":{\"field\":\"x\"},\"y\":{\"field\":\"y\"}},\"id\":\"16df79c6-7669-43f8-98ff-51147a547f7f\",\"type\":\"Circle\"},{\"attributes\":{\"plot\":{\"id\":\"4776fbec-4cad-41a3-a078-bad2fb51dbc2\",\"subtype\":\"Figure\",\"type\":\"Plot\"},\"ticker\":{\"id\":\"d6a13f09-b8aa-4523-9f96-ed98df6bf641\",\"type\":\"BasicTicker\"}},\"id\":\"dfcee3ff-2399-4eff-9282-df9958f2c875\",\"type\":\"Grid\"},{\"attributes\":{\"data_source\":{\"id\":\"f538d872-efd9-4249-8b25-895b39ad20b1\",\"type\":\"ColumnDataSource\"},\"glyph\":{\"id\":\"9e65ff90-097a-4ae6-a22e-6def65759aac\",\"type\":\"Circle\"},\"hover_glyph\":null,\"muted_glyph\":null,\"nonselection_glyph\":{\"id\":\"16df79c6-7669-43f8-98ff-51147a547f7f\",\"type\":\"Circle\"},\"selection_glyph\":null,\"view\":{\"id\":\"6c51e78e-2505-460c-b1a0-1977ab923e76\",\"type\":\"CDSView\"}},\"id\":\"30da3ccf-d285-45f2-a6b0-a9eaf76e5691\",\"type\":\"GlyphRenderer\"},{\"attributes\":{\"formatter\":{\"id\":\"95c6dcdf-4121-4bfa-be3c-6989ef8a3470\",\"type\":\"NumeralTickFormatter\"},\"plot\":{\"id\":\"4776fbec-4cad-41a3-a078-bad2fb51dbc2\",\"subtype\":\"Figure\",\"type\":\"Plot\"},\"ticker\":{\"id\":\"d6a13f09-b8aa-4523-9f96-ed98df6bf641\",\"type\":\"BasicTicker\"}},\"id\":\"aa03067e-0031-4dd1-a467-5c0463ab6cae\",\"type\":\"LinearAxis\"},{\"attributes\":{\"format\":\"0.0%\"},\"id\":\"95c6dcdf-4121-4bfa-be3c-6989ef8a3470\",\"type\":\"NumeralTickFormatter\"},{\"attributes\":{},\"id\":\"d6a13f09-b8aa-4523-9f96-ed98df6bf641\",\"type\":\"BasicTicker\"},{\"attributes\":{\"formatter\":{\"id\":\"8335917b-d93e-45e2-9a05-2caf71f13085\",\"type\":\"NumeralTickFormatter\"},\"plot\":{\"id\":\"4776fbec-4cad-41a3-a078-bad2fb51dbc2\",\"subtype\":\"Figure\",\"type\":\"Plot\"},\"ticker\":{\"id\":\"68e2c939-6ac1-4e72-af7a-58e0bb6ddc5b\",\"type\":\"BasicTicker\"}},\"id\":\"64f8902a-be75-448f-b682-4a8061595787\",\"type\":\"LinearAxis\"},{\"attributes\":{},\"id\":\"417492dc-00ed-4d9c-b0fb-4c3f7065092a\",\"type\":\"LinearScale\"},{\"attributes\":{},\"id\":\"68e2c939-6ac1-4e72-af7a-58e0bb6ddc5b\",\"type\":\"BasicTicker\"},{\"attributes\":{\"plot\":null,\"text\":\"\"},\"id\":\"4782c8b9-9810-4533-875c-b735ce8e1ae4\",\"type\":\"Title\"},{\"attributes\":{\"dimension\":1,\"plot\":{\"id\":\"4776fbec-4cad-41a3-a078-bad2fb51dbc2\",\"subtype\":\"Figure\",\"type\":\"Plot\"},\"ticker\":{\"id\":\"68e2c939-6ac1-4e72-af7a-58e0bb6ddc5b\",\"type\":\"BasicTicker\"}},\"id\":\"a524be3f-fcfa-47ce-9fc5-d069b56a56f0\",\"type\":\"Grid\"},{\"attributes\":{\"format\":\"$0.00\"},\"id\":\"8335917b-d93e-45e2-9a05-2caf71f13085\",\"type\":\"NumeralTickFormatter\"},{\"attributes\":{\"fill_color\":{\"value\":\"#1f77b4\"},\"line_color\":{\"value\":\"#1f77b4\"},\"size\":{\"units\":\"screen\",\"value\":10},\"x\":{\"field\":\"x\"},\"y\":{\"field\":\"y\"}},\"id\":\"9e65ff90-097a-4ae6-a22e-6def65759aac\",\"type\":\"Circle\"},{\"attributes\":{},\"id\":\"cbe6fe77-2ede-47db-9cb5-d372530bd3f8\",\"type\":\"LinearScale\"},{\"attributes\":{\"bottom_units\":\"screen\",\"fill_alpha\":{\"value\":0.5},\"fill_color\":{\"value\":\"lightgrey\"},\"left_units\":\"screen\",\"level\":\"overlay\",\"line_alpha\":{\"value\":1.0},\"line_color\":{\"value\":\"black\"},\"line_dash\":[4,4],\"line_width\":{\"value\":2},\"plot\":null,\"render_mode\":\"css\",\"right_units\":\"screen\",\"top_units\":\"screen\"},\"id\":\"9130f10a-cbed-4b54-88e4-ebb079e1fc13\",\"type\":\"BoxAnnotation\"},{\"attributes\":{},\"id\":\"de6e7c37-6028-4a8d-b609-f3b58c0831a2\",\"type\":\"PanTool\"},{\"attributes\":{\"callback\":null,\"column_names\":[\"x\",\"y\"],\"data\":{\"x\":[1,2,3,4,5],\"y\":[2,5,8,2,7]}},\"id\":\"f538d872-efd9-4249-8b25-895b39ad20b1\",\"type\":\"ColumnDataSource\"},{\"attributes\":{\"active_drag\":\"auto\",\"active_inspect\":\"auto\",\"active_scroll\":\"auto\",\"active_tap\":\"auto\",\"tools\":[{\"id\":\"de6e7c37-6028-4a8d-b609-f3b58c0831a2\",\"type\":\"PanTool\"},{\"id\":\"8840c93c-acce-41fa-a945-524d50ae2ea0\",\"type\":\"WheelZoomTool\"},{\"id\":\"5c78dcf5-edef-49fe-ac63-7549fd6b65fa\",\"type\":\"BoxZoomTool\"},{\"id\":\"450f55a9-fa59-44ce-b533-a7f9cda9d547\",\"type\":\"SaveTool\"},{\"id\":\"2df8d256-d8d3-4e62-8256-3b6f89573997\",\"type\":\"ResetTool\"},{\"id\":\"9d49ebe7-efde-4e1a-b8de-db67b242231e\",\"type\":\"HelpTool\"}]},\"id\":\"7af4b327-74fc-4e78-85d8-d284edc41b55\",\"type\":\"Toolbar\"},{\"attributes\":{\"callback\":null},\"id\":\"469cdff2-81b4-46cc-b980-d303e4ec134c\",\"type\":\"DataRange1d\"},{\"attributes\":{},\"id\":\"8840c93c-acce-41fa-a945-524d50ae2ea0\",\"type\":\"WheelZoomTool\"},{\"attributes\":{\"overlay\":{\"id\":\"9130f10a-cbed-4b54-88e4-ebb079e1fc13\",\"type\":\"BoxAnnotation\"}},\"id\":\"5c78dcf5-edef-49fe-ac63-7549fd6b65fa\",\"type\":\"BoxZoomTool\"},{\"attributes\":{},\"id\":\"450f55a9-fa59-44ce-b533-a7f9cda9d547\",\"type\":\"SaveTool\"},{\"attributes\":{},\"id\":\"2df8d256-d8d3-4e62-8256-3b6f89573997\",\"type\":\"ResetTool\"},{\"attributes\":{\"callback\":null},\"id\":\"897743ad-cde4-4e3e-87a6-933be0d2d2eb\",\"type\":\"DataRange1d\"}],\"root_ids\":[\"4776fbec-4cad-41a3-a078-bad2fb51dbc2\"]},\"title\":\"Bokeh Application\",\"version\":\"0.12.13\"}};\n",
       "  var render_items = [{\"docid\":\"3e6c3f20-459e-49b8-b90a-cfcc5aecc419\",\"elementid\":\"49970c37-81e8-403e-b598-2d7feebe8d9a\",\"modelid\":\"4776fbec-4cad-41a3-a078-bad2fb51dbc2\"}];\n",
       "  root.Bokeh.embed.embed_items_notebook(docs_json, render_items);\n",
       "\n",
       "  }\n",
       "  if (root.Bokeh !== undefined) {\n",
       "    embed_document(root);\n",
       "  } else {\n",
       "    var attempts = 0;\n",
       "    var timer = setInterval(function(root) {\n",
       "      if (root.Bokeh !== undefined) {\n",
       "        embed_document(root);\n",
       "        clearInterval(timer);\n",
       "      }\n",
       "      attempts++;\n",
       "      if (attempts > 100) {\n",
       "        console.log(\"Bokeh: ERROR: Unable to run BokehJS code because BokehJS library is missing\")\n",
       "        clearInterval(timer);\n",
       "      }\n",
       "    }, 10, root)\n",
       "  }\n",
       "})(window);"
      ],
      "application/vnd.bokehjs_exec.v0+json": ""
     },
     "metadata": {
      "application/vnd.bokehjs_exec.v0+json": {
       "id": "4776fbec-4cad-41a3-a078-bad2fb51dbc2"
      }
     },
     "output_type": "display_data"
    }
   ],
   "source": [
    "# NumeralTickFormatter\n",
    "\n",
    "from bokeh.models import NumeralTickFormatter\n",
    "\n",
    "p = figure(plot_width=400, plot_height=400)\n",
    "p.circle([1,2,3,4,5], [2,5,8,2,7], size=10)\n",
    "\n",
    "p.xaxis[0].formatter = NumeralTickFormatter(format=\"0.0%\")\n",
    "p.yaxis[0].formatter = NumeralTickFormatter(format=\"$0.00\")\n",
    "\n",
    "show(p)"
   ]
  },
  {
   "cell_type": "code",
   "execution_count": 30,
   "metadata": {},
   "outputs": [
    {
     "data": {
      "text/html": [
       "\n",
       "<div class=\"bk-root\">\n",
       "    <div class=\"bk-plotdiv\" id=\"794ab443-698e-4680-afa8-d0bbaceffb3d\"></div>\n",
       "</div>"
      ]
     },
     "metadata": {},
     "output_type": "display_data"
    },
    {
     "data": {
      "application/javascript": [
       "(function(root) {\n",
       "  function embed_document(root) {\n",
       "    \n",
       "  var docs_json = {\"f878e89f-c734-4e51-b549-0dba04a0df49\":{\"roots\":{\"references\":[{\"attributes\":{},\"id\":\"5f27ab74-fbcb-4b0a-8405-ffdd380624ac\",\"type\":\"PanTool\"},{\"attributes\":{},\"id\":\"1694e1ef-65e9-4d29-afd5-88ab808d37cf\",\"type\":\"BasicTicker\"},{\"attributes\":{\"format\":\"%5.3f mu\"},\"id\":\"9f0c5566-b338-4cb7-8b32-85d6571df663\",\"type\":\"PrintfTickFormatter\"},{\"attributes\":{\"formatter\":{\"id\":\"1a5ffc22-ce65-4c70-a95a-535da34eb193\",\"type\":\"PrintfTickFormatter\"},\"plot\":{\"id\":\"6a236853-f3be-4a70-afcd-670e7c5efecf\",\"subtype\":\"Figure\",\"type\":\"Plot\"},\"ticker\":{\"id\":\"1694e1ef-65e9-4d29-afd5-88ab808d37cf\",\"type\":\"BasicTicker\"}},\"id\":\"7b327299-83eb-4df3-8d77-c783d9b980eb\",\"type\":\"LinearAxis\"},{\"attributes\":{\"plot\":{\"id\":\"6a236853-f3be-4a70-afcd-670e7c5efecf\",\"subtype\":\"Figure\",\"type\":\"Plot\"},\"ticker\":{\"id\":\"1694e1ef-65e9-4d29-afd5-88ab808d37cf\",\"type\":\"BasicTicker\"}},\"id\":\"d6c73c1e-267b-4fda-9513-4e2c9f748703\",\"type\":\"Grid\"},{\"attributes\":{},\"id\":\"3e1e9fd6-81ff-4f59-82d7-631a1c5a9838\",\"type\":\"LinearScale\"},{\"attributes\":{},\"id\":\"b721013d-69cb-48ea-8ddd-9b5fc0406c28\",\"type\":\"LinearScale\"},{\"attributes\":{\"source\":{\"id\":\"c8e7f9d2-ca11-40b9-a9c7-0712fb4cfb1b\",\"type\":\"ColumnDataSource\"}},\"id\":\"bf2de7d1-8871-4bc9-87cc-b7fa03370f18\",\"type\":\"CDSView\"},{\"attributes\":{\"below\":[{\"id\":\"7b327299-83eb-4df3-8d77-c783d9b980eb\",\"type\":\"LinearAxis\"}],\"left\":[{\"id\":\"883d4d87-c6eb-471b-99d8-cec190e739b1\",\"type\":\"LinearAxis\"}],\"plot_height\":400,\"plot_width\":400,\"renderers\":[{\"id\":\"7b327299-83eb-4df3-8d77-c783d9b980eb\",\"type\":\"LinearAxis\"},{\"id\":\"d6c73c1e-267b-4fda-9513-4e2c9f748703\",\"type\":\"Grid\"},{\"id\":\"883d4d87-c6eb-471b-99d8-cec190e739b1\",\"type\":\"LinearAxis\"},{\"id\":\"9d3565bf-aaa5-4de7-ba43-b7ea7c13aff5\",\"type\":\"Grid\"},{\"id\":\"f49b9737-cfeb-42a8-8977-bdd5bf8f75d6\",\"type\":\"BoxAnnotation\"},{\"id\":\"81a68851-704b-44f5-a4d3-5d5597e8eca0\",\"type\":\"GlyphRenderer\"}],\"title\":{\"id\":\"d4a67cf4-792a-4333-8efd-2b8e62e3043d\",\"type\":\"Title\"},\"toolbar\":{\"id\":\"8c02f9f5-a60f-4c09-8dc2-a610ec4fd356\",\"type\":\"Toolbar\"},\"x_range\":{\"id\":\"744a20f4-973f-41d7-bdce-312692249f02\",\"type\":\"DataRange1d\"},\"x_scale\":{\"id\":\"b721013d-69cb-48ea-8ddd-9b5fc0406c28\",\"type\":\"LinearScale\"},\"y_range\":{\"id\":\"d9568914-727c-464f-95b1-f78c8b29a947\",\"type\":\"DataRange1d\"},\"y_scale\":{\"id\":\"3e1e9fd6-81ff-4f59-82d7-631a1c5a9838\",\"type\":\"LinearScale\"}},\"id\":\"6a236853-f3be-4a70-afcd-670e7c5efecf\",\"subtype\":\"Figure\",\"type\":\"Plot\"},{\"attributes\":{},\"id\":\"35bfbaf6-8bc6-49e2-99bc-b3172b181f8f\",\"type\":\"SaveTool\"},{\"attributes\":{\"active_drag\":\"auto\",\"active_inspect\":\"auto\",\"active_scroll\":\"auto\",\"active_tap\":\"auto\",\"tools\":[{\"id\":\"5f27ab74-fbcb-4b0a-8405-ffdd380624ac\",\"type\":\"PanTool\"},{\"id\":\"21a863c8-7ed2-4fe9-8e08-1081cec5ca09\",\"type\":\"WheelZoomTool\"},{\"id\":\"95c1961f-1546-479c-bd4a-fd5584b7fe54\",\"type\":\"BoxZoomTool\"},{\"id\":\"35bfbaf6-8bc6-49e2-99bc-b3172b181f8f\",\"type\":\"SaveTool\"},{\"id\":\"014f2f37-be5d-43b0-987b-07fa3ef3e196\",\"type\":\"ResetTool\"},{\"id\":\"045b818a-e4d2-42c1-8255-4f682c9369b4\",\"type\":\"HelpTool\"}]},\"id\":\"8c02f9f5-a60f-4c09-8dc2-a610ec4fd356\",\"type\":\"Toolbar\"},{\"attributes\":{\"callback\":null},\"id\":\"744a20f4-973f-41d7-bdce-312692249f02\",\"type\":\"DataRange1d\"},{\"attributes\":{\"dimension\":1,\"plot\":{\"id\":\"6a236853-f3be-4a70-afcd-670e7c5efecf\",\"subtype\":\"Figure\",\"type\":\"Plot\"},\"ticker\":{\"id\":\"982c035a-e051-4049-96cd-b96fc5746a45\",\"type\":\"BasicTicker\"}},\"id\":\"9d3565bf-aaa5-4de7-ba43-b7ea7c13aff5\",\"type\":\"Grid\"},{\"attributes\":{\"callback\":null,\"column_names\":[\"x\",\"y\"],\"data\":{\"x\":[1,2,3,4,5],\"y\":[2,5,8,2,7]}},\"id\":\"c8e7f9d2-ca11-40b9-a9c7-0712fb4cfb1b\",\"type\":\"ColumnDataSource\"},{\"attributes\":{\"bottom_units\":\"screen\",\"fill_alpha\":{\"value\":0.5},\"fill_color\":{\"value\":\"lightgrey\"},\"left_units\":\"screen\",\"level\":\"overlay\",\"line_alpha\":{\"value\":1.0},\"line_color\":{\"value\":\"black\"},\"line_dash\":[4,4],\"line_width\":{\"value\":2},\"plot\":null,\"render_mode\":\"css\",\"right_units\":\"screen\",\"top_units\":\"screen\"},\"id\":\"f49b9737-cfeb-42a8-8977-bdd5bf8f75d6\",\"type\":\"BoxAnnotation\"},{\"attributes\":{\"fill_alpha\":{\"value\":0.1},\"fill_color\":{\"value\":\"#1f77b4\"},\"line_alpha\":{\"value\":0.1},\"line_color\":{\"value\":\"#1f77b4\"},\"size\":{\"units\":\"screen\",\"value\":10},\"x\":{\"field\":\"x\"},\"y\":{\"field\":\"y\"}},\"id\":\"8df29c83-97ca-436d-bbe6-50942e63e45b\",\"type\":\"Circle\"},{\"attributes\":{\"format\":\"%4.1e\"},\"id\":\"1a5ffc22-ce65-4c70-a95a-535da34eb193\",\"type\":\"PrintfTickFormatter\"},{\"attributes\":{},\"id\":\"21a863c8-7ed2-4fe9-8e08-1081cec5ca09\",\"type\":\"WheelZoomTool\"},{\"attributes\":{\"callback\":null},\"id\":\"d9568914-727c-464f-95b1-f78c8b29a947\",\"type\":\"DataRange1d\"},{\"attributes\":{\"plot\":null,\"text\":\"\"},\"id\":\"d4a67cf4-792a-4333-8efd-2b8e62e3043d\",\"type\":\"Title\"},{\"attributes\":{},\"id\":\"045b818a-e4d2-42c1-8255-4f682c9369b4\",\"type\":\"HelpTool\"},{\"attributes\":{\"fill_color\":{\"value\":\"#1f77b4\"},\"line_color\":{\"value\":\"#1f77b4\"},\"size\":{\"units\":\"screen\",\"value\":10},\"x\":{\"field\":\"x\"},\"y\":{\"field\":\"y\"}},\"id\":\"aaf925f6-35dd-4921-95ab-5c60f0d09d86\",\"type\":\"Circle\"},{\"attributes\":{},\"id\":\"014f2f37-be5d-43b0-987b-07fa3ef3e196\",\"type\":\"ResetTool\"},{\"attributes\":{},\"id\":\"982c035a-e051-4049-96cd-b96fc5746a45\",\"type\":\"BasicTicker\"},{\"attributes\":{\"overlay\":{\"id\":\"f49b9737-cfeb-42a8-8977-bdd5bf8f75d6\",\"type\":\"BoxAnnotation\"}},\"id\":\"95c1961f-1546-479c-bd4a-fd5584b7fe54\",\"type\":\"BoxZoomTool\"},{\"attributes\":{\"data_source\":{\"id\":\"c8e7f9d2-ca11-40b9-a9c7-0712fb4cfb1b\",\"type\":\"ColumnDataSource\"},\"glyph\":{\"id\":\"aaf925f6-35dd-4921-95ab-5c60f0d09d86\",\"type\":\"Circle\"},\"hover_glyph\":null,\"muted_glyph\":null,\"nonselection_glyph\":{\"id\":\"8df29c83-97ca-436d-bbe6-50942e63e45b\",\"type\":\"Circle\"},\"selection_glyph\":null,\"view\":{\"id\":\"bf2de7d1-8871-4bc9-87cc-b7fa03370f18\",\"type\":\"CDSView\"}},\"id\":\"81a68851-704b-44f5-a4d3-5d5597e8eca0\",\"type\":\"GlyphRenderer\"},{\"attributes\":{\"formatter\":{\"id\":\"9f0c5566-b338-4cb7-8b32-85d6571df663\",\"type\":\"PrintfTickFormatter\"},\"plot\":{\"id\":\"6a236853-f3be-4a70-afcd-670e7c5efecf\",\"subtype\":\"Figure\",\"type\":\"Plot\"},\"ticker\":{\"id\":\"982c035a-e051-4049-96cd-b96fc5746a45\",\"type\":\"BasicTicker\"}},\"id\":\"883d4d87-c6eb-471b-99d8-cec190e739b1\",\"type\":\"LinearAxis\"}],\"root_ids\":[\"6a236853-f3be-4a70-afcd-670e7c5efecf\"]},\"title\":\"Bokeh Application\",\"version\":\"0.12.13\"}};\n",
       "  var render_items = [{\"docid\":\"f878e89f-c734-4e51-b549-0dba04a0df49\",\"elementid\":\"794ab443-698e-4680-afa8-d0bbaceffb3d\",\"modelid\":\"6a236853-f3be-4a70-afcd-670e7c5efecf\"}];\n",
       "  root.Bokeh.embed.embed_items_notebook(docs_json, render_items);\n",
       "\n",
       "  }\n",
       "  if (root.Bokeh !== undefined) {\n",
       "    embed_document(root);\n",
       "  } else {\n",
       "    var attempts = 0;\n",
       "    var timer = setInterval(function(root) {\n",
       "      if (root.Bokeh !== undefined) {\n",
       "        embed_document(root);\n",
       "        clearInterval(timer);\n",
       "      }\n",
       "      attempts++;\n",
       "      if (attempts > 100) {\n",
       "        console.log(\"Bokeh: ERROR: Unable to run BokehJS code because BokehJS library is missing\")\n",
       "        clearInterval(timer);\n",
       "      }\n",
       "    }, 10, root)\n",
       "  }\n",
       "})(window);"
      ],
      "application/vnd.bokehjs_exec.v0+json": ""
     },
     "metadata": {
      "application/vnd.bokehjs_exec.v0+json": {
       "id": "6a236853-f3be-4a70-afcd-670e7c5efecf"
      }
     },
     "output_type": "display_data"
    }
   ],
   "source": [
    "#  PrintfTickFormatter\n",
    "\n",
    "from bokeh.models import PrintfTickFormatter\n",
    "\n",
    "p = figure(plot_width=400, plot_height=400)\n",
    "p.circle([1,2,3,4,5], [2,5,8,2,7], size=10)\n",
    "\n",
    "p.xaxis[0].formatter = PrintfTickFormatter(format=\"%4.1e\")\n",
    "p.yaxis[0].formatter = PrintfTickFormatter(format=\"%5.3f mu\")\n",
    "\n",
    "show(p)"
   ]
  },
  {
   "cell_type": "code",
   "execution_count": 31,
   "metadata": {},
   "outputs": [
    {
     "data": {
      "text/html": [
       "\n",
       "<div class=\"bk-root\">\n",
       "    <div class=\"bk-plotdiv\" id=\"013b2fcf-2b2a-4a79-a313-70dc3f06a7c2\"></div>\n",
       "</div>"
      ]
     },
     "metadata": {},
     "output_type": "display_data"
    },
    {
     "data": {
      "application/javascript": [
       "(function(root) {\n",
       "  function embed_document(root) {\n",
       "    \n",
       "  var docs_json = {\"b9a2e335-7772-4192-ac8f-27c0d5a85538\":{\"roots\":{\"references\":[{\"attributes\":{\"callback\":null},\"id\":\"85eaacbf-0ae6-4ac4-81b5-65a2355d0efc\",\"type\":\"DataRange1d\"},{\"attributes\":{\"formatter\":{\"id\":\"bd7dc90e-02a4-41ea-acef-d67eb142ec3d\",\"type\":\"BasicTickFormatter\"},\"plot\":{\"id\":\"581d0572-41ec-416c-939d-5339a5da9847\",\"subtype\":\"Figure\",\"type\":\"Plot\"},\"ticker\":{\"id\":\"2d6ca882-8b53-45cd-b50a-0214ec446b29\",\"type\":\"BasicTicker\"}},\"id\":\"06cbf10f-a7a1-49fb-aa65-c41d26cc0d0d\",\"type\":\"LinearAxis\"},{\"attributes\":{\"callback\":null,\"column_names\":[\"x\",\"y\"],\"data\":{\"x\":[0,2,4,6,8,10],\"y\":[6,2,4,10,8,0]}},\"id\":\"dc097f07-7709-420d-b524-bc83eafee72c\",\"type\":\"ColumnDataSource\"},{\"attributes\":{\"callback\":null},\"id\":\"567efaab-af15-4d90-9340-7b9da6ba4d68\",\"type\":\"DataRange1d\"},{\"attributes\":{},\"id\":\"96400b7b-8ae8-4758-b2d3-db2b694541aa\",\"type\":\"LinearScale\"},{\"attributes\":{},\"id\":\"2d6ca882-8b53-45cd-b50a-0214ec446b29\",\"type\":\"BasicTicker\"},{\"attributes\":{\"formatter\":{\"id\":\"06b8bf02-933f-4ef0-aacb-c5702e734c5d\",\"type\":\"FuncTickFormatter\"},\"plot\":{\"id\":\"581d0572-41ec-416c-939d-5339a5da9847\",\"subtype\":\"Figure\",\"type\":\"Plot\"},\"ticker\":{\"id\":\"bf41b953-3b9e-4269-9318-bcb5719c7326\",\"type\":\"BasicTicker\"}},\"id\":\"ee2520ac-cad0-40b0-bff0-198a1cad3d9d\",\"type\":\"LinearAxis\"},{\"attributes\":{\"active_drag\":\"auto\",\"active_inspect\":\"auto\",\"active_scroll\":\"auto\",\"active_tap\":\"auto\",\"tools\":[{\"id\":\"14efa37b-00fa-47be-8de6-1535318a37f2\",\"type\":\"PanTool\"},{\"id\":\"ded6872f-3545-487f-a7f4-34821d36d69e\",\"type\":\"WheelZoomTool\"},{\"id\":\"4479d59a-953c-4ed2-8e33-da34ae45341c\",\"type\":\"BoxZoomTool\"},{\"id\":\"baf94b5b-33d9-41a6-b688-626c356b8108\",\"type\":\"SaveTool\"},{\"id\":\"f89a5618-4f4c-47d9-ba4a-0272866f664d\",\"type\":\"ResetTool\"},{\"id\":\"b7104d7d-6f69-4067-b4fa-05b62cb354b5\",\"type\":\"HelpTool\"}]},\"id\":\"7d13562a-3925-406c-ace6-75a35f6797f1\",\"type\":\"Toolbar\"},{\"attributes\":{},\"id\":\"4666501c-1ed5-4f2e-9a76-241080244b67\",\"type\":\"LinearScale\"},{\"attributes\":{},\"id\":\"ded6872f-3545-487f-a7f4-34821d36d69e\",\"type\":\"WheelZoomTool\"},{\"attributes\":{\"plot\":{\"id\":\"581d0572-41ec-416c-939d-5339a5da9847\",\"subtype\":\"Figure\",\"type\":\"Plot\"},\"ticker\":{\"id\":\"2d6ca882-8b53-45cd-b50a-0214ec446b29\",\"type\":\"BasicTicker\"}},\"id\":\"f3c694f9-1199-464f-9051-09a72280bab6\",\"type\":\"Grid\"},{\"attributes\":{},\"id\":\"b7104d7d-6f69-4067-b4fa-05b62cb354b5\",\"type\":\"HelpTool\"},{\"attributes\":{},\"id\":\"bd7dc90e-02a4-41ea-acef-d67eb142ec3d\",\"type\":\"BasicTickFormatter\"},{\"attributes\":{\"overlay\":{\"id\":\"e92bc2ce-7766-4bc8-a325-36c7c8a95353\",\"type\":\"BoxAnnotation\"}},\"id\":\"4479d59a-953c-4ed2-8e33-da34ae45341c\",\"type\":\"BoxZoomTool\"},{\"attributes\":{\"data_source\":{\"id\":\"dc097f07-7709-420d-b524-bc83eafee72c\",\"type\":\"ColumnDataSource\"},\"glyph\":{\"id\":\"bc4c6a6d-a324-4129-b330-bbcf589f28cd\",\"type\":\"Circle\"},\"hover_glyph\":null,\"muted_glyph\":null,\"nonselection_glyph\":{\"id\":\"710a2ed3-c94e-4b82-8ab2-a41b85a7896f\",\"type\":\"Circle\"},\"selection_glyph\":null,\"view\":{\"id\":\"d1451fd9-12dd-4164-af02-f5940c47ed89\",\"type\":\"CDSView\"}},\"id\":\"245bf478-5cde-49a5-9164-82a90b8bec95\",\"type\":\"GlyphRenderer\"},{\"attributes\":{\"source\":{\"id\":\"dc097f07-7709-420d-b524-bc83eafee72c\",\"type\":\"ColumnDataSource\"}},\"id\":\"d1451fd9-12dd-4164-af02-f5940c47ed89\",\"type\":\"CDSView\"},{\"attributes\":{\"fill_color\":{\"value\":\"#1f77b4\"},\"line_color\":{\"value\":\"#1f77b4\"},\"size\":{\"units\":\"screen\",\"value\":30},\"x\":{\"field\":\"x\"},\"y\":{\"field\":\"y\"}},\"id\":\"bc4c6a6d-a324-4129-b330-bbcf589f28cd\",\"type\":\"Circle\"},{\"attributes\":{},\"id\":\"f89a5618-4f4c-47d9-ba4a-0272866f664d\",\"type\":\"ResetTool\"},{\"attributes\":{},\"id\":\"bf41b953-3b9e-4269-9318-bcb5719c7326\",\"type\":\"BasicTicker\"},{\"attributes\":{\"fill_alpha\":{\"value\":0.1},\"fill_color\":{\"value\":\"#1f77b4\"},\"line_alpha\":{\"value\":0.1},\"line_color\":{\"value\":\"#1f77b4\"},\"size\":{\"units\":\"screen\",\"value\":30},\"x\":{\"field\":\"x\"},\"y\":{\"field\":\"y\"}},\"id\":\"710a2ed3-c94e-4b82-8ab2-a41b85a7896f\",\"type\":\"Circle\"},{\"attributes\":{\"dimension\":1,\"plot\":{\"id\":\"581d0572-41ec-416c-939d-5339a5da9847\",\"subtype\":\"Figure\",\"type\":\"Plot\"},\"ticker\":{\"id\":\"bf41b953-3b9e-4269-9318-bcb5719c7326\",\"type\":\"BasicTicker\"}},\"id\":\"025e5e09-84ec-4ffa-86e2-92ca9fa1b9ae\",\"type\":\"Grid\"},{\"attributes\":{},\"id\":\"14efa37b-00fa-47be-8de6-1535318a37f2\",\"type\":\"PanTool\"},{\"attributes\":{\"below\":[{\"id\":\"06cbf10f-a7a1-49fb-aa65-c41d26cc0d0d\",\"type\":\"LinearAxis\"}],\"left\":[{\"id\":\"ee2520ac-cad0-40b0-bff0-198a1cad3d9d\",\"type\":\"LinearAxis\"}],\"plot_height\":500,\"plot_width\":500,\"renderers\":[{\"id\":\"06cbf10f-a7a1-49fb-aa65-c41d26cc0d0d\",\"type\":\"LinearAxis\"},{\"id\":\"f3c694f9-1199-464f-9051-09a72280bab6\",\"type\":\"Grid\"},{\"id\":\"ee2520ac-cad0-40b0-bff0-198a1cad3d9d\",\"type\":\"LinearAxis\"},{\"id\":\"025e5e09-84ec-4ffa-86e2-92ca9fa1b9ae\",\"type\":\"Grid\"},{\"id\":\"e92bc2ce-7766-4bc8-a325-36c7c8a95353\",\"type\":\"BoxAnnotation\"},{\"id\":\"245bf478-5cde-49a5-9164-82a90b8bec95\",\"type\":\"GlyphRenderer\"}],\"title\":{\"id\":\"9cb7c576-d3cc-4163-8ff1-93aed17b72a2\",\"type\":\"Title\"},\"toolbar\":{\"id\":\"7d13562a-3925-406c-ace6-75a35f6797f1\",\"type\":\"Toolbar\"},\"x_range\":{\"id\":\"85eaacbf-0ae6-4ac4-81b5-65a2355d0efc\",\"type\":\"DataRange1d\"},\"x_scale\":{\"id\":\"96400b7b-8ae8-4758-b2d3-db2b694541aa\",\"type\":\"LinearScale\"},\"y_range\":{\"id\":\"567efaab-af15-4d90-9340-7b9da6ba4d68\",\"type\":\"DataRange1d\"},\"y_scale\":{\"id\":\"4666501c-1ed5-4f2e-9a76-241080244b67\",\"type\":\"LinearScale\"}},\"id\":\"581d0572-41ec-416c-939d-5339a5da9847\",\"subtype\":\"Figure\",\"type\":\"Plot\"},{\"attributes\":{},\"id\":\"baf94b5b-33d9-41a6-b688-626c356b8108\",\"type\":\"SaveTool\"},{\"attributes\":{\"code\":\"\\n    return Math.floor(tick) + \\\" + \\\" + (tick % 1).toFixed(2)\\n\"},\"id\":\"06b8bf02-933f-4ef0-aacb-c5702e734c5d\",\"type\":\"FuncTickFormatter\"},{\"attributes\":{\"bottom_units\":\"screen\",\"fill_alpha\":{\"value\":0.5},\"fill_color\":{\"value\":\"lightgrey\"},\"left_units\":\"screen\",\"level\":\"overlay\",\"line_alpha\":{\"value\":1.0},\"line_color\":{\"value\":\"black\"},\"line_dash\":[4,4],\"line_width\":{\"value\":2},\"plot\":null,\"render_mode\":\"css\",\"right_units\":\"screen\",\"top_units\":\"screen\"},\"id\":\"e92bc2ce-7766-4bc8-a325-36c7c8a95353\",\"type\":\"BoxAnnotation\"},{\"attributes\":{\"plot\":null,\"text\":\"\"},\"id\":\"9cb7c576-d3cc-4163-8ff1-93aed17b72a2\",\"type\":\"Title\"}],\"root_ids\":[\"581d0572-41ec-416c-939d-5339a5da9847\"]},\"title\":\"Bokeh Application\",\"version\":\"0.12.13\"}};\n",
       "  var render_items = [{\"docid\":\"b9a2e335-7772-4192-ac8f-27c0d5a85538\",\"elementid\":\"013b2fcf-2b2a-4a79-a313-70dc3f06a7c2\",\"modelid\":\"581d0572-41ec-416c-939d-5339a5da9847\"}];\n",
       "  root.Bokeh.embed.embed_items_notebook(docs_json, render_items);\n",
       "\n",
       "  }\n",
       "  if (root.Bokeh !== undefined) {\n",
       "    embed_document(root);\n",
       "  } else {\n",
       "    var attempts = 0;\n",
       "    var timer = setInterval(function(root) {\n",
       "      if (root.Bokeh !== undefined) {\n",
       "        embed_document(root);\n",
       "        clearInterval(timer);\n",
       "      }\n",
       "      attempts++;\n",
       "      if (attempts > 100) {\n",
       "        console.log(\"Bokeh: ERROR: Unable to run BokehJS code because BokehJS library is missing\")\n",
       "        clearInterval(timer);\n",
       "      }\n",
       "    }, 10, root)\n",
       "  }\n",
       "})(window);"
      ],
      "application/vnd.bokehjs_exec.v0+json": ""
     },
     "metadata": {
      "application/vnd.bokehjs_exec.v0+json": {
       "id": "581d0572-41ec-416c-939d-5339a5da9847"
      }
     },
     "output_type": "display_data"
    }
   ],
   "source": [
    "# FuncTickFormatter\n",
    "\n",
    "from bokeh.models import FuncTickFormatter\n",
    "\n",
    "p = figure(plot_width=500, plot_height=500)\n",
    "p.circle([0, 2, 4, 6, 8, 10], [6, 2, 4, 10, 8, 0], size=30)\n",
    "\n",
    "p.yaxis.formatter = FuncTickFormatter(code=\"\"\"\n",
    "    return Math.floor(tick) + \" + \" + (tick % 1).toFixed(2)\n",
    "\"\"\")\n",
    "\n",
    "show(p)"
   ]
  },
  {
   "cell_type": "code",
   "execution_count": 32,
   "metadata": {},
   "outputs": [
    {
     "data": {
      "text/html": [
       "\n",
       "<div class=\"bk-root\">\n",
       "    <div class=\"bk-plotdiv\" id=\"a0d2e7df-312a-485c-be50-dae7d3f431b2\"></div>\n",
       "</div>"
      ]
     },
     "metadata": {},
     "output_type": "display_data"
    },
    {
     "data": {
      "application/javascript": [
       "(function(root) {\n",
       "  function embed_document(root) {\n",
       "    \n",
       "  var docs_json = {\"9f303960-87d1-4a5f-a1bc-b1c18f2436cc\":{\"roots\":{\"references\":[{\"attributes\":{},\"id\":\"c9fc3236-d966-409a-8e82-d49c095488f1\",\"type\":\"BasicTickFormatter\"},{\"attributes\":{},\"id\":\"ee5ab303-e98d-481c-807f-c58b16d058c6\",\"type\":\"WheelZoomTool\"},{\"attributes\":{},\"id\":\"5d92c9e5-d229-4329-8623-a87d8f59b245\",\"type\":\"BasicTickFormatter\"},{\"attributes\":{\"overlay\":{\"id\":\"b5e4e23d-443a-40f1-ba4a-5cec73110f8c\",\"type\":\"BoxAnnotation\"}},\"id\":\"02909ce1-08c7-4cd0-b9c3-f7a220d338aa\",\"type\":\"BoxZoomTool\"},{\"attributes\":{\"active_drag\":\"auto\",\"active_inspect\":\"auto\",\"active_scroll\":\"auto\",\"active_tap\":\"auto\",\"tools\":[{\"id\":\"d21cc1c1-32f0-4670-b7cc-946c05855104\",\"type\":\"PanTool\"},{\"id\":\"ee5ab303-e98d-481c-807f-c58b16d058c6\",\"type\":\"WheelZoomTool\"},{\"id\":\"02909ce1-08c7-4cd0-b9c3-f7a220d338aa\",\"type\":\"BoxZoomTool\"},{\"id\":\"3325de1a-8f1e-4025-afe8-e76f67f9addd\",\"type\":\"SaveTool\"},{\"id\":\"0edbda0c-6ee6-41e1-a359-133df524f438\",\"type\":\"ResetTool\"},{\"id\":\"1687ff08-aa93-491e-a91d-4409a1bb316a\",\"type\":\"HelpTool\"}]},\"id\":\"d82a4bab-d112-4f04-8317-2fed827f5416\",\"type\":\"Toolbar\"},{\"attributes\":{},\"id\":\"3325de1a-8f1e-4025-afe8-e76f67f9addd\",\"type\":\"SaveTool\"},{\"attributes\":{\"callback\":null},\"id\":\"e99e66ea-6bf1-44f0-bc99-8abe53aad7f2\",\"type\":\"DataRange1d\"},{\"attributes\":{},\"id\":\"0edbda0c-6ee6-41e1-a359-133df524f438\",\"type\":\"ResetTool\"},{\"attributes\":{},\"id\":\"f96480f1-8066-4846-af37-3b1afc615cbf\",\"type\":\"BasicTicker\"},{\"attributes\":{},\"id\":\"1687ff08-aa93-491e-a91d-4409a1bb316a\",\"type\":\"HelpTool\"},{\"attributes\":{\"callback\":null},\"id\":\"a3753278-a0ed-4056-8b5f-0a655c2a3753\",\"type\":\"DataRange1d\"},{\"attributes\":{\"callback\":null,\"column_names\":[\"x\",\"y\"],\"data\":{\"x\":[1,2,3,4,5],\"y\":[2,5,8,2,7]}},\"id\":\"04cd8d23-e4af-469f-abff-34345cba682b\",\"type\":\"ColumnDataSource\"},{\"attributes\":{},\"id\":\"2f2d76ed-7bf1-4dd4-b06b-a7258302092a\",\"type\":\"LinearScale\"},{\"attributes\":{\"plot\":null,\"text\":\"\"},\"id\":\"a259c765-e89f-4c8c-933f-147abc653843\",\"type\":\"Title\"},{\"attributes\":{},\"id\":\"9a6f7f23-91a9-47eb-b8d2-3569661cd91f\",\"type\":\"LinearScale\"},{\"attributes\":{\"plot\":{\"id\":\"4407de78-b4f3-46f4-a117-c720f66259be\",\"subtype\":\"Figure\",\"type\":\"Plot\"},\"ticker\":{\"id\":\"dcefcc3c-f1c3-42fe-8c8a-f8ebc89459b3\",\"type\":\"BasicTicker\"}},\"id\":\"64c3e995-3f35-4539-b906-940eed3d08b9\",\"type\":\"Grid\"},{\"attributes\":{\"formatter\":{\"id\":\"c9fc3236-d966-409a-8e82-d49c095488f1\",\"type\":\"BasicTickFormatter\"},\"major_label_orientation\":0.7853981633974483,\"plot\":{\"id\":\"4407de78-b4f3-46f4-a117-c720f66259be\",\"subtype\":\"Figure\",\"type\":\"Plot\"},\"ticker\":{\"id\":\"dcefcc3c-f1c3-42fe-8c8a-f8ebc89459b3\",\"type\":\"BasicTicker\"}},\"id\":\"6cf42375-498f-4311-9826-16f5bae58321\",\"type\":\"LinearAxis\"},{\"attributes\":{},\"id\":\"dcefcc3c-f1c3-42fe-8c8a-f8ebc89459b3\",\"type\":\"BasicTicker\"},{\"attributes\":{\"data_source\":{\"id\":\"04cd8d23-e4af-469f-abff-34345cba682b\",\"type\":\"ColumnDataSource\"},\"glyph\":{\"id\":\"d940b226-3a52-4cce-a319-66d28dbed7b1\",\"type\":\"Circle\"},\"hover_glyph\":null,\"muted_glyph\":null,\"nonselection_glyph\":{\"id\":\"5b35e2c6-6922-46e7-9e36-142fd926dad9\",\"type\":\"Circle\"},\"selection_glyph\":null,\"view\":{\"id\":\"a8b32416-56a6-4fa7-aa08-6422a852d4e1\",\"type\":\"CDSView\"}},\"id\":\"bbd00856-4e60-4b6f-bc7b-03843e49fa30\",\"type\":\"GlyphRenderer\"},{\"attributes\":{\"dimension\":1,\"plot\":{\"id\":\"4407de78-b4f3-46f4-a117-c720f66259be\",\"subtype\":\"Figure\",\"type\":\"Plot\"},\"ticker\":{\"id\":\"f96480f1-8066-4846-af37-3b1afc615cbf\",\"type\":\"BasicTicker\"}},\"id\":\"38b2160c-2221-4590-91cb-a985b8c1f56d\",\"type\":\"Grid\"},{\"attributes\":{\"source\":{\"id\":\"04cd8d23-e4af-469f-abff-34345cba682b\",\"type\":\"ColumnDataSource\"}},\"id\":\"a8b32416-56a6-4fa7-aa08-6422a852d4e1\",\"type\":\"CDSView\"},{\"attributes\":{\"formatter\":{\"id\":\"5d92c9e5-d229-4329-8623-a87d8f59b245\",\"type\":\"BasicTickFormatter\"},\"major_label_orientation\":\"vertical\",\"plot\":{\"id\":\"4407de78-b4f3-46f4-a117-c720f66259be\",\"subtype\":\"Figure\",\"type\":\"Plot\"},\"ticker\":{\"id\":\"f96480f1-8066-4846-af37-3b1afc615cbf\",\"type\":\"BasicTicker\"}},\"id\":\"9f9351e4-98b9-42dd-9d74-36d6852f18bd\",\"type\":\"LinearAxis\"},{\"attributes\":{\"fill_alpha\":{\"value\":0.1},\"fill_color\":{\"value\":\"#1f77b4\"},\"line_alpha\":{\"value\":0.1},\"line_color\":{\"value\":\"#1f77b4\"},\"size\":{\"units\":\"screen\",\"value\":10},\"x\":{\"field\":\"x\"},\"y\":{\"field\":\"y\"}},\"id\":\"5b35e2c6-6922-46e7-9e36-142fd926dad9\",\"type\":\"Circle\"},{\"attributes\":{\"fill_color\":{\"value\":\"#1f77b4\"},\"line_color\":{\"value\":\"#1f77b4\"},\"size\":{\"units\":\"screen\",\"value\":10},\"x\":{\"field\":\"x\"},\"y\":{\"field\":\"y\"}},\"id\":\"d940b226-3a52-4cce-a319-66d28dbed7b1\",\"type\":\"Circle\"},{\"attributes\":{\"below\":[{\"id\":\"6cf42375-498f-4311-9826-16f5bae58321\",\"type\":\"LinearAxis\"}],\"left\":[{\"id\":\"9f9351e4-98b9-42dd-9d74-36d6852f18bd\",\"type\":\"LinearAxis\"}],\"plot_height\":400,\"plot_width\":400,\"renderers\":[{\"id\":\"6cf42375-498f-4311-9826-16f5bae58321\",\"type\":\"LinearAxis\"},{\"id\":\"64c3e995-3f35-4539-b906-940eed3d08b9\",\"type\":\"Grid\"},{\"id\":\"9f9351e4-98b9-42dd-9d74-36d6852f18bd\",\"type\":\"LinearAxis\"},{\"id\":\"38b2160c-2221-4590-91cb-a985b8c1f56d\",\"type\":\"Grid\"},{\"id\":\"b5e4e23d-443a-40f1-ba4a-5cec73110f8c\",\"type\":\"BoxAnnotation\"},{\"id\":\"bbd00856-4e60-4b6f-bc7b-03843e49fa30\",\"type\":\"GlyphRenderer\"}],\"title\":{\"id\":\"a259c765-e89f-4c8c-933f-147abc653843\",\"type\":\"Title\"},\"toolbar\":{\"id\":\"d82a4bab-d112-4f04-8317-2fed827f5416\",\"type\":\"Toolbar\"},\"x_range\":{\"id\":\"e99e66ea-6bf1-44f0-bc99-8abe53aad7f2\",\"type\":\"DataRange1d\"},\"x_scale\":{\"id\":\"2f2d76ed-7bf1-4dd4-b06b-a7258302092a\",\"type\":\"LinearScale\"},\"y_range\":{\"id\":\"a3753278-a0ed-4056-8b5f-0a655c2a3753\",\"type\":\"DataRange1d\"},\"y_scale\":{\"id\":\"9a6f7f23-91a9-47eb-b8d2-3569661cd91f\",\"type\":\"LinearScale\"}},\"id\":\"4407de78-b4f3-46f4-a117-c720f66259be\",\"subtype\":\"Figure\",\"type\":\"Plot\"},{\"attributes\":{\"bottom_units\":\"screen\",\"fill_alpha\":{\"value\":0.5},\"fill_color\":{\"value\":\"lightgrey\"},\"left_units\":\"screen\",\"level\":\"overlay\",\"line_alpha\":{\"value\":1.0},\"line_color\":{\"value\":\"black\"},\"line_dash\":[4,4],\"line_width\":{\"value\":2},\"plot\":null,\"render_mode\":\"css\",\"right_units\":\"screen\",\"top_units\":\"screen\"},\"id\":\"b5e4e23d-443a-40f1-ba4a-5cec73110f8c\",\"type\":\"BoxAnnotation\"},{\"attributes\":{},\"id\":\"d21cc1c1-32f0-4670-b7cc-946c05855104\",\"type\":\"PanTool\"}],\"root_ids\":[\"4407de78-b4f3-46f4-a117-c720f66259be\"]},\"title\":\"Bokeh Application\",\"version\":\"0.12.13\"}};\n",
       "  var render_items = [{\"docid\":\"9f303960-87d1-4a5f-a1bc-b1c18f2436cc\",\"elementid\":\"a0d2e7df-312a-485c-be50-dae7d3f431b2\",\"modelid\":\"4407de78-b4f3-46f4-a117-c720f66259be\"}];\n",
       "  root.Bokeh.embed.embed_items_notebook(docs_json, render_items);\n",
       "\n",
       "  }\n",
       "  if (root.Bokeh !== undefined) {\n",
       "    embed_document(root);\n",
       "  } else {\n",
       "    var attempts = 0;\n",
       "    var timer = setInterval(function(root) {\n",
       "      if (root.Bokeh !== undefined) {\n",
       "        embed_document(root);\n",
       "        clearInterval(timer);\n",
       "      }\n",
       "      attempts++;\n",
       "      if (attempts > 100) {\n",
       "        console.log(\"Bokeh: ERROR: Unable to run BokehJS code because BokehJS library is missing\")\n",
       "        clearInterval(timer);\n",
       "      }\n",
       "    }, 10, root)\n",
       "  }\n",
       "})(window);"
      ],
      "application/vnd.bokehjs_exec.v0+json": ""
     },
     "metadata": {
      "application/vnd.bokehjs_exec.v0+json": {
       "id": "4407de78-b4f3-46f4-a117-c720f66259be"
      }
     },
     "output_type": "display_data"
    }
   ],
   "source": [
    "# Tick Label Orientation\n",
    "\n",
    "from math import pi\n",
    "\n",
    "p = figure(plot_width=400, plot_height=400)\n",
    "p.circle([1,2,3,4,5], [2,5,8,2,7], size=10)\n",
    "\n",
    "p.xaxis.major_label_orientation = pi/4\n",
    "p.yaxis.major_label_orientation = \"vertical\"\n",
    "\n",
    "show(p)"
   ]
  },
  {
   "cell_type": "markdown",
   "metadata": {},
   "source": [
    "## Grids"
   ]
  },
  {
   "cell_type": "code",
   "execution_count": 33,
   "metadata": {},
   "outputs": [
    {
     "data": {
      "text/plain": [
       "[Grid(id='64c3e995-3f35-4539-b906-940eed3d08b9', ...),\n",
       " Grid(id='38b2160c-2221-4590-91cb-a985b8c1f56d', ...)]"
      ]
     },
     "execution_count": 33,
     "metadata": {},
     "output_type": "execute_result"
    }
   ],
   "source": [
    "p.grid"
   ]
  },
  {
   "cell_type": "code",
   "execution_count": 34,
   "metadata": {},
   "outputs": [
    {
     "data": {
      "text/html": [
       "\n",
       "<div class=\"bk-root\">\n",
       "    <div class=\"bk-plotdiv\" id=\"b982b871-9e3e-4a0c-9231-317643f0cb32\"></div>\n",
       "</div>"
      ]
     },
     "metadata": {},
     "output_type": "display_data"
    },
    {
     "data": {
      "application/javascript": [
       "(function(root) {\n",
       "  function embed_document(root) {\n",
       "    \n",
       "  var docs_json = {\"f3cd5efd-388c-4ff8-810e-c59a4473fdac\":{\"roots\":{\"references\":[{\"attributes\":{\"active_drag\":\"auto\",\"active_inspect\":\"auto\",\"active_scroll\":\"auto\",\"active_tap\":\"auto\",\"tools\":[{\"id\":\"e084b459-9744-4f3d-99bf-0faf603cfff0\",\"type\":\"PanTool\"},{\"id\":\"2a8736b0-ab04-46d3-93ba-1c5e285eb983\",\"type\":\"WheelZoomTool\"},{\"id\":\"aa8ef842-8463-4740-949e-a5fd3c3286b5\",\"type\":\"BoxZoomTool\"},{\"id\":\"f7bd324b-bb3e-403a-b551-3938341da50c\",\"type\":\"SaveTool\"},{\"id\":\"55bb459c-9ace-4963-af67-78899923c15d\",\"type\":\"ResetTool\"},{\"id\":\"ae287ccd-f82a-4b31-b15d-07d12222ba64\",\"type\":\"HelpTool\"}]},\"id\":\"e27ff958-0688-43eb-847e-e0942baa438c\",\"type\":\"Toolbar\"},{\"attributes\":{},\"id\":\"dbae7757-7e5a-461a-88bf-2b8d93984953\",\"type\":\"BasicTickFormatter\"},{\"attributes\":{\"callback\":null,\"column_names\":[\"x\",\"y\"],\"data\":{\"x\":[1,2,3,4,5],\"y\":[2,5,8,2,7]}},\"id\":\"1c5aed20-ba55-47b0-a1a8-819a810a2e9a\",\"type\":\"ColumnDataSource\"},{\"attributes\":{},\"id\":\"98f44b03-fc73-47b2-b88e-f9418ceee94b\",\"type\":\"LinearScale\"},{\"attributes\":{\"source\":{\"id\":\"1c5aed20-ba55-47b0-a1a8-819a810a2e9a\",\"type\":\"ColumnDataSource\"}},\"id\":\"7a5a38e0-68b6-41f5-a008-35a4f027e6dd\",\"type\":\"CDSView\"},{\"attributes\":{},\"id\":\"5d9ab234-6403-4b2f-b966-1ef773cb4f2a\",\"type\":\"LinearScale\"},{\"attributes\":{\"callback\":null},\"id\":\"97068fa5-d75c-433c-af01-72e960c4249e\",\"type\":\"DataRange1d\"},{\"attributes\":{\"grid_line_color\":{\"value\":null},\"plot\":{\"id\":\"dfacc8ce-b42b-4dd1-a060-c0d00d87b4ff\",\"subtype\":\"Figure\",\"type\":\"Plot\"},\"ticker\":{\"id\":\"655f2e22-8d81-4e38-96ad-b20c6f287ca3\",\"type\":\"BasicTicker\"}},\"id\":\"70106a76-bed0-4178-82a1-321bf39036b0\",\"type\":\"Grid\"},{\"attributes\":{\"formatter\":{\"id\":\"dbae7757-7e5a-461a-88bf-2b8d93984953\",\"type\":\"BasicTickFormatter\"},\"plot\":{\"id\":\"dfacc8ce-b42b-4dd1-a060-c0d00d87b4ff\",\"subtype\":\"Figure\",\"type\":\"Plot\"},\"ticker\":{\"id\":\"087dd333-03e8-40d8-b6f8-e69f3a989fcd\",\"type\":\"BasicTicker\"}},\"id\":\"1d591413-1b81-4c09-b5b9-f012ad5b5747\",\"type\":\"LinearAxis\"},{\"attributes\":{},\"id\":\"655f2e22-8d81-4e38-96ad-b20c6f287ca3\",\"type\":\"BasicTicker\"},{\"attributes\":{\"data_source\":{\"id\":\"1c5aed20-ba55-47b0-a1a8-819a810a2e9a\",\"type\":\"ColumnDataSource\"},\"glyph\":{\"id\":\"cd5ee481-cf44-474e-8edc-11a7176507e4\",\"type\":\"Circle\"},\"hover_glyph\":null,\"muted_glyph\":null,\"nonselection_glyph\":{\"id\":\"7b545a15-9384-457d-b452-65e8a3ee328c\",\"type\":\"Circle\"},\"selection_glyph\":null,\"view\":{\"id\":\"7a5a38e0-68b6-41f5-a008-35a4f027e6dd\",\"type\":\"CDSView\"}},\"id\":\"b12065c6-08f6-4534-85d7-e5333ab94558\",\"type\":\"GlyphRenderer\"},{\"attributes\":{\"bottom_units\":\"screen\",\"fill_alpha\":{\"value\":0.5},\"fill_color\":{\"value\":\"lightgrey\"},\"left_units\":\"screen\",\"level\":\"overlay\",\"line_alpha\":{\"value\":1.0},\"line_color\":{\"value\":\"black\"},\"line_dash\":[4,4],\"line_width\":{\"value\":2},\"plot\":null,\"render_mode\":\"css\",\"right_units\":\"screen\",\"top_units\":\"screen\"},\"id\":\"2017b4ab-91f5-4b3c-bc44-f270f66cd240\",\"type\":\"BoxAnnotation\"},{\"attributes\":{},\"id\":\"e084b459-9744-4f3d-99bf-0faf603cfff0\",\"type\":\"PanTool\"},{\"attributes\":{\"formatter\":{\"id\":\"f3e9c7ce-37c0-4e6e-8bb6-64b819a5ebaf\",\"type\":\"BasicTickFormatter\"},\"plot\":{\"id\":\"dfacc8ce-b42b-4dd1-a060-c0d00d87b4ff\",\"subtype\":\"Figure\",\"type\":\"Plot\"},\"ticker\":{\"id\":\"655f2e22-8d81-4e38-96ad-b20c6f287ca3\",\"type\":\"BasicTicker\"}},\"id\":\"65e659db-05bc-4bc7-b184-613c1a63108d\",\"type\":\"LinearAxis\"},{\"attributes\":{\"overlay\":{\"id\":\"2017b4ab-91f5-4b3c-bc44-f270f66cd240\",\"type\":\"BoxAnnotation\"}},\"id\":\"aa8ef842-8463-4740-949e-a5fd3c3286b5\",\"type\":\"BoxZoomTool\"},{\"attributes\":{},\"id\":\"f3e9c7ce-37c0-4e6e-8bb6-64b819a5ebaf\",\"type\":\"BasicTickFormatter\"},{\"attributes\":{},\"id\":\"2a8736b0-ab04-46d3-93ba-1c5e285eb983\",\"type\":\"WheelZoomTool\"},{\"attributes\":{\"fill_color\":{\"value\":\"#1f77b4\"},\"line_color\":{\"value\":\"#1f77b4\"},\"size\":{\"units\":\"screen\",\"value\":10},\"x\":{\"field\":\"x\"},\"y\":{\"field\":\"y\"}},\"id\":\"cd5ee481-cf44-474e-8edc-11a7176507e4\",\"type\":\"Circle\"},{\"attributes\":{},\"id\":\"ae287ccd-f82a-4b31-b15d-07d12222ba64\",\"type\":\"HelpTool\"},{\"attributes\":{\"dimension\":1,\"grid_line_alpha\":{\"value\":0.5},\"grid_line_dash\":[6,4],\"plot\":{\"id\":\"dfacc8ce-b42b-4dd1-a060-c0d00d87b4ff\",\"subtype\":\"Figure\",\"type\":\"Plot\"},\"ticker\":{\"id\":\"087dd333-03e8-40d8-b6f8-e69f3a989fcd\",\"type\":\"BasicTicker\"}},\"id\":\"1d65b899-a760-4730-8acf-68320440be25\",\"type\":\"Grid\"},{\"attributes\":{\"below\":[{\"id\":\"65e659db-05bc-4bc7-b184-613c1a63108d\",\"type\":\"LinearAxis\"}],\"left\":[{\"id\":\"1d591413-1b81-4c09-b5b9-f012ad5b5747\",\"type\":\"LinearAxis\"}],\"plot_height\":400,\"plot_width\":400,\"renderers\":[{\"id\":\"65e659db-05bc-4bc7-b184-613c1a63108d\",\"type\":\"LinearAxis\"},{\"id\":\"70106a76-bed0-4178-82a1-321bf39036b0\",\"type\":\"Grid\"},{\"id\":\"1d591413-1b81-4c09-b5b9-f012ad5b5747\",\"type\":\"LinearAxis\"},{\"id\":\"1d65b899-a760-4730-8acf-68320440be25\",\"type\":\"Grid\"},{\"id\":\"2017b4ab-91f5-4b3c-bc44-f270f66cd240\",\"type\":\"BoxAnnotation\"},{\"id\":\"b12065c6-08f6-4534-85d7-e5333ab94558\",\"type\":\"GlyphRenderer\"}],\"title\":{\"id\":\"ccb0200c-de78-440c-9c5d-77db444d1e3e\",\"type\":\"Title\"},\"toolbar\":{\"id\":\"e27ff958-0688-43eb-847e-e0942baa438c\",\"type\":\"Toolbar\"},\"x_range\":{\"id\":\"6e7cc5b2-7446-47cf-b6d1-04d98958419f\",\"type\":\"DataRange1d\"},\"x_scale\":{\"id\":\"5d9ab234-6403-4b2f-b966-1ef773cb4f2a\",\"type\":\"LinearScale\"},\"y_range\":{\"id\":\"97068fa5-d75c-433c-af01-72e960c4249e\",\"type\":\"DataRange1d\"},\"y_scale\":{\"id\":\"98f44b03-fc73-47b2-b88e-f9418ceee94b\",\"type\":\"LinearScale\"}},\"id\":\"dfacc8ce-b42b-4dd1-a060-c0d00d87b4ff\",\"subtype\":\"Figure\",\"type\":\"Plot\"},{\"attributes\":{},\"id\":\"087dd333-03e8-40d8-b6f8-e69f3a989fcd\",\"type\":\"BasicTicker\"},{\"attributes\":{\"plot\":null,\"text\":\"\"},\"id\":\"ccb0200c-de78-440c-9c5d-77db444d1e3e\",\"type\":\"Title\"},{\"attributes\":{},\"id\":\"55bb459c-9ace-4963-af67-78899923c15d\",\"type\":\"ResetTool\"},{\"attributes\":{\"fill_alpha\":{\"value\":0.1},\"fill_color\":{\"value\":\"#1f77b4\"},\"line_alpha\":{\"value\":0.1},\"line_color\":{\"value\":\"#1f77b4\"},\"size\":{\"units\":\"screen\",\"value\":10},\"x\":{\"field\":\"x\"},\"y\":{\"field\":\"y\"}},\"id\":\"7b545a15-9384-457d-b452-65e8a3ee328c\",\"type\":\"Circle\"},{\"attributes\":{},\"id\":\"f7bd324b-bb3e-403a-b551-3938341da50c\",\"type\":\"SaveTool\"},{\"attributes\":{\"callback\":null},\"id\":\"6e7cc5b2-7446-47cf-b6d1-04d98958419f\",\"type\":\"DataRange1d\"}],\"root_ids\":[\"dfacc8ce-b42b-4dd1-a060-c0d00d87b4ff\"]},\"title\":\"Bokeh Application\",\"version\":\"0.12.13\"}};\n",
       "  var render_items = [{\"docid\":\"f3cd5efd-388c-4ff8-810e-c59a4473fdac\",\"elementid\":\"b982b871-9e3e-4a0c-9231-317643f0cb32\",\"modelid\":\"dfacc8ce-b42b-4dd1-a060-c0d00d87b4ff\"}];\n",
       "  root.Bokeh.embed.embed_items_notebook(docs_json, render_items);\n",
       "\n",
       "  }\n",
       "  if (root.Bokeh !== undefined) {\n",
       "    embed_document(root);\n",
       "  } else {\n",
       "    var attempts = 0;\n",
       "    var timer = setInterval(function(root) {\n",
       "      if (root.Bokeh !== undefined) {\n",
       "        embed_document(root);\n",
       "        clearInterval(timer);\n",
       "      }\n",
       "      attempts++;\n",
       "      if (attempts > 100) {\n",
       "        console.log(\"Bokeh: ERROR: Unable to run BokehJS code because BokehJS library is missing\")\n",
       "        clearInterval(timer);\n",
       "      }\n",
       "    }, 10, root)\n",
       "  }\n",
       "})(window);"
      ],
      "application/vnd.bokehjs_exec.v0+json": ""
     },
     "metadata": {
      "application/vnd.bokehjs_exec.v0+json": {
       "id": "dfacc8ce-b42b-4dd1-a060-c0d00d87b4ff"
      }
     },
     "output_type": "display_data"
    }
   ],
   "source": [
    "# Lines\n",
    "\n",
    "p = figure(plot_width=400, plot_height=400)\n",
    "p.circle([1,2,3,4,5], [2,5,8,2,7], size=10)\n",
    "\n",
    "# change just some things about the x-grid\n",
    "p.xgrid.grid_line_color = None\n",
    "\n",
    "# change just some things about the y-grid\n",
    "p.ygrid.grid_line_alpha = 0.5\n",
    "p.ygrid.grid_line_dash = [6, 4]\n",
    "\n",
    "show(p)"
   ]
  },
  {
   "cell_type": "code",
   "execution_count": 35,
   "metadata": {},
   "outputs": [
    {
     "data": {
      "text/html": [
       "\n",
       "<div class=\"bk-root\">\n",
       "    <div class=\"bk-plotdiv\" id=\"ba6cfb4e-457c-4caf-ac9c-12af11409774\"></div>\n",
       "</div>"
      ]
     },
     "metadata": {},
     "output_type": "display_data"
    },
    {
     "data": {
      "application/javascript": [
       "(function(root) {\n",
       "  function embed_document(root) {\n",
       "    \n",
       "  var docs_json = {\"e82a9a63-c57c-498b-a8c7-f1fcce2735ac\":{\"roots\":{\"references\":[{\"attributes\":{\"bottom_units\":\"screen\",\"fill_alpha\":{\"value\":0.5},\"fill_color\":{\"value\":\"lightgrey\"},\"left_units\":\"screen\",\"level\":\"overlay\",\"line_alpha\":{\"value\":1.0},\"line_color\":{\"value\":\"black\"},\"line_dash\":[4,4],\"line_width\":{\"value\":2},\"plot\":null,\"render_mode\":\"css\",\"right_units\":\"screen\",\"top_units\":\"screen\"},\"id\":\"a62679f5-1c5e-4c84-823d-0962d0ea411a\",\"type\":\"BoxAnnotation\"},{\"attributes\":{},\"id\":\"d5769c7d-eb81-4d98-8a99-88e7e4bbf910\",\"type\":\"PanTool\"},{\"attributes\":{},\"id\":\"b1ab032c-c505-4fc0-bdfc-47fe2e0b5391\",\"type\":\"BasicTickFormatter\"},{\"attributes\":{},\"id\":\"cb5de752-7979-4f47-bc89-2d7374ea0097\",\"type\":\"LinearScale\"},{\"attributes\":{},\"id\":\"a2134dda-c8ab-430c-ba9c-349be3958fd2\",\"type\":\"WheelZoomTool\"},{\"attributes\":{\"overlay\":{\"id\":\"a62679f5-1c5e-4c84-823d-0962d0ea411a\",\"type\":\"BoxAnnotation\"}},\"id\":\"627d2367-5e21-4992-809b-f11b63eccf90\",\"type\":\"BoxZoomTool\"},{\"attributes\":{},\"id\":\"0190b8b6-16da-4d31-82dc-89a041ed0e04\",\"type\":\"SaveTool\"},{\"attributes\":{\"formatter\":{\"id\":\"71d2e25d-3d4a-439d-a907-bac5bcdcb24e\",\"type\":\"BasicTickFormatter\"},\"plot\":{\"id\":\"6a67ea61-7c23-4d37-b5d5-01e485e074c6\",\"subtype\":\"Figure\",\"type\":\"Plot\"},\"ticker\":{\"id\":\"ed2eb291-1064-487f-9e82-c8481a1e7e97\",\"type\":\"BasicTicker\"}},\"id\":\"cd46576f-dfc0-4368-90ab-fc5c1b98cae8\",\"type\":\"LinearAxis\"},{\"attributes\":{},\"id\":\"4e311c03-92d2-443e-af1f-bdb03803e0c4\",\"type\":\"ResetTool\"},{\"attributes\":{},\"id\":\"e6f71def-e58a-4955-a41f-80081ac3b09d\",\"type\":\"HelpTool\"},{\"attributes\":{\"callback\":null},\"id\":\"bedb10b3-5033-405b-a852-a835a6600347\",\"type\":\"DataRange1d\"},{\"attributes\":{},\"id\":\"78dbea36-0c60-4788-88b0-d9d1ecd1a363\",\"type\":\"LinearScale\"},{\"attributes\":{\"source\":{\"id\":\"69380d99-105c-42cb-9879-509ba55437ea\",\"type\":\"ColumnDataSource\"}},\"id\":\"e409b339-b32d-4602-a955-7b96fa026bb5\",\"type\":\"CDSView\"},{\"attributes\":{\"callback\":null},\"id\":\"02fa9245-b880-411a-b80f-073e3b85c08e\",\"type\":\"DataRange1d\"},{\"attributes\":{\"fill_alpha\":{\"value\":0.1},\"fill_color\":{\"value\":\"#1f77b4\"},\"line_alpha\":{\"value\":0.1},\"line_color\":{\"value\":\"#1f77b4\"},\"size\":{\"units\":\"screen\",\"value\":10},\"x\":{\"field\":\"x\"},\"y\":{\"field\":\"y\"}},\"id\":\"3a1a34b9-68af-4680-80ae-6eee51798438\",\"type\":\"Circle\"},{\"attributes\":{\"data_source\":{\"id\":\"69380d99-105c-42cb-9879-509ba55437ea\",\"type\":\"ColumnDataSource\"},\"glyph\":{\"id\":\"430697f6-f5aa-4469-90fe-508e208e4cea\",\"type\":\"Circle\"},\"hover_glyph\":null,\"muted_glyph\":null,\"nonselection_glyph\":{\"id\":\"3a1a34b9-68af-4680-80ae-6eee51798438\",\"type\":\"Circle\"},\"selection_glyph\":null,\"view\":{\"id\":\"e409b339-b32d-4602-a955-7b96fa026bb5\",\"type\":\"CDSView\"}},\"id\":\"8171a065-5970-4669-b390-5f87ce60353d\",\"type\":\"GlyphRenderer\"},{\"attributes\":{},\"id\":\"b7b10f3f-13fb-409d-a771-8943750b3268\",\"type\":\"BasicTicker\"},{\"attributes\":{},\"id\":\"71d2e25d-3d4a-439d-a907-bac5bcdcb24e\",\"type\":\"BasicTickFormatter\"},{\"attributes\":{\"below\":[{\"id\":\"cd46576f-dfc0-4368-90ab-fc5c1b98cae8\",\"type\":\"LinearAxis\"}],\"left\":[{\"id\":\"d2e8e976-e89b-4a18-9291-0ecf23551921\",\"type\":\"LinearAxis\"}],\"plot_height\":400,\"plot_width\":400,\"renderers\":[{\"id\":\"cd46576f-dfc0-4368-90ab-fc5c1b98cae8\",\"type\":\"LinearAxis\"},{\"id\":\"8ab4b86c-477b-4bdb-8821-40e7d4abf043\",\"type\":\"Grid\"},{\"id\":\"d2e8e976-e89b-4a18-9291-0ecf23551921\",\"type\":\"LinearAxis\"},{\"id\":\"4734cfe2-9db8-4593-ba42-63b8dd2763a4\",\"type\":\"Grid\"},{\"id\":\"a62679f5-1c5e-4c84-823d-0962d0ea411a\",\"type\":\"BoxAnnotation\"},{\"id\":\"8171a065-5970-4669-b390-5f87ce60353d\",\"type\":\"GlyphRenderer\"}],\"title\":{\"id\":\"f0f51b13-3200-40a6-b5dd-3fb5de9c100e\",\"type\":\"Title\"},\"toolbar\":{\"id\":\"8d3aedfa-3482-4e39-8aca-8453488611b6\",\"type\":\"Toolbar\"},\"x_range\":{\"id\":\"bedb10b3-5033-405b-a852-a835a6600347\",\"type\":\"DataRange1d\"},\"x_scale\":{\"id\":\"cb5de752-7979-4f47-bc89-2d7374ea0097\",\"type\":\"LinearScale\"},\"y_range\":{\"id\":\"02fa9245-b880-411a-b80f-073e3b85c08e\",\"type\":\"DataRange1d\"},\"y_scale\":{\"id\":\"78dbea36-0c60-4788-88b0-d9d1ecd1a363\",\"type\":\"LinearScale\"}},\"id\":\"6a67ea61-7c23-4d37-b5d5-01e485e074c6\",\"subtype\":\"Figure\",\"type\":\"Plot\"},{\"attributes\":{\"active_drag\":\"auto\",\"active_inspect\":\"auto\",\"active_scroll\":\"auto\",\"active_tap\":\"auto\",\"tools\":[{\"id\":\"d5769c7d-eb81-4d98-8a99-88e7e4bbf910\",\"type\":\"PanTool\"},{\"id\":\"a2134dda-c8ab-430c-ba9c-349be3958fd2\",\"type\":\"WheelZoomTool\"},{\"id\":\"627d2367-5e21-4992-809b-f11b63eccf90\",\"type\":\"BoxZoomTool\"},{\"id\":\"0190b8b6-16da-4d31-82dc-89a041ed0e04\",\"type\":\"SaveTool\"},{\"id\":\"4e311c03-92d2-443e-af1f-bdb03803e0c4\",\"type\":\"ResetTool\"},{\"id\":\"e6f71def-e58a-4955-a41f-80081ac3b09d\",\"type\":\"HelpTool\"}]},\"id\":\"8d3aedfa-3482-4e39-8aca-8453488611b6\",\"type\":\"Toolbar\"},{\"attributes\":{},\"id\":\"ed2eb291-1064-487f-9e82-c8481a1e7e97\",\"type\":\"BasicTicker\"},{\"attributes\":{\"dimension\":1,\"minor_grid_line_alpha\":{\"value\":0.1},\"minor_grid_line_color\":{\"value\":\"navy\"},\"plot\":{\"id\":\"6a67ea61-7c23-4d37-b5d5-01e485e074c6\",\"subtype\":\"Figure\",\"type\":\"Plot\"},\"ticker\":{\"id\":\"b7b10f3f-13fb-409d-a771-8943750b3268\",\"type\":\"BasicTicker\"}},\"id\":\"4734cfe2-9db8-4593-ba42-63b8dd2763a4\",\"type\":\"Grid\"},{\"attributes\":{\"fill_color\":{\"value\":\"#1f77b4\"},\"line_color\":{\"value\":\"#1f77b4\"},\"size\":{\"units\":\"screen\",\"value\":10},\"x\":{\"field\":\"x\"},\"y\":{\"field\":\"y\"}},\"id\":\"430697f6-f5aa-4469-90fe-508e208e4cea\",\"type\":\"Circle\"},{\"attributes\":{\"plot\":null,\"text\":\"\"},\"id\":\"f0f51b13-3200-40a6-b5dd-3fb5de9c100e\",\"type\":\"Title\"},{\"attributes\":{\"formatter\":{\"id\":\"b1ab032c-c505-4fc0-bdfc-47fe2e0b5391\",\"type\":\"BasicTickFormatter\"},\"plot\":{\"id\":\"6a67ea61-7c23-4d37-b5d5-01e485e074c6\",\"subtype\":\"Figure\",\"type\":\"Plot\"},\"ticker\":{\"id\":\"b7b10f3f-13fb-409d-a771-8943750b3268\",\"type\":\"BasicTicker\"}},\"id\":\"d2e8e976-e89b-4a18-9291-0ecf23551921\",\"type\":\"LinearAxis\"},{\"attributes\":{\"plot\":{\"id\":\"6a67ea61-7c23-4d37-b5d5-01e485e074c6\",\"subtype\":\"Figure\",\"type\":\"Plot\"},\"ticker\":{\"id\":\"ed2eb291-1064-487f-9e82-c8481a1e7e97\",\"type\":\"BasicTicker\"}},\"id\":\"8ab4b86c-477b-4bdb-8821-40e7d4abf043\",\"type\":\"Grid\"},{\"attributes\":{\"callback\":null,\"column_names\":[\"x\",\"y\"],\"data\":{\"x\":[1,2,3,4,5],\"y\":[2,5,8,2,7]}},\"id\":\"69380d99-105c-42cb-9879-509ba55437ea\",\"type\":\"ColumnDataSource\"}],\"root_ids\":[\"6a67ea61-7c23-4d37-b5d5-01e485e074c6\"]},\"title\":\"Bokeh Application\",\"version\":\"0.12.13\"}};\n",
       "  var render_items = [{\"docid\":\"e82a9a63-c57c-498b-a8c7-f1fcce2735ac\",\"elementid\":\"ba6cfb4e-457c-4caf-ac9c-12af11409774\",\"modelid\":\"6a67ea61-7c23-4d37-b5d5-01e485e074c6\"}];\n",
       "  root.Bokeh.embed.embed_items_notebook(docs_json, render_items);\n",
       "\n",
       "  }\n",
       "  if (root.Bokeh !== undefined) {\n",
       "    embed_document(root);\n",
       "  } else {\n",
       "    var attempts = 0;\n",
       "    var timer = setInterval(function(root) {\n",
       "      if (root.Bokeh !== undefined) {\n",
       "        embed_document(root);\n",
       "        clearInterval(timer);\n",
       "      }\n",
       "      attempts++;\n",
       "      if (attempts > 100) {\n",
       "        console.log(\"Bokeh: ERROR: Unable to run BokehJS code because BokehJS library is missing\")\n",
       "        clearInterval(timer);\n",
       "      }\n",
       "    }, 10, root)\n",
       "  }\n",
       "})(window);"
      ],
      "application/vnd.bokehjs_exec.v0+json": ""
     },
     "metadata": {
      "application/vnd.bokehjs_exec.v0+json": {
       "id": "6a67ea61-7c23-4d37-b5d5-01e485e074c6"
      }
     },
     "output_type": "display_data"
    }
   ],
   "source": [
    "# Minor Lines\n",
    "\n",
    "p = figure(plot_width=400, plot_height=400)\n",
    "p.circle([1,2,3,4,5], [2,5,8,2,7], size=10)\n",
    "\n",
    "# change just some things about the y-grid\n",
    "p.ygrid.minor_grid_line_color = 'navy'\n",
    "p.ygrid.minor_grid_line_alpha = 0.1\n",
    "\n",
    "show(p)"
   ]
  },
  {
   "cell_type": "code",
   "execution_count": 36,
   "metadata": {},
   "outputs": [
    {
     "data": {
      "text/html": [
       "\n",
       "<div class=\"bk-root\">\n",
       "    <div class=\"bk-plotdiv\" id=\"65d30794-a5cc-4cf5-a8a3-92f4778aa242\"></div>\n",
       "</div>"
      ]
     },
     "metadata": {},
     "output_type": "display_data"
    },
    {
     "data": {
      "application/javascript": [
       "(function(root) {\n",
       "  function embed_document(root) {\n",
       "    \n",
       "  var docs_json = {\"b51d4cb8-9658-4ea5-8d50-c6500a97fe2f\":{\"roots\":{\"references\":[{\"attributes\":{\"source\":{\"id\":\"4f41d24b-aba6-45c0-99cc-95fef8f73f81\",\"type\":\"ColumnDataSource\"}},\"id\":\"73c1f8e1-959e-48d7-bfb1-affef77296c4\",\"type\":\"CDSView\"},{\"attributes\":{\"fill_color\":{\"value\":\"#1f77b4\"},\"line_color\":{\"value\":\"#1f77b4\"},\"size\":{\"units\":\"screen\",\"value\":10},\"x\":{\"field\":\"x\"},\"y\":{\"field\":\"y\"}},\"id\":\"0fab4313-596e-4cca-81f3-fff2b4b068cb\",\"type\":\"Circle\"},{\"attributes\":{\"callback\":null,\"column_names\":[\"x\",\"y\"],\"data\":{\"x\":[1,2,3,4,5],\"y\":[2,5,8,2,7]}},\"id\":\"4f41d24b-aba6-45c0-99cc-95fef8f73f81\",\"type\":\"ColumnDataSource\"},{\"attributes\":{\"data_source\":{\"id\":\"4f41d24b-aba6-45c0-99cc-95fef8f73f81\",\"type\":\"ColumnDataSource\"},\"glyph\":{\"id\":\"0fab4313-596e-4cca-81f3-fff2b4b068cb\",\"type\":\"Circle\"},\"hover_glyph\":null,\"muted_glyph\":null,\"nonselection_glyph\":{\"id\":\"ee9d15ed-2bdb-46b6-b4ed-5d86c0d6e682\",\"type\":\"Circle\"},\"selection_glyph\":null,\"view\":{\"id\":\"73c1f8e1-959e-48d7-bfb1-affef77296c4\",\"type\":\"CDSView\"}},\"id\":\"fb1cd517-faea-4ab5-b847-1b2aa1b04eb3\",\"type\":\"GlyphRenderer\"},{\"attributes\":{\"below\":[{\"id\":\"a577e88f-1ca9-4aae-a48e-b44b69b4fb71\",\"type\":\"LinearAxis\"}],\"left\":[{\"id\":\"a4f9ade6-f3e2-4249-8904-33d724c05ad4\",\"type\":\"LinearAxis\"}],\"plot_height\":400,\"plot_width\":400,\"renderers\":[{\"id\":\"a577e88f-1ca9-4aae-a48e-b44b69b4fb71\",\"type\":\"LinearAxis\"},{\"id\":\"d139cb09-e0a7-4f11-88c3-8e543ecceaca\",\"type\":\"Grid\"},{\"id\":\"a4f9ade6-f3e2-4249-8904-33d724c05ad4\",\"type\":\"LinearAxis\"},{\"id\":\"08651340-dc0e-4088-a63a-b8f598acef16\",\"type\":\"Grid\"},{\"id\":\"75d2fb6e-0add-403a-bd47-dc770a56934e\",\"type\":\"BoxAnnotation\"},{\"id\":\"fb1cd517-faea-4ab5-b847-1b2aa1b04eb3\",\"type\":\"GlyphRenderer\"}],\"title\":{\"id\":\"7ce3f16f-1776-4dd5-9d49-82d8027db614\",\"type\":\"Title\"},\"toolbar\":{\"id\":\"61aea2d6-2ff3-4870-b1f4-e011ab24adc6\",\"type\":\"Toolbar\"},\"x_range\":{\"id\":\"f8c9ca01-1e56-4a30-94fd-919853092910\",\"type\":\"DataRange1d\"},\"x_scale\":{\"id\":\"4aa3a049-1cc7-43c2-ab11-f3141170f69e\",\"type\":\"LinearScale\"},\"y_range\":{\"id\":\"c4169822-daf0-4e9f-92c1-33c0532a5eee\",\"type\":\"DataRange1d\"},\"y_scale\":{\"id\":\"7dcf3b55-ed98-4b58-98f9-5d4c678e120d\",\"type\":\"LinearScale\"}},\"id\":\"fc781a89-2d21-4c7e-8955-dee4a778215b\",\"subtype\":\"Figure\",\"type\":\"Plot\"},{\"attributes\":{\"formatter\":{\"id\":\"09668192-1e71-4411-a07b-699a964382a4\",\"type\":\"BasicTickFormatter\"},\"plot\":{\"id\":\"fc781a89-2d21-4c7e-8955-dee4a778215b\",\"subtype\":\"Figure\",\"type\":\"Plot\"},\"ticker\":{\"id\":\"e968dae0-228e-4d7a-92f0-f312cb8aef3d\",\"type\":\"BasicTicker\"}},\"id\":\"a4f9ade6-f3e2-4249-8904-33d724c05ad4\",\"type\":\"LinearAxis\"},{\"attributes\":{},\"id\":\"09668192-1e71-4411-a07b-699a964382a4\",\"type\":\"BasicTickFormatter\"},{\"attributes\":{},\"id\":\"d0d0de4a-8ed2-4dd6-8a00-2a55e51e21a8\",\"type\":\"BasicTicker\"},{\"attributes\":{\"formatter\":{\"id\":\"0b0bd6da-1b83-4750-89c7-5760e377df5a\",\"type\":\"BasicTickFormatter\"},\"plot\":{\"id\":\"fc781a89-2d21-4c7e-8955-dee4a778215b\",\"subtype\":\"Figure\",\"type\":\"Plot\"},\"ticker\":{\"id\":\"d0d0de4a-8ed2-4dd6-8a00-2a55e51e21a8\",\"type\":\"BasicTicker\"}},\"id\":\"a577e88f-1ca9-4aae-a48e-b44b69b4fb71\",\"type\":\"LinearAxis\"},{\"attributes\":{},\"id\":\"4aa3a049-1cc7-43c2-ab11-f3141170f69e\",\"type\":\"LinearScale\"},{\"attributes\":{\"grid_line_color\":{\"value\":null},\"plot\":{\"id\":\"fc781a89-2d21-4c7e-8955-dee4a778215b\",\"subtype\":\"Figure\",\"type\":\"Plot\"},\"ticker\":{\"id\":\"d0d0de4a-8ed2-4dd6-8a00-2a55e51e21a8\",\"type\":\"BasicTicker\"}},\"id\":\"d139cb09-e0a7-4f11-88c3-8e543ecceaca\",\"type\":\"Grid\"},{\"attributes\":{\"callback\":null},\"id\":\"c4169822-daf0-4e9f-92c1-33c0532a5eee\",\"type\":\"DataRange1d\"},{\"attributes\":{},\"id\":\"7dcf3b55-ed98-4b58-98f9-5d4c678e120d\",\"type\":\"LinearScale\"},{\"attributes\":{\"fill_alpha\":{\"value\":0.1},\"fill_color\":{\"value\":\"#1f77b4\"},\"line_alpha\":{\"value\":0.1},\"line_color\":{\"value\":\"#1f77b4\"},\"size\":{\"units\":\"screen\",\"value\":10},\"x\":{\"field\":\"x\"},\"y\":{\"field\":\"y\"}},\"id\":\"ee9d15ed-2bdb-46b6-b4ed-5d86c0d6e682\",\"type\":\"Circle\"},{\"attributes\":{},\"id\":\"52313a5a-8e43-4a10-9ca1-b65c7a092643\",\"type\":\"HelpTool\"},{\"attributes\":{\"callback\":null},\"id\":\"f8c9ca01-1e56-4a30-94fd-919853092910\",\"type\":\"DataRange1d\"},{\"attributes\":{\"overlay\":{\"id\":\"75d2fb6e-0add-403a-bd47-dc770a56934e\",\"type\":\"BoxAnnotation\"}},\"id\":\"d473ccfa-df7f-410c-b61d-663788d52a07\",\"type\":\"BoxZoomTool\"},{\"attributes\":{\"band_fill_alpha\":{\"value\":0.1},\"band_fill_color\":{\"value\":\"navy\"},\"dimension\":1,\"plot\":{\"id\":\"fc781a89-2d21-4c7e-8955-dee4a778215b\",\"subtype\":\"Figure\",\"type\":\"Plot\"},\"ticker\":{\"id\":\"e968dae0-228e-4d7a-92f0-f312cb8aef3d\",\"type\":\"BasicTicker\"}},\"id\":\"08651340-dc0e-4088-a63a-b8f598acef16\",\"type\":\"Grid\"},{\"attributes\":{},\"id\":\"39dc5394-11e8-43ac-b126-887fb84b02c3\",\"type\":\"WheelZoomTool\"},{\"attributes\":{},\"id\":\"a631da7b-41c4-4799-9de2-8339daa0f5a4\",\"type\":\"PanTool\"},{\"attributes\":{},\"id\":\"22319b9a-50bd-433d-b0de-c7cd578372c3\",\"type\":\"ResetTool\"},{\"attributes\":{\"active_drag\":\"auto\",\"active_inspect\":\"auto\",\"active_scroll\":\"auto\",\"active_tap\":\"auto\",\"tools\":[{\"id\":\"a631da7b-41c4-4799-9de2-8339daa0f5a4\",\"type\":\"PanTool\"},{\"id\":\"39dc5394-11e8-43ac-b126-887fb84b02c3\",\"type\":\"WheelZoomTool\"},{\"id\":\"d473ccfa-df7f-410c-b61d-663788d52a07\",\"type\":\"BoxZoomTool\"},{\"id\":\"6ec3f980-c620-4dee-a566-951a1e107ddc\",\"type\":\"SaveTool\"},{\"id\":\"22319b9a-50bd-433d-b0de-c7cd578372c3\",\"type\":\"ResetTool\"},{\"id\":\"52313a5a-8e43-4a10-9ca1-b65c7a092643\",\"type\":\"HelpTool\"}]},\"id\":\"61aea2d6-2ff3-4870-b1f4-e011ab24adc6\",\"type\":\"Toolbar\"},{\"attributes\":{},\"id\":\"6ec3f980-c620-4dee-a566-951a1e107ddc\",\"type\":\"SaveTool\"},{\"attributes\":{},\"id\":\"0b0bd6da-1b83-4750-89c7-5760e377df5a\",\"type\":\"BasicTickFormatter\"},{\"attributes\":{},\"id\":\"e968dae0-228e-4d7a-92f0-f312cb8aef3d\",\"type\":\"BasicTicker\"},{\"attributes\":{\"plot\":null,\"text\":\"\"},\"id\":\"7ce3f16f-1776-4dd5-9d49-82d8027db614\",\"type\":\"Title\"},{\"attributes\":{\"bottom_units\":\"screen\",\"fill_alpha\":{\"value\":0.5},\"fill_color\":{\"value\":\"lightgrey\"},\"left_units\":\"screen\",\"level\":\"overlay\",\"line_alpha\":{\"value\":1.0},\"line_color\":{\"value\":\"black\"},\"line_dash\":[4,4],\"line_width\":{\"value\":2},\"plot\":null,\"render_mode\":\"css\",\"right_units\":\"screen\",\"top_units\":\"screen\"},\"id\":\"75d2fb6e-0add-403a-bd47-dc770a56934e\",\"type\":\"BoxAnnotation\"}],\"root_ids\":[\"fc781a89-2d21-4c7e-8955-dee4a778215b\"]},\"title\":\"Bokeh Application\",\"version\":\"0.12.13\"}};\n",
       "  var render_items = [{\"docid\":\"b51d4cb8-9658-4ea5-8d50-c6500a97fe2f\",\"elementid\":\"65d30794-a5cc-4cf5-a8a3-92f4778aa242\",\"modelid\":\"fc781a89-2d21-4c7e-8955-dee4a778215b\"}];\n",
       "  root.Bokeh.embed.embed_items_notebook(docs_json, render_items);\n",
       "\n",
       "  }\n",
       "  if (root.Bokeh !== undefined) {\n",
       "    embed_document(root);\n",
       "  } else {\n",
       "    var attempts = 0;\n",
       "    var timer = setInterval(function(root) {\n",
       "      if (root.Bokeh !== undefined) {\n",
       "        embed_document(root);\n",
       "        clearInterval(timer);\n",
       "      }\n",
       "      attempts++;\n",
       "      if (attempts > 100) {\n",
       "        console.log(\"Bokeh: ERROR: Unable to run BokehJS code because BokehJS library is missing\")\n",
       "        clearInterval(timer);\n",
       "      }\n",
       "    }, 10, root)\n",
       "  }\n",
       "})(window);"
      ],
      "application/vnd.bokehjs_exec.v0+json": ""
     },
     "metadata": {
      "application/vnd.bokehjs_exec.v0+json": {
       "id": "fc781a89-2d21-4c7e-8955-dee4a778215b"
      }
     },
     "output_type": "display_data"
    }
   ],
   "source": [
    "# Bands\n",
    "\n",
    "p = figure(plot_width=400, plot_height=400)\n",
    "p.circle([1,2,3,4,5], [2,5,8,2,7], size=10)\n",
    "\n",
    "# change just some things about the x-grid\n",
    "p.xgrid.grid_line_color = None\n",
    "\n",
    "# change just some things about the y-grid\n",
    "p.ygrid.band_fill_alpha = 0.1\n",
    "p.ygrid.band_fill_color = \"navy\"\n",
    "\n",
    "show(p)"
   ]
  },
  {
   "cell_type": "code",
   "execution_count": 37,
   "metadata": {},
   "outputs": [
    {
     "data": {
      "text/html": [
       "\n",
       "<div class=\"bk-root\">\n",
       "    <div class=\"bk-plotdiv\" id=\"12b1d812-4da2-4749-9621-f1c8f0d54dcb\"></div>\n",
       "</div>"
      ]
     },
     "metadata": {},
     "output_type": "display_data"
    },
    {
     "data": {
      "application/javascript": [
       "(function(root) {\n",
       "  function embed_document(root) {\n",
       "    \n",
       "  var docs_json = {\"a784e8fe-d1b2-4e91-a939-a0a9e9cf8400\":{\"roots\":{\"references\":[{\"attributes\":{\"active_drag\":\"auto\",\"active_inspect\":\"auto\",\"active_scroll\":\"auto\",\"active_tap\":\"auto\",\"tools\":[{\"id\":\"c7ece952-45b5-419a-aaf8-00d62f9cc2c6\",\"type\":\"PanTool\"},{\"id\":\"e95a5ec9-4b82-4c53-ad47-4795a334c11a\",\"type\":\"WheelZoomTool\"},{\"id\":\"cb16f84b-5a4b-4d53-aa03-d56da3df134e\",\"type\":\"BoxZoomTool\"},{\"id\":\"2677e376-2042-42f1-9f12-c92edbaaf121\",\"type\":\"SaveTool\"},{\"id\":\"04500c43-d9a5-40b4-b059-b5f988d578d6\",\"type\":\"ResetTool\"},{\"id\":\"7f58f8ae-8af0-47d6-8ff8-129212b3061b\",\"type\":\"HelpTool\"}]},\"id\":\"69a9cab9-4b8b-487c-8026-22d0a6efda99\",\"type\":\"Toolbar\"},{\"attributes\":{\"formatter\":{\"id\":\"44193f8c-49ca-42f5-86c5-57902e915a3c\",\"type\":\"BasicTickFormatter\"},\"plot\":{\"id\":\"05606d8e-7832-4314-bf92-45dccbf2daba\",\"subtype\":\"Figure\",\"type\":\"Plot\"},\"ticker\":{\"id\":\"c91df530-744f-459a-b0d4-7f4e5b2cfb72\",\"type\":\"BasicTicker\"}},\"id\":\"08fb0d94-c2be-46aa-87d1-88fcd8a23c61\",\"type\":\"LinearAxis\"},{\"attributes\":{},\"id\":\"d4b0d9b1-d22a-4c35-ba9a-b2cc3d969ac6\",\"type\":\"LinearScale\"},{\"attributes\":{},\"id\":\"04541375-e517-4f49-8420-6df19769ff74\",\"type\":\"BasicTicker\"},{\"attributes\":{},\"id\":\"5e002592-7a4d-48c1-8a21-b6c0d14bfbf6\",\"type\":\"BasicTickFormatter\"},{\"attributes\":{},\"id\":\"e95a5ec9-4b82-4c53-ad47-4795a334c11a\",\"type\":\"WheelZoomTool\"},{\"attributes\":{\"callback\":null},\"id\":\"923bb0b6-f7d6-404f-ad4e-5b05946e6b01\",\"type\":\"DataRange1d\"},{\"attributes\":{\"source\":{\"id\":\"75396480-1beb-4100-abe5-816256a84b66\",\"type\":\"ColumnDataSource\"}},\"id\":\"3d58030c-4c1a-49f6-b752-50039c75137a\",\"type\":\"CDSView\"},{\"attributes\":{\"bottom_units\":\"screen\",\"fill_alpha\":{\"value\":0.5},\"fill_color\":{\"value\":\"lightgrey\"},\"left_units\":\"screen\",\"level\":\"overlay\",\"line_alpha\":{\"value\":1.0},\"line_color\":{\"value\":\"black\"},\"line_dash\":[4,4],\"line_width\":{\"value\":2},\"plot\":null,\"render_mode\":\"css\",\"right_units\":\"screen\",\"top_units\":\"screen\"},\"id\":\"0ba0385d-d947-4191-94a3-39974ef582e2\",\"type\":\"BoxAnnotation\"},{\"attributes\":{\"data_source\":{\"id\":\"75396480-1beb-4100-abe5-816256a84b66\",\"type\":\"ColumnDataSource\"},\"glyph\":{\"id\":\"e69e62ae-7ba4-4373-b61d-373f84844a60\",\"type\":\"Circle\"},\"hover_glyph\":null,\"muted_glyph\":null,\"nonselection_glyph\":{\"id\":\"84b03903-6197-4b11-b15a-03c21ae34376\",\"type\":\"Circle\"},\"selection_glyph\":null,\"view\":{\"id\":\"3d58030c-4c1a-49f6-b752-50039c75137a\",\"type\":\"CDSView\"}},\"id\":\"8157b35b-74fb-4a43-9209-f53c34d040fb\",\"type\":\"GlyphRenderer\"},{\"attributes\":{\"fill_color\":{\"value\":\"#1f77b4\"},\"line_color\":{\"value\":\"#1f77b4\"},\"size\":{\"units\":\"screen\",\"value\":10},\"x\":{\"field\":\"x\"},\"y\":{\"field\":\"y\"}},\"id\":\"e69e62ae-7ba4-4373-b61d-373f84844a60\",\"type\":\"Circle\"},{\"attributes\":{},\"id\":\"04500c43-d9a5-40b4-b059-b5f988d578d6\",\"type\":\"ResetTool\"},{\"attributes\":{\"below\":[{\"id\":\"7bd9749f-c4d9-446b-863c-74fdd497a2b8\",\"type\":\"LinearAxis\"}],\"left\":[{\"id\":\"08fb0d94-c2be-46aa-87d1-88fcd8a23c61\",\"type\":\"LinearAxis\"}],\"plot_height\":400,\"plot_width\":400,\"renderers\":[{\"id\":\"7bd9749f-c4d9-446b-863c-74fdd497a2b8\",\"type\":\"LinearAxis\"},{\"id\":\"eb1392ea-a0a1-4b31-af9c-b4d8e859d3bd\",\"type\":\"Grid\"},{\"id\":\"08fb0d94-c2be-46aa-87d1-88fcd8a23c61\",\"type\":\"LinearAxis\"},{\"id\":\"3f94c33b-e7f2-42f1-b908-40b328e66532\",\"type\":\"Grid\"},{\"id\":\"0ba0385d-d947-4191-94a3-39974ef582e2\",\"type\":\"BoxAnnotation\"},{\"id\":\"8157b35b-74fb-4a43-9209-f53c34d040fb\",\"type\":\"GlyphRenderer\"}],\"title\":{\"id\":\"391b7425-f15a-463d-a5e2-5309e1b9723f\",\"type\":\"Title\"},\"toolbar\":{\"id\":\"69a9cab9-4b8b-487c-8026-22d0a6efda99\",\"type\":\"Toolbar\"},\"x_range\":{\"id\":\"7d314cf8-efae-4077-873f-40a312c2a243\",\"type\":\"DataRange1d\"},\"x_scale\":{\"id\":\"d4b0d9b1-d22a-4c35-ba9a-b2cc3d969ac6\",\"type\":\"LinearScale\"},\"y_range\":{\"id\":\"923bb0b6-f7d6-404f-ad4e-5b05946e6b01\",\"type\":\"DataRange1d\"},\"y_scale\":{\"id\":\"574d4770-f0ee-4c20-96c2-e823a32ad867\",\"type\":\"LinearScale\"}},\"id\":\"05606d8e-7832-4314-bf92-45dccbf2daba\",\"subtype\":\"Figure\",\"type\":\"Plot\"},{\"attributes\":{\"formatter\":{\"id\":\"5e002592-7a4d-48c1-8a21-b6c0d14bfbf6\",\"type\":\"BasicTickFormatter\"},\"plot\":{\"id\":\"05606d8e-7832-4314-bf92-45dccbf2daba\",\"subtype\":\"Figure\",\"type\":\"Plot\"},\"ticker\":{\"id\":\"04541375-e517-4f49-8420-6df19769ff74\",\"type\":\"BasicTicker\"}},\"id\":\"7bd9749f-c4d9-446b-863c-74fdd497a2b8\",\"type\":\"LinearAxis\"},{\"attributes\":{},\"id\":\"c91df530-744f-459a-b0d4-7f4e5b2cfb72\",\"type\":\"BasicTicker\"},{\"attributes\":{\"callback\":null},\"id\":\"7d314cf8-efae-4077-873f-40a312c2a243\",\"type\":\"DataRange1d\"},{\"attributes\":{},\"id\":\"7f58f8ae-8af0-47d6-8ff8-129212b3061b\",\"type\":\"HelpTool\"},{\"attributes\":{\"overlay\":{\"id\":\"0ba0385d-d947-4191-94a3-39974ef582e2\",\"type\":\"BoxAnnotation\"}},\"id\":\"cb16f84b-5a4b-4d53-aa03-d56da3df134e\",\"type\":\"BoxZoomTool\"},{\"attributes\":{\"plot\":null,\"text\":\"\"},\"id\":\"391b7425-f15a-463d-a5e2-5309e1b9723f\",\"type\":\"Title\"},{\"attributes\":{\"bounds\":[2,4],\"plot\":{\"id\":\"05606d8e-7832-4314-bf92-45dccbf2daba\",\"subtype\":\"Figure\",\"type\":\"Plot\"},\"ticker\":{\"id\":\"04541375-e517-4f49-8420-6df19769ff74\",\"type\":\"BasicTicker\"}},\"id\":\"eb1392ea-a0a1-4b31-af9c-b4d8e859d3bd\",\"type\":\"Grid\"},{\"attributes\":{\"fill_alpha\":{\"value\":0.1},\"fill_color\":{\"value\":\"#1f77b4\"},\"line_alpha\":{\"value\":0.1},\"line_color\":{\"value\":\"#1f77b4\"},\"size\":{\"units\":\"screen\",\"value\":10},\"x\":{\"field\":\"x\"},\"y\":{\"field\":\"y\"}},\"id\":\"84b03903-6197-4b11-b15a-03c21ae34376\",\"type\":\"Circle\"},{\"attributes\":{},\"id\":\"c7ece952-45b5-419a-aaf8-00d62f9cc2c6\",\"type\":\"PanTool\"},{\"attributes\":{},\"id\":\"574d4770-f0ee-4c20-96c2-e823a32ad867\",\"type\":\"LinearScale\"},{\"attributes\":{\"bounds\":[2,4],\"dimension\":1,\"plot\":{\"id\":\"05606d8e-7832-4314-bf92-45dccbf2daba\",\"subtype\":\"Figure\",\"type\":\"Plot\"},\"ticker\":{\"id\":\"c91df530-744f-459a-b0d4-7f4e5b2cfb72\",\"type\":\"BasicTicker\"}},\"id\":\"3f94c33b-e7f2-42f1-b908-40b328e66532\",\"type\":\"Grid\"},{\"attributes\":{\"callback\":null,\"column_names\":[\"x\",\"y\"],\"data\":{\"x\":[1,2,3,4,5],\"y\":[2,5,8,2,7]}},\"id\":\"75396480-1beb-4100-abe5-816256a84b66\",\"type\":\"ColumnDataSource\"},{\"attributes\":{},\"id\":\"44193f8c-49ca-42f5-86c5-57902e915a3c\",\"type\":\"BasicTickFormatter\"},{\"attributes\":{},\"id\":\"2677e376-2042-42f1-9f12-c92edbaaf121\",\"type\":\"SaveTool\"}],\"root_ids\":[\"05606d8e-7832-4314-bf92-45dccbf2daba\"]},\"title\":\"Bokeh Application\",\"version\":\"0.12.13\"}};\n",
       "  var render_items = [{\"docid\":\"a784e8fe-d1b2-4e91-a939-a0a9e9cf8400\",\"elementid\":\"12b1d812-4da2-4749-9621-f1c8f0d54dcb\",\"modelid\":\"05606d8e-7832-4314-bf92-45dccbf2daba\"}];\n",
       "  root.Bokeh.embed.embed_items_notebook(docs_json, render_items);\n",
       "\n",
       "  }\n",
       "  if (root.Bokeh !== undefined) {\n",
       "    embed_document(root);\n",
       "  } else {\n",
       "    var attempts = 0;\n",
       "    var timer = setInterval(function(root) {\n",
       "      if (root.Bokeh !== undefined) {\n",
       "        embed_document(root);\n",
       "        clearInterval(timer);\n",
       "      }\n",
       "      attempts++;\n",
       "      if (attempts > 100) {\n",
       "        console.log(\"Bokeh: ERROR: Unable to run BokehJS code because BokehJS library is missing\")\n",
       "        clearInterval(timer);\n",
       "      }\n",
       "    }, 10, root)\n",
       "  }\n",
       "})(window);"
      ],
      "application/vnd.bokehjs_exec.v0+json": ""
     },
     "metadata": {
      "application/vnd.bokehjs_exec.v0+json": {
       "id": "05606d8e-7832-4314-bf92-45dccbf2daba"
      }
     },
     "output_type": "display_data"
    }
   ],
   "source": [
    "# Bounds\n",
    "\n",
    "p = figure(plot_width=400, plot_height=400)\n",
    "p.circle([1,2,3,4,5], [2,5,8,2,7], size=10)\n",
    "\n",
    "p.grid.bounds = (2, 4)\n",
    "\n",
    "show(p)"
   ]
  },
  {
   "cell_type": "markdown",
   "metadata": {},
   "source": [
    "## Legends\n",
    "&emsp;&emsp;Values for location can be:\n",
    "- \"top_left\"\n",
    "- \"top_center\"\n",
    "- \"top_right\"(the default)\n",
    "- \"center_left\"\n",
    "- \"center\"\n",
    "- \"center_right\"\n",
    "- \"bottom_left\"\n",
    "- \"bottom_center\"\n",
    "- \"bottom_right\""
   ]
  },
  {
   "cell_type": "code",
   "execution_count": 38,
   "metadata": {},
   "outputs": [
    {
     "data": {
      "text/html": [
       "\n",
       "<div class=\"bk-root\">\n",
       "    <div class=\"bk-plotdiv\" id=\"5b2bd923-cf1c-43f9-a4f7-a1d089a01739\"></div>\n",
       "</div>"
      ]
     },
     "metadata": {},
     "output_type": "display_data"
    },
    {
     "data": {
      "application/javascript": [
       "(function(root) {\n",
       "  function embed_document(root) {\n",
       "    \n",
       "  var docs_json = {\"ae2f568a-bcd3-43a6-9f70-f68d41384c71\":{\"roots\":{\"references\":[{\"attributes\":{},\"id\":\"c2bfb7b5-1eac-4d0a-b7ce-d901a7d9f847\",\"type\":\"ResetTool\"},{\"attributes\":{\"bottom_units\":\"screen\",\"fill_alpha\":{\"value\":0.5},\"fill_color\":{\"value\":\"lightgrey\"},\"left_units\":\"screen\",\"level\":\"overlay\",\"line_alpha\":{\"value\":1.0},\"line_color\":{\"value\":\"black\"},\"line_dash\":[4,4],\"line_width\":{\"value\":2},\"plot\":null,\"render_mode\":\"css\",\"right_units\":\"screen\",\"top_units\":\"screen\"},\"id\":\"6ab5af73-2d0e-4612-addd-6f4c6c8a009c\",\"type\":\"BoxAnnotation\"},{\"attributes\":{\"label\":{\"value\":\"3*sin(x)\"},\"renderers\":[{\"id\":\"748739dc-ee4c-4019-a643-c1213d53e5aa\",\"type\":\"GlyphRenderer\"},{\"id\":\"ddbaf036-d8f9-41ce-98b5-11160470d70d\",\"type\":\"GlyphRenderer\"}]},\"id\":\"69305a08-cf0d-425b-be9c-85bd95246206\",\"type\":\"LegendItem\"},{\"attributes\":{},\"id\":\"887a7925-fec1-4d03-909c-9d9671ae3a45\",\"type\":\"HelpTool\"},{\"attributes\":{\"source\":{\"id\":\"1bf28581-4422-49b2-93f4-4cae1fdf02b3\",\"type\":\"ColumnDataSource\"}},\"id\":\"cd36d8a8-bad7-4be1-9308-80917db4a533\",\"type\":\"CDSView\"},{\"attributes\":{},\"id\":\"7e332bc2-3537-4408-b2f5-4f956c3f2c4e\",\"type\":\"BasicTickFormatter\"},{\"attributes\":{\"data_source\":{\"id\":\"1bf28581-4422-49b2-93f4-4cae1fdf02b3\",\"type\":\"ColumnDataSource\"},\"glyph\":{\"id\":\"843c4d21-ada3-40d3-86c7-8f82792ed7ee\",\"type\":\"Circle\"},\"hover_glyph\":null,\"muted_glyph\":null,\"nonselection_glyph\":{\"id\":\"4e21b8d5-c0f0-48c5-b665-7eac1ec3ecf8\",\"type\":\"Circle\"},\"selection_glyph\":null,\"view\":{\"id\":\"cd36d8a8-bad7-4be1-9308-80917db4a533\",\"type\":\"CDSView\"}},\"id\":\"2e77ca62-4cee-4539-9ebc-ce7590afd62f\",\"type\":\"GlyphRenderer\"},{\"attributes\":{},\"id\":\"0487d04e-fa60-4d9e-b7b1-65b02950e5d1\",\"type\":\"BasicTickFormatter\"},{\"attributes\":{\"label\":{\"value\":\"2*sin(x)\"},\"renderers\":[{\"id\":\"2f3821dc-ece3-4dda-b859-823b1b279d99\",\"type\":\"GlyphRenderer\"}]},\"id\":\"4da2f346-64d8-4878-a984-d95c43280e6e\",\"type\":\"LegendItem\"},{\"attributes\":{\"plot\":null,\"text\":\"\"},\"id\":\"feee185a-3703-4a16-8fa9-541d186e2285\",\"type\":\"Title\"},{\"attributes\":{\"label\":{\"value\":\"sin(x)\"},\"renderers\":[{\"id\":\"2e77ca62-4cee-4539-9ebc-ce7590afd62f\",\"type\":\"GlyphRenderer\"},{\"id\":\"ecf2dd7d-d3b7-4721-8c83-e4a8df6f0b7c\",\"type\":\"GlyphRenderer\"}]},\"id\":\"b5df956a-3afc-4a80-b02e-9fee44fdd3f9\",\"type\":\"LegendItem\"},{\"attributes\":{\"items\":[{\"id\":\"b5df956a-3afc-4a80-b02e-9fee44fdd3f9\",\"type\":\"LegendItem\"},{\"id\":\"4da2f346-64d8-4878-a984-d95c43280e6e\",\"type\":\"LegendItem\"},{\"id\":\"69305a08-cf0d-425b-be9c-85bd95246206\",\"type\":\"LegendItem\"}],\"location\":\"bottom_left\",\"plot\":{\"id\":\"d6769746-bac5-4d58-9c0a-dde0a574868f\",\"subtype\":\"Figure\",\"type\":\"Plot\"}},\"id\":\"1080b872-a20e-4f1f-8b6a-ea471a529fd4\",\"type\":\"Legend\"},{\"attributes\":{\"line_color\":\"orange\",\"line_dash\":[4,4],\"line_width\":2,\"x\":{\"field\":\"x\"},\"y\":{\"field\":\"y\"}},\"id\":\"55647d09-d120-475e-9ef4-1b844f5b7772\",\"type\":\"Line\"},{\"attributes\":{\"callback\":null,\"column_names\":[\"x\",\"y\"],\"data\":{\"x\":{\"__ndarray__\":\"AAAAAAAAAACRGkt8Vz/AP5EaS3xXP9A/2qdwOgNf2D+RGkt8Vz/gPzXhXVstT+Q/2qdwOgNf6D9+boMZ2W7sP5EaS3xXP/A/433Ua0JH8j814V1bLU/0P4dE50oYV/Y/2qdwOgNf+D8sC/op7mb6P35ugxnZbvw/0NEMCcR2/j+RGkt8Vz8AQDrMD/RMQwFA433Ua0JHAkCML5njN0sDQDXhXVstTwRA3pIi0yJTBUCHROdKGFcGQDD2q8INWwdA2qdwOgNfCECDWTWy+GIJQCwL+inuZgpA1by+oeNqC0B+boMZ2W4MQCcgSJHOcg1A0NEMCcR2DkB5g9GAuXoPQJEaS3xXPxBAZnMtOFLBEEA6zA/0TEMRQA8l8q9HxRFA433Ua0JHEkC41rYnPckSQIwvmeM3SxNAYYh7nzLNE0A14V1bLU8UQAo6QBco0RRA3pIi0yJTFUCz6wSPHdUVQIdE50oYVxZAXJ3JBhPZFkAw9qvCDVsXQAVPjn4I3RdA2qdwOgNfGECuAFP2/eAYQINZNbL4YhlAV7IXbvPkGUAsC/op7mYaQABk3OXo6BpA1by+oeNqG0CpFaFd3uwbQH5ugxnZbhxAUsdl1dPwHEAnIEiRznIdQPt4Kk3J9B1A0NEMCcR2HkCkKu/EvvgeQHmD0YC5eh9ATdyzPLT8H0CRGkt8Vz8gQPtGPNpUgCBAZnMtOFLBIEDQnx6WTwIhQDrMD/RMQyFApPgAUkqEIUAPJfKvR8UhQHlR4w1FBiJA433Ua0JHIkBNqsXJP4giQLjWtic9ySJAIgOohToKI0CML5njN0sjQPZbikE1jCNAYYh7nzLNI0DLtGz9Lw4kQDXhXVstTyRAoA1PuSqQJEAKOkAXKNEkQHRmMXUlEiVA3pIi0yJTJUBJvxMxIJQlQLPrBI8d1SVAHRj27BoWJkCHROdKGFcmQPJw2KgVmCZAXJ3JBhPZJkDGybpkEBonQDD2q8INWydAmyKdIAucJ0AFT45+CN0nQG97f9wFHihA2qdwOgNfKEBE1GGYAKAoQK4AU/b94ChAGC1EVPshKUA=\",\"dtype\":\"float64\",\"shape\":[100]},\"y\":{\"__ndarray__\":\"AAAAAAAAAADwgwJ4LjTAP5qI2QHPEtA/+5MNU1HJ1z8ZTT7q2B3fP0aFmgwa+eI/ABg/lCAV5j+IQCEcMdboP3fOhmLzMOs/EyzujrQb7T/9Izwlj47uPxccgYyLg+8/g6xao7j27z9mZrL8O+bvP7+X94FZUu8/xVNiW3I97j9RB8Ai+6vsP5FWKYlppOo/oSg6uxkv6D/Sh2bxK1blPyZGRbpaJeI/8qg+VZVT3T/4C4p0qOPVP+UppLIiM8w/3FNHxZdVuD/J23zJpD6gv+3ENsZjOcS/wo12/ecH0r/dgWKM2KjZv2MTsJELcOC/83ixWvXH47+358MBZM7mv5eCD4nhdum/rExY6Hq267+TIxAn7YPtvwSssILL1+6/70I4BJ6s77/vOc8G+P7vvzTGy1KGze+/3176khQZ77/C8a4NiuTtvzGcHq/dNOy/l0FFlgER6r+EGZN4xoHnvx8WPFK3keS/Cli7+O1M4b+HQNqEwoHbv9kfIiFb+NO/gKyggGI5yL8EhrXMjDywvyGGtcyMPLA/jqyggGI5yD/gHyIhW/jTP4BA2oTCgds/DVi7+O1M4T8cFjxSt5HkP4cZk3jGgec/lUFFlgER6j8ynB6v3TTsP8Hxrg2K5O0/4F76khQZ7z80xstShs3vP+85zwb4/u8/8EI4BJ6s7z8DrLCCy9fuP5UjECftg+0/p0xY6Hq26z+Vgg+J4XbpP7fnwwFkzuY/9nixWvXH4z9dE7CRC3DgP9eBYozYqNk/w412/ecH0j/+xDbGYznEP0/bfMmkPqA/+FNHxZdVuL/UKaSyIjPMv+gLinSo49W/+Kg+VZVT3b8lRkW6WiXiv8+HZvErVuW/pig6uxkv6L+TVimJaaTqv1EHwCL7q+y/xFNiW3I97r/Al/eBWVLvv2Zmsvw75u+/g6xao7j2778YHIGMi4Pvv/sjPCWPju6/EyzujrQb7b94zoZi8zDrv4xAIRwx1ui//Bc/lCAV5r9GhZoMGvnivx5NPurYHd+/65MNU1HJ17+SiNkBzxLQv/GDAnguNMC/B1wUMyamwbw=\",\"dtype\":\"float64\",\"shape\":[100]}}},\"id\":\"1bf28581-4422-49b2-93f4-4cae1fdf02b3\",\"type\":\"ColumnDataSource\"},{\"attributes\":{\"data_source\":{\"id\":\"aa517270-3e22-4a48-ba5f-4edeb61c5d46\",\"type\":\"ColumnDataSource\"},\"glyph\":{\"id\":\"aa9bd248-5f7a-4d23-a857-afe544c668ef\",\"type\":\"Line\"},\"hover_glyph\":null,\"muted_glyph\":null,\"nonselection_glyph\":{\"id\":\"fd30ae17-d830-43e1-a47d-40223d456fc8\",\"type\":\"Line\"},\"selection_glyph\":null,\"view\":{\"id\":\"871cefb6-063a-43d4-aae6-861a82eae419\",\"type\":\"CDSView\"}},\"id\":\"ecf2dd7d-d3b7-4721-8c83-e4a8df6f0b7c\",\"type\":\"GlyphRenderer\"},{\"attributes\":{\"below\":[{\"id\":\"9b38f4c6-c443-43e1-9af9-88bd01f46268\",\"type\":\"LinearAxis\"}],\"left\":[{\"id\":\"3a0c0149-b999-45e6-a297-520b089db8a3\",\"type\":\"LinearAxis\"}],\"renderers\":[{\"id\":\"9b38f4c6-c443-43e1-9af9-88bd01f46268\",\"type\":\"LinearAxis\"},{\"id\":\"01d30280-d588-4d14-baf4-48cc12089981\",\"type\":\"Grid\"},{\"id\":\"3a0c0149-b999-45e6-a297-520b089db8a3\",\"type\":\"LinearAxis\"},{\"id\":\"9e36fe00-0599-4df1-bb63-7766d49eb8b2\",\"type\":\"Grid\"},{\"id\":\"6ab5af73-2d0e-4612-addd-6f4c6c8a009c\",\"type\":\"BoxAnnotation\"},{\"id\":\"1080b872-a20e-4f1f-8b6a-ea471a529fd4\",\"type\":\"Legend\"},{\"id\":\"2e77ca62-4cee-4539-9ebc-ce7590afd62f\",\"type\":\"GlyphRenderer\"},{\"id\":\"ecf2dd7d-d3b7-4721-8c83-e4a8df6f0b7c\",\"type\":\"GlyphRenderer\"},{\"id\":\"2f3821dc-ece3-4dda-b859-823b1b279d99\",\"type\":\"GlyphRenderer\"},{\"id\":\"748739dc-ee4c-4019-a643-c1213d53e5aa\",\"type\":\"GlyphRenderer\"},{\"id\":\"ddbaf036-d8f9-41ce-98b5-11160470d70d\",\"type\":\"GlyphRenderer\"}],\"title\":{\"id\":\"feee185a-3703-4a16-8fa9-541d186e2285\",\"type\":\"Title\"},\"toolbar\":{\"id\":\"5ab041f9-dd0e-48a4-8d00-8f3b4d596690\",\"type\":\"Toolbar\"},\"x_range\":{\"id\":\"3ed51fe6-f791-4d3a-8e5a-7197970d4bcf\",\"type\":\"DataRange1d\"},\"x_scale\":{\"id\":\"8eaa2758-4259-4fff-abcf-11c835c39eb4\",\"type\":\"LinearScale\"},\"y_range\":{\"id\":\"90f4c595-f693-4771-9537-0fb4553ea198\",\"type\":\"DataRange1d\"},\"y_scale\":{\"id\":\"48e2abd5-36f4-463e-a5ff-b9a8a0163c86\",\"type\":\"LinearScale\"}},\"id\":\"d6769746-bac5-4d58-9c0a-dde0a574868f\",\"subtype\":\"Figure\",\"type\":\"Plot\"},{\"attributes\":{\"data_source\":{\"id\":\"5c35d624-4c49-4457-9132-bb73c0901566\",\"type\":\"ColumnDataSource\"},\"glyph\":{\"id\":\"460e733c-3e87-48c0-b98c-e5d0a7158ce7\",\"type\":\"Square\"},\"hover_glyph\":null,\"muted_glyph\":null,\"nonselection_glyph\":{\"id\":\"211617f4-5666-43be-a639-dfb3b1215c1a\",\"type\":\"Square\"},\"selection_glyph\":null,\"view\":{\"id\":\"c7afa24f-0382-4627-ad8b-16abcd01bbb9\",\"type\":\"CDSView\"}},\"id\":\"748739dc-ee4c-4019-a643-c1213d53e5aa\",\"type\":\"GlyphRenderer\"},{\"attributes\":{\"line_alpha\":0.1,\"line_color\":\"#1f77b4\",\"line_dash\":[4,4],\"line_width\":2,\"x\":{\"field\":\"x\"},\"y\":{\"field\":\"y\"}},\"id\":\"8f259f05-e3c2-4348-b6a9-7ad426f689ff\",\"type\":\"Line\"},{\"attributes\":{\"fill_alpha\":{\"value\":0.1},\"fill_color\":{\"value\":\"#1f77b4\"},\"line_alpha\":{\"value\":0.1},\"line_color\":{\"value\":\"#1f77b4\"},\"x\":{\"field\":\"x\"},\"y\":{\"field\":\"y\"}},\"id\":\"4e21b8d5-c0f0-48c5-b665-7eac1ec3ecf8\",\"type\":\"Circle\"},{\"attributes\":{\"callback\":null,\"column_names\":[\"x\",\"y\"],\"data\":{\"x\":{\"__ndarray__\":\"AAAAAAAAAACRGkt8Vz/AP5EaS3xXP9A/2qdwOgNf2D+RGkt8Vz/gPzXhXVstT+Q/2qdwOgNf6D9+boMZ2W7sP5EaS3xXP/A/433Ua0JH8j814V1bLU/0P4dE50oYV/Y/2qdwOgNf+D8sC/op7mb6P35ugxnZbvw/0NEMCcR2/j+RGkt8Vz8AQDrMD/RMQwFA433Ua0JHAkCML5njN0sDQDXhXVstTwRA3pIi0yJTBUCHROdKGFcGQDD2q8INWwdA2qdwOgNfCECDWTWy+GIJQCwL+inuZgpA1by+oeNqC0B+boMZ2W4MQCcgSJHOcg1A0NEMCcR2DkB5g9GAuXoPQJEaS3xXPxBAZnMtOFLBEEA6zA/0TEMRQA8l8q9HxRFA433Ua0JHEkC41rYnPckSQIwvmeM3SxNAYYh7nzLNE0A14V1bLU8UQAo6QBco0RRA3pIi0yJTFUCz6wSPHdUVQIdE50oYVxZAXJ3JBhPZFkAw9qvCDVsXQAVPjn4I3RdA2qdwOgNfGECuAFP2/eAYQINZNbL4YhlAV7IXbvPkGUAsC/op7mYaQABk3OXo6BpA1by+oeNqG0CpFaFd3uwbQH5ugxnZbhxAUsdl1dPwHEAnIEiRznIdQPt4Kk3J9B1A0NEMCcR2HkCkKu/EvvgeQHmD0YC5eh9ATdyzPLT8H0CRGkt8Vz8gQPtGPNpUgCBAZnMtOFLBIEDQnx6WTwIhQDrMD/RMQyFApPgAUkqEIUAPJfKvR8UhQHlR4w1FBiJA433Ua0JHIkBNqsXJP4giQLjWtic9ySJAIgOohToKI0CML5njN0sjQPZbikE1jCNAYYh7nzLNI0DLtGz9Lw4kQDXhXVstTyRAoA1PuSqQJEAKOkAXKNEkQHRmMXUlEiVA3pIi0yJTJUBJvxMxIJQlQLPrBI8d1SVAHRj27BoWJkCHROdKGFcmQPJw2KgVmCZAXJ3JBhPZJkDGybpkEBonQDD2q8INWydAmyKdIAucJ0AFT45+CN0nQG97f9wFHihA2qdwOgNfKEBE1GGYAKAoQK4AU/b94ChAGC1EVPshKUA=\",\"dtype\":\"float64\",\"shape\":[100]},\"y\":{\"__ndarray__\":\"AAAAAAAAAADoxQO0RU7YP+dMxoI2HOg//C5K/vzW8T/Tua6vYlb3P+nH5xKndfw/AFIvb9iPAEBm8BjVpKACQNka5Ym2ZARADqEya8fUBUD+Gu1b6+oGQBHVYKmoogdAYgGEegr5B0DMzIX9rOwHQM+xeSHDfQdA1L6JxBWuBkB9BRBa/IAFQO0A3yZP+wNAeZ5rTFMjAkDe5Qz1oAAAQDnpZxcIOPs/tv7u/6/+9T/6iGdXvmrwP2wf+wVaJuU/5X710zFA0j+uSTsu9124v2QnUqkVVt6/o9Qx/NsL679m4Ulpoj7zvxQdiFoRqPi/bDUKCPCr/b/J7VIByxoBwPGhyyYpGQPAgTlCLtzIBMCuGkzd8SIGwAOBBKLYIQfAMzIqg3bBB8BzaxsFOv8HwKfUGL4k2gfAJ8c7bs9SB8BSNUOKZ2sGwCX1VkOmJwXAMfGzMMGMA8AjU27aVKEBwC4hWvuS2v6/DwQZ9WTz+b9lsKPjUaH0v8Yvs7GI9O2/YIF44Akr4r8GSRAz01rIvzJJEDPTWsg/aoF44Akr4j/QL7OxiPTtP2Cwo+NRofQ/FAQZ9WTz+T8qIVr7ktr+PyVTbtpUoQFAMPGzMMGMA0Am9VZDpicFQFE1Q4pnawZAKMc7bs9SB0Cn1Bi+JNoHQHNrGwU6/wdANDIqg3bBB0ACgQSi2CEHQLAaTN3xIgZAfTlCLtzIBEDwocsmKRkDQMntUgHLGgFAcTUKCPCr/T8MHYhaEaj4P2HhSWmiPvM/pNQx/NsL6z99J1KpFVbeP/ZIOy73Xbg/+n710zFA0r9fH/sFWiblv+6IZ1e+avC/uv7u/6/+9b846WcXCDj7v9vlDPWgAADAfJ5rTFMjAsDuAN8mT/sDwH0FEFr8gAXA076JxBWuBsDQsXkhw30HwMzMhf2s7AfAYgGEegr5B8AS1WCpqKIHwPwa7Vvr6gbADqEya8fUBcDaGuWJtmQEwGnwGNWkoALA/VEvb9iPAMDpx+cSp3X8v9a5rq9iVve/8C5K/vzW8b/bTMaCNhzov+rFA7RFTti/CoqeTDl52rw=\",\"dtype\":\"float64\",\"shape\":[100]}}},\"id\":\"708bd46c-cba2-4621-8890-023e48190429\",\"type\":\"ColumnDataSource\"},{\"attributes\":{\"active_drag\":\"auto\",\"active_inspect\":\"auto\",\"active_scroll\":\"auto\",\"active_tap\":\"auto\",\"tools\":[{\"id\":\"0166f212-2211-4915-883a-f8dbbd4cd4ff\",\"type\":\"PanTool\"},{\"id\":\"bf25376b-146b-46ac-ad3c-6c6f06def63d\",\"type\":\"WheelZoomTool\"},{\"id\":\"3ffc2bbb-26f5-4e6d-bf1c-e7a1280b941d\",\"type\":\"BoxZoomTool\"},{\"id\":\"b0b3c483-593e-4822-b0e3-272920fee7e2\",\"type\":\"SaveTool\"},{\"id\":\"c2bfb7b5-1eac-4d0a-b7ce-d901a7d9f847\",\"type\":\"ResetTool\"},{\"id\":\"887a7925-fec1-4d03-909c-9d9671ae3a45\",\"type\":\"HelpTool\"}]},\"id\":\"5ab041f9-dd0e-48a4-8d00-8f3b4d596690\",\"type\":\"Toolbar\"},{\"attributes\":{\"line_alpha\":0.1,\"line_color\":\"#1f77b4\",\"x\":{\"field\":\"x\"},\"y\":{\"field\":\"y\"}},\"id\":\"fd30ae17-d830-43e1-a47d-40223d456fc8\",\"type\":\"Line\"},{\"attributes\":{\"callback\":null},\"id\":\"3ed51fe6-f791-4d3a-8e5a-7197970d4bcf\",\"type\":\"DataRange1d\"},{\"attributes\":{\"source\":{\"id\":\"aa517270-3e22-4a48-ba5f-4edeb61c5d46\",\"type\":\"ColumnDataSource\"}},\"id\":\"871cefb6-063a-43d4-aae6-861a82eae419\",\"type\":\"CDSView\"},{\"attributes\":{\"callback\":null,\"column_names\":[\"x\",\"y\"],\"data\":{\"x\":{\"__ndarray__\":\"AAAAAAAAAACRGkt8Vz/AP5EaS3xXP9A/2qdwOgNf2D+RGkt8Vz/gPzXhXVstT+Q/2qdwOgNf6D9+boMZ2W7sP5EaS3xXP/A/433Ua0JH8j814V1bLU/0P4dE50oYV/Y/2qdwOgNf+D8sC/op7mb6P35ugxnZbvw/0NEMCcR2/j+RGkt8Vz8AQDrMD/RMQwFA433Ua0JHAkCML5njN0sDQDXhXVstTwRA3pIi0yJTBUCHROdKGFcGQDD2q8INWwdA2qdwOgNfCECDWTWy+GIJQCwL+inuZgpA1by+oeNqC0B+boMZ2W4MQCcgSJHOcg1A0NEMCcR2DkB5g9GAuXoPQJEaS3xXPxBAZnMtOFLBEEA6zA/0TEMRQA8l8q9HxRFA433Ua0JHEkC41rYnPckSQIwvmeM3SxNAYYh7nzLNE0A14V1bLU8UQAo6QBco0RRA3pIi0yJTFUCz6wSPHdUVQIdE50oYVxZAXJ3JBhPZFkAw9qvCDVsXQAVPjn4I3RdA2qdwOgNfGECuAFP2/eAYQINZNbL4YhlAV7IXbvPkGUAsC/op7mYaQABk3OXo6BpA1by+oeNqG0CpFaFd3uwbQH5ugxnZbhxAUsdl1dPwHEAnIEiRznIdQPt4Kk3J9B1A0NEMCcR2HkCkKu/EvvgeQHmD0YC5eh9ATdyzPLT8H0CRGkt8Vz8gQPtGPNpUgCBAZnMtOFLBIEDQnx6WTwIhQDrMD/RMQyFApPgAUkqEIUAPJfKvR8UhQHlR4w1FBiJA433Ua0JHIkBNqsXJP4giQLjWtic9ySJAIgOohToKI0CML5njN0sjQPZbikE1jCNAYYh7nzLNI0DLtGz9Lw4kQDXhXVstTyRAoA1PuSqQJEAKOkAXKNEkQHRmMXUlEiVA3pIi0yJTJUBJvxMxIJQlQLPrBI8d1SVAHRj27BoWJkCHROdKGFcmQPJw2KgVmCZAXJ3JBhPZJkDGybpkEBonQDD2q8INWydAmyKdIAucJ0AFT45+CN0nQG97f9wFHihA2qdwOgNfKEBE1GGYAKAoQK4AU/b94ChAGC1EVPshKUA=\",\"dtype\":\"float64\",\"shape\":[100]},\"y\":{\"__ndarray__\":\"AAAAAAAAAADoxQO0RU7YP+dMxoI2HOg//C5K/vzW8T/Tua6vYlb3P+nH5xKndfw/AFIvb9iPAEBm8BjVpKACQNka5Ym2ZARADqEya8fUBUD+Gu1b6+oGQBHVYKmoogdAYgGEegr5B0DMzIX9rOwHQM+xeSHDfQdA1L6JxBWuBkB9BRBa/IAFQO0A3yZP+wNAeZ5rTFMjAkDe5Qz1oAAAQDnpZxcIOPs/tv7u/6/+9T/6iGdXvmrwP2wf+wVaJuU/5X710zFA0j+uSTsu9124v2QnUqkVVt6/o9Qx/NsL679m4Ulpoj7zvxQdiFoRqPi/bDUKCPCr/b/J7VIByxoBwPGhyyYpGQPAgTlCLtzIBMCuGkzd8SIGwAOBBKLYIQfAMzIqg3bBB8BzaxsFOv8HwKfUGL4k2gfAJ8c7bs9SB8BSNUOKZ2sGwCX1VkOmJwXAMfGzMMGMA8AjU27aVKEBwC4hWvuS2v6/DwQZ9WTz+b9lsKPjUaH0v8Yvs7GI9O2/YIF44Akr4r8GSRAz01rIvzJJEDPTWsg/aoF44Akr4j/QL7OxiPTtP2Cwo+NRofQ/FAQZ9WTz+T8qIVr7ktr+PyVTbtpUoQFAMPGzMMGMA0Am9VZDpicFQFE1Q4pnawZAKMc7bs9SB0Cn1Bi+JNoHQHNrGwU6/wdANDIqg3bBB0ACgQSi2CEHQLAaTN3xIgZAfTlCLtzIBEDwocsmKRkDQMntUgHLGgFAcTUKCPCr/T8MHYhaEaj4P2HhSWmiPvM/pNQx/NsL6z99J1KpFVbeP/ZIOy73Xbg/+n710zFA0r9fH/sFWiblv+6IZ1e+avC/uv7u/6/+9b846WcXCDj7v9vlDPWgAADAfJ5rTFMjAsDuAN8mT/sDwH0FEFr8gAXA076JxBWuBsDQsXkhw30HwMzMhf2s7AfAYgGEegr5B8AS1WCpqKIHwPwa7Vvr6gbADqEya8fUBcDaGuWJtmQEwGnwGNWkoALA/VEvb9iPAMDpx+cSp3X8v9a5rq9iVve/8C5K/vzW8b/bTMaCNhzov+rFA7RFTti/CoqeTDl52rw=\",\"dtype\":\"float64\",\"shape\":[100]}}},\"id\":\"5c35d624-4c49-4457-9132-bb73c0901566\",\"type\":\"ColumnDataSource\"},{\"attributes\":{\"fill_color\":{\"value\":null},\"line_color\":{\"value\":\"green\"},\"x\":{\"field\":\"x\"},\"y\":{\"field\":\"y\"}},\"id\":\"460e733c-3e87-48c0-b98c-e5d0a7158ce7\",\"type\":\"Square\"},{\"attributes\":{\"callback\":null},\"id\":\"90f4c595-f693-4771-9537-0fb4553ea198\",\"type\":\"DataRange1d\"},{\"attributes\":{\"data_source\":{\"id\":\"b1223447-8f10-4177-ab6c-251641a899ad\",\"type\":\"ColumnDataSource\"},\"glyph\":{\"id\":\"55647d09-d120-475e-9ef4-1b844f5b7772\",\"type\":\"Line\"},\"hover_glyph\":null,\"muted_glyph\":null,\"nonselection_glyph\":{\"id\":\"8f259f05-e3c2-4348-b6a9-7ad426f689ff\",\"type\":\"Line\"},\"selection_glyph\":null,\"view\":{\"id\":\"ac203d28-0bd1-440f-918e-5c8c21d65359\",\"type\":\"CDSView\"}},\"id\":\"2f3821dc-ece3-4dda-b859-823b1b279d99\",\"type\":\"GlyphRenderer\"},{\"attributes\":{},\"id\":\"8eaa2758-4259-4fff-abcf-11c835c39eb4\",\"type\":\"LinearScale\"},{\"attributes\":{\"source\":{\"id\":\"5c35d624-4c49-4457-9132-bb73c0901566\",\"type\":\"ColumnDataSource\"}},\"id\":\"c7afa24f-0382-4627-ad8b-16abcd01bbb9\",\"type\":\"CDSView\"},{\"attributes\":{},\"id\":\"48e2abd5-36f4-463e-a5ff-b9a8a0163c86\",\"type\":\"LinearScale\"},{\"attributes\":{\"source\":{\"id\":\"b1223447-8f10-4177-ab6c-251641a899ad\",\"type\":\"ColumnDataSource\"}},\"id\":\"ac203d28-0bd1-440f-918e-5c8c21d65359\",\"type\":\"CDSView\"},{\"attributes\":{\"plot\":{\"id\":\"d6769746-bac5-4d58-9c0a-dde0a574868f\",\"subtype\":\"Figure\",\"type\":\"Plot\"},\"ticker\":{\"id\":\"0245f081-c13a-46b8-bfc7-f2b83a6ed1fd\",\"type\":\"BasicTicker\"}},\"id\":\"01d30280-d588-4d14-baf4-48cc12089981\",\"type\":\"Grid\"},{\"attributes\":{\"data_source\":{\"id\":\"708bd46c-cba2-4621-8890-023e48190429\",\"type\":\"ColumnDataSource\"},\"glyph\":{\"id\":\"a4bfcbf4-f146-4de0-a267-7bb6478ed453\",\"type\":\"Line\"},\"hover_glyph\":null,\"muted_glyph\":null,\"nonselection_glyph\":{\"id\":\"9cb8f088-f23e-4aeb-a3bb-1d4451af82b5\",\"type\":\"Line\"},\"selection_glyph\":null,\"view\":{\"id\":\"4430ee77-d541-49a7-a5cb-ae8ffdc1e299\",\"type\":\"CDSView\"}},\"id\":\"ddbaf036-d8f9-41ce-98b5-11160470d70d\",\"type\":\"GlyphRenderer\"},{\"attributes\":{\"formatter\":{\"id\":\"0487d04e-fa60-4d9e-b7b1-65b02950e5d1\",\"type\":\"BasicTickFormatter\"},\"plot\":{\"id\":\"d6769746-bac5-4d58-9c0a-dde0a574868f\",\"subtype\":\"Figure\",\"type\":\"Plot\"},\"ticker\":{\"id\":\"0245f081-c13a-46b8-bfc7-f2b83a6ed1fd\",\"type\":\"BasicTicker\"}},\"id\":\"9b38f4c6-c443-43e1-9af9-88bd01f46268\",\"type\":\"LinearAxis\"},{\"attributes\":{},\"id\":\"0245f081-c13a-46b8-bfc7-f2b83a6ed1fd\",\"type\":\"BasicTicker\"},{\"attributes\":{\"fill_alpha\":{\"value\":0.1},\"fill_color\":{\"value\":\"#1f77b4\"},\"line_alpha\":{\"value\":0.1},\"line_color\":{\"value\":\"#1f77b4\"},\"x\":{\"field\":\"x\"},\"y\":{\"field\":\"y\"}},\"id\":\"211617f4-5666-43be-a639-dfb3b1215c1a\",\"type\":\"Square\"},{\"attributes\":{\"formatter\":{\"id\":\"7e332bc2-3537-4408-b2f5-4f956c3f2c4e\",\"type\":\"BasicTickFormatter\"},\"plot\":{\"id\":\"d6769746-bac5-4d58-9c0a-dde0a574868f\",\"subtype\":\"Figure\",\"type\":\"Plot\"},\"ticker\":{\"id\":\"be776c69-4a88-46b8-ab1c-f5789de71cdf\",\"type\":\"BasicTicker\"}},\"id\":\"3a0c0149-b999-45e6-a297-520b089db8a3\",\"type\":\"LinearAxis\"},{\"attributes\":{\"line_alpha\":0.1,\"line_color\":\"#1f77b4\",\"x\":{\"field\":\"x\"},\"y\":{\"field\":\"y\"}},\"id\":\"9cb8f088-f23e-4aeb-a3bb-1d4451af82b5\",\"type\":\"Line\"},{\"attributes\":{},\"id\":\"be776c69-4a88-46b8-ab1c-f5789de71cdf\",\"type\":\"BasicTicker\"},{\"attributes\":{\"line_color\":\"green\",\"x\":{\"field\":\"x\"},\"y\":{\"field\":\"y\"}},\"id\":\"a4bfcbf4-f146-4de0-a267-7bb6478ed453\",\"type\":\"Line\"},{\"attributes\":{\"dimension\":1,\"plot\":{\"id\":\"d6769746-bac5-4d58-9c0a-dde0a574868f\",\"subtype\":\"Figure\",\"type\":\"Plot\"},\"ticker\":{\"id\":\"be776c69-4a88-46b8-ab1c-f5789de71cdf\",\"type\":\"BasicTicker\"}},\"id\":\"9e36fe00-0599-4df1-bb63-7766d49eb8b2\",\"type\":\"Grid\"},{\"attributes\":{\"fill_color\":{\"value\":\"#1f77b4\"},\"line_color\":{\"value\":\"#1f77b4\"},\"x\":{\"field\":\"x\"},\"y\":{\"field\":\"y\"}},\"id\":\"843c4d21-ada3-40d3-86c7-8f82792ed7ee\",\"type\":\"Circle\"},{\"attributes\":{\"source\":{\"id\":\"708bd46c-cba2-4621-8890-023e48190429\",\"type\":\"ColumnDataSource\"}},\"id\":\"4430ee77-d541-49a7-a5cb-ae8ffdc1e299\",\"type\":\"CDSView\"},{\"attributes\":{\"callback\":null,\"column_names\":[\"x\",\"y\"],\"data\":{\"x\":{\"__ndarray__\":\"AAAAAAAAAACRGkt8Vz/AP5EaS3xXP9A/2qdwOgNf2D+RGkt8Vz/gPzXhXVstT+Q/2qdwOgNf6D9+boMZ2W7sP5EaS3xXP/A/433Ua0JH8j814V1bLU/0P4dE50oYV/Y/2qdwOgNf+D8sC/op7mb6P35ugxnZbvw/0NEMCcR2/j+RGkt8Vz8AQDrMD/RMQwFA433Ua0JHAkCML5njN0sDQDXhXVstTwRA3pIi0yJTBUCHROdKGFcGQDD2q8INWwdA2qdwOgNfCECDWTWy+GIJQCwL+inuZgpA1by+oeNqC0B+boMZ2W4MQCcgSJHOcg1A0NEMCcR2DkB5g9GAuXoPQJEaS3xXPxBAZnMtOFLBEEA6zA/0TEMRQA8l8q9HxRFA433Ua0JHEkC41rYnPckSQIwvmeM3SxNAYYh7nzLNE0A14V1bLU8UQAo6QBco0RRA3pIi0yJTFUCz6wSPHdUVQIdE50oYVxZAXJ3JBhPZFkAw9qvCDVsXQAVPjn4I3RdA2qdwOgNfGECuAFP2/eAYQINZNbL4YhlAV7IXbvPkGUAsC/op7mYaQABk3OXo6BpA1by+oeNqG0CpFaFd3uwbQH5ugxnZbhxAUsdl1dPwHEAnIEiRznIdQPt4Kk3J9B1A0NEMCcR2HkCkKu/EvvgeQHmD0YC5eh9ATdyzPLT8H0CRGkt8Vz8gQPtGPNpUgCBAZnMtOFLBIEDQnx6WTwIhQDrMD/RMQyFApPgAUkqEIUAPJfKvR8UhQHlR4w1FBiJA433Ua0JHIkBNqsXJP4giQLjWtic9ySJAIgOohToKI0CML5njN0sjQPZbikE1jCNAYYh7nzLNI0DLtGz9Lw4kQDXhXVstTyRAoA1PuSqQJEAKOkAXKNEkQHRmMXUlEiVA3pIi0yJTJUBJvxMxIJQlQLPrBI8d1SVAHRj27BoWJkCHROdKGFcmQPJw2KgVmCZAXJ3JBhPZJkDGybpkEBonQDD2q8INWydAmyKdIAucJ0AFT45+CN0nQG97f9wFHihA2qdwOgNfKEBE1GGYAKAoQK4AU/b94ChAGC1EVPshKUA=\",\"dtype\":\"float64\",\"shape\":[100]},\"y\":{\"__ndarray__\":\"AAAAAAAAAADwgwJ4LjTAP5qI2QHPEtA/+5MNU1HJ1z8ZTT7q2B3fP0aFmgwa+eI/ABg/lCAV5j+IQCEcMdboP3fOhmLzMOs/EyzujrQb7T/9Izwlj47uPxccgYyLg+8/g6xao7j27z9mZrL8O+bvP7+X94FZUu8/xVNiW3I97j9RB8Ai+6vsP5FWKYlppOo/oSg6uxkv6D/Sh2bxK1blPyZGRbpaJeI/8qg+VZVT3T/4C4p0qOPVP+UppLIiM8w/3FNHxZdVuD/J23zJpD6gv+3ENsZjOcS/wo12/ecH0r/dgWKM2KjZv2MTsJELcOC/83ixWvXH47+358MBZM7mv5eCD4nhdum/rExY6Hq267+TIxAn7YPtvwSssILL1+6/70I4BJ6s77/vOc8G+P7vvzTGy1KGze+/3176khQZ77/C8a4NiuTtvzGcHq/dNOy/l0FFlgER6r+EGZN4xoHnvx8WPFK3keS/Cli7+O1M4b+HQNqEwoHbv9kfIiFb+NO/gKyggGI5yL8EhrXMjDywvyGGtcyMPLA/jqyggGI5yD/gHyIhW/jTP4BA2oTCgds/DVi7+O1M4T8cFjxSt5HkP4cZk3jGgec/lUFFlgER6j8ynB6v3TTsP8Hxrg2K5O0/4F76khQZ7z80xstShs3vP+85zwb4/u8/8EI4BJ6s7z8DrLCCy9fuP5UjECftg+0/p0xY6Hq26z+Vgg+J4XbpP7fnwwFkzuY/9nixWvXH4z9dE7CRC3DgP9eBYozYqNk/w412/ecH0j/+xDbGYznEP0/bfMmkPqA/+FNHxZdVuL/UKaSyIjPMv+gLinSo49W/+Kg+VZVT3b8lRkW6WiXiv8+HZvErVuW/pig6uxkv6L+TVimJaaTqv1EHwCL7q+y/xFNiW3I97r/Al/eBWVLvv2Zmsvw75u+/g6xao7j2778YHIGMi4Pvv/sjPCWPju6/EyzujrQb7b94zoZi8zDrv4xAIRwx1ui//Bc/lCAV5r9GhZoMGvnivx5NPurYHd+/65MNU1HJ17+SiNkBzxLQv/GDAnguNMC/B1wUMyamwbw=\",\"dtype\":\"float64\",\"shape\":[100]}}},\"id\":\"aa517270-3e22-4a48-ba5f-4edeb61c5d46\",\"type\":\"ColumnDataSource\"},{\"attributes\":{\"line_color\":\"#1f77b4\",\"x\":{\"field\":\"x\"},\"y\":{\"field\":\"y\"}},\"id\":\"aa9bd248-5f7a-4d23-a857-afe544c668ef\",\"type\":\"Line\"},{\"attributes\":{\"callback\":null,\"column_names\":[\"x\",\"y\"],\"data\":{\"x\":{\"__ndarray__\":\"AAAAAAAAAACRGkt8Vz/AP5EaS3xXP9A/2qdwOgNf2D+RGkt8Vz/gPzXhXVstT+Q/2qdwOgNf6D9+boMZ2W7sP5EaS3xXP/A/433Ua0JH8j814V1bLU/0P4dE50oYV/Y/2qdwOgNf+D8sC/op7mb6P35ugxnZbvw/0NEMCcR2/j+RGkt8Vz8AQDrMD/RMQwFA433Ua0JHAkCML5njN0sDQDXhXVstTwRA3pIi0yJTBUCHROdKGFcGQDD2q8INWwdA2qdwOgNfCECDWTWy+GIJQCwL+inuZgpA1by+oeNqC0B+boMZ2W4MQCcgSJHOcg1A0NEMCcR2DkB5g9GAuXoPQJEaS3xXPxBAZnMtOFLBEEA6zA/0TEMRQA8l8q9HxRFA433Ua0JHEkC41rYnPckSQIwvmeM3SxNAYYh7nzLNE0A14V1bLU8UQAo6QBco0RRA3pIi0yJTFUCz6wSPHdUVQIdE50oYVxZAXJ3JBhPZFkAw9qvCDVsXQAVPjn4I3RdA2qdwOgNfGECuAFP2/eAYQINZNbL4YhlAV7IXbvPkGUAsC/op7mYaQABk3OXo6BpA1by+oeNqG0CpFaFd3uwbQH5ugxnZbhxAUsdl1dPwHEAnIEiRznIdQPt4Kk3J9B1A0NEMCcR2HkCkKu/EvvgeQHmD0YC5eh9ATdyzPLT8H0CRGkt8Vz8gQPtGPNpUgCBAZnMtOFLBIEDQnx6WTwIhQDrMD/RMQyFApPgAUkqEIUAPJfKvR8UhQHlR4w1FBiJA433Ua0JHIkBNqsXJP4giQLjWtic9ySJAIgOohToKI0CML5njN0sjQPZbikE1jCNAYYh7nzLNI0DLtGz9Lw4kQDXhXVstTyRAoA1PuSqQJEAKOkAXKNEkQHRmMXUlEiVA3pIi0yJTJUBJvxMxIJQlQLPrBI8d1SVAHRj27BoWJkCHROdKGFcmQPJw2KgVmCZAXJ3JBhPZJkDGybpkEBonQDD2q8INWydAmyKdIAucJ0AFT45+CN0nQG97f9wFHihA2qdwOgNfKEBE1GGYAKAoQK4AU/b94ChAGC1EVPshKUA=\",\"dtype\":\"float64\",\"shape\":[100]},\"y\":{\"__ndarray__\":\"AAAAAAAAAADwgwJ4LjTQP5qI2QHPEuA/+5MNU1HJ5z8ZTT7q2B3vP0aFmgwa+fI/ABg/lCAV9j+IQCEcMdb4P3fOhmLzMPs/EyzujrQb/T/9Izwlj47+PxccgYyLg/8/g6xao7j2/z9mZrL8O+b/P7+X94FZUv8/xVNiW3I9/j9RB8Ai+6v8P5FWKYlppPo/oSg6uxkv+D/Sh2bxK1b1PyZGRbpaJfI/8qg+VZVT7T/4C4p0qOPlP+UppLIiM9w/3FNHxZdVyD/J23zJpD6wv+3ENsZjOdS/wo12/ecH4r/dgWKM2Kjpv2MTsJELcPC/83ixWvXH87+358MBZM72v5eCD4nhdvm/rExY6Hq2+7+TIxAn7YP9vwSssILL1/6/70I4BJ6s/7/vOc8G+P7/vzTGy1KGzf+/3176khQZ/7/C8a4NiuT9vzGcHq/dNPy/l0FFlgER+r+EGZN4xoH3vx8WPFK3kfS/Cli7+O1M8b+HQNqEwoHrv9kfIiFb+OO/gKyggGI52L8EhrXMjDzAvyGGtcyMPMA/jqyggGI52D/gHyIhW/jjP4BA2oTCges/DVi7+O1M8T8cFjxSt5H0P4cZk3jGgfc/lUFFlgER+j8ynB6v3TT8P8Hxrg2K5P0/4F76khQZ/z80xstShs3/P+85zwb4/v8/8EI4BJ6s/z8DrLCCy9f+P5UjECftg/0/p0xY6Hq2+z+Vgg+J4Xb5P7fnwwFkzvY/9nixWvXH8z9dE7CRC3DwP9eBYozYqOk/w412/ecH4j/+xDbGYznUP0/bfMmkPrA/+FNHxZdVyL/UKaSyIjPcv+gLinSo4+W/+Kg+VZVT7b8lRkW6WiXyv8+HZvErVvW/pig6uxkv+L+TVimJaaT6v1EHwCL7q/y/xFNiW3I9/r/Al/eBWVL/v2Zmsvw75v+/g6xao7j2/78YHIGMi4P/v/sjPCWPjv6/EyzujrQb/b94zoZi8zD7v4xAIRwx1vi//Bc/lCAV9r9GhZoMGvnyvx5NPurYHe+/65MNU1HJ57+SiNkBzxLgv/GDAnguNNC/B1wUMyam0bw=\",\"dtype\":\"float64\",\"shape\":[100]}}},\"id\":\"b1223447-8f10-4177-ab6c-251641a899ad\",\"type\":\"ColumnDataSource\"},{\"attributes\":{},\"id\":\"0166f212-2211-4915-883a-f8dbbd4cd4ff\",\"type\":\"PanTool\"},{\"attributes\":{},\"id\":\"b0b3c483-593e-4822-b0e3-272920fee7e2\",\"type\":\"SaveTool\"},{\"attributes\":{},\"id\":\"bf25376b-146b-46ac-ad3c-6c6f06def63d\",\"type\":\"WheelZoomTool\"},{\"attributes\":{\"overlay\":{\"id\":\"6ab5af73-2d0e-4612-addd-6f4c6c8a009c\",\"type\":\"BoxAnnotation\"}},\"id\":\"3ffc2bbb-26f5-4e6d-bf1c-e7a1280b941d\",\"type\":\"BoxZoomTool\"}],\"root_ids\":[\"d6769746-bac5-4d58-9c0a-dde0a574868f\"]},\"title\":\"Bokeh Application\",\"version\":\"0.12.13\"}};\n",
       "  var render_items = [{\"docid\":\"ae2f568a-bcd3-43a6-9f70-f68d41384c71\",\"elementid\":\"5b2bd923-cf1c-43f9-a4f7-a1d089a01739\",\"modelid\":\"d6769746-bac5-4d58-9c0a-dde0a574868f\"}];\n",
       "  root.Bokeh.embed.embed_items_notebook(docs_json, render_items);\n",
       "\n",
       "  }\n",
       "  if (root.Bokeh !== undefined) {\n",
       "    embed_document(root);\n",
       "  } else {\n",
       "    var attempts = 0;\n",
       "    var timer = setInterval(function(root) {\n",
       "      if (root.Bokeh !== undefined) {\n",
       "        embed_document(root);\n",
       "        clearInterval(timer);\n",
       "      }\n",
       "      attempts++;\n",
       "      if (attempts > 100) {\n",
       "        console.log(\"Bokeh: ERROR: Unable to run BokehJS code because BokehJS library is missing\")\n",
       "        clearInterval(timer);\n",
       "      }\n",
       "    }, 10, root)\n",
       "  }\n",
       "})(window);"
      ],
      "application/vnd.bokehjs_exec.v0+json": ""
     },
     "metadata": {
      "application/vnd.bokehjs_exec.v0+json": {
       "id": "d6769746-bac5-4d58-9c0a-dde0a574868f"
      }
     },
     "output_type": "display_data"
    }
   ],
   "source": [
    "# Inside the Plot Area\n",
    "\n",
    "x = np.linspace(0, 4*np.pi, 100)\n",
    "y = np.sin(x)\n",
    "\n",
    "p = figure()\n",
    "\n",
    "p.circle(x, y, legend=\"sin(x)\")\n",
    "p.line(x, y, legend=\"sin(x)\")\n",
    "\n",
    "p.line(x, 2*y, legend=\"2*sin(x)\",\n",
    "       line_dash=[4, 4], line_color=\"orange\", line_width=2)\n",
    "\n",
    "p.square(x, 3*y, legend=\"3*sin(x)\", fill_color=None, line_color=\"green\")\n",
    "p.line(x, 3*y, legend=\"3*sin(x)\", line_color=\"green\")\n",
    "\n",
    "p.legend.location = \"bottom_left\"\n",
    "\n",
    "show(p)"
   ]
  },
  {
   "cell_type": "code",
   "execution_count": 39,
   "metadata": {},
   "outputs": [
    {
     "data": {
      "text/html": [
       "\n",
       "<div class=\"bk-root\">\n",
       "    <div class=\"bk-plotdiv\" id=\"891c705f-3f7f-4bfa-b28b-12f3ebfe1d55\"></div>\n",
       "</div>"
      ]
     },
     "metadata": {},
     "output_type": "display_data"
    },
    {
     "data": {
      "application/javascript": [
       "(function(root) {\n",
       "  function embed_document(root) {\n",
       "    \n",
       "  var docs_json = {\"01d49739-1cff-4a7b-8e0d-86f7555c959d\":{\"roots\":{\"references\":[{\"attributes\":{\"source\":{\"id\":\"3dd1ba6a-6d01-4463-b02c-2ebb20c0365c\",\"type\":\"ColumnDataSource\"}},\"id\":\"722cfc2d-29a9-4692-b1bc-f653aa0171ad\",\"type\":\"CDSView\"},{\"attributes\":{\"fill_color\":{\"value\":\"#1f77b4\"},\"line_color\":{\"value\":\"#1f77b4\"},\"x\":{\"field\":\"x\"},\"y\":{\"field\":\"y\"}},\"id\":\"919ea0d4-3fbe-4893-8625-5337e06e7f06\",\"type\":\"Circle\"},{\"attributes\":{\"fill_alpha\":{\"value\":0.1},\"fill_color\":{\"value\":\"#1f77b4\"},\"line_alpha\":{\"value\":0.1},\"line_color\":{\"value\":\"#1f77b4\"},\"x\":{\"field\":\"x\"},\"y\":{\"field\":\"y\"}},\"id\":\"5097a20e-14a8-48d3-800a-4cb5c3b3fbd7\",\"type\":\"Circle\"},{\"attributes\":{},\"id\":\"41512bdd-56a9-4162-9c50-2862b10082a0\",\"type\":\"BasicTickFormatter\"},{\"attributes\":{\"line_alpha\":0.1,\"line_color\":\"#1f77b4\",\"x\":{\"field\":\"x\"},\"y\":{\"field\":\"y\"}},\"id\":\"c82dbdc4-d203-427a-a7f0-b065bd5aadb1\",\"type\":\"Line\"},{\"attributes\":{\"data_source\":{\"id\":\"b10e2074-efb7-431f-81ed-99db289b925b\",\"type\":\"ColumnDataSource\"},\"glyph\":{\"id\":\"872748ec-8a2d-4b0f-948a-ddd80f613f91\",\"type\":\"Line\"},\"hover_glyph\":null,\"muted_glyph\":null,\"nonselection_glyph\":{\"id\":\"2157e8ef-8bff-4906-9213-0b2f23f16fce\",\"type\":\"Line\"},\"selection_glyph\":null,\"view\":{\"id\":\"5842c0e0-3622-4fd1-9ed9-18affbed92e6\",\"type\":\"CDSView\"}},\"id\":\"d2ca19ab-12ce-44a0-9fa3-310a2a53218e\",\"type\":\"GlyphRenderer\"},{\"attributes\":{\"label\":{\"value\":\"sin(x)\"},\"renderers\":[{\"id\":\"bd2354d3-f610-42e1-a1d0-60f4e1573b57\",\"type\":\"GlyphRenderer\"},{\"id\":\"aef34514-2978-4826-a237-003c07200450\",\"type\":\"GlyphRenderer\"}]},\"id\":\"93035627-0f12-4a34-80c6-046290e898ae\",\"type\":\"LegendItem\"},{\"attributes\":{\"bottom_units\":\"screen\",\"fill_alpha\":{\"value\":0.5},\"fill_color\":{\"value\":\"lightgrey\"},\"left_units\":\"screen\",\"level\":\"overlay\",\"line_alpha\":{\"value\":1.0},\"line_color\":{\"value\":\"black\"},\"line_dash\":[4,4],\"line_width\":{\"value\":2},\"plot\":null,\"render_mode\":\"css\",\"right_units\":\"screen\",\"top_units\":\"screen\"},\"id\":\"b9d39f52-d3dc-4f4f-bc41-528d01864311\",\"type\":\"BoxAnnotation\"},{\"attributes\":{},\"id\":\"b5150a82-1567-4cf0-bbbb-46678a4df1da\",\"type\":\"PanTool\"},{\"attributes\":{\"label\":{\"value\":\"2*sin(x)\"},\"renderers\":[{\"id\":\"d2ca19ab-12ce-44a0-9fa3-310a2a53218e\",\"type\":\"GlyphRenderer\"}]},\"id\":\"dba80b5a-0404-46ad-933a-9a06e822affd\",\"type\":\"LegendItem\"},{\"attributes\":{\"data_source\":{\"id\":\"a8e4fdd8-6d14-4de7-b3a1-758dd803db8a\",\"type\":\"ColumnDataSource\"},\"glyph\":{\"id\":\"919ea0d4-3fbe-4893-8625-5337e06e7f06\",\"type\":\"Circle\"},\"hover_glyph\":null,\"muted_glyph\":null,\"nonselection_glyph\":{\"id\":\"5097a20e-14a8-48d3-800a-4cb5c3b3fbd7\",\"type\":\"Circle\"},\"selection_glyph\":null,\"view\":{\"id\":\"b56c0d93-cd43-412d-b07d-872e1052c3f8\",\"type\":\"CDSView\"}},\"id\":\"bd2354d3-f610-42e1-a1d0-60f4e1573b57\",\"type\":\"GlyphRenderer\"},{\"attributes\":{},\"id\":\"8c1901f1-dc0a-46c2-8a7e-cb1ecda7fdfc\",\"type\":\"LinearScale\"},{\"attributes\":{},\"id\":\"0e07ec19-1e9a-448d-9dc9-1be4af303735\",\"type\":\"WheelZoomTool\"},{\"attributes\":{\"formatter\":{\"id\":\"88dbbb9b-5a5d-4a32-80fc-508227ffb72c\",\"type\":\"BasicTickFormatter\"},\"plot\":{\"id\":\"3c4b2e79-b5a5-4ff8-bf90-75431e650411\",\"subtype\":\"Figure\",\"type\":\"Plot\"},\"ticker\":{\"id\":\"f0311133-990d-4515-999a-77db0383ea14\",\"type\":\"BasicTicker\"}},\"id\":\"0b7414b3-c038-40c0-ad94-7fa2f863b985\",\"type\":\"LinearAxis\"},{\"attributes\":{\"overlay\":{\"id\":\"b9d39f52-d3dc-4f4f-bc41-528d01864311\",\"type\":\"BoxAnnotation\"}},\"id\":\"bfad793e-a485-463c-9085-7a600089171f\",\"type\":\"BoxZoomTool\"},{\"attributes\":{},\"id\":\"e452332b-0ae7-490e-9f3f-c06d7f75ac5c\",\"type\":\"SaveTool\"},{\"attributes\":{},\"id\":\"caa61045-b2a7-46ce-99e3-c5a3002aeab4\",\"type\":\"ResetTool\"},{\"attributes\":{},\"id\":\"f0311133-990d-4515-999a-77db0383ea14\",\"type\":\"BasicTicker\"},{\"attributes\":{},\"id\":\"e8834242-d484-425f-88d1-034df9f9702a\",\"type\":\"HelpTool\"},{\"attributes\":{\"plot\":null,\"text\":\"\"},\"id\":\"23a6efe7-72bb-4e79-8260-32c06832b1e1\",\"type\":\"Title\"},{\"attributes\":{\"source\":{\"id\":\"a8e4fdd8-6d14-4de7-b3a1-758dd803db8a\",\"type\":\"ColumnDataSource\"}},\"id\":\"b56c0d93-cd43-412d-b07d-872e1052c3f8\",\"type\":\"CDSView\"},{\"attributes\":{},\"id\":\"88dbbb9b-5a5d-4a32-80fc-508227ffb72c\",\"type\":\"BasicTickFormatter\"},{\"attributes\":{\"line_color\":\"orange\",\"line_dash\":[4,4],\"line_width\":2,\"x\":{\"field\":\"x\"},\"y\":{\"field\":\"y\"}},\"id\":\"872748ec-8a2d-4b0f-948a-ddd80f613f91\",\"type\":\"Line\"},{\"attributes\":{\"line_alpha\":0.1,\"line_color\":\"#1f77b4\",\"line_dash\":[4,4],\"line_width\":2,\"x\":{\"field\":\"x\"},\"y\":{\"field\":\"y\"}},\"id\":\"2157e8ef-8bff-4906-9213-0b2f23f16fce\",\"type\":\"Line\"},{\"attributes\":{\"line_color\":\"#1f77b4\",\"x\":{\"field\":\"x\"},\"y\":{\"field\":\"y\"}},\"id\":\"a6ddc921-2c41-4542-882d-a2cf8aa440f9\",\"type\":\"Line\"},{\"attributes\":{\"fill_color\":{\"value\":null},\"line_color\":{\"value\":\"green\"},\"x\":{\"field\":\"x\"},\"y\":{\"field\":\"y\"}},\"id\":\"7b451758-8a6b-43d3-80a0-fe6271a15f6b\",\"type\":\"Square\"},{\"attributes\":{\"callback\":null,\"column_names\":[\"x\",\"y\"],\"data\":{\"x\":{\"__ndarray__\":\"AAAAAAAAAACRGkt8Vz/AP5EaS3xXP9A/2qdwOgNf2D+RGkt8Vz/gPzXhXVstT+Q/2qdwOgNf6D9+boMZ2W7sP5EaS3xXP/A/433Ua0JH8j814V1bLU/0P4dE50oYV/Y/2qdwOgNf+D8sC/op7mb6P35ugxnZbvw/0NEMCcR2/j+RGkt8Vz8AQDrMD/RMQwFA433Ua0JHAkCML5njN0sDQDXhXVstTwRA3pIi0yJTBUCHROdKGFcGQDD2q8INWwdA2qdwOgNfCECDWTWy+GIJQCwL+inuZgpA1by+oeNqC0B+boMZ2W4MQCcgSJHOcg1A0NEMCcR2DkB5g9GAuXoPQJEaS3xXPxBAZnMtOFLBEEA6zA/0TEMRQA8l8q9HxRFA433Ua0JHEkC41rYnPckSQIwvmeM3SxNAYYh7nzLNE0A14V1bLU8UQAo6QBco0RRA3pIi0yJTFUCz6wSPHdUVQIdE50oYVxZAXJ3JBhPZFkAw9qvCDVsXQAVPjn4I3RdA2qdwOgNfGECuAFP2/eAYQINZNbL4YhlAV7IXbvPkGUAsC/op7mYaQABk3OXo6BpA1by+oeNqG0CpFaFd3uwbQH5ugxnZbhxAUsdl1dPwHEAnIEiRznIdQPt4Kk3J9B1A0NEMCcR2HkCkKu/EvvgeQHmD0YC5eh9ATdyzPLT8H0CRGkt8Vz8gQPtGPNpUgCBAZnMtOFLBIEDQnx6WTwIhQDrMD/RMQyFApPgAUkqEIUAPJfKvR8UhQHlR4w1FBiJA433Ua0JHIkBNqsXJP4giQLjWtic9ySJAIgOohToKI0CML5njN0sjQPZbikE1jCNAYYh7nzLNI0DLtGz9Lw4kQDXhXVstTyRAoA1PuSqQJEAKOkAXKNEkQHRmMXUlEiVA3pIi0yJTJUBJvxMxIJQlQLPrBI8d1SVAHRj27BoWJkCHROdKGFcmQPJw2KgVmCZAXJ3JBhPZJkDGybpkEBonQDD2q8INWydAmyKdIAucJ0AFT45+CN0nQG97f9wFHihA2qdwOgNfKEBE1GGYAKAoQK4AU/b94ChAGC1EVPshKUA=\",\"dtype\":\"float64\",\"shape\":[100]},\"y\":{\"__ndarray__\":\"AAAAAAAAAADoxQO0RU7YP+dMxoI2HOg//C5K/vzW8T/Tua6vYlb3P+nH5xKndfw/AFIvb9iPAEBm8BjVpKACQNka5Ym2ZARADqEya8fUBUD+Gu1b6+oGQBHVYKmoogdAYgGEegr5B0DMzIX9rOwHQM+xeSHDfQdA1L6JxBWuBkB9BRBa/IAFQO0A3yZP+wNAeZ5rTFMjAkDe5Qz1oAAAQDnpZxcIOPs/tv7u/6/+9T/6iGdXvmrwP2wf+wVaJuU/5X710zFA0j+uSTsu9124v2QnUqkVVt6/o9Qx/NsL679m4Ulpoj7zvxQdiFoRqPi/bDUKCPCr/b/J7VIByxoBwPGhyyYpGQPAgTlCLtzIBMCuGkzd8SIGwAOBBKLYIQfAMzIqg3bBB8BzaxsFOv8HwKfUGL4k2gfAJ8c7bs9SB8BSNUOKZ2sGwCX1VkOmJwXAMfGzMMGMA8AjU27aVKEBwC4hWvuS2v6/DwQZ9WTz+b9lsKPjUaH0v8Yvs7GI9O2/YIF44Akr4r8GSRAz01rIvzJJEDPTWsg/aoF44Akr4j/QL7OxiPTtP2Cwo+NRofQ/FAQZ9WTz+T8qIVr7ktr+PyVTbtpUoQFAMPGzMMGMA0Am9VZDpicFQFE1Q4pnawZAKMc7bs9SB0Cn1Bi+JNoHQHNrGwU6/wdANDIqg3bBB0ACgQSi2CEHQLAaTN3xIgZAfTlCLtzIBEDwocsmKRkDQMntUgHLGgFAcTUKCPCr/T8MHYhaEaj4P2HhSWmiPvM/pNQx/NsL6z99J1KpFVbeP/ZIOy73Xbg/+n710zFA0r9fH/sFWiblv+6IZ1e+avC/uv7u/6/+9b846WcXCDj7v9vlDPWgAADAfJ5rTFMjAsDuAN8mT/sDwH0FEFr8gAXA076JxBWuBsDQsXkhw30HwMzMhf2s7AfAYgGEegr5B8AS1WCpqKIHwPwa7Vvr6gbADqEya8fUBcDaGuWJtmQEwGnwGNWkoALA/VEvb9iPAMDpx+cSp3X8v9a5rq9iVve/8C5K/vzW8b/bTMaCNhzov+rFA7RFTti/CoqeTDl52rw=\",\"dtype\":\"float64\",\"shape\":[100]}}},\"id\":\"63b1cd54-36e5-426b-b34a-d7909d65e449\",\"type\":\"ColumnDataSource\"},{\"attributes\":{\"callback\":null,\"column_names\":[\"x\",\"y\"],\"data\":{\"x\":{\"__ndarray__\":\"AAAAAAAAAACRGkt8Vz/AP5EaS3xXP9A/2qdwOgNf2D+RGkt8Vz/gPzXhXVstT+Q/2qdwOgNf6D9+boMZ2W7sP5EaS3xXP/A/433Ua0JH8j814V1bLU/0P4dE50oYV/Y/2qdwOgNf+D8sC/op7mb6P35ugxnZbvw/0NEMCcR2/j+RGkt8Vz8AQDrMD/RMQwFA433Ua0JHAkCML5njN0sDQDXhXVstTwRA3pIi0yJTBUCHROdKGFcGQDD2q8INWwdA2qdwOgNfCECDWTWy+GIJQCwL+inuZgpA1by+oeNqC0B+boMZ2W4MQCcgSJHOcg1A0NEMCcR2DkB5g9GAuXoPQJEaS3xXPxBAZnMtOFLBEEA6zA/0TEMRQA8l8q9HxRFA433Ua0JHEkC41rYnPckSQIwvmeM3SxNAYYh7nzLNE0A14V1bLU8UQAo6QBco0RRA3pIi0yJTFUCz6wSPHdUVQIdE50oYVxZAXJ3JBhPZFkAw9qvCDVsXQAVPjn4I3RdA2qdwOgNfGECuAFP2/eAYQINZNbL4YhlAV7IXbvPkGUAsC/op7mYaQABk3OXo6BpA1by+oeNqG0CpFaFd3uwbQH5ugxnZbhxAUsdl1dPwHEAnIEiRznIdQPt4Kk3J9B1A0NEMCcR2HkCkKu/EvvgeQHmD0YC5eh9ATdyzPLT8H0CRGkt8Vz8gQPtGPNpUgCBAZnMtOFLBIEDQnx6WTwIhQDrMD/RMQyFApPgAUkqEIUAPJfKvR8UhQHlR4w1FBiJA433Ua0JHIkBNqsXJP4giQLjWtic9ySJAIgOohToKI0CML5njN0sjQPZbikE1jCNAYYh7nzLNI0DLtGz9Lw4kQDXhXVstTyRAoA1PuSqQJEAKOkAXKNEkQHRmMXUlEiVA3pIi0yJTJUBJvxMxIJQlQLPrBI8d1SVAHRj27BoWJkCHROdKGFcmQPJw2KgVmCZAXJ3JBhPZJkDGybpkEBonQDD2q8INWydAmyKdIAucJ0AFT45+CN0nQG97f9wFHihA2qdwOgNfKEBE1GGYAKAoQK4AU/b94ChAGC1EVPshKUA=\",\"dtype\":\"float64\",\"shape\":[100]},\"y\":{\"__ndarray__\":\"AAAAAAAAAADwgwJ4LjTQP5qI2QHPEuA/+5MNU1HJ5z8ZTT7q2B3vP0aFmgwa+fI/ABg/lCAV9j+IQCEcMdb4P3fOhmLzMPs/EyzujrQb/T/9Izwlj47+PxccgYyLg/8/g6xao7j2/z9mZrL8O+b/P7+X94FZUv8/xVNiW3I9/j9RB8Ai+6v8P5FWKYlppPo/oSg6uxkv+D/Sh2bxK1b1PyZGRbpaJfI/8qg+VZVT7T/4C4p0qOPlP+UppLIiM9w/3FNHxZdVyD/J23zJpD6wv+3ENsZjOdS/wo12/ecH4r/dgWKM2Kjpv2MTsJELcPC/83ixWvXH87+358MBZM72v5eCD4nhdvm/rExY6Hq2+7+TIxAn7YP9vwSssILL1/6/70I4BJ6s/7/vOc8G+P7/vzTGy1KGzf+/3176khQZ/7/C8a4NiuT9vzGcHq/dNPy/l0FFlgER+r+EGZN4xoH3vx8WPFK3kfS/Cli7+O1M8b+HQNqEwoHrv9kfIiFb+OO/gKyggGI52L8EhrXMjDzAvyGGtcyMPMA/jqyggGI52D/gHyIhW/jjP4BA2oTCges/DVi7+O1M8T8cFjxSt5H0P4cZk3jGgfc/lUFFlgER+j8ynB6v3TT8P8Hxrg2K5P0/4F76khQZ/z80xstShs3/P+85zwb4/v8/8EI4BJ6s/z8DrLCCy9f+P5UjECftg/0/p0xY6Hq2+z+Vgg+J4Xb5P7fnwwFkzvY/9nixWvXH8z9dE7CRC3DwP9eBYozYqOk/w412/ecH4j/+xDbGYznUP0/bfMmkPrA/+FNHxZdVyL/UKaSyIjPcv+gLinSo4+W/+Kg+VZVT7b8lRkW6WiXyv8+HZvErVvW/pig6uxkv+L+TVimJaaT6v1EHwCL7q/y/xFNiW3I9/r/Al/eBWVL/v2Zmsvw75v+/g6xao7j2/78YHIGMi4P/v/sjPCWPjv6/EyzujrQb/b94zoZi8zD7v4xAIRwx1vi//Bc/lCAV9r9GhZoMGvnyvx5NPurYHe+/65MNU1HJ57+SiNkBzxLgv/GDAnguNNC/B1wUMyam0bw=\",\"dtype\":\"float64\",\"shape\":[100]}}},\"id\":\"b10e2074-efb7-431f-81ed-99db289b925b\",\"type\":\"ColumnDataSource\"},{\"attributes\":{\"data_source\":{\"id\":\"725aadf2-cca3-4593-815e-81c595c12f9d\",\"type\":\"ColumnDataSource\"},\"glyph\":{\"id\":\"a6ddc921-2c41-4542-882d-a2cf8aa440f9\",\"type\":\"Line\"},\"hover_glyph\":null,\"muted_glyph\":null,\"nonselection_glyph\":{\"id\":\"4b6ca322-d616-416c-8ea5-6487cb404db5\",\"type\":\"Line\"},\"selection_glyph\":null,\"view\":{\"id\":\"b466ace9-856e-43dc-909a-15bf9c414adb\",\"type\":\"CDSView\"}},\"id\":\"aef34514-2978-4826-a237-003c07200450\",\"type\":\"GlyphRenderer\"},{\"attributes\":{\"callback\":null,\"column_names\":[\"x\",\"y\"],\"data\":{\"x\":{\"__ndarray__\":\"AAAAAAAAAACRGkt8Vz/AP5EaS3xXP9A/2qdwOgNf2D+RGkt8Vz/gPzXhXVstT+Q/2qdwOgNf6D9+boMZ2W7sP5EaS3xXP/A/433Ua0JH8j814V1bLU/0P4dE50oYV/Y/2qdwOgNf+D8sC/op7mb6P35ugxnZbvw/0NEMCcR2/j+RGkt8Vz8AQDrMD/RMQwFA433Ua0JHAkCML5njN0sDQDXhXVstTwRA3pIi0yJTBUCHROdKGFcGQDD2q8INWwdA2qdwOgNfCECDWTWy+GIJQCwL+inuZgpA1by+oeNqC0B+boMZ2W4MQCcgSJHOcg1A0NEMCcR2DkB5g9GAuXoPQJEaS3xXPxBAZnMtOFLBEEA6zA/0TEMRQA8l8q9HxRFA433Ua0JHEkC41rYnPckSQIwvmeM3SxNAYYh7nzLNE0A14V1bLU8UQAo6QBco0RRA3pIi0yJTFUCz6wSPHdUVQIdE50oYVxZAXJ3JBhPZFkAw9qvCDVsXQAVPjn4I3RdA2qdwOgNfGECuAFP2/eAYQINZNbL4YhlAV7IXbvPkGUAsC/op7mYaQABk3OXo6BpA1by+oeNqG0CpFaFd3uwbQH5ugxnZbhxAUsdl1dPwHEAnIEiRznIdQPt4Kk3J9B1A0NEMCcR2HkCkKu/EvvgeQHmD0YC5eh9ATdyzPLT8H0CRGkt8Vz8gQPtGPNpUgCBAZnMtOFLBIEDQnx6WTwIhQDrMD/RMQyFApPgAUkqEIUAPJfKvR8UhQHlR4w1FBiJA433Ua0JHIkBNqsXJP4giQLjWtic9ySJAIgOohToKI0CML5njN0sjQPZbikE1jCNAYYh7nzLNI0DLtGz9Lw4kQDXhXVstTyRAoA1PuSqQJEAKOkAXKNEkQHRmMXUlEiVA3pIi0yJTJUBJvxMxIJQlQLPrBI8d1SVAHRj27BoWJkCHROdKGFcmQPJw2KgVmCZAXJ3JBhPZJkDGybpkEBonQDD2q8INWydAmyKdIAucJ0AFT45+CN0nQG97f9wFHihA2qdwOgNfKEBE1GGYAKAoQK4AU/b94ChAGC1EVPshKUA=\",\"dtype\":\"float64\",\"shape\":[100]},\"y\":{\"__ndarray__\":\"AAAAAAAAAADoxQO0RU7YP+dMxoI2HOg//C5K/vzW8T/Tua6vYlb3P+nH5xKndfw/AFIvb9iPAEBm8BjVpKACQNka5Ym2ZARADqEya8fUBUD+Gu1b6+oGQBHVYKmoogdAYgGEegr5B0DMzIX9rOwHQM+xeSHDfQdA1L6JxBWuBkB9BRBa/IAFQO0A3yZP+wNAeZ5rTFMjAkDe5Qz1oAAAQDnpZxcIOPs/tv7u/6/+9T/6iGdXvmrwP2wf+wVaJuU/5X710zFA0j+uSTsu9124v2QnUqkVVt6/o9Qx/NsL679m4Ulpoj7zvxQdiFoRqPi/bDUKCPCr/b/J7VIByxoBwPGhyyYpGQPAgTlCLtzIBMCuGkzd8SIGwAOBBKLYIQfAMzIqg3bBB8BzaxsFOv8HwKfUGL4k2gfAJ8c7bs9SB8BSNUOKZ2sGwCX1VkOmJwXAMfGzMMGMA8AjU27aVKEBwC4hWvuS2v6/DwQZ9WTz+b9lsKPjUaH0v8Yvs7GI9O2/YIF44Akr4r8GSRAz01rIvzJJEDPTWsg/aoF44Akr4j/QL7OxiPTtP2Cwo+NRofQ/FAQZ9WTz+T8qIVr7ktr+PyVTbtpUoQFAMPGzMMGMA0Am9VZDpicFQFE1Q4pnawZAKMc7bs9SB0Cn1Bi+JNoHQHNrGwU6/wdANDIqg3bBB0ACgQSi2CEHQLAaTN3xIgZAfTlCLtzIBEDwocsmKRkDQMntUgHLGgFAcTUKCPCr/T8MHYhaEaj4P2HhSWmiPvM/pNQx/NsL6z99J1KpFVbeP/ZIOy73Xbg/+n710zFA0r9fH/sFWiblv+6IZ1e+avC/uv7u/6/+9b846WcXCDj7v9vlDPWgAADAfJ5rTFMjAsDuAN8mT/sDwH0FEFr8gAXA076JxBWuBsDQsXkhw30HwMzMhf2s7AfAYgGEegr5B8AS1WCpqKIHwPwa7Vvr6gbADqEya8fUBcDaGuWJtmQEwGnwGNWkoALA/VEvb9iPAMDpx+cSp3X8v9a5rq9iVve/8C5K/vzW8b/bTMaCNhzov+rFA7RFTti/CoqeTDl52rw=\",\"dtype\":\"float64\",\"shape\":[100]}}},\"id\":\"3dd1ba6a-6d01-4463-b02c-2ebb20c0365c\",\"type\":\"ColumnDataSource\"},{\"attributes\":{\"line_alpha\":0.1,\"line_color\":\"#1f77b4\",\"x\":{\"field\":\"x\"},\"y\":{\"field\":\"y\"}},\"id\":\"4b6ca322-d616-416c-8ea5-6487cb404db5\",\"type\":\"Line\"},{\"attributes\":{\"source\":{\"id\":\"725aadf2-cca3-4593-815e-81c595c12f9d\",\"type\":\"ColumnDataSource\"}},\"id\":\"b466ace9-856e-43dc-909a-15bf9c414adb\",\"type\":\"CDSView\"},{\"attributes\":{\"source\":{\"id\":\"b10e2074-efb7-431f-81ed-99db289b925b\",\"type\":\"ColumnDataSource\"}},\"id\":\"5842c0e0-3622-4fd1-9ed9-18affbed92e6\",\"type\":\"CDSView\"},{\"attributes\":{\"callback\":null,\"column_names\":[\"x\",\"y\"],\"data\":{\"x\":{\"__ndarray__\":\"AAAAAAAAAACRGkt8Vz/AP5EaS3xXP9A/2qdwOgNf2D+RGkt8Vz/gPzXhXVstT+Q/2qdwOgNf6D9+boMZ2W7sP5EaS3xXP/A/433Ua0JH8j814V1bLU/0P4dE50oYV/Y/2qdwOgNf+D8sC/op7mb6P35ugxnZbvw/0NEMCcR2/j+RGkt8Vz8AQDrMD/RMQwFA433Ua0JHAkCML5njN0sDQDXhXVstTwRA3pIi0yJTBUCHROdKGFcGQDD2q8INWwdA2qdwOgNfCECDWTWy+GIJQCwL+inuZgpA1by+oeNqC0B+boMZ2W4MQCcgSJHOcg1A0NEMCcR2DkB5g9GAuXoPQJEaS3xXPxBAZnMtOFLBEEA6zA/0TEMRQA8l8q9HxRFA433Ua0JHEkC41rYnPckSQIwvmeM3SxNAYYh7nzLNE0A14V1bLU8UQAo6QBco0RRA3pIi0yJTFUCz6wSPHdUVQIdE50oYVxZAXJ3JBhPZFkAw9qvCDVsXQAVPjn4I3RdA2qdwOgNfGECuAFP2/eAYQINZNbL4YhlAV7IXbvPkGUAsC/op7mYaQABk3OXo6BpA1by+oeNqG0CpFaFd3uwbQH5ugxnZbhxAUsdl1dPwHEAnIEiRznIdQPt4Kk3J9B1A0NEMCcR2HkCkKu/EvvgeQHmD0YC5eh9ATdyzPLT8H0CRGkt8Vz8gQPtGPNpUgCBAZnMtOFLBIEDQnx6WTwIhQDrMD/RMQyFApPgAUkqEIUAPJfKvR8UhQHlR4w1FBiJA433Ua0JHIkBNqsXJP4giQLjWtic9ySJAIgOohToKI0CML5njN0sjQPZbikE1jCNAYYh7nzLNI0DLtGz9Lw4kQDXhXVstTyRAoA1PuSqQJEAKOkAXKNEkQHRmMXUlEiVA3pIi0yJTJUBJvxMxIJQlQLPrBI8d1SVAHRj27BoWJkCHROdKGFcmQPJw2KgVmCZAXJ3JBhPZJkDGybpkEBonQDD2q8INWydAmyKdIAucJ0AFT45+CN0nQG97f9wFHihA2qdwOgNfKEBE1GGYAKAoQK4AU/b94ChAGC1EVPshKUA=\",\"dtype\":\"float64\",\"shape\":[100]},\"y\":{\"__ndarray__\":\"AAAAAAAAAADwgwJ4LjTAP5qI2QHPEtA/+5MNU1HJ1z8ZTT7q2B3fP0aFmgwa+eI/ABg/lCAV5j+IQCEcMdboP3fOhmLzMOs/EyzujrQb7T/9Izwlj47uPxccgYyLg+8/g6xao7j27z9mZrL8O+bvP7+X94FZUu8/xVNiW3I97j9RB8Ai+6vsP5FWKYlppOo/oSg6uxkv6D/Sh2bxK1blPyZGRbpaJeI/8qg+VZVT3T/4C4p0qOPVP+UppLIiM8w/3FNHxZdVuD/J23zJpD6gv+3ENsZjOcS/wo12/ecH0r/dgWKM2KjZv2MTsJELcOC/83ixWvXH47+358MBZM7mv5eCD4nhdum/rExY6Hq267+TIxAn7YPtvwSssILL1+6/70I4BJ6s77/vOc8G+P7vvzTGy1KGze+/3176khQZ77/C8a4NiuTtvzGcHq/dNOy/l0FFlgER6r+EGZN4xoHnvx8WPFK3keS/Cli7+O1M4b+HQNqEwoHbv9kfIiFb+NO/gKyggGI5yL8EhrXMjDywvyGGtcyMPLA/jqyggGI5yD/gHyIhW/jTP4BA2oTCgds/DVi7+O1M4T8cFjxSt5HkP4cZk3jGgec/lUFFlgER6j8ynB6v3TTsP8Hxrg2K5O0/4F76khQZ7z80xstShs3vP+85zwb4/u8/8EI4BJ6s7z8DrLCCy9fuP5UjECftg+0/p0xY6Hq26z+Vgg+J4XbpP7fnwwFkzuY/9nixWvXH4z9dE7CRC3DgP9eBYozYqNk/w412/ecH0j/+xDbGYznEP0/bfMmkPqA/+FNHxZdVuL/UKaSyIjPMv+gLinSo49W/+Kg+VZVT3b8lRkW6WiXiv8+HZvErVuW/pig6uxkv6L+TVimJaaTqv1EHwCL7q+y/xFNiW3I97r/Al/eBWVLvv2Zmsvw75u+/g6xao7j2778YHIGMi4Pvv/sjPCWPju6/EyzujrQb7b94zoZi8zDrv4xAIRwx1ui//Bc/lCAV5r9GhZoMGvnivx5NPurYHd+/65MNU1HJ17+SiNkBzxLQv/GDAnguNMC/B1wUMyamwbw=\",\"dtype\":\"float64\",\"shape\":[100]}}},\"id\":\"a8e4fdd8-6d14-4de7-b3a1-758dd803db8a\",\"type\":\"ColumnDataSource\"},{\"attributes\":{\"line_color\":\"green\",\"x\":{\"field\":\"x\"},\"y\":{\"field\":\"y\"}},\"id\":\"375ccf11-b4b7-4b36-8c9b-7942b11ebe95\",\"type\":\"Line\"},{\"attributes\":{\"active_drag\":\"auto\",\"active_inspect\":\"auto\",\"active_scroll\":\"auto\",\"active_tap\":\"auto\",\"tools\":[{\"id\":\"b5150a82-1567-4cf0-bbbb-46678a4df1da\",\"type\":\"PanTool\"},{\"id\":\"0e07ec19-1e9a-448d-9dc9-1be4af303735\",\"type\":\"WheelZoomTool\"},{\"id\":\"bfad793e-a485-463c-9085-7a600089171f\",\"type\":\"BoxZoomTool\"},{\"id\":\"e452332b-0ae7-490e-9f3f-c06d7f75ac5c\",\"type\":\"SaveTool\"},{\"id\":\"caa61045-b2a7-46ce-99e3-c5a3002aeab4\",\"type\":\"ResetTool\"},{\"id\":\"e8834242-d484-425f-88d1-034df9f9702a\",\"type\":\"HelpTool\"}]},\"id\":\"48daa413-e966-4f2b-adca-de86de936c55\",\"type\":\"Toolbar\"},{\"attributes\":{\"label\":{\"value\":\"3*sin(x)\"},\"renderers\":[{\"id\":\"25ebd575-fb66-49c9-97ca-4963f0a81ec9\",\"type\":\"GlyphRenderer\"},{\"id\":\"35a6328f-771f-4248-b587-58e6fca688ba\",\"type\":\"GlyphRenderer\"}]},\"id\":\"68a0eab8-d47a-4760-b846-6ed5e3752a43\",\"type\":\"LegendItem\"},{\"attributes\":{\"callback\":null,\"column_names\":[\"x\",\"y\"],\"data\":{\"x\":{\"__ndarray__\":\"AAAAAAAAAACRGkt8Vz/AP5EaS3xXP9A/2qdwOgNf2D+RGkt8Vz/gPzXhXVstT+Q/2qdwOgNf6D9+boMZ2W7sP5EaS3xXP/A/433Ua0JH8j814V1bLU/0P4dE50oYV/Y/2qdwOgNf+D8sC/op7mb6P35ugxnZbvw/0NEMCcR2/j+RGkt8Vz8AQDrMD/RMQwFA433Ua0JHAkCML5njN0sDQDXhXVstTwRA3pIi0yJTBUCHROdKGFcGQDD2q8INWwdA2qdwOgNfCECDWTWy+GIJQCwL+inuZgpA1by+oeNqC0B+boMZ2W4MQCcgSJHOcg1A0NEMCcR2DkB5g9GAuXoPQJEaS3xXPxBAZnMtOFLBEEA6zA/0TEMRQA8l8q9HxRFA433Ua0JHEkC41rYnPckSQIwvmeM3SxNAYYh7nzLNE0A14V1bLU8UQAo6QBco0RRA3pIi0yJTFUCz6wSPHdUVQIdE50oYVxZAXJ3JBhPZFkAw9qvCDVsXQAVPjn4I3RdA2qdwOgNfGECuAFP2/eAYQINZNbL4YhlAV7IXbvPkGUAsC/op7mYaQABk3OXo6BpA1by+oeNqG0CpFaFd3uwbQH5ugxnZbhxAUsdl1dPwHEAnIEiRznIdQPt4Kk3J9B1A0NEMCcR2HkCkKu/EvvgeQHmD0YC5eh9ATdyzPLT8H0CRGkt8Vz8gQPtGPNpUgCBAZnMtOFLBIEDQnx6WTwIhQDrMD/RMQyFApPgAUkqEIUAPJfKvR8UhQHlR4w1FBiJA433Ua0JHIkBNqsXJP4giQLjWtic9ySJAIgOohToKI0CML5njN0sjQPZbikE1jCNAYYh7nzLNI0DLtGz9Lw4kQDXhXVstTyRAoA1PuSqQJEAKOkAXKNEkQHRmMXUlEiVA3pIi0yJTJUBJvxMxIJQlQLPrBI8d1SVAHRj27BoWJkCHROdKGFcmQPJw2KgVmCZAXJ3JBhPZJkDGybpkEBonQDD2q8INWydAmyKdIAucJ0AFT45+CN0nQG97f9wFHihA2qdwOgNfKEBE1GGYAKAoQK4AU/b94ChAGC1EVPshKUA=\",\"dtype\":\"float64\",\"shape\":[100]},\"y\":{\"__ndarray__\":\"AAAAAAAAAADwgwJ4LjTAP5qI2QHPEtA/+5MNU1HJ1z8ZTT7q2B3fP0aFmgwa+eI/ABg/lCAV5j+IQCEcMdboP3fOhmLzMOs/EyzujrQb7T/9Izwlj47uPxccgYyLg+8/g6xao7j27z9mZrL8O+bvP7+X94FZUu8/xVNiW3I97j9RB8Ai+6vsP5FWKYlppOo/oSg6uxkv6D/Sh2bxK1blPyZGRbpaJeI/8qg+VZVT3T/4C4p0qOPVP+UppLIiM8w/3FNHxZdVuD/J23zJpD6gv+3ENsZjOcS/wo12/ecH0r/dgWKM2KjZv2MTsJELcOC/83ixWvXH47+358MBZM7mv5eCD4nhdum/rExY6Hq267+TIxAn7YPtvwSssILL1+6/70I4BJ6s77/vOc8G+P7vvzTGy1KGze+/3176khQZ77/C8a4NiuTtvzGcHq/dNOy/l0FFlgER6r+EGZN4xoHnvx8WPFK3keS/Cli7+O1M4b+HQNqEwoHbv9kfIiFb+NO/gKyggGI5yL8EhrXMjDywvyGGtcyMPLA/jqyggGI5yD/gHyIhW/jTP4BA2oTCgds/DVi7+O1M4T8cFjxSt5HkP4cZk3jGgec/lUFFlgER6j8ynB6v3TTsP8Hxrg2K5O0/4F76khQZ7z80xstShs3vP+85zwb4/u8/8EI4BJ6s7z8DrLCCy9fuP5UjECftg+0/p0xY6Hq26z+Vgg+J4XbpP7fnwwFkzuY/9nixWvXH4z9dE7CRC3DgP9eBYozYqNk/w412/ecH0j/+xDbGYznEP0/bfMmkPqA/+FNHxZdVuL/UKaSyIjPMv+gLinSo49W/+Kg+VZVT3b8lRkW6WiXiv8+HZvErVuW/pig6uxkv6L+TVimJaaTqv1EHwCL7q+y/xFNiW3I97r/Al/eBWVLvv2Zmsvw75u+/g6xao7j2778YHIGMi4Pvv/sjPCWPju6/EyzujrQb7b94zoZi8zDrv4xAIRwx1ui//Bc/lCAV5r9GhZoMGvnivx5NPurYHd+/65MNU1HJ17+SiNkBzxLQv/GDAnguNMC/B1wUMyamwbw=\",\"dtype\":\"float64\",\"shape\":[100]}}},\"id\":\"725aadf2-cca3-4593-815e-81c595c12f9d\",\"type\":\"ColumnDataSource\"},{\"attributes\":{\"items\":[{\"id\":\"93035627-0f12-4a34-80c6-046290e898ae\",\"type\":\"LegendItem\"},{\"id\":\"dba80b5a-0404-46ad-933a-9a06e822affd\",\"type\":\"LegendItem\"},{\"id\":\"68a0eab8-d47a-4760-b846-6ed5e3752a43\",\"type\":\"LegendItem\"}],\"location\":[0,-30],\"plot\":{\"id\":\"3c4b2e79-b5a5-4ff8-bf90-75431e650411\",\"subtype\":\"Figure\",\"type\":\"Plot\"}},\"id\":\"9486ec52-858a-4ef9-bc05-8a65ceb422df\",\"type\":\"Legend\"},{\"attributes\":{\"plot\":{\"id\":\"3c4b2e79-b5a5-4ff8-bf90-75431e650411\",\"subtype\":\"Figure\",\"type\":\"Plot\"},\"ticker\":{\"id\":\"f0311133-990d-4515-999a-77db0383ea14\",\"type\":\"BasicTicker\"}},\"id\":\"c5bad599-0e92-4b25-907d-11e9fc22302f\",\"type\":\"Grid\"},{\"attributes\":{\"fill_alpha\":{\"value\":0.1},\"fill_color\":{\"value\":\"#1f77b4\"},\"line_alpha\":{\"value\":0.1},\"line_color\":{\"value\":\"#1f77b4\"},\"x\":{\"field\":\"x\"},\"y\":{\"field\":\"y\"}},\"id\":\"fc9afadf-2d50-4f1d-a231-e90816c0d350\",\"type\":\"Square\"},{\"attributes\":{},\"id\":\"2dd316c3-27cf-4e47-820b-26e5d81399bd\",\"type\":\"BasicTicker\"},{\"attributes\":{\"data_source\":{\"id\":\"63b1cd54-36e5-426b-b34a-d7909d65e449\",\"type\":\"ColumnDataSource\"},\"glyph\":{\"id\":\"7b451758-8a6b-43d3-80a0-fe6271a15f6b\",\"type\":\"Square\"},\"hover_glyph\":null,\"muted_glyph\":null,\"nonselection_glyph\":{\"id\":\"fc9afadf-2d50-4f1d-a231-e90816c0d350\",\"type\":\"Square\"},\"selection_glyph\":null,\"view\":{\"id\":\"a505e6e8-6fa0-48e4-86d0-9b4b99c3cb39\",\"type\":\"CDSView\"}},\"id\":\"25ebd575-fb66-49c9-97ca-4963f0a81ec9\",\"type\":\"GlyphRenderer\"},{\"attributes\":{\"callback\":null},\"id\":\"6ef5adc4-11d5-4aa6-90d2-01dbe815d962\",\"type\":\"DataRange1d\"},{\"attributes\":{\"source\":{\"id\":\"63b1cd54-36e5-426b-b34a-d7909d65e449\",\"type\":\"ColumnDataSource\"}},\"id\":\"a505e6e8-6fa0-48e4-86d0-9b4b99c3cb39\",\"type\":\"CDSView\"},{\"attributes\":{\"callback\":null},\"id\":\"ea82a151-a80f-437e-8a1a-0f412fccd889\",\"type\":\"DataRange1d\"},{\"attributes\":{\"dimension\":1,\"plot\":{\"id\":\"3c4b2e79-b5a5-4ff8-bf90-75431e650411\",\"subtype\":\"Figure\",\"type\":\"Plot\"},\"ticker\":{\"id\":\"2dd316c3-27cf-4e47-820b-26e5d81399bd\",\"type\":\"BasicTicker\"}},\"id\":\"07d7ce8a-4345-43fc-9096-8b2b96471637\",\"type\":\"Grid\"},{\"attributes\":{\"below\":[{\"id\":\"0b7414b3-c038-40c0-ad94-7fa2f863b985\",\"type\":\"LinearAxis\"}],\"left\":[{\"id\":\"0e90ee5b-b40a-43f0-8918-7540b42df85e\",\"type\":\"LinearAxis\"}],\"renderers\":[{\"id\":\"0b7414b3-c038-40c0-ad94-7fa2f863b985\",\"type\":\"LinearAxis\"},{\"id\":\"c5bad599-0e92-4b25-907d-11e9fc22302f\",\"type\":\"Grid\"},{\"id\":\"0e90ee5b-b40a-43f0-8918-7540b42df85e\",\"type\":\"LinearAxis\"},{\"id\":\"07d7ce8a-4345-43fc-9096-8b2b96471637\",\"type\":\"Grid\"},{\"id\":\"b9d39f52-d3dc-4f4f-bc41-528d01864311\",\"type\":\"BoxAnnotation\"},{\"id\":\"bd2354d3-f610-42e1-a1d0-60f4e1573b57\",\"type\":\"GlyphRenderer\"},{\"id\":\"aef34514-2978-4826-a237-003c07200450\",\"type\":\"GlyphRenderer\"},{\"id\":\"d2ca19ab-12ce-44a0-9fa3-310a2a53218e\",\"type\":\"GlyphRenderer\"},{\"id\":\"25ebd575-fb66-49c9-97ca-4963f0a81ec9\",\"type\":\"GlyphRenderer\"},{\"id\":\"35a6328f-771f-4248-b587-58e6fca688ba\",\"type\":\"GlyphRenderer\"},{\"id\":\"9486ec52-858a-4ef9-bc05-8a65ceb422df\",\"type\":\"Legend\"}],\"right\":[{\"id\":\"9486ec52-858a-4ef9-bc05-8a65ceb422df\",\"type\":\"Legend\"}],\"title\":{\"id\":\"23a6efe7-72bb-4e79-8260-32c06832b1e1\",\"type\":\"Title\"},\"toolbar\":{\"id\":\"48daa413-e966-4f2b-adca-de86de936c55\",\"type\":\"Toolbar\"},\"toolbar_location\":\"above\",\"x_range\":{\"id\":\"ea82a151-a80f-437e-8a1a-0f412fccd889\",\"type\":\"DataRange1d\"},\"x_scale\":{\"id\":\"8c1901f1-dc0a-46c2-8a7e-cb1ecda7fdfc\",\"type\":\"LinearScale\"},\"y_range\":{\"id\":\"6ef5adc4-11d5-4aa6-90d2-01dbe815d962\",\"type\":\"DataRange1d\"},\"y_scale\":{\"id\":\"80b05f81-1838-4512-8b59-f95ea9f3e93b\",\"type\":\"LinearScale\"}},\"id\":\"3c4b2e79-b5a5-4ff8-bf90-75431e650411\",\"subtype\":\"Figure\",\"type\":\"Plot\"},{\"attributes\":{\"formatter\":{\"id\":\"41512bdd-56a9-4162-9c50-2862b10082a0\",\"type\":\"BasicTickFormatter\"},\"plot\":{\"id\":\"3c4b2e79-b5a5-4ff8-bf90-75431e650411\",\"subtype\":\"Figure\",\"type\":\"Plot\"},\"ticker\":{\"id\":\"2dd316c3-27cf-4e47-820b-26e5d81399bd\",\"type\":\"BasicTicker\"}},\"id\":\"0e90ee5b-b40a-43f0-8918-7540b42df85e\",\"type\":\"LinearAxis\"},{\"attributes\":{},\"id\":\"80b05f81-1838-4512-8b59-f95ea9f3e93b\",\"type\":\"LinearScale\"},{\"attributes\":{\"data_source\":{\"id\":\"3dd1ba6a-6d01-4463-b02c-2ebb20c0365c\",\"type\":\"ColumnDataSource\"},\"glyph\":{\"id\":\"375ccf11-b4b7-4b36-8c9b-7942b11ebe95\",\"type\":\"Line\"},\"hover_glyph\":null,\"muted_glyph\":null,\"nonselection_glyph\":{\"id\":\"c82dbdc4-d203-427a-a7f0-b065bd5aadb1\",\"type\":\"Line\"},\"selection_glyph\":null,\"view\":{\"id\":\"722cfc2d-29a9-4692-b1bc-f653aa0171ad\",\"type\":\"CDSView\"}},\"id\":\"35a6328f-771f-4248-b587-58e6fca688ba\",\"type\":\"GlyphRenderer\"}],\"root_ids\":[\"3c4b2e79-b5a5-4ff8-bf90-75431e650411\"]},\"title\":\"Bokeh Application\",\"version\":\"0.12.13\"}};\n",
       "  var render_items = [{\"docid\":\"01d49739-1cff-4a7b-8e0d-86f7555c959d\",\"elementid\":\"891c705f-3f7f-4bfa-b28b-12f3ebfe1d55\",\"modelid\":\"3c4b2e79-b5a5-4ff8-bf90-75431e650411\"}];\n",
       "  root.Bokeh.embed.embed_items_notebook(docs_json, render_items);\n",
       "\n",
       "  }\n",
       "  if (root.Bokeh !== undefined) {\n",
       "    embed_document(root);\n",
       "  } else {\n",
       "    var attempts = 0;\n",
       "    var timer = setInterval(function(root) {\n",
       "      if (root.Bokeh !== undefined) {\n",
       "        embed_document(root);\n",
       "        clearInterval(timer);\n",
       "      }\n",
       "      attempts++;\n",
       "      if (attempts > 100) {\n",
       "        console.log(\"Bokeh: ERROR: Unable to run BokehJS code because BokehJS library is missing\")\n",
       "        clearInterval(timer);\n",
       "      }\n",
       "    }, 10, root)\n",
       "  }\n",
       "})(window);"
      ],
      "application/vnd.bokehjs_exec.v0+json": ""
     },
     "metadata": {
      "application/vnd.bokehjs_exec.v0+json": {
       "id": "3c4b2e79-b5a5-4ff8-bf90-75431e650411"
      }
     },
     "output_type": "display_data"
    }
   ],
   "source": [
    "# Outside the Plot Area\n",
    "\n",
    "from bokeh.models import Legend\n",
    "\n",
    "x = np.linspace(0, 4*np.pi, 100)\n",
    "y = np.sin(x)\n",
    "\n",
    "p = figure(toolbar_location=\"above\")\n",
    "\n",
    "r0 = p.circle(x, y)\n",
    "r1 = p.line(x, y)\n",
    "\n",
    "r2 = p.line(x, 2*y, line_dash=[4, 4], line_color=\"orange\", line_width=2)\n",
    "\n",
    "r3 = p.square(x, 3*y, fill_color=None, line_color=\"green\")\n",
    "r4 = p.line(x, 3*y, line_color=\"green\")\n",
    "\n",
    "legend = Legend(items=[\n",
    "    (\"sin(x)\"   , [r0, r1]),\n",
    "    (\"2*sin(x)\" , [r2]),\n",
    "    (\"3*sin(x)\" , [r3, r4]),\n",
    "], location=(0, -30))\n",
    "\n",
    "p.add_layout(legend, 'right')\n",
    "\n",
    "show(p)"
   ]
  },
  {
   "cell_type": "code",
   "execution_count": 40,
   "metadata": {},
   "outputs": [
    {
     "data": {
      "text/html": [
       "\n",
       "<div class=\"bk-root\">\n",
       "    <div class=\"bk-plotdiv\" id=\"da2c2569-477c-44de-9986-b5815997d34f\"></div>\n",
       "</div>"
      ]
     },
     "metadata": {},
     "output_type": "display_data"
    },
    {
     "data": {
      "application/javascript": [
       "(function(root) {\n",
       "  function embed_document(root) {\n",
       "    \n",
       "  var docs_json = {\"ed713d9d-d358-479a-9182-fc1c49d01e46\":{\"roots\":{\"references\":[{\"attributes\":{\"line_alpha\":0.1,\"line_color\":\"#1f77b4\",\"x\":{\"field\":\"x\"},\"y\":{\"field\":\"y\"}},\"id\":\"b7dc71c7-29d1-4afb-b285-948cc72a8d79\",\"type\":\"Line\"},{\"attributes\":{},\"id\":\"206ac878-d39f-4b23-b29a-0f7144319144\",\"type\":\"BasicTickFormatter\"},{\"attributes\":{\"plot\":null,\"text\":\"\"},\"id\":\"530b10ef-b9fb-4e35-b0d7-2fe402493d53\",\"type\":\"Title\"},{\"attributes\":{\"callback\":null,\"column_names\":[\"x\",\"y\"],\"data\":{\"x\":{\"__ndarray__\":\"AAAAAAAAAACRGkt8Vz/AP5EaS3xXP9A/2qdwOgNf2D+RGkt8Vz/gPzXhXVstT+Q/2qdwOgNf6D9+boMZ2W7sP5EaS3xXP/A/433Ua0JH8j814V1bLU/0P4dE50oYV/Y/2qdwOgNf+D8sC/op7mb6P35ugxnZbvw/0NEMCcR2/j+RGkt8Vz8AQDrMD/RMQwFA433Ua0JHAkCML5njN0sDQDXhXVstTwRA3pIi0yJTBUCHROdKGFcGQDD2q8INWwdA2qdwOgNfCECDWTWy+GIJQCwL+inuZgpA1by+oeNqC0B+boMZ2W4MQCcgSJHOcg1A0NEMCcR2DkB5g9GAuXoPQJEaS3xXPxBAZnMtOFLBEEA6zA/0TEMRQA8l8q9HxRFA433Ua0JHEkC41rYnPckSQIwvmeM3SxNAYYh7nzLNE0A14V1bLU8UQAo6QBco0RRA3pIi0yJTFUCz6wSPHdUVQIdE50oYVxZAXJ3JBhPZFkAw9qvCDVsXQAVPjn4I3RdA2qdwOgNfGECuAFP2/eAYQINZNbL4YhlAV7IXbvPkGUAsC/op7mYaQABk3OXo6BpA1by+oeNqG0CpFaFd3uwbQH5ugxnZbhxAUsdl1dPwHEAnIEiRznIdQPt4Kk3J9B1A0NEMCcR2HkCkKu/EvvgeQHmD0YC5eh9ATdyzPLT8H0CRGkt8Vz8gQPtGPNpUgCBAZnMtOFLBIEDQnx6WTwIhQDrMD/RMQyFApPgAUkqEIUAPJfKvR8UhQHlR4w1FBiJA433Ua0JHIkBNqsXJP4giQLjWtic9ySJAIgOohToKI0CML5njN0sjQPZbikE1jCNAYYh7nzLNI0DLtGz9Lw4kQDXhXVstTyRAoA1PuSqQJEAKOkAXKNEkQHRmMXUlEiVA3pIi0yJTJUBJvxMxIJQlQLPrBI8d1SVAHRj27BoWJkCHROdKGFcmQPJw2KgVmCZAXJ3JBhPZJkDGybpkEBonQDD2q8INWydAmyKdIAucJ0AFT45+CN0nQG97f9wFHihA2qdwOgNfKEBE1GGYAKAoQK4AU/b94ChAGC1EVPshKUA=\",\"dtype\":\"float64\",\"shape\":[100]},\"y\":{\"__ndarray__\":\"AAAAAAAAAADwgwJ4LjTAP5qI2QHPEtA/+5MNU1HJ1z8ZTT7q2B3fP0aFmgwa+eI/ABg/lCAV5j+IQCEcMdboP3fOhmLzMOs/EyzujrQb7T/9Izwlj47uPxccgYyLg+8/g6xao7j27z9mZrL8O+bvP7+X94FZUu8/xVNiW3I97j9RB8Ai+6vsP5FWKYlppOo/oSg6uxkv6D/Sh2bxK1blPyZGRbpaJeI/8qg+VZVT3T/4C4p0qOPVP+UppLIiM8w/3FNHxZdVuD/J23zJpD6gv+3ENsZjOcS/wo12/ecH0r/dgWKM2KjZv2MTsJELcOC/83ixWvXH47+358MBZM7mv5eCD4nhdum/rExY6Hq267+TIxAn7YPtvwSssILL1+6/70I4BJ6s77/vOc8G+P7vvzTGy1KGze+/3176khQZ77/C8a4NiuTtvzGcHq/dNOy/l0FFlgER6r+EGZN4xoHnvx8WPFK3keS/Cli7+O1M4b+HQNqEwoHbv9kfIiFb+NO/gKyggGI5yL8EhrXMjDywvyGGtcyMPLA/jqyggGI5yD/gHyIhW/jTP4BA2oTCgds/DVi7+O1M4T8cFjxSt5HkP4cZk3jGgec/lUFFlgER6j8ynB6v3TTsP8Hxrg2K5O0/4F76khQZ7z80xstShs3vP+85zwb4/u8/8EI4BJ6s7z8DrLCCy9fuP5UjECftg+0/p0xY6Hq26z+Vgg+J4XbpP7fnwwFkzuY/9nixWvXH4z9dE7CRC3DgP9eBYozYqNk/w412/ecH0j/+xDbGYznEP0/bfMmkPqA/+FNHxZdVuL/UKaSyIjPMv+gLinSo49W/+Kg+VZVT3b8lRkW6WiXiv8+HZvErVuW/pig6uxkv6L+TVimJaaTqv1EHwCL7q+y/xFNiW3I97r/Al/eBWVLvv2Zmsvw75u+/g6xao7j2778YHIGMi4Pvv/sjPCWPju6/EyzujrQb7b94zoZi8zDrv4xAIRwx1ui//Bc/lCAV5r9GhZoMGvnivx5NPurYHd+/65MNU1HJ17+SiNkBzxLQv/GDAnguNMC/B1wUMyamwbw=\",\"dtype\":\"float64\",\"shape\":[100]}}},\"id\":\"830155cf-41bb-46c9-bd69-2bbbc234ddbe\",\"type\":\"ColumnDataSource\"},{\"attributes\":{\"data_source\":{\"id\":\"23450ec6-436a-4f15-ae56-2367dcae0c3f\",\"type\":\"ColumnDataSource\"},\"glyph\":{\"id\":\"6facc03d-6ccd-46cb-a9d0-33578b0a13f3\",\"type\":\"Square\"},\"hover_glyph\":null,\"muted_glyph\":null,\"nonselection_glyph\":{\"id\":\"36c809ed-5f9f-4e27-8fe3-dce62063e23c\",\"type\":\"Square\"},\"selection_glyph\":null,\"view\":{\"id\":\"602d3308-c484-413d-b305-70b344a5d022\",\"type\":\"CDSView\"}},\"id\":\"3d8ce054-cd14-4dd8-8e3f-a032634e8f62\",\"type\":\"GlyphRenderer\"},{\"attributes\":{\"line_alpha\":0.1,\"line_color\":\"#1f77b4\",\"line_dash\":[4,4],\"line_width\":2,\"x\":{\"field\":\"x\"},\"y\":{\"field\":\"y\"}},\"id\":\"76b12a19-f666-47c9-af9b-32ef3c7e0d81\",\"type\":\"Line\"},{\"attributes\":{\"source\":{\"id\":\"41b92a9f-5fd8-40af-9a16-8f80f6a08988\",\"type\":\"ColumnDataSource\"}},\"id\":\"367dc79c-80e3-4a33-a9d3-827bb7cf2271\",\"type\":\"CDSView\"},{\"attributes\":{},\"id\":\"aec7058c-4b25-4cc3-ad8b-a77efeda7fe2\",\"type\":\"BasicTickFormatter\"},{\"attributes\":{\"source\":{\"id\":\"ca1c8fc5-1036-416f-b446-1167ae6c141c\",\"type\":\"ColumnDataSource\"}},\"id\":\"b63c895b-daa6-44d7-a2bb-fb8770be64f0\",\"type\":\"CDSView\"},{\"attributes\":{},\"id\":\"ae48aa41-671b-4a2c-9f2d-f71ce4d45764\",\"type\":\"ResetTool\"},{\"attributes\":{\"source\":{\"id\":\"f9d2f1ef-20e5-489e-813b-ac097c39f45a\",\"type\":\"ColumnDataSource\"}},\"id\":\"bccf3e5e-50f2-449d-bccd-b0c89c3c877a\",\"type\":\"CDSView\"},{\"attributes\":{\"callback\":null,\"column_names\":[\"x\",\"y\"],\"data\":{\"x\":{\"__ndarray__\":\"AAAAAAAAAACRGkt8Vz/AP5EaS3xXP9A/2qdwOgNf2D+RGkt8Vz/gPzXhXVstT+Q/2qdwOgNf6D9+boMZ2W7sP5EaS3xXP/A/433Ua0JH8j814V1bLU/0P4dE50oYV/Y/2qdwOgNf+D8sC/op7mb6P35ugxnZbvw/0NEMCcR2/j+RGkt8Vz8AQDrMD/RMQwFA433Ua0JHAkCML5njN0sDQDXhXVstTwRA3pIi0yJTBUCHROdKGFcGQDD2q8INWwdA2qdwOgNfCECDWTWy+GIJQCwL+inuZgpA1by+oeNqC0B+boMZ2W4MQCcgSJHOcg1A0NEMCcR2DkB5g9GAuXoPQJEaS3xXPxBAZnMtOFLBEEA6zA/0TEMRQA8l8q9HxRFA433Ua0JHEkC41rYnPckSQIwvmeM3SxNAYYh7nzLNE0A14V1bLU8UQAo6QBco0RRA3pIi0yJTFUCz6wSPHdUVQIdE50oYVxZAXJ3JBhPZFkAw9qvCDVsXQAVPjn4I3RdA2qdwOgNfGECuAFP2/eAYQINZNbL4YhlAV7IXbvPkGUAsC/op7mYaQABk3OXo6BpA1by+oeNqG0CpFaFd3uwbQH5ugxnZbhxAUsdl1dPwHEAnIEiRznIdQPt4Kk3J9B1A0NEMCcR2HkCkKu/EvvgeQHmD0YC5eh9ATdyzPLT8H0CRGkt8Vz8gQPtGPNpUgCBAZnMtOFLBIEDQnx6WTwIhQDrMD/RMQyFApPgAUkqEIUAPJfKvR8UhQHlR4w1FBiJA433Ua0JHIkBNqsXJP4giQLjWtic9ySJAIgOohToKI0CML5njN0sjQPZbikE1jCNAYYh7nzLNI0DLtGz9Lw4kQDXhXVstTyRAoA1PuSqQJEAKOkAXKNEkQHRmMXUlEiVA3pIi0yJTJUBJvxMxIJQlQLPrBI8d1SVAHRj27BoWJkCHROdKGFcmQPJw2KgVmCZAXJ3JBhPZJkDGybpkEBonQDD2q8INWydAmyKdIAucJ0AFT45+CN0nQG97f9wFHihA2qdwOgNfKEBE1GGYAKAoQK4AU/b94ChAGC1EVPshKUA=\",\"dtype\":\"float64\",\"shape\":[100]},\"y\":{\"__ndarray__\":\"AAAAAAAAAADwgwJ4LjTAP5qI2QHPEtA/+5MNU1HJ1z8ZTT7q2B3fP0aFmgwa+eI/ABg/lCAV5j+IQCEcMdboP3fOhmLzMOs/EyzujrQb7T/9Izwlj47uPxccgYyLg+8/g6xao7j27z9mZrL8O+bvP7+X94FZUu8/xVNiW3I97j9RB8Ai+6vsP5FWKYlppOo/oSg6uxkv6D/Sh2bxK1blPyZGRbpaJeI/8qg+VZVT3T/4C4p0qOPVP+UppLIiM8w/3FNHxZdVuD/J23zJpD6gv+3ENsZjOcS/wo12/ecH0r/dgWKM2KjZv2MTsJELcOC/83ixWvXH47+358MBZM7mv5eCD4nhdum/rExY6Hq267+TIxAn7YPtvwSssILL1+6/70I4BJ6s77/vOc8G+P7vvzTGy1KGze+/3176khQZ77/C8a4NiuTtvzGcHq/dNOy/l0FFlgER6r+EGZN4xoHnvx8WPFK3keS/Cli7+O1M4b+HQNqEwoHbv9kfIiFb+NO/gKyggGI5yL8EhrXMjDywvyGGtcyMPLA/jqyggGI5yD/gHyIhW/jTP4BA2oTCgds/DVi7+O1M4T8cFjxSt5HkP4cZk3jGgec/lUFFlgER6j8ynB6v3TTsP8Hxrg2K5O0/4F76khQZ7z80xstShs3vP+85zwb4/u8/8EI4BJ6s7z8DrLCCy9fuP5UjECftg+0/p0xY6Hq26z+Vgg+J4XbpP7fnwwFkzuY/9nixWvXH4z9dE7CRC3DgP9eBYozYqNk/w412/ecH0j/+xDbGYznEP0/bfMmkPqA/+FNHxZdVuL/UKaSyIjPMv+gLinSo49W/+Kg+VZVT3b8lRkW6WiXiv8+HZvErVuW/pig6uxkv6L+TVimJaaTqv1EHwCL7q+y/xFNiW3I97r/Al/eBWVLvv2Zmsvw75u+/g6xao7j2778YHIGMi4Pvv/sjPCWPju6/EyzujrQb7b94zoZi8zDrv4xAIRwx1ui//Bc/lCAV5r9GhZoMGvnivx5NPurYHd+/65MNU1HJ17+SiNkBzxLQv/GDAnguNMC/B1wUMyamwbw=\",\"dtype\":\"float64\",\"shape\":[100]}}},\"id\":\"41b92a9f-5fd8-40af-9a16-8f80f6a08988\",\"type\":\"ColumnDataSource\"},{\"attributes\":{\"fill_alpha\":{\"value\":0.1},\"fill_color\":{\"value\":\"#1f77b4\"},\"line_alpha\":{\"value\":0.1},\"line_color\":{\"value\":\"#1f77b4\"},\"x\":{\"field\":\"x\"},\"y\":{\"field\":\"y\"}},\"id\":\"36c809ed-5f9f-4e27-8fe3-dce62063e23c\",\"type\":\"Square\"},{\"attributes\":{\"label\":{\"value\":\"sin(x)\"},\"renderers\":[{\"id\":\"291fdd60-f48c-4934-8078-4968ad1497aa\",\"type\":\"GlyphRenderer\"},{\"id\":\"a69241f3-81cd-490e-91ad-194ee3dd9541\",\"type\":\"GlyphRenderer\"}]},\"id\":\"02649b06-b8df-4a21-b836-0968323bfe3d\",\"type\":\"LegendItem\"},{\"attributes\":{\"below\":[{\"id\":\"2350a826-951f-4264-941f-8d6f48b32940\",\"type\":\"LinearAxis\"}],\"left\":[{\"id\":\"266678f3-d63a-4d63-8c95-7a2db8fc8f9e\",\"type\":\"LinearAxis\"}],\"renderers\":[{\"id\":\"2350a826-951f-4264-941f-8d6f48b32940\",\"type\":\"LinearAxis\"},{\"id\":\"c1b2de67-5ab4-4ced-a512-d341c2ddd425\",\"type\":\"Grid\"},{\"id\":\"266678f3-d63a-4d63-8c95-7a2db8fc8f9e\",\"type\":\"LinearAxis\"},{\"id\":\"1776a56a-19a1-4f06-937f-867f96ac085b\",\"type\":\"Grid\"},{\"id\":\"85b352fe-6ebd-49ec-a500-c65fe51e34c5\",\"type\":\"BoxAnnotation\"},{\"id\":\"d79f08d9-9b57-4550-a483-7894ad4f522f\",\"type\":\"Legend\"},{\"id\":\"291fdd60-f48c-4934-8078-4968ad1497aa\",\"type\":\"GlyphRenderer\"},{\"id\":\"a69241f3-81cd-490e-91ad-194ee3dd9541\",\"type\":\"GlyphRenderer\"},{\"id\":\"359ac9c5-8a60-4342-97ca-969233fb0e25\",\"type\":\"GlyphRenderer\"},{\"id\":\"3d8ce054-cd14-4dd8-8e3f-a032634e8f62\",\"type\":\"GlyphRenderer\"},{\"id\":\"fd5d7b21-5f09-41a1-a6ce-177a0c0ad702\",\"type\":\"GlyphRenderer\"}],\"title\":{\"id\":\"530b10ef-b9fb-4e35-b0d7-2fe402493d53\",\"type\":\"Title\"},\"toolbar\":{\"id\":\"efebb9fb-db43-44d5-964c-c3e9e5cf96d2\",\"type\":\"Toolbar\"},\"x_range\":{\"id\":\"e25b6d4d-ce4a-475f-848e-f5b6c692f5b2\",\"type\":\"DataRange1d\"},\"x_scale\":{\"id\":\"3a46ccd9-c6cc-44e0-822c-8c0ae6baf69f\",\"type\":\"LinearScale\"},\"y_range\":{\"id\":\"76665cc0-e69f-4533-a06c-4d7594a56328\",\"type\":\"DataRange1d\"},\"y_scale\":{\"id\":\"5a156e45-9414-40fb-b870-e2a1c69ce502\",\"type\":\"LinearScale\"}},\"id\":\"fd0efd6e-7d45-4973-8544-9769fee7f738\",\"subtype\":\"Figure\",\"type\":\"Plot\"},{\"attributes\":{\"line_color\":\"orange\",\"line_dash\":[4,4],\"line_width\":2,\"x\":{\"field\":\"x\"},\"y\":{\"field\":\"y\"}},\"id\":\"1b8ba549-3890-41c4-ac4a-8cb43b70eae0\",\"type\":\"Line\"},{\"attributes\":{\"fill_alpha\":{\"value\":0.1},\"fill_color\":{\"value\":\"#1f77b4\"},\"line_alpha\":{\"value\":0.1},\"line_color\":{\"value\":\"#1f77b4\"},\"x\":{\"field\":\"x\"},\"y\":{\"field\":\"y\"}},\"id\":\"babdf775-e9ec-4c09-97e3-d5c88569f78c\",\"type\":\"Circle\"},{\"attributes\":{\"source\":{\"id\":\"23450ec6-436a-4f15-ae56-2367dcae0c3f\",\"type\":\"ColumnDataSource\"}},\"id\":\"602d3308-c484-413d-b305-70b344a5d022\",\"type\":\"CDSView\"},{\"attributes\":{\"source\":{\"id\":\"830155cf-41bb-46c9-bd69-2bbbc234ddbe\",\"type\":\"ColumnDataSource\"}},\"id\":\"de910801-21bf-4a15-a533-d129be732409\",\"type\":\"CDSView\"},{\"attributes\":{\"fill_color\":{\"value\":null},\"line_color\":{\"value\":\"green\"},\"x\":{\"field\":\"x\"},\"y\":{\"field\":\"y\"}},\"id\":\"6facc03d-6ccd-46cb-a9d0-33578b0a13f3\",\"type\":\"Square\"},{\"attributes\":{\"data_source\":{\"id\":\"f9d2f1ef-20e5-489e-813b-ac097c39f45a\",\"type\":\"ColumnDataSource\"},\"glyph\":{\"id\":\"5cc9f5c9-ad06-4af2-846d-83ea34bd7690\",\"type\":\"Line\"},\"hover_glyph\":null,\"muted_glyph\":null,\"nonselection_glyph\":{\"id\":\"6eb6121f-45ef-4dda-826f-0ea92ef524c2\",\"type\":\"Line\"},\"selection_glyph\":null,\"view\":{\"id\":\"bccf3e5e-50f2-449d-bccd-b0c89c3c877a\",\"type\":\"CDSView\"}},\"id\":\"fd5d7b21-5f09-41a1-a6ce-177a0c0ad702\",\"type\":\"GlyphRenderer\"},{\"attributes\":{\"callback\":null},\"id\":\"e25b6d4d-ce4a-475f-848e-f5b6c692f5b2\",\"type\":\"DataRange1d\"},{\"attributes\":{\"label\":{\"value\":\"3*sin(x)\"},\"renderers\":[{\"id\":\"3d8ce054-cd14-4dd8-8e3f-a032634e8f62\",\"type\":\"GlyphRenderer\"},{\"id\":\"fd5d7b21-5f09-41a1-a6ce-177a0c0ad702\",\"type\":\"GlyphRenderer\"}]},\"id\":\"7c5c2bde-0034-40c6-99e0-3af400997695\",\"type\":\"LegendItem\"},{\"attributes\":{\"line_color\":\"#1f77b4\",\"x\":{\"field\":\"x\"},\"y\":{\"field\":\"y\"}},\"id\":\"dc132819-88fb-43ac-a5f9-c80be3382eb1\",\"type\":\"Line\"},{\"attributes\":{\"data_source\":{\"id\":\"ca1c8fc5-1036-416f-b446-1167ae6c141c\",\"type\":\"ColumnDataSource\"},\"glyph\":{\"id\":\"1b8ba549-3890-41c4-ac4a-8cb43b70eae0\",\"type\":\"Line\"},\"hover_glyph\":null,\"muted_glyph\":null,\"nonselection_glyph\":{\"id\":\"76b12a19-f666-47c9-af9b-32ef3c7e0d81\",\"type\":\"Line\"},\"selection_glyph\":null,\"view\":{\"id\":\"b63c895b-daa6-44d7-a2bb-fb8770be64f0\",\"type\":\"CDSView\"}},\"id\":\"359ac9c5-8a60-4342-97ca-969233fb0e25\",\"type\":\"GlyphRenderer\"},{\"attributes\":{\"fill_color\":{\"value\":\"#1f77b4\"},\"line_color\":{\"value\":\"#1f77b4\"},\"x\":{\"field\":\"x\"},\"y\":{\"field\":\"y\"}},\"id\":\"8c7a58e9-8aaa-4042-8b69-d8350051323d\",\"type\":\"Circle\"},{\"attributes\":{\"callback\":null},\"id\":\"76665cc0-e69f-4533-a06c-4d7594a56328\",\"type\":\"DataRange1d\"},{\"attributes\":{\"formatter\":{\"id\":\"206ac878-d39f-4b23-b29a-0f7144319144\",\"type\":\"BasicTickFormatter\"},\"plot\":{\"id\":\"fd0efd6e-7d45-4973-8544-9769fee7f738\",\"subtype\":\"Figure\",\"type\":\"Plot\"},\"ticker\":{\"id\":\"3cf0a725-7399-47b7-beed-6a686e4500c5\",\"type\":\"BasicTicker\"}},\"id\":\"266678f3-d63a-4d63-8c95-7a2db8fc8f9e\",\"type\":\"LinearAxis\"},{\"attributes\":{\"line_color\":\"green\",\"x\":{\"field\":\"x\"},\"y\":{\"field\":\"y\"}},\"id\":\"5cc9f5c9-ad06-4af2-846d-83ea34bd7690\",\"type\":\"Line\"},{\"attributes\":{\"active_drag\":\"auto\",\"active_inspect\":\"auto\",\"active_scroll\":\"auto\",\"active_tap\":\"auto\",\"tools\":[{\"id\":\"c40e0965-07e5-463f-bfee-dd2710d59cce\",\"type\":\"PanTool\"},{\"id\":\"6f26fd7e-ff82-45b8-98f9-f64ec1bd9132\",\"type\":\"WheelZoomTool\"},{\"id\":\"896accd0-0a0c-4aea-aa79-efd8b1cadc4e\",\"type\":\"BoxZoomTool\"},{\"id\":\"580368c5-a426-47b5-a07f-1a833d5a5a87\",\"type\":\"SaveTool\"},{\"id\":\"ae48aa41-671b-4a2c-9f2d-f71ce4d45764\",\"type\":\"ResetTool\"},{\"id\":\"e0264b29-3f01-446b-8826-afc58233d9af\",\"type\":\"HelpTool\"}]},\"id\":\"efebb9fb-db43-44d5-964c-c3e9e5cf96d2\",\"type\":\"Toolbar\"},{\"attributes\":{\"callback\":null,\"column_names\":[\"x\",\"y\"],\"data\":{\"x\":{\"__ndarray__\":\"AAAAAAAAAACRGkt8Vz/AP5EaS3xXP9A/2qdwOgNf2D+RGkt8Vz/gPzXhXVstT+Q/2qdwOgNf6D9+boMZ2W7sP5EaS3xXP/A/433Ua0JH8j814V1bLU/0P4dE50oYV/Y/2qdwOgNf+D8sC/op7mb6P35ugxnZbvw/0NEMCcR2/j+RGkt8Vz8AQDrMD/RMQwFA433Ua0JHAkCML5njN0sDQDXhXVstTwRA3pIi0yJTBUCHROdKGFcGQDD2q8INWwdA2qdwOgNfCECDWTWy+GIJQCwL+inuZgpA1by+oeNqC0B+boMZ2W4MQCcgSJHOcg1A0NEMCcR2DkB5g9GAuXoPQJEaS3xXPxBAZnMtOFLBEEA6zA/0TEMRQA8l8q9HxRFA433Ua0JHEkC41rYnPckSQIwvmeM3SxNAYYh7nzLNE0A14V1bLU8UQAo6QBco0RRA3pIi0yJTFUCz6wSPHdUVQIdE50oYVxZAXJ3JBhPZFkAw9qvCDVsXQAVPjn4I3RdA2qdwOgNfGECuAFP2/eAYQINZNbL4YhlAV7IXbvPkGUAsC/op7mYaQABk3OXo6BpA1by+oeNqG0CpFaFd3uwbQH5ugxnZbhxAUsdl1dPwHEAnIEiRznIdQPt4Kk3J9B1A0NEMCcR2HkCkKu/EvvgeQHmD0YC5eh9ATdyzPLT8H0CRGkt8Vz8gQPtGPNpUgCBAZnMtOFLBIEDQnx6WTwIhQDrMD/RMQyFApPgAUkqEIUAPJfKvR8UhQHlR4w1FBiJA433Ua0JHIkBNqsXJP4giQLjWtic9ySJAIgOohToKI0CML5njN0sjQPZbikE1jCNAYYh7nzLNI0DLtGz9Lw4kQDXhXVstTyRAoA1PuSqQJEAKOkAXKNEkQHRmMXUlEiVA3pIi0yJTJUBJvxMxIJQlQLPrBI8d1SVAHRj27BoWJkCHROdKGFcmQPJw2KgVmCZAXJ3JBhPZJkDGybpkEBonQDD2q8INWydAmyKdIAucJ0AFT45+CN0nQG97f9wFHihA2qdwOgNfKEBE1GGYAKAoQK4AU/b94ChAGC1EVPshKUA=\",\"dtype\":\"float64\",\"shape\":[100]},\"y\":{\"__ndarray__\":\"AAAAAAAAAADoxQO0RU7YP+dMxoI2HOg//C5K/vzW8T/Tua6vYlb3P+nH5xKndfw/AFIvb9iPAEBm8BjVpKACQNka5Ym2ZARADqEya8fUBUD+Gu1b6+oGQBHVYKmoogdAYgGEegr5B0DMzIX9rOwHQM+xeSHDfQdA1L6JxBWuBkB9BRBa/IAFQO0A3yZP+wNAeZ5rTFMjAkDe5Qz1oAAAQDnpZxcIOPs/tv7u/6/+9T/6iGdXvmrwP2wf+wVaJuU/5X710zFA0j+uSTsu9124v2QnUqkVVt6/o9Qx/NsL679m4Ulpoj7zvxQdiFoRqPi/bDUKCPCr/b/J7VIByxoBwPGhyyYpGQPAgTlCLtzIBMCuGkzd8SIGwAOBBKLYIQfAMzIqg3bBB8BzaxsFOv8HwKfUGL4k2gfAJ8c7bs9SB8BSNUOKZ2sGwCX1VkOmJwXAMfGzMMGMA8AjU27aVKEBwC4hWvuS2v6/DwQZ9WTz+b9lsKPjUaH0v8Yvs7GI9O2/YIF44Akr4r8GSRAz01rIvzJJEDPTWsg/aoF44Akr4j/QL7OxiPTtP2Cwo+NRofQ/FAQZ9WTz+T8qIVr7ktr+PyVTbtpUoQFAMPGzMMGMA0Am9VZDpicFQFE1Q4pnawZAKMc7bs9SB0Cn1Bi+JNoHQHNrGwU6/wdANDIqg3bBB0ACgQSi2CEHQLAaTN3xIgZAfTlCLtzIBEDwocsmKRkDQMntUgHLGgFAcTUKCPCr/T8MHYhaEaj4P2HhSWmiPvM/pNQx/NsL6z99J1KpFVbeP/ZIOy73Xbg/+n710zFA0r9fH/sFWiblv+6IZ1e+avC/uv7u/6/+9b846WcXCDj7v9vlDPWgAADAfJ5rTFMjAsDuAN8mT/sDwH0FEFr8gAXA076JxBWuBsDQsXkhw30HwMzMhf2s7AfAYgGEegr5B8AS1WCpqKIHwPwa7Vvr6gbADqEya8fUBcDaGuWJtmQEwGnwGNWkoALA/VEvb9iPAMDpx+cSp3X8v9a5rq9iVve/8C5K/vzW8b/bTMaCNhzov+rFA7RFTti/CoqeTDl52rw=\",\"dtype\":\"float64\",\"shape\":[100]}}},\"id\":\"23450ec6-436a-4f15-ae56-2367dcae0c3f\",\"type\":\"ColumnDataSource\"},{\"attributes\":{},\"id\":\"3a46ccd9-c6cc-44e0-822c-8c0ae6baf69f\",\"type\":\"LinearScale\"},{\"attributes\":{},\"id\":\"6f26fd7e-ff82-45b8-98f9-f64ec1bd9132\",\"type\":\"WheelZoomTool\"},{\"attributes\":{\"plot\":{\"id\":\"fd0efd6e-7d45-4973-8544-9769fee7f738\",\"subtype\":\"Figure\",\"type\":\"Plot\"},\"ticker\":{\"id\":\"1a6c22c1-0544-4f6e-8dfd-b1f1d17e7c57\",\"type\":\"BasicTicker\"}},\"id\":\"c1b2de67-5ab4-4ced-a512-d341c2ddd425\",\"type\":\"Grid\"},{\"attributes\":{\"line_alpha\":0.1,\"line_color\":\"#1f77b4\",\"x\":{\"field\":\"x\"},\"y\":{\"field\":\"y\"}},\"id\":\"6eb6121f-45ef-4dda-826f-0ea92ef524c2\",\"type\":\"Line\"},{\"attributes\":{},\"id\":\"1a6c22c1-0544-4f6e-8dfd-b1f1d17e7c57\",\"type\":\"BasicTicker\"},{\"attributes\":{\"formatter\":{\"id\":\"aec7058c-4b25-4cc3-ad8b-a77efeda7fe2\",\"type\":\"BasicTickFormatter\"},\"plot\":{\"id\":\"fd0efd6e-7d45-4973-8544-9769fee7f738\",\"subtype\":\"Figure\",\"type\":\"Plot\"},\"ticker\":{\"id\":\"1a6c22c1-0544-4f6e-8dfd-b1f1d17e7c57\",\"type\":\"BasicTicker\"}},\"id\":\"2350a826-951f-4264-941f-8d6f48b32940\",\"type\":\"LinearAxis\"},{\"attributes\":{\"data_source\":{\"id\":\"41b92a9f-5fd8-40af-9a16-8f80f6a08988\",\"type\":\"ColumnDataSource\"},\"glyph\":{\"id\":\"dc132819-88fb-43ac-a5f9-c80be3382eb1\",\"type\":\"Line\"},\"hover_glyph\":null,\"muted_glyph\":null,\"nonselection_glyph\":{\"id\":\"b7dc71c7-29d1-4afb-b285-948cc72a8d79\",\"type\":\"Line\"},\"selection_glyph\":null,\"view\":{\"id\":\"367dc79c-80e3-4a33-a9d3-827bb7cf2271\",\"type\":\"CDSView\"}},\"id\":\"a69241f3-81cd-490e-91ad-194ee3dd9541\",\"type\":\"GlyphRenderer\"},{\"attributes\":{},\"id\":\"3cf0a725-7399-47b7-beed-6a686e4500c5\",\"type\":\"BasicTicker\"},{\"attributes\":{},\"id\":\"5a156e45-9414-40fb-b870-e2a1c69ce502\",\"type\":\"LinearScale\"},{\"attributes\":{\"callback\":null,\"column_names\":[\"x\",\"y\"],\"data\":{\"x\":{\"__ndarray__\":\"AAAAAAAAAACRGkt8Vz/AP5EaS3xXP9A/2qdwOgNf2D+RGkt8Vz/gPzXhXVstT+Q/2qdwOgNf6D9+boMZ2W7sP5EaS3xXP/A/433Ua0JH8j814V1bLU/0P4dE50oYV/Y/2qdwOgNf+D8sC/op7mb6P35ugxnZbvw/0NEMCcR2/j+RGkt8Vz8AQDrMD/RMQwFA433Ua0JHAkCML5njN0sDQDXhXVstTwRA3pIi0yJTBUCHROdKGFcGQDD2q8INWwdA2qdwOgNfCECDWTWy+GIJQCwL+inuZgpA1by+oeNqC0B+boMZ2W4MQCcgSJHOcg1A0NEMCcR2DkB5g9GAuXoPQJEaS3xXPxBAZnMtOFLBEEA6zA/0TEMRQA8l8q9HxRFA433Ua0JHEkC41rYnPckSQIwvmeM3SxNAYYh7nzLNE0A14V1bLU8UQAo6QBco0RRA3pIi0yJTFUCz6wSPHdUVQIdE50oYVxZAXJ3JBhPZFkAw9qvCDVsXQAVPjn4I3RdA2qdwOgNfGECuAFP2/eAYQINZNbL4YhlAV7IXbvPkGUAsC/op7mYaQABk3OXo6BpA1by+oeNqG0CpFaFd3uwbQH5ugxnZbhxAUsdl1dPwHEAnIEiRznIdQPt4Kk3J9B1A0NEMCcR2HkCkKu/EvvgeQHmD0YC5eh9ATdyzPLT8H0CRGkt8Vz8gQPtGPNpUgCBAZnMtOFLBIEDQnx6WTwIhQDrMD/RMQyFApPgAUkqEIUAPJfKvR8UhQHlR4w1FBiJA433Ua0JHIkBNqsXJP4giQLjWtic9ySJAIgOohToKI0CML5njN0sjQPZbikE1jCNAYYh7nzLNI0DLtGz9Lw4kQDXhXVstTyRAoA1PuSqQJEAKOkAXKNEkQHRmMXUlEiVA3pIi0yJTJUBJvxMxIJQlQLPrBI8d1SVAHRj27BoWJkCHROdKGFcmQPJw2KgVmCZAXJ3JBhPZJkDGybpkEBonQDD2q8INWydAmyKdIAucJ0AFT45+CN0nQG97f9wFHihA2qdwOgNfKEBE1GGYAKAoQK4AU/b94ChAGC1EVPshKUA=\",\"dtype\":\"float64\",\"shape\":[100]},\"y\":{\"__ndarray__\":\"AAAAAAAAAADoxQO0RU7YP+dMxoI2HOg//C5K/vzW8T/Tua6vYlb3P+nH5xKndfw/AFIvb9iPAEBm8BjVpKACQNka5Ym2ZARADqEya8fUBUD+Gu1b6+oGQBHVYKmoogdAYgGEegr5B0DMzIX9rOwHQM+xeSHDfQdA1L6JxBWuBkB9BRBa/IAFQO0A3yZP+wNAeZ5rTFMjAkDe5Qz1oAAAQDnpZxcIOPs/tv7u/6/+9T/6iGdXvmrwP2wf+wVaJuU/5X710zFA0j+uSTsu9124v2QnUqkVVt6/o9Qx/NsL679m4Ulpoj7zvxQdiFoRqPi/bDUKCPCr/b/J7VIByxoBwPGhyyYpGQPAgTlCLtzIBMCuGkzd8SIGwAOBBKLYIQfAMzIqg3bBB8BzaxsFOv8HwKfUGL4k2gfAJ8c7bs9SB8BSNUOKZ2sGwCX1VkOmJwXAMfGzMMGMA8AjU27aVKEBwC4hWvuS2v6/DwQZ9WTz+b9lsKPjUaH0v8Yvs7GI9O2/YIF44Akr4r8GSRAz01rIvzJJEDPTWsg/aoF44Akr4j/QL7OxiPTtP2Cwo+NRofQ/FAQZ9WTz+T8qIVr7ktr+PyVTbtpUoQFAMPGzMMGMA0Am9VZDpicFQFE1Q4pnawZAKMc7bs9SB0Cn1Bi+JNoHQHNrGwU6/wdANDIqg3bBB0ACgQSi2CEHQLAaTN3xIgZAfTlCLtzIBEDwocsmKRkDQMntUgHLGgFAcTUKCPCr/T8MHYhaEaj4P2HhSWmiPvM/pNQx/NsL6z99J1KpFVbeP/ZIOy73Xbg/+n710zFA0r9fH/sFWiblv+6IZ1e+avC/uv7u/6/+9b846WcXCDj7v9vlDPWgAADAfJ5rTFMjAsDuAN8mT/sDwH0FEFr8gAXA076JxBWuBsDQsXkhw30HwMzMhf2s7AfAYgGEegr5B8AS1WCpqKIHwPwa7Vvr6gbADqEya8fUBcDaGuWJtmQEwGnwGNWkoALA/VEvb9iPAMDpx+cSp3X8v9a5rq9iVve/8C5K/vzW8b/bTMaCNhzov+rFA7RFTti/CoqeTDl52rw=\",\"dtype\":\"float64\",\"shape\":[100]}}},\"id\":\"f9d2f1ef-20e5-489e-813b-ac097c39f45a\",\"type\":\"ColumnDataSource\"},{\"attributes\":{\"dimension\":1,\"plot\":{\"id\":\"fd0efd6e-7d45-4973-8544-9769fee7f738\",\"subtype\":\"Figure\",\"type\":\"Plot\"},\"ticker\":{\"id\":\"3cf0a725-7399-47b7-beed-6a686e4500c5\",\"type\":\"BasicTicker\"}},\"id\":\"1776a56a-19a1-4f06-937f-867f96ac085b\",\"type\":\"Grid\"},{\"attributes\":{\"label\":{\"value\":\"2*sin(x)\"},\"renderers\":[{\"id\":\"359ac9c5-8a60-4342-97ca-969233fb0e25\",\"type\":\"GlyphRenderer\"}]},\"id\":\"6aa44492-7fc3-4bbe-9c03-dcd5027c8e49\",\"type\":\"LegendItem\"},{\"attributes\":{},\"id\":\"e0264b29-3f01-446b-8826-afc58233d9af\",\"type\":\"HelpTool\"},{\"attributes\":{\"callback\":null,\"column_names\":[\"x\",\"y\"],\"data\":{\"x\":{\"__ndarray__\":\"AAAAAAAAAACRGkt8Vz/AP5EaS3xXP9A/2qdwOgNf2D+RGkt8Vz/gPzXhXVstT+Q/2qdwOgNf6D9+boMZ2W7sP5EaS3xXP/A/433Ua0JH8j814V1bLU/0P4dE50oYV/Y/2qdwOgNf+D8sC/op7mb6P35ugxnZbvw/0NEMCcR2/j+RGkt8Vz8AQDrMD/RMQwFA433Ua0JHAkCML5njN0sDQDXhXVstTwRA3pIi0yJTBUCHROdKGFcGQDD2q8INWwdA2qdwOgNfCECDWTWy+GIJQCwL+inuZgpA1by+oeNqC0B+boMZ2W4MQCcgSJHOcg1A0NEMCcR2DkB5g9GAuXoPQJEaS3xXPxBAZnMtOFLBEEA6zA/0TEMRQA8l8q9HxRFA433Ua0JHEkC41rYnPckSQIwvmeM3SxNAYYh7nzLNE0A14V1bLU8UQAo6QBco0RRA3pIi0yJTFUCz6wSPHdUVQIdE50oYVxZAXJ3JBhPZFkAw9qvCDVsXQAVPjn4I3RdA2qdwOgNfGECuAFP2/eAYQINZNbL4YhlAV7IXbvPkGUAsC/op7mYaQABk3OXo6BpA1by+oeNqG0CpFaFd3uwbQH5ugxnZbhxAUsdl1dPwHEAnIEiRznIdQPt4Kk3J9B1A0NEMCcR2HkCkKu/EvvgeQHmD0YC5eh9ATdyzPLT8H0CRGkt8Vz8gQPtGPNpUgCBAZnMtOFLBIEDQnx6WTwIhQDrMD/RMQyFApPgAUkqEIUAPJfKvR8UhQHlR4w1FBiJA433Ua0JHIkBNqsXJP4giQLjWtic9ySJAIgOohToKI0CML5njN0sjQPZbikE1jCNAYYh7nzLNI0DLtGz9Lw4kQDXhXVstTyRAoA1PuSqQJEAKOkAXKNEkQHRmMXUlEiVA3pIi0yJTJUBJvxMxIJQlQLPrBI8d1SVAHRj27BoWJkCHROdKGFcmQPJw2KgVmCZAXJ3JBhPZJkDGybpkEBonQDD2q8INWydAmyKdIAucJ0AFT45+CN0nQG97f9wFHihA2qdwOgNfKEBE1GGYAKAoQK4AU/b94ChAGC1EVPshKUA=\",\"dtype\":\"float64\",\"shape\":[100]},\"y\":{\"__ndarray__\":\"AAAAAAAAAADwgwJ4LjTQP5qI2QHPEuA/+5MNU1HJ5z8ZTT7q2B3vP0aFmgwa+fI/ABg/lCAV9j+IQCEcMdb4P3fOhmLzMPs/EyzujrQb/T/9Izwlj47+PxccgYyLg/8/g6xao7j2/z9mZrL8O+b/P7+X94FZUv8/xVNiW3I9/j9RB8Ai+6v8P5FWKYlppPo/oSg6uxkv+D/Sh2bxK1b1PyZGRbpaJfI/8qg+VZVT7T/4C4p0qOPlP+UppLIiM9w/3FNHxZdVyD/J23zJpD6wv+3ENsZjOdS/wo12/ecH4r/dgWKM2Kjpv2MTsJELcPC/83ixWvXH87+358MBZM72v5eCD4nhdvm/rExY6Hq2+7+TIxAn7YP9vwSssILL1/6/70I4BJ6s/7/vOc8G+P7/vzTGy1KGzf+/3176khQZ/7/C8a4NiuT9vzGcHq/dNPy/l0FFlgER+r+EGZN4xoH3vx8WPFK3kfS/Cli7+O1M8b+HQNqEwoHrv9kfIiFb+OO/gKyggGI52L8EhrXMjDzAvyGGtcyMPMA/jqyggGI52D/gHyIhW/jjP4BA2oTCges/DVi7+O1M8T8cFjxSt5H0P4cZk3jGgfc/lUFFlgER+j8ynB6v3TT8P8Hxrg2K5P0/4F76khQZ/z80xstShs3/P+85zwb4/v8/8EI4BJ6s/z8DrLCCy9f+P5UjECftg/0/p0xY6Hq2+z+Vgg+J4Xb5P7fnwwFkzvY/9nixWvXH8z9dE7CRC3DwP9eBYozYqOk/w412/ecH4j/+xDbGYznUP0/bfMmkPrA/+FNHxZdVyL/UKaSyIjPcv+gLinSo4+W/+Kg+VZVT7b8lRkW6WiXyv8+HZvErVvW/pig6uxkv+L+TVimJaaT6v1EHwCL7q/y/xFNiW3I9/r/Al/eBWVL/v2Zmsvw75v+/g6xao7j2/78YHIGMi4P/v/sjPCWPjv6/EyzujrQb/b94zoZi8zD7v4xAIRwx1vi//Bc/lCAV9r9GhZoMGvnyvx5NPurYHe+/65MNU1HJ57+SiNkBzxLgv/GDAnguNNC/B1wUMyam0bw=\",\"dtype\":\"float64\",\"shape\":[100]}}},\"id\":\"ca1c8fc5-1036-416f-b446-1167ae6c141c\",\"type\":\"ColumnDataSource\"},{\"attributes\":{},\"id\":\"580368c5-a426-47b5-a07f-1a833d5a5a87\",\"type\":\"SaveTool\"},{\"attributes\":{\"bottom_units\":\"screen\",\"fill_alpha\":{\"value\":0.5},\"fill_color\":{\"value\":\"lightgrey\"},\"left_units\":\"screen\",\"level\":\"overlay\",\"line_alpha\":{\"value\":1.0},\"line_color\":{\"value\":\"black\"},\"line_dash\":[4,4],\"line_width\":{\"value\":2},\"plot\":null,\"render_mode\":\"css\",\"right_units\":\"screen\",\"top_units\":\"screen\"},\"id\":\"85b352fe-6ebd-49ec-a500-c65fe51e34c5\",\"type\":\"BoxAnnotation\"},{\"attributes\":{\"overlay\":{\"id\":\"85b352fe-6ebd-49ec-a500-c65fe51e34c5\",\"type\":\"BoxAnnotation\"}},\"id\":\"896accd0-0a0c-4aea-aa79-efd8b1cadc4e\",\"type\":\"BoxZoomTool\"},{\"attributes\":{\"items\":[{\"id\":\"02649b06-b8df-4a21-b836-0968323bfe3d\",\"type\":\"LegendItem\"},{\"id\":\"6aa44492-7fc3-4bbe-9c03-dcd5027c8e49\",\"type\":\"LegendItem\"},{\"id\":\"7c5c2bde-0034-40c6-99e0-3af400997695\",\"type\":\"LegendItem\"}],\"orientation\":\"horizontal\",\"plot\":{\"id\":\"fd0efd6e-7d45-4973-8544-9769fee7f738\",\"subtype\":\"Figure\",\"type\":\"Plot\"}},\"id\":\"d79f08d9-9b57-4550-a483-7894ad4f522f\",\"type\":\"Legend\"},{\"attributes\":{\"data_source\":{\"id\":\"830155cf-41bb-46c9-bd69-2bbbc234ddbe\",\"type\":\"ColumnDataSource\"},\"glyph\":{\"id\":\"8c7a58e9-8aaa-4042-8b69-d8350051323d\",\"type\":\"Circle\"},\"hover_glyph\":null,\"muted_glyph\":null,\"nonselection_glyph\":{\"id\":\"babdf775-e9ec-4c09-97e3-d5c88569f78c\",\"type\":\"Circle\"},\"selection_glyph\":null,\"view\":{\"id\":\"de910801-21bf-4a15-a533-d129be732409\",\"type\":\"CDSView\"}},\"id\":\"291fdd60-f48c-4934-8078-4968ad1497aa\",\"type\":\"GlyphRenderer\"},{\"attributes\":{},\"id\":\"c40e0965-07e5-463f-bfee-dd2710d59cce\",\"type\":\"PanTool\"}],\"root_ids\":[\"fd0efd6e-7d45-4973-8544-9769fee7f738\"]},\"title\":\"Bokeh Application\",\"version\":\"0.12.13\"}};\n",
       "  var render_items = [{\"docid\":\"ed713d9d-d358-479a-9182-fc1c49d01e46\",\"elementid\":\"da2c2569-477c-44de-9986-b5815997d34f\",\"modelid\":\"fd0efd6e-7d45-4973-8544-9769fee7f738\"}];\n",
       "  root.Bokeh.embed.embed_items_notebook(docs_json, render_items);\n",
       "\n",
       "  }\n",
       "  if (root.Bokeh !== undefined) {\n",
       "    embed_document(root);\n",
       "  } else {\n",
       "    var attempts = 0;\n",
       "    var timer = setInterval(function(root) {\n",
       "      if (root.Bokeh !== undefined) {\n",
       "        embed_document(root);\n",
       "        clearInterval(timer);\n",
       "      }\n",
       "      attempts++;\n",
       "      if (attempts > 100) {\n",
       "        console.log(\"Bokeh: ERROR: Unable to run BokehJS code because BokehJS library is missing\")\n",
       "        clearInterval(timer);\n",
       "      }\n",
       "    }, 10, root)\n",
       "  }\n",
       "})(window);"
      ],
      "application/vnd.bokehjs_exec.v0+json": ""
     },
     "metadata": {
      "application/vnd.bokehjs_exec.v0+json": {
       "id": "fd0efd6e-7d45-4973-8544-9769fee7f738"
      }
     },
     "output_type": "display_data"
    }
   ],
   "source": [
    "# Orientation\n",
    "\n",
    "x = np.linspace(0, 4*np.pi, 100)\n",
    "y = np.sin(x)\n",
    "\n",
    "p = figure()\n",
    "\n",
    "p.circle(x, y, legend=\"sin(x)\")\n",
    "p.line(x, y, legend=\"sin(x)\")\n",
    "\n",
    "p.line(x, 2*y, legend=\"2*sin(x)\",\n",
    "       line_dash=[4, 4], line_color=\"orange\", line_width=2)\n",
    "\n",
    "p.square(x, 3*y, legend=\"3*sin(x)\", fill_color=None, line_color=\"green\")\n",
    "p.line(x, 3*y, legend=\"3*sin(x)\", line_color=\"green\")\n",
    "\n",
    "p.legend.orientation = \"horizontal\"\n",
    "\n",
    "show(p)"
   ]
  },
  {
   "cell_type": "code",
   "execution_count": 41,
   "metadata": {},
   "outputs": [
    {
     "data": {
      "text/html": [
       "\n",
       "<div class=\"bk-root\">\n",
       "    <div class=\"bk-plotdiv\" id=\"6f1726ed-1c1e-4647-9086-112f09252734\"></div>\n",
       "</div>"
      ]
     },
     "metadata": {},
     "output_type": "display_data"
    },
    {
     "data": {
      "application/javascript": [
       "(function(root) {\n",
       "  function embed_document(root) {\n",
       "    \n",
       "  var docs_json = {\"255a49bf-7bea-43b8-941e-0495917c4b44\":{\"roots\":{\"references\":[{\"attributes\":{\"source\":{\"id\":\"9dc8a68c-1a49-494d-9c36-3c41d04f108f\",\"type\":\"ColumnDataSource\"}},\"id\":\"1c4a5d5a-e14c-413d-bfaa-b34306f928f1\",\"type\":\"CDSView\"},{\"attributes\":{},\"id\":\"78630e24-de11-4eb9-aaa5-70e0a05708b2\",\"type\":\"BasicTickFormatter\"},{\"attributes\":{\"data_source\":{\"id\":\"4bb38cde-685c-4393-a416-34f320d6a831\",\"type\":\"ColumnDataSource\"},\"glyph\":{\"id\":\"63333bb1-8a4c-4e40-9466-cddcc99e08e9\",\"type\":\"Line\"},\"hover_glyph\":null,\"muted_glyph\":null,\"nonselection_glyph\":{\"id\":\"8d239f23-b411-4c4e-89cb-e6056db1e587\",\"type\":\"Line\"},\"selection_glyph\":null,\"view\":{\"id\":\"ce2ad373-a77c-45fb-9f58-60071441e6dd\",\"type\":\"CDSView\"}},\"id\":\"14888cac-b82b-43af-a146-ac803f5f6f0d\",\"type\":\"GlyphRenderer\"},{\"attributes\":{\"label\":{\"value\":\"sin(x)\"},\"renderers\":[{\"id\":\"2523f5b4-0f33-4a81-9087-cb33dba3f356\",\"type\":\"GlyphRenderer\"},{\"id\":\"14888cac-b82b-43af-a146-ac803f5f6f0d\",\"type\":\"GlyphRenderer\"}]},\"id\":\"ca61d320-f5a9-41e8-83a0-74dbcbe96051\",\"type\":\"LegendItem\"},{\"attributes\":{\"items\":[{\"id\":\"ca61d320-f5a9-41e8-83a0-74dbcbe96051\",\"type\":\"LegendItem\"},{\"id\":\"d7e4d3bf-ec9c-4df6-973c-7bee2b78af06\",\"type\":\"LegendItem\"},{\"id\":\"1e7aa5db-a13d-45bf-a2c1-d5e511ff4b3e\",\"type\":\"LegendItem\"}],\"label_text_color\":{\"value\":\"navy\"},\"label_text_font\":\"times\",\"label_text_font_style\":\"italic\",\"plot\":{\"id\":\"e275c11d-be68-4a5e-84b8-3df127b442a6\",\"subtype\":\"Figure\",\"type\":\"Plot\"}},\"id\":\"d396433b-42ca-44c9-a2dc-c3f48d1eaf13\",\"type\":\"Legend\"},{\"attributes\":{\"line_color\":\"orange\",\"line_dash\":[4,4],\"line_width\":2,\"x\":{\"field\":\"x\"},\"y\":{\"field\":\"y\"}},\"id\":\"c897e27c-da5f-4948-b087-663c9b8e82b9\",\"type\":\"Line\"},{\"attributes\":{\"data_source\":{\"id\":\"d1ac4fd3-d1f4-4b74-9fc9-d4b7252e9a74\",\"type\":\"ColumnDataSource\"},\"glyph\":{\"id\":\"c897e27c-da5f-4948-b087-663c9b8e82b9\",\"type\":\"Line\"},\"hover_glyph\":null,\"muted_glyph\":null,\"nonselection_glyph\":{\"id\":\"d8f0ac4d-182e-41eb-8ac6-037a5dfa9d76\",\"type\":\"Line\"},\"selection_glyph\":null,\"view\":{\"id\":\"67dba61e-0e05-45a4-8c75-245d03e5d89a\",\"type\":\"CDSView\"}},\"id\":\"1bd62a5c-4813-41da-b570-98b24ef426bf\",\"type\":\"GlyphRenderer\"},{\"attributes\":{\"line_color\":\"#1f77b4\",\"x\":{\"field\":\"x\"},\"y\":{\"field\":\"y\"}},\"id\":\"63333bb1-8a4c-4e40-9466-cddcc99e08e9\",\"type\":\"Line\"},{\"attributes\":{\"source\":{\"id\":\"4bb38cde-685c-4393-a416-34f320d6a831\",\"type\":\"ColumnDataSource\"}},\"id\":\"ce2ad373-a77c-45fb-9f58-60071441e6dd\",\"type\":\"CDSView\"},{\"attributes\":{\"callback\":null,\"column_names\":[\"x\",\"y\"],\"data\":{\"x\":{\"__ndarray__\":\"AAAAAAAAAACRGkt8Vz/AP5EaS3xXP9A/2qdwOgNf2D+RGkt8Vz/gPzXhXVstT+Q/2qdwOgNf6D9+boMZ2W7sP5EaS3xXP/A/433Ua0JH8j814V1bLU/0P4dE50oYV/Y/2qdwOgNf+D8sC/op7mb6P35ugxnZbvw/0NEMCcR2/j+RGkt8Vz8AQDrMD/RMQwFA433Ua0JHAkCML5njN0sDQDXhXVstTwRA3pIi0yJTBUCHROdKGFcGQDD2q8INWwdA2qdwOgNfCECDWTWy+GIJQCwL+inuZgpA1by+oeNqC0B+boMZ2W4MQCcgSJHOcg1A0NEMCcR2DkB5g9GAuXoPQJEaS3xXPxBAZnMtOFLBEEA6zA/0TEMRQA8l8q9HxRFA433Ua0JHEkC41rYnPckSQIwvmeM3SxNAYYh7nzLNE0A14V1bLU8UQAo6QBco0RRA3pIi0yJTFUCz6wSPHdUVQIdE50oYVxZAXJ3JBhPZFkAw9qvCDVsXQAVPjn4I3RdA2qdwOgNfGECuAFP2/eAYQINZNbL4YhlAV7IXbvPkGUAsC/op7mYaQABk3OXo6BpA1by+oeNqG0CpFaFd3uwbQH5ugxnZbhxAUsdl1dPwHEAnIEiRznIdQPt4Kk3J9B1A0NEMCcR2HkCkKu/EvvgeQHmD0YC5eh9ATdyzPLT8H0CRGkt8Vz8gQPtGPNpUgCBAZnMtOFLBIEDQnx6WTwIhQDrMD/RMQyFApPgAUkqEIUAPJfKvR8UhQHlR4w1FBiJA433Ua0JHIkBNqsXJP4giQLjWtic9ySJAIgOohToKI0CML5njN0sjQPZbikE1jCNAYYh7nzLNI0DLtGz9Lw4kQDXhXVstTyRAoA1PuSqQJEAKOkAXKNEkQHRmMXUlEiVA3pIi0yJTJUBJvxMxIJQlQLPrBI8d1SVAHRj27BoWJkCHROdKGFcmQPJw2KgVmCZAXJ3JBhPZJkDGybpkEBonQDD2q8INWydAmyKdIAucJ0AFT45+CN0nQG97f9wFHihA2qdwOgNfKEBE1GGYAKAoQK4AU/b94ChAGC1EVPshKUA=\",\"dtype\":\"float64\",\"shape\":[100]},\"y\":{\"__ndarray__\":\"AAAAAAAAAADoxQO0RU7YP+dMxoI2HOg//C5K/vzW8T/Tua6vYlb3P+nH5xKndfw/AFIvb9iPAEBm8BjVpKACQNka5Ym2ZARADqEya8fUBUD+Gu1b6+oGQBHVYKmoogdAYgGEegr5B0DMzIX9rOwHQM+xeSHDfQdA1L6JxBWuBkB9BRBa/IAFQO0A3yZP+wNAeZ5rTFMjAkDe5Qz1oAAAQDnpZxcIOPs/tv7u/6/+9T/6iGdXvmrwP2wf+wVaJuU/5X710zFA0j+uSTsu9124v2QnUqkVVt6/o9Qx/NsL679m4Ulpoj7zvxQdiFoRqPi/bDUKCPCr/b/J7VIByxoBwPGhyyYpGQPAgTlCLtzIBMCuGkzd8SIGwAOBBKLYIQfAMzIqg3bBB8BzaxsFOv8HwKfUGL4k2gfAJ8c7bs9SB8BSNUOKZ2sGwCX1VkOmJwXAMfGzMMGMA8AjU27aVKEBwC4hWvuS2v6/DwQZ9WTz+b9lsKPjUaH0v8Yvs7GI9O2/YIF44Akr4r8GSRAz01rIvzJJEDPTWsg/aoF44Akr4j/QL7OxiPTtP2Cwo+NRofQ/FAQZ9WTz+T8qIVr7ktr+PyVTbtpUoQFAMPGzMMGMA0Am9VZDpicFQFE1Q4pnawZAKMc7bs9SB0Cn1Bi+JNoHQHNrGwU6/wdANDIqg3bBB0ACgQSi2CEHQLAaTN3xIgZAfTlCLtzIBEDwocsmKRkDQMntUgHLGgFAcTUKCPCr/T8MHYhaEaj4P2HhSWmiPvM/pNQx/NsL6z99J1KpFVbeP/ZIOy73Xbg/+n710zFA0r9fH/sFWiblv+6IZ1e+avC/uv7u/6/+9b846WcXCDj7v9vlDPWgAADAfJ5rTFMjAsDuAN8mT/sDwH0FEFr8gAXA076JxBWuBsDQsXkhw30HwMzMhf2s7AfAYgGEegr5B8AS1WCpqKIHwPwa7Vvr6gbADqEya8fUBcDaGuWJtmQEwGnwGNWkoALA/VEvb9iPAMDpx+cSp3X8v9a5rq9iVve/8C5K/vzW8b/bTMaCNhzov+rFA7RFTti/CoqeTDl52rw=\",\"dtype\":\"float64\",\"shape\":[100]}}},\"id\":\"75a73fd0-b4cb-4120-a26a-344ba730d59f\",\"type\":\"ColumnDataSource\"},{\"attributes\":{\"callback\":null,\"column_names\":[\"x\",\"y\"],\"data\":{\"x\":{\"__ndarray__\":\"AAAAAAAAAACRGkt8Vz/AP5EaS3xXP9A/2qdwOgNf2D+RGkt8Vz/gPzXhXVstT+Q/2qdwOgNf6D9+boMZ2W7sP5EaS3xXP/A/433Ua0JH8j814V1bLU/0P4dE50oYV/Y/2qdwOgNf+D8sC/op7mb6P35ugxnZbvw/0NEMCcR2/j+RGkt8Vz8AQDrMD/RMQwFA433Ua0JHAkCML5njN0sDQDXhXVstTwRA3pIi0yJTBUCHROdKGFcGQDD2q8INWwdA2qdwOgNfCECDWTWy+GIJQCwL+inuZgpA1by+oeNqC0B+boMZ2W4MQCcgSJHOcg1A0NEMCcR2DkB5g9GAuXoPQJEaS3xXPxBAZnMtOFLBEEA6zA/0TEMRQA8l8q9HxRFA433Ua0JHEkC41rYnPckSQIwvmeM3SxNAYYh7nzLNE0A14V1bLU8UQAo6QBco0RRA3pIi0yJTFUCz6wSPHdUVQIdE50oYVxZAXJ3JBhPZFkAw9qvCDVsXQAVPjn4I3RdA2qdwOgNfGECuAFP2/eAYQINZNbL4YhlAV7IXbvPkGUAsC/op7mYaQABk3OXo6BpA1by+oeNqG0CpFaFd3uwbQH5ugxnZbhxAUsdl1dPwHEAnIEiRznIdQPt4Kk3J9B1A0NEMCcR2HkCkKu/EvvgeQHmD0YC5eh9ATdyzPLT8H0CRGkt8Vz8gQPtGPNpUgCBAZnMtOFLBIEDQnx6WTwIhQDrMD/RMQyFApPgAUkqEIUAPJfKvR8UhQHlR4w1FBiJA433Ua0JHIkBNqsXJP4giQLjWtic9ySJAIgOohToKI0CML5njN0sjQPZbikE1jCNAYYh7nzLNI0DLtGz9Lw4kQDXhXVstTyRAoA1PuSqQJEAKOkAXKNEkQHRmMXUlEiVA3pIi0yJTJUBJvxMxIJQlQLPrBI8d1SVAHRj27BoWJkCHROdKGFcmQPJw2KgVmCZAXJ3JBhPZJkDGybpkEBonQDD2q8INWydAmyKdIAucJ0AFT45+CN0nQG97f9wFHihA2qdwOgNfKEBE1GGYAKAoQK4AU/b94ChAGC1EVPshKUA=\",\"dtype\":\"float64\",\"shape\":[100]},\"y\":{\"__ndarray__\":\"AAAAAAAAAADwgwJ4LjTAP5qI2QHPEtA/+5MNU1HJ1z8ZTT7q2B3fP0aFmgwa+eI/ABg/lCAV5j+IQCEcMdboP3fOhmLzMOs/EyzujrQb7T/9Izwlj47uPxccgYyLg+8/g6xao7j27z9mZrL8O+bvP7+X94FZUu8/xVNiW3I97j9RB8Ai+6vsP5FWKYlppOo/oSg6uxkv6D/Sh2bxK1blPyZGRbpaJeI/8qg+VZVT3T/4C4p0qOPVP+UppLIiM8w/3FNHxZdVuD/J23zJpD6gv+3ENsZjOcS/wo12/ecH0r/dgWKM2KjZv2MTsJELcOC/83ixWvXH47+358MBZM7mv5eCD4nhdum/rExY6Hq267+TIxAn7YPtvwSssILL1+6/70I4BJ6s77/vOc8G+P7vvzTGy1KGze+/3176khQZ77/C8a4NiuTtvzGcHq/dNOy/l0FFlgER6r+EGZN4xoHnvx8WPFK3keS/Cli7+O1M4b+HQNqEwoHbv9kfIiFb+NO/gKyggGI5yL8EhrXMjDywvyGGtcyMPLA/jqyggGI5yD/gHyIhW/jTP4BA2oTCgds/DVi7+O1M4T8cFjxSt5HkP4cZk3jGgec/lUFFlgER6j8ynB6v3TTsP8Hxrg2K5O0/4F76khQZ7z80xstShs3vP+85zwb4/u8/8EI4BJ6s7z8DrLCCy9fuP5UjECftg+0/p0xY6Hq26z+Vgg+J4XbpP7fnwwFkzuY/9nixWvXH4z9dE7CRC3DgP9eBYozYqNk/w412/ecH0j/+xDbGYznEP0/bfMmkPqA/+FNHxZdVuL/UKaSyIjPMv+gLinSo49W/+Kg+VZVT3b8lRkW6WiXiv8+HZvErVuW/pig6uxkv6L+TVimJaaTqv1EHwCL7q+y/xFNiW3I97r/Al/eBWVLvv2Zmsvw75u+/g6xao7j2778YHIGMi4Pvv/sjPCWPju6/EyzujrQb7b94zoZi8zDrv4xAIRwx1ui//Bc/lCAV5r9GhZoMGvnivx5NPurYHd+/65MNU1HJ17+SiNkBzxLQv/GDAnguNMC/B1wUMyamwbw=\",\"dtype\":\"float64\",\"shape\":[100]}}},\"id\":\"9dc8a68c-1a49-494d-9c36-3c41d04f108f\",\"type\":\"ColumnDataSource\"},{\"attributes\":{\"source\":{\"id\":\"d1ac4fd3-d1f4-4b74-9fc9-d4b7252e9a74\",\"type\":\"ColumnDataSource\"}},\"id\":\"67dba61e-0e05-45a4-8c75-245d03e5d89a\",\"type\":\"CDSView\"},{\"attributes\":{\"below\":[{\"id\":\"536a5f01-7782-4129-9842-59a4cd0ff917\",\"type\":\"LinearAxis\"}],\"left\":[{\"id\":\"3f3cf6b4-807d-4a96-9e9d-019e01a1e232\",\"type\":\"LinearAxis\"}],\"renderers\":[{\"id\":\"536a5f01-7782-4129-9842-59a4cd0ff917\",\"type\":\"LinearAxis\"},{\"id\":\"db3fb603-3c01-486e-8066-c107558f5a1e\",\"type\":\"Grid\"},{\"id\":\"3f3cf6b4-807d-4a96-9e9d-019e01a1e232\",\"type\":\"LinearAxis\"},{\"id\":\"d929d867-e79e-42bd-a1be-10c8c3fdc03b\",\"type\":\"Grid\"},{\"id\":\"69291122-6b1a-4855-9b60-364078be411c\",\"type\":\"BoxAnnotation\"},{\"id\":\"d396433b-42ca-44c9-a2dc-c3f48d1eaf13\",\"type\":\"Legend\"},{\"id\":\"2523f5b4-0f33-4a81-9087-cb33dba3f356\",\"type\":\"GlyphRenderer\"},{\"id\":\"14888cac-b82b-43af-a146-ac803f5f6f0d\",\"type\":\"GlyphRenderer\"},{\"id\":\"1bd62a5c-4813-41da-b570-98b24ef426bf\",\"type\":\"GlyphRenderer\"},{\"id\":\"1fb768ed-191b-463d-b806-52c2807b8eb6\",\"type\":\"GlyphRenderer\"},{\"id\":\"21a0186e-a157-4bd6-b84b-618968e891c5\",\"type\":\"GlyphRenderer\"}],\"title\":{\"id\":\"e6f53e59-6e44-4514-99c1-e2ee1fb20d1f\",\"type\":\"Title\"},\"toolbar\":{\"id\":\"25d352d5-bd7f-46d8-93a1-7f38ba104706\",\"type\":\"Toolbar\"},\"x_range\":{\"id\":\"be8759ee-d3e0-4157-b2d0-b8f2d65e7b43\",\"type\":\"DataRange1d\"},\"x_scale\":{\"id\":\"1d1f9930-b7f5-4402-89e2-794defbee0bd\",\"type\":\"LinearScale\"},\"y_range\":{\"id\":\"604455eb-e023-4fbd-abb6-4e6b1b926f36\",\"type\":\"DataRange1d\"},\"y_scale\":{\"id\":\"1b718dd3-5480-4ea7-97a4-ddf5f29894e9\",\"type\":\"LinearScale\"}},\"id\":\"e275c11d-be68-4a5e-84b8-3df127b442a6\",\"subtype\":\"Figure\",\"type\":\"Plot\"},{\"attributes\":{\"callback\":null,\"column_names\":[\"x\",\"y\"],\"data\":{\"x\":{\"__ndarray__\":\"AAAAAAAAAACRGkt8Vz/AP5EaS3xXP9A/2qdwOgNf2D+RGkt8Vz/gPzXhXVstT+Q/2qdwOgNf6D9+boMZ2W7sP5EaS3xXP/A/433Ua0JH8j814V1bLU/0P4dE50oYV/Y/2qdwOgNf+D8sC/op7mb6P35ugxnZbvw/0NEMCcR2/j+RGkt8Vz8AQDrMD/RMQwFA433Ua0JHAkCML5njN0sDQDXhXVstTwRA3pIi0yJTBUCHROdKGFcGQDD2q8INWwdA2qdwOgNfCECDWTWy+GIJQCwL+inuZgpA1by+oeNqC0B+boMZ2W4MQCcgSJHOcg1A0NEMCcR2DkB5g9GAuXoPQJEaS3xXPxBAZnMtOFLBEEA6zA/0TEMRQA8l8q9HxRFA433Ua0JHEkC41rYnPckSQIwvmeM3SxNAYYh7nzLNE0A14V1bLU8UQAo6QBco0RRA3pIi0yJTFUCz6wSPHdUVQIdE50oYVxZAXJ3JBhPZFkAw9qvCDVsXQAVPjn4I3RdA2qdwOgNfGECuAFP2/eAYQINZNbL4YhlAV7IXbvPkGUAsC/op7mYaQABk3OXo6BpA1by+oeNqG0CpFaFd3uwbQH5ugxnZbhxAUsdl1dPwHEAnIEiRznIdQPt4Kk3J9B1A0NEMCcR2HkCkKu/EvvgeQHmD0YC5eh9ATdyzPLT8H0CRGkt8Vz8gQPtGPNpUgCBAZnMtOFLBIEDQnx6WTwIhQDrMD/RMQyFApPgAUkqEIUAPJfKvR8UhQHlR4w1FBiJA433Ua0JHIkBNqsXJP4giQLjWtic9ySJAIgOohToKI0CML5njN0sjQPZbikE1jCNAYYh7nzLNI0DLtGz9Lw4kQDXhXVstTyRAoA1PuSqQJEAKOkAXKNEkQHRmMXUlEiVA3pIi0yJTJUBJvxMxIJQlQLPrBI8d1SVAHRj27BoWJkCHROdKGFcmQPJw2KgVmCZAXJ3JBhPZJkDGybpkEBonQDD2q8INWydAmyKdIAucJ0AFT45+CN0nQG97f9wFHihA2qdwOgNfKEBE1GGYAKAoQK4AU/b94ChAGC1EVPshKUA=\",\"dtype\":\"float64\",\"shape\":[100]},\"y\":{\"__ndarray__\":\"AAAAAAAAAADoxQO0RU7YP+dMxoI2HOg//C5K/vzW8T/Tua6vYlb3P+nH5xKndfw/AFIvb9iPAEBm8BjVpKACQNka5Ym2ZARADqEya8fUBUD+Gu1b6+oGQBHVYKmoogdAYgGEegr5B0DMzIX9rOwHQM+xeSHDfQdA1L6JxBWuBkB9BRBa/IAFQO0A3yZP+wNAeZ5rTFMjAkDe5Qz1oAAAQDnpZxcIOPs/tv7u/6/+9T/6iGdXvmrwP2wf+wVaJuU/5X710zFA0j+uSTsu9124v2QnUqkVVt6/o9Qx/NsL679m4Ulpoj7zvxQdiFoRqPi/bDUKCPCr/b/J7VIByxoBwPGhyyYpGQPAgTlCLtzIBMCuGkzd8SIGwAOBBKLYIQfAMzIqg3bBB8BzaxsFOv8HwKfUGL4k2gfAJ8c7bs9SB8BSNUOKZ2sGwCX1VkOmJwXAMfGzMMGMA8AjU27aVKEBwC4hWvuS2v6/DwQZ9WTz+b9lsKPjUaH0v8Yvs7GI9O2/YIF44Akr4r8GSRAz01rIvzJJEDPTWsg/aoF44Akr4j/QL7OxiPTtP2Cwo+NRofQ/FAQZ9WTz+T8qIVr7ktr+PyVTbtpUoQFAMPGzMMGMA0Am9VZDpicFQFE1Q4pnawZAKMc7bs9SB0Cn1Bi+JNoHQHNrGwU6/wdANDIqg3bBB0ACgQSi2CEHQLAaTN3xIgZAfTlCLtzIBEDwocsmKRkDQMntUgHLGgFAcTUKCPCr/T8MHYhaEaj4P2HhSWmiPvM/pNQx/NsL6z99J1KpFVbeP/ZIOy73Xbg/+n710zFA0r9fH/sFWiblv+6IZ1e+avC/uv7u/6/+9b846WcXCDj7v9vlDPWgAADAfJ5rTFMjAsDuAN8mT/sDwH0FEFr8gAXA076JxBWuBsDQsXkhw30HwMzMhf2s7AfAYgGEegr5B8AS1WCpqKIHwPwa7Vvr6gbADqEya8fUBcDaGuWJtmQEwGnwGNWkoALA/VEvb9iPAMDpx+cSp3X8v9a5rq9iVve/8C5K/vzW8b/bTMaCNhzov+rFA7RFTti/CoqeTDl52rw=\",\"dtype\":\"float64\",\"shape\":[100]}}},\"id\":\"63eb978e-3c51-45b7-aa0c-1bc39ead938b\",\"type\":\"ColumnDataSource\"},{\"attributes\":{\"line_alpha\":0.1,\"line_color\":\"#1f77b4\",\"x\":{\"field\":\"x\"},\"y\":{\"field\":\"y\"}},\"id\":\"8d239f23-b411-4c4e-89cb-e6056db1e587\",\"type\":\"Line\"},{\"attributes\":{\"fill_alpha\":{\"value\":0.1},\"fill_color\":{\"value\":\"#1f77b4\"},\"line_alpha\":{\"value\":0.1},\"line_color\":{\"value\":\"#1f77b4\"},\"x\":{\"field\":\"x\"},\"y\":{\"field\":\"y\"}},\"id\":\"fbaf7e6a-8e6c-4583-90de-4ffd87d35ccd\",\"type\":\"Circle\"},{\"attributes\":{\"active_drag\":\"auto\",\"active_inspect\":\"auto\",\"active_scroll\":\"auto\",\"active_tap\":\"auto\",\"tools\":[{\"id\":\"31127aea-8a8e-455c-b848-964e42153cc3\",\"type\":\"PanTool\"},{\"id\":\"a46ab0bd-3203-4ed9-89c2-7f13317fe115\",\"type\":\"WheelZoomTool\"},{\"id\":\"75cd4415-db78-4e61-bece-0055917ccf9e\",\"type\":\"BoxZoomTool\"},{\"id\":\"16ffe654-0e2c-4b44-922b-212175189cab\",\"type\":\"SaveTool\"},{\"id\":\"1649d747-dbea-48ce-80c7-e0a93a753352\",\"type\":\"ResetTool\"},{\"id\":\"f654a768-c1be-4af6-8ab4-4147ee1b99f8\",\"type\":\"HelpTool\"}]},\"id\":\"25d352d5-bd7f-46d8-93a1-7f38ba104706\",\"type\":\"Toolbar\"},{\"attributes\":{\"callback\":null,\"column_names\":[\"x\",\"y\"],\"data\":{\"x\":{\"__ndarray__\":\"AAAAAAAAAACRGkt8Vz/AP5EaS3xXP9A/2qdwOgNf2D+RGkt8Vz/gPzXhXVstT+Q/2qdwOgNf6D9+boMZ2W7sP5EaS3xXP/A/433Ua0JH8j814V1bLU/0P4dE50oYV/Y/2qdwOgNf+D8sC/op7mb6P35ugxnZbvw/0NEMCcR2/j+RGkt8Vz8AQDrMD/RMQwFA433Ua0JHAkCML5njN0sDQDXhXVstTwRA3pIi0yJTBUCHROdKGFcGQDD2q8INWwdA2qdwOgNfCECDWTWy+GIJQCwL+inuZgpA1by+oeNqC0B+boMZ2W4MQCcgSJHOcg1A0NEMCcR2DkB5g9GAuXoPQJEaS3xXPxBAZnMtOFLBEEA6zA/0TEMRQA8l8q9HxRFA433Ua0JHEkC41rYnPckSQIwvmeM3SxNAYYh7nzLNE0A14V1bLU8UQAo6QBco0RRA3pIi0yJTFUCz6wSPHdUVQIdE50oYVxZAXJ3JBhPZFkAw9qvCDVsXQAVPjn4I3RdA2qdwOgNfGECuAFP2/eAYQINZNbL4YhlAV7IXbvPkGUAsC/op7mYaQABk3OXo6BpA1by+oeNqG0CpFaFd3uwbQH5ugxnZbhxAUsdl1dPwHEAnIEiRznIdQPt4Kk3J9B1A0NEMCcR2HkCkKu/EvvgeQHmD0YC5eh9ATdyzPLT8H0CRGkt8Vz8gQPtGPNpUgCBAZnMtOFLBIEDQnx6WTwIhQDrMD/RMQyFApPgAUkqEIUAPJfKvR8UhQHlR4w1FBiJA433Ua0JHIkBNqsXJP4giQLjWtic9ySJAIgOohToKI0CML5njN0sjQPZbikE1jCNAYYh7nzLNI0DLtGz9Lw4kQDXhXVstTyRAoA1PuSqQJEAKOkAXKNEkQHRmMXUlEiVA3pIi0yJTJUBJvxMxIJQlQLPrBI8d1SVAHRj27BoWJkCHROdKGFcmQPJw2KgVmCZAXJ3JBhPZJkDGybpkEBonQDD2q8INWydAmyKdIAucJ0AFT45+CN0nQG97f9wFHihA2qdwOgNfKEBE1GGYAKAoQK4AU/b94ChAGC1EVPshKUA=\",\"dtype\":\"float64\",\"shape\":[100]},\"y\":{\"__ndarray__\":\"AAAAAAAAAADwgwJ4LjTQP5qI2QHPEuA/+5MNU1HJ5z8ZTT7q2B3vP0aFmgwa+fI/ABg/lCAV9j+IQCEcMdb4P3fOhmLzMPs/EyzujrQb/T/9Izwlj47+PxccgYyLg/8/g6xao7j2/z9mZrL8O+b/P7+X94FZUv8/xVNiW3I9/j9RB8Ai+6v8P5FWKYlppPo/oSg6uxkv+D/Sh2bxK1b1PyZGRbpaJfI/8qg+VZVT7T/4C4p0qOPlP+UppLIiM9w/3FNHxZdVyD/J23zJpD6wv+3ENsZjOdS/wo12/ecH4r/dgWKM2Kjpv2MTsJELcPC/83ixWvXH87+358MBZM72v5eCD4nhdvm/rExY6Hq2+7+TIxAn7YP9vwSssILL1/6/70I4BJ6s/7/vOc8G+P7/vzTGy1KGzf+/3176khQZ/7/C8a4NiuT9vzGcHq/dNPy/l0FFlgER+r+EGZN4xoH3vx8WPFK3kfS/Cli7+O1M8b+HQNqEwoHrv9kfIiFb+OO/gKyggGI52L8EhrXMjDzAvyGGtcyMPMA/jqyggGI52D/gHyIhW/jjP4BA2oTCges/DVi7+O1M8T8cFjxSt5H0P4cZk3jGgfc/lUFFlgER+j8ynB6v3TT8P8Hxrg2K5P0/4F76khQZ/z80xstShs3/P+85zwb4/v8/8EI4BJ6s/z8DrLCCy9f+P5UjECftg/0/p0xY6Hq2+z+Vgg+J4Xb5P7fnwwFkzvY/9nixWvXH8z9dE7CRC3DwP9eBYozYqOk/w412/ecH4j/+xDbGYznUP0/bfMmkPrA/+FNHxZdVyL/UKaSyIjPcv+gLinSo4+W/+Kg+VZVT7b8lRkW6WiXyv8+HZvErVvW/pig6uxkv+L+TVimJaaT6v1EHwCL7q/y/xFNiW3I9/r/Al/eBWVL/v2Zmsvw75v+/g6xao7j2/78YHIGMi4P/v/sjPCWPjv6/EyzujrQb/b94zoZi8zD7v4xAIRwx1vi//Bc/lCAV9r9GhZoMGvnyvx5NPurYHe+/65MNU1HJ57+SiNkBzxLgv/GDAnguNNC/B1wUMyam0bw=\",\"dtype\":\"float64\",\"shape\":[100]}}},\"id\":\"d1ac4fd3-d1f4-4b74-9fc9-d4b7252e9a74\",\"type\":\"ColumnDataSource\"},{\"attributes\":{\"source\":{\"id\":\"63eb978e-3c51-45b7-aa0c-1bc39ead938b\",\"type\":\"ColumnDataSource\"}},\"id\":\"28ee924d-2067-4802-b799-237380c7d352\",\"type\":\"CDSView\"},{\"attributes\":{\"callback\":null},\"id\":\"be8759ee-d3e0-4157-b2d0-b8f2d65e7b43\",\"type\":\"DataRange1d\"},{\"attributes\":{\"label\":{\"value\":\"2*sin(x)\"},\"renderers\":[{\"id\":\"1bd62a5c-4813-41da-b570-98b24ef426bf\",\"type\":\"GlyphRenderer\"}]},\"id\":\"d7e4d3bf-ec9c-4df6-973c-7bee2b78af06\",\"type\":\"LegendItem\"},{\"attributes\":{},\"id\":\"b4fa7c33-8039-47ad-9024-ccad7fed43af\",\"type\":\"BasicTickFormatter\"},{\"attributes\":{\"data_source\":{\"id\":\"63eb978e-3c51-45b7-aa0c-1bc39ead938b\",\"type\":\"ColumnDataSource\"},\"glyph\":{\"id\":\"40f466d3-b43e-4a30-ad34-0a4d67c3448b\",\"type\":\"Square\"},\"hover_glyph\":null,\"muted_glyph\":null,\"nonselection_glyph\":{\"id\":\"44b888c0-b460-48b3-9fab-72e3b1d4d8d5\",\"type\":\"Square\"},\"selection_glyph\":null,\"view\":{\"id\":\"28ee924d-2067-4802-b799-237380c7d352\",\"type\":\"CDSView\"}},\"id\":\"1fb768ed-191b-463d-b806-52c2807b8eb6\",\"type\":\"GlyphRenderer\"},{\"attributes\":{\"callback\":null},\"id\":\"604455eb-e023-4fbd-abb6-4e6b1b926f36\",\"type\":\"DataRange1d\"},{\"attributes\":{\"fill_color\":{\"value\":null},\"line_color\":{\"value\":\"green\"},\"x\":{\"field\":\"x\"},\"y\":{\"field\":\"y\"}},\"id\":\"40f466d3-b43e-4a30-ad34-0a4d67c3448b\",\"type\":\"Square\"},{\"attributes\":{},\"id\":\"1d1f9930-b7f5-4402-89e2-794defbee0bd\",\"type\":\"LinearScale\"},{\"attributes\":{\"label\":{\"value\":\"3*sin(x)\"},\"renderers\":[{\"id\":\"1fb768ed-191b-463d-b806-52c2807b8eb6\",\"type\":\"GlyphRenderer\"},{\"id\":\"21a0186e-a157-4bd6-b84b-618968e891c5\",\"type\":\"GlyphRenderer\"}]},\"id\":\"1e7aa5db-a13d-45bf-a2c1-d5e511ff4b3e\",\"type\":\"LegendItem\"},{\"attributes\":{},\"id\":\"1b718dd3-5480-4ea7-97a4-ddf5f29894e9\",\"type\":\"LinearScale\"},{\"attributes\":{\"fill_alpha\":{\"value\":0.1},\"fill_color\":{\"value\":\"#1f77b4\"},\"line_alpha\":{\"value\":0.1},\"line_color\":{\"value\":\"#1f77b4\"},\"x\":{\"field\":\"x\"},\"y\":{\"field\":\"y\"}},\"id\":\"44b888c0-b460-48b3-9fab-72e3b1d4d8d5\",\"type\":\"Square\"},{\"attributes\":{\"plot\":{\"id\":\"e275c11d-be68-4a5e-84b8-3df127b442a6\",\"subtype\":\"Figure\",\"type\":\"Plot\"},\"ticker\":{\"id\":\"c11453ac-8943-49cd-8c9d-dad2ff54d1cd\",\"type\":\"BasicTicker\"}},\"id\":\"db3fb603-3c01-486e-8066-c107558f5a1e\",\"type\":\"Grid\"},{\"attributes\":{\"formatter\":{\"id\":\"78630e24-de11-4eb9-aaa5-70e0a05708b2\",\"type\":\"BasicTickFormatter\"},\"plot\":{\"id\":\"e275c11d-be68-4a5e-84b8-3df127b442a6\",\"subtype\":\"Figure\",\"type\":\"Plot\"},\"ticker\":{\"id\":\"c11453ac-8943-49cd-8c9d-dad2ff54d1cd\",\"type\":\"BasicTicker\"}},\"id\":\"536a5f01-7782-4129-9842-59a4cd0ff917\",\"type\":\"LinearAxis\"},{\"attributes\":{\"line_color\":\"green\",\"x\":{\"field\":\"x\"},\"y\":{\"field\":\"y\"}},\"id\":\"503af343-c03f-4915-a1cd-2083bd8961f8\",\"type\":\"Line\"},{\"attributes\":{},\"id\":\"c11453ac-8943-49cd-8c9d-dad2ff54d1cd\",\"type\":\"BasicTicker\"},{\"attributes\":{\"source\":{\"id\":\"75a73fd0-b4cb-4120-a26a-344ba730d59f\",\"type\":\"ColumnDataSource\"}},\"id\":\"faa5dbeb-dc38-46d0-822b-c340f7182d99\",\"type\":\"CDSView\"},{\"attributes\":{\"formatter\":{\"id\":\"b4fa7c33-8039-47ad-9024-ccad7fed43af\",\"type\":\"BasicTickFormatter\"},\"plot\":{\"id\":\"e275c11d-be68-4a5e-84b8-3df127b442a6\",\"subtype\":\"Figure\",\"type\":\"Plot\"},\"ticker\":{\"id\":\"69804bf7-6b71-4346-898d-f0a92de8396e\",\"type\":\"BasicTicker\"}},\"id\":\"3f3cf6b4-807d-4a96-9e9d-019e01a1e232\",\"type\":\"LinearAxis\"},{\"attributes\":{\"data_source\":{\"id\":\"75a73fd0-b4cb-4120-a26a-344ba730d59f\",\"type\":\"ColumnDataSource\"},\"glyph\":{\"id\":\"503af343-c03f-4915-a1cd-2083bd8961f8\",\"type\":\"Line\"},\"hover_glyph\":null,\"muted_glyph\":null,\"nonselection_glyph\":{\"id\":\"c6e83e57-af44-494d-afdc-2e973393c745\",\"type\":\"Line\"},\"selection_glyph\":null,\"view\":{\"id\":\"faa5dbeb-dc38-46d0-822b-c340f7182d99\",\"type\":\"CDSView\"}},\"id\":\"21a0186e-a157-4bd6-b84b-618968e891c5\",\"type\":\"GlyphRenderer\"},{\"attributes\":{},\"id\":\"69804bf7-6b71-4346-898d-f0a92de8396e\",\"type\":\"BasicTicker\"},{\"attributes\":{\"dimension\":1,\"plot\":{\"id\":\"e275c11d-be68-4a5e-84b8-3df127b442a6\",\"subtype\":\"Figure\",\"type\":\"Plot\"},\"ticker\":{\"id\":\"69804bf7-6b71-4346-898d-f0a92de8396e\",\"type\":\"BasicTicker\"}},\"id\":\"d929d867-e79e-42bd-a1be-10c8c3fdc03b\",\"type\":\"Grid\"},{\"attributes\":{\"line_alpha\":0.1,\"line_color\":\"#1f77b4\",\"x\":{\"field\":\"x\"},\"y\":{\"field\":\"y\"}},\"id\":\"c6e83e57-af44-494d-afdc-2e973393c745\",\"type\":\"Line\"},{\"attributes\":{\"fill_color\":{\"value\":\"#1f77b4\"},\"line_color\":{\"value\":\"#1f77b4\"},\"x\":{\"field\":\"x\"},\"y\":{\"field\":\"y\"}},\"id\":\"c6941766-707d-477b-8729-dcef2b8db896\",\"type\":\"Circle\"},{\"attributes\":{\"callback\":null,\"column_names\":[\"x\",\"y\"],\"data\":{\"x\":{\"__ndarray__\":\"AAAAAAAAAACRGkt8Vz/AP5EaS3xXP9A/2qdwOgNf2D+RGkt8Vz/gPzXhXVstT+Q/2qdwOgNf6D9+boMZ2W7sP5EaS3xXP/A/433Ua0JH8j814V1bLU/0P4dE50oYV/Y/2qdwOgNf+D8sC/op7mb6P35ugxnZbvw/0NEMCcR2/j+RGkt8Vz8AQDrMD/RMQwFA433Ua0JHAkCML5njN0sDQDXhXVstTwRA3pIi0yJTBUCHROdKGFcGQDD2q8INWwdA2qdwOgNfCECDWTWy+GIJQCwL+inuZgpA1by+oeNqC0B+boMZ2W4MQCcgSJHOcg1A0NEMCcR2DkB5g9GAuXoPQJEaS3xXPxBAZnMtOFLBEEA6zA/0TEMRQA8l8q9HxRFA433Ua0JHEkC41rYnPckSQIwvmeM3SxNAYYh7nzLNE0A14V1bLU8UQAo6QBco0RRA3pIi0yJTFUCz6wSPHdUVQIdE50oYVxZAXJ3JBhPZFkAw9qvCDVsXQAVPjn4I3RdA2qdwOgNfGECuAFP2/eAYQINZNbL4YhlAV7IXbvPkGUAsC/op7mYaQABk3OXo6BpA1by+oeNqG0CpFaFd3uwbQH5ugxnZbhxAUsdl1dPwHEAnIEiRznIdQPt4Kk3J9B1A0NEMCcR2HkCkKu/EvvgeQHmD0YC5eh9ATdyzPLT8H0CRGkt8Vz8gQPtGPNpUgCBAZnMtOFLBIEDQnx6WTwIhQDrMD/RMQyFApPgAUkqEIUAPJfKvR8UhQHlR4w1FBiJA433Ua0JHIkBNqsXJP4giQLjWtic9ySJAIgOohToKI0CML5njN0sjQPZbikE1jCNAYYh7nzLNI0DLtGz9Lw4kQDXhXVstTyRAoA1PuSqQJEAKOkAXKNEkQHRmMXUlEiVA3pIi0yJTJUBJvxMxIJQlQLPrBI8d1SVAHRj27BoWJkCHROdKGFcmQPJw2KgVmCZAXJ3JBhPZJkDGybpkEBonQDD2q8INWydAmyKdIAucJ0AFT45+CN0nQG97f9wFHihA2qdwOgNfKEBE1GGYAKAoQK4AU/b94ChAGC1EVPshKUA=\",\"dtype\":\"float64\",\"shape\":[100]},\"y\":{\"__ndarray__\":\"AAAAAAAAAADwgwJ4LjTAP5qI2QHPEtA/+5MNU1HJ1z8ZTT7q2B3fP0aFmgwa+eI/ABg/lCAV5j+IQCEcMdboP3fOhmLzMOs/EyzujrQb7T/9Izwlj47uPxccgYyLg+8/g6xao7j27z9mZrL8O+bvP7+X94FZUu8/xVNiW3I97j9RB8Ai+6vsP5FWKYlppOo/oSg6uxkv6D/Sh2bxK1blPyZGRbpaJeI/8qg+VZVT3T/4C4p0qOPVP+UppLIiM8w/3FNHxZdVuD/J23zJpD6gv+3ENsZjOcS/wo12/ecH0r/dgWKM2KjZv2MTsJELcOC/83ixWvXH47+358MBZM7mv5eCD4nhdum/rExY6Hq267+TIxAn7YPtvwSssILL1+6/70I4BJ6s77/vOc8G+P7vvzTGy1KGze+/3176khQZ77/C8a4NiuTtvzGcHq/dNOy/l0FFlgER6r+EGZN4xoHnvx8WPFK3keS/Cli7+O1M4b+HQNqEwoHbv9kfIiFb+NO/gKyggGI5yL8EhrXMjDywvyGGtcyMPLA/jqyggGI5yD/gHyIhW/jTP4BA2oTCgds/DVi7+O1M4T8cFjxSt5HkP4cZk3jGgec/lUFFlgER6j8ynB6v3TTsP8Hxrg2K5O0/4F76khQZ7z80xstShs3vP+85zwb4/u8/8EI4BJ6s7z8DrLCCy9fuP5UjECftg+0/p0xY6Hq26z+Vgg+J4XbpP7fnwwFkzuY/9nixWvXH4z9dE7CRC3DgP9eBYozYqNk/w412/ecH0j/+xDbGYznEP0/bfMmkPqA/+FNHxZdVuL/UKaSyIjPMv+gLinSo49W/+Kg+VZVT3b8lRkW6WiXiv8+HZvErVuW/pig6uxkv6L+TVimJaaTqv1EHwCL7q+y/xFNiW3I97r/Al/eBWVLvv2Zmsvw75u+/g6xao7j2778YHIGMi4Pvv/sjPCWPju6/EyzujrQb7b94zoZi8zDrv4xAIRwx1ui//Bc/lCAV5r9GhZoMGvnivx5NPurYHd+/65MNU1HJ17+SiNkBzxLQv/GDAnguNMC/B1wUMyamwbw=\",\"dtype\":\"float64\",\"shape\":[100]}}},\"id\":\"4bb38cde-685c-4393-a416-34f320d6a831\",\"type\":\"ColumnDataSource\"},{\"attributes\":{\"line_alpha\":0.1,\"line_color\":\"#1f77b4\",\"line_dash\":[4,4],\"line_width\":2,\"x\":{\"field\":\"x\"},\"y\":{\"field\":\"y\"}},\"id\":\"d8f0ac4d-182e-41eb-8ac6-037a5dfa9d76\",\"type\":\"Line\"},{\"attributes\":{\"bottom_units\":\"screen\",\"fill_alpha\":{\"value\":0.5},\"fill_color\":{\"value\":\"lightgrey\"},\"left_units\":\"screen\",\"level\":\"overlay\",\"line_alpha\":{\"value\":1.0},\"line_color\":{\"value\":\"black\"},\"line_dash\":[4,4],\"line_width\":{\"value\":2},\"plot\":null,\"render_mode\":\"css\",\"right_units\":\"screen\",\"top_units\":\"screen\"},\"id\":\"69291122-6b1a-4855-9b60-364078be411c\",\"type\":\"BoxAnnotation\"},{\"attributes\":{},\"id\":\"31127aea-8a8e-455c-b848-964e42153cc3\",\"type\":\"PanTool\"},{\"attributes\":{\"data_source\":{\"id\":\"9dc8a68c-1a49-494d-9c36-3c41d04f108f\",\"type\":\"ColumnDataSource\"},\"glyph\":{\"id\":\"c6941766-707d-477b-8729-dcef2b8db896\",\"type\":\"Circle\"},\"hover_glyph\":null,\"muted_glyph\":null,\"nonselection_glyph\":{\"id\":\"fbaf7e6a-8e6c-4583-90de-4ffd87d35ccd\",\"type\":\"Circle\"},\"selection_glyph\":null,\"view\":{\"id\":\"1c4a5d5a-e14c-413d-bfaa-b34306f928f1\",\"type\":\"CDSView\"}},\"id\":\"2523f5b4-0f33-4a81-9087-cb33dba3f356\",\"type\":\"GlyphRenderer\"},{\"attributes\":{},\"id\":\"a46ab0bd-3203-4ed9-89c2-7f13317fe115\",\"type\":\"WheelZoomTool\"},{\"attributes\":{\"overlay\":{\"id\":\"69291122-6b1a-4855-9b60-364078be411c\",\"type\":\"BoxAnnotation\"}},\"id\":\"75cd4415-db78-4e61-bece-0055917ccf9e\",\"type\":\"BoxZoomTool\"},{\"attributes\":{},\"id\":\"16ffe654-0e2c-4b44-922b-212175189cab\",\"type\":\"SaveTool\"},{\"attributes\":{},\"id\":\"1649d747-dbea-48ce-80c7-e0a93a753352\",\"type\":\"ResetTool\"},{\"attributes\":{},\"id\":\"f654a768-c1be-4af6-8ab4-4147ee1b99f8\",\"type\":\"HelpTool\"},{\"attributes\":{\"plot\":null,\"text\":\"\"},\"id\":\"e6f53e59-6e44-4514-99c1-e2ee1fb20d1f\",\"type\":\"Title\"}],\"root_ids\":[\"e275c11d-be68-4a5e-84b8-3df127b442a6\"]},\"title\":\"Bokeh Application\",\"version\":\"0.12.13\"}};\n",
       "  var render_items = [{\"docid\":\"255a49bf-7bea-43b8-941e-0495917c4b44\",\"elementid\":\"6f1726ed-1c1e-4647-9086-112f09252734\",\"modelid\":\"e275c11d-be68-4a5e-84b8-3df127b442a6\"}];\n",
       "  root.Bokeh.embed.embed_items_notebook(docs_json, render_items);\n",
       "\n",
       "  }\n",
       "  if (root.Bokeh !== undefined) {\n",
       "    embed_document(root);\n",
       "  } else {\n",
       "    var attempts = 0;\n",
       "    var timer = setInterval(function(root) {\n",
       "      if (root.Bokeh !== undefined) {\n",
       "        embed_document(root);\n",
       "        clearInterval(timer);\n",
       "      }\n",
       "      attempts++;\n",
       "      if (attempts > 100) {\n",
       "        console.log(\"Bokeh: ERROR: Unable to run BokehJS code because BokehJS library is missing\")\n",
       "        clearInterval(timer);\n",
       "      }\n",
       "    }, 10, root)\n",
       "  }\n",
       "})(window);"
      ],
      "application/vnd.bokehjs_exec.v0+json": ""
     },
     "metadata": {
      "application/vnd.bokehjs_exec.v0+json": {
       "id": "e275c11d-be68-4a5e-84b8-3df127b442a6"
      }
     },
     "output_type": "display_data"
    }
   ],
   "source": [
    "# Label Text\n",
    "\n",
    "x = np.linspace(0, 4*np.pi, 100)\n",
    "y = np.sin(x)\n",
    "\n",
    "p = figure()\n",
    "\n",
    "p.circle(x, y, legend=\"sin(x)\")\n",
    "p.line(x, y, legend=\"sin(x)\")\n",
    "\n",
    "p.line(x, 2*y, legend=\"2*sin(x)\",\n",
    "       line_dash=[4, 4], line_color=\"orange\", line_width=2)\n",
    "\n",
    "p.square(x, 3*y, legend=\"3*sin(x)\", fill_color=None, line_color=\"green\")\n",
    "p.line(x, 3*y, legend=\"3*sin(x)\", line_color=\"green\")\n",
    "\n",
    "p.legend.label_text_font = \"times\"\n",
    "p.legend.label_text_font_style = \"italic\"\n",
    "p.legend.label_text_color = \"navy\"\n",
    "\n",
    "show(p)"
   ]
  },
  {
   "cell_type": "code",
   "execution_count": 42,
   "metadata": {},
   "outputs": [
    {
     "data": {
      "text/html": [
       "\n",
       "<div class=\"bk-root\">\n",
       "    <div class=\"bk-plotdiv\" id=\"a1bd44a8-4a2e-4fb5-87ae-98c929a01b5e\"></div>\n",
       "</div>"
      ]
     },
     "metadata": {},
     "output_type": "display_data"
    },
    {
     "data": {
      "application/javascript": [
       "(function(root) {\n",
       "  function embed_document(root) {\n",
       "    \n",
       "  var docs_json = {\"8e5802de-f1d1-4549-81d2-6fb0dd7c584e\":{\"roots\":{\"references\":[{\"attributes\":{},\"id\":\"1e1ef5d8-e894-4e48-96d8-4c52dd0d48a5\",\"type\":\"BasicTicker\"},{\"attributes\":{\"fill_color\":{\"value\":\"#1f77b4\"},\"line_color\":{\"value\":\"#1f77b4\"},\"x\":{\"field\":\"x\"},\"y\":{\"field\":\"y\"}},\"id\":\"80a80ee8-1cc6-4fd1-a843-14e0121b3ea4\",\"type\":\"Circle\"},{\"attributes\":{\"data_source\":{\"id\":\"fdac6553-7ce4-4093-b3be-9be89a3f06d1\",\"type\":\"ColumnDataSource\"},\"glyph\":{\"id\":\"70a30b8f-c5e4-4648-8588-1753eb852a71\",\"type\":\"Line\"},\"hover_glyph\":null,\"muted_glyph\":null,\"nonselection_glyph\":{\"id\":\"631e7657-e7e1-49be-87a8-289b2184f09d\",\"type\":\"Line\"},\"selection_glyph\":null,\"view\":{\"id\":\"c745ce62-80b4-4e35-ad06-007c8ae2c073\",\"type\":\"CDSView\"}},\"id\":\"9138a6a9-0d16-4911-b95a-264b4e6d3104\",\"type\":\"GlyphRenderer\"},{\"attributes\":{\"dimension\":1,\"plot\":{\"id\":\"616a1e2e-39fb-473f-8d5e-3c769e7cf016\",\"subtype\":\"Figure\",\"type\":\"Plot\"},\"ticker\":{\"id\":\"1e1ef5d8-e894-4e48-96d8-4c52dd0d48a5\",\"type\":\"BasicTicker\"}},\"id\":\"50cf1903-113a-42d0-985a-f147987b7e41\",\"type\":\"Grid\"},{\"attributes\":{\"source\":{\"id\":\"fdac6553-7ce4-4093-b3be-9be89a3f06d1\",\"type\":\"ColumnDataSource\"}},\"id\":\"c745ce62-80b4-4e35-ad06-007c8ae2c073\",\"type\":\"CDSView\"},{\"attributes\":{\"fill_alpha\":{\"value\":0.1},\"fill_color\":{\"value\":\"#1f77b4\"},\"line_alpha\":{\"value\":0.1},\"line_color\":{\"value\":\"#1f77b4\"},\"x\":{\"field\":\"x\"},\"y\":{\"field\":\"y\"}},\"id\":\"b98a70a7-3762-45dd-8f85-9320f0329f05\",\"type\":\"Circle\"},{\"attributes\":{\"line_alpha\":0.1,\"line_color\":\"#1f77b4\",\"x\":{\"field\":\"x\"},\"y\":{\"field\":\"y\"}},\"id\":\"631e7657-e7e1-49be-87a8-289b2184f09d\",\"type\":\"Line\"},{\"attributes\":{},\"id\":\"dc9477b2-a365-4b97-82d3-53f145afc092\",\"type\":\"BasicTickFormatter\"},{\"attributes\":{\"source\":{\"id\":\"d99f634f-1c0a-4f6c-837c-b3d1c74acd0f\",\"type\":\"ColumnDataSource\"}},\"id\":\"e89c657a-2701-4c3e-a746-43544572c1ba\",\"type\":\"CDSView\"},{\"attributes\":{\"bottom_units\":\"screen\",\"fill_alpha\":{\"value\":0.5},\"fill_color\":{\"value\":\"lightgrey\"},\"left_units\":\"screen\",\"level\":\"overlay\",\"line_alpha\":{\"value\":1.0},\"line_color\":{\"value\":\"black\"},\"line_dash\":[4,4],\"line_width\":{\"value\":2},\"plot\":null,\"render_mode\":\"css\",\"right_units\":\"screen\",\"top_units\":\"screen\"},\"id\":\"05ff1837-50d9-4b5f-bd0d-a9b92c46477f\",\"type\":\"BoxAnnotation\"},{\"attributes\":{},\"id\":\"58cf79b3-f483-4054-bc64-67ef94739511\",\"type\":\"PanTool\"},{\"attributes\":{\"data_source\":{\"id\":\"c2a4d564-2d6a-45f6-bef0-a197f87ac11b\",\"type\":\"ColumnDataSource\"},\"glyph\":{\"id\":\"80a80ee8-1cc6-4fd1-a843-14e0121b3ea4\",\"type\":\"Circle\"},\"hover_glyph\":null,\"muted_glyph\":null,\"nonselection_glyph\":{\"id\":\"b98a70a7-3762-45dd-8f85-9320f0329f05\",\"type\":\"Circle\"},\"selection_glyph\":null,\"view\":{\"id\":\"8107a0d1-3fb1-4351-a43f-e82b8baa2205\",\"type\":\"CDSView\"}},\"id\":\"6a197f64-4aa6-44e2-973f-5880d5b8d95b\",\"type\":\"GlyphRenderer\"},{\"attributes\":{},\"id\":\"57c79346-a13d-4b29-b58b-364592f06e23\",\"type\":\"WheelZoomTool\"},{\"attributes\":{\"overlay\":{\"id\":\"05ff1837-50d9-4b5f-bd0d-a9b92c46477f\",\"type\":\"BoxAnnotation\"}},\"id\":\"467884e1-545e-4c34-bc0f-fb37cd5d700d\",\"type\":\"BoxZoomTool\"},{\"attributes\":{},\"id\":\"04358043-4a08-45ac-9970-8c494a1bea77\",\"type\":\"SaveTool\"},{\"attributes\":{},\"id\":\"060980af-af38-48e8-9da7-5532e56af5c4\",\"type\":\"ResetTool\"},{\"attributes\":{},\"id\":\"af767a83-3329-4b04-b151-7ce32eab5811\",\"type\":\"HelpTool\"},{\"attributes\":{\"plot\":null,\"text\":\"\"},\"id\":\"899afd50-7f9f-4d59-a436-bb4289ac808e\",\"type\":\"Title\"},{\"attributes\":{\"formatter\":{\"id\":\"dc9477b2-a365-4b97-82d3-53f145afc092\",\"type\":\"BasicTickFormatter\"},\"plot\":{\"id\":\"616a1e2e-39fb-473f-8d5e-3c769e7cf016\",\"subtype\":\"Figure\",\"type\":\"Plot\"},\"ticker\":{\"id\":\"1e1ef5d8-e894-4e48-96d8-4c52dd0d48a5\",\"type\":\"BasicTicker\"}},\"id\":\"8c20ded8-1e9f-4645-8b51-65f715d2b869\",\"type\":\"LinearAxis\"},{\"attributes\":{\"source\":{\"id\":\"c2a4d564-2d6a-45f6-bef0-a197f87ac11b\",\"type\":\"ColumnDataSource\"}},\"id\":\"8107a0d1-3fb1-4351-a43f-e82b8baa2205\",\"type\":\"CDSView\"},{\"attributes\":{},\"id\":\"37fa1c97-6b44-43b9-9ece-2af320171527\",\"type\":\"BasicTickFormatter\"},{\"attributes\":{\"data_source\":{\"id\":\"d5445c53-a829-4b2c-b8d3-db4d48ebca34\",\"type\":\"ColumnDataSource\"},\"glyph\":{\"id\":\"3007594e-441f-45f7-9236-7980f895408c\",\"type\":\"Line\"},\"hover_glyph\":null,\"muted_glyph\":null,\"nonselection_glyph\":{\"id\":\"c11f8c21-51aa-481f-8d5c-055a74883c0a\",\"type\":\"Line\"},\"selection_glyph\":null,\"view\":{\"id\":\"f16a8337-2a7b-4b64-82ae-b5334c0a9300\",\"type\":\"CDSView\"}},\"id\":\"dbeb831d-9593-4fca-982a-63519f8c21f9\",\"type\":\"GlyphRenderer\"},{\"attributes\":{\"callback\":null},\"id\":\"17da2ec7-750c-4cee-a96f-eb18c5ee88a7\",\"type\":\"DataRange1d\"},{\"attributes\":{\"line_color\":\"#1f77b4\",\"x\":{\"field\":\"x\"},\"y\":{\"field\":\"y\"}},\"id\":\"1c6f37b7-a4a5-464a-8c8c-09adac55bcc6\",\"type\":\"Line\"},{\"attributes\":{\"fill_color\":{\"value\":null},\"line_color\":{\"value\":\"green\"},\"x\":{\"field\":\"x\"},\"y\":{\"field\":\"y\"}},\"id\":\"28d4bf10-4a19-4524-8577-02bf3f863399\",\"type\":\"Square\"},{\"attributes\":{},\"id\":\"ab24cbf9-9975-4e36-a8c7-3192aa584c7a\",\"type\":\"BasicTicker\"},{\"attributes\":{\"line_color\":\"orange\",\"line_dash\":[4,4],\"line_width\":2,\"x\":{\"field\":\"x\"},\"y\":{\"field\":\"y\"}},\"id\":\"3007594e-441f-45f7-9236-7980f895408c\",\"type\":\"Line\"},{\"attributes\":{\"label\":{\"value\":\"sin(x)\"},\"renderers\":[{\"id\":\"6a197f64-4aa6-44e2-973f-5880d5b8d95b\",\"type\":\"GlyphRenderer\"},{\"id\":\"855195d3-efac-4724-b921-5560ad77d20a\",\"type\":\"GlyphRenderer\"}]},\"id\":\"1c5a0344-ba29-4ec2-bac6-e6e0d817db44\",\"type\":\"LegendItem\"},{\"attributes\":{\"plot\":{\"id\":\"616a1e2e-39fb-473f-8d5e-3c769e7cf016\",\"subtype\":\"Figure\",\"type\":\"Plot\"},\"ticker\":{\"id\":\"ab24cbf9-9975-4e36-a8c7-3192aa584c7a\",\"type\":\"BasicTicker\"}},\"id\":\"227851a2-70b8-49a8-be24-a345f52d72e0\",\"type\":\"Grid\"},{\"attributes\":{\"callback\":null,\"column_names\":[\"x\",\"y\"],\"data\":{\"x\":{\"__ndarray__\":\"AAAAAAAAAACRGkt8Vz/AP5EaS3xXP9A/2qdwOgNf2D+RGkt8Vz/gPzXhXVstT+Q/2qdwOgNf6D9+boMZ2W7sP5EaS3xXP/A/433Ua0JH8j814V1bLU/0P4dE50oYV/Y/2qdwOgNf+D8sC/op7mb6P35ugxnZbvw/0NEMCcR2/j+RGkt8Vz8AQDrMD/RMQwFA433Ua0JHAkCML5njN0sDQDXhXVstTwRA3pIi0yJTBUCHROdKGFcGQDD2q8INWwdA2qdwOgNfCECDWTWy+GIJQCwL+inuZgpA1by+oeNqC0B+boMZ2W4MQCcgSJHOcg1A0NEMCcR2DkB5g9GAuXoPQJEaS3xXPxBAZnMtOFLBEEA6zA/0TEMRQA8l8q9HxRFA433Ua0JHEkC41rYnPckSQIwvmeM3SxNAYYh7nzLNE0A14V1bLU8UQAo6QBco0RRA3pIi0yJTFUCz6wSPHdUVQIdE50oYVxZAXJ3JBhPZFkAw9qvCDVsXQAVPjn4I3RdA2qdwOgNfGECuAFP2/eAYQINZNbL4YhlAV7IXbvPkGUAsC/op7mYaQABk3OXo6BpA1by+oeNqG0CpFaFd3uwbQH5ugxnZbhxAUsdl1dPwHEAnIEiRznIdQPt4Kk3J9B1A0NEMCcR2HkCkKu/EvvgeQHmD0YC5eh9ATdyzPLT8H0CRGkt8Vz8gQPtGPNpUgCBAZnMtOFLBIEDQnx6WTwIhQDrMD/RMQyFApPgAUkqEIUAPJfKvR8UhQHlR4w1FBiJA433Ua0JHIkBNqsXJP4giQLjWtic9ySJAIgOohToKI0CML5njN0sjQPZbikE1jCNAYYh7nzLNI0DLtGz9Lw4kQDXhXVstTyRAoA1PuSqQJEAKOkAXKNEkQHRmMXUlEiVA3pIi0yJTJUBJvxMxIJQlQLPrBI8d1SVAHRj27BoWJkCHROdKGFcmQPJw2KgVmCZAXJ3JBhPZJkDGybpkEBonQDD2q8INWydAmyKdIAucJ0AFT45+CN0nQG97f9wFHihA2qdwOgNfKEBE1GGYAKAoQK4AU/b94ChAGC1EVPshKUA=\",\"dtype\":\"float64\",\"shape\":[100]},\"y\":{\"__ndarray__\":\"AAAAAAAAAADoxQO0RU7YP+dMxoI2HOg//C5K/vzW8T/Tua6vYlb3P+nH5xKndfw/AFIvb9iPAEBm8BjVpKACQNka5Ym2ZARADqEya8fUBUD+Gu1b6+oGQBHVYKmoogdAYgGEegr5B0DMzIX9rOwHQM+xeSHDfQdA1L6JxBWuBkB9BRBa/IAFQO0A3yZP+wNAeZ5rTFMjAkDe5Qz1oAAAQDnpZxcIOPs/tv7u/6/+9T/6iGdXvmrwP2wf+wVaJuU/5X710zFA0j+uSTsu9124v2QnUqkVVt6/o9Qx/NsL679m4Ulpoj7zvxQdiFoRqPi/bDUKCPCr/b/J7VIByxoBwPGhyyYpGQPAgTlCLtzIBMCuGkzd8SIGwAOBBKLYIQfAMzIqg3bBB8BzaxsFOv8HwKfUGL4k2gfAJ8c7bs9SB8BSNUOKZ2sGwCX1VkOmJwXAMfGzMMGMA8AjU27aVKEBwC4hWvuS2v6/DwQZ9WTz+b9lsKPjUaH0v8Yvs7GI9O2/YIF44Akr4r8GSRAz01rIvzJJEDPTWsg/aoF44Akr4j/QL7OxiPTtP2Cwo+NRofQ/FAQZ9WTz+T8qIVr7ktr+PyVTbtpUoQFAMPGzMMGMA0Am9VZDpicFQFE1Q4pnawZAKMc7bs9SB0Cn1Bi+JNoHQHNrGwU6/wdANDIqg3bBB0ACgQSi2CEHQLAaTN3xIgZAfTlCLtzIBEDwocsmKRkDQMntUgHLGgFAcTUKCPCr/T8MHYhaEaj4P2HhSWmiPvM/pNQx/NsL6z99J1KpFVbeP/ZIOy73Xbg/+n710zFA0r9fH/sFWiblv+6IZ1e+avC/uv7u/6/+9b846WcXCDj7v9vlDPWgAADAfJ5rTFMjAsDuAN8mT/sDwH0FEFr8gAXA076JxBWuBsDQsXkhw30HwMzMhf2s7AfAYgGEegr5B8AS1WCpqKIHwPwa7Vvr6gbADqEya8fUBcDaGuWJtmQEwGnwGNWkoALA/VEvb9iPAMDpx+cSp3X8v9a5rq9iVve/8C5K/vzW8b/bTMaCNhzov+rFA7RFTti/CoqeTDl52rw=\",\"dtype\":\"float64\",\"shape\":[100]}}},\"id\":\"d99f634f-1c0a-4f6c-837c-b3d1c74acd0f\",\"type\":\"ColumnDataSource\"},{\"attributes\":{\"border_line_color\":{\"value\":\"navy\"},\"border_line_width\":{\"value\":3},\"items\":[{\"id\":\"1c5a0344-ba29-4ec2-bac6-e6e0d817db44\",\"type\":\"LegendItem\"},{\"id\":\"3c912d73-93f1-4872-a634-77309788ec35\",\"type\":\"LegendItem\"},{\"id\":\"5ef5ef7e-64f0-4634-9166-525e3152a045\",\"type\":\"LegendItem\"}],\"plot\":{\"id\":\"616a1e2e-39fb-473f-8d5e-3c769e7cf016\",\"subtype\":\"Figure\",\"type\":\"Plot\"}},\"id\":\"7c205423-dcc4-4a76-ac4e-c3130e4c5fce\",\"type\":\"Legend\"},{\"attributes\":{},\"id\":\"6082e2a6-c732-42cd-9b98-a6183457c178\",\"type\":\"LinearScale\"},{\"attributes\":{\"callback\":null},\"id\":\"f4f66286-b57c-4188-b0b6-2d9a76608e99\",\"type\":\"DataRange1d\"},{\"attributes\":{\"formatter\":{\"id\":\"37fa1c97-6b44-43b9-9ece-2af320171527\",\"type\":\"BasicTickFormatter\"},\"plot\":{\"id\":\"616a1e2e-39fb-473f-8d5e-3c769e7cf016\",\"subtype\":\"Figure\",\"type\":\"Plot\"},\"ticker\":{\"id\":\"ab24cbf9-9975-4e36-a8c7-3192aa584c7a\",\"type\":\"BasicTicker\"}},\"id\":\"4dfd7eee-c6a2-48e1-b1a0-e50be9313a9e\",\"type\":\"LinearAxis\"},{\"attributes\":{\"data_source\":{\"id\":\"e3e7247d-a3c7-4c85-8476-231e869e98d5\",\"type\":\"ColumnDataSource\"},\"glyph\":{\"id\":\"1c6f37b7-a4a5-464a-8c8c-09adac55bcc6\",\"type\":\"Line\"},\"hover_glyph\":null,\"muted_glyph\":null,\"nonselection_glyph\":{\"id\":\"5945d4f1-766a-4dad-9e2d-c2c559b42cc9\",\"type\":\"Line\"},\"selection_glyph\":null,\"view\":{\"id\":\"7464a640-e49a-4adb-90bd-6e0533dad2a9\",\"type\":\"CDSView\"}},\"id\":\"855195d3-efac-4724-b921-5560ad77d20a\",\"type\":\"GlyphRenderer\"},{\"attributes\":{\"label\":{\"value\":\"2*sin(x)\"},\"renderers\":[{\"id\":\"dbeb831d-9593-4fca-982a-63519f8c21f9\",\"type\":\"GlyphRenderer\"}]},\"id\":\"3c912d73-93f1-4872-a634-77309788ec35\",\"type\":\"LegendItem\"},{\"attributes\":{\"fill_alpha\":{\"value\":0.1},\"fill_color\":{\"value\":\"#1f77b4\"},\"line_alpha\":{\"value\":0.1},\"line_color\":{\"value\":\"#1f77b4\"},\"x\":{\"field\":\"x\"},\"y\":{\"field\":\"y\"}},\"id\":\"759f8bcd-0861-4f97-88df-8c4b79cf05b3\",\"type\":\"Square\"},{\"attributes\":{\"callback\":null,\"column_names\":[\"x\",\"y\"],\"data\":{\"x\":{\"__ndarray__\":\"AAAAAAAAAACRGkt8Vz/AP5EaS3xXP9A/2qdwOgNf2D+RGkt8Vz/gPzXhXVstT+Q/2qdwOgNf6D9+boMZ2W7sP5EaS3xXP/A/433Ua0JH8j814V1bLU/0P4dE50oYV/Y/2qdwOgNf+D8sC/op7mb6P35ugxnZbvw/0NEMCcR2/j+RGkt8Vz8AQDrMD/RMQwFA433Ua0JHAkCML5njN0sDQDXhXVstTwRA3pIi0yJTBUCHROdKGFcGQDD2q8INWwdA2qdwOgNfCECDWTWy+GIJQCwL+inuZgpA1by+oeNqC0B+boMZ2W4MQCcgSJHOcg1A0NEMCcR2DkB5g9GAuXoPQJEaS3xXPxBAZnMtOFLBEEA6zA/0TEMRQA8l8q9HxRFA433Ua0JHEkC41rYnPckSQIwvmeM3SxNAYYh7nzLNE0A14V1bLU8UQAo6QBco0RRA3pIi0yJTFUCz6wSPHdUVQIdE50oYVxZAXJ3JBhPZFkAw9qvCDVsXQAVPjn4I3RdA2qdwOgNfGECuAFP2/eAYQINZNbL4YhlAV7IXbvPkGUAsC/op7mYaQABk3OXo6BpA1by+oeNqG0CpFaFd3uwbQH5ugxnZbhxAUsdl1dPwHEAnIEiRznIdQPt4Kk3J9B1A0NEMCcR2HkCkKu/EvvgeQHmD0YC5eh9ATdyzPLT8H0CRGkt8Vz8gQPtGPNpUgCBAZnMtOFLBIEDQnx6WTwIhQDrMD/RMQyFApPgAUkqEIUAPJfKvR8UhQHlR4w1FBiJA433Ua0JHIkBNqsXJP4giQLjWtic9ySJAIgOohToKI0CML5njN0sjQPZbikE1jCNAYYh7nzLNI0DLtGz9Lw4kQDXhXVstTyRAoA1PuSqQJEAKOkAXKNEkQHRmMXUlEiVA3pIi0yJTJUBJvxMxIJQlQLPrBI8d1SVAHRj27BoWJkCHROdKGFcmQPJw2KgVmCZAXJ3JBhPZJkDGybpkEBonQDD2q8INWydAmyKdIAucJ0AFT45+CN0nQG97f9wFHihA2qdwOgNfKEBE1GGYAKAoQK4AU/b94ChAGC1EVPshKUA=\",\"dtype\":\"float64\",\"shape\":[100]},\"y\":{\"__ndarray__\":\"AAAAAAAAAADwgwJ4LjTAP5qI2QHPEtA/+5MNU1HJ1z8ZTT7q2B3fP0aFmgwa+eI/ABg/lCAV5j+IQCEcMdboP3fOhmLzMOs/EyzujrQb7T/9Izwlj47uPxccgYyLg+8/g6xao7j27z9mZrL8O+bvP7+X94FZUu8/xVNiW3I97j9RB8Ai+6vsP5FWKYlppOo/oSg6uxkv6D/Sh2bxK1blPyZGRbpaJeI/8qg+VZVT3T/4C4p0qOPVP+UppLIiM8w/3FNHxZdVuD/J23zJpD6gv+3ENsZjOcS/wo12/ecH0r/dgWKM2KjZv2MTsJELcOC/83ixWvXH47+358MBZM7mv5eCD4nhdum/rExY6Hq267+TIxAn7YPtvwSssILL1+6/70I4BJ6s77/vOc8G+P7vvzTGy1KGze+/3176khQZ77/C8a4NiuTtvzGcHq/dNOy/l0FFlgER6r+EGZN4xoHnvx8WPFK3keS/Cli7+O1M4b+HQNqEwoHbv9kfIiFb+NO/gKyggGI5yL8EhrXMjDywvyGGtcyMPLA/jqyggGI5yD/gHyIhW/jTP4BA2oTCgds/DVi7+O1M4T8cFjxSt5HkP4cZk3jGgec/lUFFlgER6j8ynB6v3TTsP8Hxrg2K5O0/4F76khQZ7z80xstShs3vP+85zwb4/u8/8EI4BJ6s7z8DrLCCy9fuP5UjECftg+0/p0xY6Hq26z+Vgg+J4XbpP7fnwwFkzuY/9nixWvXH4z9dE7CRC3DgP9eBYozYqNk/w412/ecH0j/+xDbGYznEP0/bfMmkPqA/+FNHxZdVuL/UKaSyIjPMv+gLinSo49W/+Kg+VZVT3b8lRkW6WiXiv8+HZvErVuW/pig6uxkv6L+TVimJaaTqv1EHwCL7q+y/xFNiW3I97r/Al/eBWVLvv2Zmsvw75u+/g6xao7j2778YHIGMi4Pvv/sjPCWPju6/EyzujrQb7b94zoZi8zDrv4xAIRwx1ui//Bc/lCAV5r9GhZoMGvnivx5NPurYHd+/65MNU1HJ17+SiNkBzxLQv/GDAnguNMC/B1wUMyamwbw=\",\"dtype\":\"float64\",\"shape\":[100]}}},\"id\":\"c2a4d564-2d6a-45f6-bef0-a197f87ac11b\",\"type\":\"ColumnDataSource\"},{\"attributes\":{\"source\":{\"id\":\"d5445c53-a829-4b2c-b8d3-db4d48ebca34\",\"type\":\"ColumnDataSource\"}},\"id\":\"f16a8337-2a7b-4b64-82ae-b5334c0a9300\",\"type\":\"CDSView\"},{\"attributes\":{\"active_drag\":\"auto\",\"active_inspect\":\"auto\",\"active_scroll\":\"auto\",\"active_tap\":\"auto\",\"tools\":[{\"id\":\"58cf79b3-f483-4054-bc64-67ef94739511\",\"type\":\"PanTool\"},{\"id\":\"57c79346-a13d-4b29-b58b-364592f06e23\",\"type\":\"WheelZoomTool\"},{\"id\":\"467884e1-545e-4c34-bc0f-fb37cd5d700d\",\"type\":\"BoxZoomTool\"},{\"id\":\"04358043-4a08-45ac-9970-8c494a1bea77\",\"type\":\"SaveTool\"},{\"id\":\"060980af-af38-48e8-9da7-5532e56af5c4\",\"type\":\"ResetTool\"},{\"id\":\"af767a83-3329-4b04-b151-7ce32eab5811\",\"type\":\"HelpTool\"}]},\"id\":\"298affe3-20a7-4c68-ac52-6999cc610b59\",\"type\":\"Toolbar\"},{\"attributes\":{\"callback\":null,\"column_names\":[\"x\",\"y\"],\"data\":{\"x\":{\"__ndarray__\":\"AAAAAAAAAACRGkt8Vz/AP5EaS3xXP9A/2qdwOgNf2D+RGkt8Vz/gPzXhXVstT+Q/2qdwOgNf6D9+boMZ2W7sP5EaS3xXP/A/433Ua0JH8j814V1bLU/0P4dE50oYV/Y/2qdwOgNf+D8sC/op7mb6P35ugxnZbvw/0NEMCcR2/j+RGkt8Vz8AQDrMD/RMQwFA433Ua0JHAkCML5njN0sDQDXhXVstTwRA3pIi0yJTBUCHROdKGFcGQDD2q8INWwdA2qdwOgNfCECDWTWy+GIJQCwL+inuZgpA1by+oeNqC0B+boMZ2W4MQCcgSJHOcg1A0NEMCcR2DkB5g9GAuXoPQJEaS3xXPxBAZnMtOFLBEEA6zA/0TEMRQA8l8q9HxRFA433Ua0JHEkC41rYnPckSQIwvmeM3SxNAYYh7nzLNE0A14V1bLU8UQAo6QBco0RRA3pIi0yJTFUCz6wSPHdUVQIdE50oYVxZAXJ3JBhPZFkAw9qvCDVsXQAVPjn4I3RdA2qdwOgNfGECuAFP2/eAYQINZNbL4YhlAV7IXbvPkGUAsC/op7mYaQABk3OXo6BpA1by+oeNqG0CpFaFd3uwbQH5ugxnZbhxAUsdl1dPwHEAnIEiRznIdQPt4Kk3J9B1A0NEMCcR2HkCkKu/EvvgeQHmD0YC5eh9ATdyzPLT8H0CRGkt8Vz8gQPtGPNpUgCBAZnMtOFLBIEDQnx6WTwIhQDrMD/RMQyFApPgAUkqEIUAPJfKvR8UhQHlR4w1FBiJA433Ua0JHIkBNqsXJP4giQLjWtic9ySJAIgOohToKI0CML5njN0sjQPZbikE1jCNAYYh7nzLNI0DLtGz9Lw4kQDXhXVstTyRAoA1PuSqQJEAKOkAXKNEkQHRmMXUlEiVA3pIi0yJTJUBJvxMxIJQlQLPrBI8d1SVAHRj27BoWJkCHROdKGFcmQPJw2KgVmCZAXJ3JBhPZJkDGybpkEBonQDD2q8INWydAmyKdIAucJ0AFT45+CN0nQG97f9wFHihA2qdwOgNfKEBE1GGYAKAoQK4AU/b94ChAGC1EVPshKUA=\",\"dtype\":\"float64\",\"shape\":[100]},\"y\":{\"__ndarray__\":\"AAAAAAAAAADwgwJ4LjTQP5qI2QHPEuA/+5MNU1HJ5z8ZTT7q2B3vP0aFmgwa+fI/ABg/lCAV9j+IQCEcMdb4P3fOhmLzMPs/EyzujrQb/T/9Izwlj47+PxccgYyLg/8/g6xao7j2/z9mZrL8O+b/P7+X94FZUv8/xVNiW3I9/j9RB8Ai+6v8P5FWKYlppPo/oSg6uxkv+D/Sh2bxK1b1PyZGRbpaJfI/8qg+VZVT7T/4C4p0qOPlP+UppLIiM9w/3FNHxZdVyD/J23zJpD6wv+3ENsZjOdS/wo12/ecH4r/dgWKM2Kjpv2MTsJELcPC/83ixWvXH87+358MBZM72v5eCD4nhdvm/rExY6Hq2+7+TIxAn7YP9vwSssILL1/6/70I4BJ6s/7/vOc8G+P7/vzTGy1KGzf+/3176khQZ/7/C8a4NiuT9vzGcHq/dNPy/l0FFlgER+r+EGZN4xoH3vx8WPFK3kfS/Cli7+O1M8b+HQNqEwoHrv9kfIiFb+OO/gKyggGI52L8EhrXMjDzAvyGGtcyMPMA/jqyggGI52D/gHyIhW/jjP4BA2oTCges/DVi7+O1M8T8cFjxSt5H0P4cZk3jGgfc/lUFFlgER+j8ynB6v3TT8P8Hxrg2K5P0/4F76khQZ/z80xstShs3/P+85zwb4/v8/8EI4BJ6s/z8DrLCCy9f+P5UjECftg/0/p0xY6Hq2+z+Vgg+J4Xb5P7fnwwFkzvY/9nixWvXH8z9dE7CRC3DwP9eBYozYqOk/w412/ecH4j/+xDbGYznUP0/bfMmkPrA/+FNHxZdVyL/UKaSyIjPcv+gLinSo4+W/+Kg+VZVT7b8lRkW6WiXyv8+HZvErVvW/pig6uxkv+L+TVimJaaT6v1EHwCL7q/y/xFNiW3I9/r/Al/eBWVL/v2Zmsvw75v+/g6xao7j2/78YHIGMi4P/v/sjPCWPjv6/EyzujrQb/b94zoZi8zD7v4xAIRwx1vi//Bc/lCAV9r9GhZoMGvnyvx5NPurYHe+/65MNU1HJ57+SiNkBzxLgv/GDAnguNNC/B1wUMyam0bw=\",\"dtype\":\"float64\",\"shape\":[100]}}},\"id\":\"d5445c53-a829-4b2c-b8d3-db4d48ebca34\",\"type\":\"ColumnDataSource\"},{\"attributes\":{\"callback\":null,\"column_names\":[\"x\",\"y\"],\"data\":{\"x\":{\"__ndarray__\":\"AAAAAAAAAACRGkt8Vz/AP5EaS3xXP9A/2qdwOgNf2D+RGkt8Vz/gPzXhXVstT+Q/2qdwOgNf6D9+boMZ2W7sP5EaS3xXP/A/433Ua0JH8j814V1bLU/0P4dE50oYV/Y/2qdwOgNf+D8sC/op7mb6P35ugxnZbvw/0NEMCcR2/j+RGkt8Vz8AQDrMD/RMQwFA433Ua0JHAkCML5njN0sDQDXhXVstTwRA3pIi0yJTBUCHROdKGFcGQDD2q8INWwdA2qdwOgNfCECDWTWy+GIJQCwL+inuZgpA1by+oeNqC0B+boMZ2W4MQCcgSJHOcg1A0NEMCcR2DkB5g9GAuXoPQJEaS3xXPxBAZnMtOFLBEEA6zA/0TEMRQA8l8q9HxRFA433Ua0JHEkC41rYnPckSQIwvmeM3SxNAYYh7nzLNE0A14V1bLU8UQAo6QBco0RRA3pIi0yJTFUCz6wSPHdUVQIdE50oYVxZAXJ3JBhPZFkAw9qvCDVsXQAVPjn4I3RdA2qdwOgNfGECuAFP2/eAYQINZNbL4YhlAV7IXbvPkGUAsC/op7mYaQABk3OXo6BpA1by+oeNqG0CpFaFd3uwbQH5ugxnZbhxAUsdl1dPwHEAnIEiRznIdQPt4Kk3J9B1A0NEMCcR2HkCkKu/EvvgeQHmD0YC5eh9ATdyzPLT8H0CRGkt8Vz8gQPtGPNpUgCBAZnMtOFLBIEDQnx6WTwIhQDrMD/RMQyFApPgAUkqEIUAPJfKvR8UhQHlR4w1FBiJA433Ua0JHIkBNqsXJP4giQLjWtic9ySJAIgOohToKI0CML5njN0sjQPZbikE1jCNAYYh7nzLNI0DLtGz9Lw4kQDXhXVstTyRAoA1PuSqQJEAKOkAXKNEkQHRmMXUlEiVA3pIi0yJTJUBJvxMxIJQlQLPrBI8d1SVAHRj27BoWJkCHROdKGFcmQPJw2KgVmCZAXJ3JBhPZJkDGybpkEBonQDD2q8INWydAmyKdIAucJ0AFT45+CN0nQG97f9wFHihA2qdwOgNfKEBE1GGYAKAoQK4AU/b94ChAGC1EVPshKUA=\",\"dtype\":\"float64\",\"shape\":[100]},\"y\":{\"__ndarray__\":\"AAAAAAAAAADwgwJ4LjTAP5qI2QHPEtA/+5MNU1HJ1z8ZTT7q2B3fP0aFmgwa+eI/ABg/lCAV5j+IQCEcMdboP3fOhmLzMOs/EyzujrQb7T/9Izwlj47uPxccgYyLg+8/g6xao7j27z9mZrL8O+bvP7+X94FZUu8/xVNiW3I97j9RB8Ai+6vsP5FWKYlppOo/oSg6uxkv6D/Sh2bxK1blPyZGRbpaJeI/8qg+VZVT3T/4C4p0qOPVP+UppLIiM8w/3FNHxZdVuD/J23zJpD6gv+3ENsZjOcS/wo12/ecH0r/dgWKM2KjZv2MTsJELcOC/83ixWvXH47+358MBZM7mv5eCD4nhdum/rExY6Hq267+TIxAn7YPtvwSssILL1+6/70I4BJ6s77/vOc8G+P7vvzTGy1KGze+/3176khQZ77/C8a4NiuTtvzGcHq/dNOy/l0FFlgER6r+EGZN4xoHnvx8WPFK3keS/Cli7+O1M4b+HQNqEwoHbv9kfIiFb+NO/gKyggGI5yL8EhrXMjDywvyGGtcyMPLA/jqyggGI5yD/gHyIhW/jTP4BA2oTCgds/DVi7+O1M4T8cFjxSt5HkP4cZk3jGgec/lUFFlgER6j8ynB6v3TTsP8Hxrg2K5O0/4F76khQZ7z80xstShs3vP+85zwb4/u8/8EI4BJ6s7z8DrLCCy9fuP5UjECftg+0/p0xY6Hq26z+Vgg+J4XbpP7fnwwFkzuY/9nixWvXH4z9dE7CRC3DgP9eBYozYqNk/w412/ecH0j/+xDbGYznEP0/bfMmkPqA/+FNHxZdVuL/UKaSyIjPMv+gLinSo49W/+Kg+VZVT3b8lRkW6WiXiv8+HZvErVuW/pig6uxkv6L+TVimJaaTqv1EHwCL7q+y/xFNiW3I97r/Al/eBWVLvv2Zmsvw75u+/g6xao7j2778YHIGMi4Pvv/sjPCWPju6/EyzujrQb7b94zoZi8zDrv4xAIRwx1ui//Bc/lCAV5r9GhZoMGvnivx5NPurYHd+/65MNU1HJ17+SiNkBzxLQv/GDAnguNMC/B1wUMyamwbw=\",\"dtype\":\"float64\",\"shape\":[100]}}},\"id\":\"e3e7247d-a3c7-4c85-8476-231e869e98d5\",\"type\":\"ColumnDataSource\"},{\"attributes\":{\"line_alpha\":0.1,\"line_color\":\"#1f77b4\",\"x\":{\"field\":\"x\"},\"y\":{\"field\":\"y\"}},\"id\":\"5945d4f1-766a-4dad-9e2d-c2c559b42cc9\",\"type\":\"Line\"},{\"attributes\":{\"source\":{\"id\":\"e3e7247d-a3c7-4c85-8476-231e869e98d5\",\"type\":\"ColumnDataSource\"}},\"id\":\"7464a640-e49a-4adb-90bd-6e0533dad2a9\",\"type\":\"CDSView\"},{\"attributes\":{\"line_alpha\":0.1,\"line_color\":\"#1f77b4\",\"line_dash\":[4,4],\"line_width\":2,\"x\":{\"field\":\"x\"},\"y\":{\"field\":\"y\"}},\"id\":\"c11f8c21-51aa-481f-8d5c-055a74883c0a\",\"type\":\"Line\"},{\"attributes\":{},\"id\":\"89b5bfba-6420-48ba-b2e8-545b6f1a6268\",\"type\":\"LinearScale\"},{\"attributes\":{\"callback\":null,\"column_names\":[\"x\",\"y\"],\"data\":{\"x\":{\"__ndarray__\":\"AAAAAAAAAACRGkt8Vz/AP5EaS3xXP9A/2qdwOgNf2D+RGkt8Vz/gPzXhXVstT+Q/2qdwOgNf6D9+boMZ2W7sP5EaS3xXP/A/433Ua0JH8j814V1bLU/0P4dE50oYV/Y/2qdwOgNf+D8sC/op7mb6P35ugxnZbvw/0NEMCcR2/j+RGkt8Vz8AQDrMD/RMQwFA433Ua0JHAkCML5njN0sDQDXhXVstTwRA3pIi0yJTBUCHROdKGFcGQDD2q8INWwdA2qdwOgNfCECDWTWy+GIJQCwL+inuZgpA1by+oeNqC0B+boMZ2W4MQCcgSJHOcg1A0NEMCcR2DkB5g9GAuXoPQJEaS3xXPxBAZnMtOFLBEEA6zA/0TEMRQA8l8q9HxRFA433Ua0JHEkC41rYnPckSQIwvmeM3SxNAYYh7nzLNE0A14V1bLU8UQAo6QBco0RRA3pIi0yJTFUCz6wSPHdUVQIdE50oYVxZAXJ3JBhPZFkAw9qvCDVsXQAVPjn4I3RdA2qdwOgNfGECuAFP2/eAYQINZNbL4YhlAV7IXbvPkGUAsC/op7mYaQABk3OXo6BpA1by+oeNqG0CpFaFd3uwbQH5ugxnZbhxAUsdl1dPwHEAnIEiRznIdQPt4Kk3J9B1A0NEMCcR2HkCkKu/EvvgeQHmD0YC5eh9ATdyzPLT8H0CRGkt8Vz8gQPtGPNpUgCBAZnMtOFLBIEDQnx6WTwIhQDrMD/RMQyFApPgAUkqEIUAPJfKvR8UhQHlR4w1FBiJA433Ua0JHIkBNqsXJP4giQLjWtic9ySJAIgOohToKI0CML5njN0sjQPZbikE1jCNAYYh7nzLNI0DLtGz9Lw4kQDXhXVstTyRAoA1PuSqQJEAKOkAXKNEkQHRmMXUlEiVA3pIi0yJTJUBJvxMxIJQlQLPrBI8d1SVAHRj27BoWJkCHROdKGFcmQPJw2KgVmCZAXJ3JBhPZJkDGybpkEBonQDD2q8INWydAmyKdIAucJ0AFT45+CN0nQG97f9wFHihA2qdwOgNfKEBE1GGYAKAoQK4AU/b94ChAGC1EVPshKUA=\",\"dtype\":\"float64\",\"shape\":[100]},\"y\":{\"__ndarray__\":\"AAAAAAAAAADoxQO0RU7YP+dMxoI2HOg//C5K/vzW8T/Tua6vYlb3P+nH5xKndfw/AFIvb9iPAEBm8BjVpKACQNka5Ym2ZARADqEya8fUBUD+Gu1b6+oGQBHVYKmoogdAYgGEegr5B0DMzIX9rOwHQM+xeSHDfQdA1L6JxBWuBkB9BRBa/IAFQO0A3yZP+wNAeZ5rTFMjAkDe5Qz1oAAAQDnpZxcIOPs/tv7u/6/+9T/6iGdXvmrwP2wf+wVaJuU/5X710zFA0j+uSTsu9124v2QnUqkVVt6/o9Qx/NsL679m4Ulpoj7zvxQdiFoRqPi/bDUKCPCr/b/J7VIByxoBwPGhyyYpGQPAgTlCLtzIBMCuGkzd8SIGwAOBBKLYIQfAMzIqg3bBB8BzaxsFOv8HwKfUGL4k2gfAJ8c7bs9SB8BSNUOKZ2sGwCX1VkOmJwXAMfGzMMGMA8AjU27aVKEBwC4hWvuS2v6/DwQZ9WTz+b9lsKPjUaH0v8Yvs7GI9O2/YIF44Akr4r8GSRAz01rIvzJJEDPTWsg/aoF44Akr4j/QL7OxiPTtP2Cwo+NRofQ/FAQZ9WTz+T8qIVr7ktr+PyVTbtpUoQFAMPGzMMGMA0Am9VZDpicFQFE1Q4pnawZAKMc7bs9SB0Cn1Bi+JNoHQHNrGwU6/wdANDIqg3bBB0ACgQSi2CEHQLAaTN3xIgZAfTlCLtzIBEDwocsmKRkDQMntUgHLGgFAcTUKCPCr/T8MHYhaEaj4P2HhSWmiPvM/pNQx/NsL6z99J1KpFVbeP/ZIOy73Xbg/+n710zFA0r9fH/sFWiblv+6IZ1e+avC/uv7u/6/+9b846WcXCDj7v9vlDPWgAADAfJ5rTFMjAsDuAN8mT/sDwH0FEFr8gAXA076JxBWuBsDQsXkhw30HwMzMhf2s7AfAYgGEegr5B8AS1WCpqKIHwPwa7Vvr6gbADqEya8fUBcDaGuWJtmQEwGnwGNWkoALA/VEvb9iPAMDpx+cSp3X8v9a5rq9iVve/8C5K/vzW8b/bTMaCNhzov+rFA7RFTti/CoqeTDl52rw=\",\"dtype\":\"float64\",\"shape\":[100]}}},\"id\":\"fdac6553-7ce4-4093-b3be-9be89a3f06d1\",\"type\":\"ColumnDataSource\"},{\"attributes\":{\"below\":[{\"id\":\"4dfd7eee-c6a2-48e1-b1a0-e50be9313a9e\",\"type\":\"LinearAxis\"}],\"left\":[{\"id\":\"8c20ded8-1e9f-4645-8b51-65f715d2b869\",\"type\":\"LinearAxis\"}],\"renderers\":[{\"id\":\"4dfd7eee-c6a2-48e1-b1a0-e50be9313a9e\",\"type\":\"LinearAxis\"},{\"id\":\"227851a2-70b8-49a8-be24-a345f52d72e0\",\"type\":\"Grid\"},{\"id\":\"8c20ded8-1e9f-4645-8b51-65f715d2b869\",\"type\":\"LinearAxis\"},{\"id\":\"50cf1903-113a-42d0-985a-f147987b7e41\",\"type\":\"Grid\"},{\"id\":\"05ff1837-50d9-4b5f-bd0d-a9b92c46477f\",\"type\":\"BoxAnnotation\"},{\"id\":\"7c205423-dcc4-4a76-ac4e-c3130e4c5fce\",\"type\":\"Legend\"},{\"id\":\"6a197f64-4aa6-44e2-973f-5880d5b8d95b\",\"type\":\"GlyphRenderer\"},{\"id\":\"855195d3-efac-4724-b921-5560ad77d20a\",\"type\":\"GlyphRenderer\"},{\"id\":\"dbeb831d-9593-4fca-982a-63519f8c21f9\",\"type\":\"GlyphRenderer\"},{\"id\":\"145dffa1-d936-4842-835f-25b90a7fd55f\",\"type\":\"GlyphRenderer\"},{\"id\":\"9138a6a9-0d16-4911-b95a-264b4e6d3104\",\"type\":\"GlyphRenderer\"}],\"title\":{\"id\":\"899afd50-7f9f-4d59-a436-bb4289ac808e\",\"type\":\"Title\"},\"toolbar\":{\"id\":\"298affe3-20a7-4c68-ac52-6999cc610b59\",\"type\":\"Toolbar\"},\"x_range\":{\"id\":\"17da2ec7-750c-4cee-a96f-eb18c5ee88a7\",\"type\":\"DataRange1d\"},\"x_scale\":{\"id\":\"6082e2a6-c732-42cd-9b98-a6183457c178\",\"type\":\"LinearScale\"},\"y_range\":{\"id\":\"f4f66286-b57c-4188-b0b6-2d9a76608e99\",\"type\":\"DataRange1d\"},\"y_scale\":{\"id\":\"89b5bfba-6420-48ba-b2e8-545b6f1a6268\",\"type\":\"LinearScale\"}},\"id\":\"616a1e2e-39fb-473f-8d5e-3c769e7cf016\",\"subtype\":\"Figure\",\"type\":\"Plot\"},{\"attributes\":{\"data_source\":{\"id\":\"d99f634f-1c0a-4f6c-837c-b3d1c74acd0f\",\"type\":\"ColumnDataSource\"},\"glyph\":{\"id\":\"28d4bf10-4a19-4524-8577-02bf3f863399\",\"type\":\"Square\"},\"hover_glyph\":null,\"muted_glyph\":null,\"nonselection_glyph\":{\"id\":\"759f8bcd-0861-4f97-88df-8c4b79cf05b3\",\"type\":\"Square\"},\"selection_glyph\":null,\"view\":{\"id\":\"e89c657a-2701-4c3e-a746-43544572c1ba\",\"type\":\"CDSView\"}},\"id\":\"145dffa1-d936-4842-835f-25b90a7fd55f\",\"type\":\"GlyphRenderer\"},{\"attributes\":{\"label\":{\"value\":\"3*sin(x)\"},\"renderers\":[{\"id\":\"145dffa1-d936-4842-835f-25b90a7fd55f\",\"type\":\"GlyphRenderer\"},{\"id\":\"9138a6a9-0d16-4911-b95a-264b4e6d3104\",\"type\":\"GlyphRenderer\"}]},\"id\":\"5ef5ef7e-64f0-4634-9166-525e3152a045\",\"type\":\"LegendItem\"},{\"attributes\":{\"line_color\":\"green\",\"x\":{\"field\":\"x\"},\"y\":{\"field\":\"y\"}},\"id\":\"70a30b8f-c5e4-4648-8588-1753eb852a71\",\"type\":\"Line\"}],\"root_ids\":[\"616a1e2e-39fb-473f-8d5e-3c769e7cf016\"]},\"title\":\"Bokeh Application\",\"version\":\"0.12.13\"}};\n",
       "  var render_items = [{\"docid\":\"8e5802de-f1d1-4549-81d2-6fb0dd7c584e\",\"elementid\":\"a1bd44a8-4a2e-4fb5-87ae-98c929a01b5e\",\"modelid\":\"616a1e2e-39fb-473f-8d5e-3c769e7cf016\"}];\n",
       "  root.Bokeh.embed.embed_items_notebook(docs_json, render_items);\n",
       "\n",
       "  }\n",
       "  if (root.Bokeh !== undefined) {\n",
       "    embed_document(root);\n",
       "  } else {\n",
       "    var attempts = 0;\n",
       "    var timer = setInterval(function(root) {\n",
       "      if (root.Bokeh !== undefined) {\n",
       "        embed_document(root);\n",
       "        clearInterval(timer);\n",
       "      }\n",
       "      attempts++;\n",
       "      if (attempts > 100) {\n",
       "        console.log(\"Bokeh: ERROR: Unable to run BokehJS code because BokehJS library is missing\")\n",
       "        clearInterval(timer);\n",
       "      }\n",
       "    }, 10, root)\n",
       "  }\n",
       "})(window);"
      ],
      "application/vnd.bokehjs_exec.v0+json": ""
     },
     "metadata": {
      "application/vnd.bokehjs_exec.v0+json": {
       "id": "616a1e2e-39fb-473f-8d5e-3c769e7cf016"
      }
     },
     "output_type": "display_data"
    }
   ],
   "source": [
    "# Border\n",
    "\n",
    "x = np.linspace(0, 4*np.pi, 100)\n",
    "y = np.sin(x)\n",
    "\n",
    "p = figure()\n",
    "\n",
    "p.circle(x, y, legend=\"sin(x)\")\n",
    "p.line(x, y, legend=\"sin(x)\")\n",
    "\n",
    "p.line(x, 2*y, legend=\"2*sin(x)\",\n",
    "       line_dash=[4, 4], line_color=\"orange\", line_width=2)\n",
    "\n",
    "p.square(x, 3*y, legend=\"3*sin(x)\", fill_color=None, line_color=\"green\")\n",
    "p.line(x, 3*y, legend=\"3*sin(x)\", line_color=\"green\")\n",
    "\n",
    "p.legend.border_line_width = 3\n",
    "p.legend.border_line_color = \"navy\"\n",
    "p.legend.border_line_alpha = 0.5\n",
    "\n",
    "show(p)"
   ]
  },
  {
   "cell_type": "code",
   "execution_count": 43,
   "metadata": {},
   "outputs": [
    {
     "data": {
      "text/html": [
       "\n",
       "<div class=\"bk-root\">\n",
       "    <div class=\"bk-plotdiv\" id=\"ca7603ed-c18c-475b-af85-3856f6412b78\"></div>\n",
       "</div>"
      ]
     },
     "metadata": {},
     "output_type": "display_data"
    },
    {
     "data": {
      "application/javascript": [
       "(function(root) {\n",
       "  function embed_document(root) {\n",
       "    \n",
       "  var docs_json = {\"6a2652af-d5e0-4827-8060-b9452c582c9a\":{\"roots\":{\"references\":[{\"attributes\":{},\"id\":\"cdcce119-ce0b-4184-8589-7d5c86639f5e\",\"type\":\"BasicTicker\"},{\"attributes\":{\"dimension\":1,\"plot\":{\"id\":\"b856ac82-25c5-4341-a800-afb75a316f2b\",\"subtype\":\"Figure\",\"type\":\"Plot\"},\"ticker\":{\"id\":\"5886696c-a1b4-44aa-bb2d-42e6d9bc8b27\",\"type\":\"BasicTicker\"}},\"id\":\"0f3281e3-2f49-442e-b18a-e2399ea50742\",\"type\":\"Grid\"},{\"attributes\":{\"background_fill_alpha\":{\"value\":0.5},\"background_fill_color\":{\"value\":\"navy\"},\"items\":[{\"id\":\"862de37a-c564-461b-abb6-531d3d0781e7\",\"type\":\"LegendItem\"},{\"id\":\"0fed80db-5ca2-40bd-9078-e9529365f435\",\"type\":\"LegendItem\"},{\"id\":\"796fcf2c-f62f-4844-872f-de97ed05b046\",\"type\":\"LegendItem\"}],\"location\":\"bottom_right\",\"plot\":{\"id\":\"b856ac82-25c5-4341-a800-afb75a316f2b\",\"subtype\":\"Figure\",\"type\":\"Plot\"}},\"id\":\"6bc2425a-0c80-4cc3-8f39-d86a825826a4\",\"type\":\"Legend\"},{\"attributes\":{\"callback\":null,\"column_names\":[\"x\",\"y\"],\"data\":{\"x\":{\"__ndarray__\":\"AAAAAAAAAACRGkt8Vz/AP5EaS3xXP9A/2qdwOgNf2D+RGkt8Vz/gPzXhXVstT+Q/2qdwOgNf6D9+boMZ2W7sP5EaS3xXP/A/433Ua0JH8j814V1bLU/0P4dE50oYV/Y/2qdwOgNf+D8sC/op7mb6P35ugxnZbvw/0NEMCcR2/j+RGkt8Vz8AQDrMD/RMQwFA433Ua0JHAkCML5njN0sDQDXhXVstTwRA3pIi0yJTBUCHROdKGFcGQDD2q8INWwdA2qdwOgNfCECDWTWy+GIJQCwL+inuZgpA1by+oeNqC0B+boMZ2W4MQCcgSJHOcg1A0NEMCcR2DkB5g9GAuXoPQJEaS3xXPxBAZnMtOFLBEEA6zA/0TEMRQA8l8q9HxRFA433Ua0JHEkC41rYnPckSQIwvmeM3SxNAYYh7nzLNE0A14V1bLU8UQAo6QBco0RRA3pIi0yJTFUCz6wSPHdUVQIdE50oYVxZAXJ3JBhPZFkAw9qvCDVsXQAVPjn4I3RdA2qdwOgNfGECuAFP2/eAYQINZNbL4YhlAV7IXbvPkGUAsC/op7mYaQABk3OXo6BpA1by+oeNqG0CpFaFd3uwbQH5ugxnZbhxAUsdl1dPwHEAnIEiRznIdQPt4Kk3J9B1A0NEMCcR2HkCkKu/EvvgeQHmD0YC5eh9ATdyzPLT8H0CRGkt8Vz8gQPtGPNpUgCBAZnMtOFLBIEDQnx6WTwIhQDrMD/RMQyFApPgAUkqEIUAPJfKvR8UhQHlR4w1FBiJA433Ua0JHIkBNqsXJP4giQLjWtic9ySJAIgOohToKI0CML5njN0sjQPZbikE1jCNAYYh7nzLNI0DLtGz9Lw4kQDXhXVstTyRAoA1PuSqQJEAKOkAXKNEkQHRmMXUlEiVA3pIi0yJTJUBJvxMxIJQlQLPrBI8d1SVAHRj27BoWJkCHROdKGFcmQPJw2KgVmCZAXJ3JBhPZJkDGybpkEBonQDD2q8INWydAmyKdIAucJ0AFT45+CN0nQG97f9wFHihA2qdwOgNfKEBE1GGYAKAoQK4AU/b94ChAGC1EVPshKUA=\",\"dtype\":\"float64\",\"shape\":[100]},\"y\":{\"__ndarray__\":\"AAAAAAAAAADwgwJ4LjTAP5qI2QHPEtA/+5MNU1HJ1z8ZTT7q2B3fP0aFmgwa+eI/ABg/lCAV5j+IQCEcMdboP3fOhmLzMOs/EyzujrQb7T/9Izwlj47uPxccgYyLg+8/g6xao7j27z9mZrL8O+bvP7+X94FZUu8/xVNiW3I97j9RB8Ai+6vsP5FWKYlppOo/oSg6uxkv6D/Sh2bxK1blPyZGRbpaJeI/8qg+VZVT3T/4C4p0qOPVP+UppLIiM8w/3FNHxZdVuD/J23zJpD6gv+3ENsZjOcS/wo12/ecH0r/dgWKM2KjZv2MTsJELcOC/83ixWvXH47+358MBZM7mv5eCD4nhdum/rExY6Hq267+TIxAn7YPtvwSssILL1+6/70I4BJ6s77/vOc8G+P7vvzTGy1KGze+/3176khQZ77/C8a4NiuTtvzGcHq/dNOy/l0FFlgER6r+EGZN4xoHnvx8WPFK3keS/Cli7+O1M4b+HQNqEwoHbv9kfIiFb+NO/gKyggGI5yL8EhrXMjDywvyGGtcyMPLA/jqyggGI5yD/gHyIhW/jTP4BA2oTCgds/DVi7+O1M4T8cFjxSt5HkP4cZk3jGgec/lUFFlgER6j8ynB6v3TTsP8Hxrg2K5O0/4F76khQZ7z80xstShs3vP+85zwb4/u8/8EI4BJ6s7z8DrLCCy9fuP5UjECftg+0/p0xY6Hq26z+Vgg+J4XbpP7fnwwFkzuY/9nixWvXH4z9dE7CRC3DgP9eBYozYqNk/w412/ecH0j/+xDbGYznEP0/bfMmkPqA/+FNHxZdVuL/UKaSyIjPMv+gLinSo49W/+Kg+VZVT3b8lRkW6WiXiv8+HZvErVuW/pig6uxkv6L+TVimJaaTqv1EHwCL7q+y/xFNiW3I97r/Al/eBWVLvv2Zmsvw75u+/g6xao7j2778YHIGMi4Pvv/sjPCWPju6/EyzujrQb7b94zoZi8zDrv4xAIRwx1ui//Bc/lCAV5r9GhZoMGvnivx5NPurYHd+/65MNU1HJ17+SiNkBzxLQv/GDAnguNMC/B1wUMyamwbw=\",\"dtype\":\"float64\",\"shape\":[100]}}},\"id\":\"7f616cba-16f4-4ef6-9429-60200be1b72b\",\"type\":\"ColumnDataSource\"},{\"attributes\":{\"line_alpha\":0.1,\"line_color\":\"#1f77b4\",\"x\":{\"field\":\"x\"},\"y\":{\"field\":\"y\"}},\"id\":\"b984969e-4e00-408c-80a9-f1c2974d6250\",\"type\":\"Line\"},{\"attributes\":{},\"id\":\"66ca7538-aebb-4f53-809b-e11de75ab185\",\"type\":\"BasicTickFormatter\"},{\"attributes\":{\"label\":{\"value\":\"sin(x)\"},\"renderers\":[{\"id\":\"86163534-b797-431b-9c6e-d4aeef551d6a\",\"type\":\"GlyphRenderer\"},{\"id\":\"359384b7-db3a-44ea-b65e-00806d8ebd01\",\"type\":\"GlyphRenderer\"}]},\"id\":\"862de37a-c564-461b-abb6-531d3d0781e7\",\"type\":\"LegendItem\"},{\"attributes\":{},\"id\":\"5886696c-a1b4-44aa-bb2d-42e6d9bc8b27\",\"type\":\"BasicTicker\"},{\"attributes\":{\"callback\":null,\"column_names\":[\"x\",\"y\"],\"data\":{\"x\":{\"__ndarray__\":\"AAAAAAAAAACRGkt8Vz/AP5EaS3xXP9A/2qdwOgNf2D+RGkt8Vz/gPzXhXVstT+Q/2qdwOgNf6D9+boMZ2W7sP5EaS3xXP/A/433Ua0JH8j814V1bLU/0P4dE50oYV/Y/2qdwOgNf+D8sC/op7mb6P35ugxnZbvw/0NEMCcR2/j+RGkt8Vz8AQDrMD/RMQwFA433Ua0JHAkCML5njN0sDQDXhXVstTwRA3pIi0yJTBUCHROdKGFcGQDD2q8INWwdA2qdwOgNfCECDWTWy+GIJQCwL+inuZgpA1by+oeNqC0B+boMZ2W4MQCcgSJHOcg1A0NEMCcR2DkB5g9GAuXoPQJEaS3xXPxBAZnMtOFLBEEA6zA/0TEMRQA8l8q9HxRFA433Ua0JHEkC41rYnPckSQIwvmeM3SxNAYYh7nzLNE0A14V1bLU8UQAo6QBco0RRA3pIi0yJTFUCz6wSPHdUVQIdE50oYVxZAXJ3JBhPZFkAw9qvCDVsXQAVPjn4I3RdA2qdwOgNfGECuAFP2/eAYQINZNbL4YhlAV7IXbvPkGUAsC/op7mYaQABk3OXo6BpA1by+oeNqG0CpFaFd3uwbQH5ugxnZbhxAUsdl1dPwHEAnIEiRznIdQPt4Kk3J9B1A0NEMCcR2HkCkKu/EvvgeQHmD0YC5eh9ATdyzPLT8H0CRGkt8Vz8gQPtGPNpUgCBAZnMtOFLBIEDQnx6WTwIhQDrMD/RMQyFApPgAUkqEIUAPJfKvR8UhQHlR4w1FBiJA433Ua0JHIkBNqsXJP4giQLjWtic9ySJAIgOohToKI0CML5njN0sjQPZbikE1jCNAYYh7nzLNI0DLtGz9Lw4kQDXhXVstTyRAoA1PuSqQJEAKOkAXKNEkQHRmMXUlEiVA3pIi0yJTJUBJvxMxIJQlQLPrBI8d1SVAHRj27BoWJkCHROdKGFcmQPJw2KgVmCZAXJ3JBhPZJkDGybpkEBonQDD2q8INWydAmyKdIAucJ0AFT45+CN0nQG97f9wFHihA2qdwOgNfKEBE1GGYAKAoQK4AU/b94ChAGC1EVPshKUA=\",\"dtype\":\"float64\",\"shape\":[100]},\"y\":{\"__ndarray__\":\"AAAAAAAAAADoxQO0RU7YP+dMxoI2HOg//C5K/vzW8T/Tua6vYlb3P+nH5xKndfw/AFIvb9iPAEBm8BjVpKACQNka5Ym2ZARADqEya8fUBUD+Gu1b6+oGQBHVYKmoogdAYgGEegr5B0DMzIX9rOwHQM+xeSHDfQdA1L6JxBWuBkB9BRBa/IAFQO0A3yZP+wNAeZ5rTFMjAkDe5Qz1oAAAQDnpZxcIOPs/tv7u/6/+9T/6iGdXvmrwP2wf+wVaJuU/5X710zFA0j+uSTsu9124v2QnUqkVVt6/o9Qx/NsL679m4Ulpoj7zvxQdiFoRqPi/bDUKCPCr/b/J7VIByxoBwPGhyyYpGQPAgTlCLtzIBMCuGkzd8SIGwAOBBKLYIQfAMzIqg3bBB8BzaxsFOv8HwKfUGL4k2gfAJ8c7bs9SB8BSNUOKZ2sGwCX1VkOmJwXAMfGzMMGMA8AjU27aVKEBwC4hWvuS2v6/DwQZ9WTz+b9lsKPjUaH0v8Yvs7GI9O2/YIF44Akr4r8GSRAz01rIvzJJEDPTWsg/aoF44Akr4j/QL7OxiPTtP2Cwo+NRofQ/FAQZ9WTz+T8qIVr7ktr+PyVTbtpUoQFAMPGzMMGMA0Am9VZDpicFQFE1Q4pnawZAKMc7bs9SB0Cn1Bi+JNoHQHNrGwU6/wdANDIqg3bBB0ACgQSi2CEHQLAaTN3xIgZAfTlCLtzIBEDwocsmKRkDQMntUgHLGgFAcTUKCPCr/T8MHYhaEaj4P2HhSWmiPvM/pNQx/NsL6z99J1KpFVbeP/ZIOy73Xbg/+n710zFA0r9fH/sFWiblv+6IZ1e+avC/uv7u/6/+9b846WcXCDj7v9vlDPWgAADAfJ5rTFMjAsDuAN8mT/sDwH0FEFr8gAXA076JxBWuBsDQsXkhw30HwMzMhf2s7AfAYgGEegr5B8AS1WCpqKIHwPwa7Vvr6gbADqEya8fUBcDaGuWJtmQEwGnwGNWkoALA/VEvb9iPAMDpx+cSp3X8v9a5rq9iVve/8C5K/vzW8b/bTMaCNhzov+rFA7RFTti/CoqeTDl52rw=\",\"dtype\":\"float64\",\"shape\":[100]}}},\"id\":\"f181b071-efb3-4664-9308-b32ed719224e\",\"type\":\"ColumnDataSource\"},{\"attributes\":{\"callback\":null,\"column_names\":[\"x\",\"y\"],\"data\":{\"x\":{\"__ndarray__\":\"AAAAAAAAAACRGkt8Vz/AP5EaS3xXP9A/2qdwOgNf2D+RGkt8Vz/gPzXhXVstT+Q/2qdwOgNf6D9+boMZ2W7sP5EaS3xXP/A/433Ua0JH8j814V1bLU/0P4dE50oYV/Y/2qdwOgNf+D8sC/op7mb6P35ugxnZbvw/0NEMCcR2/j+RGkt8Vz8AQDrMD/RMQwFA433Ua0JHAkCML5njN0sDQDXhXVstTwRA3pIi0yJTBUCHROdKGFcGQDD2q8INWwdA2qdwOgNfCECDWTWy+GIJQCwL+inuZgpA1by+oeNqC0B+boMZ2W4MQCcgSJHOcg1A0NEMCcR2DkB5g9GAuXoPQJEaS3xXPxBAZnMtOFLBEEA6zA/0TEMRQA8l8q9HxRFA433Ua0JHEkC41rYnPckSQIwvmeM3SxNAYYh7nzLNE0A14V1bLU8UQAo6QBco0RRA3pIi0yJTFUCz6wSPHdUVQIdE50oYVxZAXJ3JBhPZFkAw9qvCDVsXQAVPjn4I3RdA2qdwOgNfGECuAFP2/eAYQINZNbL4YhlAV7IXbvPkGUAsC/op7mYaQABk3OXo6BpA1by+oeNqG0CpFaFd3uwbQH5ugxnZbhxAUsdl1dPwHEAnIEiRznIdQPt4Kk3J9B1A0NEMCcR2HkCkKu/EvvgeQHmD0YC5eh9ATdyzPLT8H0CRGkt8Vz8gQPtGPNpUgCBAZnMtOFLBIEDQnx6WTwIhQDrMD/RMQyFApPgAUkqEIUAPJfKvR8UhQHlR4w1FBiJA433Ua0JHIkBNqsXJP4giQLjWtic9ySJAIgOohToKI0CML5njN0sjQPZbikE1jCNAYYh7nzLNI0DLtGz9Lw4kQDXhXVstTyRAoA1PuSqQJEAKOkAXKNEkQHRmMXUlEiVA3pIi0yJTJUBJvxMxIJQlQLPrBI8d1SVAHRj27BoWJkCHROdKGFcmQPJw2KgVmCZAXJ3JBhPZJkDGybpkEBonQDD2q8INWydAmyKdIAucJ0AFT45+CN0nQG97f9wFHihA2qdwOgNfKEBE1GGYAKAoQK4AU/b94ChAGC1EVPshKUA=\",\"dtype\":\"float64\",\"shape\":[100]},\"y\":{\"__ndarray__\":\"AAAAAAAAAADwgwJ4LjTAP5qI2QHPEtA/+5MNU1HJ1z8ZTT7q2B3fP0aFmgwa+eI/ABg/lCAV5j+IQCEcMdboP3fOhmLzMOs/EyzujrQb7T/9Izwlj47uPxccgYyLg+8/g6xao7j27z9mZrL8O+bvP7+X94FZUu8/xVNiW3I97j9RB8Ai+6vsP5FWKYlppOo/oSg6uxkv6D/Sh2bxK1blPyZGRbpaJeI/8qg+VZVT3T/4C4p0qOPVP+UppLIiM8w/3FNHxZdVuD/J23zJpD6gv+3ENsZjOcS/wo12/ecH0r/dgWKM2KjZv2MTsJELcOC/83ixWvXH47+358MBZM7mv5eCD4nhdum/rExY6Hq267+TIxAn7YPtvwSssILL1+6/70I4BJ6s77/vOc8G+P7vvzTGy1KGze+/3176khQZ77/C8a4NiuTtvzGcHq/dNOy/l0FFlgER6r+EGZN4xoHnvx8WPFK3keS/Cli7+O1M4b+HQNqEwoHbv9kfIiFb+NO/gKyggGI5yL8EhrXMjDywvyGGtcyMPLA/jqyggGI5yD/gHyIhW/jTP4BA2oTCgds/DVi7+O1M4T8cFjxSt5HkP4cZk3jGgec/lUFFlgER6j8ynB6v3TTsP8Hxrg2K5O0/4F76khQZ7z80xstShs3vP+85zwb4/u8/8EI4BJ6s7z8DrLCCy9fuP5UjECftg+0/p0xY6Hq26z+Vgg+J4XbpP7fnwwFkzuY/9nixWvXH4z9dE7CRC3DgP9eBYozYqNk/w412/ecH0j/+xDbGYznEP0/bfMmkPqA/+FNHxZdVuL/UKaSyIjPMv+gLinSo49W/+Kg+VZVT3b8lRkW6WiXiv8+HZvErVuW/pig6uxkv6L+TVimJaaTqv1EHwCL7q+y/xFNiW3I97r/Al/eBWVLvv2Zmsvw75u+/g6xao7j2778YHIGMi4Pvv/sjPCWPju6/EyzujrQb7b94zoZi8zDrv4xAIRwx1ui//Bc/lCAV5r9GhZoMGvnivx5NPurYHd+/65MNU1HJ17+SiNkBzxLQv/GDAnguNMC/B1wUMyamwbw=\",\"dtype\":\"float64\",\"shape\":[100]}}},\"id\":\"4bf0000e-6668-411f-a8b7-fc70103cbee2\",\"type\":\"ColumnDataSource\"},{\"attributes\":{\"fill_color\":{\"value\":null},\"line_color\":{\"value\":\"green\"},\"x\":{\"field\":\"x\"},\"y\":{\"field\":\"y\"}},\"id\":\"e7bbdc30-9f36-4d1d-88ff-3b02128e9e64\",\"type\":\"Square\"},{\"attributes\":{\"bottom_units\":\"screen\",\"fill_alpha\":{\"value\":0.5},\"fill_color\":{\"value\":\"lightgrey\"},\"left_units\":\"screen\",\"level\":\"overlay\",\"line_alpha\":{\"value\":1.0},\"line_color\":{\"value\":\"black\"},\"line_dash\":[4,4],\"line_width\":{\"value\":2},\"plot\":null,\"render_mode\":\"css\",\"right_units\":\"screen\",\"top_units\":\"screen\"},\"id\":\"d76531b9-965b-4445-9899-28f9bd9eceec\",\"type\":\"BoxAnnotation\"},{\"attributes\":{\"source\":{\"id\":\"376d3b8b-b0d7-4c78-ac7a-cadc9c06f6a7\",\"type\":\"ColumnDataSource\"}},\"id\":\"9452e82e-5138-4d84-b589-10ec4cd06482\",\"type\":\"CDSView\"},{\"attributes\":{\"data_source\":{\"id\":\"4bf0000e-6668-411f-a8b7-fc70103cbee2\",\"type\":\"ColumnDataSource\"},\"glyph\":{\"id\":\"bfe28c72-86c6-4d18-b043-2c06e42960c0\",\"type\":\"Line\"},\"hover_glyph\":null,\"muted_glyph\":null,\"nonselection_glyph\":{\"id\":\"b984969e-4e00-408c-80a9-f1c2974d6250\",\"type\":\"Line\"},\"selection_glyph\":null,\"view\":{\"id\":\"038e4a77-bfea-49c4-ad67-b7544413ab20\",\"type\":\"CDSView\"}},\"id\":\"359384b7-db3a-44ea-b65e-00806d8ebd01\",\"type\":\"GlyphRenderer\"},{\"attributes\":{\"line_alpha\":0.1,\"line_color\":\"#1f77b4\",\"line_dash\":[4,4],\"line_width\":2,\"x\":{\"field\":\"x\"},\"y\":{\"field\":\"y\"}},\"id\":\"b7066d73-94fb-454d-8a25-78dbafe7fced\",\"type\":\"Line\"},{\"attributes\":{},\"id\":\"b2c9711c-ed20-4096-9a57-56eb81a2cfce\",\"type\":\"PanTool\"},{\"attributes\":{\"source\":{\"id\":\"4bf0000e-6668-411f-a8b7-fc70103cbee2\",\"type\":\"ColumnDataSource\"}},\"id\":\"038e4a77-bfea-49c4-ad67-b7544413ab20\",\"type\":\"CDSView\"},{\"attributes\":{\"overlay\":{\"id\":\"d76531b9-965b-4445-9899-28f9bd9eceec\",\"type\":\"BoxAnnotation\"}},\"id\":\"e84efd9f-4424-40eb-adae-b30e36309ad5\",\"type\":\"BoxZoomTool\"},{\"attributes\":{\"label\":{\"value\":\"2*sin(x)\"},\"renderers\":[{\"id\":\"bf06a5ef-4438-4ac6-9db8-2f1c05d6dc04\",\"type\":\"GlyphRenderer\"}]},\"id\":\"0fed80db-5ca2-40bd-9078-e9529365f435\",\"type\":\"LegendItem\"},{\"attributes\":{\"data_source\":{\"id\":\"5ef35bbd-7fa2-4e57-86e4-d0ea51330347\",\"type\":\"ColumnDataSource\"},\"glyph\":{\"id\":\"bcfdcac9-74e9-4d73-94ea-c2341f2654b1\",\"type\":\"Line\"},\"hover_glyph\":null,\"muted_glyph\":null,\"nonselection_glyph\":{\"id\":\"b7066d73-94fb-454d-8a25-78dbafe7fced\",\"type\":\"Line\"},\"selection_glyph\":null,\"view\":{\"id\":\"0ba2afaf-6e2e-46c1-afe0-42b7a7738cd2\",\"type\":\"CDSView\"}},\"id\":\"bf06a5ef-4438-4ac6-9db8-2f1c05d6dc04\",\"type\":\"GlyphRenderer\"},{\"attributes\":{\"data_source\":{\"id\":\"376d3b8b-b0d7-4c78-ac7a-cadc9c06f6a7\",\"type\":\"ColumnDataSource\"},\"glyph\":{\"id\":\"e7bbdc30-9f36-4d1d-88ff-3b02128e9e64\",\"type\":\"Square\"},\"hover_glyph\":null,\"muted_glyph\":null,\"nonselection_glyph\":{\"id\":\"4559161c-f03a-404c-b965-4f0330ca7dc6\",\"type\":\"Square\"},\"selection_glyph\":null,\"view\":{\"id\":\"9452e82e-5138-4d84-b589-10ec4cd06482\",\"type\":\"CDSView\"}},\"id\":\"bcc92309-b918-43a9-ab2d-73591c61f1be\",\"type\":\"GlyphRenderer\"},{\"attributes\":{\"fill_color\":{\"value\":\"#1f77b4\"},\"line_color\":{\"value\":\"#1f77b4\"},\"x\":{\"field\":\"x\"},\"y\":{\"field\":\"y\"}},\"id\":\"f169043d-c96f-40e9-83c2-a227fba1b0bf\",\"type\":\"Circle\"},{\"attributes\":{\"source\":{\"id\":\"5ef35bbd-7fa2-4e57-86e4-d0ea51330347\",\"type\":\"ColumnDataSource\"}},\"id\":\"0ba2afaf-6e2e-46c1-afe0-42b7a7738cd2\",\"type\":\"CDSView\"},{\"attributes\":{\"callback\":null,\"column_names\":[\"x\",\"y\"],\"data\":{\"x\":{\"__ndarray__\":\"AAAAAAAAAACRGkt8Vz/AP5EaS3xXP9A/2qdwOgNf2D+RGkt8Vz/gPzXhXVstT+Q/2qdwOgNf6D9+boMZ2W7sP5EaS3xXP/A/433Ua0JH8j814V1bLU/0P4dE50oYV/Y/2qdwOgNf+D8sC/op7mb6P35ugxnZbvw/0NEMCcR2/j+RGkt8Vz8AQDrMD/RMQwFA433Ua0JHAkCML5njN0sDQDXhXVstTwRA3pIi0yJTBUCHROdKGFcGQDD2q8INWwdA2qdwOgNfCECDWTWy+GIJQCwL+inuZgpA1by+oeNqC0B+boMZ2W4MQCcgSJHOcg1A0NEMCcR2DkB5g9GAuXoPQJEaS3xXPxBAZnMtOFLBEEA6zA/0TEMRQA8l8q9HxRFA433Ua0JHEkC41rYnPckSQIwvmeM3SxNAYYh7nzLNE0A14V1bLU8UQAo6QBco0RRA3pIi0yJTFUCz6wSPHdUVQIdE50oYVxZAXJ3JBhPZFkAw9qvCDVsXQAVPjn4I3RdA2qdwOgNfGECuAFP2/eAYQINZNbL4YhlAV7IXbvPkGUAsC/op7mYaQABk3OXo6BpA1by+oeNqG0CpFaFd3uwbQH5ugxnZbhxAUsdl1dPwHEAnIEiRznIdQPt4Kk3J9B1A0NEMCcR2HkCkKu/EvvgeQHmD0YC5eh9ATdyzPLT8H0CRGkt8Vz8gQPtGPNpUgCBAZnMtOFLBIEDQnx6WTwIhQDrMD/RMQyFApPgAUkqEIUAPJfKvR8UhQHlR4w1FBiJA433Ua0JHIkBNqsXJP4giQLjWtic9ySJAIgOohToKI0CML5njN0sjQPZbikE1jCNAYYh7nzLNI0DLtGz9Lw4kQDXhXVstTyRAoA1PuSqQJEAKOkAXKNEkQHRmMXUlEiVA3pIi0yJTJUBJvxMxIJQlQLPrBI8d1SVAHRj27BoWJkCHROdKGFcmQPJw2KgVmCZAXJ3JBhPZJkDGybpkEBonQDD2q8INWydAmyKdIAucJ0AFT45+CN0nQG97f9wFHihA2qdwOgNfKEBE1GGYAKAoQK4AU/b94ChAGC1EVPshKUA=\",\"dtype\":\"float64\",\"shape\":[100]},\"y\":{\"__ndarray__\":\"AAAAAAAAAADwgwJ4LjTQP5qI2QHPEuA/+5MNU1HJ5z8ZTT7q2B3vP0aFmgwa+fI/ABg/lCAV9j+IQCEcMdb4P3fOhmLzMPs/EyzujrQb/T/9Izwlj47+PxccgYyLg/8/g6xao7j2/z9mZrL8O+b/P7+X94FZUv8/xVNiW3I9/j9RB8Ai+6v8P5FWKYlppPo/oSg6uxkv+D/Sh2bxK1b1PyZGRbpaJfI/8qg+VZVT7T/4C4p0qOPlP+UppLIiM9w/3FNHxZdVyD/J23zJpD6wv+3ENsZjOdS/wo12/ecH4r/dgWKM2Kjpv2MTsJELcPC/83ixWvXH87+358MBZM72v5eCD4nhdvm/rExY6Hq2+7+TIxAn7YP9vwSssILL1/6/70I4BJ6s/7/vOc8G+P7/vzTGy1KGzf+/3176khQZ/7/C8a4NiuT9vzGcHq/dNPy/l0FFlgER+r+EGZN4xoH3vx8WPFK3kfS/Cli7+O1M8b+HQNqEwoHrv9kfIiFb+OO/gKyggGI52L8EhrXMjDzAvyGGtcyMPMA/jqyggGI52D/gHyIhW/jjP4BA2oTCges/DVi7+O1M8T8cFjxSt5H0P4cZk3jGgfc/lUFFlgER+j8ynB6v3TT8P8Hxrg2K5P0/4F76khQZ/z80xstShs3/P+85zwb4/v8/8EI4BJ6s/z8DrLCCy9f+P5UjECftg/0/p0xY6Hq2+z+Vgg+J4Xb5P7fnwwFkzvY/9nixWvXH8z9dE7CRC3DwP9eBYozYqOk/w412/ecH4j/+xDbGYznUP0/bfMmkPrA/+FNHxZdVyL/UKaSyIjPcv+gLinSo4+W/+Kg+VZVT7b8lRkW6WiXyv8+HZvErVvW/pig6uxkv+L+TVimJaaT6v1EHwCL7q/y/xFNiW3I9/r/Al/eBWVL/v2Zmsvw75v+/g6xao7j2/78YHIGMi4P/v/sjPCWPjv6/EyzujrQb/b94zoZi8zD7v4xAIRwx1vi//Bc/lCAV9r9GhZoMGvnyvx5NPurYHe+/65MNU1HJ57+SiNkBzxLgv/GDAnguNNC/B1wUMyam0bw=\",\"dtype\":\"float64\",\"shape\":[100]}}},\"id\":\"5ef35bbd-7fa2-4e57-86e4-d0ea51330347\",\"type\":\"ColumnDataSource\"},{\"attributes\":{\"label\":{\"value\":\"3*sin(x)\"},\"renderers\":[{\"id\":\"bcc92309-b918-43a9-ab2d-73591c61f1be\",\"type\":\"GlyphRenderer\"},{\"id\":\"77f295bf-b8b0-4d4b-9219-aee355ca15cd\",\"type\":\"GlyphRenderer\"}]},\"id\":\"796fcf2c-f62f-4844-872f-de97ed05b046\",\"type\":\"LegendItem\"},{\"attributes\":{},\"id\":\"eb27fbd2-835d-4c2d-bb26-e6bbe01acf98\",\"type\":\"LinearScale\"},{\"attributes\":{\"fill_alpha\":{\"value\":0.1},\"fill_color\":{\"value\":\"#1f77b4\"},\"line_alpha\":{\"value\":0.1},\"line_color\":{\"value\":\"#1f77b4\"},\"x\":{\"field\":\"x\"},\"y\":{\"field\":\"y\"}},\"id\":\"4559161c-f03a-404c-b965-4f0330ca7dc6\",\"type\":\"Square\"},{\"attributes\":{\"line_color\":\"green\",\"x\":{\"field\":\"x\"},\"y\":{\"field\":\"y\"}},\"id\":\"dd52ec4e-1a23-4368-99df-b03b2b6e635e\",\"type\":\"Line\"},{\"attributes\":{\"source\":{\"id\":\"f181b071-efb3-4664-9308-b32ed719224e\",\"type\":\"ColumnDataSource\"}},\"id\":\"488c5e1b-3c9b-4955-bf6d-038c61f9237f\",\"type\":\"CDSView\"},{\"attributes\":{\"plot\":{\"id\":\"b856ac82-25c5-4341-a800-afb75a316f2b\",\"subtype\":\"Figure\",\"type\":\"Plot\"},\"ticker\":{\"id\":\"cdcce119-ce0b-4184-8589-7d5c86639f5e\",\"type\":\"BasicTicker\"}},\"id\":\"c09bbabe-ea80-4538-879e-1b2e9ccf00cc\",\"type\":\"Grid\"},{\"attributes\":{\"data_source\":{\"id\":\"f181b071-efb3-4664-9308-b32ed719224e\",\"type\":\"ColumnDataSource\"},\"glyph\":{\"id\":\"dd52ec4e-1a23-4368-99df-b03b2b6e635e\",\"type\":\"Line\"},\"hover_glyph\":null,\"muted_glyph\":null,\"nonselection_glyph\":{\"id\":\"cd0d032c-3f6c-4620-b649-484bc89c181d\",\"type\":\"Line\"},\"selection_glyph\":null,\"view\":{\"id\":\"488c5e1b-3c9b-4955-bf6d-038c61f9237f\",\"type\":\"CDSView\"}},\"id\":\"77f295bf-b8b0-4d4b-9219-aee355ca15cd\",\"type\":\"GlyphRenderer\"},{\"attributes\":{},\"id\":\"b599c1f7-9a02-4295-8b80-a6415beff324\",\"type\":\"LinearScale\"},{\"attributes\":{\"data_source\":{\"id\":\"7f616cba-16f4-4ef6-9429-60200be1b72b\",\"type\":\"ColumnDataSource\"},\"glyph\":{\"id\":\"f169043d-c96f-40e9-83c2-a227fba1b0bf\",\"type\":\"Circle\"},\"hover_glyph\":null,\"muted_glyph\":null,\"nonselection_glyph\":{\"id\":\"0f7aabef-771e-4335-ac57-028d7d8dd578\",\"type\":\"Circle\"},\"selection_glyph\":null,\"view\":{\"id\":\"b4723ade-caaf-4c6c-ba65-4033d12e3d16\",\"type\":\"CDSView\"}},\"id\":\"86163534-b797-431b-9c6e-d4aeef551d6a\",\"type\":\"GlyphRenderer\"},{\"attributes\":{},\"id\":\"3781a7b8-d1f2-41fb-b8ed-a78e8979e448\",\"type\":\"SaveTool\"},{\"attributes\":{\"line_alpha\":0.1,\"line_color\":\"#1f77b4\",\"x\":{\"field\":\"x\"},\"y\":{\"field\":\"y\"}},\"id\":\"cd0d032c-3f6c-4620-b649-484bc89c181d\",\"type\":\"Line\"},{\"attributes\":{\"line_color\":\"#1f77b4\",\"x\":{\"field\":\"x\"},\"y\":{\"field\":\"y\"}},\"id\":\"bfe28c72-86c6-4d18-b043-2c06e42960c0\",\"type\":\"Line\"},{\"attributes\":{\"plot\":null,\"text\":\"\"},\"id\":\"228a4aba-1aff-4e35-b6d0-eb89f2c5b9ac\",\"type\":\"Title\"},{\"attributes\":{\"source\":{\"id\":\"7f616cba-16f4-4ef6-9429-60200be1b72b\",\"type\":\"ColumnDataSource\"}},\"id\":\"b4723ade-caaf-4c6c-ba65-4033d12e3d16\",\"type\":\"CDSView\"},{\"attributes\":{\"line_color\":\"orange\",\"line_dash\":[4,4],\"line_width\":2,\"x\":{\"field\":\"x\"},\"y\":{\"field\":\"y\"}},\"id\":\"bcfdcac9-74e9-4d73-94ea-c2341f2654b1\",\"type\":\"Line\"},{\"attributes\":{},\"id\":\"a2436292-9d3c-4cd6-b275-0bc7dcc257ee\",\"type\":\"WheelZoomTool\"},{\"attributes\":{\"below\":[{\"id\":\"038d5970-ba82-48c2-98b7-74ef08567eb2\",\"type\":\"LinearAxis\"}],\"left\":[{\"id\":\"01c80a9e-1540-47db-918c-622d2a9473f4\",\"type\":\"LinearAxis\"}],\"renderers\":[{\"id\":\"038d5970-ba82-48c2-98b7-74ef08567eb2\",\"type\":\"LinearAxis\"},{\"id\":\"c09bbabe-ea80-4538-879e-1b2e9ccf00cc\",\"type\":\"Grid\"},{\"id\":\"01c80a9e-1540-47db-918c-622d2a9473f4\",\"type\":\"LinearAxis\"},{\"id\":\"0f3281e3-2f49-442e-b18a-e2399ea50742\",\"type\":\"Grid\"},{\"id\":\"d76531b9-965b-4445-9899-28f9bd9eceec\",\"type\":\"BoxAnnotation\"},{\"id\":\"6bc2425a-0c80-4cc3-8f39-d86a825826a4\",\"type\":\"Legend\"},{\"id\":\"86163534-b797-431b-9c6e-d4aeef551d6a\",\"type\":\"GlyphRenderer\"},{\"id\":\"359384b7-db3a-44ea-b65e-00806d8ebd01\",\"type\":\"GlyphRenderer\"},{\"id\":\"bf06a5ef-4438-4ac6-9db8-2f1c05d6dc04\",\"type\":\"GlyphRenderer\"},{\"id\":\"bcc92309-b918-43a9-ab2d-73591c61f1be\",\"type\":\"GlyphRenderer\"},{\"id\":\"77f295bf-b8b0-4d4b-9219-aee355ca15cd\",\"type\":\"GlyphRenderer\"}],\"title\":{\"id\":\"228a4aba-1aff-4e35-b6d0-eb89f2c5b9ac\",\"type\":\"Title\"},\"toolbar\":{\"id\":\"c6914aa2-592f-4006-b21d-c1c6ee45b5eb\",\"type\":\"Toolbar\"},\"x_range\":{\"id\":\"7869b0df-a86e-43e4-ac51-8871620d10c5\",\"type\":\"DataRange1d\"},\"x_scale\":{\"id\":\"b599c1f7-9a02-4295-8b80-a6415beff324\",\"type\":\"LinearScale\"},\"y_range\":{\"id\":\"b5f010cd-91ac-4adb-a6ac-a18d458e0d99\",\"type\":\"DataRange1d\"},\"y_scale\":{\"id\":\"eb27fbd2-835d-4c2d-bb26-e6bbe01acf98\",\"type\":\"LinearScale\"}},\"id\":\"b856ac82-25c5-4341-a800-afb75a316f2b\",\"subtype\":\"Figure\",\"type\":\"Plot\"},{\"attributes\":{},\"id\":\"78b5f236-a9bc-43b9-a3ac-1c4eee8f4dd4\",\"type\":\"HelpTool\"},{\"attributes\":{},\"id\":\"5d80c923-9d34-4649-b11e-d8a2cea215c9\",\"type\":\"ResetTool\"},{\"attributes\":{\"active_drag\":\"auto\",\"active_inspect\":\"auto\",\"active_scroll\":\"auto\",\"active_tap\":\"auto\",\"tools\":[{\"id\":\"b2c9711c-ed20-4096-9a57-56eb81a2cfce\",\"type\":\"PanTool\"},{\"id\":\"a2436292-9d3c-4cd6-b275-0bc7dcc257ee\",\"type\":\"WheelZoomTool\"},{\"id\":\"e84efd9f-4424-40eb-adae-b30e36309ad5\",\"type\":\"BoxZoomTool\"},{\"id\":\"3781a7b8-d1f2-41fb-b8ed-a78e8979e448\",\"type\":\"SaveTool\"},{\"id\":\"5d80c923-9d34-4649-b11e-d8a2cea215c9\",\"type\":\"ResetTool\"},{\"id\":\"78b5f236-a9bc-43b9-a3ac-1c4eee8f4dd4\",\"type\":\"HelpTool\"}]},\"id\":\"c6914aa2-592f-4006-b21d-c1c6ee45b5eb\",\"type\":\"Toolbar\"},{\"attributes\":{\"formatter\":{\"id\":\"2cca9609-87fe-4c73-b83f-b2504d04f43e\",\"type\":\"BasicTickFormatter\"},\"plot\":{\"id\":\"b856ac82-25c5-4341-a800-afb75a316f2b\",\"subtype\":\"Figure\",\"type\":\"Plot\"},\"ticker\":{\"id\":\"cdcce119-ce0b-4184-8589-7d5c86639f5e\",\"type\":\"BasicTicker\"}},\"id\":\"038d5970-ba82-48c2-98b7-74ef08567eb2\",\"type\":\"LinearAxis\"},{\"attributes\":{\"fill_alpha\":{\"value\":0.1},\"fill_color\":{\"value\":\"#1f77b4\"},\"line_alpha\":{\"value\":0.1},\"line_color\":{\"value\":\"#1f77b4\"},\"x\":{\"field\":\"x\"},\"y\":{\"field\":\"y\"}},\"id\":\"0f7aabef-771e-4335-ac57-028d7d8dd578\",\"type\":\"Circle\"},{\"attributes\":{\"callback\":null},\"id\":\"b5f010cd-91ac-4adb-a6ac-a18d458e0d99\",\"type\":\"DataRange1d\"},{\"attributes\":{},\"id\":\"2cca9609-87fe-4c73-b83f-b2504d04f43e\",\"type\":\"BasicTickFormatter\"},{\"attributes\":{\"callback\":null,\"column_names\":[\"x\",\"y\"],\"data\":{\"x\":{\"__ndarray__\":\"AAAAAAAAAACRGkt8Vz/AP5EaS3xXP9A/2qdwOgNf2D+RGkt8Vz/gPzXhXVstT+Q/2qdwOgNf6D9+boMZ2W7sP5EaS3xXP/A/433Ua0JH8j814V1bLU/0P4dE50oYV/Y/2qdwOgNf+D8sC/op7mb6P35ugxnZbvw/0NEMCcR2/j+RGkt8Vz8AQDrMD/RMQwFA433Ua0JHAkCML5njN0sDQDXhXVstTwRA3pIi0yJTBUCHROdKGFcGQDD2q8INWwdA2qdwOgNfCECDWTWy+GIJQCwL+inuZgpA1by+oeNqC0B+boMZ2W4MQCcgSJHOcg1A0NEMCcR2DkB5g9GAuXoPQJEaS3xXPxBAZnMtOFLBEEA6zA/0TEMRQA8l8q9HxRFA433Ua0JHEkC41rYnPckSQIwvmeM3SxNAYYh7nzLNE0A14V1bLU8UQAo6QBco0RRA3pIi0yJTFUCz6wSPHdUVQIdE50oYVxZAXJ3JBhPZFkAw9qvCDVsXQAVPjn4I3RdA2qdwOgNfGECuAFP2/eAYQINZNbL4YhlAV7IXbvPkGUAsC/op7mYaQABk3OXo6BpA1by+oeNqG0CpFaFd3uwbQH5ugxnZbhxAUsdl1dPwHEAnIEiRznIdQPt4Kk3J9B1A0NEMCcR2HkCkKu/EvvgeQHmD0YC5eh9ATdyzPLT8H0CRGkt8Vz8gQPtGPNpUgCBAZnMtOFLBIEDQnx6WTwIhQDrMD/RMQyFApPgAUkqEIUAPJfKvR8UhQHlR4w1FBiJA433Ua0JHIkBNqsXJP4giQLjWtic9ySJAIgOohToKI0CML5njN0sjQPZbikE1jCNAYYh7nzLNI0DLtGz9Lw4kQDXhXVstTyRAoA1PuSqQJEAKOkAXKNEkQHRmMXUlEiVA3pIi0yJTJUBJvxMxIJQlQLPrBI8d1SVAHRj27BoWJkCHROdKGFcmQPJw2KgVmCZAXJ3JBhPZJkDGybpkEBonQDD2q8INWydAmyKdIAucJ0AFT45+CN0nQG97f9wFHihA2qdwOgNfKEBE1GGYAKAoQK4AU/b94ChAGC1EVPshKUA=\",\"dtype\":\"float64\",\"shape\":[100]},\"y\":{\"__ndarray__\":\"AAAAAAAAAADoxQO0RU7YP+dMxoI2HOg//C5K/vzW8T/Tua6vYlb3P+nH5xKndfw/AFIvb9iPAEBm8BjVpKACQNka5Ym2ZARADqEya8fUBUD+Gu1b6+oGQBHVYKmoogdAYgGEegr5B0DMzIX9rOwHQM+xeSHDfQdA1L6JxBWuBkB9BRBa/IAFQO0A3yZP+wNAeZ5rTFMjAkDe5Qz1oAAAQDnpZxcIOPs/tv7u/6/+9T/6iGdXvmrwP2wf+wVaJuU/5X710zFA0j+uSTsu9124v2QnUqkVVt6/o9Qx/NsL679m4Ulpoj7zvxQdiFoRqPi/bDUKCPCr/b/J7VIByxoBwPGhyyYpGQPAgTlCLtzIBMCuGkzd8SIGwAOBBKLYIQfAMzIqg3bBB8BzaxsFOv8HwKfUGL4k2gfAJ8c7bs9SB8BSNUOKZ2sGwCX1VkOmJwXAMfGzMMGMA8AjU27aVKEBwC4hWvuS2v6/DwQZ9WTz+b9lsKPjUaH0v8Yvs7GI9O2/YIF44Akr4r8GSRAz01rIvzJJEDPTWsg/aoF44Akr4j/QL7OxiPTtP2Cwo+NRofQ/FAQZ9WTz+T8qIVr7ktr+PyVTbtpUoQFAMPGzMMGMA0Am9VZDpicFQFE1Q4pnawZAKMc7bs9SB0Cn1Bi+JNoHQHNrGwU6/wdANDIqg3bBB0ACgQSi2CEHQLAaTN3xIgZAfTlCLtzIBEDwocsmKRkDQMntUgHLGgFAcTUKCPCr/T8MHYhaEaj4P2HhSWmiPvM/pNQx/NsL6z99J1KpFVbeP/ZIOy73Xbg/+n710zFA0r9fH/sFWiblv+6IZ1e+avC/uv7u/6/+9b846WcXCDj7v9vlDPWgAADAfJ5rTFMjAsDuAN8mT/sDwH0FEFr8gAXA076JxBWuBsDQsXkhw30HwMzMhf2s7AfAYgGEegr5B8AS1WCpqKIHwPwa7Vvr6gbADqEya8fUBcDaGuWJtmQEwGnwGNWkoALA/VEvb9iPAMDpx+cSp3X8v9a5rq9iVve/8C5K/vzW8b/bTMaCNhzov+rFA7RFTti/CoqeTDl52rw=\",\"dtype\":\"float64\",\"shape\":[100]}}},\"id\":\"376d3b8b-b0d7-4c78-ac7a-cadc9c06f6a7\",\"type\":\"ColumnDataSource\"},{\"attributes\":{\"callback\":null},\"id\":\"7869b0df-a86e-43e4-ac51-8871620d10c5\",\"type\":\"DataRange1d\"},{\"attributes\":{\"formatter\":{\"id\":\"66ca7538-aebb-4f53-809b-e11de75ab185\",\"type\":\"BasicTickFormatter\"},\"plot\":{\"id\":\"b856ac82-25c5-4341-a800-afb75a316f2b\",\"subtype\":\"Figure\",\"type\":\"Plot\"},\"ticker\":{\"id\":\"5886696c-a1b4-44aa-bb2d-42e6d9bc8b27\",\"type\":\"BasicTicker\"}},\"id\":\"01c80a9e-1540-47db-918c-622d2a9473f4\",\"type\":\"LinearAxis\"}],\"root_ids\":[\"b856ac82-25c5-4341-a800-afb75a316f2b\"]},\"title\":\"Bokeh Application\",\"version\":\"0.12.13\"}};\n",
       "  var render_items = [{\"docid\":\"6a2652af-d5e0-4827-8060-b9452c582c9a\",\"elementid\":\"ca7603ed-c18c-475b-af85-3856f6412b78\",\"modelid\":\"b856ac82-25c5-4341-a800-afb75a316f2b\"}];\n",
       "  root.Bokeh.embed.embed_items_notebook(docs_json, render_items);\n",
       "\n",
       "  }\n",
       "  if (root.Bokeh !== undefined) {\n",
       "    embed_document(root);\n",
       "  } else {\n",
       "    var attempts = 0;\n",
       "    var timer = setInterval(function(root) {\n",
       "      if (root.Bokeh !== undefined) {\n",
       "        embed_document(root);\n",
       "        clearInterval(timer);\n",
       "      }\n",
       "      attempts++;\n",
       "      if (attempts > 100) {\n",
       "        console.log(\"Bokeh: ERROR: Unable to run BokehJS code because BokehJS library is missing\")\n",
       "        clearInterval(timer);\n",
       "      }\n",
       "    }, 10, root)\n",
       "  }\n",
       "})(window);"
      ],
      "application/vnd.bokehjs_exec.v0+json": ""
     },
     "metadata": {
      "application/vnd.bokehjs_exec.v0+json": {
       "id": "b856ac82-25c5-4341-a800-afb75a316f2b"
      }
     },
     "output_type": "display_data"
    }
   ],
   "source": [
    "# Background\n",
    "\n",
    "x = np.linspace(0, 4*np.pi, 100)\n",
    "y = np.sin(x)\n",
    "\n",
    "p = figure()\n",
    "\n",
    "p.circle(x, y, legend=\"sin(x)\")\n",
    "p.line(x, y, legend=\"sin(x)\")\n",
    "\n",
    "p.line(x, 2*y, legend=\"2*sin(x)\",\n",
    "       line_dash=[4, 4], line_color=\"orange\", line_width=2)\n",
    "\n",
    "p.square(x, 3*y, legend=\"3*sin(x)\", fill_color=None, line_color=\"green\")\n",
    "p.line(x, 3*y, legend=\"3*sin(x)\", line_color=\"green\")\n",
    "\n",
    "#  3*sin(x) curve should be under this legend at initial viewing, so\n",
    "# we can see that the legend is transparent\n",
    "p.legend.location = \"bottom_right\"\n",
    "p.legend.background_fill_color = \"navy\"\n",
    "p.legend.background_fill_alpha = 0.5\n",
    "\n",
    "show(p)"
   ]
  },
  {
   "cell_type": "code",
   "execution_count": 44,
   "metadata": {},
   "outputs": [
    {
     "data": {
      "text/html": [
       "\n",
       "<div class=\"bk-root\">\n",
       "    <div class=\"bk-plotdiv\" id=\"924234dd-fa22-40cb-8044-3f3196cf6d22\"></div>\n",
       "</div>"
      ]
     },
     "metadata": {},
     "output_type": "display_data"
    },
    {
     "data": {
      "application/javascript": [
       "(function(root) {\n",
       "  function embed_document(root) {\n",
       "    \n",
       "  var docs_json = {\"ea2b781b-d686-4143-aedc-9b9dd8b3178e\":{\"roots\":{\"references\":[{\"attributes\":{},\"id\":\"45ac0378-b1ae-43a7-a3a0-867a62af2b84\",\"type\":\"ResetTool\"},{\"attributes\":{\"callback\":null,\"column_names\":[\"x\",\"y\"],\"data\":{\"x\":{\"__ndarray__\":\"AAAAAAAAAACRGkt8Vz/AP5EaS3xXP9A/2qdwOgNf2D+RGkt8Vz/gPzXhXVstT+Q/2qdwOgNf6D9+boMZ2W7sP5EaS3xXP/A/433Ua0JH8j814V1bLU/0P4dE50oYV/Y/2qdwOgNf+D8sC/op7mb6P35ugxnZbvw/0NEMCcR2/j+RGkt8Vz8AQDrMD/RMQwFA433Ua0JHAkCML5njN0sDQDXhXVstTwRA3pIi0yJTBUCHROdKGFcGQDD2q8INWwdA2qdwOgNfCECDWTWy+GIJQCwL+inuZgpA1by+oeNqC0B+boMZ2W4MQCcgSJHOcg1A0NEMCcR2DkB5g9GAuXoPQJEaS3xXPxBAZnMtOFLBEEA6zA/0TEMRQA8l8q9HxRFA433Ua0JHEkC41rYnPckSQIwvmeM3SxNAYYh7nzLNE0A14V1bLU8UQAo6QBco0RRA3pIi0yJTFUCz6wSPHdUVQIdE50oYVxZAXJ3JBhPZFkAw9qvCDVsXQAVPjn4I3RdA2qdwOgNfGECuAFP2/eAYQINZNbL4YhlAV7IXbvPkGUAsC/op7mYaQABk3OXo6BpA1by+oeNqG0CpFaFd3uwbQH5ugxnZbhxAUsdl1dPwHEAnIEiRznIdQPt4Kk3J9B1A0NEMCcR2HkCkKu/EvvgeQHmD0YC5eh9ATdyzPLT8H0CRGkt8Vz8gQPtGPNpUgCBAZnMtOFLBIEDQnx6WTwIhQDrMD/RMQyFApPgAUkqEIUAPJfKvR8UhQHlR4w1FBiJA433Ua0JHIkBNqsXJP4giQLjWtic9ySJAIgOohToKI0CML5njN0sjQPZbikE1jCNAYYh7nzLNI0DLtGz9Lw4kQDXhXVstTyRAoA1PuSqQJEAKOkAXKNEkQHRmMXUlEiVA3pIi0yJTJUBJvxMxIJQlQLPrBI8d1SVAHRj27BoWJkCHROdKGFcmQPJw2KgVmCZAXJ3JBhPZJkDGybpkEBonQDD2q8INWydAmyKdIAucJ0AFT45+CN0nQG97f9wFHihA2qdwOgNfKEBE1GGYAKAoQK4AU/b94ChAGC1EVPshKUA=\",\"dtype\":\"float64\",\"shape\":[100]},\"y\":{\"__ndarray__\":\"AAAAAAAAAADoxQO0RU7YP+dMxoI2HOg//C5K/vzW8T/Tua6vYlb3P+nH5xKndfw/AFIvb9iPAEBm8BjVpKACQNka5Ym2ZARADqEya8fUBUD+Gu1b6+oGQBHVYKmoogdAYgGEegr5B0DMzIX9rOwHQM+xeSHDfQdA1L6JxBWuBkB9BRBa/IAFQO0A3yZP+wNAeZ5rTFMjAkDe5Qz1oAAAQDnpZxcIOPs/tv7u/6/+9T/6iGdXvmrwP2wf+wVaJuU/5X710zFA0j+uSTsu9124v2QnUqkVVt6/o9Qx/NsL679m4Ulpoj7zvxQdiFoRqPi/bDUKCPCr/b/J7VIByxoBwPGhyyYpGQPAgTlCLtzIBMCuGkzd8SIGwAOBBKLYIQfAMzIqg3bBB8BzaxsFOv8HwKfUGL4k2gfAJ8c7bs9SB8BSNUOKZ2sGwCX1VkOmJwXAMfGzMMGMA8AjU27aVKEBwC4hWvuS2v6/DwQZ9WTz+b9lsKPjUaH0v8Yvs7GI9O2/YIF44Akr4r8GSRAz01rIvzJJEDPTWsg/aoF44Akr4j/QL7OxiPTtP2Cwo+NRofQ/FAQZ9WTz+T8qIVr7ktr+PyVTbtpUoQFAMPGzMMGMA0Am9VZDpicFQFE1Q4pnawZAKMc7bs9SB0Cn1Bi+JNoHQHNrGwU6/wdANDIqg3bBB0ACgQSi2CEHQLAaTN3xIgZAfTlCLtzIBEDwocsmKRkDQMntUgHLGgFAcTUKCPCr/T8MHYhaEaj4P2HhSWmiPvM/pNQx/NsL6z99J1KpFVbeP/ZIOy73Xbg/+n710zFA0r9fH/sFWiblv+6IZ1e+avC/uv7u/6/+9b846WcXCDj7v9vlDPWgAADAfJ5rTFMjAsDuAN8mT/sDwH0FEFr8gAXA076JxBWuBsDQsXkhw30HwMzMhf2s7AfAYgGEegr5B8AS1WCpqKIHwPwa7Vvr6gbADqEya8fUBcDaGuWJtmQEwGnwGNWkoALA/VEvb9iPAMDpx+cSp3X8v9a5rq9iVve/8C5K/vzW8b/bTMaCNhzov+rFA7RFTti/CoqeTDl52rw=\",\"dtype\":\"float64\",\"shape\":[100]}}},\"id\":\"11caa85f-52cd-41f3-9f2d-54689a3b2d1d\",\"type\":\"ColumnDataSource\"},{\"attributes\":{\"line_color\":\"green\",\"x\":{\"field\":\"x\"},\"y\":{\"field\":\"y\"}},\"id\":\"1a95937e-65f1-4392-87db-fe0c014be2c5\",\"type\":\"Line\"},{\"attributes\":{\"label\":{\"value\":\"3*sin(x)\"},\"renderers\":[{\"id\":\"4a358f11-e69a-4d28-b3df-119511c0836e\",\"type\":\"GlyphRenderer\"},{\"id\":\"1172fdcb-a752-4869-b436-c9bfb13f56f9\",\"type\":\"GlyphRenderer\"}]},\"id\":\"dc8aee96-6778-497e-87c6-6aa3cd987531\",\"type\":\"LegendItem\"},{\"attributes\":{\"source\":{\"id\":\"0b8d1dd0-71b3-4807-8bdc-f8d1d0c155ea\",\"type\":\"ColumnDataSource\"}},\"id\":\"c336d745-cdcc-41b9-862a-b666782ef442\",\"type\":\"CDSView\"},{\"attributes\":{\"glyph_width\":50,\"items\":[{\"id\":\"4823d9aa-524b-4880-b57e-874d58691f1b\",\"type\":\"LegendItem\"},{\"id\":\"f972ff11-bb38-4462-8bf7-3cfb0ec5100f\",\"type\":\"LegendItem\"},{\"id\":\"dc8aee96-6778-497e-87c6-6aa3cd987531\",\"type\":\"LegendItem\"}],\"margin\":50,\"padding\":50,\"plot\":{\"id\":\"cb9a3fcc-91ad-4fd9-914d-686f5431ca51\",\"subtype\":\"Figure\",\"type\":\"Plot\"},\"spacing\":10},\"id\":\"33ab0ebf-8949-4d5b-892c-56a773154e4a\",\"type\":\"Legend\"},{\"attributes\":{\"data_source\":{\"id\":\"0b8d1dd0-71b3-4807-8bdc-f8d1d0c155ea\",\"type\":\"ColumnDataSource\"},\"glyph\":{\"id\":\"1a95937e-65f1-4392-87db-fe0c014be2c5\",\"type\":\"Line\"},\"hover_glyph\":null,\"muted_glyph\":null,\"nonselection_glyph\":{\"id\":\"74feaaf5-88d6-49ac-b10a-74054b2b6207\",\"type\":\"Line\"},\"selection_glyph\":null,\"view\":{\"id\":\"c336d745-cdcc-41b9-862a-b666782ef442\",\"type\":\"CDSView\"}},\"id\":\"1172fdcb-a752-4869-b436-c9bfb13f56f9\",\"type\":\"GlyphRenderer\"},{\"attributes\":{\"source\":{\"id\":\"c638c839-9173-448c-ac2f-c47bf719acb9\",\"type\":\"ColumnDataSource\"}},\"id\":\"dbd8f755-7bf3-4831-951c-73e73952855e\",\"type\":\"CDSView\"},{\"attributes\":{},\"id\":\"8f52cdba-3772-48bd-9d2c-3976cfd1f34a\",\"type\":\"SaveTool\"},{\"attributes\":{\"line_alpha\":0.1,\"line_color\":\"#1f77b4\",\"x\":{\"field\":\"x\"},\"y\":{\"field\":\"y\"}},\"id\":\"74feaaf5-88d6-49ac-b10a-74054b2b6207\",\"type\":\"Line\"},{\"attributes\":{},\"id\":\"4df4a8cc-7a85-41b0-8cba-36e83492815e\",\"type\":\"BasicTickFormatter\"},{\"attributes\":{},\"id\":\"587ff57f-fc4c-4afc-ad98-02e4d7ebc473\",\"type\":\"WheelZoomTool\"},{\"attributes\":{\"plot\":null,\"text\":\"\"},\"id\":\"ab6cae56-5814-4f5a-af8d-a326fe71f63c\",\"type\":\"Title\"},{\"attributes\":{},\"id\":\"798e8a15-286c-41ac-9ead-6d68698e0341\",\"type\":\"LinearScale\"},{\"attributes\":{\"label\":{\"value\":\"sin(x)\"},\"renderers\":[{\"id\":\"d38c2f09-56d4-413e-ae48-02cbbeb408ca\",\"type\":\"GlyphRenderer\"},{\"id\":\"fdd71b01-a636-4074-a727-b07851a35b45\",\"type\":\"GlyphRenderer\"}]},\"id\":\"4823d9aa-524b-4880-b57e-874d58691f1b\",\"type\":\"LegendItem\"},{\"attributes\":{\"callback\":null,\"column_names\":[\"x\",\"y\"],\"data\":{\"x\":{\"__ndarray__\":\"AAAAAAAAAACRGkt8Vz/AP5EaS3xXP9A/2qdwOgNf2D+RGkt8Vz/gPzXhXVstT+Q/2qdwOgNf6D9+boMZ2W7sP5EaS3xXP/A/433Ua0JH8j814V1bLU/0P4dE50oYV/Y/2qdwOgNf+D8sC/op7mb6P35ugxnZbvw/0NEMCcR2/j+RGkt8Vz8AQDrMD/RMQwFA433Ua0JHAkCML5njN0sDQDXhXVstTwRA3pIi0yJTBUCHROdKGFcGQDD2q8INWwdA2qdwOgNfCECDWTWy+GIJQCwL+inuZgpA1by+oeNqC0B+boMZ2W4MQCcgSJHOcg1A0NEMCcR2DkB5g9GAuXoPQJEaS3xXPxBAZnMtOFLBEEA6zA/0TEMRQA8l8q9HxRFA433Ua0JHEkC41rYnPckSQIwvmeM3SxNAYYh7nzLNE0A14V1bLU8UQAo6QBco0RRA3pIi0yJTFUCz6wSPHdUVQIdE50oYVxZAXJ3JBhPZFkAw9qvCDVsXQAVPjn4I3RdA2qdwOgNfGECuAFP2/eAYQINZNbL4YhlAV7IXbvPkGUAsC/op7mYaQABk3OXo6BpA1by+oeNqG0CpFaFd3uwbQH5ugxnZbhxAUsdl1dPwHEAnIEiRznIdQPt4Kk3J9B1A0NEMCcR2HkCkKu/EvvgeQHmD0YC5eh9ATdyzPLT8H0CRGkt8Vz8gQPtGPNpUgCBAZnMtOFLBIEDQnx6WTwIhQDrMD/RMQyFApPgAUkqEIUAPJfKvR8UhQHlR4w1FBiJA433Ua0JHIkBNqsXJP4giQLjWtic9ySJAIgOohToKI0CML5njN0sjQPZbikE1jCNAYYh7nzLNI0DLtGz9Lw4kQDXhXVstTyRAoA1PuSqQJEAKOkAXKNEkQHRmMXUlEiVA3pIi0yJTJUBJvxMxIJQlQLPrBI8d1SVAHRj27BoWJkCHROdKGFcmQPJw2KgVmCZAXJ3JBhPZJkDGybpkEBonQDD2q8INWydAmyKdIAucJ0AFT45+CN0nQG97f9wFHihA2qdwOgNfKEBE1GGYAKAoQK4AU/b94ChAGC1EVPshKUA=\",\"dtype\":\"float64\",\"shape\":[100]},\"y\":{\"__ndarray__\":\"AAAAAAAAAADwgwJ4LjTQP5qI2QHPEuA/+5MNU1HJ5z8ZTT7q2B3vP0aFmgwa+fI/ABg/lCAV9j+IQCEcMdb4P3fOhmLzMPs/EyzujrQb/T/9Izwlj47+PxccgYyLg/8/g6xao7j2/z9mZrL8O+b/P7+X94FZUv8/xVNiW3I9/j9RB8Ai+6v8P5FWKYlppPo/oSg6uxkv+D/Sh2bxK1b1PyZGRbpaJfI/8qg+VZVT7T/4C4p0qOPlP+UppLIiM9w/3FNHxZdVyD/J23zJpD6wv+3ENsZjOdS/wo12/ecH4r/dgWKM2Kjpv2MTsJELcPC/83ixWvXH87+358MBZM72v5eCD4nhdvm/rExY6Hq2+7+TIxAn7YP9vwSssILL1/6/70I4BJ6s/7/vOc8G+P7/vzTGy1KGzf+/3176khQZ/7/C8a4NiuT9vzGcHq/dNPy/l0FFlgER+r+EGZN4xoH3vx8WPFK3kfS/Cli7+O1M8b+HQNqEwoHrv9kfIiFb+OO/gKyggGI52L8EhrXMjDzAvyGGtcyMPMA/jqyggGI52D/gHyIhW/jjP4BA2oTCges/DVi7+O1M8T8cFjxSt5H0P4cZk3jGgfc/lUFFlgER+j8ynB6v3TT8P8Hxrg2K5P0/4F76khQZ/z80xstShs3/P+85zwb4/v8/8EI4BJ6s/z8DrLCCy9f+P5UjECftg/0/p0xY6Hq2+z+Vgg+J4Xb5P7fnwwFkzvY/9nixWvXH8z9dE7CRC3DwP9eBYozYqOk/w412/ecH4j/+xDbGYznUP0/bfMmkPrA/+FNHxZdVyL/UKaSyIjPcv+gLinSo4+W/+Kg+VZVT7b8lRkW6WiXyv8+HZvErVvW/pig6uxkv+L+TVimJaaT6v1EHwCL7q/y/xFNiW3I9/r/Al/eBWVL/v2Zmsvw75v+/g6xao7j2/78YHIGMi4P/v/sjPCWPjv6/EyzujrQb/b94zoZi8zD7v4xAIRwx1vi//Bc/lCAV9r9GhZoMGvnyvx5NPurYHe+/65MNU1HJ57+SiNkBzxLgv/GDAnguNNC/B1wUMyam0bw=\",\"dtype\":\"float64\",\"shape\":[100]}}},\"id\":\"c638c839-9173-448c-ac2f-c47bf719acb9\",\"type\":\"ColumnDataSource\"},{\"attributes\":{\"line_color\":\"orange\",\"line_dash\":[4,4],\"line_width\":2,\"x\":{\"field\":\"x\"},\"y\":{\"field\":\"y\"}},\"id\":\"3cb2ea5a-c12b-424e-812b-2baf4f73971f\",\"type\":\"Line\"},{\"attributes\":{},\"id\":\"b4d9cbbc-45aa-4484-be86-7ae73b0de794\",\"type\":\"BasicTickFormatter\"},{\"attributes\":{},\"id\":\"03d3b8c7-b993-460f-bf64-f871160604f3\",\"type\":\"HelpTool\"},{\"attributes\":{\"fill_alpha\":{\"value\":0.1},\"fill_color\":{\"value\":\"#1f77b4\"},\"line_alpha\":{\"value\":0.1},\"line_color\":{\"value\":\"#1f77b4\"},\"x\":{\"field\":\"x\"},\"y\":{\"field\":\"y\"}},\"id\":\"9ae1021b-354d-4aee-b5b6-3ca5d494fd7b\",\"type\":\"Circle\"},{\"attributes\":{\"line_alpha\":0.1,\"line_color\":\"#1f77b4\",\"line_dash\":[4,4],\"line_width\":2,\"x\":{\"field\":\"x\"},\"y\":{\"field\":\"y\"}},\"id\":\"f591eab1-5024-49df-bce3-f9a3ebdef6b0\",\"type\":\"Line\"},{\"attributes\":{\"callback\":null,\"column_names\":[\"x\",\"y\"],\"data\":{\"x\":{\"__ndarray__\":\"AAAAAAAAAACRGkt8Vz/AP5EaS3xXP9A/2qdwOgNf2D+RGkt8Vz/gPzXhXVstT+Q/2qdwOgNf6D9+boMZ2W7sP5EaS3xXP/A/433Ua0JH8j814V1bLU/0P4dE50oYV/Y/2qdwOgNf+D8sC/op7mb6P35ugxnZbvw/0NEMCcR2/j+RGkt8Vz8AQDrMD/RMQwFA433Ua0JHAkCML5njN0sDQDXhXVstTwRA3pIi0yJTBUCHROdKGFcGQDD2q8INWwdA2qdwOgNfCECDWTWy+GIJQCwL+inuZgpA1by+oeNqC0B+boMZ2W4MQCcgSJHOcg1A0NEMCcR2DkB5g9GAuXoPQJEaS3xXPxBAZnMtOFLBEEA6zA/0TEMRQA8l8q9HxRFA433Ua0JHEkC41rYnPckSQIwvmeM3SxNAYYh7nzLNE0A14V1bLU8UQAo6QBco0RRA3pIi0yJTFUCz6wSPHdUVQIdE50oYVxZAXJ3JBhPZFkAw9qvCDVsXQAVPjn4I3RdA2qdwOgNfGECuAFP2/eAYQINZNbL4YhlAV7IXbvPkGUAsC/op7mYaQABk3OXo6BpA1by+oeNqG0CpFaFd3uwbQH5ugxnZbhxAUsdl1dPwHEAnIEiRznIdQPt4Kk3J9B1A0NEMCcR2HkCkKu/EvvgeQHmD0YC5eh9ATdyzPLT8H0CRGkt8Vz8gQPtGPNpUgCBAZnMtOFLBIEDQnx6WTwIhQDrMD/RMQyFApPgAUkqEIUAPJfKvR8UhQHlR4w1FBiJA433Ua0JHIkBNqsXJP4giQLjWtic9ySJAIgOohToKI0CML5njN0sjQPZbikE1jCNAYYh7nzLNI0DLtGz9Lw4kQDXhXVstTyRAoA1PuSqQJEAKOkAXKNEkQHRmMXUlEiVA3pIi0yJTJUBJvxMxIJQlQLPrBI8d1SVAHRj27BoWJkCHROdKGFcmQPJw2KgVmCZAXJ3JBhPZJkDGybpkEBonQDD2q8INWydAmyKdIAucJ0AFT45+CN0nQG97f9wFHihA2qdwOgNfKEBE1GGYAKAoQK4AU/b94ChAGC1EVPshKUA=\",\"dtype\":\"float64\",\"shape\":[100]},\"y\":{\"__ndarray__\":\"AAAAAAAAAADoxQO0RU7YP+dMxoI2HOg//C5K/vzW8T/Tua6vYlb3P+nH5xKndfw/AFIvb9iPAEBm8BjVpKACQNka5Ym2ZARADqEya8fUBUD+Gu1b6+oGQBHVYKmoogdAYgGEegr5B0DMzIX9rOwHQM+xeSHDfQdA1L6JxBWuBkB9BRBa/IAFQO0A3yZP+wNAeZ5rTFMjAkDe5Qz1oAAAQDnpZxcIOPs/tv7u/6/+9T/6iGdXvmrwP2wf+wVaJuU/5X710zFA0j+uSTsu9124v2QnUqkVVt6/o9Qx/NsL679m4Ulpoj7zvxQdiFoRqPi/bDUKCPCr/b/J7VIByxoBwPGhyyYpGQPAgTlCLtzIBMCuGkzd8SIGwAOBBKLYIQfAMzIqg3bBB8BzaxsFOv8HwKfUGL4k2gfAJ8c7bs9SB8BSNUOKZ2sGwCX1VkOmJwXAMfGzMMGMA8AjU27aVKEBwC4hWvuS2v6/DwQZ9WTz+b9lsKPjUaH0v8Yvs7GI9O2/YIF44Akr4r8GSRAz01rIvzJJEDPTWsg/aoF44Akr4j/QL7OxiPTtP2Cwo+NRofQ/FAQZ9WTz+T8qIVr7ktr+PyVTbtpUoQFAMPGzMMGMA0Am9VZDpicFQFE1Q4pnawZAKMc7bs9SB0Cn1Bi+JNoHQHNrGwU6/wdANDIqg3bBB0ACgQSi2CEHQLAaTN3xIgZAfTlCLtzIBEDwocsmKRkDQMntUgHLGgFAcTUKCPCr/T8MHYhaEaj4P2HhSWmiPvM/pNQx/NsL6z99J1KpFVbeP/ZIOy73Xbg/+n710zFA0r9fH/sFWiblv+6IZ1e+avC/uv7u/6/+9b846WcXCDj7v9vlDPWgAADAfJ5rTFMjAsDuAN8mT/sDwH0FEFr8gAXA076JxBWuBsDQsXkhw30HwMzMhf2s7AfAYgGEegr5B8AS1WCpqKIHwPwa7Vvr6gbADqEya8fUBcDaGuWJtmQEwGnwGNWkoALA/VEvb9iPAMDpx+cSp3X8v9a5rq9iVve/8C5K/vzW8b/bTMaCNhzov+rFA7RFTti/CoqeTDl52rw=\",\"dtype\":\"float64\",\"shape\":[100]}}},\"id\":\"0b8d1dd0-71b3-4807-8bdc-f8d1d0c155ea\",\"type\":\"ColumnDataSource\"},{\"attributes\":{\"callback\":null},\"id\":\"1530fc2b-7807-41e5-8830-cd12570f9591\",\"type\":\"DataRange1d\"},{\"attributes\":{\"label\":{\"value\":\"2*sin(x)\"},\"renderers\":[{\"id\":\"9e762ea2-1249-403a-be86-3ba9310a030d\",\"type\":\"GlyphRenderer\"}]},\"id\":\"f972ff11-bb38-4462-8bf7-3cfb0ec5100f\",\"type\":\"LegendItem\"},{\"attributes\":{\"source\":{\"id\":\"29eeed48-0d16-4c6d-a9fd-067dcbe1bf4f\",\"type\":\"ColumnDataSource\"}},\"id\":\"289c278c-3a1f-49ad-83f0-a798e532838b\",\"type\":\"CDSView\"},{\"attributes\":{\"callback\":null},\"id\":\"b3873eae-94d5-4f39-9a3d-d2195f316f28\",\"type\":\"DataRange1d\"},{\"attributes\":{\"fill_color\":{\"value\":null},\"line_color\":{\"value\":\"green\"},\"x\":{\"field\":\"x\"},\"y\":{\"field\":\"y\"}},\"id\":\"8338f7ff-0b5a-433c-a973-ed242e411eec\",\"type\":\"Square\"},{\"attributes\":{\"active_drag\":\"auto\",\"active_inspect\":\"auto\",\"active_scroll\":\"auto\",\"active_tap\":\"auto\",\"tools\":[{\"id\":\"f24c123f-fc89-4d68-bd09-fdac96c0e6dd\",\"type\":\"PanTool\"},{\"id\":\"587ff57f-fc4c-4afc-ad98-02e4d7ebc473\",\"type\":\"WheelZoomTool\"},{\"id\":\"ea305635-391e-4b25-9785-1159c240ce68\",\"type\":\"BoxZoomTool\"},{\"id\":\"8f52cdba-3772-48bd-9d2c-3976cfd1f34a\",\"type\":\"SaveTool\"},{\"id\":\"45ac0378-b1ae-43a7-a3a0-867a62af2b84\",\"type\":\"ResetTool\"},{\"id\":\"03d3b8c7-b993-460f-bf64-f871160604f3\",\"type\":\"HelpTool\"}]},\"id\":\"3630b048-e817-40e2-8145-9b20d3b7243e\",\"type\":\"Toolbar\"},{\"attributes\":{},\"id\":\"7ee608b6-70c5-44ab-9d78-0f3acff32549\",\"type\":\"LinearScale\"},{\"attributes\":{\"source\":{\"id\":\"e17c97b9-1e9a-4884-8cb5-e86e7cc5005e\",\"type\":\"ColumnDataSource\"}},\"id\":\"f8e49cd9-beb8-4f48-8a0c-41cbc82bf6ed\",\"type\":\"CDSView\"},{\"attributes\":{\"below\":[{\"id\":\"b49f54d2-198d-422e-81d8-c27ac825f364\",\"type\":\"LinearAxis\"}],\"left\":[{\"id\":\"2053f3f2-bae9-4108-b5b8-02286a76e3b1\",\"type\":\"LinearAxis\"}],\"renderers\":[{\"id\":\"b49f54d2-198d-422e-81d8-c27ac825f364\",\"type\":\"LinearAxis\"},{\"id\":\"f3b5af1b-a9c6-4713-8b40-5a1ab607fcb3\",\"type\":\"Grid\"},{\"id\":\"2053f3f2-bae9-4108-b5b8-02286a76e3b1\",\"type\":\"LinearAxis\"},{\"id\":\"ee80d516-1c87-4436-8f0c-aa3bc5a93dd7\",\"type\":\"Grid\"},{\"id\":\"0d1a3d98-4777-40d0-9ab3-f9e74aa7f7d4\",\"type\":\"BoxAnnotation\"},{\"id\":\"33ab0ebf-8949-4d5b-892c-56a773154e4a\",\"type\":\"Legend\"},{\"id\":\"d38c2f09-56d4-413e-ae48-02cbbeb408ca\",\"type\":\"GlyphRenderer\"},{\"id\":\"fdd71b01-a636-4074-a727-b07851a35b45\",\"type\":\"GlyphRenderer\"},{\"id\":\"9e762ea2-1249-403a-be86-3ba9310a030d\",\"type\":\"GlyphRenderer\"},{\"id\":\"4a358f11-e69a-4d28-b3df-119511c0836e\",\"type\":\"GlyphRenderer\"},{\"id\":\"1172fdcb-a752-4869-b436-c9bfb13f56f9\",\"type\":\"GlyphRenderer\"}],\"title\":{\"id\":\"ab6cae56-5814-4f5a-af8d-a326fe71f63c\",\"type\":\"Title\"},\"toolbar\":{\"id\":\"3630b048-e817-40e2-8145-9b20d3b7243e\",\"type\":\"Toolbar\"},\"x_range\":{\"id\":\"b3873eae-94d5-4f39-9a3d-d2195f316f28\",\"type\":\"DataRange1d\"},\"x_scale\":{\"id\":\"7ee608b6-70c5-44ab-9d78-0f3acff32549\",\"type\":\"LinearScale\"},\"y_range\":{\"id\":\"1530fc2b-7807-41e5-8830-cd12570f9591\",\"type\":\"DataRange1d\"},\"y_scale\":{\"id\":\"798e8a15-286c-41ac-9ead-6d68698e0341\",\"type\":\"LinearScale\"}},\"id\":\"cb9a3fcc-91ad-4fd9-914d-686f5431ca51\",\"subtype\":\"Figure\",\"type\":\"Plot\"},{\"attributes\":{\"data_source\":{\"id\":\"c638c839-9173-448c-ac2f-c47bf719acb9\",\"type\":\"ColumnDataSource\"},\"glyph\":{\"id\":\"3cb2ea5a-c12b-424e-812b-2baf4f73971f\",\"type\":\"Line\"},\"hover_glyph\":null,\"muted_glyph\":null,\"nonselection_glyph\":{\"id\":\"f591eab1-5024-49df-bce3-f9a3ebdef6b0\",\"type\":\"Line\"},\"selection_glyph\":null,\"view\":{\"id\":\"dbd8f755-7bf3-4831-951c-73e73952855e\",\"type\":\"CDSView\"}},\"id\":\"9e762ea2-1249-403a-be86-3ba9310a030d\",\"type\":\"GlyphRenderer\"},{\"attributes\":{\"callback\":null,\"column_names\":[\"x\",\"y\"],\"data\":{\"x\":{\"__ndarray__\":\"AAAAAAAAAACRGkt8Vz/AP5EaS3xXP9A/2qdwOgNf2D+RGkt8Vz/gPzXhXVstT+Q/2qdwOgNf6D9+boMZ2W7sP5EaS3xXP/A/433Ua0JH8j814V1bLU/0P4dE50oYV/Y/2qdwOgNf+D8sC/op7mb6P35ugxnZbvw/0NEMCcR2/j+RGkt8Vz8AQDrMD/RMQwFA433Ua0JHAkCML5njN0sDQDXhXVstTwRA3pIi0yJTBUCHROdKGFcGQDD2q8INWwdA2qdwOgNfCECDWTWy+GIJQCwL+inuZgpA1by+oeNqC0B+boMZ2W4MQCcgSJHOcg1A0NEMCcR2DkB5g9GAuXoPQJEaS3xXPxBAZnMtOFLBEEA6zA/0TEMRQA8l8q9HxRFA433Ua0JHEkC41rYnPckSQIwvmeM3SxNAYYh7nzLNE0A14V1bLU8UQAo6QBco0RRA3pIi0yJTFUCz6wSPHdUVQIdE50oYVxZAXJ3JBhPZFkAw9qvCDVsXQAVPjn4I3RdA2qdwOgNfGECuAFP2/eAYQINZNbL4YhlAV7IXbvPkGUAsC/op7mYaQABk3OXo6BpA1by+oeNqG0CpFaFd3uwbQH5ugxnZbhxAUsdl1dPwHEAnIEiRznIdQPt4Kk3J9B1A0NEMCcR2HkCkKu/EvvgeQHmD0YC5eh9ATdyzPLT8H0CRGkt8Vz8gQPtGPNpUgCBAZnMtOFLBIEDQnx6WTwIhQDrMD/RMQyFApPgAUkqEIUAPJfKvR8UhQHlR4w1FBiJA433Ua0JHIkBNqsXJP4giQLjWtic9ySJAIgOohToKI0CML5njN0sjQPZbikE1jCNAYYh7nzLNI0DLtGz9Lw4kQDXhXVstTyRAoA1PuSqQJEAKOkAXKNEkQHRmMXUlEiVA3pIi0yJTJUBJvxMxIJQlQLPrBI8d1SVAHRj27BoWJkCHROdKGFcmQPJw2KgVmCZAXJ3JBhPZJkDGybpkEBonQDD2q8INWydAmyKdIAucJ0AFT45+CN0nQG97f9wFHihA2qdwOgNfKEBE1GGYAKAoQK4AU/b94ChAGC1EVPshKUA=\",\"dtype\":\"float64\",\"shape\":[100]},\"y\":{\"__ndarray__\":\"AAAAAAAAAADwgwJ4LjTAP5qI2QHPEtA/+5MNU1HJ1z8ZTT7q2B3fP0aFmgwa+eI/ABg/lCAV5j+IQCEcMdboP3fOhmLzMOs/EyzujrQb7T/9Izwlj47uPxccgYyLg+8/g6xao7j27z9mZrL8O+bvP7+X94FZUu8/xVNiW3I97j9RB8Ai+6vsP5FWKYlppOo/oSg6uxkv6D/Sh2bxK1blPyZGRbpaJeI/8qg+VZVT3T/4C4p0qOPVP+UppLIiM8w/3FNHxZdVuD/J23zJpD6gv+3ENsZjOcS/wo12/ecH0r/dgWKM2KjZv2MTsJELcOC/83ixWvXH47+358MBZM7mv5eCD4nhdum/rExY6Hq267+TIxAn7YPtvwSssILL1+6/70I4BJ6s77/vOc8G+P7vvzTGy1KGze+/3176khQZ77/C8a4NiuTtvzGcHq/dNOy/l0FFlgER6r+EGZN4xoHnvx8WPFK3keS/Cli7+O1M4b+HQNqEwoHbv9kfIiFb+NO/gKyggGI5yL8EhrXMjDywvyGGtcyMPLA/jqyggGI5yD/gHyIhW/jTP4BA2oTCgds/DVi7+O1M4T8cFjxSt5HkP4cZk3jGgec/lUFFlgER6j8ynB6v3TTsP8Hxrg2K5O0/4F76khQZ7z80xstShs3vP+85zwb4/u8/8EI4BJ6s7z8DrLCCy9fuP5UjECftg+0/p0xY6Hq26z+Vgg+J4XbpP7fnwwFkzuY/9nixWvXH4z9dE7CRC3DgP9eBYozYqNk/w412/ecH0j/+xDbGYznEP0/bfMmkPqA/+FNHxZdVuL/UKaSyIjPMv+gLinSo49W/+Kg+VZVT3b8lRkW6WiXiv8+HZvErVuW/pig6uxkv6L+TVimJaaTqv1EHwCL7q+y/xFNiW3I97r/Al/eBWVLvv2Zmsvw75u+/g6xao7j2778YHIGMi4Pvv/sjPCWPju6/EyzujrQb7b94zoZi8zDrv4xAIRwx1ui//Bc/lCAV5r9GhZoMGvnivx5NPurYHd+/65MNU1HJ17+SiNkBzxLQv/GDAnguNMC/B1wUMyamwbw=\",\"dtype\":\"float64\",\"shape\":[100]}}},\"id\":\"29eeed48-0d16-4c6d-a9fd-067dcbe1bf4f\",\"type\":\"ColumnDataSource\"},{\"attributes\":{\"source\":{\"id\":\"11caa85f-52cd-41f3-9f2d-54689a3b2d1d\",\"type\":\"ColumnDataSource\"}},\"id\":\"61f15b8a-1292-485a-88e5-b2578e9eea55\",\"type\":\"CDSView\"},{\"attributes\":{\"data_source\":{\"id\":\"e17c97b9-1e9a-4884-8cb5-e86e7cc5005e\",\"type\":\"ColumnDataSource\"},\"glyph\":{\"id\":\"e7815f7b-85e2-4e92-8b66-c934fe04a744\",\"type\":\"Line\"},\"hover_glyph\":null,\"muted_glyph\":null,\"nonselection_glyph\":{\"id\":\"529c0f97-84d6-449b-8f3e-8e634fb4d4db\",\"type\":\"Line\"},\"selection_glyph\":null,\"view\":{\"id\":\"f8e49cd9-beb8-4f48-8a0c-41cbc82bf6ed\",\"type\":\"CDSView\"}},\"id\":\"fdd71b01-a636-4074-a727-b07851a35b45\",\"type\":\"GlyphRenderer\"},{\"attributes\":{\"callback\":null,\"column_names\":[\"x\",\"y\"],\"data\":{\"x\":{\"__ndarray__\":\"AAAAAAAAAACRGkt8Vz/AP5EaS3xXP9A/2qdwOgNf2D+RGkt8Vz/gPzXhXVstT+Q/2qdwOgNf6D9+boMZ2W7sP5EaS3xXP/A/433Ua0JH8j814V1bLU/0P4dE50oYV/Y/2qdwOgNf+D8sC/op7mb6P35ugxnZbvw/0NEMCcR2/j+RGkt8Vz8AQDrMD/RMQwFA433Ua0JHAkCML5njN0sDQDXhXVstTwRA3pIi0yJTBUCHROdKGFcGQDD2q8INWwdA2qdwOgNfCECDWTWy+GIJQCwL+inuZgpA1by+oeNqC0B+boMZ2W4MQCcgSJHOcg1A0NEMCcR2DkB5g9GAuXoPQJEaS3xXPxBAZnMtOFLBEEA6zA/0TEMRQA8l8q9HxRFA433Ua0JHEkC41rYnPckSQIwvmeM3SxNAYYh7nzLNE0A14V1bLU8UQAo6QBco0RRA3pIi0yJTFUCz6wSPHdUVQIdE50oYVxZAXJ3JBhPZFkAw9qvCDVsXQAVPjn4I3RdA2qdwOgNfGECuAFP2/eAYQINZNbL4YhlAV7IXbvPkGUAsC/op7mYaQABk3OXo6BpA1by+oeNqG0CpFaFd3uwbQH5ugxnZbhxAUsdl1dPwHEAnIEiRznIdQPt4Kk3J9B1A0NEMCcR2HkCkKu/EvvgeQHmD0YC5eh9ATdyzPLT8H0CRGkt8Vz8gQPtGPNpUgCBAZnMtOFLBIEDQnx6WTwIhQDrMD/RMQyFApPgAUkqEIUAPJfKvR8UhQHlR4w1FBiJA433Ua0JHIkBNqsXJP4giQLjWtic9ySJAIgOohToKI0CML5njN0sjQPZbikE1jCNAYYh7nzLNI0DLtGz9Lw4kQDXhXVstTyRAoA1PuSqQJEAKOkAXKNEkQHRmMXUlEiVA3pIi0yJTJUBJvxMxIJQlQLPrBI8d1SVAHRj27BoWJkCHROdKGFcmQPJw2KgVmCZAXJ3JBhPZJkDGybpkEBonQDD2q8INWydAmyKdIAucJ0AFT45+CN0nQG97f9wFHihA2qdwOgNfKEBE1GGYAKAoQK4AU/b94ChAGC1EVPshKUA=\",\"dtype\":\"float64\",\"shape\":[100]},\"y\":{\"__ndarray__\":\"AAAAAAAAAADwgwJ4LjTAP5qI2QHPEtA/+5MNU1HJ1z8ZTT7q2B3fP0aFmgwa+eI/ABg/lCAV5j+IQCEcMdboP3fOhmLzMOs/EyzujrQb7T/9Izwlj47uPxccgYyLg+8/g6xao7j27z9mZrL8O+bvP7+X94FZUu8/xVNiW3I97j9RB8Ai+6vsP5FWKYlppOo/oSg6uxkv6D/Sh2bxK1blPyZGRbpaJeI/8qg+VZVT3T/4C4p0qOPVP+UppLIiM8w/3FNHxZdVuD/J23zJpD6gv+3ENsZjOcS/wo12/ecH0r/dgWKM2KjZv2MTsJELcOC/83ixWvXH47+358MBZM7mv5eCD4nhdum/rExY6Hq267+TIxAn7YPtvwSssILL1+6/70I4BJ6s77/vOc8G+P7vvzTGy1KGze+/3176khQZ77/C8a4NiuTtvzGcHq/dNOy/l0FFlgER6r+EGZN4xoHnvx8WPFK3keS/Cli7+O1M4b+HQNqEwoHbv9kfIiFb+NO/gKyggGI5yL8EhrXMjDywvyGGtcyMPLA/jqyggGI5yD/gHyIhW/jTP4BA2oTCgds/DVi7+O1M4T8cFjxSt5HkP4cZk3jGgec/lUFFlgER6j8ynB6v3TTsP8Hxrg2K5O0/4F76khQZ7z80xstShs3vP+85zwb4/u8/8EI4BJ6s7z8DrLCCy9fuP5UjECftg+0/p0xY6Hq26z+Vgg+J4XbpP7fnwwFkzuY/9nixWvXH4z9dE7CRC3DgP9eBYozYqNk/w412/ecH0j/+xDbGYznEP0/bfMmkPqA/+FNHxZdVuL/UKaSyIjPMv+gLinSo49W/+Kg+VZVT3b8lRkW6WiXiv8+HZvErVuW/pig6uxkv6L+TVimJaaTqv1EHwCL7q+y/xFNiW3I97r/Al/eBWVLvv2Zmsvw75u+/g6xao7j2778YHIGMi4Pvv/sjPCWPju6/EyzujrQb7b94zoZi8zDrv4xAIRwx1ui//Bc/lCAV5r9GhZoMGvnivx5NPurYHd+/65MNU1HJ17+SiNkBzxLQv/GDAnguNMC/B1wUMyamwbw=\",\"dtype\":\"float64\",\"shape\":[100]}}},\"id\":\"e17c97b9-1e9a-4884-8cb5-e86e7cc5005e\",\"type\":\"ColumnDataSource\"},{\"attributes\":{},\"id\":\"09bb32e1-940c-4d9d-bc7d-30175d4b4f85\",\"type\":\"BasicTicker\"},{\"attributes\":{\"line_alpha\":0.1,\"line_color\":\"#1f77b4\",\"x\":{\"field\":\"x\"},\"y\":{\"field\":\"y\"}},\"id\":\"529c0f97-84d6-449b-8f3e-8e634fb4d4db\",\"type\":\"Line\"},{\"attributes\":{\"formatter\":{\"id\":\"b4d9cbbc-45aa-4484-be86-7ae73b0de794\",\"type\":\"BasicTickFormatter\"},\"plot\":{\"id\":\"cb9a3fcc-91ad-4fd9-914d-686f5431ca51\",\"subtype\":\"Figure\",\"type\":\"Plot\"},\"ticker\":{\"id\":\"09bb32e1-940c-4d9d-bc7d-30175d4b4f85\",\"type\":\"BasicTicker\"}},\"id\":\"2053f3f2-bae9-4108-b5b8-02286a76e3b1\",\"type\":\"LinearAxis\"},{\"attributes\":{},\"id\":\"914c38c6-a1a3-4a2b-837e-cbc44682f78e\",\"type\":\"BasicTicker\"},{\"attributes\":{\"fill_alpha\":{\"value\":0.1},\"fill_color\":{\"value\":\"#1f77b4\"},\"line_alpha\":{\"value\":0.1},\"line_color\":{\"value\":\"#1f77b4\"},\"x\":{\"field\":\"x\"},\"y\":{\"field\":\"y\"}},\"id\":\"88607d70-52fc-4fc4-adda-83d3e376836f\",\"type\":\"Square\"},{\"attributes\":{\"overlay\":{\"id\":\"0d1a3d98-4777-40d0-9ab3-f9e74aa7f7d4\",\"type\":\"BoxAnnotation\"}},\"id\":\"ea305635-391e-4b25-9785-1159c240ce68\",\"type\":\"BoxZoomTool\"},{\"attributes\":{\"line_color\":\"#1f77b4\",\"x\":{\"field\":\"x\"},\"y\":{\"field\":\"y\"}},\"id\":\"e7815f7b-85e2-4e92-8b66-c934fe04a744\",\"type\":\"Line\"},{\"attributes\":{\"data_source\":{\"id\":\"11caa85f-52cd-41f3-9f2d-54689a3b2d1d\",\"type\":\"ColumnDataSource\"},\"glyph\":{\"id\":\"8338f7ff-0b5a-433c-a973-ed242e411eec\",\"type\":\"Square\"},\"hover_glyph\":null,\"muted_glyph\":null,\"nonselection_glyph\":{\"id\":\"88607d70-52fc-4fc4-adda-83d3e376836f\",\"type\":\"Square\"},\"selection_glyph\":null,\"view\":{\"id\":\"61f15b8a-1292-485a-88e5-b2578e9eea55\",\"type\":\"CDSView\"}},\"id\":\"4a358f11-e69a-4d28-b3df-119511c0836e\",\"type\":\"GlyphRenderer\"},{\"attributes\":{\"formatter\":{\"id\":\"4df4a8cc-7a85-41b0-8cba-36e83492815e\",\"type\":\"BasicTickFormatter\"},\"plot\":{\"id\":\"cb9a3fcc-91ad-4fd9-914d-686f5431ca51\",\"subtype\":\"Figure\",\"type\":\"Plot\"},\"ticker\":{\"id\":\"914c38c6-a1a3-4a2b-837e-cbc44682f78e\",\"type\":\"BasicTicker\"}},\"id\":\"b49f54d2-198d-422e-81d8-c27ac825f364\",\"type\":\"LinearAxis\"},{\"attributes\":{\"data_source\":{\"id\":\"29eeed48-0d16-4c6d-a9fd-067dcbe1bf4f\",\"type\":\"ColumnDataSource\"},\"glyph\":{\"id\":\"1043757b-65d4-4dcf-8932-d55390f4945c\",\"type\":\"Circle\"},\"hover_glyph\":null,\"muted_glyph\":null,\"nonselection_glyph\":{\"id\":\"9ae1021b-354d-4aee-b5b6-3ca5d494fd7b\",\"type\":\"Circle\"},\"selection_glyph\":null,\"view\":{\"id\":\"289c278c-3a1f-49ad-83f0-a798e532838b\",\"type\":\"CDSView\"}},\"id\":\"d38c2f09-56d4-413e-ae48-02cbbeb408ca\",\"type\":\"GlyphRenderer\"},{\"attributes\":{\"dimension\":1,\"plot\":{\"id\":\"cb9a3fcc-91ad-4fd9-914d-686f5431ca51\",\"subtype\":\"Figure\",\"type\":\"Plot\"},\"ticker\":{\"id\":\"09bb32e1-940c-4d9d-bc7d-30175d4b4f85\",\"type\":\"BasicTicker\"}},\"id\":\"ee80d516-1c87-4436-8f0c-aa3bc5a93dd7\",\"type\":\"Grid\"},{\"attributes\":{},\"id\":\"f24c123f-fc89-4d68-bd09-fdac96c0e6dd\",\"type\":\"PanTool\"},{\"attributes\":{\"plot\":{\"id\":\"cb9a3fcc-91ad-4fd9-914d-686f5431ca51\",\"subtype\":\"Figure\",\"type\":\"Plot\"},\"ticker\":{\"id\":\"914c38c6-a1a3-4a2b-837e-cbc44682f78e\",\"type\":\"BasicTicker\"}},\"id\":\"f3b5af1b-a9c6-4713-8b40-5a1ab607fcb3\",\"type\":\"Grid\"},{\"attributes\":{\"fill_color\":{\"value\":\"#1f77b4\"},\"line_color\":{\"value\":\"#1f77b4\"},\"x\":{\"field\":\"x\"},\"y\":{\"field\":\"y\"}},\"id\":\"1043757b-65d4-4dcf-8932-d55390f4945c\",\"type\":\"Circle\"},{\"attributes\":{\"bottom_units\":\"screen\",\"fill_alpha\":{\"value\":0.5},\"fill_color\":{\"value\":\"lightgrey\"},\"left_units\":\"screen\",\"level\":\"overlay\",\"line_alpha\":{\"value\":1.0},\"line_color\":{\"value\":\"black\"},\"line_dash\":[4,4],\"line_width\":{\"value\":2},\"plot\":null,\"render_mode\":\"css\",\"right_units\":\"screen\",\"top_units\":\"screen\"},\"id\":\"0d1a3d98-4777-40d0-9ab3-f9e74aa7f7d4\",\"type\":\"BoxAnnotation\"}],\"root_ids\":[\"cb9a3fcc-91ad-4fd9-914d-686f5431ca51\"]},\"title\":\"Bokeh Application\",\"version\":\"0.12.13\"}};\n",
       "  var render_items = [{\"docid\":\"ea2b781b-d686-4143-aedc-9b9dd8b3178e\",\"elementid\":\"924234dd-fa22-40cb-8044-3f3196cf6d22\",\"modelid\":\"cb9a3fcc-91ad-4fd9-914d-686f5431ca51\"}];\n",
       "  root.Bokeh.embed.embed_items_notebook(docs_json, render_items);\n",
       "\n",
       "  }\n",
       "  if (root.Bokeh !== undefined) {\n",
       "    embed_document(root);\n",
       "  } else {\n",
       "    var attempts = 0;\n",
       "    var timer = setInterval(function(root) {\n",
       "      if (root.Bokeh !== undefined) {\n",
       "        embed_document(root);\n",
       "        clearInterval(timer);\n",
       "      }\n",
       "      attempts++;\n",
       "      if (attempts > 100) {\n",
       "        console.log(\"Bokeh: ERROR: Unable to run BokehJS code because BokehJS library is missing\")\n",
       "        clearInterval(timer);\n",
       "      }\n",
       "    }, 10, root)\n",
       "  }\n",
       "})(window);"
      ],
      "application/vnd.bokehjs_exec.v0+json": ""
     },
     "metadata": {
      "application/vnd.bokehjs_exec.v0+json": {
       "id": "cb9a3fcc-91ad-4fd9-914d-686f5431ca51"
      }
     },
     "output_type": "display_data"
    }
   ],
   "source": [
    "# Dimensions\n",
    "\n",
    "x = np.linspace(0, 4*np.pi, 100)\n",
    "y = np.sin(x)\n",
    "\n",
    "p = figure()\n",
    "\n",
    "p.circle(x, y, legend=\"sin(x)\")\n",
    "p.line(x, y, legend=\"sin(x)\")\n",
    "\n",
    "p.line(x, 2*y, legend=\"2*sin(x)\",\n",
    "       line_dash=[4, 4], line_color=\"orange\", line_width=2)\n",
    "\n",
    "p.square(x, 3*y, legend=\"3*sin(x)\", fill_color=None, line_color=\"green\")\n",
    "p.line(x, 3*y, legend=\"3*sin(x)\", line_color=\"green\")\n",
    "\n",
    "p.legend.label_standoff = 5\n",
    "p.legend.glyph_width = 50\n",
    "p.legend.spacing = 10\n",
    "p.legend.padding = 50\n",
    "p.legend.margin = 50\n",
    "\n",
    "show(p)"
   ]
  },
  {
   "cell_type": "code",
   "execution_count": null,
   "metadata": {},
   "outputs": [],
   "source": []
  }
 ],
 "metadata": {
  "kernelspec": {
   "display_name": "Python 3",
   "language": "python",
   "name": "python3"
  },
  "language_info": {
   "codemirror_mode": {
    "name": "ipython",
    "version": 3
   },
   "file_extension": ".py",
   "mimetype": "text/x-python",
   "name": "python",
   "nbconvert_exporter": "python",
   "pygments_lexer": "ipython3",
   "version": "3.6.4"
  }
 },
 "nbformat": 4,
 "nbformat_minor": 2
}
