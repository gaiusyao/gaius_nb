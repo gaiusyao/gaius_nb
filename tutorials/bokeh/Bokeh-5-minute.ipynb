{
 "cells": [
  {
   "cell_type": "code",
   "execution_count": 1,
   "metadata": {},
   "outputs": [],
   "source": [
    "from bokeh.plotting import figure #let us create all sorts of interesting plots easily\n",
    "from bokeh.io import output_notebook, show #display results inline in the notebook"
   ]
  },
  {
   "cell_type": "code",
   "execution_count": 2,
   "metadata": {},
   "outputs": [
    {
     "data": {
      "text/html": [
       "\n",
       "    <div class=\"bk-root\">\n",
       "        <a href=\"https://bokeh.pydata.org\" target=\"_blank\" class=\"bk-logo bk-logo-small bk-logo-notebook\"></a>\n",
       "        <span id=\"b9036302-aad5-4f65-8c68-69ab7660440e\">Loading BokehJS ...</span>\n",
       "    </div>"
      ]
     },
     "metadata": {},
     "output_type": "display_data"
    },
    {
     "data": {
      "application/javascript": [
       "\n",
       "(function(root) {\n",
       "  function now() {\n",
       "    return new Date();\n",
       "  }\n",
       "\n",
       "  var force = true;\n",
       "\n",
       "  if (typeof (root._bokeh_onload_callbacks) === \"undefined\" || force === true) {\n",
       "    root._bokeh_onload_callbacks = [];\n",
       "    root._bokeh_is_loading = undefined;\n",
       "  }\n",
       "\n",
       "  var JS_MIME_TYPE = 'application/javascript';\n",
       "  var HTML_MIME_TYPE = 'text/html';\n",
       "  var EXEC_MIME_TYPE = 'application/vnd.bokehjs_exec.v0+json';\n",
       "  var CLASS_NAME = 'output_bokeh rendered_html';\n",
       "\n",
       "  /**\n",
       "   * Render data to the DOM node\n",
       "   */\n",
       "  function render(props, node) {\n",
       "    var script = document.createElement(\"script\");\n",
       "    node.appendChild(script);\n",
       "  }\n",
       "\n",
       "  /**\n",
       "   * Handle when an output is cleared or removed\n",
       "   */\n",
       "  function handleClearOutput(event, handle) {\n",
       "    var cell = handle.cell;\n",
       "\n",
       "    var id = cell.output_area._bokeh_element_id;\n",
       "    var server_id = cell.output_area._bokeh_server_id;\n",
       "    // Clean up Bokeh references\n",
       "    if (id !== undefined) {\n",
       "      Bokeh.index[id].model.document.clear();\n",
       "      delete Bokeh.index[id];\n",
       "    }\n",
       "\n",
       "    if (server_id !== undefined) {\n",
       "      // Clean up Bokeh references\n",
       "      var cmd = \"from bokeh.io.state import curstate; print(curstate().uuid_to_server['\" + server_id + \"'].get_sessions()[0].document.roots[0]._id)\";\n",
       "      cell.notebook.kernel.execute(cmd, {\n",
       "        iopub: {\n",
       "          output: function(msg) {\n",
       "            var element_id = msg.content.text.trim();\n",
       "            Bokeh.index[element_id].model.document.clear();\n",
       "            delete Bokeh.index[element_id];\n",
       "          }\n",
       "        }\n",
       "      });\n",
       "      // Destroy server and session\n",
       "      var cmd = \"import bokeh.io.notebook as ion; ion.destroy_server('\" + server_id + \"')\";\n",
       "      cell.notebook.kernel.execute(cmd);\n",
       "    }\n",
       "  }\n",
       "\n",
       "  /**\n",
       "   * Handle when a new output is added\n",
       "   */\n",
       "  function handleAddOutput(event, handle) {\n",
       "    var output_area = handle.output_area;\n",
       "    var output = handle.output;\n",
       "\n",
       "    // limit handleAddOutput to display_data with EXEC_MIME_TYPE content only\n",
       "    if ((output.output_type != \"display_data\") || (!output.data.hasOwnProperty(EXEC_MIME_TYPE))) {\n",
       "      return\n",
       "    }\n",
       "\n",
       "    var toinsert = output_area.element.find(\".\" + CLASS_NAME.split(' ')[0]);\n",
       "\n",
       "    if (output.metadata[EXEC_MIME_TYPE][\"id\"] !== undefined) {\n",
       "      toinsert[0].firstChild.textContent = output.data[JS_MIME_TYPE];\n",
       "      // store reference to embed id on output_area\n",
       "      output_area._bokeh_element_id = output.metadata[EXEC_MIME_TYPE][\"id\"];\n",
       "    }\n",
       "    if (output.metadata[EXEC_MIME_TYPE][\"server_id\"] !== undefined) {\n",
       "      var bk_div = document.createElement(\"div\");\n",
       "      bk_div.innerHTML = output.data[HTML_MIME_TYPE];\n",
       "      var script_attrs = bk_div.children[0].attributes;\n",
       "      for (var i = 0; i < script_attrs.length; i++) {\n",
       "        toinsert[0].firstChild.setAttribute(script_attrs[i].name, script_attrs[i].value);\n",
       "      }\n",
       "      // store reference to server id on output_area\n",
       "      output_area._bokeh_server_id = output.metadata[EXEC_MIME_TYPE][\"server_id\"];\n",
       "    }\n",
       "  }\n",
       "\n",
       "  function register_renderer(events, OutputArea) {\n",
       "\n",
       "    function append_mime(data, metadata, element) {\n",
       "      // create a DOM node to render to\n",
       "      var toinsert = this.create_output_subarea(\n",
       "        metadata,\n",
       "        CLASS_NAME,\n",
       "        EXEC_MIME_TYPE\n",
       "      );\n",
       "      this.keyboard_manager.register_events(toinsert);\n",
       "      // Render to node\n",
       "      var props = {data: data, metadata: metadata[EXEC_MIME_TYPE]};\n",
       "      render(props, toinsert[0]);\n",
       "      element.append(toinsert);\n",
       "      return toinsert\n",
       "    }\n",
       "\n",
       "    /* Handle when an output is cleared or removed */\n",
       "    events.on('clear_output.CodeCell', handleClearOutput);\n",
       "    events.on('delete.Cell', handleClearOutput);\n",
       "\n",
       "    /* Handle when a new output is added */\n",
       "    events.on('output_added.OutputArea', handleAddOutput);\n",
       "\n",
       "    /**\n",
       "     * Register the mime type and append_mime function with output_area\n",
       "     */\n",
       "    OutputArea.prototype.register_mime_type(EXEC_MIME_TYPE, append_mime, {\n",
       "      /* Is output safe? */\n",
       "      safe: true,\n",
       "      /* Index of renderer in `output_area.display_order` */\n",
       "      index: 0\n",
       "    });\n",
       "  }\n",
       "\n",
       "  // register the mime type if in Jupyter Notebook environment and previously unregistered\n",
       "  if (root.Jupyter !== undefined) {\n",
       "    var events = require('base/js/events');\n",
       "    var OutputArea = require('notebook/js/outputarea').OutputArea;\n",
       "\n",
       "    if (OutputArea.prototype.mime_types().indexOf(EXEC_MIME_TYPE) == -1) {\n",
       "      register_renderer(events, OutputArea);\n",
       "    }\n",
       "  }\n",
       "\n",
       "  \n",
       "  if (typeof (root._bokeh_timeout) === \"undefined\" || force === true) {\n",
       "    root._bokeh_timeout = Date.now() + 5000;\n",
       "    root._bokeh_failed_load = false;\n",
       "  }\n",
       "\n",
       "  var NB_LOAD_WARNING = {'data': {'text/html':\n",
       "     \"<div style='background-color: #fdd'>\\n\"+\n",
       "     \"<p>\\n\"+\n",
       "     \"BokehJS does not appear to have successfully loaded. If loading BokehJS from CDN, this \\n\"+\n",
       "     \"may be due to a slow or bad network connection. Possible fixes:\\n\"+\n",
       "     \"</p>\\n\"+\n",
       "     \"<ul>\\n\"+\n",
       "     \"<li>re-rerun `output_notebook()` to attempt to load from CDN again, or</li>\\n\"+\n",
       "     \"<li>use INLINE resources instead, as so:</li>\\n\"+\n",
       "     \"</ul>\\n\"+\n",
       "     \"<code>\\n\"+\n",
       "     \"from bokeh.resources import INLINE\\n\"+\n",
       "     \"output_notebook(resources=INLINE)\\n\"+\n",
       "     \"</code>\\n\"+\n",
       "     \"</div>\"}};\n",
       "\n",
       "  function display_loaded() {\n",
       "    var el = document.getElementById(\"b9036302-aad5-4f65-8c68-69ab7660440e\");\n",
       "    if (el != null) {\n",
       "      el.textContent = \"BokehJS is loading...\";\n",
       "    }\n",
       "    if (root.Bokeh !== undefined) {\n",
       "      if (el != null) {\n",
       "        el.textContent = \"BokehJS \" + root.Bokeh.version + \" successfully loaded.\";\n",
       "      }\n",
       "    } else if (Date.now() < root._bokeh_timeout) {\n",
       "      setTimeout(display_loaded, 100)\n",
       "    }\n",
       "  }\n",
       "\n",
       "\n",
       "  function run_callbacks() {\n",
       "    try {\n",
       "      root._bokeh_onload_callbacks.forEach(function(callback) { callback() });\n",
       "    }\n",
       "    finally {\n",
       "      delete root._bokeh_onload_callbacks\n",
       "    }\n",
       "    console.info(\"Bokeh: all callbacks have finished\");\n",
       "  }\n",
       "\n",
       "  function load_libs(js_urls, callback) {\n",
       "    root._bokeh_onload_callbacks.push(callback);\n",
       "    if (root._bokeh_is_loading > 0) {\n",
       "      console.log(\"Bokeh: BokehJS is being loaded, scheduling callback at\", now());\n",
       "      return null;\n",
       "    }\n",
       "    if (js_urls == null || js_urls.length === 0) {\n",
       "      run_callbacks();\n",
       "      return null;\n",
       "    }\n",
       "    console.log(\"Bokeh: BokehJS not loaded, scheduling load and callback at\", now());\n",
       "    root._bokeh_is_loading = js_urls.length;\n",
       "    for (var i = 0; i < js_urls.length; i++) {\n",
       "      var url = js_urls[i];\n",
       "      var s = document.createElement('script');\n",
       "      s.src = url;\n",
       "      s.async = false;\n",
       "      s.onreadystatechange = s.onload = function() {\n",
       "        root._bokeh_is_loading--;\n",
       "        if (root._bokeh_is_loading === 0) {\n",
       "          console.log(\"Bokeh: all BokehJS libraries loaded\");\n",
       "          run_callbacks()\n",
       "        }\n",
       "      };\n",
       "      s.onerror = function() {\n",
       "        console.warn(\"failed to load library \" + url);\n",
       "      };\n",
       "      console.log(\"Bokeh: injecting script tag for BokehJS library: \", url);\n",
       "      document.getElementsByTagName(\"head\")[0].appendChild(s);\n",
       "    }\n",
       "  };var element = document.getElementById(\"b9036302-aad5-4f65-8c68-69ab7660440e\");\n",
       "  if (element == null) {\n",
       "    console.log(\"Bokeh: ERROR: autoload.js configured with elementid 'b9036302-aad5-4f65-8c68-69ab7660440e' but no matching script tag was found. \")\n",
       "    return false;\n",
       "  }\n",
       "\n",
       "  var js_urls = [\"https://cdn.pydata.org/bokeh/release/bokeh-0.12.13.min.js\", \"https://cdn.pydata.org/bokeh/release/bokeh-widgets-0.12.13.min.js\", \"https://cdn.pydata.org/bokeh/release/bokeh-tables-0.12.13.min.js\", \"https://cdn.pydata.org/bokeh/release/bokeh-gl-0.12.13.min.js\"];\n",
       "\n",
       "  var inline_js = [\n",
       "    function(Bokeh) {\n",
       "      Bokeh.set_log_level(\"info\");\n",
       "    },\n",
       "    \n",
       "    function(Bokeh) {\n",
       "      \n",
       "    },\n",
       "    function(Bokeh) {\n",
       "      console.log(\"Bokeh: injecting CSS: https://cdn.pydata.org/bokeh/release/bokeh-0.12.13.min.css\");\n",
       "      Bokeh.embed.inject_css(\"https://cdn.pydata.org/bokeh/release/bokeh-0.12.13.min.css\");\n",
       "      console.log(\"Bokeh: injecting CSS: https://cdn.pydata.org/bokeh/release/bokeh-widgets-0.12.13.min.css\");\n",
       "      Bokeh.embed.inject_css(\"https://cdn.pydata.org/bokeh/release/bokeh-widgets-0.12.13.min.css\");\n",
       "      console.log(\"Bokeh: injecting CSS: https://cdn.pydata.org/bokeh/release/bokeh-tables-0.12.13.min.css\");\n",
       "      Bokeh.embed.inject_css(\"https://cdn.pydata.org/bokeh/release/bokeh-tables-0.12.13.min.css\");\n",
       "    }\n",
       "  ];\n",
       "\n",
       "  function run_inline_js() {\n",
       "    \n",
       "    if ((root.Bokeh !== undefined) || (force === true)) {\n",
       "      for (var i = 0; i < inline_js.length; i++) {\n",
       "        inline_js[i].call(root, root.Bokeh);\n",
       "      }if (force === true) {\n",
       "        display_loaded();\n",
       "      }} else if (Date.now() < root._bokeh_timeout) {\n",
       "      setTimeout(run_inline_js, 100);\n",
       "    } else if (!root._bokeh_failed_load) {\n",
       "      console.log(\"Bokeh: BokehJS failed to load within specified timeout.\");\n",
       "      root._bokeh_failed_load = true;\n",
       "    } else if (force !== true) {\n",
       "      var cell = $(document.getElementById(\"b9036302-aad5-4f65-8c68-69ab7660440e\")).parents('.cell').data().cell;\n",
       "      cell.output_area.append_execute_result(NB_LOAD_WARNING)\n",
       "    }\n",
       "\n",
       "  }\n",
       "\n",
       "  if (root._bokeh_is_loading === 0) {\n",
       "    console.log(\"Bokeh: BokehJS loaded, going straight to plotting\");\n",
       "    run_inline_js();\n",
       "  } else {\n",
       "    load_libs(js_urls, function() {\n",
       "      console.log(\"Bokeh: BokehJS plotting callback run at\", now());\n",
       "      run_inline_js();\n",
       "    });\n",
       "  }\n",
       "}(window));"
      ],
      "application/vnd.bokehjs_load.v0+json": "\n(function(root) {\n  function now() {\n    return new Date();\n  }\n\n  var force = true;\n\n  if (typeof (root._bokeh_onload_callbacks) === \"undefined\" || force === true) {\n    root._bokeh_onload_callbacks = [];\n    root._bokeh_is_loading = undefined;\n  }\n\n  \n\n  \n  if (typeof (root._bokeh_timeout) === \"undefined\" || force === true) {\n    root._bokeh_timeout = Date.now() + 5000;\n    root._bokeh_failed_load = false;\n  }\n\n  var NB_LOAD_WARNING = {'data': {'text/html':\n     \"<div style='background-color: #fdd'>\\n\"+\n     \"<p>\\n\"+\n     \"BokehJS does not appear to have successfully loaded. If loading BokehJS from CDN, this \\n\"+\n     \"may be due to a slow or bad network connection. Possible fixes:\\n\"+\n     \"</p>\\n\"+\n     \"<ul>\\n\"+\n     \"<li>re-rerun `output_notebook()` to attempt to load from CDN again, or</li>\\n\"+\n     \"<li>use INLINE resources instead, as so:</li>\\n\"+\n     \"</ul>\\n\"+\n     \"<code>\\n\"+\n     \"from bokeh.resources import INLINE\\n\"+\n     \"output_notebook(resources=INLINE)\\n\"+\n     \"</code>\\n\"+\n     \"</div>\"}};\n\n  function display_loaded() {\n    var el = document.getElementById(\"b9036302-aad5-4f65-8c68-69ab7660440e\");\n    if (el != null) {\n      el.textContent = \"BokehJS is loading...\";\n    }\n    if (root.Bokeh !== undefined) {\n      if (el != null) {\n        el.textContent = \"BokehJS \" + root.Bokeh.version + \" successfully loaded.\";\n      }\n    } else if (Date.now() < root._bokeh_timeout) {\n      setTimeout(display_loaded, 100)\n    }\n  }\n\n\n  function run_callbacks() {\n    try {\n      root._bokeh_onload_callbacks.forEach(function(callback) { callback() });\n    }\n    finally {\n      delete root._bokeh_onload_callbacks\n    }\n    console.info(\"Bokeh: all callbacks have finished\");\n  }\n\n  function load_libs(js_urls, callback) {\n    root._bokeh_onload_callbacks.push(callback);\n    if (root._bokeh_is_loading > 0) {\n      console.log(\"Bokeh: BokehJS is being loaded, scheduling callback at\", now());\n      return null;\n    }\n    if (js_urls == null || js_urls.length === 0) {\n      run_callbacks();\n      return null;\n    }\n    console.log(\"Bokeh: BokehJS not loaded, scheduling load and callback at\", now());\n    root._bokeh_is_loading = js_urls.length;\n    for (var i = 0; i < js_urls.length; i++) {\n      var url = js_urls[i];\n      var s = document.createElement('script');\n      s.src = url;\n      s.async = false;\n      s.onreadystatechange = s.onload = function() {\n        root._bokeh_is_loading--;\n        if (root._bokeh_is_loading === 0) {\n          console.log(\"Bokeh: all BokehJS libraries loaded\");\n          run_callbacks()\n        }\n      };\n      s.onerror = function() {\n        console.warn(\"failed to load library \" + url);\n      };\n      console.log(\"Bokeh: injecting script tag for BokehJS library: \", url);\n      document.getElementsByTagName(\"head\")[0].appendChild(s);\n    }\n  };var element = document.getElementById(\"b9036302-aad5-4f65-8c68-69ab7660440e\");\n  if (element == null) {\n    console.log(\"Bokeh: ERROR: autoload.js configured with elementid 'b9036302-aad5-4f65-8c68-69ab7660440e' but no matching script tag was found. \")\n    return false;\n  }\n\n  var js_urls = [\"https://cdn.pydata.org/bokeh/release/bokeh-0.12.13.min.js\", \"https://cdn.pydata.org/bokeh/release/bokeh-widgets-0.12.13.min.js\", \"https://cdn.pydata.org/bokeh/release/bokeh-tables-0.12.13.min.js\", \"https://cdn.pydata.org/bokeh/release/bokeh-gl-0.12.13.min.js\"];\n\n  var inline_js = [\n    function(Bokeh) {\n      Bokeh.set_log_level(\"info\");\n    },\n    \n    function(Bokeh) {\n      \n    },\n    function(Bokeh) {\n      console.log(\"Bokeh: injecting CSS: https://cdn.pydata.org/bokeh/release/bokeh-0.12.13.min.css\");\n      Bokeh.embed.inject_css(\"https://cdn.pydata.org/bokeh/release/bokeh-0.12.13.min.css\");\n      console.log(\"Bokeh: injecting CSS: https://cdn.pydata.org/bokeh/release/bokeh-widgets-0.12.13.min.css\");\n      Bokeh.embed.inject_css(\"https://cdn.pydata.org/bokeh/release/bokeh-widgets-0.12.13.min.css\");\n      console.log(\"Bokeh: injecting CSS: https://cdn.pydata.org/bokeh/release/bokeh-tables-0.12.13.min.css\");\n      Bokeh.embed.inject_css(\"https://cdn.pydata.org/bokeh/release/bokeh-tables-0.12.13.min.css\");\n    }\n  ];\n\n  function run_inline_js() {\n    \n    if ((root.Bokeh !== undefined) || (force === true)) {\n      for (var i = 0; i < inline_js.length; i++) {\n        inline_js[i].call(root, root.Bokeh);\n      }if (force === true) {\n        display_loaded();\n      }} else if (Date.now() < root._bokeh_timeout) {\n      setTimeout(run_inline_js, 100);\n    } else if (!root._bokeh_failed_load) {\n      console.log(\"Bokeh: BokehJS failed to load within specified timeout.\");\n      root._bokeh_failed_load = true;\n    } else if (force !== true) {\n      var cell = $(document.getElementById(\"b9036302-aad5-4f65-8c68-69ab7660440e\")).parents('.cell').data().cell;\n      cell.output_area.append_execute_result(NB_LOAD_WARNING)\n    }\n\n  }\n\n  if (root._bokeh_is_loading === 0) {\n    console.log(\"Bokeh: BokehJS loaded, going straight to plotting\");\n    run_inline_js();\n  } else {\n    load_libs(js_urls, function() {\n      console.log(\"Bokeh: BokehJS plotting callback run at\", now());\n      run_inline_js();\n    });\n  }\n}(window));"
     },
     "metadata": {},
     "output_type": "display_data"
    }
   ],
   "source": [
    "output_notebook() #display its plots directly into the notebook"
   ]
  },
  {
   "cell_type": "code",
   "execution_count": 3,
   "metadata": {},
   "outputs": [],
   "source": [
    "# Import NumPy and create some simple data\n",
    "from numpy import cos, linspace\n",
    "x = linspace(-6, 6, 100)\n",
    "y = cos(x)"
   ]
  },
  {
   "cell_type": "code",
   "execution_count": 4,
   "metadata": {},
   "outputs": [
    {
     "data": {
      "text/html": [
       "\n",
       "<div class=\"bk-root\">\n",
       "    <div class=\"bk-plotdiv\" id=\"ed625803-f59a-4215-93aa-0040714c73f0\"></div>\n",
       "</div>"
      ]
     },
     "metadata": {},
     "output_type": "display_data"
    },
    {
     "data": {
      "application/javascript": [
       "(function(root) {\n",
       "  function embed_document(root) {\n",
       "    \n",
       "  var docs_json = {\"76aa7453-be3f-41cb-90d1-323f50e25d9b\":{\"roots\":{\"references\":[{\"attributes\":{\"data_source\":{\"id\":\"3d5993c2-3769-4045-8e7b-4d78fded2187\",\"type\":\"ColumnDataSource\"},\"glyph\":{\"id\":\"f3187d57-b2b4-4d4f-8aef-8b15f2e219b9\",\"type\":\"Circle\"},\"hover_glyph\":null,\"muted_glyph\":null,\"nonselection_glyph\":{\"id\":\"dc7cbfac-3f1e-42ef-ba72-4e4d3b999653\",\"type\":\"Circle\"},\"selection_glyph\":null,\"view\":{\"id\":\"38ef45a8-6201-4544-ba9c-8e5f39f37b01\",\"type\":\"CDSView\"}},\"id\":\"e5fa73a5-c800-4d66-80e6-6e94e4759d07\",\"type\":\"GlyphRenderer\"},{\"attributes\":{\"plot\":null,\"text\":\"\"},\"id\":\"f2183e7f-a944-4960-87e7-0dbd3167d575\",\"type\":\"Title\"},{\"attributes\":{\"below\":[{\"id\":\"f4aa1574-7962-459a-9164-cefadfafc569\",\"type\":\"LinearAxis\"}],\"left\":[{\"id\":\"144af771-b6ed-425c-9a73-c9dad2b9d9ea\",\"type\":\"LinearAxis\"}],\"plot_height\":500,\"plot_width\":500,\"renderers\":[{\"id\":\"f4aa1574-7962-459a-9164-cefadfafc569\",\"type\":\"LinearAxis\"},{\"id\":\"9c08ba50-d810-4dce-b33c-e32304aa9a03\",\"type\":\"Grid\"},{\"id\":\"144af771-b6ed-425c-9a73-c9dad2b9d9ea\",\"type\":\"LinearAxis\"},{\"id\":\"4e8944f8-3df6-44f0-8584-e0ba96080d84\",\"type\":\"Grid\"},{\"id\":\"28c6f82c-3e16-46ca-b19b-92d47c6674dc\",\"type\":\"BoxAnnotation\"},{\"id\":\"e5fa73a5-c800-4d66-80e6-6e94e4759d07\",\"type\":\"GlyphRenderer\"}],\"title\":{\"id\":\"f2183e7f-a944-4960-87e7-0dbd3167d575\",\"type\":\"Title\"},\"toolbar\":{\"id\":\"f442c57e-e2e8-436a-ab51-d5644c97f31f\",\"type\":\"Toolbar\"},\"x_range\":{\"id\":\"8e88c4ce-794f-4203-a59c-7d6bb5f45b02\",\"type\":\"DataRange1d\"},\"x_scale\":{\"id\":\"92eea021-5bbe-4826-8849-2e30d60f188c\",\"type\":\"LinearScale\"},\"y_range\":{\"id\":\"d7fa41e9-3742-41f3-bfcf-65c5448c7a40\",\"type\":\"DataRange1d\"},\"y_scale\":{\"id\":\"03d4b4c2-3959-479e-a5e3-d831faf1b9e2\",\"type\":\"LinearScale\"}},\"id\":\"482dc7cb-02c9-461a-b2a5-a7c30ec2a9a9\",\"subtype\":\"Figure\",\"type\":\"Plot\"},{\"attributes\":{\"callback\":null,\"column_names\":[\"x\",\"y\"],\"data\":{\"x\":{\"__ndarray__\":\"AAAAAAAAGMCEDz744IMXwAgffPDBBxfAjC666KKLFsAQPvjggw8WwJNNNtlkkxXAF1100UUXFcCbbLLJJpsUwB988MEHHxTAo4suuuiiE8Anm2yyySYTwKqqqqqqqhLALrrooosuEsCyySabbLIRwDbZZJNNNhHAuuiiiy66EMA++OCDDz4QwIQPPvjggw/AjC666KKLDsCTTTbZZJMNwJtssskmmwzAo4suuuiiC8CqqqqqqqoKwLLJJptssgnAuuiiiy66CMDCBx988MEHwMomm2yyyQbA0UUXXXTRBcDZZJNNNtkEwOGDDz744APA6KKLLrroAsDwwQcffPABwPjggw8++ADAAAAAAAAAAMAQPvjggw/+vyB88MEHH/y/MLrooosu+r88+OCDDz74v0w22WSTTfa/XHTRRRdd9L9ssskmm2zyv3zwwQcffPC/GF100UUX7b842WSTTTbpv1BVVVVVVeW/cNFFF1104b8gm2yyySbbv2CTTTbZZNO/QBdddNFFx78AH3zwwQevvwAffPDBB68/QBdddNFFxz9gk0022WTTPzCbbLLJJts/eNFFF1104T9YVVVVVVXlPzjZZJNNNuk/GF100UUX7T988MEHH3zwP2yyySabbPI/YHTRRRdd9D9QNtlkk032P0D44IMPPvg/MLrooosu+j8gfPDBBx/8PxA++OCDD/4/AAAAAAAAAED44IMPPvgAQPDBBx988AFA6KKLLrroAkDggw8++OADQNhkk0022QRA0EUXXXTRBUDMJptssskGQMQHH3zwwQdAvOiiiy66CEC0ySabbLIJQKyqqqqqqgpApIsuuuiiC0CcbLLJJpsMQJRNNtlkkw1AjC666KKLDkCEDz744IMPQD744IMPPhBAuuiiiy66EEA22WSTTTYRQLLJJptsshFALrrooosuEkCsqqqqqqoSQCibbLLJJhNApIsuuuiiE0AgfPDBBx8UQJxssskmmxRAGF100UUXFUCUTTbZZJMVQBA++OCDDxZAjC666KKLFkAIH3zwwQcXQIQPPvjggxdAAAAAAAAAGEA=\",\"dtype\":\"float64\",\"shape\":[100]},\"y\":{\"__ndarray__\":\"9SJ4Cbe57j8JY+r+OmvtP60Tvck6rus/WLzTHz6J6T/x0bJaUwTnP6I1+zPxKOQ/oScYONMB4T8ZPFzpojXbP8HygfRnAdQ/fGjcYAsEyT8z6888mk6zP+5YV8fTZqe/pYFip7xExb9PFf407y/Svy7Wz2Mtedm/GSzA6Fwx4L8zrWZ2Tmnjv1qZMxdUWOa/yEpIeGjz6L+BKUaewTDrv4rmZKv1B+2/pq/Cehpy7r9tKDKa32nvv7My8UCi6++/lWFJ+Hr1779ggMrCRIfvv13mP6edou6/+5JWneBK7b/O+cbyGIXrv36TXFjvV+m/wpQK3pDL5r8HDQc8kOnjv6yITtzBvOC/BXJTVyai2r/ACBWWu2bTv4h0TibdxMe/sSQZ5fDFsL8tuK+mtnmsP79vCY4VhcY//tyFCJLL0j9AaSfs/Q3aPzoevIFEd+A/HBvGyK6p4z+YiDpMO5LmPxkpbAr9Jek/+alUikVb6z85RlM6ySntP8nZq5m+iu4/fMS1t/d47z+hS/Ko9fDvP6FL8qj18O8/fMS1t/d47z/J2auZvoruPzZGUzrJKe0/9KlUikVb6z8UKWwK/SXpP5iIOkw7kuY/HBvGyK6p4z86HryBRHfgP0BpJ+z9Ddo/79yFCJLL0j+fbwmOFYXGP623r6a2eaw/sSQZ5fDFsL+IdE4m3cTHv8AIFZa7ZtO/BXJTVyai2r+siE7cwbzgvwcNBzyQ6eO/wpQK3pDL5r98k1xY71fpv8z5xvIYheu/+pJWneBK7b9f5j+nnaLuv2KAysJEh++/lWFJ+Hr177+zMvFAouvvv2soMprfae+/pK/Cehpy7r+I5mSr9Qftv38pRp7BMOu/yEpIeGjz6L9amTMXVFjmvzOtZnZOaeO/GSzA6Fwx4L8u1s9jLXnZv08V/jTvL9K/pYFip7xExb/uV1fH02anv3PrzzyaTrM/nGjcYAsEyT/Q8oH0ZwHUPyc8XOmiNds/pycYONMB4T+oNfsz8SjkP/HRslpTBOc/WLzTHz6J6T+tE73JOq7rPwlj6v46a+0/9SJ4Cbe57j8=\",\"dtype\":\"float64\",\"shape\":[100]}}},\"id\":\"3d5993c2-3769-4045-8e7b-4d78fded2187\",\"type\":\"ColumnDataSource\"},{\"attributes\":{\"bottom_units\":\"screen\",\"fill_alpha\":{\"value\":0.5},\"fill_color\":{\"value\":\"lightgrey\"},\"left_units\":\"screen\",\"level\":\"overlay\",\"line_alpha\":{\"value\":1.0},\"line_color\":{\"value\":\"black\"},\"line_dash\":[4,4],\"line_width\":{\"value\":2},\"plot\":null,\"render_mode\":\"css\",\"right_units\":\"screen\",\"top_units\":\"screen\"},\"id\":\"28c6f82c-3e16-46ca-b19b-92d47c6674dc\",\"type\":\"BoxAnnotation\"},{\"attributes\":{},\"id\":\"7e3703bf-5b20-4602-93bd-bf3e1b72b61b\",\"type\":\"BasicTickFormatter\"},{\"attributes\":{},\"id\":\"99a6e638-54b2-48d1-8d48-08e640312fe1\",\"type\":\"PanTool\"},{\"attributes\":{\"active_drag\":\"auto\",\"active_inspect\":\"auto\",\"active_scroll\":\"auto\",\"active_tap\":\"auto\",\"tools\":[{\"id\":\"99a6e638-54b2-48d1-8d48-08e640312fe1\",\"type\":\"PanTool\"},{\"id\":\"20f7ffc3-f699-4e2c-ab07-10d710d6292f\",\"type\":\"WheelZoomTool\"},{\"id\":\"fa071a6e-7294-4f0e-a08a-8332b7abcc60\",\"type\":\"BoxZoomTool\"},{\"id\":\"e2bf69bd-5324-4640-b24d-1cd5d33684f9\",\"type\":\"SaveTool\"},{\"id\":\"5a245a08-66b4-49ee-b936-43fdc678f2dd\",\"type\":\"ResetTool\"},{\"id\":\"27d78b3e-c5cc-43d4-aea6-cf7ba50c164f\",\"type\":\"HelpTool\"}]},\"id\":\"f442c57e-e2e8-436a-ab51-d5644c97f31f\",\"type\":\"Toolbar\"},{\"attributes\":{\"callback\":null},\"id\":\"8e88c4ce-794f-4203-a59c-7d6bb5f45b02\",\"type\":\"DataRange1d\"},{\"attributes\":{},\"id\":\"20f7ffc3-f699-4e2c-ab07-10d710d6292f\",\"type\":\"WheelZoomTool\"},{\"attributes\":{\"fill_alpha\":{\"value\":0.1},\"fill_color\":{\"value\":\"#1f77b4\"},\"line_alpha\":{\"value\":0.1},\"line_color\":{\"value\":\"#1f77b4\"},\"size\":{\"units\":\"screen\",\"value\":7},\"x\":{\"field\":\"x\"},\"y\":{\"field\":\"y\"}},\"id\":\"dc7cbfac-3f1e-42ef-ba72-4e4d3b999653\",\"type\":\"Circle\"},{\"attributes\":{\"overlay\":{\"id\":\"28c6f82c-3e16-46ca-b19b-92d47c6674dc\",\"type\":\"BoxAnnotation\"}},\"id\":\"fa071a6e-7294-4f0e-a08a-8332b7abcc60\",\"type\":\"BoxZoomTool\"},{\"attributes\":{\"callback\":null},\"id\":\"d7fa41e9-3742-41f3-bfcf-65c5448c7a40\",\"type\":\"DataRange1d\"},{\"attributes\":{},\"id\":\"e2bf69bd-5324-4640-b24d-1cd5d33684f9\",\"type\":\"SaveTool\"},{\"attributes\":{},\"id\":\"92eea021-5bbe-4826-8849-2e30d60f188c\",\"type\":\"LinearScale\"},{\"attributes\":{},\"id\":\"5a245a08-66b4-49ee-b936-43fdc678f2dd\",\"type\":\"ResetTool\"},{\"attributes\":{},\"id\":\"03d4b4c2-3959-479e-a5e3-d831faf1b9e2\",\"type\":\"LinearScale\"},{\"attributes\":{},\"id\":\"27d78b3e-c5cc-43d4-aea6-cf7ba50c164f\",\"type\":\"HelpTool\"},{\"attributes\":{\"fill_alpha\":{\"value\":0.5},\"fill_color\":{\"value\":\"firebrick\"},\"line_alpha\":{\"value\":0.5},\"line_color\":{\"value\":\"firebrick\"},\"size\":{\"units\":\"screen\",\"value\":7},\"x\":{\"field\":\"x\"},\"y\":{\"field\":\"y\"}},\"id\":\"f3187d57-b2b4-4d4f-8aef-8b15f2e219b9\",\"type\":\"Circle\"},{\"attributes\":{},\"id\":\"b161adb9-126b-468b-8f11-5f7dde5e468a\",\"type\":\"BasicTickFormatter\"},{\"attributes\":{\"formatter\":{\"id\":\"7e3703bf-5b20-4602-93bd-bf3e1b72b61b\",\"type\":\"BasicTickFormatter\"},\"plot\":{\"id\":\"482dc7cb-02c9-461a-b2a5-a7c30ec2a9a9\",\"subtype\":\"Figure\",\"type\":\"Plot\"},\"ticker\":{\"id\":\"e7297c69-a85a-47f8-9ebd-81b9a54309cf\",\"type\":\"BasicTicker\"}},\"id\":\"f4aa1574-7962-459a-9164-cefadfafc569\",\"type\":\"LinearAxis\"},{\"attributes\":{\"source\":{\"id\":\"3d5993c2-3769-4045-8e7b-4d78fded2187\",\"type\":\"ColumnDataSource\"}},\"id\":\"38ef45a8-6201-4544-ba9c-8e5f39f37b01\",\"type\":\"CDSView\"},{\"attributes\":{},\"id\":\"e7297c69-a85a-47f8-9ebd-81b9a54309cf\",\"type\":\"BasicTicker\"},{\"attributes\":{\"plot\":{\"id\":\"482dc7cb-02c9-461a-b2a5-a7c30ec2a9a9\",\"subtype\":\"Figure\",\"type\":\"Plot\"},\"ticker\":{\"id\":\"e7297c69-a85a-47f8-9ebd-81b9a54309cf\",\"type\":\"BasicTicker\"}},\"id\":\"9c08ba50-d810-4dce-b33c-e32304aa9a03\",\"type\":\"Grid\"},{\"attributes\":{\"formatter\":{\"id\":\"b161adb9-126b-468b-8f11-5f7dde5e468a\",\"type\":\"BasicTickFormatter\"},\"plot\":{\"id\":\"482dc7cb-02c9-461a-b2a5-a7c30ec2a9a9\",\"subtype\":\"Figure\",\"type\":\"Plot\"},\"ticker\":{\"id\":\"945bfe19-06b5-4362-b410-e63170120ebf\",\"type\":\"BasicTicker\"}},\"id\":\"144af771-b6ed-425c-9a73-c9dad2b9d9ea\",\"type\":\"LinearAxis\"},{\"attributes\":{},\"id\":\"945bfe19-06b5-4362-b410-e63170120ebf\",\"type\":\"BasicTicker\"},{\"attributes\":{\"dimension\":1,\"plot\":{\"id\":\"482dc7cb-02c9-461a-b2a5-a7c30ec2a9a9\",\"subtype\":\"Figure\",\"type\":\"Plot\"},\"ticker\":{\"id\":\"945bfe19-06b5-4362-b410-e63170120ebf\",\"type\":\"BasicTicker\"}},\"id\":\"4e8944f8-3df6-44f0-8584-e0ba96080d84\",\"type\":\"Grid\"}],\"root_ids\":[\"482dc7cb-02c9-461a-b2a5-a7c30ec2a9a9\"]},\"title\":\"Bokeh Application\",\"version\":\"0.12.13\"}};\n",
       "  var render_items = [{\"docid\":\"76aa7453-be3f-41cb-90d1-323f50e25d9b\",\"elementid\":\"ed625803-f59a-4215-93aa-0040714c73f0\",\"modelid\":\"482dc7cb-02c9-461a-b2a5-a7c30ec2a9a9\"}];\n",
       "  root.Bokeh.embed.embed_items_notebook(docs_json, render_items);\n",
       "\n",
       "  }\n",
       "  if (root.Bokeh !== undefined) {\n",
       "    embed_document(root);\n",
       "  } else {\n",
       "    var attempts = 0;\n",
       "    var timer = setInterval(function(root) {\n",
       "      if (root.Bokeh !== undefined) {\n",
       "        embed_document(root);\n",
       "        clearInterval(timer);\n",
       "      }\n",
       "      attempts++;\n",
       "      if (attempts > 100) {\n",
       "        console.log(\"Bokeh: ERROR: Unable to run BokehJS code because BokehJS library is missing\")\n",
       "        clearInterval(timer);\n",
       "      }\n",
       "    }, 10, root)\n",
       "  }\n",
       "})(window);"
      ],
      "application/vnd.bokehjs_exec.v0+json": ""
     },
     "metadata": {
      "application/vnd.bokehjs_exec.v0+json": {
       "id": "482dc7cb-02c9-461a-b2a5-a7c30ec2a9a9"
      }
     },
     "output_type": "display_data"
    }
   ],
   "source": [
    "# Create a plot\n",
    "p = figure(width=500, height=500)\n",
    "p.circle(x, y, size=7, color=\"firebrick\", alpha=0.5) #render a red circle at each of the points in x and y\n",
    "show(p)"
   ]
  },
  {
   "cell_type": "code",
   "execution_count": 5,
   "metadata": {},
   "outputs": [],
   "source": [
    "# Bokeh's core display model relies on composing graphical primitives which are bound to data series\n",
    "# A slightly more sophisticated example demonstrates this idea\n",
    "\n",
    "from bokeh.sampledata.autompg import autompg #import a sample data, returned as DataFrame\n",
    "\n",
    "grouped = autompg.groupby(\"yr\")\n",
    "mpg = grouped[\"mpg\"]\n",
    "avg = mpg.mean()\n",
    "std = mpg.std()\n",
    "years = list(grouped.groups.keys())\n",
    "american = autompg[autompg[\"origin\"]==1]\n",
    "japanese = autompg[autompg[\"origin\"]==3]"
   ]
  },
  {
   "cell_type": "code",
   "execution_count": 6,
   "metadata": {},
   "outputs": [
    {
     "data": {
      "text/html": [
       "\n",
       "<div class=\"bk-root\">\n",
       "    <div class=\"bk-plotdiv\" id=\"46c07c75-01c2-40c3-aa2f-81901d7bfc45\"></div>\n",
       "</div>"
      ]
     },
     "metadata": {},
     "output_type": "display_data"
    },
    {
     "data": {
      "application/javascript": [
       "(function(root) {\n",
       "  function embed_document(root) {\n",
       "    \n",
       "  var docs_json = {\"1b53ab9a-5003-4bc7-999d-b46811f7e653\":{\"roots\":{\"references\":[{\"attributes\":{},\"id\":\"08e822c2-bbe8-4df3-8296-65a376c7b218\",\"type\":\"BasicTickFormatter\"},{\"attributes\":{\"bottom\":{\"field\":\"bottom\"},\"fill_alpha\":{\"value\":0.1},\"fill_color\":{\"value\":\"#1f77b4\"},\"line_alpha\":{\"value\":0.1},\"line_color\":{\"value\":\"#1f77b4\"},\"top\":{\"field\":\"top\"},\"width\":{\"value\":0.8},\"x\":{\"field\":\"x\"}},\"id\":\"2dc024f4-84e5-4567-ab2f-0671fff88b14\",\"type\":\"VBar\"},{\"attributes\":{\"callback\":null,\"column_names\":[\"x\",\"top\",\"bottom\"],\"data\":{\"bottom\":{\"__ndarray__\":\"gvFgx2qzKECcKci59t4sQJZdRzm5jipAzvVtn6zMKECki7kXNjswQIpnc6D2pi5ApAV4qVNeL0DtFQi6+rIwQBxLQL6+KTFAWBwW2YNMMkBnDzEy+Oo6QAq856zmjDhAfzfsSXnEOkA=\",\"dtype\":\"float64\",\"shape\":[13]},\"top\":{\"__ndarray__\":\"55jlF2UHN0DAzlQxaMk7QBEIyj5aJjhATTh849zMNUD6TNCFok49QMPUTjgNNTlA1KLp0Ht2O0AT6vdFBQ0+QNr+XjaL9T5AVt48aCfjP0AojYptQ1hEQPSsO6IX6UFAQOQJW8OdQkA=\",\"dtype\":\"float64\",\"shape\":[13]},\"x\":[70,71,72,73,74,75,76,77,78,79,80,81,82]}},\"id\":\"0f17d24d-d82b-4dd6-8ecf-95db1f9ea390\",\"type\":\"ColumnDataSource\"},{\"attributes\":{\"below\":[{\"id\":\"a63dafeb-0537-46c1-860e-3ebaf31293e7\",\"type\":\"LinearAxis\"}],\"left\":[{\"id\":\"16da7c3e-0825-4dee-9577-bee20efb50a6\",\"type\":\"LinearAxis\"}],\"renderers\":[{\"id\":\"a63dafeb-0537-46c1-860e-3ebaf31293e7\",\"type\":\"LinearAxis\"},{\"id\":\"45a93474-e1d3-4c60-ad6f-da21453b4370\",\"type\":\"Grid\"},{\"id\":\"16da7c3e-0825-4dee-9577-bee20efb50a6\",\"type\":\"LinearAxis\"},{\"id\":\"aaf95e65-1e47-4c38-ac04-dd27d92051f7\",\"type\":\"Grid\"},{\"id\":\"64c63cf1-5cca-4911-ac9d-4e9ab7fec917\",\"type\":\"BoxAnnotation\"},{\"id\":\"90648295-9916-4274-af17-e62583513473\",\"type\":\"Legend\"},{\"id\":\"13645ac0-805b-4d85-a59b-c71dec4ce868\",\"type\":\"GlyphRenderer\"},{\"id\":\"b9a58227-1856-4c36-83b9-867ae1bac4cb\",\"type\":\"GlyphRenderer\"},{\"id\":\"b762e7c3-ec31-41ba-b72a-d7ca4d9c5434\",\"type\":\"GlyphRenderer\"}],\"title\":{\"id\":\"01735438-ac34-411f-a375-800da224b1d0\",\"type\":\"Title\"},\"toolbar\":{\"id\":\"484a0081-1ea6-4f53-b970-7b3daff947d0\",\"type\":\"Toolbar\"},\"x_range\":{\"id\":\"00409bc3-39d6-4fda-b56b-e0438bbd143c\",\"type\":\"DataRange1d\"},\"x_scale\":{\"id\":\"0fbd5040-a44d-4f03-acae-0ec863700394\",\"type\":\"LinearScale\"},\"y_range\":{\"id\":\"e268e4dd-e13e-4b15-b005-b9009fdab1c9\",\"type\":\"DataRange1d\"},\"y_scale\":{\"id\":\"4d39277a-656b-4039-89f8-fc1483c01271\",\"type\":\"LinearScale\"}},\"id\":\"eec26648-c058-43ec-affb-77b2288337a0\",\"subtype\":\"Figure\",\"type\":\"Plot\"},{\"attributes\":{\"fill_alpha\":{\"value\":0.1},\"fill_color\":{\"value\":\"#1f77b4\"},\"line_alpha\":{\"value\":0.1},\"line_color\":{\"value\":\"#1f77b4\"},\"size\":{\"units\":\"screen\",\"value\":10},\"x\":{\"field\":\"x\"},\"y\":{\"field\":\"y\"}},\"id\":\"7e349512-af26-4b83-9054-f2bfacf79f2c\",\"type\":\"Triangle\"},{\"attributes\":{\"plot\":null,\"text\":\"MPG by Year (Japan and US)\"},\"id\":\"01735438-ac34-411f-a375-800da224b1d0\",\"type\":\"Title\"},{\"attributes\":{\"label\":{\"value\":\"American\"},\"renderers\":[{\"id\":\"b762e7c3-ec31-41ba-b72a-d7ca4d9c5434\",\"type\":\"GlyphRenderer\"}]},\"id\":\"aaf03a81-1d62-45f6-a59f-20e7031c2a68\",\"type\":\"LegendItem\"},{\"attributes\":{\"active_drag\":\"auto\",\"active_inspect\":\"auto\",\"active_scroll\":\"auto\",\"active_tap\":\"auto\",\"tools\":[{\"id\":\"21a24114-af49-4934-98e2-9f4f82d46bd3\",\"type\":\"PanTool\"},{\"id\":\"cbeb15af-8851-430a-bd6a-5331de06d6fb\",\"type\":\"WheelZoomTool\"},{\"id\":\"1ada959d-7053-4a66-b54e-2f4ad90a11a4\",\"type\":\"BoxZoomTool\"},{\"id\":\"59dcbc8a-e0d0-453c-96b7-5ddab8b38704\",\"type\":\"SaveTool\"},{\"id\":\"0d957799-6f67-4703-9e56-4bd2d8d5e69f\",\"type\":\"ResetTool\"},{\"id\":\"1633525b-d359-4199-95a3-af9c276a6bb2\",\"type\":\"HelpTool\"}]},\"id\":\"484a0081-1ea6-4f53-b970-7b3daff947d0\",\"type\":\"Toolbar\"},{\"attributes\":{\"callback\":null},\"id\":\"00409bc3-39d6-4fda-b56b-e0438bbd143c\",\"type\":\"DataRange1d\"},{\"attributes\":{\"label\":{\"value\":\"Japanese\"},\"renderers\":[{\"id\":\"b9a58227-1856-4c36-83b9-867ae1bac4cb\",\"type\":\"GlyphRenderer\"}]},\"id\":\"3993312c-f85d-4922-b367-cc5f089aa332\",\"type\":\"LegendItem\"},{\"attributes\":{},\"id\":\"d2f5f366-e3fe-4640-a06f-85a077f3c68f\",\"type\":\"BasicTickFormatter\"},{\"attributes\":{},\"id\":\"0fbd5040-a44d-4f03-acae-0ec863700394\",\"type\":\"LinearScale\"},{\"attributes\":{\"callback\":null},\"id\":\"e268e4dd-e13e-4b15-b005-b9009fdab1c9\",\"type\":\"DataRange1d\"},{\"attributes\":{},\"id\":\"4d39277a-656b-4039-89f8-fc1483c01271\",\"type\":\"LinearScale\"},{\"attributes\":{\"plot\":{\"id\":\"eec26648-c058-43ec-affb-77b2288337a0\",\"subtype\":\"Figure\",\"type\":\"Plot\"},\"ticker\":{\"id\":\"42e19906-df86-426a-9899-e51968f7264f\",\"type\":\"BasicTicker\"}},\"id\":\"45a93474-e1d3-4c60-ad6f-da21453b4370\",\"type\":\"Grid\"},{\"attributes\":{\"formatter\":{\"id\":\"08e822c2-bbe8-4df3-8296-65a376c7b218\",\"type\":\"BasicTickFormatter\"},\"plot\":{\"id\":\"eec26648-c058-43ec-affb-77b2288337a0\",\"subtype\":\"Figure\",\"type\":\"Plot\"},\"ticker\":{\"id\":\"42e19906-df86-426a-9899-e51968f7264f\",\"type\":\"BasicTicker\"}},\"id\":\"a63dafeb-0537-46c1-860e-3ebaf31293e7\",\"type\":\"LinearAxis\"},{\"attributes\":{\"fill_alpha\":{\"value\":0.1},\"fill_color\":{\"value\":\"#1f77b4\"},\"line_alpha\":{\"value\":0.1},\"line_color\":{\"value\":\"#1f77b4\"},\"size\":{\"units\":\"screen\",\"value\":10},\"x\":{\"field\":\"x\"},\"y\":{\"field\":\"y\"}},\"id\":\"817d6d4b-1aa8-4dbd-80ba-17a741c21af6\",\"type\":\"Circle\"},{\"attributes\":{},\"id\":\"42e19906-df86-426a-9899-e51968f7264f\",\"type\":\"BasicTicker\"},{\"attributes\":{\"formatter\":{\"id\":\"d2f5f366-e3fe-4640-a06f-85a077f3c68f\",\"type\":\"BasicTickFormatter\"},\"plot\":{\"id\":\"eec26648-c058-43ec-affb-77b2288337a0\",\"subtype\":\"Figure\",\"type\":\"Plot\"},\"ticker\":{\"id\":\"8fbed70d-aab1-4833-8ced-a8de46126dd4\",\"type\":\"BasicTicker\"}},\"id\":\"16da7c3e-0825-4dee-9577-bee20efb50a6\",\"type\":\"LinearAxis\"},{\"attributes\":{\"data_source\":{\"id\":\"0f17d24d-d82b-4dd6-8ecf-95db1f9ea390\",\"type\":\"ColumnDataSource\"},\"glyph\":{\"id\":\"ad48510b-bfa0-4c24-b06a-ecf04c01f210\",\"type\":\"VBar\"},\"hover_glyph\":null,\"muted_glyph\":null,\"nonselection_glyph\":{\"id\":\"2dc024f4-84e5-4567-ab2f-0671fff88b14\",\"type\":\"VBar\"},\"selection_glyph\":null,\"view\":{\"id\":\"cde77403-7c3e-4104-a0f2-fbdb43eac93d\",\"type\":\"CDSView\"}},\"id\":\"13645ac0-805b-4d85-a59b-c71dec4ce868\",\"type\":\"GlyphRenderer\"},{\"attributes\":{\"bottom\":{\"field\":\"bottom\"},\"fill_alpha\":{\"value\":0.2},\"fill_color\":{\"value\":\"#1f77b4\"},\"line_color\":{\"value\":null},\"top\":{\"field\":\"top\"},\"width\":{\"value\":0.8},\"x\":{\"field\":\"x\"}},\"id\":\"ad48510b-bfa0-4c24-b06a-ecf04c01f210\",\"type\":\"VBar\"},{\"attributes\":{},\"id\":\"8fbed70d-aab1-4833-8ced-a8de46126dd4\",\"type\":\"BasicTicker\"},{\"attributes\":{\"items\":[{\"id\":\"804da3c8-9630-4f67-b57e-7f61850b3616\",\"type\":\"LegendItem\"},{\"id\":\"3993312c-f85d-4922-b367-cc5f089aa332\",\"type\":\"LegendItem\"},{\"id\":\"aaf03a81-1d62-45f6-a59f-20e7031c2a68\",\"type\":\"LegendItem\"}],\"location\":\"top_left\",\"plot\":{\"id\":\"eec26648-c058-43ec-affb-77b2288337a0\",\"subtype\":\"Figure\",\"type\":\"Plot\"}},\"id\":\"90648295-9916-4274-af17-e62583513473\",\"type\":\"Legend\"},{\"attributes\":{\"dimension\":1,\"plot\":{\"id\":\"eec26648-c058-43ec-affb-77b2288337a0\",\"subtype\":\"Figure\",\"type\":\"Plot\"},\"ticker\":{\"id\":\"8fbed70d-aab1-4833-8ced-a8de46126dd4\",\"type\":\"BasicTicker\"}},\"id\":\"aaf95e65-1e47-4c38-ac04-dd27d92051f7\",\"type\":\"Grid\"},{\"attributes\":{\"label\":{\"value\":\"MPG 1 stddev\"},\"renderers\":[{\"id\":\"13645ac0-805b-4d85-a59b-c71dec4ce868\",\"type\":\"GlyphRenderer\"}]},\"id\":\"804da3c8-9630-4f67-b57e-7f61850b3616\",\"type\":\"LegendItem\"},{\"attributes\":{\"fill_alpha\":{\"value\":0.5},\"fill_color\":{\"value\":\"red\"},\"line_alpha\":{\"value\":0.5},\"line_color\":{\"value\":\"red\"},\"size\":{\"units\":\"screen\",\"value\":10},\"x\":{\"field\":\"x\"},\"y\":{\"field\":\"y\"}},\"id\":\"a2cb518f-8d90-4bb9-9ef3-3a711f590236\",\"type\":\"Circle\"},{\"attributes\":{\"source\":{\"id\":\"0f17d24d-d82b-4dd6-8ecf-95db1f9ea390\",\"type\":\"ColumnDataSource\"}},\"id\":\"cde77403-7c3e-4104-a0f2-fbdb43eac93d\",\"type\":\"CDSView\"},{\"attributes\":{\"callback\":null,\"column_names\":[\"x\",\"y\"],\"data\":{\"x\":[70,70,70,70,70,70,70,70,70,70,70,70,70,70,70,70,70,70,70,70,70,70,71,71,71,71,71,71,71,71,71,71,71,71,71,71,71,71,71,71,71,72,72,72,72,72,72,72,72,72,72,72,72,72,72,72,72,72,72,73,73,73,73,73,73,73,73,73,73,73,73,73,73,73,73,73,73,73,73,73,73,73,73,73,73,73,73,73,74,74,74,74,74,74,74,74,74,74,74,74,74,74,75,75,75,75,75,75,75,75,75,75,75,75,75,75,75,75,75,75,75,75,76,76,76,76,76,76,76,76,76,76,76,76,76,76,76,76,76,76,76,76,76,76,77,77,77,77,77,77,77,77,77,77,77,77,77,77,77,77,77,77,78,78,78,78,78,78,78,78,78,78,78,78,78,78,78,78,78,78,78,78,78,78,79,79,79,79,79,79,79,79,79,79,79,79,79,79,79,79,79,79,79,79,79,79,79,80,80,80,80,80,80,81,81,81,81,81,81,81,81,81,81,81,81,81,82,82,82,82,82,82,82,82,82,82,82,82,82,82,82,82,82,82,82],\"y\":{\"__ndarray__\":\"AAAAAAAAMkAAAAAAAAAuQAAAAAAAADJAAAAAAAAAMEAAAAAAAAAxQAAAAAAAAC5AAAAAAAAALEAAAAAAAAAsQAAAAAAAACxAAAAAAAAALkAAAAAAAAAuQAAAAAAAACxAAAAAAAAALkAAAAAAAAAsQAAAAAAAADZAAAAAAAAAMkAAAAAAAAA1QAAAAAAAADVAAAAAAAAAJEAAAAAAAAAkQAAAAAAAACZAAAAAAAAAIkAAAAAAAAA8QAAAAAAAADNAAAAAAAAAMEAAAAAAAAAxQAAAAAAAADNAAAAAAAAAMkAAAAAAAAAsQAAAAAAAACxAAAAAAAAALEAAAAAAAAAsQAAAAAAAAChAAAAAAAAAKkAAAAAAAAAqQAAAAAAAADJAAAAAAAAANkAAAAAAAAAzQAAAAAAAADJAAAAAAAAAN0AAAAAAAAA6QAAAAAAAADlAAAAAAAAANEAAAAAAAAA1QAAAAAAAACpAAAAAAAAALEAAAAAAAAAuQAAAAAAAACxAAAAAAAAAMUAAAAAAAAAmQAAAAAAAACpAAAAAAAAAKEAAAAAAAAAqQAAAAAAAAC5AAAAAAAAAKkAAAAAAAAAqQAAAAAAAACxAAAAAAAAANkAAAAAAAAA8QAAAAAAAACpAAAAAAAAALEAAAAAAAAAqQAAAAAAAACxAAAAAAAAALkAAAAAAAAAoQAAAAAAAACpAAAAAAAAAKkAAAAAAAAAsQAAAAAAAACpAAAAAAAAAKEAAAAAAAAAqQAAAAAAAADJAAAAAAAAAMEAAAAAAAAAyQAAAAAAAADJAAAAAAAAAN0AAAAAAAAAmQAAAAAAAAChAAAAAAAAAKkAAAAAAAAAoQAAAAAAAADJAAAAAAAAANUAAAAAAAAAzQAAAAAAAADVAAAAAAAAALkAAAAAAAAAwQAAAAAAAAC5AAAAAAAAAJkAAAAAAAAA0QAAAAAAAADNAAAAAAAAALkAAAAAAAAA6QAAAAAAAADlAAAAAAAAAMEAAAAAAAAAwQAAAAAAAADJAAAAAAAAAMEAAAAAAAAAqQAAAAAAAACxAAAAAAAAALEAAAAAAAAAsQAAAAAAAADxAAAAAAAAAM0AAAAAAAAAyQAAAAAAAAC5AAAAAAAAALkAAAAAAAAAwQAAAAAAAAC5AAAAAAAAAMEAAAAAAAAAsQAAAAAAAADFAAAAAAAAAMEAAAAAAAAAuQAAAAAAAADJAAAAAAAAANUAAAAAAAAA0QAAAAAAAACpAAAAAAAAAN0AAAAAAAAA0QAAAAAAAADdAAAAAAAAAMkAAAAAAAAAzQAAAAAAAADlAAAAAAAAAOkAAAAAAAIAxQAAAAAAAADBAAAAAAAAAL0AAAAAAAAAtQAAAAAAAADZAAAAAAAAANkAAAAAAAAA4QAAAAAAAgDZAAAAAAAAAPUAAAAAAAIA4QAAAAAAAADRAAAAAAAAAMkAAAAAAAIAyQAAAAAAAgDFAAAAAAACAOkAAAAAAAAAqQAAAAAAAgDBAAAAAAAAAKkAAAAAAAAAqQAAAAAAAACpAAAAAAAAAPkAAAAAAAIA5QAAAAAAAgDFAAAAAAAAAMUAAAAAAAAAvQAAAAAAAAC5AAAAAAACAMUAAAAAAAIA0QAAAAAAAADNAAAAAAACAMkAAAAAAAAAwQAAAAAAAAC9AAAAAAAAAL0AAAAAAAAAwQAAAAAAAgDhAAAAAAACAOUAAAAAAAIA+QAAAAAAAwEBAzczMzMwMQkBmZmZmZuYzQGZmZmZmZjNAMzMzMzMzNEAzMzMzMzMzQAAAAAAAgDRAMzMzMzMzNECamZmZmRk5QAAAAAAAgDRAZmZmZmZmM0CamZmZmZk0QM3MzMzMzDRAmpmZmZmZMkCamZmZmRkyQDMzMzMzMzNAMzMzMzOzMUCamZmZmRkyQAAAAAAAgDFAAAAAAAAAPkBmZmZmZuY+QDMzMzMzMzdAzczMzMzMN0AAAAAAAIA1QM3MzMzMzDNAzczMzMxMNkAzMzMzMzM0QJqZmZmZmTRAAAAAAAAAMUCamZmZmZkxQAAAAAAAgDBAMzMzMzMzMkBmZmZmZuYwQAAAAAAAAC9AMzMzMzMzM0AAAAAAAIAyQJqZmZmZ2UFAZmZmZmZmO0AAAAAAAAA3QGZmZmZm5jdAmpmZmZkZQUAAAAAAAEBBQGZmZmZmZjxAzczMzMzMPEDNzMzMzMw6QAAAAAAAwEBAzczMzMwMQEAAAAAAAAA8QGZmZmZmZjpAzczMzMxMOECamZmZmRkzQGZmZmZm5jtAMzMzMzMzO0CamZmZmZk6QM3MzMzMzDlAAAAAAACAN0AAAAAAAAA+QAAAAAAAgENAmpmZmZlZQUAzMzMzMzNBQGZmZmZm5j1AZmZmZmZmNkCamZmZmZk6QDMzMzMzMzRAmpmZmZmZMUAAAAAAAAA8QAAAAAAAADtAAAAAAAAAQUAAAAAAAAA/QAAAAAAAAD1AAAAAAAAAO0AAAAAAAAA4QAAAAAAAAENAAAAAAAAAQkAAAAAAAAA5QAAAAAAAAENAAAAAAAAAOkAAAAAAAAA2QAAAAAAAAEJAAAAAAAAAO0AAAAAAAAA7QAAAAAAAAEBAAAAAAAAAPEAAAAAAAAA/QA==\",\"dtype\":\"float64\",\"shape\":[245]}}},\"id\":\"57b2a368-756b-4759-8763-c8a052862bbb\",\"type\":\"ColumnDataSource\"},{\"attributes\":{\"source\":{\"id\":\"c643b7f7-3cca-459c-8fd9-653ca14f6862\",\"type\":\"ColumnDataSource\"}},\"id\":\"8a1203ea-7958-4280-9bcf-1f0cab6a814d\",\"type\":\"CDSView\"},{\"attributes\":{\"callback\":null,\"column_names\":[\"x\",\"y\"],\"data\":{\"x\":[70,70,71,71,71,71,72,72,72,72,72,73,73,73,73,74,74,74,74,74,74,75,75,75,75,76,76,76,76,77,77,77,77,77,77,78,78,78,78,78,78,78,78,79,79,80,80,80,80,80,80,80,80,80,80,80,80,80,81,81,81,81,81,81,81,81,81,81,81,81,82,82,82,82,82,82,82,82,82],\"y\":{\"__ndarray__\":\"AAAAAAAAOEAAAAAAAAA7QAAAAAAAADtAAAAAAAAAOUAAAAAAAAA/QAAAAAAAgEFAAAAAAAAAOEAAAAAAAAAzQAAAAAAAADxAAAAAAAAAN0AAAAAAAAA7QAAAAAAAADRAAAAAAAAANkAAAAAAAAAyQAAAAAAAADRAAAAAAAAAP0AAAAAAAABAQAAAAAAAAD9AAAAAAAAAQEAAAAAAAAA4QAAAAAAAADpAAAAAAAAAPUAAAAAAAAA4QAAAAAAAADhAAAAAAACAQEAAAAAAAIBAQAAAAAAAAEBAAAAAAAAAPEAAAAAAAAAzQAAAAAAAgD9AAAAAAADAQEAAAAAAAAA6QAAAAAAAAD5AAAAAAAAANkAAAAAAAIA1QGZmZmZmZkBAMzMzMzOzQ0DNzMzMzAxCQAAAAAAAgDtAMzMzMzMzO0CamZmZmRk1QGZmZmZm5jdAAAAAAACAPUDNzMzMzAxBQM3MzMzMzD9AzczMzMwMQ0CamZmZmZlCQM3MzMzMzD1AzczMzMxMP0AAAAAAAIBCQJqZmZmZGUBAzczMzMxMR0BmZmZmZmZEQM3MzMzMTEZAZmZmZmbmQECamZmZmVlAQDMzMzMzszdAMzMzMzMzQEDNzMzMzIxDQM3MzMzMjEFAZmZmZmYmQEAAAAAAAIBCQJqZmZmZ2UJAzczMzMwMQUCamZmZmdlAQDMzMzMzM0BAMzMzMzNzQECamZmZmZk/QGZmZmZmZjlAMzMzMzMzOEAAAAAAAIBCQAAAAAAAAD9AAAAAAAAAQkAAAAAAAABCQAAAAAAAAEFAAAAAAAAAQ0AAAAAAAABAQAAAAAAAAENAAAAAAAAAQEA=\",\"dtype\":\"float64\",\"shape\":[79]}}},\"id\":\"c643b7f7-3cca-459c-8fd9-653ca14f6862\",\"type\":\"ColumnDataSource\"},{\"attributes\":{\"fill_alpha\":{\"value\":0.3},\"fill_color\":{\"value\":\"blue\"},\"line_alpha\":{\"value\":0.3},\"line_color\":{\"value\":\"blue\"},\"size\":{\"units\":\"screen\",\"value\":10},\"x\":{\"field\":\"x\"},\"y\":{\"field\":\"y\"}},\"id\":\"fade7ca3-15f4-423c-946d-8d9e0c88a5a5\",\"type\":\"Triangle\"},{\"attributes\":{\"bottom_units\":\"screen\",\"fill_alpha\":{\"value\":0.5},\"fill_color\":{\"value\":\"lightgrey\"},\"left_units\":\"screen\",\"level\":\"overlay\",\"line_alpha\":{\"value\":1.0},\"line_color\":{\"value\":\"black\"},\"line_dash\":[4,4],\"line_width\":{\"value\":2},\"plot\":null,\"render_mode\":\"css\",\"right_units\":\"screen\",\"top_units\":\"screen\"},\"id\":\"64c63cf1-5cca-4911-ac9d-4e9ab7fec917\",\"type\":\"BoxAnnotation\"},{\"attributes\":{},\"id\":\"21a24114-af49-4934-98e2-9f4f82d46bd3\",\"type\":\"PanTool\"},{\"attributes\":{\"source\":{\"id\":\"57b2a368-756b-4759-8763-c8a052862bbb\",\"type\":\"ColumnDataSource\"}},\"id\":\"473ace77-2d6c-409d-8ed7-37541d268278\",\"type\":\"CDSView\"},{\"attributes\":{},\"id\":\"cbeb15af-8851-430a-bd6a-5331de06d6fb\",\"type\":\"WheelZoomTool\"},{\"attributes\":{\"data_source\":{\"id\":\"57b2a368-756b-4759-8763-c8a052862bbb\",\"type\":\"ColumnDataSource\"},\"glyph\":{\"id\":\"fade7ca3-15f4-423c-946d-8d9e0c88a5a5\",\"type\":\"Triangle\"},\"hover_glyph\":null,\"muted_glyph\":null,\"nonselection_glyph\":{\"id\":\"7e349512-af26-4b83-9054-f2bfacf79f2c\",\"type\":\"Triangle\"},\"selection_glyph\":null,\"view\":{\"id\":\"473ace77-2d6c-409d-8ed7-37541d268278\",\"type\":\"CDSView\"}},\"id\":\"b762e7c3-ec31-41ba-b72a-d7ca4d9c5434\",\"type\":\"GlyphRenderer\"},{\"attributes\":{\"overlay\":{\"id\":\"64c63cf1-5cca-4911-ac9d-4e9ab7fec917\",\"type\":\"BoxAnnotation\"}},\"id\":\"1ada959d-7053-4a66-b54e-2f4ad90a11a4\",\"type\":\"BoxZoomTool\"},{\"attributes\":{},\"id\":\"59dcbc8a-e0d0-453c-96b7-5ddab8b38704\",\"type\":\"SaveTool\"},{\"attributes\":{},\"id\":\"0d957799-6f67-4703-9e56-4bd2d8d5e69f\",\"type\":\"ResetTool\"},{\"attributes\":{\"data_source\":{\"id\":\"c643b7f7-3cca-459c-8fd9-653ca14f6862\",\"type\":\"ColumnDataSource\"},\"glyph\":{\"id\":\"a2cb518f-8d90-4bb9-9ef3-3a711f590236\",\"type\":\"Circle\"},\"hover_glyph\":null,\"muted_glyph\":null,\"nonselection_glyph\":{\"id\":\"817d6d4b-1aa8-4dbd-80ba-17a741c21af6\",\"type\":\"Circle\"},\"selection_glyph\":null,\"view\":{\"id\":\"8a1203ea-7958-4280-9bcf-1f0cab6a814d\",\"type\":\"CDSView\"}},\"id\":\"b9a58227-1856-4c36-83b9-867ae1bac4cb\",\"type\":\"GlyphRenderer\"},{\"attributes\":{},\"id\":\"1633525b-d359-4199-95a3-af9c276a6bb2\",\"type\":\"HelpTool\"}],\"root_ids\":[\"eec26648-c058-43ec-affb-77b2288337a0\"]},\"title\":\"Bokeh Application\",\"version\":\"0.12.13\"}};\n",
       "  var render_items = [{\"docid\":\"1b53ab9a-5003-4bc7-999d-b46811f7e653\",\"elementid\":\"46c07c75-01c2-40c3-aa2f-81901d7bfc45\",\"modelid\":\"eec26648-c058-43ec-affb-77b2288337a0\"}];\n",
       "  root.Bokeh.embed.embed_items_notebook(docs_json, render_items);\n",
       "\n",
       "  }\n",
       "  if (root.Bokeh !== undefined) {\n",
       "    embed_document(root);\n",
       "  } else {\n",
       "    var attempts = 0;\n",
       "    var timer = setInterval(function(root) {\n",
       "      if (root.Bokeh !== undefined) {\n",
       "        embed_document(root);\n",
       "        clearInterval(timer);\n",
       "      }\n",
       "      attempts++;\n",
       "      if (attempts > 100) {\n",
       "        console.log(\"Bokeh: ERROR: Unable to run BokehJS code because BokehJS library is missing\")\n",
       "        clearInterval(timer);\n",
       "      }\n",
       "    }, 10, root)\n",
       "  }\n",
       "})(window);"
      ],
      "application/vnd.bokehjs_exec.v0+json": ""
     },
     "metadata": {
      "application/vnd.bokehjs_exec.v0+json": {
       "id": "eec26648-c058-43ec-affb-77b2288337a0"
      }
     },
     "output_type": "display_data"
    }
   ],
   "source": [
    "# For each year, we want to plot the distribution of MPG within that year\n",
    "p = figure(title=\"MPG by Year (Japan and US)\")\n",
    "\n",
    "p.vbar(x=years, bottom=avg-std, top=avg+std, width=0.8, \n",
    "       fill_alpha=0.2, line_color=None, legend=\"MPG 1 stddev\")\n",
    "\n",
    "p.circle(x=japanese[\"yr\"], y=japanese[\"mpg\"], size=10, alpha=0.5,\n",
    "         color=\"red\", legend=\"Japanese\")\n",
    "\n",
    "p.triangle(x=american[\"yr\"], y=american[\"mpg\"], size=10, alpha=0.3,\n",
    "           color=\"blue\", legend=\"American\")\n",
    "\n",
    "p.legend.location = \"top_left\"\n",
    "show(p)"
   ]
  },
  {
   "cell_type": "code",
   "execution_count": 7,
   "metadata": {},
   "outputs": [
    {
     "data": {
      "text/html": [
       "\n",
       "<div class=\"bk-root\">\n",
       "    <div class=\"bk-plotdiv\" id=\"3fafeb89-5202-4202-a075-97ac9be99665\"></div>\n",
       "</div>"
      ]
     },
     "metadata": {},
     "output_type": "display_data"
    },
    {
     "data": {
      "application/javascript": [
       "(function(root) {\n",
       "  function embed_document(root) {\n",
       "    \n",
       "  var docs_json = {\"23dbbade-86d4-480f-9b45-33b9e939be82\":{\"roots\":{\"references\":[{\"attributes\":{\"bottom_units\":\"screen\",\"fill_alpha\":{\"value\":0.5},\"fill_color\":{\"value\":\"lightgrey\"},\"left_units\":\"screen\",\"level\":\"overlay\",\"line_alpha\":{\"value\":1.0},\"line_color\":{\"value\":\"black\"},\"line_dash\":[4,4],\"line_width\":{\"value\":2},\"plot\":null,\"render_mode\":\"css\",\"right_units\":\"screen\",\"top_units\":\"screen\"},\"id\":\"7a5a8447-0881-4ace-aa84-085da10261a2\",\"type\":\"BoxAnnotation\"},{\"attributes\":{},\"id\":\"dac3583a-13b1-4068-be65-4dd6b9abd5ec\",\"type\":\"BasicTicker\"},{\"attributes\":{\"dimension\":1,\"plot\":{\"id\":\"06129670-e995-44f1-a876-793cf062ec2e\",\"subtype\":\"Figure\",\"type\":\"Plot\"},\"ticker\":{\"id\":\"dac3583a-13b1-4068-be65-4dd6b9abd5ec\",\"type\":\"BasicTicker\"}},\"id\":\"f72132b0-c0e7-41b1-997b-505c24ac54a9\",\"type\":\"Grid\"},{\"attributes\":{\"children\":[{\"id\":\"71db5ca4-07fb-467a-825a-f0507e19eb37\",\"subtype\":\"Figure\",\"type\":\"Plot\"},{\"id\":\"64f4a49a-0ca1-4bd3-bd89-53f22a021cb9\",\"subtype\":\"Figure\",\"type\":\"Plot\"},{\"id\":\"06129670-e995-44f1-a876-793cf062ec2e\",\"subtype\":\"Figure\",\"type\":\"Plot\"}]},\"id\":\"f6667bfc-235f-46ea-a190-84aace59b38f\",\"type\":\"Row\"},{\"attributes\":{},\"id\":\"0e7c351c-18fb-4598-8dff-43d7a550dbcd\",\"type\":\"PanTool\"},{\"attributes\":{\"fill_alpha\":{\"value\":0.5},\"fill_color\":{\"value\":\"lightgrey\"},\"level\":\"overlay\",\"line_alpha\":{\"value\":1.0},\"line_color\":{\"value\":\"black\"},\"line_dash\":[4,4],\"line_width\":{\"value\":2},\"plot\":null,\"xs_units\":\"screen\",\"ys_units\":\"screen\"},\"id\":\"6dbaaaa9-6755-4e3e-befe-2fc3aed9533c\",\"type\":\"PolyAnnotation\"},{\"attributes\":{\"source\":{\"id\":\"ef465e8e-26d3-4915-868f-8d751fd8521d\",\"type\":\"ColumnDataSource\"}},\"id\":\"b5d10061-23f9-4893-bea3-0b2bc02d1669\",\"type\":\"CDSView\"},{\"attributes\":{},\"id\":\"46b9ba0e-b12a-436a-923f-e8c11e055b29\",\"type\":\"WheelZoomTool\"},{\"attributes\":{\"formatter\":{\"id\":\"12e7607a-ba33-4a29-9c5f-94201b68eb6b\",\"type\":\"BasicTickFormatter\"},\"plot\":{\"id\":\"06129670-e995-44f1-a876-793cf062ec2e\",\"subtype\":\"Figure\",\"type\":\"Plot\"},\"ticker\":{\"id\":\"dac3583a-13b1-4068-be65-4dd6b9abd5ec\",\"type\":\"BasicTicker\"}},\"id\":\"f1091d7f-d9bf-4764-b2d8-2b7fd7e0e974\",\"type\":\"LinearAxis\"},{\"attributes\":{\"overlay\":{\"id\":\"7a5a8447-0881-4ace-aa84-085da10261a2\",\"type\":\"BoxAnnotation\"}},\"id\":\"8c958c35-35a9-4fe0-9363-aca1e627f3f8\",\"type\":\"BoxZoomTool\"},{\"attributes\":{\"fill_alpha\":{\"value\":0.1},\"fill_color\":{\"value\":\"#1f77b4\"},\"line_alpha\":{\"value\":0.1},\"line_color\":{\"value\":\"#1f77b4\"},\"x\":{\"field\":\"yr\"},\"y\":{\"field\":\"mpg\"}},\"id\":\"9dc8f781-b54f-48e5-89c1-2ea6f6aa319c\",\"type\":\"Circle\"},{\"attributes\":{\"callback\":null,\"overlay\":{\"id\":\"4076e2ab-3fce-41f0-a0a3-b2afeb908807\",\"type\":\"BoxAnnotation\"},\"renderers\":[{\"id\":\"5f0ffeb0-20a2-4bbd-a45d-0b6e110b7f52\",\"type\":\"GlyphRenderer\"}]},\"id\":\"5e7585d5-d2c1-433b-a2e4-8846c09ea11d\",\"type\":\"BoxSelectTool\"},{\"attributes\":{\"callback\":null,\"column_names\":[\"mpg\",\"cyl\",\"displ\",\"hp\",\"weight\",\"accel\",\"yr\",\"origin\",\"name\",\"index\"],\"data\":{\"accel\":{\"__ndarray__\":\"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\",\"dtype\":\"float64\",\"shape\":[392]},\"cyl\":[8,8,8,8,8,8,8,8,8,8,8,8,8,8,4,6,6,6,4,4,4,4,4,4,6,8,8,8,8,4,4,4,6,6,6,6,6,8,8,8,8,8,8,8,6,4,6,6,4,4,4,4,4,4,4,4,4,4,4,4,4,8,8,8,8,8,8,8,8,8,3,8,8,8,8,4,4,4,4,4,4,4,4,4,8,8,8,8,8,8,8,8,8,8,8,8,6,6,6,6,6,4,8,8,8,8,6,4,4,4,3,4,6,4,8,8,4,4,4,4,8,4,6,8,6,6,6,4,4,4,4,6,6,6,8,8,8,8,8,4,4,4,4,4,4,4,4,4,4,4,6,6,6,6,8,8,8,8,6,6,6,6,6,8,8,4,4,6,4,4,4,4,6,4,6,4,4,4,4,4,4,4,4,4,4,8,8,8,8,6,6,6,6,4,4,4,4,6,6,6,6,4,4,4,4,4,8,4,6,6,8,8,8,8,4,4,4,4,4,8,8,8,8,6,6,6,6,8,8,8,8,4,4,4,4,4,4,4,4,6,4,3,4,4,4,4,4,8,8,8,6,6,6,4,6,6,6,6,6,6,8,6,8,8,4,4,4,4,4,4,4,4,5,6,4,6,4,4,6,6,4,6,6,8,8,8,8,8,8,8,8,4,4,4,4,5,8,4,8,4,4,4,4,4,6,6,4,4,4,4,4,4,4,4,6,4,4,4,4,4,4,4,4,4,4,5,4,4,4,4,6,3,4,4,4,4,4,6,4,4,4,4,4,4,4,4,4,4,4,4,4,4,4,4,4,6,6,6,6,8,6,6,4,4,4,4,4,4,4,4,4,4,4,4,4,4,4,4,4,4,6,6,4,6,4,4,4,4,4,4,4,4],\"displ\":{\"__ndarray__\":\"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\",\"dtype\":\"float64\",\"shape\":[392]},\"hp\":[130,165,150,150,140,198,220,215,225,190,170,160,150,225,95,95,97,85,88,46,87,90,95,113,90,215,200,210,193,88,90,95,100,105,100,88,100,165,175,153,150,180,170,175,110,72,100,88,86,90,70,76,65,69,60,70,95,80,54,90,86,165,175,150,153,150,208,155,160,190,97,150,130,140,150,112,76,87,69,86,92,97,80,88,175,150,145,137,150,198,150,158,150,215,225,175,105,100,100,88,95,46,150,167,170,180,100,88,72,94,90,85,107,90,145,230,49,75,91,112,150,110,122,180,95,100,100,67,80,65,75,100,110,105,140,150,150,140,150,83,67,78,52,61,75,75,75,97,93,67,95,105,72,72,170,145,150,148,110,105,110,95,110,110,129,75,83,100,78,96,71,97,97,70,90,95,88,98,115,53,86,81,92,79,83,140,150,120,152,100,105,81,90,52,60,70,53,100,78,110,95,71,70,75,72,102,150,88,108,120,180,145,130,150,68,80,58,96,70,145,110,145,130,110,105,100,98,180,170,190,149,78,88,75,89,63,83,67,78,97,110,110,48,66,52,70,60,110,140,139,105,95,85,88,100,90,105,85,110,120,145,165,139,140,68,95,97,75,95,105,85,97,103,125,115,133,71,68,115,85,88,90,110,130,129,138,135,155,142,125,150,71,65,80,80,77,125,71,90,70,70,65,69,90,115,115,90,76,60,70,65,90,88,90,90,78,90,75,92,75,65,105,65,48,48,67,67,67,67,62,132,100,88,72,84,84,92,110,84,58,64,60,67,65,62,68,63,65,65,74,75,75,100,74,80,76,116,120,110,105,88,85,88,88,88,85,84,90,92,74,68,68,63,70,88,75,70,67,67,67,110,85,92,112,96,84,90,86,52,84,79,82],\"index\":[0,1,2,3,4,5,6,7,8,9,10,11,12,13,14,15,16,17,18,19,20,21,22,23,24,25,26,27,28,29,30,31,32,33,34,35,36,37,38,39,40,41,42,43,44,45,46,47,48,49,50,51,52,53,54,55,56,57,58,59,60,61,62,63,64,65,66,67,68,69,70,71,72,73,74,75,76,77,78,79,80,81,82,83,84,85,86,87,88,89,90,91,92,93,94,95,96,97,98,99,100,101,102,103,104,105,106,107,108,109,110,111,112,113,114,115,116,117,118,119,120,121,122,123,124,125,126,127,128,129,130,131,132,133,134,135,136,137,138,139,140,141,142,143,144,145,146,147,148,149,150,151,152,153,154,155,156,157,158,159,160,161,162,163,164,165,166,167,168,169,170,171,172,173,174,175,176,177,178,179,180,181,182,183,184,185,186,187,188,189,190,191,192,193,194,195,196,197,198,199,200,201,202,203,204,205,206,207,208,209,210,211,212,213,214,215,216,217,218,219,220,221,222,223,224,225,226,227,228,229,230,231,232,233,234,235,236,237,238,239,240,241,242,243,244,245,246,247,248,249,250,251,252,253,254,255,256,257,258,259,260,261,262,263,264,265,266,267,268,269,270,271,272,273,274,275,276,277,278,279,280,281,282,283,284,285,286,287,288,289,290,291,292,293,294,295,296,297,298,299,300,301,302,303,304,305,306,307,308,309,310,311,312,313,314,315,316,317,318,319,320,321,322,323,324,325,326,327,328,329,330,331,332,333,334,335,336,337,338,339,340,341,342,343,344,345,346,347,348,349,350,351,352,353,354,355,356,357,358,359,360,361,362,363,364,365,366,367,368,369,370,371,372,373,374,375,376,377,378,379,380,381,382,383,384,385,386,387,388,389,390,391],\"mpg\":{\"__ndarray__\":\"AAAAAAAAMkAAAAAAAAAuQAAAAAAAADJAAAAAAAAAMEAAAAAAAAAxQAAAAAAAAC5AAAAAAAAALEAAAAAAAAAsQAAAAAAAACxAAAAAAAAALkAAAAAAAAAuQAAAAAAAACxAAAAAAAAALkAAAAAAAAAsQAAAAAAAADhAAAAAAAAANkAAAAAAAAAyQAAAAAAAADVAAAAAAAAAO0AAAAAAAAA6QAAAAAAAADlAAAAAAAAAOEAAAAAAAAA5QAAAAAAAADpAAAAAAAAANUAAAAAAAAAkQAAAAAAAACRAAAAAAAAAJkAAAAAAAAAiQAAAAAAAADtAAAAAAAAAPEAAAAAAAAA5QAAAAAAAADNAAAAAAAAAMEAAAAAAAAAxQAAAAAAAADNAAAAAAAAAMkAAAAAAAAAsQAAAAAAAACxAAAAAAAAALEAAAAAAAAAsQAAAAAAAAChAAAAAAAAAKkAAAAAAAAAqQAAAAAAAADJAAAAAAAAANkAAAAAAAAAzQAAAAAAAADJAAAAAAAAAN0AAAAAAAAA8QAAAAAAAAD5AAAAAAAAAPkAAAAAAAAA/QAAAAAAAgEFAAAAAAAAAO0AAAAAAAAA6QAAAAAAAADhAAAAAAAAAOUAAAAAAAAA3QAAAAAAAADRAAAAAAAAANUAAAAAAAAAqQAAAAAAAACxAAAAAAAAALkAAAAAAAAAsQAAAAAAAADFAAAAAAAAAJkAAAAAAAAAqQAAAAAAAAChAAAAAAAAAKkAAAAAAAAAzQAAAAAAAAC5AAAAAAAAAKkAAAAAAAAAqQAAAAAAAACxAAAAAAAAAMkAAAAAAAAA2QAAAAAAAADVAAAAAAAAAOkAAAAAAAAA2QAAAAAAAADxAAAAAAAAAN0AAAAAAAAA8QAAAAAAAADtAAAAAAAAAKkAAAAAAAAAsQAAAAAAAACpAAAAAAAAALEAAAAAAAAAuQAAAAAAAAChAAAAAAAAAKkAAAAAAAAAqQAAAAAAAACxAAAAAAAAAKkAAAAAAAAAoQAAAAAAAACpAAAAAAAAAMkAAAAAAAAAwQAAAAAAAADJAAAAAAAAAMkAAAAAAAAA3QAAAAAAAADpAAAAAAAAAJkAAAAAAAAAoQAAAAAAAACpAAAAAAAAAKEAAAAAAAAAyQAAAAAAAADRAAAAAAAAANUAAAAAAAAA2QAAAAAAAADJAAAAAAAAAM0AAAAAAAAA1QAAAAAAAADpAAAAAAAAALkAAAAAAAAAwQAAAAAAAAD1AAAAAAAAAOEAAAAAAAAA0QAAAAAAAADNAAAAAAAAALkAAAAAAAAA4QAAAAAAAADRAAAAAAAAAJkAAAAAAAAA0QAAAAAAAADNAAAAAAAAALkAAAAAAAAA/QAAAAAAAADpAAAAAAAAAQEAAAAAAAAA5QAAAAAAAADBAAAAAAAAAMEAAAAAAAAAyQAAAAAAAADBAAAAAAAAAKkAAAAAAAAAsQAAAAAAAACxAAAAAAAAALEAAAAAAAAA9QAAAAAAAADpAAAAAAAAAOkAAAAAAAAA/QAAAAAAAAEBAAAAAAAAAPEAAAAAAAAA4QAAAAAAAADpAAAAAAAAAOEAAAAAAAAA6QAAAAAAAAD9AAAAAAAAAM0AAAAAAAAAyQAAAAAAAAC5AAAAAAAAALkAAAAAAAAAwQAAAAAAAAC5AAAAAAAAAMEAAAAAAAAAsQAAAAAAAADFAAAAAAAAAMEAAAAAAAAAuQAAAAAAAADJAAAAAAAAANUAAAAAAAAA0QAAAAAAAACpAAAAAAAAAPUAAAAAAAAA3QAAAAAAAADRAAAAAAAAAN0AAAAAAAAA4QAAAAAAAADlAAAAAAAAAOEAAAAAAAAAyQAAAAAAAAD1AAAAAAAAAM0AAAAAAAAA3QAAAAAAAADdAAAAAAAAANkAAAAAAAAA5QAAAAAAAgEBAAAAAAAAAPEAAAAAAAAA5QAAAAAAAADlAAAAAAAAAOkAAAAAAAAA7QAAAAAAAgDFAAAAAAAAAMEAAAAAAAAAvQAAAAAAAAC1AAAAAAAAANkAAAAAAAAA2QAAAAAAAADhAAAAAAACANkAAAAAAAAA9QAAAAAAAgDhAAAAAAAAAPUAAAAAAAIBAQAAAAAAAADRAAAAAAAAAMkAAAAAAAIAyQAAAAAAAgDFAAAAAAACAPUAAAAAAAABAQAAAAAAAADxAAAAAAACAOkAAAAAAAAA0QAAAAAAAACpAAAAAAAAAM0AAAAAAAAAzQAAAAAAAgDBAAAAAAACAMEAAAAAAAAAqQAAAAAAAACpAAAAAAAAAKkAAAAAAAIA/QAAAAAAAAD5AAAAAAAAAQkAAAAAAAIA5QAAAAAAAwEBAAAAAAACAMUAAAAAAAAAxQAAAAAAAAC9AAAAAAAAALkAAAAAAAIAxQAAAAAAAgDRAAAAAAAAAM0AAAAAAAIAyQAAAAAAAADBAAAAAAAAAL0AAAAAAAAAvQAAAAAAAADBAAAAAAAAAPUAAAAAAAIA4QAAAAAAAADpAAAAAAACAOUAAAAAAAIA+QAAAAAAAwEBAAAAAAAAAPkAAAAAAAIA+QAAAAAAAADZAAAAAAACANUAAAAAAAIA1QM3MzMzMjEVAzczMzMwMQkBmZmZmZmZAQDMzMzMzs0NAzczMzMwMQkBmZmZmZuYzQGZmZmZmZjNAMzMzMzMzNEAzMzMzMzMzQAAAAAAAgDRAMzMzMzMzNECamZmZmRk5QAAAAAAAgDRAZmZmZmZmM0CamZmZmZk0QM3MzMzMzDRAmpmZmZmZMkCamZmZmRkyQDMzMzMzMzNAMzMzMzOzMUCamZmZmRkyQAAAAAAAgDFAAAAAAAAAPkAAAAAAAIA7QDMzMzMzMztAZmZmZmbmPkCamZmZmRk1QDMzMzMzMzdAzczMzMzMN0BmZmZmZuY3QM3MzMzMTDRAAAAAAAAAMUCamZmZmZk1QDMzMzMzMzBAAAAAAACAP0AAAAAAAIA9QAAAAAAAgDVAzczMzMzMM0DNzMzMzEw2QDMzMzMzMzRAmpmZmZmZNEAAAAAAAAAxQJqZmZmZmTFAAAAAAACAMEAzMzMzMzMyQGZmZmZm5jBAAAAAAAAAL0AzMzMzMzMzQAAAAAAAgDJAZmZmZmbmP0DNzMzMzAxBQJqZmZmZ2UFAZmZmZmZmO0BmZmZmZmY5QAAAAAAAADdAMzMzMzMzO0BmZmZmZuY3QJqZmZmZGUFAAAAAAABAQUDNzMzMzMw/QGZmZmZmpkJAZmZmZmZmPEDNzMzMzMw8QM3MzMzMzDpAAAAAAADAQEAAAAAAAMBEQM3MzMzMDENAzczMzMwMQECamZmZmZlCQAAAAAAAADxAZmZmZmZmOkDNzMzMzEw4QJqZmZmZGTNAZmZmZmYmQUDNzMzMzMw9QM3MzMzMTD9AAAAAAACAQkCamZmZmRlAQM3MzMzMTEdAZmZmZmbmO0BmZmZmZmZEQGZmZmZmJkZAMzMzMzOzRUAzMzMzMzNCQAAAAAAAAD5AzczMzMxMRkBmZmZmZuZAQM3MzMzMzD1AmpmZmZlZQEAzMzMzM7M3QAAAAAAAgEFAMzMzMzMzQEAzMzMzMzM7QJqZmZmZmTpAzczMzMzMOUAAAAAAAIA3QAAAAAAAAD5AzczMzMyMQ0AAAAAAAIBDQM3MzMzMjEFAZmZmZmYmQEAAAAAAAIBCQJqZmZmZ2UJAzczMzMwMQUCamZmZmVlBQDMzMzMzM0FAZmZmZmbmPUAAAAAAAIBAQJqZmZmZ2UBAMzMzMzMzQEAzMzMzM3NAQJqZmZmZmT9AmpmZmZkZPEAzMzMzM7M+QGZmZmZmZjlAMzMzMzMzOEBmZmZmZmY2QJqZmZmZmTpAMzMzMzMzNECamZmZmZkxQAAAAAAAADxAAAAAAAAAO0AAAAAAAABBQAAAAAAAAD9AAAAAAAAAPUAAAAAAAAA7QAAAAAAAADhAAAAAAAAAQkAAAAAAAIBCQAAAAAAAAD9AAAAAAAAAQ0AAAAAAAABCQAAAAAAAAEJAAAAAAAAAQkAAAAAAAABBQAAAAAAAAENAAAAAAAAAQEAAAAAAAABDQAAAAAAAADlAAAAAAAAAQ0AAAAAAAAA6QAAAAAAAADZAAAAAAAAAQEAAAAAAAABCQAAAAAAAADtAAAAAAAAAO0AAAAAAAABGQAAAAAAAAEBAAAAAAAAAPEAAAAAAAAA/QA==\",\"dtype\":\"float64\",\"shape\":[392]},\"name\":[\"chevrolet chevelle malibu\",\"buick skylark 320\",\"plymouth satellite\",\"amc rebel sst\",\"ford torino\",\"ford galaxie 500\",\"chevrolet impala\",\"plymouth fury iii\",\"pontiac catalina\",\"amc ambassador dpl\",\"dodge challenger se\",\"plymouth 'cuda 340\",\"chevrolet monte carlo\",\"buick estate wagon (sw)\",\"toyota corona mark ii\",\"plymouth duster\",\"amc hornet\",\"ford maverick\",\"datsun pl510\",\"volkswagen 1131 deluxe sedan\",\"peugeot 504\",\"audi 100 ls\",\"saab 99e\",\"bmw 2002\",\"amc gremlin\",\"ford f250\",\"chevy c20\",\"dodge d200\",\"hi 1200d\",\"datsun pl510\",\"chevrolet vega 2300\",\"toyota corona\",\"amc gremlin\",\"plymouth satellite custom\",\"chevrolet chevelle malibu\",\"ford torino 500\",\"amc matador\",\"chevrolet impala\",\"pontiac catalina brougham\",\"ford galaxie 500\",\"plymouth fury iii\",\"dodge monaco (sw)\",\"ford country squire (sw)\",\"pontiac safari (sw)\",\"amc hornet sportabout (sw)\",\"chevrolet vega (sw)\",\"pontiac firebird\",\"ford mustang\",\"mercury capri 2000\",\"opel 1900\",\"peugeot 304\",\"fiat 124b\",\"toyota corolla 1200\",\"datsun 1200\",\"volkswagen model 111\",\"plymouth cricket\",\"toyota corona hardtop\",\"dodge colt hardtop\",\"volkswagen type 3\",\"chevrolet vega\",\"ford pinto runabout\",\"chevrolet impala\",\"pontiac catalina\",\"plymouth fury iii\",\"ford galaxie 500\",\"amc ambassador sst\",\"mercury marquis\",\"buick lesabre custom\",\"oldsmobile delta 88 royale\",\"chrysler newport royal\",\"mazda rx2 coupe\",\"amc matador (sw)\",\"chevrolet chevelle concours (sw)\",\"ford gran torino (sw)\",\"plymouth satellite custom (sw)\",\"volvo 145e (sw)\",\"volkswagen 411 (sw)\",\"peugeot 504 (sw)\",\"renault 12 (sw)\",\"ford pinto (sw)\",\"datsun 510 (sw)\",\"toyouta corona mark ii (sw)\",\"dodge colt (sw)\",\"toyota corolla 1600 (sw)\",\"buick century 350\",\"amc matador\",\"chevrolet malibu\",\"ford gran torino\",\"dodge coronet custom\",\"mercury marquis brougham\",\"chevrolet caprice classic\",\"ford ltd\",\"plymouth fury gran sedan\",\"chrysler new yorker brougham\",\"buick electra 225 custom\",\"amc ambassador brougham\",\"plymouth valiant\",\"chevrolet nova custom\",\"amc hornet\",\"ford maverick\",\"plymouth duster\",\"volkswagen super beetle\",\"chevrolet impala\",\"ford country\",\"plymouth custom suburb\",\"oldsmobile vista cruiser\",\"amc gremlin\",\"toyota carina\",\"chevrolet vega\",\"datsun 610\",\"maxda rx3\",\"ford pinto\",\"mercury capri v6\",\"fiat 124 sport coupe\",\"chevrolet monte carlo s\",\"pontiac grand prix\",\"fiat 128\",\"opel manta\",\"audi 100ls\",\"volvo 144ea\",\"dodge dart custom\",\"saab 99le\",\"toyota mark ii\",\"oldsmobile omega\",\"plymouth duster\",\"amc hornet\",\"chevrolet nova\",\"datsun b210\",\"ford pinto\",\"toyota corolla 1200\",\"chevrolet vega\",\"chevrolet chevelle malibu classic\",\"amc matador\",\"plymouth satellite sebring\",\"ford gran torino\",\"buick century luxus (sw)\",\"dodge coronet custom (sw)\",\"ford gran torino (sw)\",\"amc matador (sw)\",\"audi fox\",\"volkswagen dasher\",\"opel manta\",\"toyota corona\",\"datsun 710\",\"dodge colt\",\"fiat 128\",\"fiat 124 tc\",\"honda civic\",\"subaru\",\"fiat x1.9\",\"plymouth valiant custom\",\"chevrolet nova\",\"mercury monarch\",\"ford maverick\",\"pontiac catalina\",\"chevrolet bel air\",\"plymouth grand fury\",\"ford ltd\",\"buick century\",\"chevroelt chevelle malibu\",\"amc matador\",\"plymouth fury\",\"buick skyhawk\",\"chevrolet monza 2+2\",\"ford mustang ii\",\"toyota corolla\",\"ford pinto\",\"amc gremlin\",\"pontiac astro\",\"toyota corona\",\"volkswagen dasher\",\"datsun 710\",\"ford pinto\",\"volkswagen rabbit\",\"amc pacer\",\"audi 100ls\",\"peugeot 504\",\"volvo 244dl\",\"saab 99le\",\"honda civic cvcc\",\"fiat 131\",\"opel 1900\",\"capri ii\",\"dodge colt\",\"renault 12tl\",\"chevrolet chevelle malibu classic\",\"dodge coronet brougham\",\"amc matador\",\"ford gran torino\",\"plymouth valiant\",\"chevrolet nova\",\"ford maverick\",\"amc hornet\",\"chevrolet chevette\",\"chevrolet woody\",\"vw rabbit\",\"honda civic\",\"dodge aspen se\",\"ford granada ghia\",\"pontiac ventura sj\",\"amc pacer d/l\",\"volkswagen rabbit\",\"datsun b-210\",\"toyota corolla\",\"ford pinto\",\"volvo 245\",\"plymouth volare premier v8\",\"peugeot 504\",\"toyota mark ii\",\"mercedes-benz 280s\",\"cadillac seville\",\"chevy c10\",\"ford f108\",\"dodge d100\",\"honda accord cvcc\",\"buick opel isuzu deluxe\",\"renault 5 gtl\",\"plymouth arrow gs\",\"datsun f-10 hatchback\",\"chevrolet caprice classic\",\"oldsmobile cutlass supreme\",\"dodge monaco brougham\",\"mercury cougar brougham\",\"chevrolet concours\",\"buick skylark\",\"plymouth volare custom\",\"ford granada\",\"pontiac grand prix lj\",\"chevrolet monte carlo landau\",\"chrysler cordoba\",\"ford thunderbird\",\"volkswagen rabbit custom\",\"pontiac sunbird coupe\",\"toyota corolla liftback\",\"ford mustang ii 2+2\",\"chevrolet chevette\",\"dodge colt m/m\",\"subaru dl\",\"volkswagen dasher\",\"datsun 810\",\"bmw 320i\",\"mazda rx-4\",\"volkswagen rabbit custom diesel\",\"ford fiesta\",\"mazda glc deluxe\",\"datsun b210 gx\",\"honda civic cvcc\",\"oldsmobile cutlass salon brougham\",\"dodge diplomat\",\"mercury monarch ghia\",\"pontiac phoenix lj\",\"chevrolet malibu\",\"ford fairmont (auto)\",\"ford fairmont (man)\",\"plymouth volare\",\"amc concord\",\"buick century special\",\"mercury zephyr\",\"dodge aspen\",\"amc concord d/l\",\"chevrolet monte carlo landau\",\"buick regal sport coupe (turbo)\",\"ford futura\",\"dodge magnum xe\",\"chevrolet chevette\",\"toyota corona\",\"datsun 510\",\"dodge omni\",\"toyota celica gt liftback\",\"plymouth sapporo\",\"oldsmobile starfire sx\",\"datsun 200-sx\",\"audi 5000\",\"volvo 264gl\",\"saab 99gle\",\"peugeot 604sl\",\"volkswagen scirocco\",\"honda accord lx\",\"pontiac lemans v6\",\"mercury zephyr 6\",\"ford fairmont 4\",\"amc concord dl 6\",\"dodge aspen 6\",\"chevrolet caprice classic\",\"ford ltd landau\",\"mercury grand marquis\",\"dodge st. regis\",\"buick estate wagon (sw)\",\"ford country squire (sw)\",\"chevrolet malibu classic (sw)\",\"chrysler lebaron town @ country (sw)\",\"vw rabbit custom\",\"maxda glc deluxe\",\"dodge colt hatchback custom\",\"amc spirit dl\",\"mercedes benz 300d\",\"cadillac eldorado\",\"peugeot 504\",\"oldsmobile cutlass salon brougham\",\"plymouth horizon\",\"plymouth horizon tc3\",\"datsun 210\",\"fiat strada custom\",\"buick skylark limited\",\"chevrolet citation\",\"oldsmobile omega brougham\",\"pontiac phoenix\",\"vw rabbit\",\"toyota corolla tercel\",\"chevrolet chevette\",\"datsun 310\",\"chevrolet citation\",\"ford fairmont\",\"amc concord\",\"dodge aspen\",\"audi 4000\",\"toyota corona liftback\",\"mazda 626\",\"datsun 510 hatchback\",\"toyota corolla\",\"mazda glc\",\"dodge colt\",\"datsun 210\",\"vw rabbit c (diesel)\",\"vw dasher (diesel)\",\"audi 5000s (diesel)\",\"mercedes-benz 240d\",\"honda civic 1500 gl\",\"subaru dl\",\"vokswagen rabbit\",\"datsun 280-zx\",\"mazda rx-7 gs\",\"triumph tr7 coupe\",\"honda accord\",\"plymouth reliant\",\"buick skylark\",\"dodge aries wagon (sw)\",\"chevrolet citation\",\"plymouth reliant\",\"toyota starlet\",\"plymouth champ\",\"honda civic 1300\",\"subaru\",\"datsun 210 mpg\",\"toyota tercel\",\"mazda glc 4\",\"plymouth horizon 4\",\"ford escort 4w\",\"ford escort 2h\",\"volkswagen jetta\",\"honda prelude\",\"toyota corolla\",\"datsun 200sx\",\"mazda 626\",\"peugeot 505s turbo diesel\",\"volvo diesel\",\"toyota cressida\",\"datsun 810 maxima\",\"buick century\",\"oldsmobile cutlass ls\",\"ford granada gl\",\"chrysler lebaron salon\",\"chevrolet cavalier\",\"chevrolet cavalier wagon\",\"chevrolet cavalier 2-door\",\"pontiac j2000 se hatchback\",\"dodge aries se\",\"pontiac phoenix\",\"ford fairmont futura\",\"volkswagen rabbit l\",\"mazda glc custom l\",\"mazda glc custom\",\"plymouth horizon miser\",\"mercury lynx l\",\"nissan stanza xe\",\"honda accord\",\"toyota corolla\",\"honda civic\",\"honda civic (auto)\",\"datsun 310 gx\",\"buick century limited\",\"oldsmobile cutlass ciera (diesel)\",\"chrysler lebaron medallion\",\"ford granada l\",\"toyota celica gt\",\"dodge charger 2.2\",\"chevrolet camaro\",\"ford mustang gl\",\"vw pickup\",\"dodge rampage\",\"ford ranger\",\"chevy s-10\"],\"origin\":[1,1,1,1,1,1,1,1,1,1,1,1,1,1,3,1,1,1,3,2,2,2,2,2,1,1,1,1,1,3,1,3,1,1,1,1,1,1,1,1,1,1,1,1,1,1,1,1,1,2,2,2,3,3,2,1,3,1,2,1,1,1,1,1,1,1,1,1,1,1,3,1,1,1,1,2,2,2,2,1,3,3,1,3,1,1,1,1,1,1,1,1,1,1,1,1,1,1,1,1,1,2,1,1,1,1,1,3,1,3,3,1,1,2,1,1,2,2,2,2,1,2,3,1,1,1,1,3,1,3,1,1,1,1,1,1,1,1,1,2,2,2,3,3,1,2,2,3,3,2,1,1,1,1,1,1,1,1,1,1,1,1,1,1,1,3,1,1,1,3,2,3,1,2,1,2,2,2,2,3,2,2,1,1,2,1,1,1,1,1,1,1,1,1,1,2,3,1,1,1,1,2,3,3,1,2,1,2,3,2,1,1,1,1,3,1,2,1,3,1,1,1,1,1,1,1,1,1,1,1,1,2,1,3,1,1,1,3,2,3,2,3,2,1,3,3,3,1,1,1,1,1,1,1,1,1,1,1,1,1,1,1,1,1,1,3,3,1,3,1,1,3,2,2,2,2,2,3,1,1,1,1,1,1,1,1,1,1,1,1,1,2,3,1,1,2,1,2,1,1,1,3,2,1,1,1,1,2,3,1,3,1,1,1,1,2,3,3,3,3,3,1,3,2,2,2,2,3,3,2,3,3,2,3,1,1,1,1,1,3,1,3,3,3,3,3,1,1,1,2,3,3,3,3,2,2,3,3,1,1,1,1,1,1,1,1,1,1,1,2,3,3,1,1,3,3,3,3,3,3,1,1,1,1,3,1,1,1,2,1,1,1],\"weight\":[3504,3693,3436,3433,3449,4341,4354,4312,4425,3850,3563,3609,3761,3086,2372,2833,2774,2587,2130,1835,2672,2430,2375,2234,2648,4615,4376,4382,4732,2130,2264,2228,2634,3439,3329,3302,3288,4209,4464,4154,4096,4955,4746,5140,2962,2408,3282,3139,2220,2123,2074,2065,1773,1613,1834,1955,2278,2126,2254,2408,2226,4274,4385,4135,4129,3672,4633,4502,4456,4422,2330,3892,4098,4294,4077,2933,2511,2979,2189,2395,2288,2506,2164,2100,4100,3672,3988,4042,3777,4952,4464,4363,4237,4735,4951,3821,3121,3278,2945,3021,2904,1950,4997,4906,4654,4499,2789,2279,2401,2379,2124,2310,2472,2265,4082,4278,1867,2158,2582,2868,3399,2660,2807,3664,3102,2901,3336,1950,2451,1836,2542,3781,3632,3613,4141,4699,4457,4638,4257,2219,1963,2300,1649,2003,2125,2108,2246,2489,2391,2000,3264,3459,3432,3158,4668,4440,4498,4657,3907,3897,3730,3785,3039,3221,3169,2171,2639,2914,2592,2702,2223,2545,2984,1937,3211,2694,2957,2945,2671,1795,2464,2220,2572,2255,2202,4215,4190,3962,4215,3233,3353,3012,3085,2035,2164,1937,1795,3651,3574,3645,3193,1825,1990,2155,2565,3150,3940,3270,2930,3820,4380,4055,3870,3755,2045,2155,1825,2300,1945,3880,4060,4140,4295,3520,3425,3630,3525,4220,4165,4325,4335,1940,2740,2265,2755,2051,2075,1985,2190,2815,2600,2720,1985,1800,1985,2070,1800,3365,3735,3570,3535,3155,2965,2720,3430,3210,3380,3070,3620,3410,3425,3445,3205,4080,2155,2560,2300,2230,2515,2745,2855,2405,2830,3140,2795,3410,1990,2135,3245,2990,2890,3265,3360,3840,3725,3955,3830,4360,4054,3605,3940,1925,1975,1915,2670,3530,3900,3190,3420,2200,2150,2020,2130,2670,2595,2700,2556,2144,1968,2120,2019,2678,2870,3003,3381,2188,2711,2542,2434,2265,2110,2800,2110,2085,2335,2950,3250,1850,2145,1845,2910,2420,2500,2290,2490,2635,2620,2725,2385,1755,1875,1760,2065,1975,2050,1985,2215,2045,2380,2190,2210,2350,2615,2635,3230,3160,2900,2930,3415,3725,3060,3465,2605,2640,2395,2575,2525,2735,2865,1980,2025,1970,2125,2125,2160,2205,2245,1965,1965,1995,2945,3015,2585,2835,2665,2370,2950,2790,2130,2295,2625,2720],\"yr\":[70,70,70,70,70,70,70,70,70,70,70,70,70,70,70,70,70,70,70,70,70,70,70,70,70,70,70,70,70,71,71,71,71,71,71,71,71,71,71,71,71,71,71,71,71,71,71,71,71,71,71,71,71,71,71,71,72,72,72,72,72,72,72,72,72,72,72,72,72,72,72,72,72,72,72,72,72,72,72,72,72,72,72,72,73,73,73,73,73,73,73,73,73,73,73,73,73,73,73,73,73,73,73,73,73,73,73,73,73,73,73,73,73,73,73,73,73,73,73,73,73,73,73,73,74,74,74,74,74,74,74,74,74,74,74,74,74,74,74,74,74,74,74,74,74,74,74,74,74,74,75,75,75,75,75,75,75,75,75,75,75,75,75,75,75,75,75,75,75,75,75,75,75,75,75,75,75,75,75,75,76,76,76,76,76,76,76,76,76,76,76,76,76,76,76,76,76,76,76,76,76,76,76,76,76,76,76,76,76,76,76,76,76,76,77,77,77,77,77,77,77,77,77,77,77,77,77,77,77,77,77,77,77,77,77,77,77,77,77,77,77,77,78,78,78,78,78,78,78,78,78,78,78,78,78,78,78,78,78,78,78,78,78,78,78,78,78,78,78,78,78,78,78,78,78,78,78,78,79,79,79,79,79,79,79,79,79,79,79,79,79,79,79,79,79,79,79,79,79,79,79,79,79,79,79,79,79,80,80,80,80,80,80,80,80,80,80,80,80,80,80,80,80,80,80,80,80,80,80,80,80,80,80,80,81,81,81,81,81,81,81,81,81,81,81,81,81,81,81,81,81,81,81,81,81,81,81,81,81,81,81,81,82,82,82,82,82,82,82,82,82,82,82,82,82,82,82,82,82,82,82,82,82,82,82,82,82,82,82,82,82,82]}},\"id\":\"ef465e8e-26d3-4915-868f-8d751fd8521d\",\"type\":\"ColumnDataSource\"},{\"attributes\":{\"callback\":null,\"overlay\":{\"id\":\"6dbaaaa9-6755-4e3e-befe-2fc3aed9533c\",\"type\":\"PolyAnnotation\"}},\"id\":\"943f402c-156f-4994-9b52-50566bf60b99\",\"type\":\"LassoSelectTool\"},{\"attributes\":{\"formatter\":{\"id\":\"b992a0d6-603d-450f-9d3b-f70dcde94e9e\",\"type\":\"BasicTickFormatter\"},\"plot\":{\"id\":\"71db5ca4-07fb-467a-825a-f0507e19eb37\",\"subtype\":\"Figure\",\"type\":\"Plot\"},\"ticker\":{\"id\":\"7af4d87d-b349-4922-8963-b0cc1c83754a\",\"type\":\"BasicTicker\"}},\"id\":\"1e3eacb9-982a-4140-8e32-c50fd73243c1\",\"type\":\"LinearAxis\"},{\"attributes\":{\"fill_alpha\":{\"value\":0.1},\"fill_color\":{\"value\":\"#1f77b4\"},\"line_alpha\":{\"value\":0.1},\"line_color\":{\"value\":\"#1f77b4\"},\"size\":{\"field\":\"cyl\",\"units\":\"screen\"},\"x\":{\"field\":\"mpg\"},\"y\":{\"field\":\"displ\"}},\"id\":\"ec78529a-7adb-4ca1-b16a-e9051b5d086b\",\"type\":\"Circle\"},{\"attributes\":{\"plot\":{\"id\":\"71db5ca4-07fb-467a-825a-f0507e19eb37\",\"subtype\":\"Figure\",\"type\":\"Plot\"},\"ticker\":{\"id\":\"7af4d87d-b349-4922-8963-b0cc1c83754a\",\"type\":\"BasicTicker\"}},\"id\":\"0a80f4b7-ec2c-412b-a288-40ab62c305e5\",\"type\":\"Grid\"},{\"attributes\":{\"data_source\":{\"id\":\"ef465e8e-26d3-4915-868f-8d751fd8521d\",\"type\":\"ColumnDataSource\"},\"glyph\":{\"id\":\"09fd5d68-a93e-4cc1-b9a1-8b053789129a\",\"type\":\"Circle\"},\"hover_glyph\":null,\"muted_glyph\":null,\"nonselection_glyph\":{\"id\":\"ec78529a-7adb-4ca1-b16a-e9051b5d086b\",\"type\":\"Circle\"},\"selection_glyph\":null,\"view\":{\"id\":\"ee78f477-5ecc-4a16-a648-0ac7e36a0250\",\"type\":\"CDSView\"}},\"id\":\"5f0ffeb0-20a2-4bbd-a45d-0b6e110b7f52\",\"type\":\"GlyphRenderer\"},{\"attributes\":{},\"id\":\"ee2eee33-4c22-49cd-9994-7edaa989f6e0\",\"type\":\"LinearScale\"},{\"attributes\":{\"bottom_units\":\"screen\",\"fill_alpha\":{\"value\":0.5},\"fill_color\":{\"value\":\"lightgrey\"},\"left_units\":\"screen\",\"level\":\"overlay\",\"line_alpha\":{\"value\":1.0},\"line_color\":{\"value\":\"black\"},\"line_dash\":[4,4],\"line_width\":{\"value\":2},\"plot\":null,\"render_mode\":\"css\",\"right_units\":\"screen\",\"top_units\":\"screen\"},\"id\":\"4076e2ab-3fce-41f0-a0a3-b2afeb908807\",\"type\":\"BoxAnnotation\"},{\"attributes\":{\"callback\":null},\"id\":\"58fb17f8-9837-4d20-b694-695204207d9e\",\"type\":\"DataRange1d\"},{\"attributes\":{\"source\":{\"id\":\"ef465e8e-26d3-4915-868f-8d751fd8521d\",\"type\":\"ColumnDataSource\"}},\"id\":\"ee78f477-5ecc-4a16-a648-0ac7e36a0250\",\"type\":\"CDSView\"},{\"attributes\":{},\"id\":\"ed6f0c65-8661-4458-a92e-71e9e19f0592\",\"type\":\"LinearScale\"},{\"attributes\":{\"bottom_units\":\"screen\",\"fill_alpha\":{\"value\":0.5},\"fill_color\":{\"value\":\"lightgrey\"},\"left_units\":\"screen\",\"level\":\"overlay\",\"line_alpha\":{\"value\":1.0},\"line_color\":{\"value\":\"black\"},\"line_dash\":[4,4],\"line_width\":{\"value\":2},\"plot\":null,\"render_mode\":\"css\",\"right_units\":\"screen\",\"top_units\":\"screen\"},\"id\":\"54e51e62-26c3-474a-b662-ca1896058caf\",\"type\":\"BoxAnnotation\"},{\"attributes\":{\"active_drag\":\"auto\",\"active_inspect\":\"auto\",\"active_scroll\":\"auto\",\"active_tap\":\"auto\",\"tools\":[{\"id\":\"fdc234ab-ed8d-4564-9884-a082ab914e6c\",\"type\":\"PanTool\"},{\"id\":\"bac84f00-5de8-4b06-a2dc-cc00ddde00ee\",\"type\":\"WheelZoomTool\"},{\"id\":\"14deabd4-1e2a-411b-b6f5-48dfbeaf16cd\",\"type\":\"BoxZoomTool\"},{\"id\":\"9d1fe152-03cf-4a6a-befc-139b06c7b527\",\"type\":\"BoxSelectTool\"},{\"id\":\"c55a7a41-d2ee-40b2-9ab5-434cdff783a0\",\"type\":\"LassoSelectTool\"}]},\"id\":\"33e0b718-71ed-4e6b-bb2a-b46344a8c3d0\",\"type\":\"Toolbar\"},{\"attributes\":{},\"id\":\"12e7607a-ba33-4a29-9c5f-94201b68eb6b\",\"type\":\"BasicTickFormatter\"},{\"attributes\":{\"callback\":null},\"id\":\"d5dd121c-8954-4f2a-ba32-77e6cd938578\",\"type\":\"DataRange1d\"},{\"attributes\":{},\"id\":\"535541e8-0a51-4a88-a6f1-d1b27b5e2e89\",\"type\":\"BasicTickFormatter\"},{\"attributes\":{\"plot\":null,\"text\":\"MPG by Year\"},\"id\":\"b3c6f915-2be0-42df-a7d6-0cb40a1a3bc7\",\"type\":\"Title\"},{\"attributes\":{\"below\":[{\"id\":\"ff1b7e3c-c41e-4089-925c-38251a5a0f8b\",\"type\":\"LinearAxis\"}],\"left\":[{\"id\":\"3e93194c-0487-4683-bf7f-66a563673a4f\",\"type\":\"LinearAxis\"}],\"plot_height\":300,\"plot_width\":300,\"renderers\":[{\"id\":\"ff1b7e3c-c41e-4089-925c-38251a5a0f8b\",\"type\":\"LinearAxis\"},{\"id\":\"cef5a3f9-db60-4a57-84f1-9cfb171708c0\",\"type\":\"Grid\"},{\"id\":\"3e93194c-0487-4683-bf7f-66a563673a4f\",\"type\":\"LinearAxis\"},{\"id\":\"90e662d8-81fd-4d4c-9cac-312ec87a3f82\",\"type\":\"Grid\"},{\"id\":\"b6e73212-c81e-4da6-90e3-52695a6ce61e\",\"type\":\"BoxAnnotation\"},{\"id\":\"63bceca9-2aa0-46c5-9b47-5829b3636e4d\",\"type\":\"BoxAnnotation\"},{\"id\":\"3b4269f1-b122-4606-b3af-f61f16702690\",\"type\":\"PolyAnnotation\"},{\"id\":\"6c6e943f-b3ad-4d33-8a19-24b27ccd8817\",\"type\":\"GlyphRenderer\"}],\"title\":{\"id\":\"c79ca8f4-a009-426b-950c-2356cfe4c50a\",\"type\":\"Title\"},\"toolbar\":{\"id\":\"dbc5c58e-e0ce-4261-b7b1-9725ed042db8\",\"type\":\"Toolbar\"},\"toolbar_location\":null,\"x_range\":{\"id\":\"a601fee5-c3a7-4aba-a5ed-d7340b384324\",\"type\":\"DataRange1d\"},\"x_scale\":{\"id\":\"e6f2f4c0-4690-4655-97a3-8ee1fd2989b7\",\"type\":\"LinearScale\"},\"y_range\":{\"id\":\"2bcc3ef4-7c11-4fd6-aa35-8d98c790c87d\",\"type\":\"DataRange1d\"},\"y_scale\":{\"id\":\"b307b60c-5d80-42f7-bbbd-c0ea8f547455\",\"type\":\"LinearScale\"}},\"id\":\"64f4a49a-0ca1-4bd3-bd89-53f22a021cb9\",\"subtype\":\"Figure\",\"type\":\"Plot\"},{\"attributes\":{},\"id\":\"7af4d87d-b349-4922-8963-b0cc1c83754a\",\"type\":\"BasicTicker\"},{\"attributes\":{\"fill_color\":{\"value\":\"blue\"},\"line_color\":{\"value\":\"blue\"},\"x\":{\"field\":\"yr\"},\"y\":{\"field\":\"mpg\"}},\"id\":\"08d18a1f-8958-4943-b728-307aa7153fed\",\"type\":\"Circle\"},{\"attributes\":{\"tools\":[{\"id\":\"fdc234ab-ed8d-4564-9884-a082ab914e6c\",\"type\":\"PanTool\"},{\"id\":\"bac84f00-5de8-4b06-a2dc-cc00ddde00ee\",\"type\":\"WheelZoomTool\"},{\"id\":\"14deabd4-1e2a-411b-b6f5-48dfbeaf16cd\",\"type\":\"BoxZoomTool\"},{\"id\":\"9d1fe152-03cf-4a6a-befc-139b06c7b527\",\"type\":\"BoxSelectTool\"},{\"id\":\"c55a7a41-d2ee-40b2-9ab5-434cdff783a0\",\"type\":\"LassoSelectTool\"},{\"id\":\"a72dd9ee-f337-4180-84a6-201b00f5c0d8\",\"type\":\"PanTool\"},{\"id\":\"0e2671a8-a2b8-40f4-a733-39d47869bbc1\",\"type\":\"WheelZoomTool\"},{\"id\":\"7e0b5f59-0a48-42aa-8455-adc2f6488732\",\"type\":\"BoxZoomTool\"},{\"id\":\"8423b47b-59bf-489a-acee-58c7a1d80ed6\",\"type\":\"BoxSelectTool\"},{\"id\":\"4286aa26-97a7-4b28-8df0-c56e0c84547a\",\"type\":\"LassoSelectTool\"},{\"id\":\"0e7c351c-18fb-4598-8dff-43d7a550dbcd\",\"type\":\"PanTool\"},{\"id\":\"46b9ba0e-b12a-436a-923f-e8c11e055b29\",\"type\":\"WheelZoomTool\"},{\"id\":\"8c958c35-35a9-4fe0-9363-aca1e627f3f8\",\"type\":\"BoxZoomTool\"},{\"id\":\"5e7585d5-d2c1-433b-a2e4-8846c09ea11d\",\"type\":\"BoxSelectTool\"},{\"id\":\"943f402c-156f-4994-9b52-50566bf60b99\",\"type\":\"LassoSelectTool\"}]},\"id\":\"5c38fa85-3fa4-4820-953f-c7dc991539ea\",\"type\":\"ProxyToolbar\"},{\"attributes\":{\"formatter\":{\"id\":\"6f0f77c5-e59c-487d-9423-b6c5483349d2\",\"type\":\"BasicTickFormatter\"},\"plot\":{\"id\":\"71db5ca4-07fb-467a-825a-f0507e19eb37\",\"subtype\":\"Figure\",\"type\":\"Plot\"},\"ticker\":{\"id\":\"34ac4ecd-fb7b-4e86-9b4a-278277533e65\",\"type\":\"BasicTicker\"}},\"id\":\"dcc722fa-a156-4732-948e-4875552848c7\",\"type\":\"LinearAxis\"},{\"attributes\":{\"toolbar\":{\"id\":\"5c38fa85-3fa4-4820-953f-c7dc991539ea\",\"type\":\"ProxyToolbar\"}},\"id\":\"3ef08693-92e3-4767-95ee-ed141461d415\",\"type\":\"ToolbarBox\"},{\"attributes\":{},\"id\":\"34ac4ecd-fb7b-4e86-9b4a-278277533e65\",\"type\":\"BasicTicker\"},{\"attributes\":{\"children\":[{\"id\":\"c8861ce8-9484-46cb-966f-ae98879ae97d\",\"type\":\"Column\"},{\"id\":\"3ef08693-92e3-4767-95ee-ed141461d415\",\"type\":\"ToolbarBox\"}]},\"id\":\"66183aa7-1183-4d8c-88bd-43261c74c7cf\",\"type\":\"Row\"},{\"attributes\":{\"dimension\":1,\"plot\":{\"id\":\"71db5ca4-07fb-467a-825a-f0507e19eb37\",\"subtype\":\"Figure\",\"type\":\"Plot\"},\"ticker\":{\"id\":\"34ac4ecd-fb7b-4e86-9b4a-278277533e65\",\"type\":\"BasicTicker\"}},\"id\":\"6b1fdb9d-94bd-48a8-aa0a-9cd66d6e0b66\",\"type\":\"Grid\"},{\"attributes\":{\"below\":[{\"id\":\"42819fdb-6e49-49b5-8ede-33210731f267\",\"type\":\"LinearAxis\"}],\"left\":[{\"id\":\"f1091d7f-d9bf-4764-b2d8-2b7fd7e0e974\",\"type\":\"LinearAxis\"}],\"plot_height\":300,\"plot_width\":300,\"renderers\":[{\"id\":\"42819fdb-6e49-49b5-8ede-33210731f267\",\"type\":\"LinearAxis\"},{\"id\":\"95d874b6-f150-40ab-9d20-cde3fc53b657\",\"type\":\"Grid\"},{\"id\":\"f1091d7f-d9bf-4764-b2d8-2b7fd7e0e974\",\"type\":\"LinearAxis\"},{\"id\":\"f72132b0-c0e7-41b1-997b-505c24ac54a9\",\"type\":\"Grid\"},{\"id\":\"7a5a8447-0881-4ace-aa84-085da10261a2\",\"type\":\"BoxAnnotation\"},{\"id\":\"4076e2ab-3fce-41f0-a0a3-b2afeb908807\",\"type\":\"BoxAnnotation\"},{\"id\":\"6dbaaaa9-6755-4e3e-befe-2fc3aed9533c\",\"type\":\"PolyAnnotation\"},{\"id\":\"5f0ffeb0-20a2-4bbd-a45d-0b6e110b7f52\",\"type\":\"GlyphRenderer\"}],\"title\":{\"id\":\"b35551c8-03d3-4fd0-9610-33a2b45957ae\",\"type\":\"Title\"},\"toolbar\":{\"id\":\"2e9d0346-a0ac-4ec6-890b-ba83e2f5f210\",\"type\":\"Toolbar\"},\"toolbar_location\":null,\"x_range\":{\"id\":\"f62bfa16-f50b-48e2-ba2b-ed598b3d712e\",\"type\":\"DataRange1d\"},\"x_scale\":{\"id\":\"2fabc074-9504-4922-a6a4-19ade1777cce\",\"type\":\"LinearScale\"},\"y_range\":{\"id\":\"658b7013-fc0b-4305-9671-ac3543554528\",\"type\":\"DataRange1d\"},\"y_scale\":{\"id\":\"cb451007-e3e2-4192-bfe5-9befd573ae61\",\"type\":\"LinearScale\"}},\"id\":\"06129670-e995-44f1-a876-793cf062ec2e\",\"subtype\":\"Figure\",\"type\":\"Plot\"},{\"attributes\":{},\"id\":\"fdc234ab-ed8d-4564-9884-a082ab914e6c\",\"type\":\"PanTool\"},{\"attributes\":{\"fill_alpha\":{\"value\":0.5},\"fill_color\":{\"value\":\"lightgrey\"},\"level\":\"overlay\",\"line_alpha\":{\"value\":1.0},\"line_color\":{\"value\":\"black\"},\"line_dash\":[4,4],\"line_width\":{\"value\":2},\"plot\":null,\"xs_units\":\"screen\",\"ys_units\":\"screen\"},\"id\":\"3b4269f1-b122-4606-b3af-f61f16702690\",\"type\":\"PolyAnnotation\"},{\"attributes\":{\"fill_alpha\":{\"value\":0.1},\"fill_color\":{\"value\":\"#1f77b4\"},\"line_alpha\":{\"value\":0.1},\"line_color\":{\"value\":\"#1f77b4\"},\"x\":{\"field\":\"hp\"},\"y\":{\"field\":\"displ\"}},\"id\":\"994eb2db-f898-4672-aa56-8b12ccffd606\",\"type\":\"Circle\"},{\"attributes\":{},\"id\":\"bac84f00-5de8-4b06-a2dc-cc00ddde00ee\",\"type\":\"WheelZoomTool\"},{\"attributes\":{\"fill_alpha\":{\"value\":0.5},\"fill_color\":{\"value\":\"lightgrey\"},\"level\":\"overlay\",\"line_alpha\":{\"value\":1.0},\"line_color\":{\"value\":\"black\"},\"line_dash\":[4,4],\"line_width\":{\"value\":2},\"plot\":null,\"xs_units\":\"screen\",\"ys_units\":\"screen\"},\"id\":\"10617717-def6-4993-af15-da94a5749d46\",\"type\":\"PolyAnnotation\"},{\"attributes\":{\"overlay\":{\"id\":\"54e51e62-26c3-474a-b662-ca1896058caf\",\"type\":\"BoxAnnotation\"}},\"id\":\"14deabd4-1e2a-411b-b6f5-48dfbeaf16cd\",\"type\":\"BoxZoomTool\"},{\"attributes\":{\"callback\":null,\"overlay\":{\"id\":\"187ec5f6-013b-46e4-9aaa-90c18d7a2573\",\"type\":\"BoxAnnotation\"},\"renderers\":[{\"id\":\"d4f9338c-c92b-4c0f-8d6e-6c3c63a4d491\",\"type\":\"GlyphRenderer\"}]},\"id\":\"9d1fe152-03cf-4a6a-befc-139b06c7b527\",\"type\":\"BoxSelectTool\"},{\"attributes\":{\"callback\":null,\"overlay\":{\"id\":\"10617717-def6-4993-af15-da94a5749d46\",\"type\":\"PolyAnnotation\"}},\"id\":\"c55a7a41-d2ee-40b2-9ab5-434cdff783a0\",\"type\":\"LassoSelectTool\"},{\"attributes\":{},\"id\":\"2fabc074-9504-4922-a6a4-19ade1777cce\",\"type\":\"LinearScale\"},{\"attributes\":{\"source\":{\"id\":\"ef465e8e-26d3-4915-868f-8d751fd8521d\",\"type\":\"ColumnDataSource\"}},\"id\":\"5a12975d-3ac0-49ef-a7f7-9db0ca2461e7\",\"type\":\"CDSView\"},{\"attributes\":{\"bottom_units\":\"screen\",\"fill_alpha\":{\"value\":0.5},\"fill_color\":{\"value\":\"lightgrey\"},\"left_units\":\"screen\",\"level\":\"overlay\",\"line_alpha\":{\"value\":1.0},\"line_color\":{\"value\":\"black\"},\"line_dash\":[4,4],\"line_width\":{\"value\":2},\"plot\":null,\"render_mode\":\"css\",\"right_units\":\"screen\",\"top_units\":\"screen\"},\"id\":\"187ec5f6-013b-46e4-9aaa-90c18d7a2573\",\"type\":\"BoxAnnotation\"},{\"attributes\":{},\"id\":\"6f0f77c5-e59c-487d-9423-b6c5483349d2\",\"type\":\"BasicTickFormatter\"},{\"attributes\":{},\"id\":\"b307b60c-5d80-42f7-bbbd-c0ea8f547455\",\"type\":\"LinearScale\"},{\"attributes\":{\"data_source\":{\"id\":\"ef465e8e-26d3-4915-868f-8d751fd8521d\",\"type\":\"ColumnDataSource\"},\"glyph\":{\"id\":\"08d18a1f-8958-4943-b728-307aa7153fed\",\"type\":\"Circle\"},\"hover_glyph\":null,\"muted_glyph\":null,\"nonselection_glyph\":{\"id\":\"9dc8f781-b54f-48e5-89c1-2ea6f6aa319c\",\"type\":\"Circle\"},\"selection_glyph\":null,\"view\":{\"id\":\"5a12975d-3ac0-49ef-a7f7-9db0ca2461e7\",\"type\":\"CDSView\"}},\"id\":\"d4f9338c-c92b-4c0f-8d6e-6c3c63a4d491\",\"type\":\"GlyphRenderer\"},{\"attributes\":{},\"id\":\"b992a0d6-603d-450f-9d3b-f70dcde94e9e\",\"type\":\"BasicTickFormatter\"},{\"attributes\":{\"callback\":null},\"id\":\"2bcc3ef4-7c11-4fd6-aa35-8d98c790c87d\",\"type\":\"DataRange1d\"},{\"attributes\":{\"callback\":null},\"id\":\"a601fee5-c3a7-4aba-a5ed-d7340b384324\",\"type\":\"DataRange1d\"},{\"attributes\":{\"plot\":null,\"text\":\"HP vs. Displacement\"},\"id\":\"c79ca8f4-a009-426b-950c-2356cfe4c50a\",\"type\":\"Title\"},{\"attributes\":{\"active_drag\":\"auto\",\"active_inspect\":\"auto\",\"active_scroll\":\"auto\",\"active_tap\":\"auto\",\"tools\":[{\"id\":\"a72dd9ee-f337-4180-84a6-201b00f5c0d8\",\"type\":\"PanTool\"},{\"id\":\"0e2671a8-a2b8-40f4-a733-39d47869bbc1\",\"type\":\"WheelZoomTool\"},{\"id\":\"7e0b5f59-0a48-42aa-8455-adc2f6488732\",\"type\":\"BoxZoomTool\"},{\"id\":\"8423b47b-59bf-489a-acee-58c7a1d80ed6\",\"type\":\"BoxSelectTool\"},{\"id\":\"4286aa26-97a7-4b28-8df0-c56e0c84547a\",\"type\":\"LassoSelectTool\"}]},\"id\":\"dbc5c58e-e0ce-4261-b7b1-9725ed042db8\",\"type\":\"Toolbar\"},{\"attributes\":{\"bottom_units\":\"screen\",\"fill_alpha\":{\"value\":0.5},\"fill_color\":{\"value\":\"lightgrey\"},\"left_units\":\"screen\",\"level\":\"overlay\",\"line_alpha\":{\"value\":1.0},\"line_color\":{\"value\":\"black\"},\"line_dash\":[4,4],\"line_width\":{\"value\":2},\"plot\":null,\"render_mode\":\"css\",\"right_units\":\"screen\",\"top_units\":\"screen\"},\"id\":\"b6e73212-c81e-4da6-90e3-52695a6ce61e\",\"type\":\"BoxAnnotation\"},{\"attributes\":{},\"id\":\"e6f2f4c0-4690-4655-97a3-8ee1fd2989b7\",\"type\":\"LinearScale\"},{\"attributes\":{\"plot\":{\"id\":\"64f4a49a-0ca1-4bd3-bd89-53f22a021cb9\",\"subtype\":\"Figure\",\"type\":\"Plot\"},\"ticker\":{\"id\":\"710c1fe4-8b9f-47da-b669-9a099fa4622f\",\"type\":\"BasicTicker\"}},\"id\":\"cef5a3f9-db60-4a57-84f1-9cfb171708c0\",\"type\":\"Grid\"},{\"attributes\":{\"formatter\":{\"id\":\"f7043266-24a5-4550-85ee-a57c6338cb3b\",\"type\":\"BasicTickFormatter\"},\"plot\":{\"id\":\"64f4a49a-0ca1-4bd3-bd89-53f22a021cb9\",\"subtype\":\"Figure\",\"type\":\"Plot\"},\"ticker\":{\"id\":\"710c1fe4-8b9f-47da-b669-9a099fa4622f\",\"type\":\"BasicTicker\"}},\"id\":\"ff1b7e3c-c41e-4089-925c-38251a5a0f8b\",\"type\":\"LinearAxis\"},{\"attributes\":{},\"id\":\"710c1fe4-8b9f-47da-b669-9a099fa4622f\",\"type\":\"BasicTicker\"},{\"attributes\":{\"formatter\":{\"id\":\"e1041486-0830-4226-96b9-7155d10877db\",\"type\":\"BasicTickFormatter\"},\"plot\":{\"id\":\"64f4a49a-0ca1-4bd3-bd89-53f22a021cb9\",\"subtype\":\"Figure\",\"type\":\"Plot\"},\"ticker\":{\"id\":\"a752bcff-0ba4-4803-93e1-b2f54e10deee\",\"type\":\"BasicTicker\"}},\"id\":\"3e93194c-0487-4683-bf7f-66a563673a4f\",\"type\":\"LinearAxis\"},{\"attributes\":{},\"id\":\"a752bcff-0ba4-4803-93e1-b2f54e10deee\",\"type\":\"BasicTicker\"},{\"attributes\":{\"below\":[{\"id\":\"1e3eacb9-982a-4140-8e32-c50fd73243c1\",\"type\":\"LinearAxis\"}],\"left\":[{\"id\":\"dcc722fa-a156-4732-948e-4875552848c7\",\"type\":\"LinearAxis\"}],\"plot_height\":300,\"plot_width\":300,\"renderers\":[{\"id\":\"1e3eacb9-982a-4140-8e32-c50fd73243c1\",\"type\":\"LinearAxis\"},{\"id\":\"0a80f4b7-ec2c-412b-a288-40ab62c305e5\",\"type\":\"Grid\"},{\"id\":\"dcc722fa-a156-4732-948e-4875552848c7\",\"type\":\"LinearAxis\"},{\"id\":\"6b1fdb9d-94bd-48a8-aa0a-9cd66d6e0b66\",\"type\":\"Grid\"},{\"id\":\"54e51e62-26c3-474a-b662-ca1896058caf\",\"type\":\"BoxAnnotation\"},{\"id\":\"187ec5f6-013b-46e4-9aaa-90c18d7a2573\",\"type\":\"BoxAnnotation\"},{\"id\":\"10617717-def6-4993-af15-da94a5749d46\",\"type\":\"PolyAnnotation\"},{\"id\":\"d4f9338c-c92b-4c0f-8d6e-6c3c63a4d491\",\"type\":\"GlyphRenderer\"}],\"title\":{\"id\":\"b3c6f915-2be0-42df-a7d6-0cb40a1a3bc7\",\"type\":\"Title\"},\"toolbar\":{\"id\":\"33e0b718-71ed-4e6b-bb2a-b46344a8c3d0\",\"type\":\"Toolbar\"},\"toolbar_location\":null,\"x_range\":{\"id\":\"d5dd121c-8954-4f2a-ba32-77e6cd938578\",\"type\":\"DataRange1d\"},\"x_scale\":{\"id\":\"ed6f0c65-8661-4458-a92e-71e9e19f0592\",\"type\":\"LinearScale\"},\"y_range\":{\"id\":\"58fb17f8-9837-4d20-b694-695204207d9e\",\"type\":\"DataRange1d\"},\"y_scale\":{\"id\":\"ee2eee33-4c22-49cd-9994-7edaa989f6e0\",\"type\":\"LinearScale\"}},\"id\":\"71db5ca4-07fb-467a-825a-f0507e19eb37\",\"subtype\":\"Figure\",\"type\":\"Plot\"},{\"attributes\":{\"dimension\":1,\"plot\":{\"id\":\"64f4a49a-0ca1-4bd3-bd89-53f22a021cb9\",\"subtype\":\"Figure\",\"type\":\"Plot\"},\"ticker\":{\"id\":\"a752bcff-0ba4-4803-93e1-b2f54e10deee\",\"type\":\"BasicTicker\"}},\"id\":\"90e662d8-81fd-4d4c-9cac-312ec87a3f82\",\"type\":\"Grid\"},{\"attributes\":{\"children\":[{\"id\":\"f6667bfc-235f-46ea-a190-84aace59b38f\",\"type\":\"Row\"}]},\"id\":\"c8861ce8-9484-46cb-966f-ae98879ae97d\",\"type\":\"Column\"},{\"attributes\":{},\"id\":\"a72dd9ee-f337-4180-84a6-201b00f5c0d8\",\"type\":\"PanTool\"},{\"attributes\":{\"data_source\":{\"id\":\"ef465e8e-26d3-4915-868f-8d751fd8521d\",\"type\":\"ColumnDataSource\"},\"glyph\":{\"id\":\"5de342d7-783f-45a8-aa04-461ebf90ff0c\",\"type\":\"Circle\"},\"hover_glyph\":null,\"muted_glyph\":null,\"nonselection_glyph\":{\"id\":\"994eb2db-f898-4672-aa56-8b12ccffd606\",\"type\":\"Circle\"},\"selection_glyph\":null,\"view\":{\"id\":\"b5d10061-23f9-4893-bea3-0b2bc02d1669\",\"type\":\"CDSView\"}},\"id\":\"6c6e943f-b3ad-4d33-8a19-24b27ccd8817\",\"type\":\"GlyphRenderer\"},{\"attributes\":{},\"id\":\"0e2671a8-a2b8-40f4-a733-39d47869bbc1\",\"type\":\"WheelZoomTool\"},{\"attributes\":{\"overlay\":{\"id\":\"b6e73212-c81e-4da6-90e3-52695a6ce61e\",\"type\":\"BoxAnnotation\"}},\"id\":\"7e0b5f59-0a48-42aa-8455-adc2f6488732\",\"type\":\"BoxZoomTool\"},{\"attributes\":{\"callback\":null,\"overlay\":{\"id\":\"63bceca9-2aa0-46c5-9b47-5829b3636e4d\",\"type\":\"BoxAnnotation\"},\"renderers\":[{\"id\":\"6c6e943f-b3ad-4d33-8a19-24b27ccd8817\",\"type\":\"GlyphRenderer\"}]},\"id\":\"8423b47b-59bf-489a-acee-58c7a1d80ed6\",\"type\":\"BoxSelectTool\"},{\"attributes\":{\"callback\":null,\"overlay\":{\"id\":\"3b4269f1-b122-4606-b3af-f61f16702690\",\"type\":\"PolyAnnotation\"}},\"id\":\"4286aa26-97a7-4b28-8df0-c56e0c84547a\",\"type\":\"LassoSelectTool\"},{\"attributes\":{\"fill_color\":{\"value\":\"green\"},\"line_color\":{\"value\":\"green\"},\"x\":{\"field\":\"hp\"},\"y\":{\"field\":\"displ\"}},\"id\":\"5de342d7-783f-45a8-aa04-461ebf90ff0c\",\"type\":\"Circle\"},{\"attributes\":{\"plot\":null,\"text\":\"MPG vs. Displacement\"},\"id\":\"b35551c8-03d3-4fd0-9610-33a2b45957ae\",\"type\":\"Title\"},{\"attributes\":{\"bottom_units\":\"screen\",\"fill_alpha\":{\"value\":0.5},\"fill_color\":{\"value\":\"lightgrey\"},\"left_units\":\"screen\",\"level\":\"overlay\",\"line_alpha\":{\"value\":1.0},\"line_color\":{\"value\":\"black\"},\"line_dash\":[4,4],\"line_width\":{\"value\":2},\"plot\":null,\"render_mode\":\"css\",\"right_units\":\"screen\",\"top_units\":\"screen\"},\"id\":\"63bceca9-2aa0-46c5-9b47-5829b3636e4d\",\"type\":\"BoxAnnotation\"},{\"attributes\":{\"fill_color\":{\"value\":null},\"line_color\":{\"value\":\"red\"},\"size\":{\"field\":\"cyl\",\"units\":\"screen\"},\"x\":{\"field\":\"mpg\"},\"y\":{\"field\":\"displ\"}},\"id\":\"09fd5d68-a93e-4cc1-b9a1-8b053789129a\",\"type\":\"Circle\"},{\"attributes\":{\"callback\":null},\"id\":\"658b7013-fc0b-4305-9671-ac3543554528\",\"type\":\"DataRange1d\"},{\"attributes\":{},\"id\":\"f7043266-24a5-4550-85ee-a57c6338cb3b\",\"type\":\"BasicTickFormatter\"},{\"attributes\":{},\"id\":\"e1041486-0830-4226-96b9-7155d10877db\",\"type\":\"BasicTickFormatter\"},{\"attributes\":{\"callback\":null},\"id\":\"f62bfa16-f50b-48e2-ba2b-ed598b3d712e\",\"type\":\"DataRange1d\"},{\"attributes\":{\"formatter\":{\"id\":\"535541e8-0a51-4a88-a6f1-d1b27b5e2e89\",\"type\":\"BasicTickFormatter\"},\"plot\":{\"id\":\"06129670-e995-44f1-a876-793cf062ec2e\",\"subtype\":\"Figure\",\"type\":\"Plot\"},\"ticker\":{\"id\":\"3f6031cc-36a0-4a43-aff0-97d90ddc5ef7\",\"type\":\"BasicTicker\"}},\"id\":\"42819fdb-6e49-49b5-8ede-33210731f267\",\"type\":\"LinearAxis\"},{\"attributes\":{\"active_drag\":\"auto\",\"active_inspect\":\"auto\",\"active_scroll\":\"auto\",\"active_tap\":\"auto\",\"tools\":[{\"id\":\"0e7c351c-18fb-4598-8dff-43d7a550dbcd\",\"type\":\"PanTool\"},{\"id\":\"46b9ba0e-b12a-436a-923f-e8c11e055b29\",\"type\":\"WheelZoomTool\"},{\"id\":\"8c958c35-35a9-4fe0-9363-aca1e627f3f8\",\"type\":\"BoxZoomTool\"},{\"id\":\"5e7585d5-d2c1-433b-a2e4-8846c09ea11d\",\"type\":\"BoxSelectTool\"},{\"id\":\"943f402c-156f-4994-9b52-50566bf60b99\",\"type\":\"LassoSelectTool\"}]},\"id\":\"2e9d0346-a0ac-4ec6-890b-ba83e2f5f210\",\"type\":\"Toolbar\"},{\"attributes\":{\"plot\":{\"id\":\"06129670-e995-44f1-a876-793cf062ec2e\",\"subtype\":\"Figure\",\"type\":\"Plot\"},\"ticker\":{\"id\":\"3f6031cc-36a0-4a43-aff0-97d90ddc5ef7\",\"type\":\"BasicTicker\"}},\"id\":\"95d874b6-f150-40ab-9d20-cde3fc53b657\",\"type\":\"Grid\"},{\"attributes\":{},\"id\":\"cb451007-e3e2-4192-bfe5-9befd573ae61\",\"type\":\"LinearScale\"},{\"attributes\":{},\"id\":\"3f6031cc-36a0-4a43-aff0-97d90ddc5ef7\",\"type\":\"BasicTicker\"}],\"root_ids\":[\"66183aa7-1183-4d8c-88bd-43261c74c7cf\"]},\"title\":\"Bokeh Application\",\"version\":\"0.12.13\"}};\n",
       "  var render_items = [{\"docid\":\"23dbbade-86d4-480f-9b45-33b9e939be82\",\"elementid\":\"3fafeb89-5202-4202-a075-97ac9be99665\",\"modelid\":\"66183aa7-1183-4d8c-88bd-43261c74c7cf\"}];\n",
       "  root.Bokeh.embed.embed_items_notebook(docs_json, render_items);\n",
       "\n",
       "  }\n",
       "  if (root.Bokeh !== undefined) {\n",
       "    embed_document(root);\n",
       "  } else {\n",
       "    var attempts = 0;\n",
       "    var timer = setInterval(function(root) {\n",
       "      if (root.Bokeh !== undefined) {\n",
       "        embed_document(root);\n",
       "        clearInterval(timer);\n",
       "      }\n",
       "      attempts++;\n",
       "      if (attempts > 100) {\n",
       "        console.log(\"Bokeh: ERROR: Unable to run BokehJS code because BokehJS library is missing\")\n",
       "        clearInterval(timer);\n",
       "      }\n",
       "    }, 10, root)\n",
       "  }\n",
       "})(window);"
      ],
      "application/vnd.bokehjs_exec.v0+json": ""
     },
     "metadata": {
      "application/vnd.bokehjs_exec.v0+json": {
       "id": "66183aa7-1183-4d8c-88bd-43261c74c7cf"
      }
     },
     "output_type": "display_data"
    }
   ],
   "source": [
    "# To link plots together at a data level, we can explicitly wrap the data in a ColumnDataSource\n",
    "# This allows us to reference columns by name\n",
    "from bokeh.models import ColumnDataSource\n",
    "from bokeh.layouts import gridplot\n",
    "\n",
    "source = ColumnDataSource(autompg)\n",
    "\n",
    "options = dict(plot_width=300, plot_height=300,\n",
    "               tools=\"pan,wheel_zoom,box_zoom,box_select,lasso_select\")\n",
    "\n",
    "p1 = figure(title=\"MPG by Year\", **options)\n",
    "p1.circle(\"yr\", \"mpg\", color=\"blue\", source=source)\n",
    "\n",
    "p2 = figure(title=\"HP vs. Displacement\", **options)\n",
    "p2.circle(\"hp\", \"displ\", color=\"green\", source=source)\n",
    "\n",
    "p3 = figure(title=\"MPG vs. Displacement\", **options)\n",
    "p3.circle(\"mpg\", \"displ\", size=\"cyl\", line_color=\"red\", fill_color=None, source=source)\n",
    "\n",
    "p = gridplot([[ p1, p2, p3]], toolbar_location=\"right\")\n",
    "\n",
    "show(p)"
   ]
  },
  {
   "cell_type": "code",
   "execution_count": 8,
   "metadata": {},
   "outputs": [
    {
     "data": {
      "text/html": [
       "\n",
       "<div class=\"bk-root\">\n",
       "    <div class=\"bk-plotdiv\" id=\"3cd8c6ad-734a-47b3-bb57-5ba04f164742\"></div>\n",
       "</div>"
      ]
     },
     "metadata": {},
     "output_type": "display_data"
    },
    {
     "data": {
      "application/javascript": [
       "(function(root) {\n",
       "  function embed_document(root) {\n",
       "    \n",
       "  var docs_json = {\"2160205b-2d94-41a7-9952-74d3ee1bdb90\":{\"roots\":{\"references\":[{\"attributes\":{\"below\":[{\"id\":\"9ddbaa1b-e881-447a-9904-9877abcd8e80\",\"type\":\"LinearAxis\"}],\"left\":[{\"id\":\"45a9d3a1-c691-45dd-8acc-283c5e8ac7f8\",\"type\":\"LinearAxis\"}],\"renderers\":[{\"id\":\"9ddbaa1b-e881-447a-9904-9877abcd8e80\",\"type\":\"LinearAxis\"},{\"id\":\"1bd4bbd0-b1f0-4a20-a091-120d4fed21d3\",\"type\":\"Grid\"},{\"id\":\"45a9d3a1-c691-45dd-8acc-283c5e8ac7f8\",\"type\":\"LinearAxis\"},{\"id\":\"05eb2199-ef9e-4342-b375-d2591550c811\",\"type\":\"Grid\"},{\"id\":\"f0ecdc51-84b4-4541-9c2e-8057b4487db8\",\"type\":\"BoxAnnotation\"},{\"id\":\"d2106848-4245-47d7-ab3b-573df8549cd0\",\"type\":\"Legend\"},{\"id\":\"1dd6f80e-6d54-435d-9847-70644422e090\",\"type\":\"GlyphRenderer\"},{\"id\":\"87161374-56ec-4933-98d9-5a420d0365ea\",\"type\":\"GlyphRenderer\"},{\"id\":\"59790cdf-a7ff-4a7a-92a8-a6289d892010\",\"type\":\"GlyphRenderer\"}],\"title\":{\"id\":\"69d66fbf-4b30-4f93-89af-088575fe28cb\",\"type\":\"Title\"},\"toolbar\":{\"id\":\"0a44d042-dd5d-4ed9-8e8d-dbb36acf23d3\",\"type\":\"Toolbar\"},\"x_range\":{\"id\":\"1cd65836-b1a0-43d8-9ba7-da43bda2dd6c\",\"type\":\"DataRange1d\"},\"x_scale\":{\"id\":\"3087db0c-f4b4-4e1c-9497-b403add0f306\",\"type\":\"LinearScale\"},\"y_range\":{\"id\":\"357bc0fc-4c71-4e33-8720-f709ada54454\",\"type\":\"DataRange1d\"},\"y_scale\":{\"id\":\"280d7547-a538-4256-ba3a-a756864b6e0c\",\"type\":\"LinearScale\"}},\"id\":\"a0977dcc-f7f6-47c5-9f37-9690c19f92f4\",\"subtype\":\"Figure\",\"type\":\"Plot\"},{\"attributes\":{\"label\":{\"value\":\"MPG 1 stddev\"},\"renderers\":[{\"id\":\"1dd6f80e-6d54-435d-9847-70644422e090\",\"type\":\"GlyphRenderer\"}]},\"id\":\"c34dcd00-207d-4657-9815-ed1b7bb57be3\",\"type\":\"LegendItem\"},{\"attributes\":{\"formatter\":{\"id\":\"cdbd72f0-4ab2-4444-8f04-62c2969d3f48\",\"type\":\"BasicTickFormatter\"},\"plot\":{\"id\":\"a0977dcc-f7f6-47c5-9f37-9690c19f92f4\",\"subtype\":\"Figure\",\"type\":\"Plot\"},\"ticker\":{\"id\":\"c302ec83-b078-49ca-9d65-76d63562f270\",\"type\":\"BasicTicker\"}},\"id\":\"45a9d3a1-c691-45dd-8acc-283c5e8ac7f8\",\"type\":\"LinearAxis\"},{\"attributes\":{\"plot\":{\"id\":\"a0977dcc-f7f6-47c5-9f37-9690c19f92f4\",\"subtype\":\"Figure\",\"type\":\"Plot\"},\"ticker\":{\"id\":\"35261e3a-219e-48dd-b3dd-4f9f35405539\",\"type\":\"BasicTicker\"}},\"id\":\"1bd4bbd0-b1f0-4a20-a091-120d4fed21d3\",\"type\":\"Grid\"},{\"attributes\":{},\"id\":\"35261e3a-219e-48dd-b3dd-4f9f35405539\",\"type\":\"BasicTicker\"},{\"attributes\":{\"formatter\":{\"id\":\"b0d2f2e3-89d9-4476-b43a-26dae6b388f5\",\"type\":\"BasicTickFormatter\"},\"plot\":{\"id\":\"a0977dcc-f7f6-47c5-9f37-9690c19f92f4\",\"subtype\":\"Figure\",\"type\":\"Plot\"},\"ticker\":{\"id\":\"35261e3a-219e-48dd-b3dd-4f9f35405539\",\"type\":\"BasicTicker\"}},\"id\":\"9ddbaa1b-e881-447a-9904-9877abcd8e80\",\"type\":\"LinearAxis\"},{\"attributes\":{\"bottom_units\":\"screen\",\"fill_alpha\":{\"value\":0.5},\"fill_color\":{\"value\":\"lightgrey\"},\"left_units\":\"screen\",\"level\":\"overlay\",\"line_alpha\":{\"value\":1.0},\"line_color\":{\"value\":\"black\"},\"line_dash\":[4,4],\"line_width\":{\"value\":2},\"plot\":null,\"render_mode\":\"css\",\"right_units\":\"screen\",\"top_units\":\"screen\"},\"id\":\"f0ecdc51-84b4-4541-9c2e-8057b4487db8\",\"type\":\"BoxAnnotation\"},{\"attributes\":{\"callback\":null,\"column_names\":[\"x\",\"y\"],\"data\":{\"x\":[70,70,71,71,71,71,72,72,72,72,72,73,73,73,73,74,74,74,74,74,74,75,75,75,75,76,76,76,76,77,77,77,77,77,77,78,78,78,78,78,78,78,78,79,79,80,80,80,80,80,80,80,80,80,80,80,80,80,81,81,81,81,81,81,81,81,81,81,81,81,82,82,82,82,82,82,82,82,82],\"y\":{\"__ndarray__\":\"AAAAAAAAOEAAAAAAAAA7QAAAAAAAADtAAAAAAAAAOUAAAAAAAAA/QAAAAAAAgEFAAAAAAAAAOEAAAAAAAAAzQAAAAAAAADxAAAAAAAAAN0AAAAAAAAA7QAAAAAAAADRAAAAAAAAANkAAAAAAAAAyQAAAAAAAADRAAAAAAAAAP0AAAAAAAABAQAAAAAAAAD9AAAAAAAAAQEAAAAAAAAA4QAAAAAAAADpAAAAAAAAAPUAAAAAAAAA4QAAAAAAAADhAAAAAAACAQEAAAAAAAIBAQAAAAAAAAEBAAAAAAAAAPEAAAAAAAAAzQAAAAAAAgD9AAAAAAADAQEAAAAAAAAA6QAAAAAAAAD5AAAAAAAAANkAAAAAAAIA1QGZmZmZmZkBAMzMzMzOzQ0DNzMzMzAxCQAAAAAAAgDtAMzMzMzMzO0CamZmZmRk1QGZmZmZm5jdAAAAAAACAPUDNzMzMzAxBQM3MzMzMzD9AzczMzMwMQ0CamZmZmZlCQM3MzMzMzD1AzczMzMxMP0AAAAAAAIBCQJqZmZmZGUBAzczMzMxMR0BmZmZmZmZEQM3MzMzMTEZAZmZmZmbmQECamZmZmVlAQDMzMzMzszdAMzMzMzMzQEDNzMzMzIxDQM3MzMzMjEFAZmZmZmYmQEAAAAAAAIBCQJqZmZmZ2UJAzczMzMwMQUCamZmZmdlAQDMzMzMzM0BAMzMzMzNzQECamZmZmZk/QGZmZmZmZjlAMzMzMzMzOEAAAAAAAIBCQAAAAAAAAD9AAAAAAAAAQkAAAAAAAABCQAAAAAAAAEFAAAAAAAAAQ0AAAAAAAABAQAAAAAAAAENAAAAAAAAAQEA=\",\"dtype\":\"float64\",\"shape\":[79]}}},\"id\":\"965ee238-c7e8-46c8-a019-dd75be3cae2c\",\"type\":\"ColumnDataSource\"},{\"attributes\":{\"bottom\":{\"field\":\"bottom\"},\"fill_alpha\":{\"value\":0.1},\"fill_color\":{\"value\":\"#1f77b4\"},\"line_alpha\":{\"value\":0.1},\"line_color\":{\"value\":\"#1f77b4\"},\"top\":{\"field\":\"top\"},\"width\":{\"value\":0.8},\"x\":{\"field\":\"x\"}},\"id\":\"299bb612-fafb-458f-9440-7c8691cb5723\",\"type\":\"VBar\"},{\"attributes\":{\"data_source\":{\"id\":\"c158e303-5a84-41c7-bcb0-891995925242\",\"type\":\"ColumnDataSource\"},\"glyph\":{\"id\":\"48ac0346-b4db-437f-afcd-b0835ebb32be\",\"type\":\"VBar\"},\"hover_glyph\":null,\"muted_glyph\":null,\"nonselection_glyph\":{\"id\":\"299bb612-fafb-458f-9440-7c8691cb5723\",\"type\":\"VBar\"},\"selection_glyph\":null,\"view\":{\"id\":\"d09456d4-f197-412e-9cd8-52a470516254\",\"type\":\"CDSView\"}},\"id\":\"1dd6f80e-6d54-435d-9847-70644422e090\",\"type\":\"GlyphRenderer\"},{\"attributes\":{},\"id\":\"329de648-32fa-497a-bf81-4472ecae172c\",\"type\":\"PanTool\"},{\"attributes\":{\"dimension\":1,\"plot\":{\"id\":\"a0977dcc-f7f6-47c5-9f37-9690c19f92f4\",\"subtype\":\"Figure\",\"type\":\"Plot\"},\"ticker\":{\"id\":\"c302ec83-b078-49ca-9d65-76d63562f270\",\"type\":\"BasicTicker\"}},\"id\":\"05eb2199-ef9e-4342-b375-d2591550c811\",\"type\":\"Grid\"},{\"attributes\":{},\"id\":\"280d7547-a538-4256-ba3a-a756864b6e0c\",\"type\":\"LinearScale\"},{\"attributes\":{},\"id\":\"b0d2f2e3-89d9-4476-b43a-26dae6b388f5\",\"type\":\"BasicTickFormatter\"},{\"attributes\":{},\"id\":\"3a45ca1c-7bea-4427-9300-9141d139bc36\",\"type\":\"WheelZoomTool\"},{\"attributes\":{},\"id\":\"2976cdc3-c65a-40f4-a5bc-cc098956e1ea\",\"type\":\"HelpTool\"},{\"attributes\":{},\"id\":\"7d86bdcf-ed89-4345-bead-fd15eb2f9e0f\",\"type\":\"ResetTool\"},{\"attributes\":{},\"id\":\"25e6a26a-7695-476a-bc74-e3aa8f6a9ee0\",\"type\":\"SaveTool\"},{\"attributes\":{\"bottom\":{\"field\":\"bottom\"},\"fill_alpha\":{\"value\":0.2},\"fill_color\":{\"value\":\"#1f77b4\"},\"line_color\":{\"value\":null},\"top\":{\"field\":\"top\"},\"width\":{\"value\":0.8},\"x\":{\"field\":\"x\"}},\"id\":\"48ac0346-b4db-437f-afcd-b0835ebb32be\",\"type\":\"VBar\"},{\"attributes\":{\"overlay\":{\"id\":\"f0ecdc51-84b4-4541-9c2e-8057b4487db8\",\"type\":\"BoxAnnotation\"}},\"id\":\"efe8be79-5a82-4751-8d0c-fccd41d7bb28\",\"type\":\"BoxZoomTool\"},{\"attributes\":{\"callback\":null,\"column_names\":[\"x\",\"y\"],\"data\":{\"x\":[70,70,70,70,70,70,70,70,70,70,70,70,70,70,70,70,70,70,70,70,70,70,71,71,71,71,71,71,71,71,71,71,71,71,71,71,71,71,71,71,71,72,72,72,72,72,72,72,72,72,72,72,72,72,72,72,72,72,72,73,73,73,73,73,73,73,73,73,73,73,73,73,73,73,73,73,73,73,73,73,73,73,73,73,73,73,73,73,74,74,74,74,74,74,74,74,74,74,74,74,74,74,75,75,75,75,75,75,75,75,75,75,75,75,75,75,75,75,75,75,75,75,76,76,76,76,76,76,76,76,76,76,76,76,76,76,76,76,76,76,76,76,76,76,77,77,77,77,77,77,77,77,77,77,77,77,77,77,77,77,77,77,78,78,78,78,78,78,78,78,78,78,78,78,78,78,78,78,78,78,78,78,78,78,79,79,79,79,79,79,79,79,79,79,79,79,79,79,79,79,79,79,79,79,79,79,79,80,80,80,80,80,80,81,81,81,81,81,81,81,81,81,81,81,81,81,82,82,82,82,82,82,82,82,82,82,82,82,82,82,82,82,82,82,82],\"y\":{\"__ndarray__\":\"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\",\"dtype\":\"float64\",\"shape\":[245]}}},\"id\":\"313ea190-d57d-4743-b467-c6617b6ed94b\",\"type\":\"ColumnDataSource\"},{\"attributes\":{\"callback\":null,\"column_names\":[\"x\",\"top\",\"bottom\"],\"data\":{\"bottom\":{\"__ndarray__\":\"gvFgx2qzKECcKci59t4sQJZdRzm5jipAzvVtn6zMKECki7kXNjswQIpnc6D2pi5ApAV4qVNeL0DtFQi6+rIwQBxLQL6+KTFAWBwW2YNMMkBnDzEy+Oo6QAq856zmjDhAfzfsSXnEOkA=\",\"dtype\":\"float64\",\"shape\":[13]},\"top\":{\"__ndarray__\":\"55jlF2UHN0DAzlQxaMk7QBEIyj5aJjhATTh849zMNUD6TNCFok49QMPUTjgNNTlA1KLp0Ht2O0AT6vdFBQ0+QNr+XjaL9T5AVt48aCfjP0AojYptQ1hEQPSsO6IX6UFAQOQJW8OdQkA=\",\"dtype\":\"float64\",\"shape\":[13]},\"x\":[70,71,72,73,74,75,76,77,78,79,80,81,82]}},\"id\":\"c158e303-5a84-41c7-bcb0-891995925242\",\"type\":\"ColumnDataSource\"},{\"attributes\":{\"label\":{\"value\":\"Japanese\"},\"renderers\":[{\"id\":\"87161374-56ec-4933-98d9-5a420d0365ea\",\"type\":\"GlyphRenderer\"}]},\"id\":\"f9e17024-5ac7-4134-8867-bc1a43aca7fb\",\"type\":\"LegendItem\"},{\"attributes\":{},\"id\":\"cdbd72f0-4ab2-4444-8f04-62c2969d3f48\",\"type\":\"BasicTickFormatter\"},{\"attributes\":{\"callback\":null},\"id\":\"357bc0fc-4c71-4e33-8720-f709ada54454\",\"type\":\"DataRange1d\"},{\"attributes\":{\"data_source\":{\"id\":\"965ee238-c7e8-46c8-a019-dd75be3cae2c\",\"type\":\"ColumnDataSource\"},\"glyph\":{\"id\":\"6edc2c1d-349e-4256-aef2-a255f4b9755b\",\"type\":\"Circle\"},\"hover_glyph\":null,\"muted_glyph\":null,\"nonselection_glyph\":{\"id\":\"71683bde-9c7b-47e7-b856-75bcd4c7b3e4\",\"type\":\"Circle\"},\"selection_glyph\":null,\"view\":{\"id\":\"4968ac70-e210-432b-a62d-7a4f5e3e064d\",\"type\":\"CDSView\"}},\"id\":\"87161374-56ec-4933-98d9-5a420d0365ea\",\"type\":\"GlyphRenderer\"},{\"attributes\":{},\"id\":\"3087db0c-f4b4-4e1c-9497-b403add0f306\",\"type\":\"LinearScale\"},{\"attributes\":{\"fill_alpha\":{\"value\":0.1},\"fill_color\":{\"value\":\"#1f77b4\"},\"line_alpha\":{\"value\":0.1},\"line_color\":{\"value\":\"#1f77b4\"},\"size\":{\"units\":\"screen\",\"value\":10},\"x\":{\"field\":\"x\"},\"y\":{\"field\":\"y\"}},\"id\":\"71683bde-9c7b-47e7-b856-75bcd4c7b3e4\",\"type\":\"Circle\"},{\"attributes\":{\"data_source\":{\"id\":\"313ea190-d57d-4743-b467-c6617b6ed94b\",\"type\":\"ColumnDataSource\"},\"glyph\":{\"id\":\"11f4f938-5014-4e4a-a243-e3db4c51c234\",\"type\":\"Triangle\"},\"hover_glyph\":null,\"muted_glyph\":null,\"nonselection_glyph\":{\"id\":\"7660a291-bb91-4140-b3d5-81c9dd4d45c0\",\"type\":\"Triangle\"},\"selection_glyph\":null,\"view\":{\"id\":\"36ec87a7-b104-41b8-9b46-8fc524eae3b3\",\"type\":\"CDSView\"}},\"id\":\"59790cdf-a7ff-4a7a-92a8-a6289d892010\",\"type\":\"GlyphRenderer\"},{\"attributes\":{\"fill_alpha\":{\"value\":0.3},\"fill_color\":{\"value\":\"blue\"},\"line_alpha\":{\"value\":0.3},\"line_color\":{\"value\":\"blue\"},\"size\":{\"units\":\"screen\",\"value\":10},\"x\":{\"field\":\"x\"},\"y\":{\"field\":\"y\"}},\"id\":\"11f4f938-5014-4e4a-a243-e3db4c51c234\",\"type\":\"Triangle\"},{\"attributes\":{\"source\":{\"id\":\"c158e303-5a84-41c7-bcb0-891995925242\",\"type\":\"ColumnDataSource\"}},\"id\":\"d09456d4-f197-412e-9cd8-52a470516254\",\"type\":\"CDSView\"},{\"attributes\":{\"callback\":null},\"id\":\"1cd65836-b1a0-43d8-9ba7-da43bda2dd6c\",\"type\":\"DataRange1d\"},{\"attributes\":{\"fill_alpha\":{\"value\":0.1},\"fill_color\":{\"value\":\"#1f77b4\"},\"line_alpha\":{\"value\":0.1},\"line_color\":{\"value\":\"#1f77b4\"},\"size\":{\"units\":\"screen\",\"value\":10},\"x\":{\"field\":\"x\"},\"y\":{\"field\":\"y\"}},\"id\":\"7660a291-bb91-4140-b3d5-81c9dd4d45c0\",\"type\":\"Triangle\"},{\"attributes\":{\"items\":[{\"id\":\"c34dcd00-207d-4657-9815-ed1b7bb57be3\",\"type\":\"LegendItem\"},{\"id\":\"f9e17024-5ac7-4134-8867-bc1a43aca7fb\",\"type\":\"LegendItem\"},{\"id\":\"7671ecf3-a03e-4734-ab47-60fd4173eea8\",\"type\":\"LegendItem\"}],\"location\":\"top_left\",\"plot\":{\"id\":\"a0977dcc-f7f6-47c5-9f37-9690c19f92f4\",\"subtype\":\"Figure\",\"type\":\"Plot\"}},\"id\":\"d2106848-4245-47d7-ab3b-573df8549cd0\",\"type\":\"Legend\"},{\"attributes\":{\"active_drag\":\"auto\",\"active_inspect\":\"auto\",\"active_scroll\":\"auto\",\"active_tap\":\"auto\",\"tools\":[{\"id\":\"329de648-32fa-497a-bf81-4472ecae172c\",\"type\":\"PanTool\"},{\"id\":\"3a45ca1c-7bea-4427-9300-9141d139bc36\",\"type\":\"WheelZoomTool\"},{\"id\":\"efe8be79-5a82-4751-8d0c-fccd41d7bb28\",\"type\":\"BoxZoomTool\"},{\"id\":\"25e6a26a-7695-476a-bc74-e3aa8f6a9ee0\",\"type\":\"SaveTool\"},{\"id\":\"7d86bdcf-ed89-4345-bead-fd15eb2f9e0f\",\"type\":\"ResetTool\"},{\"id\":\"2976cdc3-c65a-40f4-a5bc-cc098956e1ea\",\"type\":\"HelpTool\"}]},\"id\":\"0a44d042-dd5d-4ed9-8e8d-dbb36acf23d3\",\"type\":\"Toolbar\"},{\"attributes\":{\"source\":{\"id\":\"965ee238-c7e8-46c8-a019-dd75be3cae2c\",\"type\":\"ColumnDataSource\"}},\"id\":\"4968ac70-e210-432b-a62d-7a4f5e3e064d\",\"type\":\"CDSView\"},{\"attributes\":{\"plot\":null,\"text\":\"MPG by Year (Japan and US)\"},\"id\":\"69d66fbf-4b30-4f93-89af-088575fe28cb\",\"type\":\"Title\"},{\"attributes\":{\"label\":{\"value\":\"American\"},\"renderers\":[{\"id\":\"59790cdf-a7ff-4a7a-92a8-a6289d892010\",\"type\":\"GlyphRenderer\"}]},\"id\":\"7671ecf3-a03e-4734-ab47-60fd4173eea8\",\"type\":\"LegendItem\"},{\"attributes\":{\"fill_alpha\":{\"value\":0.3},\"fill_color\":{\"value\":\"red\"},\"line_alpha\":{\"value\":0.3},\"line_color\":{\"value\":\"red\"},\"size\":{\"units\":\"screen\",\"value\":10},\"x\":{\"field\":\"x\"},\"y\":{\"field\":\"y\"}},\"id\":\"6edc2c1d-349e-4256-aef2-a255f4b9755b\",\"type\":\"Circle\"},{\"attributes\":{\"source\":{\"id\":\"313ea190-d57d-4743-b467-c6617b6ed94b\",\"type\":\"ColumnDataSource\"}},\"id\":\"36ec87a7-b104-41b8-9b46-8fc524eae3b3\",\"type\":\"CDSView\"},{\"attributes\":{},\"id\":\"c302ec83-b078-49ca-9d65-76d63562f270\",\"type\":\"BasicTicker\"}],\"root_ids\":[\"a0977dcc-f7f6-47c5-9f37-9690c19f92f4\"]},\"title\":\"Bokeh Application\",\"version\":\"0.12.13\"}};\n",
       "  var render_items = [{\"docid\":\"2160205b-2d94-41a7-9952-74d3ee1bdb90\",\"elementid\":\"3cd8c6ad-734a-47b3-bb57-5ba04f164742\",\"modelid\":\"a0977dcc-f7f6-47c5-9f37-9690c19f92f4\"}];\n",
       "  root.Bokeh.embed.embed_items_notebook(docs_json, render_items);\n",
       "\n",
       "  }\n",
       "  if (root.Bokeh !== undefined) {\n",
       "    embed_document(root);\n",
       "  } else {\n",
       "    var attempts = 0;\n",
       "    var timer = setInterval(function(root) {\n",
       "      if (root.Bokeh !== undefined) {\n",
       "        embed_document(root);\n",
       "        clearInterval(timer);\n",
       "      }\n",
       "      attempts++;\n",
       "      if (attempts > 100) {\n",
       "        console.log(\"Bokeh: ERROR: Unable to run BokehJS code because BokehJS library is missing\")\n",
       "        clearInterval(timer);\n",
       "      }\n",
       "    }, 10, root)\n",
       "  }\n",
       "})(window);"
      ],
      "application/vnd.bokehjs_exec.v0+json": ""
     },
     "metadata": {
      "application/vnd.bokehjs_exec.v0+json": {
       "id": "a0977dcc-f7f6-47c5-9f37-9690c19f92f4"
      }
     },
     "output_type": "display_data"
    }
   ],
   "source": [
    "# Bokeh can also save plots out into their own HTML files\n",
    "from bokeh.plotting import output_file\n",
    "\n",
    "output_file(\"barplot.html\")\n",
    "\n",
    "p = figure(title=\"MPG by Year (Japan and US)\")\n",
    "\n",
    "p.vbar(x=years, bottom=avg-std, top=avg+std, width=0.8, \n",
    "       fill_alpha=0.2, line_color=None, legend=\"MPG 1 stddev\")\n",
    "\n",
    "p.circle(x=japanese[\"yr\"], y=japanese[\"mpg\"], size=10, alpha=0.3,\n",
    "         color=\"red\", legend=\"Japanese\")\n",
    "\n",
    "p.triangle(x=american[\"yr\"], y=american[\"mpg\"], size=10, alpha=0.3,\n",
    "           color=\"blue\", legend=\"American\")\n",
    "\n",
    "p.legend.location = \"top_left\"\n",
    "show(p)"
   ]
  },
  {
   "cell_type": "code",
   "execution_count": null,
   "metadata": {},
   "outputs": [],
   "source": []
  }
 ],
 "metadata": {
  "kernelspec": {
   "display_name": "Python 3",
   "language": "python",
   "name": "python3"
  },
  "language_info": {
   "codemirror_mode": {
    "name": "ipython",
    "version": 3
   },
   "file_extension": ".py",
   "mimetype": "text/x-python",
   "name": "python",
   "nbconvert_exporter": "python",
   "pygments_lexer": "ipython3",
   "version": "3.6.4"
  }
 },
 "nbformat": 4,
 "nbformat_minor": 2
}
