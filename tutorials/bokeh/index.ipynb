{
 "cells": [
  {
   "cell_type": "markdown",
   "metadata": {},
   "source": [
    "# Bokeh\n",
    "\n",
    "- [Bokeh-5-minute](https://nbviewer.jupyter.org/github/gaiusyao/gaius_nb/blob/master/tutorials/bokeh/Bokeh-5-minute.ipynb): 五分钟了解Bokeh\n",
    "- [Quickstart](https://nbviewer.jupyter.org/github/gaiusyao/gaius_nb/blob/master/tutorials/bokeh/Quickstart.ipynb): 快速开始\n",
    "- [Laying_out_Plots_and_Widgets](https://nbviewer.jupyter.org/github/gaiusyao/gaius_nb/blob/master/tutorials/bokeh/Laying_out_Plots_and_Widgets.ipynb): 快速开始\n",
    "\n",
    "\n",
    "- [Gallery](https://nbviewer.jupyter.org/github/gaiusyao/gaius_nb/blob/master/tutorials/bokeh/Gallery/index.ipynb): 示例\n",
    "    - [periodic](https://nbviewer.jupyter.org/github/gaiusyao/gaius_nb/blob/master/tutorials/bokeh/Gallery/periodic.ipynb): 元素周期表\n",
    "    - [texas](https://nbviewer.jupyter.org/github/gaiusyao/gaius_nb/blob/master/tutorials/bokeh/Gallery/texas.ipynb): 德州地图"
   ]
  },
  {
   "cell_type": "code",
   "execution_count": null,
   "metadata": {},
   "outputs": [],
   "source": []
  }
 ],
 "metadata": {
  "kernelspec": {
   "display_name": "Python 3",
   "language": "python",
   "name": "python3"
  },
  "language_info": {
   "codemirror_mode": {
    "name": "ipython",
    "version": 3
   },
   "file_extension": ".py",
   "mimetype": "text/x-python",
   "name": "python",
   "nbconvert_exporter": "python",
   "pygments_lexer": "ipython3",
   "version": "3.6.4"
  }
 },
 "nbformat": 4,
 "nbformat_minor": 2
}
