{
 "cells": [
  {
   "cell_type": "markdown",
   "metadata": {},
   "source": [
    "# tutorials: 教程\n",
    "\n",
    "- [Pandas](https://nbviewer.jupyter.org/github/gaiusyao/gaius_nb/blob/master/tutorials/Pandas/index.ipynb): Pandas官方教程\n",
    "\n",
    "- [Plotly](https://nbviewer.jupyter.org/github/gaiusyao/gaius_nb/blob/master/tutorials/Plotly/index.ipynb): Plotly官方教程    \n",
    "\n",
    "- [seaborn](https://nbviewer.jupyter.org/github/gaiusyao/gaius_nb/blob/master/tutorials/seaborn/index.ipynb): Seaborn官方教程\n",
    "\n",
    "- [bokeh](https://nbviewer.jupyter.org/github/gaiusyao/gaius_nb/blob/master/tutorials/bokeh/index.ipynb): Bokeh官方教程    \n",
    "\n",
    "- [Py36](https://nbviewer.jupyter.org/github/gaiusyao/gaius_nb/blob/master/tutorials/Py36/Index.ipynb): Python3.6官方教程\n"
   ]
  },
  {
   "cell_type": "code",
   "execution_count": null,
   "metadata": {},
   "outputs": [],
   "source": []
  }
 ],
 "metadata": {
  "hide_input": false,
  "kernelspec": {
   "display_name": "Python 3",
   "language": "python",
   "name": "python3"
  },
  "language_info": {
   "codemirror_mode": {
    "name": "ipython",
    "version": 3
   },
   "file_extension": ".py",
   "mimetype": "text/x-python",
   "name": "python",
   "nbconvert_exporter": "python",
   "pygments_lexer": "ipython3",
   "version": "3.6.4"
  }
 },
 "nbformat": 4,
 "nbformat_minor": 2
}
