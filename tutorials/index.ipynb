{
 "cells": [
  {
   "cell_type": "markdown",
   "metadata": {},
   "source": [
    "# tutorials: 教程\n",
    "\n",
    "- [Ten Minutes to Pandas](https://nbviewer.jupyter.org/github/gaiusyao/gaius_nb/blob/master/tutorials/Ten_Minutes_to_Pandas.ipynb): 十分钟了解Pandas\n",
    "\n",
    "\n",
    "- [seaborn](https://nbviewer.jupyter.org/github/gaiusyao/gaius_nb/blob/master/tutorials/seaborn/index.ipynb): Seaborn官方教程\n",
    "    - [Choosing_color_palettes](https://nbviewer.jupyter.org/github/gaiusyao/gaius_nb/blob/master/tutorials/seaborn/Choosing_color_palettes.ipynb)\n",
    "    - [Controlling_figure_aesthetics](https://nbviewer.jupyter.org/github/gaiusyao/gaius_nb/blob/master/tutorials/seaborn/Controlling_figure_aesthetics.ipynb)\n",
    "    - [Plotting_on_data-aware_grids](https://nbviewer.jupyter.org/github/gaiusyao/gaius_nb/blob/master/tutorials/seaborn/Plotting_on_data-aware_grids.ipynb)\n",
    "    - [Plotting_with_categorical_data](https://nbviewer.jupyter.org/github/gaiusyao/gaius_nb/blob/master/tutorials/seaborn/Plotting_with_categorical_data.ipynb)\n",
    "    - [Visualizing_linear_relationships](https://nbviewer.jupyter.org/github/gaiusyao/gaius_nb/blob/master/tutorials/seaborn/Visualizing_linear_relationships.ipynb)\n",
    "    - [Visualizing_the_distribution_of_a_dataset](https://nbviewer.jupyter.org/github/gaiusyao/gaius_nb/blob/master/tutorials/seaborn/Visualizing_the_distribution_of_a_dataset.ipynb)\n",
    "\n",
    "\n",
    "- [bokeh](https://nbviewer.jupyter.org/github/gaiusyao/gaius_nb/blob/master/tutorials/bokeh/index.ipynb): Bokeh官方教程\n",
    "    - [Bokeh-5-minute](https://nbviewer.jupyter.org/github/gaiusyao/gaius_nb/blob/master/tutorials/bokeh/Bokeh-5-minute.ipynb): 五分钟了解Bokeh\n",
    "    - [Quickstart](https://nbviewer.jupyter.org/github/gaiusyao/gaius_nb/blob/master/tutorials/bokeh/Quickstart.ipynb): 快速开始\n",
    "    - [Styling-Visual-Attributes](https://nbviewer.jupyter.org/github/gaiusyao/gaius_nb/blob/master/tutorials/bokeh/Styling_Visual_Attributes.ipynb): 样式视觉属性\n",
    "    - [Laying-out-Plots-and-Widgets](https://nbviewer.jupyter.org/github/gaiusyao/gaius_nb/blob/master/tutorials/bokeh/Laying_out_Plots_and_Widgets.ipynb): 组件布局\n",
    "    - [Adding-Annotations](https://nbviewer.jupyter.org/github/gaiusyao/gaius_nb/blob/master/tutorials/bokeh/Adding_Annotations.ipynb): 注释组件\n",
    "    - [Adding-Interactions](https://nbviewer.jupyter.org/github/gaiusyao/gaius_nb/blob/master/tutorials/bokeh/Adding_Interactions.ipynb): 交互组件\n",
    "    - [Gallery](https://nbviewer.jupyter.org/github/gaiusyao/gaius_nb/blob/master/tutorials/bokeh/Gallery/index.ipynb): 示例\n",
    "    \n",
    "    \n",
    "- [Py36](https://nbviewer.jupyter.org/github/gaiusyao/gaius_nb/blob/master/tutorials/Py36/index.ipynb): Python3.6官方教程\n",
    "    - [Informal_Intro](https://nbviewer.jupyter.org/github/gaiusyao/gaius_nb/blob/master/tutorials/Py36/Informal_Intro.ipynb): 非正式介绍"
   ]
  },
  {
   "cell_type": "code",
   "execution_count": null,
   "metadata": {},
   "outputs": [],
   "source": []
  }
 ],
 "metadata": {
  "kernelspec": {
   "display_name": "Python 3",
   "language": "python",
   "name": "python3"
  },
  "language_info": {
   "codemirror_mode": {
    "name": "ipython",
    "version": 3
   },
   "file_extension": ".py",
   "mimetype": "text/x-python",
   "name": "python",
   "nbconvert_exporter": "python",
   "pygments_lexer": "ipython3",
   "version": "3.6.4"
  }
 },
 "nbformat": 4,
 "nbformat_minor": 2
}
