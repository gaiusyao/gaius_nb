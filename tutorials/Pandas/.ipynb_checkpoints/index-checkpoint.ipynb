{
 "cells": [
  {
   "cell_type": "markdown",
   "metadata": {},
   "source": [
    "# Pandas官方教程\n",
    "\n",
    "- [Ten Minutes to Pandas](https://nbviewer.jupyter.org/github/gaiusyao/gaius_nb/blob/master/tutorials/Pandas/Ten_Minutes_to_Pandas.ipynb): 十分钟了解Pandas\n",
    "- [Comparison_with_SQL](https://nbviewer.jupyter.org/github/gaiusyao/gaius_nb/blob/master/tutorials/Pandas/Comparison_with_SQL.ipynb): 与SQL对比"
   ]
  },
  {
   "cell_type": "code",
   "execution_count": null,
   "metadata": {},
   "outputs": [],
   "source": []
  }
 ],
 "metadata": {
  "hide_input": false,
  "kernelspec": {
   "display_name": "Python 3",
   "language": "python",
   "name": "python3"
  },
  "language_info": {
   "codemirror_mode": {
    "name": "ipython",
    "version": 3
   },
   "file_extension": ".py",
   "mimetype": "text/x-python",
   "name": "python",
   "nbconvert_exporter": "python",
   "pygments_lexer": "ipython3",
   "version": "3.6.4"
  }
 },
 "nbformat": 4,
 "nbformat_minor": 2
}
