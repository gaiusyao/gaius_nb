{
 "cells": [
  {
   "cell_type": "code",
   "execution_count": 1,
   "metadata": {},
   "outputs": [],
   "source": [
    "import sqlite3\n",
    "import pandas as pd\n",
    "\n",
    "import re\n",
    "import jieba\n",
    "import jieba.analyse as anls\n",
    "\n",
    "import matplotlib .pyplot as plt\n",
    "plt.style.use('ggplot')\n",
    "plt.rcParams['font.sans-serif'] = ['SimHei']\n",
    "plt.rcParams['axes.unicode_minus'] = False\n",
    "import seaborn as sns\n",
    "sns.set(font='SimHei')\n",
    "from wordcloud import WordCloud"
   ]
  },
  {
   "cell_type": "code",
   "execution_count": 2,
   "metadata": {},
   "outputs": [],
   "source": [
    "def contentToStr(cond, col='period'):\n",
    "    '''\n",
    "        将 DataFrame 中的指定内容转化为字符串\n",
    "        @param cond: filter condition, str\n",
    "        @param col: column name, str, default 'period'\n",
    "        @return text: conversion results, str\n",
    "    '''\n",
    "    text = ' '.join(df[df[col] == cond]['content'].tolist())\n",
    "    return text"
   ]
  },
  {
   "cell_type": "code",
   "execution_count": 3,
   "metadata": {},
   "outputs": [],
   "source": [
    "stopwords = [line.strip() for line in open('stopwords.txt', 'r').readlines()] #停用词列表\n",
    "\n",
    "def cutText(raw_text):\n",
    "    '''\n",
    "        中文分词，并去除停用词\n",
    "        @param raw_text: raw text, str\n",
    "        @return ouput: split text, str\n",
    "    '''\n",
    "    cut_text = jieba.cut(raw_text)\n",
    "    output = ''\n",
    "    \n",
    "    for word in cut_text:\n",
    "        if word not in stopwords:\n",
    "            if word != '\\t':\n",
    "                output += word\n",
    "                output += \" \"\n",
    "    \n",
    "    output = re.sub(r'\\(\\d*\\)|\\（\\d*\\）|\\d*', '', output) #去除数字和序号\n",
    "    \n",
    "    return output"
   ]
  },
  {
   "cell_type": "code",
   "execution_count": 4,
   "metadata": {},
   "outputs": [],
   "source": [
    "def wordCount(text):\n",
    "    '''\n",
    "        词频统计，生成条形图\n",
    "        @param text: split text, str\n",
    "    '''\n",
    "    word_freq = anls.extract_tags(text, topK=20, withWeight=True)\n",
    "    data = pd.DataFrame(word_freq)\n",
    "    data.columns = ['word', 'frequency']\n",
    "\n",
    "    fig, ax = plt.subplots(figsize = (6, 4), dpi=120)\n",
    "\n",
    "    sns.barplot(x=\"frequency\", y=\"word\", data=data, label=\"word\", color=\"#1890ff\")\n",
    "    sns.despine(bottom=True);"
   ]
  },
  {
   "cell_type": "code",
   "execution_count": 5,
   "metadata": {},
   "outputs": [],
   "source": [
    "def wordCloud(text):\n",
    "    '''\n",
    "        生成词云\n",
    "        @param text: split text, str\n",
    "    '''\n",
    "    cloud = WordCloud(\n",
    "        font_path = 'fonts\\FZBYSK.ttf', \n",
    "        background_color = 'white',\n",
    "        max_words = 1024,\n",
    "        max_font_size = 100\n",
    "    )\n",
    "    \n",
    "    word_cloud = cloud.generate(text)\n",
    "\n",
    "    plt.figure(figsize=(12, 12))\n",
    "    plt.imshow(word_cloud) \n",
    "    plt.axis('off');"
   ]
  }
 ],
 "metadata": {
  "hide_input": false,
  "kernelspec": {
   "display_name": "Python 3",
   "language": "python",
   "name": "python3"
  },
  "language_info": {
   "codemirror_mode": {
    "name": "ipython",
    "version": 3
   },
   "file_extension": ".py",
   "mimetype": "text/x-python",
   "name": "python",
   "nbconvert_exporter": "python",
   "pygments_lexer": "ipython3",
   "version": "3.6.6"
  }
 },
 "nbformat": 4,
 "nbformat_minor": 2
}
