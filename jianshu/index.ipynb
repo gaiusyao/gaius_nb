{
 "cells": [
  {
   "cell_type": "markdown",
   "metadata": {},
   "source": [
    "# jianshu\n",
    "\n",
    "- [Lagou Spider](https://nbviewer.jupyter.org/github/gaiusyao/gaius_nb/blob/master/jianshu/lagou_spider/lagou.ipynb): 拉勾爬虫\n",
    "- [SW_scripts](https://nbviewer.jupyter.org/github/gaiusyao/gaius_nb/blob/master/jianshu/SW_scripts/SW_scripts.ipynb): 星球大战剧本"
   ]
  },
  {
   "cell_type": "code",
   "execution_count": null,
   "metadata": {},
   "outputs": [],
   "source": []
  }
 ],
 "metadata": {
  "hide_input": false,
  "kernelspec": {
   "display_name": "Python 3",
   "language": "python",
   "name": "python3"
  },
  "language_info": {
   "codemirror_mode": {
    "name": "ipython",
    "version": 3
   },
   "file_extension": ".py",
   "mimetype": "text/x-python",
   "name": "python",
   "nbconvert_exporter": "python",
   "pygments_lexer": "ipython3",
   "version": "3.6.5"
  }
 },
 "nbformat": 4,
 "nbformat_minor": 2
}
