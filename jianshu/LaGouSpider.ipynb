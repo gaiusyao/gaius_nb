{
 "cells": [
  {
   "cell_type": "code",
   "execution_count": 1,
   "metadata": {},
   "outputs": [],
   "source": [
    "import requests\n",
    "import re\n",
    "import time\n",
    "import random\n",
    "import pandas as pd"
   ]
  },
  {
   "cell_type": "code",
   "execution_count": 2,
   "metadata": {},
   "outputs": [],
   "source": [
    "# post url\n",
    "url = 'https://www.lagou.com/jobs/positionAjax.json?city=%E5%B9%BF%E5%B7%9E&needAddtionalResult=false'"
   ]
  },
  {
   "cell_type": "code",
   "execution_count": 3,
   "metadata": {},
   "outputs": [],
   "source": [
    "header = {'Host': 'www.lagou.com',\n",
    "    'User-Agent':'Mozilla/5.0 (Windows NT 6.1; WOW64) AppleWebKit/537.36 (KHTML, like Gecko) Chrome/63.0.3239.84 Safari/537.36',\n",
    "    'Accept': 'application/json, text/javascript, */*; q=0.01',\n",
    "    'Accept-Language': 'zh-CN,en-US;q=0.7,en;q=0.3',\n",
    "    'Accept-Encoding': 'gzip, deflate, br',\n",
    "    'Referer': 'https://www.lagou.com/jobs/list_Python?labelWords=&fromSearch=true&suginput=',\n",
    "    'Content-Type': 'application/x-www-form-urlencoded; charset=UTF-8',\n",
    "    'X-Requested-With': 'XMLHttpRequest',\n",
    "    'X-Anit-Forge-Token': 'None',\n",
    "    'X-Anit-Forge-Code': '0',\n",
    "    'Content-Length': '26',\n",
    "    'Cookie': 'user_trace_token=20171103191801-9206e24f-9ca2-40ab-95a3-23947c0b972a; _ga=GA1.2.545192972.1509707889; LGUID=20171103191805-a9838dac-c088-11e7-9704-5254005c3644; JSESSIONID=ABAAABAACDBABJB2EE720304E451B2CEFA1723CE83F19CC; _gat=1; LGSID=20171228225143-9edb51dd-ebde-11e7-b670-525400f775ce; PRE_UTM=; PRE_HOST=www.baidu.com; PRE_SITE=https%3A%2F%2Fwww.baidu.com%2Flink%3Furl%3DKkJPgBHAnny1nUKaLpx2oDfUXv9ItIF3kBAWM2-fDNu%26ck%3D3065.1.126.376.140.374.139.129%26shh%3Dwww.baidu.com%26sht%3Dmonline_3_dg%26wd%3D%26eqid%3Db0ec59d100013c7f000000055a4504f6; PRE_LAND=https%3A%2F%2Fwww.lagou.com%2F; LGRID=20171228225224-b6cc7abd-ebde-11e7-9f67-5254005c3644; index_location_city=%E5%85%A8%E5%9B%BD; TG-TRACK-CODE=index_search; SEARCH_ID=3ec21cea985a4a5fa2ab279d868560c8',\n",
    "    'Connection': 'keep-alive',\n",
    "    'Pragma': 'no-cache',\n",
    "    'Cache-Control': 'no-cache'}"
   ]
  },
  {
   "cell_type": "code",
   "execution_count": 4,
   "metadata": {},
   "outputs": [],
   "source": [
    "for n in range(30):\n",
    "\n",
    "    # 要提交的数据\n",
    "    form = {'first':'false',\n",
    "            'kd':'产品经理',\n",
    "            'pn':str(n)}\n",
    "    \n",
    "    time.sleep(random.randint(2,5))\n",
    "    \n",
    "    # 提交数据\n",
    "    html = requests.post(url,data=form,headers = header)\n",
    "    \n",
    "    # 提取数据\n",
    "    data = re.findall('{\"companyId\":.*?,\"positionName\":\"(.*?)\",\"workYear\":\"(.*?)\",\"education\":\"(.*?)\",\"jobNature\":\"(.*?)\",\"financeStage\":\"(.*?)\",\"companyLogo\":\".*?\",\"industryField\":\".*?\",\"city\":\"(.*?)\",\"salary\":\"(.*?)\",\"positionId\":.*?,\"positionAdvantage\":\"(.*?)\",\"companyShortName\":\"(.*?)\",\"district\"',html.text)\n",
    "    \n",
    "    # 转换成数据框\n",
    "    \n",
    "    data = pd.DataFrame(data)\n",
    "    \n",
    "    # 保存在本地\n",
    "    data.to_csv(r'LaGouDataPM.csv',header = False, index = False, mode = 'a+')"
   ]
  }
 ],
 "metadata": {
  "hide_input": false,
  "kernelspec": {
   "display_name": "Python 3",
   "language": "python",
   "name": "python3"
  },
  "language_info": {
   "codemirror_mode": {
    "name": "ipython",
    "version": 3
   },
   "file_extension": ".py",
   "mimetype": "text/x-python",
   "name": "python",
   "nbconvert_exporter": "python",
   "pygments_lexer": "ipython3",
   "version": "3.6.5"
  }
 },
 "nbformat": 4,
 "nbformat_minor": 2
}
