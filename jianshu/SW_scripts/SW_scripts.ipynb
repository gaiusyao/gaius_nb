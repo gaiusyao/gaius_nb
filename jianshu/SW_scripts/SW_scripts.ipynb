{
 "cells": [
  {
   "cell_type": "code",
   "execution_count": 1,
   "metadata": {},
   "outputs": [],
   "source": [
    "import pandas as pd\n",
    "\n",
    "SW_IV = pd.read_table('data/SW_EpisodeIV.txt', delim_whitespace=True, header=0, escapechar='\\\\')\n",
    "SW_V = pd.read_table('data/SW_EpisodeV.txt', delim_whitespace=True, header=0, escapechar='\\\\')\n",
    "SW_VI = pd.read_table('data/SW_EpisodeVI.txt', delim_whitespace=True, header=0, escapechar='\\\\')"
   ]
  },
  {
   "cell_type": "code",
   "execution_count": 2,
   "metadata": {},
   "outputs": [],
   "source": [
    "import string\n",
    "from nltk.corpus import stopwords\n",
    "\n",
    "stop = stopwords.words('english')\n",
    "\n",
    "def prep_text(series):\n",
    "    '''\n",
    "        去除停用词，并将字符串转换成列表\n",
    "    '''\n",
    "    return series.str.replace('\\'', ' ').apply(lambda x: ' '.join([word for word in x.split() if word not in (stop)]).lower().translate(str.maketrans(\"\", \"\", string.punctuation)).split())"
   ]
  },
  {
   "cell_type": "code",
   "execution_count": 3,
   "metadata": {},
   "outputs": [],
   "source": [
    "SW_IV['clean_text'] = prep_text(SW_IV['dialogue'])\n",
    "SW_V['clean_text'] = prep_text(SW_V['dialogue'])\n",
    "SW_VI['clean_text'] = prep_text(SW_VI['dialogue'])"
   ]
  },
  {
   "cell_type": "code",
   "execution_count": 4,
   "metadata": {},
   "outputs": [
    {
     "data": {
      "text/html": [
       "<div>\n",
       "<style scoped>\n",
       "    .dataframe tbody tr th:only-of-type {\n",
       "        vertical-align: middle;\n",
       "    }\n",
       "\n",
       "    .dataframe tbody tr th {\n",
       "        vertical-align: top;\n",
       "    }\n",
       "\n",
       "    .dataframe thead th {\n",
       "        text-align: right;\n",
       "    }\n",
       "</style>\n",
       "<table border=\"1\" class=\"dataframe\">\n",
       "  <thead>\n",
       "    <tr style=\"text-align: right;\">\n",
       "      <th></th>\n",
       "      <th>character</th>\n",
       "      <th>dialogue</th>\n",
       "      <th>clean_text</th>\n",
       "    </tr>\n",
       "  </thead>\n",
       "  <tbody>\n",
       "    <tr>\n",
       "      <th>1</th>\n",
       "      <td>THREEPIO</td>\n",
       "      <td>Did you hear that?  They've shut down the main...</td>\n",
       "      <td>[did, hear, that, they, shut, main, reactor, w...</td>\n",
       "    </tr>\n",
       "    <tr>\n",
       "      <th>2</th>\n",
       "      <td>THREEPIO</td>\n",
       "      <td>We're doomed!</td>\n",
       "      <td>[we, doomed]</td>\n",
       "    </tr>\n",
       "    <tr>\n",
       "      <th>3</th>\n",
       "      <td>THREEPIO</td>\n",
       "      <td>There'll be no escape for the Princess this time.</td>\n",
       "      <td>[there, escape, princess, time]</td>\n",
       "    </tr>\n",
       "    <tr>\n",
       "      <th>4</th>\n",
       "      <td>THREEPIO</td>\n",
       "      <td>What's that?</td>\n",
       "      <td>[what, that]</td>\n",
       "    </tr>\n",
       "    <tr>\n",
       "      <th>5</th>\n",
       "      <td>THREEPIO</td>\n",
       "      <td>I should have known better than to trust the l...</td>\n",
       "      <td>[i, known, better, trust, logic, halfsized, th...</td>\n",
       "    </tr>\n",
       "  </tbody>\n",
       "</table>\n",
       "</div>"
      ],
      "text/plain": [
       "  character                                           dialogue  \\\n",
       "1  THREEPIO  Did you hear that?  They've shut down the main...   \n",
       "2  THREEPIO                                      We're doomed!   \n",
       "3  THREEPIO  There'll be no escape for the Princess this time.   \n",
       "4  THREEPIO                                       What's that?   \n",
       "5  THREEPIO  I should have known better than to trust the l...   \n",
       "\n",
       "                                          clean_text  \n",
       "1  [did, hear, that, they, shut, main, reactor, w...  \n",
       "2                                       [we, doomed]  \n",
       "3                    [there, escape, princess, time]  \n",
       "4                                       [what, that]  \n",
       "5  [i, known, better, trust, logic, halfsized, th...  "
      ]
     },
     "execution_count": 4,
     "metadata": {},
     "output_type": "execute_result"
    }
   ],
   "source": [
    "SW_IV.head()"
   ]
  },
  {
   "cell_type": "code",
   "execution_count": 5,
   "metadata": {},
   "outputs": [],
   "source": [
    "SW = pd.concat([SW_IV, SW_V, SW_VI], ignore_index=True)"
   ]
  },
  {
   "cell_type": "code",
   "execution_count": 6,
   "metadata": {},
   "outputs": [
    {
     "name": "stdout",
     "output_type": "stream",
     "text": [
      "<class 'pandas.core.frame.DataFrame'>\n",
      "RangeIndex: 2523 entries, 0 to 2522\n",
      "Data columns (total 3 columns):\n",
      "character     2523 non-null object\n",
      "dialogue      2523 non-null object\n",
      "clean_text    2523 non-null object\n",
      "dtypes: object(3)\n",
      "memory usage: 59.2+ KB\n"
     ]
    }
   ],
   "source": [
    "SW.info()"
   ]
  },
  {
   "cell_type": "code",
   "execution_count": 18,
   "metadata": {},
   "outputs": [],
   "source": [
    "character_count = SW_IV.groupby('character').size().sort_values(ascending=False)"
   ]
  },
  {
   "cell_type": "code",
   "execution_count": 19,
   "metadata": {},
   "outputs": [
    {
     "data": {
      "text/plain": [
       "character\n",
       "LUKE                              254\n",
       "HAN                               153\n",
       "THREEPIO                          119\n",
       "BEN                                82\n",
       "LEIA                               57\n",
       "VADER                              41\n",
       "RED LEADER                         37\n",
       "BIGGS                              34\n",
       "TARKIN                             28\n",
       "OWEN                               25\n",
       "TROOPER                            19\n",
       "GOLD LEADER                        14\n",
       "WEDGE                              14\n",
       "OFFICER                            11\n",
       "RED TEN                             8\n",
       "GOLD FIVE                           7\n",
       "INTERCOM VOICE                      6\n",
       "GREEDO                              6\n",
       "JABBA                               6\n",
       "FIRST TROOPER                       6\n",
       "DODONNA                             6\n",
       "AUNT BERU                           6\n",
       "DEATH STAR INTERCOM VOICE           6\n",
       "TAGGE                               4\n",
       "MOTTI                               4\n",
       "HUMAN                               4\n",
       "COMMANDER                           3\n",
       "SECOND TROOPER                      3\n",
       "MASSASSI INTERCOM VOICE             3\n",
       "BARTENDER                           3\n",
       "VOICE                               3\n",
       "FIXER                               2\n",
       "GANTRY OFFICER                      2\n",
       "GOLD TWO                            2\n",
       "CHIEF                               2\n",
       "IMPERIAL OFFICER                    2\n",
       "WINGMAN                             2\n",
       "CAMIE                               2\n",
       "RED NINE                            2\n",
       "WILLARD                             2\n",
       "CHIEF PILOT                         1\n",
       "CREATURE                            1\n",
       "CAPTAIN                             1\n",
       "BERU                                1\n",
       "BASE VOICE                          1\n",
       "CONTROL OFFICER                     1\n",
       "WOMAN                               1\n",
       "DEAK                                1\n",
       "FIRST OFFICER                       1\n",
       "MAN                                 1\n",
       "OFFICER CASS                        1\n",
       "PORKINS                             1\n",
       "REBEL OFFICER                       1\n",
       "RED ELEVEN                          1\n",
       "RED SEVEN                           1\n",
       "SECOND OFFICER                      1\n",
       "TECHNICIAN                          1\n",
       "TROOPER VOICE                       1\n",
       "VOICE OVER DEATH STAR INTERCOM      1\n",
       "ASTRO-OFFICER                       1\n",
       "dtype: int64"
      ]
     },
     "execution_count": 19,
     "metadata": {},
     "output_type": "execute_result"
    }
   ],
   "source": [
    "character_count"
   ]
  },
  {
   "cell_type": "code",
   "execution_count": 20,
   "metadata": {},
   "outputs": [],
   "source": [
    "import seaborn as sns\n",
    "import matplotlib.pyplot as plt\n",
    "sns.set(style=\"whitegrid\")"
   ]
  },
  {
   "cell_type": "code",
   "execution_count": 29,
   "metadata": {},
   "outputs": [
    {
     "data": {
      "image/png": "[encoded data removed]",
      "text/plain": [
       "<Figure size 432x288 with 1 Axes>"
      ]
     },
     "metadata": {},
     "output_type": "display_data"
    }
   ],
   "source": [
    "ax = sns.countplot(y=\"character\", data=SW_IV, order = SW_IV['character'].value_counts().index)"
   ]
  },
  {
   "cell_type": "code",
   "execution_count": null,
   "metadata": {},
   "outputs": [],
   "source": []
  }
 ],
 "metadata": {
  "hide_input": false,
  "kernelspec": {
   "display_name": "Python 3",
   "language": "python",
   "name": "python3"
  },
  "language_info": {
   "codemirror_mode": {
    "name": "ipython",
    "version": 3
   },
   "file_extension": ".py",
   "mimetype": "text/x-python",
   "name": "python",
   "nbconvert_exporter": "python",
   "pygments_lexer": "ipython3",
   "version": "3.6.5"
  }
 },
 "nbformat": 4,
 "nbformat_minor": 2
}
