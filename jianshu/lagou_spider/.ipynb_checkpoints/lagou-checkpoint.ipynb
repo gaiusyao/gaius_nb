{
 "cells": [
  {
   "cell_type": "code",
   "execution_count": 1,
   "metadata": {},
   "outputs": [],
   "source": [
    "# 数据处理及导入导出\n",
    "import pandas as pd  \n",
    "# 爬虫\n",
    "import requests  \n",
    "import math  \n",
    "import time\n",
    "import sys, urllib\n",
    "# 数据可视化\n",
    "import seaborn as sns\n",
    "import matplotlib.pyplot as plt\n",
    "# 统计建模\n",
    "import statsmodels.api as sm\n",
    "# 词云\n",
    "from wordcloud import WordCloud  \n",
    "from imageio import imread\n",
    "import jieba"
   ]
  },
  {
   "cell_type": "code",
   "execution_count": 2,
   "metadata": {},
   "outputs": [],
   "source": [
    "def get_json(url, num, encode_city, position):  \n",
    "    '''\n",
    "        从网页获取 JSON，使用 POST 请求，加上头部信息\n",
    "    '''\n",
    "    # Request Headers\n",
    "    my_headers = {  \n",
    "        'User-Agent':'Mozilla/5.0 (Windows NT 10.0; Win64; x64) AppleWebKit/537.36 (KHTML, like Gecko) Chrome/66.0.3359.139 Safari/537.36',  \n",
    "        'Host':'www.lagou.com',  \n",
    "        'Referer':'https://www.lagou.com/jobs/list_%E6%95%B0%E6%8D%AE%E4%BA%A7%E5%93%81%E7%BB%8F%E7%90%86?city=' + encode_city + '&cl=false&fromSearch=true&labelWords=&suginput=',  \n",
    "        'X-Anit-Forge-Code':'0',  \n",
    "        'X-Anit-Forge-Token': 'None',  \n",
    "        'X-Requested-With':'XMLHttpRequest'  \n",
    "    }\n",
    "\n",
    "    # Form Data\n",
    "    my_data = {  \n",
    "        'first': 'true',  \n",
    "        'pn': num,  \n",
    "        'kd': position\n",
    "    }  \n",
    "    \n",
    "    res = requests.post(url, headers = my_headers, data = my_data)  \n",
    "    res.raise_for_status()  \n",
    "    res.encoding = 'utf-8'  \n",
    "    \n",
    "    # 得到包含职位信息的字典  \n",
    "    page = res.json()  \n",
    "    return page  "
   ]
  },
  {
   "cell_type": "code",
   "execution_count": 3,
   "metadata": {},
   "outputs": [],
   "source": [
    "def get_page_num(count):  \n",
    "    '''\n",
    "        计算要抓取的页数\n",
    "    '''  \n",
    "    # 每页15个职位,向上取整  \n",
    "    res = math.ceil(count/15)  \n",
    "    # 拉勾网最多显示30页结果  \n",
    "    if res > 30:  \n",
    "        return 30  \n",
    "    else:  \n",
    "        return res  "
   ]
  },
  {
   "cell_type": "code",
   "execution_count": 4,
   "metadata": {},
   "outputs": [],
   "source": [
    "def get_page_info(jobs_list):  \n",
    "    ''''\n",
    "        对一个网页的职位信息进行解析,返回列表\n",
    "    '''  \n",
    "    page_info_list = []  \n",
    "    \n",
    "    for i in jobs_list:  \n",
    "        job_info = []  \n",
    "        job_info.append(i['companyFullName'])  \n",
    "        job_info.append(i['companyShortName'])  \n",
    "        job_info.append(i['companySize']) \n",
    "        job_info.append(i['financeStage'])  \n",
    "        job_info.append(i['district'])  \n",
    "        job_info.append(i['industryField'])  \n",
    "        job_info.append(i['positionName'])  \n",
    "        job_info.append(i['jobNature']) \n",
    "        job_info.append(i['firstType']) \n",
    "        job_info.append(i['secondType']) \n",
    "        job_info.append(i['workYear'])  \n",
    "        job_info.append(i['education'])  \n",
    "        job_info.append(i['salary'])  \n",
    "        job_info.append(i['positionAdvantage'])  \n",
    "        page_info_list.append(job_info)  \n",
    "    \n",
    "    return page_info_list  "
   ]
  },
  {
   "cell_type": "code",
   "execution_count": 5,
   "metadata": {},
   "outputs": [],
   "source": [
    "def lagou_spider(city, position):  \n",
    "    '''\n",
    "        爬取拉勾职位列表数据\n",
    "    '''\n",
    "    # encode city\n",
    "    encode_city = urllib.parse.quote(city)\n",
    "    \n",
    "    # Request URL\n",
    "    url = 'https://www.lagou.com/jobs/positionAjax.json?city=' + encode_city + '&needAddtionalResult=false'  \n",
    "    \n",
    "    # 先设定页数为1,获取总的职位数  \n",
    "    first_page = get_json(url,1, encode_city, position)  \n",
    "    total_count = first_page['content']['positionResult']['totalCount']  \n",
    "    num = get_page_num(total_count)  \n",
    "    total_info = []  \n",
    "    time.sleep(20)  \n",
    "    print('职位总数:{},页数:{}'.format(total_count,num))  \n",
    "\n",
    "    for n in range(1,num+1):  \n",
    "        # 对每个网页读取JSON, 获取每页数据  \n",
    "        page = get_json(url, n, encode_city, position)  \n",
    "        jobs_list = page['content']['positionResult']['result']  \n",
    "        page_info = get_page_info(jobs_list)  \n",
    "        total_info += page_info  \n",
    "        print('已经抓取第{}页, 职位总数:{}'.format(n, len(total_info)))  \n",
    "        # 每次抓取完成后,暂停一会,防止被服务器拉黑  \n",
    "        time.sleep(30)  \n",
    "       \n",
    "    #将总数据转化为 DataFrame再输出  \n",
    "    df = pd.DataFrame(data = total_info,columns = ['公司全名', '公司简称', '公司规模', '融资阶段', '区域', '行业', \n",
    "                                                   '职位名称', '工作性质', '一级类别', '二级类别', '工作经验', '学历要求', '工资','职位福利'])   \n",
    "    data_output = 'data\\\\' + city + '—' + position + '.csv'\n",
    "    df.to_csv(data_output, index = False)  \n",
    "    \n",
    "    print('已保存为csv文件.')  "
   ]
  },
  {
   "cell_type": "code",
   "execution_count": 6,
   "metadata": {},
   "outputs": [
    {
     "name": "stdout",
     "output_type": "stream",
     "text": [
      "工作城市：\n",
      "深圳\n",
      "目标职位：\n",
      "数据分析\n"
     ]
    }
   ],
   "source": [
    "# 输入工作城市和目标职位\n",
    "city = input(\"工作城市：\\n\")\n",
    "position = input(\"目标职位：\\n\")"
   ]
  },
  {
   "cell_type": "code",
   "execution_count": 7,
   "metadata": {},
   "outputs": [
    {
     "name": "stdout",
     "output_type": "stream",
     "text": [
      "职位总数:403,页数:27\n",
      "已经抓取第1页, 职位总数:15\n",
      "已经抓取第2页, 职位总数:30\n",
      "已经抓取第3页, 职位总数:45\n",
      "已经抓取第4页, 职位总数:60\n",
      "已经抓取第5页, 职位总数:75\n",
      "已经抓取第6页, 职位总数:90\n",
      "已经抓取第7页, 职位总数:105\n",
      "已经抓取第8页, 职位总数:120\n",
      "已经抓取第9页, 职位总数:135\n",
      "已经抓取第10页, 职位总数:150\n",
      "已经抓取第11页, 职位总数:165\n",
      "已经抓取第12页, 职位总数:180\n",
      "已经抓取第13页, 职位总数:195\n",
      "已经抓取第14页, 职位总数:210\n",
      "已经抓取第15页, 职位总数:225\n",
      "已经抓取第16页, 职位总数:240\n",
      "已经抓取第17页, 职位总数:255\n",
      "已经抓取第18页, 职位总数:270\n",
      "已经抓取第19页, 职位总数:285\n",
      "已经抓取第20页, 职位总数:300\n",
      "已经抓取第21页, 职位总数:315\n",
      "已经抓取第22页, 职位总数:330\n",
      "已经抓取第23页, 职位总数:345\n",
      "已经抓取第24页, 职位总数:360\n",
      "已经抓取第25页, 职位总数:375\n",
      "已经抓取第26页, 职位总数:390\n",
      "已经抓取第27页, 职位总数:403\n",
      "已保存为csv文件.\n"
     ]
    }
   ],
   "source": [
    "# 运行爬虫\n",
    "lagou_spider(city, position)"
   ]
  },
  {
   "cell_type": "code",
   "execution_count": 8,
   "metadata": {},
   "outputs": [],
   "source": [
    "# 读取数据  \n",
    "file = open('data\\\\' + city + '—' + position + '.csv', 'rb')\n",
    "df = pd.read_csv(file, encoding = 'utf-8')  "
   ]
  },
  {
   "cell_type": "code",
   "execution_count": 9,
   "metadata": {},
   "outputs": [
    {
     "data": {
      "text/html": [
       "<div>\n",
       "<style scoped>\n",
       "    .dataframe tbody tr th:only-of-type {\n",
       "        vertical-align: middle;\n",
       "    }\n",
       "\n",
       "    .dataframe tbody tr th {\n",
       "        vertical-align: top;\n",
       "    }\n",
       "\n",
       "    .dataframe thead th {\n",
       "        text-align: right;\n",
       "    }\n",
       "</style>\n",
       "<table border=\"1\" class=\"dataframe\">\n",
       "  <thead>\n",
       "    <tr style=\"text-align: right;\">\n",
       "      <th></th>\n",
       "      <th>公司全名</th>\n",
       "      <th>公司简称</th>\n",
       "      <th>公司规模</th>\n",
       "      <th>融资阶段</th>\n",
       "      <th>区域</th>\n",
       "      <th>行业</th>\n",
       "      <th>职位名称</th>\n",
       "      <th>工作性质</th>\n",
       "      <th>一级类别</th>\n",
       "      <th>二级类别</th>\n",
       "      <th>工作经验</th>\n",
       "      <th>学历要求</th>\n",
       "      <th>工资</th>\n",
       "      <th>职位福利</th>\n",
       "    </tr>\n",
       "  </thead>\n",
       "  <tbody>\n",
       "    <tr>\n",
       "      <th>0</th>\n",
       "      <td>深圳广联赛讯有限公司</td>\n",
       "      <td>广联赛讯</td>\n",
       "      <td>150-500人</td>\n",
       "      <td>A轮</td>\n",
       "      <td>南山区</td>\n",
       "      <td>移动互联网</td>\n",
       "      <td>数据分析</td>\n",
       "      <td>全职</td>\n",
       "      <td>产品/需求/项目类</td>\n",
       "      <td>数据分析</td>\n",
       "      <td>1年以下</td>\n",
       "      <td>硕士</td>\n",
       "      <td>8k-12k</td>\n",
       "      <td>周末双休,朝九晚六,五险一金</td>\n",
       "    </tr>\n",
       "    <tr>\n",
       "      <th>1</th>\n",
       "      <td>深圳市紫川软件有限公司</td>\n",
       "      <td>紫川软件</td>\n",
       "      <td>500-2000人</td>\n",
       "      <td>不需要融资</td>\n",
       "      <td>福田区</td>\n",
       "      <td>电子商务,金融</td>\n",
       "      <td>数据分析师</td>\n",
       "      <td>全职</td>\n",
       "      <td>开发/测试/运维类</td>\n",
       "      <td>数据开发</td>\n",
       "      <td>3-5年</td>\n",
       "      <td>本科</td>\n",
       "      <td>9k-14k</td>\n",
       "      <td>周末双休 五险一金 员工旅游</td>\n",
       "    </tr>\n",
       "    <tr>\n",
       "      <th>2</th>\n",
       "      <td>试金石信用服务有限公司</td>\n",
       "      <td>试金石信用</td>\n",
       "      <td>50-150人</td>\n",
       "      <td>不需要融资</td>\n",
       "      <td>南山区</td>\n",
       "      <td>数据服务,移动互联网</td>\n",
       "      <td>数据分析师</td>\n",
       "      <td>全职</td>\n",
       "      <td>运营</td>\n",
       "      <td>运营</td>\n",
       "      <td>3-5年</td>\n",
       "      <td>本科</td>\n",
       "      <td>15k-30k</td>\n",
       "      <td>行业前景好、大牛团队</td>\n",
       "    </tr>\n",
       "    <tr>\n",
       "      <th>3</th>\n",
       "      <td>深圳市迅雷网络技术有限公司</td>\n",
       "      <td>迅雷</td>\n",
       "      <td>500-2000人</td>\n",
       "      <td>上市公司</td>\n",
       "      <td>南山区</td>\n",
       "      <td>移动互联网</td>\n",
       "      <td>数据分析</td>\n",
       "      <td>全职</td>\n",
       "      <td>产品/需求/项目类</td>\n",
       "      <td>数据分析</td>\n",
       "      <td>3-5年</td>\n",
       "      <td>本科</td>\n",
       "      <td>15k-30k</td>\n",
       "      <td>大流量平台</td>\n",
       "    </tr>\n",
       "    <tr>\n",
       "      <th>4</th>\n",
       "      <td>深圳赫美智慧科技有限公司</td>\n",
       "      <td>赫美智科</td>\n",
       "      <td>500-2000人</td>\n",
       "      <td>B轮</td>\n",
       "      <td>福田区</td>\n",
       "      <td>金融</td>\n",
       "      <td>数据分析师</td>\n",
       "      <td>全职</td>\n",
       "      <td>产品/需求/项目类</td>\n",
       "      <td>数据分析</td>\n",
       "      <td>不限</td>\n",
       "      <td>本科</td>\n",
       "      <td>6k-8k</td>\n",
       "      <td>互联网金融 上市公司 加班少 晋升空间</td>\n",
       "    </tr>\n",
       "  </tbody>\n",
       "</table>\n",
       "</div>"
      ],
      "text/plain": [
       "            公司全名   公司简称       公司规模   融资阶段   区域          行业   职位名称 工作性质  \\\n",
       "0     深圳广联赛讯有限公司   广联赛讯   150-500人     A轮  南山区       移动互联网   数据分析   全职   \n",
       "1    深圳市紫川软件有限公司   紫川软件  500-2000人  不需要融资  福田区     电子商务,金融  数据分析师   全职   \n",
       "2    试金石信用服务有限公司  试金石信用    50-150人  不需要融资  南山区  数据服务,移动互联网  数据分析师   全职   \n",
       "3  深圳市迅雷网络技术有限公司     迅雷  500-2000人   上市公司  南山区       移动互联网   数据分析   全职   \n",
       "4   深圳赫美智慧科技有限公司   赫美智科  500-2000人     B轮  福田区          金融  数据分析师   全职   \n",
       "\n",
       "        一级类别  二级类别  工作经验 学历要求       工资                 职位福利  \n",
       "0  产品/需求/项目类  数据分析  1年以下   硕士   8k-12k       周末双休,朝九晚六,五险一金  \n",
       "1  开发/测试/运维类  数据开发  3-5年   本科   9k-14k       周末双休 五险一金 员工旅游  \n",
       "2         运营    运营  3-5年   本科  15k-30k           行业前景好、大牛团队  \n",
       "3  产品/需求/项目类  数据分析  3-5年   本科  15k-30k                大流量平台  \n",
       "4  产品/需求/项目类  数据分析    不限   本科    6k-8k  互联网金融 上市公司 加班少 晋升空间  "
      ]
     },
     "execution_count": 9,
     "metadata": {},
     "output_type": "execute_result"
    }
   ],
   "source": [
    "df.head()"
   ]
  },
  {
   "cell_type": "code",
   "execution_count": 10,
   "metadata": {},
   "outputs": [],
   "source": [
    "# 剔除实习岗位  \n",
    "df.drop(df[df['工作性质'].str.contains('实习')].index, inplace=True)  "
   ]
  },
  {
   "cell_type": "code",
   "execution_count": 11,
   "metadata": {},
   "outputs": [
    {
     "data": {
      "text/html": [
       "<div>\n",
       "<style scoped>\n",
       "    .dataframe tbody tr th:only-of-type {\n",
       "        vertical-align: middle;\n",
       "    }\n",
       "\n",
       "    .dataframe tbody tr th {\n",
       "        vertical-align: top;\n",
       "    }\n",
       "\n",
       "    .dataframe thead th {\n",
       "        text-align: right;\n",
       "    }\n",
       "</style>\n",
       "<table border=\"1\" class=\"dataframe\">\n",
       "  <thead>\n",
       "    <tr style=\"text-align: right;\">\n",
       "      <th></th>\n",
       "      <th>公司全名</th>\n",
       "      <th>公司简称</th>\n",
       "      <th>公司规模</th>\n",
       "      <th>融资阶段</th>\n",
       "      <th>区域</th>\n",
       "      <th>行业</th>\n",
       "      <th>职位名称</th>\n",
       "      <th>工作性质</th>\n",
       "      <th>一级类别</th>\n",
       "      <th>二级类别</th>\n",
       "      <th>工作经验</th>\n",
       "      <th>学历要求</th>\n",
       "      <th>工资</th>\n",
       "      <th>职位福利</th>\n",
       "    </tr>\n",
       "  </thead>\n",
       "  <tbody>\n",
       "    <tr>\n",
       "      <th>count</th>\n",
       "      <td>401</td>\n",
       "      <td>401</td>\n",
       "      <td>401</td>\n",
       "      <td>401</td>\n",
       "      <td>401</td>\n",
       "      <td>401</td>\n",
       "      <td>401</td>\n",
       "      <td>401</td>\n",
       "      <td>401</td>\n",
       "      <td>401</td>\n",
       "      <td>401</td>\n",
       "      <td>401</td>\n",
       "      <td>401</td>\n",
       "      <td>401</td>\n",
       "    </tr>\n",
       "    <tr>\n",
       "      <th>unique</th>\n",
       "      <td>229</td>\n",
       "      <td>229</td>\n",
       "      <td>6</td>\n",
       "      <td>8</td>\n",
       "      <td>7</td>\n",
       "      <td>61</td>\n",
       "      <td>211</td>\n",
       "      <td>1</td>\n",
       "      <td>11</td>\n",
       "      <td>23</td>\n",
       "      <td>6</td>\n",
       "      <td>4</td>\n",
       "      <td>82</td>\n",
       "      <td>371</td>\n",
       "    </tr>\n",
       "    <tr>\n",
       "      <th>top</th>\n",
       "      <td>腾讯科技(深圳)有限公司</td>\n",
       "      <td>腾讯</td>\n",
       "      <td>2000人以上</td>\n",
       "      <td>不需要融资</td>\n",
       "      <td>南山区</td>\n",
       "      <td>金融</td>\n",
       "      <td>数据分析师</td>\n",
       "      <td>全职</td>\n",
       "      <td>开发/测试/运维类</td>\n",
       "      <td>数据开发</td>\n",
       "      <td>1-3年</td>\n",
       "      <td>本科</td>\n",
       "      <td>15k-30k</td>\n",
       "      <td>核心事业群 千万级日活 氛围好 组织扁平</td>\n",
       "    </tr>\n",
       "    <tr>\n",
       "      <th>freq</th>\n",
       "      <td>22</td>\n",
       "      <td>22</td>\n",
       "      <td>168</td>\n",
       "      <td>147</td>\n",
       "      <td>252</td>\n",
       "      <td>64</td>\n",
       "      <td>83</td>\n",
       "      <td>401</td>\n",
       "      <td>165</td>\n",
       "      <td>160</td>\n",
       "      <td>157</td>\n",
       "      <td>319</td>\n",
       "      <td>45</td>\n",
       "      <td>4</td>\n",
       "    </tr>\n",
       "  </tbody>\n",
       "</table>\n",
       "</div>"
      ],
      "text/plain": [
       "                公司全名 公司简称     公司规模   融资阶段   区域   行业   职位名称 工作性质       一级类别  \\\n",
       "count            401  401      401    401  401  401    401  401        401   \n",
       "unique           229  229        6      8    7   61    211    1         11   \n",
       "top     腾讯科技(深圳)有限公司   腾讯  2000人以上  不需要融资  南山区   金融  数据分析师   全职  开发/测试/运维类   \n",
       "freq              22   22      168    147  252   64     83  401        165   \n",
       "\n",
       "        二级类别  工作经验 学历要求       工资                  职位福利  \n",
       "count    401   401  401      401                   401  \n",
       "unique    23     6    4       82                   371  \n",
       "top     数据开发  1-3年   本科  15k-30k  核心事业群 千万级日活 氛围好 组织扁平  \n",
       "freq     160   157  319       45                     4  "
      ]
     },
     "execution_count": 11,
     "metadata": {},
     "output_type": "execute_result"
    }
   ],
   "source": [
    "df.describe()"
   ]
  },
  {
   "cell_type": "code",
   "execution_count": 12,
   "metadata": {},
   "outputs": [],
   "source": [
    "pattern = '\\d+'  \n",
    "df['工作年限'] = df['工作经验'].str.findall(pattern)\n",
    "\n",
    "avg_work_year = []  \n",
    "for i in df['工作年限']:  \n",
    "    # 如果工作经验为 '不限' 或 '应届毕业生' ,那么匹配值为空,工作年限为 0  \n",
    "    if len(i) == 0:  \n",
    "        avg_work_year.append(0)  \n",
    "   # 如果匹配值为一个数值,那么返回该数值  \n",
    "    elif len(i) == 1:  \n",
    "        avg_work_year.append(int(''.join(i)))  \n",
    "   # 如果匹配值为一个区间,那么取平均值  \n",
    "    else:  \n",
    "        num_list = [int(j) for j in i]  \n",
    "        avg_year = sum(num_list) / 2  \n",
    "        avg_work_year.append(avg_year)\n",
    "        \n",
    "df['经验要求'] = avg_work_year\n",
    "        \n",
    "# 将字符串转化为列表,再取区间的前25%，比较贴近现实  \n",
    "df['salary'] = df['工资'].str.findall(pattern)  \n",
    "\n",
    "avg_salary = []  \n",
    "for k in df['salary']:  \n",
    "    int_list = [int(n) for n in k]  \n",
    "    avg_wage = int_list[0] + (int_list[1] - int_list[0]) / 4  \n",
    "    avg_salary.append(avg_wage) \n",
    "\n",
    "df['月工资'] = avg_salary"
   ]
  },
  {
   "cell_type": "code",
   "execution_count": 13,
   "metadata": {},
   "outputs": [],
   "source": [
    "# 将清洗后的数据保存\n",
    "df.to_csv('data\\\\' + city + '—' + position + '（已清洗）' + '.csv', index = False)"
   ]
  },
  {
   "cell_type": "code",
   "execution_count": 14,
   "metadata": {},
   "outputs": [],
   "source": [
    "# 读取清洗后的数据  \n",
    "file = open('data\\\\' + city + '—' + position + '（已清洗）' + '.csv', 'rb')\n",
    "df2 = pd.read_csv(file, encoding = 'utf-8')  "
   ]
  },
  {
   "cell_type": "code",
   "execution_count": 15,
   "metadata": {},
   "outputs": [
    {
     "name": "stdout",
     "output_type": "stream",
     "text": [
      "工资描述：\n",
      "count    401.000000\n",
      "mean      14.690773\n",
      "std        8.532607\n",
      "min        3.500000\n",
      "25%        9.000000\n",
      "50%       12.500000\n",
      "75%       18.750000\n",
      "max       70.000000\n",
      "Name: 月工资, dtype: float64\n"
     ]
    }
   ],
   "source": [
    "# 描述统计  \n",
    "print('工资描述：\\n{}'.format(df2['月工资'].describe()))"
   ]
  },
  {
   "cell_type": "code",
   "execution_count": 16,
   "metadata": {},
   "outputs": [],
   "source": [
    "plt.rcParams['font.sans-serif'] = ['SimHei'] # 指定默认字体  \n",
    "plt.rcParams['axes.unicode_minus'] = False # 解决保存图像是负号'-'显示为方块的问题 \n",
    "sns.set(font='SimHei')  # 解决 Seaborn 中文显示问题"
   ]
  },
  {
   "cell_type": "code",
   "execution_count": 17,
   "metadata": {},
   "outputs": [
    {
     "name": "stderr",
     "output_type": "stream",
     "text": [
      "E:\\IDE\\Anaconda3\\envs\\gaius\\lib\\site-packages\\matplotlib\\axes\\_axes.py:6462: UserWarning: The 'normed' kwarg is deprecated, and has been replaced by the 'density' kwarg.\n",
      "  warnings.warn(\"The 'normed' kwarg is deprecated, and has been \"\n"
     ]
    },
    {
     "data": {
      "image/png": "[encoded data removed]",
      "text/plain": [
       "<Figure size 432x288 with 1 Axes>"
      ]
     },
     "metadata": {},
     "output_type": "display_data"
    }
   ],
   "source": [
    "# 绘制频率直方图并保存  \n",
    "sns.distplot(df2['月工资'], bins=15, kde=True, rug=True)\n",
    "plt.title(\"工资直方图\")\n",
    "plt.xlabel('工资 (千元)')   \n",
    "plt.ylabel('频数')      \n",
    "plt.savefig('output\\histogram.jpg')  \n",
    "plt.show();"
   ]
  },
  {
   "cell_type": "code",
   "execution_count": 18,
   "metadata": {},
   "outputs": [
    {
     "data": {
      "image/png": "[encoded data removed]",
      "text/plain": [
       "<Figure size 432x288 with 1 Axes>"
      ]
     },
     "metadata": {},
     "output_type": "display_data"
    }
   ],
   "source": [
    "count = df2['区域'].value_counts()\n",
    "\n",
    "# 绘制饼图并保存  \n",
    "fig = plt.figure()\n",
    "ax = fig.add_subplot(111)\n",
    "ax.pie(count, labels = count.keys(), labeldistance=1.4, autopct='%2.1f%%')  \n",
    "plt.axis('equal')  # 使饼图为正圆形  \n",
    "plt.legend(loc='upper left', bbox_to_anchor=(-0.1, 1))  \n",
    "plt.savefig('output\\pie_chart.jpg')  \n",
    "plt.show()  "
   ]
  },
  {
   "cell_type": "code",
   "execution_count": 19,
   "metadata": {},
   "outputs": [
    {
     "name": "stderr",
     "output_type": "stream",
     "text": [
      "Building prefix dict from the default dictionary ...\n",
      "Loading model from cache C:\\Users\\gaiusyao\\AppData\\Local\\Temp\\jieba.cache\n",
      "Loading model cost 0.838 seconds.\n",
      "Prefix dict has been built succesfully.\n"
     ]
    },
    {
     "data": {
      "image/png": "[encoded data removed]",
      "text/plain": [
       "<Figure size 432x288 with 1 Axes>"
      ]
     },
     "metadata": {},
     "output_type": "display_data"
    }
   ],
   "source": [
    "# 绘制词云,将职位福利中的字符串汇总  \n",
    "text = ''  \n",
    "for line in df2['职位福利']:  \n",
    "    text += line  \n",
    "# 使用jieba模块将字符串分割为单词列表      \n",
    "cut_text = ' '.join(jieba.cut(text))  \n",
    "color_mask = imread('img\\jobs.jpg')  #设置背景图  \n",
    "cloud = WordCloud(  \n",
    "    font_path = 'fonts\\FZBYSK.ttf',   \n",
    "    background_color = 'white',  \n",
    "    mask = color_mask,  \n",
    "    max_words = 1000,  \n",
    "    max_font_size = 100          \n",
    ")  \n",
    "\n",
    "word_cloud = cloud.generate(cut_text)  \n",
    "\n",
    "# 保存词云图片  \n",
    "word_cloud.to_file('output\\word_cloud.jpg')  \n",
    "plt.imshow(word_cloud)  \n",
    "plt.axis('off')  \n",
    "plt.show()"
   ]
  },
  {
   "cell_type": "code",
   "execution_count": 20,
   "metadata": {},
   "outputs": [],
   "source": [
    "# 实证统计,将学历不限的职位要求认定为最低学历:大专  \n",
    "df['学历要求'] = df['学历要求'].replace('不限', '大专')  "
   ]
  },
  {
   "cell_type": "code",
   "execution_count": 21,
   "metadata": {},
   "outputs": [],
   "source": [
    "# 学历分为大专\\本科\\硕士,将它们设定为虚拟变量  \n",
    "dummy_edu = pd.get_dummies(df['学历要求'], prefix = '学历') "
   ]
  },
  {
   "cell_type": "code",
   "execution_count": 22,
   "metadata": {},
   "outputs": [],
   "source": [
    "# 构建回归数组  \n",
    "df_with_dummy = pd.concat([df['月工资'], df['经验要求'], dummy_edu], axis = 1)"
   ]
  },
  {
   "cell_type": "code",
   "execution_count": 23,
   "metadata": {},
   "outputs": [
    {
     "name": "stdout",
     "output_type": "stream",
     "text": [
      "回归方程的参数：\n",
      "const    6.400318\n",
      "经验要求     2.407444\n",
      "学历_大专   -1.167164\n",
      "学历_本科    1.188004\n",
      "学历_硕士    6.379478\n",
      "dtype: float64\n",
      "\n",
      "回归结果：\n",
      "                            OLS Regression Results                            \n",
      "==============================================================================\n",
      "Dep. Variable:                    月工资   R-squared:                       0.371\n",
      "Model:                            OLS   Adj. R-squared:                  0.366\n",
      "Method:                 Least Squares   F-statistic:                     77.95\n",
      "Date:                Fri, 29 Jun 2018   Prob (F-statistic):           1.16e-39\n",
      "Time:                        22:33:06   Log-Likelihood:                -1335.3\n",
      "No. Observations:                 401   AIC:                             2679.\n",
      "Df Residuals:                     397   BIC:                             2695.\n",
      "Df Model:                           3                                         \n",
      "Covariance Type:            nonrobust                                         \n",
      "==============================================================================\n",
      "                 coef    std err          t      P>|t|      [0.025      0.975]\n",
      "------------------------------------------------------------------------------\n",
      "const          6.4003      0.642      9.969      0.000       5.138       7.662\n",
      "经验要求           2.4074      0.176     13.666      0.000       2.061       2.754\n",
      "学历_大专         -1.1672      0.780     -1.497      0.135      -2.700       0.366\n",
      "学历_本科          1.1880      0.622      1.911      0.057      -0.034       2.410\n",
      "学历_硕士          6.3795      1.445      4.416      0.000       3.540       9.219\n",
      "==============================================================================\n",
      "Omnibus:                      226.448   Durbin-Watson:                   1.987\n",
      "Prob(Omnibus):                  0.000   Jarque-Bera (JB):             1871.145\n",
      "Skew:                           2.298   Prob(JB):                         0.00\n",
      "Kurtosis:                      12.533   Cond. No.                     3.81e+16\n",
      "==============================================================================\n",
      "\n",
      "Warnings:\n",
      "[1] Standard Errors assume that the covariance matrix of the errors is correctly specified.\n",
      "[2] The smallest eigenvalue is  4e-30. This might indicate that there are\n",
      "strong multicollinearity problems or that the design matrix is singular.\n"
     ]
    }
   ],
   "source": [
    "# 建立多元回归模型  \n",
    "y = df_with_dummy['月工资']  \n",
    "X = df_with_dummy[['经验要求','学历_大专','学历_本科','学历_硕士']]  \n",
    "X = sm.add_constant(X)   \n",
    "model = sm.OLS(y, X.astype(float))  \n",
    "results = model.fit()  \n",
    "print('回归方程的参数：\\n{}\\n'.format(results.params))  \n",
    "print('回归结果：\\n{}'.format(results.summary()))"
   ]
  },
  {
   "cell_type": "code",
   "execution_count": null,
   "metadata": {},
   "outputs": [],
   "source": []
  }
 ],
 "metadata": {
  "hide_input": false,
  "kernelspec": {
   "display_name": "Python 3",
   "language": "python",
   "name": "python3"
  },
  "language_info": {
   "codemirror_mode": {
    "name": "ipython",
    "version": 3
   },
   "file_extension": ".py",
   "mimetype": "text/x-python",
   "name": "python",
   "nbconvert_exporter": "python",
   "pygments_lexer": "ipython3",
   "version": "3.6.5"
  }
 },
 "nbformat": 4,
 "nbformat_minor": 2
}
