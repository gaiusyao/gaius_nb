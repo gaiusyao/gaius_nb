{
 "cells": [
  {
   "cell_type": "code",
   "execution_count": 1,
   "metadata": {},
   "outputs": [],
   "source": [
    "# 数据处理及导入导出\n",
    "import pandas as pd  \n",
    "# 爬虫\n",
    "import requests  \n",
    "import math  \n",
    "import time\n",
    "# 数据可视化\n",
    "import seaborn as sns\n",
    "import matplotlib.pyplot as plt\n",
    "# 统计建模\n",
    "import statsmodels.api as sm\n",
    "# 词云\n",
    "from wordcloud import WordCloud  \n",
    "from imageio import imread\n",
    "import jieba"
   ]
  },
  {
   "cell_type": "code",
   "execution_count": null,
   "metadata": {},
   "outputs": [],
   "source": []
  },
  {
   "cell_type": "code",
   "execution_count": null,
   "metadata": {},
   "outputs": [],
   "source": [
    "def get_json(url, num, position, city):  \n",
    "    '''\n",
    "        从网页获取 JSON，使用 POST 请求，加上头部信息\n",
    "    '''\n",
    "    # Request Headers\n",
    "    my_headers = {  \n",
    "        'User-Agent':'Mozilla/5.0 (Windows NT 10.0; Win64; x64) AppleWebKit/537.36 (KHTML, like Gecko) Chrome/66.0.3359.139 Safari/537.36',  \n",
    "        'Host':'www.lagou.com',  \n",
    "        'Referer':'https://www.lagou.com/jobs/list_%E6%95%B0%E6%8D%AE%E4%BA%A7%E5%93%81%E7%BB%8F%E7%90%86?city=' + city + '&cl=false&fromSearch=true&labelWords=&suginput=',  \n",
    "        'X-Anit-Forge-Code':'0',  \n",
    "        'X-Anit-Forge-Token': 'None',  \n",
    "        'X-Requested-With':'XMLHttpRequest'  \n",
    "    }\n",
    "\n",
    "    # Form Data\n",
    "    my_data = {  \n",
    "        'first': 'true',  \n",
    "        'pn': num,  \n",
    "        'kd': position\n",
    "    }  \n",
    "    \n",
    "    res = requests.post(url, headers = my_headers, data = my_data)  \n",
    "    res.raise_for_status()  \n",
    "    res.encoding = 'utf-8'  \n",
    "    \n",
    "    # 得到包含职位信息的字典  \n",
    "    page = res.json()  \n",
    "    return page  "
   ]
  },
  {
   "cell_type": "code",
   "execution_count": 2,
   "metadata": {},
   "outputs": [],
   "source": [
    "def lagou_spider(position, city):  \n",
    "    '''\n",
    "        爬取拉勾职位列表数据\n",
    "    '''\n",
    "    # Request URL\n",
    "    url = 'https://www.lagou.com/jobs/positionAjax.json?city=' + city + '&needAddtionalResult=false'  \n",
    "    \n",
    "    # 先设定页数为1,获取总的职位数  \n",
    "    page_1 = get_json(url,1)  \n",
    "    total_count = page_1['content']['positionResult']['totalCount']  \n",
    "    num = get_page_num(total_count)  \n",
    "    total_info = []  \n",
    "    time.sleep(20)  \n",
    "    print('职位总数:{},页数:{}'.format(total_count,num))  \n",
    "\n",
    "    for n in range(1,num+1):  \n",
    "        # 对每个网页读取JSON, 获取每页数据  \n",
    "        page = get_json(url,n)  \n",
    "        jobs_list = page['content']['positionResult']['result']  \n",
    "        page_info = get_page_info(jobs_list)  \n",
    "        total_info += page_info  \n",
    "        print('已经抓取第{}页, 职位总数:{}'.format(n, len(total_info)))  \n",
    "        # 每次抓取完成后,暂停一会,防止被服务器拉黑  \n",
    "        time.sleep(30)  \n",
    "       \n",
    "    #将总数据转化为data frame再输出  \n",
    "    df = pd.DataFrame(data = total_info,columns = ['公司全名','公司简称','公司规模','融资阶段','区域','职位名称','工作经验','学历要求','工资','职位福利'])   \n",
    "    df.to_csv('spider_data.csv',index = False)  \n",
    "    \n",
    "    print('已保存为csv文件.')  "
   ]
  },
  {
   "cell_type": "code",
   "execution_count": null,
   "metadata": {},
   "outputs": [],
   "source": []
  }
 ],
 "metadata": {
  "hide_input": false,
  "kernelspec": {
   "display_name": "Python 3",
   "language": "python",
   "name": "python3"
  },
  "language_info": {
   "codemirror_mode": {
    "name": "ipython",
    "version": 3
   },
   "file_extension": ".py",
   "mimetype": "text/x-python",
   "name": "python",
   "nbconvert_exporter": "python",
   "pygments_lexer": "ipython3",
   "version": "3.6.5"
  }
 },
 "nbformat": 4,
 "nbformat_minor": 2
}
