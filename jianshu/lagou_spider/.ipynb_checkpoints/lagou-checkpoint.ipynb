{
 "cells": [
  {
   "cell_type": "code",
   "execution_count": 1,
   "metadata": {},
   "outputs": [],
   "source": [
    "# 数据处理及导入导出\n",
    "import pandas as pd  \n",
    "# 爬虫\n",
    "import requests  \n",
    "import math  \n",
    "import time\n",
    "import sys, urllib\n",
    "# 数据可视化\n",
    "import seaborn as sns\n",
    "import matplotlib.pyplot as plt\n",
    "# 统计建模\n",
    "import statsmodels.api as sm\n",
    "# 词云\n",
    "from wordcloud import WordCloud  \n",
    "from imageio import imread\n",
    "import jieba"
   ]
  },
  {
   "cell_type": "code",
   "execution_count": 2,
   "metadata": {},
   "outputs": [],
   "source": [
    "def get_json(url, num, encode_city, position):  \n",
    "    '''\n",
    "        从网页获取 JSON，使用 POST 请求，加上头部信息\n",
    "    '''\n",
    "    # Request Headers\n",
    "    my_headers = {  \n",
    "        'User-Agent':'Mozilla/5.0 (Windows NT 10.0; Win64; x64) AppleWebKit/537.36 (KHTML, like Gecko) Chrome/66.0.3359.139 Safari/537.36',  \n",
    "        'Host':'www.lagou.com',  \n",
    "        'Referer':'https://www.lagou.com/jobs/list_%E6%95%B0%E6%8D%AE%E4%BA%A7%E5%93%81%E7%BB%8F%E7%90%86?city=' + encode_city + '&cl=false&fromSearch=true&labelWords=&suginput=',  \n",
    "        'X-Anit-Forge-Code':'0',  \n",
    "        'X-Anit-Forge-Token': 'None',  \n",
    "        'X-Requested-With':'XMLHttpRequest'  \n",
    "    }\n",
    "\n",
    "    # Form Data\n",
    "    my_data = {  \n",
    "        'first': 'true',  \n",
    "        'pn': num,  \n",
    "        'kd': position\n",
    "    }  \n",
    "    \n",
    "    res = requests.post(url, headers = my_headers, data = my_data)  \n",
    "    res.raise_for_status()  \n",
    "    res.encoding = 'utf-8'  \n",
    "    \n",
    "    # 得到包含职位信息的字典  \n",
    "    page = res.json()  \n",
    "    return page  "
   ]
  },
  {
   "cell_type": "code",
   "execution_count": 3,
   "metadata": {},
   "outputs": [],
   "source": [
    "def get_page_num(count):  \n",
    "    '''\n",
    "        计算要抓取的页数\n",
    "    '''  \n",
    "    # 每页15个职位,向上取整  \n",
    "    res = math.ceil(count/15)  \n",
    "    # 拉勾网最多显示30页结果  \n",
    "    if res > 30:  \n",
    "        return 30  \n",
    "    else:  \n",
    "        return res  "
   ]
  },
  {
   "cell_type": "code",
   "execution_count": 4,
   "metadata": {},
   "outputs": [],
   "source": [
    "def get_page_info(jobs_list):  \n",
    "    ''''\n",
    "        对一个网页的职位信息进行解析,返回列表\n",
    "    '''  \n",
    "    page_info_list = []  \n",
    "    \n",
    "    for i in jobs_list:  \n",
    "        job_info = []  \n",
    "        job_info.append(i['companyFullName'])  \n",
    "        job_info.append(i['companyShortName'])  \n",
    "        job_info.append(i['companySize']) \n",
    "        job_info.append(i['financeStage'])  \n",
    "        job_info.append(i['district'])  \n",
    "        job_info.append(i['industryField'])  \n",
    "        job_info.append(i['positionName'])  \n",
    "        job_info.append(i['jobNature']) \n",
    "        job_info.append(i['firstType']) \n",
    "        job_info.append(i['secondType']) \n",
    "        job_info.append(i['workYear'])  \n",
    "        job_info.append(i['education'])  \n",
    "        job_info.append(i['salary'])  \n",
    "        job_info.append(i['positionAdvantage'])  \n",
    "        page_info_list.append(job_info)  \n",
    "    \n",
    "    return page_info_list  "
   ]
  },
  {
   "cell_type": "code",
   "execution_count": 5,
   "metadata": {},
   "outputs": [],
   "source": [
    "def lagou_spider(city, position):  \n",
    "    '''\n",
    "        爬取拉勾职位列表数据\n",
    "    '''\n",
    "    # encode city\n",
    "    encode_city = urllib.parse.quote(city)\n",
    "    \n",
    "    # Request URL\n",
    "    url = 'https://www.lagou.com/jobs/positionAjax.json?city=' + encode_city + '&needAddtionalResult=false'  \n",
    "    \n",
    "    # 先设定页数为1,获取总的职位数  \n",
    "    first_page = get_json(url,1, encode_city, position)  \n",
    "    total_count = first_page['content']['positionResult']['totalCount']  \n",
    "    num = get_page_num(total_count)  \n",
    "    total_info = []  \n",
    "    time.sleep(20)  \n",
    "    print('职位总数:{},页数:{}'.format(total_count,num))  \n",
    "\n",
    "    for n in range(1,num+1):  \n",
    "        # 对每个网页读取JSON, 获取每页数据  \n",
    "        page = get_json(url, n, encode_city, position)  \n",
    "        jobs_list = page['content']['positionResult']['result']  \n",
    "        page_info = get_page_info(jobs_list)  \n",
    "        total_info += page_info  \n",
    "        print('已经抓取第{}页, 职位总数:{}'.format(n, len(total_info)))  \n",
    "        # 每次抓取完成后,暂停一会,防止被服务器拉黑  \n",
    "        time.sleep(30)  \n",
    "       \n",
    "    #将总数据转化为 DataFrame再输出  \n",
    "    df = pd.DataFrame(data = total_info,columns = ['公司全名', '公司简称', '公司规模', '融资阶段', '区域', '行业', \n",
    "                                                   '职位名称', '工作性质', '一级类别', '二级类别', '工作经验', '学历要求', '工资','职位福利'])   \n",
    "    data_output = 'data\\\\' + city + '—' + position + '.csv'\n",
    "    df.to_csv(data_output, index = False)  \n",
    "    \n",
    "    print('已保存为csv文件.')  "
   ]
  },
  {
   "cell_type": "code",
   "execution_count": 6,
   "metadata": {},
   "outputs": [
    {
     "name": "stdout",
     "output_type": "stream",
     "text": [
      "工作城市：\n",
      "广州\n",
      "目标职位：\n",
      "产品经理\n"
     ]
    }
   ],
   "source": [
    "# 输入工作城市和目标职位\n",
    "city = input(\"工作城市：\\n\")\n",
    "position = input(\"目标职位：\\n\")"
   ]
  },
  {
   "cell_type": "code",
   "execution_count": 7,
   "metadata": {},
   "outputs": [
    {
     "name": "stdout",
     "output_type": "stream",
     "text": [
      "职位总数:1176,页数:30\n",
      "已经抓取第1页, 职位总数:15\n",
      "已经抓取第2页, 职位总数:30\n",
      "已经抓取第3页, 职位总数:45\n",
      "已经抓取第4页, 职位总数:60\n",
      "已经抓取第5页, 职位总数:75\n",
      "已经抓取第6页, 职位总数:90\n",
      "已经抓取第7页, 职位总数:105\n",
      "已经抓取第8页, 职位总数:120\n",
      "已经抓取第9页, 职位总数:135\n",
      "已经抓取第10页, 职位总数:150\n",
      "已经抓取第11页, 职位总数:165\n",
      "已经抓取第12页, 职位总数:180\n",
      "已经抓取第13页, 职位总数:195\n",
      "已经抓取第14页, 职位总数:210\n",
      "已经抓取第15页, 职位总数:225\n",
      "已经抓取第16页, 职位总数:240\n",
      "已经抓取第17页, 职位总数:255\n",
      "已经抓取第18页, 职位总数:270\n",
      "已经抓取第19页, 职位总数:285\n",
      "已经抓取第20页, 职位总数:300\n",
      "已经抓取第21页, 职位总数:315\n",
      "已经抓取第22页, 职位总数:330\n",
      "已经抓取第23页, 职位总数:345\n",
      "已经抓取第24页, 职位总数:360\n",
      "已经抓取第25页, 职位总数:375\n",
      "已经抓取第26页, 职位总数:390\n",
      "已经抓取第27页, 职位总数:405\n",
      "已经抓取第28页, 职位总数:420\n",
      "已经抓取第29页, 职位总数:435\n",
      "已经抓取第30页, 职位总数:450\n",
      "已保存为csv文件.\n"
     ]
    }
   ],
   "source": [
    "# 运行爬虫\n",
    "lagou_spider(city, position)"
   ]
  },
  {
   "cell_type": "code",
   "execution_count": 40,
   "metadata": {},
   "outputs": [],
   "source": [
    "# 读取数据  \n",
    "file = open('data\\\\' + city + '—' + position + '.csv', 'rb')\n",
    "df = pd.read_csv(file, encoding = 'utf-8')  "
   ]
  },
  {
   "cell_type": "code",
   "execution_count": 41,
   "metadata": {},
   "outputs": [
    {
     "data": {
      "text/html": [
       "<div>\n",
       "<style scoped>\n",
       "    .dataframe tbody tr th:only-of-type {\n",
       "        vertical-align: middle;\n",
       "    }\n",
       "\n",
       "    .dataframe tbody tr th {\n",
       "        vertical-align: top;\n",
       "    }\n",
       "\n",
       "    .dataframe thead th {\n",
       "        text-align: right;\n",
       "    }\n",
       "</style>\n",
       "<table border=\"1\" class=\"dataframe\">\n",
       "  <thead>\n",
       "    <tr style=\"text-align: right;\">\n",
       "      <th></th>\n",
       "      <th>公司全名</th>\n",
       "      <th>公司简称</th>\n",
       "      <th>公司规模</th>\n",
       "      <th>融资阶段</th>\n",
       "      <th>区域</th>\n",
       "      <th>行业</th>\n",
       "      <th>职位名称</th>\n",
       "      <th>工作性质</th>\n",
       "      <th>一级类别</th>\n",
       "      <th>二级类别</th>\n",
       "      <th>工作经验</th>\n",
       "      <th>学历要求</th>\n",
       "      <th>工资</th>\n",
       "      <th>职位福利</th>\n",
       "    </tr>\n",
       "  </thead>\n",
       "  <tbody>\n",
       "    <tr>\n",
       "      <th>0</th>\n",
       "      <td>广州臻爱教育科技有限公司</td>\n",
       "      <td>臻爱教育</td>\n",
       "      <td>少于15人</td>\n",
       "      <td>未融资</td>\n",
       "      <td>海珠区</td>\n",
       "      <td>教育</td>\n",
       "      <td>产品经理/助理 Product Manager</td>\n",
       "      <td>全职</td>\n",
       "      <td>产品/需求/项目类</td>\n",
       "      <td>产品设计/需求分析</td>\n",
       "      <td>不限</td>\n",
       "      <td>大专</td>\n",
       "      <td>8k-15k</td>\n",
       "      <td>五险一金,享双休年假,学习空间大,快乐工作</td>\n",
       "    </tr>\n",
       "    <tr>\n",
       "      <th>1</th>\n",
       "      <td>广州康乐富健康管家有限公司</td>\n",
       "      <td>康乐富</td>\n",
       "      <td>150-500人</td>\n",
       "      <td>不需要融资</td>\n",
       "      <td>天河区</td>\n",
       "      <td>医疗健康,生活服务</td>\n",
       "      <td>产品经理</td>\n",
       "      <td>全职</td>\n",
       "      <td>产品/需求/项目类</td>\n",
       "      <td>产品设计/需求分析</td>\n",
       "      <td>3-5年</td>\n",
       "      <td>大专</td>\n",
       "      <td>6k-12k</td>\n",
       "      <td>弹性上下班,双休,发展空间大,自我实现</td>\n",
       "    </tr>\n",
       "    <tr>\n",
       "      <th>2</th>\n",
       "      <td>广东世纪晓教育科技有限公司</td>\n",
       "      <td>晓教育</td>\n",
       "      <td>2000人以上</td>\n",
       "      <td>不需要融资</td>\n",
       "      <td>天河区</td>\n",
       "      <td>教育</td>\n",
       "      <td>产品经理</td>\n",
       "      <td>全职</td>\n",
       "      <td>产品/需求/项目类</td>\n",
       "      <td>产品设计/需求分析</td>\n",
       "      <td>1-3年</td>\n",
       "      <td>本科</td>\n",
       "      <td>10k-15k</td>\n",
       "      <td>风口行业,年终奖,员工旅游,行业前三</td>\n",
       "    </tr>\n",
       "    <tr>\n",
       "      <th>3</th>\n",
       "      <td>广东链动网络科技有限公司</td>\n",
       "      <td>链动科技</td>\n",
       "      <td>50-150人</td>\n",
       "      <td>不需要融资</td>\n",
       "      <td>海珠区</td>\n",
       "      <td>移动互联网,电子商务</td>\n",
       "      <td>产品经理</td>\n",
       "      <td>全职</td>\n",
       "      <td>产品/需求/项目类</td>\n",
       "      <td>产品设计/需求分析</td>\n",
       "      <td>5-10年</td>\n",
       "      <td>大专</td>\n",
       "      <td>15k-25k</td>\n",
       "      <td>五险一金,周末双休,发展空间</td>\n",
       "    </tr>\n",
       "    <tr>\n",
       "      <th>4</th>\n",
       "      <td>广东智源信息技术有限公司</td>\n",
       "      <td>广东智源</td>\n",
       "      <td>50-150人</td>\n",
       "      <td>不需要融资</td>\n",
       "      <td>越秀区</td>\n",
       "      <td>移动互联网,企业服务</td>\n",
       "      <td>产品经理</td>\n",
       "      <td>全职</td>\n",
       "      <td>产品/需求/项目类</td>\n",
       "      <td>产品设计/需求分析</td>\n",
       "      <td>不限</td>\n",
       "      <td>硕士</td>\n",
       "      <td>5k-10k</td>\n",
       "      <td>月度活动,年度旅游,绩效奖金,五险一金</td>\n",
       "    </tr>\n",
       "  </tbody>\n",
       "</table>\n",
       "</div>"
      ],
      "text/plain": [
       "            公司全名  公司简称      公司规模   融资阶段   区域          行业  \\\n",
       "0   广州臻爱教育科技有限公司  臻爱教育     少于15人    未融资  海珠区          教育   \n",
       "1  广州康乐富健康管家有限公司   康乐富  150-500人  不需要融资  天河区   医疗健康,生活服务   \n",
       "2  广东世纪晓教育科技有限公司   晓教育   2000人以上  不需要融资  天河区          教育   \n",
       "3   广东链动网络科技有限公司  链动科技   50-150人  不需要融资  海珠区  移动互联网,电子商务   \n",
       "4   广东智源信息技术有限公司  广东智源   50-150人  不需要融资  越秀区  移动互联网,企业服务   \n",
       "\n",
       "                      职位名称 工作性质       一级类别       二级类别   工作经验 学历要求       工资  \\\n",
       "0  产品经理/助理 Product Manager   全职  产品/需求/项目类  产品设计/需求分析     不限   大专   8k-15k   \n",
       "1                     产品经理   全职  产品/需求/项目类  产品设计/需求分析   3-5年   大专   6k-12k   \n",
       "2                     产品经理   全职  产品/需求/项目类  产品设计/需求分析   1-3年   本科  10k-15k   \n",
       "3                     产品经理   全职  产品/需求/项目类  产品设计/需求分析  5-10年   大专  15k-25k   \n",
       "4                     产品经理   全职  产品/需求/项目类  产品设计/需求分析     不限   硕士   5k-10k   \n",
       "\n",
       "                    职位福利  \n",
       "0  五险一金,享双休年假,学习空间大,快乐工作  \n",
       "1    弹性上下班,双休,发展空间大,自我实现  \n",
       "2     风口行业,年终奖,员工旅游,行业前三  \n",
       "3         五险一金,周末双休,发展空间  \n",
       "4    月度活动,年度旅游,绩效奖金,五险一金  "
      ]
     },
     "execution_count": 41,
     "metadata": {},
     "output_type": "execute_result"
    }
   ],
   "source": [
    "df.head()"
   ]
  },
  {
   "cell_type": "code",
   "execution_count": 42,
   "metadata": {},
   "outputs": [],
   "source": [
    "# 剔除实习岗位  \n",
    "df.drop(df[df['工作性质'].str.contains('实习')].index, inplace=True)  "
   ]
  },
  {
   "cell_type": "code",
   "execution_count": 43,
   "metadata": {},
   "outputs": [
    {
     "data": {
      "text/html": [
       "<div>\n",
       "<style scoped>\n",
       "    .dataframe tbody tr th:only-of-type {\n",
       "        vertical-align: middle;\n",
       "    }\n",
       "\n",
       "    .dataframe tbody tr th {\n",
       "        vertical-align: top;\n",
       "    }\n",
       "\n",
       "    .dataframe thead th {\n",
       "        text-align: right;\n",
       "    }\n",
       "</style>\n",
       "<table border=\"1\" class=\"dataframe\">\n",
       "  <thead>\n",
       "    <tr style=\"text-align: right;\">\n",
       "      <th></th>\n",
       "      <th>公司全名</th>\n",
       "      <th>公司简称</th>\n",
       "      <th>公司规模</th>\n",
       "      <th>融资阶段</th>\n",
       "      <th>区域</th>\n",
       "      <th>行业</th>\n",
       "      <th>职位名称</th>\n",
       "      <th>工作性质</th>\n",
       "      <th>一级类别</th>\n",
       "      <th>二级类别</th>\n",
       "      <th>工作经验</th>\n",
       "      <th>学历要求</th>\n",
       "      <th>工资</th>\n",
       "      <th>职位福利</th>\n",
       "    </tr>\n",
       "  </thead>\n",
       "  <tbody>\n",
       "    <tr>\n",
       "      <th>count</th>\n",
       "      <td>450</td>\n",
       "      <td>450</td>\n",
       "      <td>449</td>\n",
       "      <td>449</td>\n",
       "      <td>448</td>\n",
       "      <td>449</td>\n",
       "      <td>450</td>\n",
       "      <td>450</td>\n",
       "      <td>450</td>\n",
       "      <td>450</td>\n",
       "      <td>450</td>\n",
       "      <td>450</td>\n",
       "      <td>450</td>\n",
       "      <td>450</td>\n",
       "    </tr>\n",
       "    <tr>\n",
       "      <th>unique</th>\n",
       "      <td>346</td>\n",
       "      <td>346</td>\n",
       "      <td>6</td>\n",
       "      <td>8</td>\n",
       "      <td>11</td>\n",
       "      <td>85</td>\n",
       "      <td>79</td>\n",
       "      <td>1</td>\n",
       "      <td>8</td>\n",
       "      <td>19</td>\n",
       "      <td>5</td>\n",
       "      <td>4</td>\n",
       "      <td>87</td>\n",
       "      <td>424</td>\n",
       "    </tr>\n",
       "    <tr>\n",
       "      <th>top</th>\n",
       "      <td>广州华多网络科技有限公司</td>\n",
       "      <td>欢聚时代（YY Inc）</td>\n",
       "      <td>50-150人</td>\n",
       "      <td>不需要融资</td>\n",
       "      <td>天河区</td>\n",
       "      <td>移动互联网</td>\n",
       "      <td>产品经理</td>\n",
       "      <td>全职</td>\n",
       "      <td>产品/需求/项目类</td>\n",
       "      <td>产品设计/需求分析</td>\n",
       "      <td>3-5年</td>\n",
       "      <td>本科</td>\n",
       "      <td>10k-20k</td>\n",
       "      <td>五险一金,绩效奖金,周末双休,超一亿会员</td>\n",
       "    </tr>\n",
       "    <tr>\n",
       "      <th>freq</th>\n",
       "      <td>8</td>\n",
       "      <td>8</td>\n",
       "      <td>124</td>\n",
       "      <td>124</td>\n",
       "      <td>232</td>\n",
       "      <td>114</td>\n",
       "      <td>316</td>\n",
       "      <td>450</td>\n",
       "      <td>413</td>\n",
       "      <td>392</td>\n",
       "      <td>206</td>\n",
       "      <td>325</td>\n",
       "      <td>60</td>\n",
       "      <td>4</td>\n",
       "    </tr>\n",
       "  </tbody>\n",
       "</table>\n",
       "</div>"
      ],
      "text/plain": [
       "                公司全名          公司简称     公司规模   融资阶段   区域     行业  职位名称 工作性质  \\\n",
       "count            450           450      449    449  448    449   450  450   \n",
       "unique           346           346        6      8   11     85    79    1   \n",
       "top     广州华多网络科技有限公司  欢聚时代（YY Inc）  50-150人  不需要融资  天河区  移动互联网  产品经理   全职   \n",
       "freq               8             8      124    124  232    114   316  450   \n",
       "\n",
       "             一级类别       二级类别  工作经验 学历要求       工资                  职位福利  \n",
       "count         450        450   450  450      450                   450  \n",
       "unique          8         19     5    4       87                   424  \n",
       "top     产品/需求/项目类  产品设计/需求分析  3-5年   本科  10k-20k  五险一金,绩效奖金,周末双休,超一亿会员  \n",
       "freq          413        392   206  325       60                     4  "
      ]
     },
     "execution_count": 43,
     "metadata": {},
     "output_type": "execute_result"
    }
   ],
   "source": [
    "df.describe()"
   ]
  },
  {
   "cell_type": "code",
   "execution_count": 44,
   "metadata": {},
   "outputs": [],
   "source": [
    "pattern = '\\d+'  \n",
    "df['工作年限'] = df['工作经验'].str.findall(pattern)\n",
    "\n",
    "avg_work_year = []  \n",
    "for i in df['工作年限']:  \n",
    "    # 如果工作经验为 '不限' 或 '应届毕业生' ,那么匹配值为空,工作年限为 0  \n",
    "    if len(i) == 0:  \n",
    "        avg_work_year.append(0)  \n",
    "   # 如果匹配值为一个数值,那么返回该数值  \n",
    "    elif len(i) == 1:  \n",
    "        avg_work_year.append(int(''.join(i)))  \n",
    "   # 如果匹配值为一个区间,那么取平均值  \n",
    "    else:  \n",
    "        num_list = [int(j) for j in i]  \n",
    "        avg_year = sum(num_list) / 2  \n",
    "        avg_work_year.append(avg_year)\n",
    "        \n",
    "df['经验要求'] = avg_work_year\n",
    "        \n",
    "# 将字符串转化为列表,再取区间的前25%，比较贴近现实  \n",
    "df['salary'] = df['工资'].str.findall(pattern)  \n",
    "\n",
    "avg_salary = []  \n",
    "for k in df['salary']:  \n",
    "    int_list = [int(n) for n in k]  \n",
    "    avg_wage = int_list[0] + (int_list[1] - int_list[0]) / 4  \n",
    "    avg_salary.append(avg_wage) \n",
    "\n",
    "df['月工资'] = avg_salary"
   ]
  },
  {
   "cell_type": "code",
   "execution_count": 45,
   "metadata": {},
   "outputs": [],
   "source": [
    "# 将清洗后的数据保存\n",
    "df.to_csv('data\\\\' + city + '—' + position + '（已清洗）' + '.csv', index = False)"
   ]
  },
  {
   "cell_type": "code",
   "execution_count": 46,
   "metadata": {},
   "outputs": [],
   "source": [
    "# 读取清洗后的数据  \n",
    "file = open('data\\\\' + city + '—' + position + '（已清洗）' + '.csv', 'rb')\n",
    "df2 = pd.read_csv(file, encoding = 'utf-8')  "
   ]
  },
  {
   "cell_type": "code",
   "execution_count": 47,
   "metadata": {},
   "outputs": [
    {
     "name": "stdout",
     "output_type": "stream",
     "text": [
      "工资描述：\n",
      "count    450.000000\n",
      "mean      12.885556\n",
      "std        4.888166\n",
      "min        1.250000\n",
      "25%        9.750000\n",
      "50%       12.000000\n",
      "75%       16.000000\n",
      "max       31.250000\n",
      "Name: 月工资, dtype: float64\n"
     ]
    }
   ],
   "source": [
    "# 描述统计  \n",
    "print('工资描述：\\n{}'.format(df2['月工资'].describe()))"
   ]
  },
  {
   "cell_type": "code",
   "execution_count": 48,
   "metadata": {},
   "outputs": [],
   "source": [
    "plt.rcParams['font.sans-serif'] = ['SimHei'] # 指定默认字体  \n",
    "plt.rcParams['axes.unicode_minus'] = False # 解决保存图像是负号'-'显示为方块的问题 \n",
    "sns.set(font='SimHei')  # 解决 Seaborn 中文显示问题"
   ]
  },
  {
   "cell_type": "code",
   "execution_count": 49,
   "metadata": {},
   "outputs": [
    {
     "name": "stderr",
     "output_type": "stream",
     "text": [
      "E:\\IDE\\Anaconda3\\envs\\gaius\\lib\\site-packages\\matplotlib\\axes\\_axes.py:6462: UserWarning: The 'normed' kwarg is deprecated, and has been replaced by the 'density' kwarg.\n",
      "  warnings.warn(\"The 'normed' kwarg is deprecated, and has been \"\n"
     ]
    },
    {
     "data": {
      "image/png": "[encoded data removed]",
      "text/plain": [
       "<Figure size 432x288 with 1 Axes>"
      ]
     },
     "metadata": {},
     "output_type": "display_data"
    }
   ],
   "source": [
    "# 绘制频率直方图并保存  \n",
    "sns.distplot(df2['月工资'], bins=15, kde=True, rug=True)\n",
    "plt.title(\"工资直方图\")\n",
    "plt.xlabel('工资 (千元)')   \n",
    "plt.ylabel('频数')      \n",
    "plt.savefig('output\\histogram.jpg')  \n",
    "plt.show();"
   ]
  },
  {
   "cell_type": "code",
   "execution_count": 50,
   "metadata": {},
   "outputs": [
    {
     "data": {
      "image/png": "[encoded data removed]",
      "text/plain": [
       "<Figure size 432x288 with 1 Axes>"
      ]
     },
     "metadata": {},
     "output_type": "display_data"
    }
   ],
   "source": [
    "count = df2['区域'].value_counts()\n",
    "\n",
    "# 绘制饼图并保存  \n",
    "fig = plt.figure()\n",
    "ax = fig.add_subplot(111)\n",
    "ax.pie(count, labels = count.keys(), labeldistance=1.4, autopct='%2.1f%%')  \n",
    "plt.axis('equal')  # 使饼图为正圆形  \n",
    "plt.legend(loc='upper left', bbox_to_anchor=(-0.1, 1))  \n",
    "plt.savefig('output\\pie_chart.jpg')  \n",
    "plt.show()  "
   ]
  },
  {
   "cell_type": "code",
   "execution_count": 51,
   "metadata": {},
   "outputs": [
    {
     "name": "stderr",
     "output_type": "stream",
     "text": [
      "Building prefix dict from the default dictionary ...\n",
      "Loading model from cache C:\\Users\\gaiusyao\\AppData\\Local\\Temp\\jieba.cache\n",
      "Loading model cost 0.796 seconds.\n",
      "Prefix dict has been built succesfully.\n"
     ]
    },
    {
     "data": {
      "image/png": "[encoded data removed]",
      "text/plain": [
       "<Figure size 432x288 with 1 Axes>"
      ]
     },
     "metadata": {},
     "output_type": "display_data"
    }
   ],
   "source": [
    "# 绘制词云,将职位福利中的字符串汇总  \n",
    "text = ''  \n",
    "for line in df2['职位福利']:  \n",
    "    text += line  \n",
    "# 使用jieba模块将字符串分割为单词列表      \n",
    "cut_text = ' '.join(jieba.cut(text))  \n",
    "color_mask = imread('img\\jobs.jpg')  #设置背景图  \n",
    "cloud = WordCloud(  \n",
    "    font_path = 'fonts\\FZBYSK.ttf',   \n",
    "    background_color = 'white',  \n",
    "    mask = color_mask,  \n",
    "    max_words = 1000,  \n",
    "    max_font_size = 100          \n",
    ")  \n",
    "\n",
    "word_cloud = cloud.generate(cut_text)  \n",
    "\n",
    "# 保存词云图片  \n",
    "word_cloud.to_file('output\\word_cloud.jpg')  \n",
    "plt.imshow(word_cloud)  \n",
    "plt.axis('off')  \n",
    "plt.show()"
   ]
  },
  {
   "cell_type": "code",
   "execution_count": 52,
   "metadata": {},
   "outputs": [],
   "source": [
    "# 实证统计,将学历不限的职位要求认定为最低学历:大专  \n",
    "df['学历要求'] = df['学历要求'].replace('不限', '大专')  "
   ]
  },
  {
   "cell_type": "code",
   "execution_count": 53,
   "metadata": {},
   "outputs": [],
   "source": [
    "# 学历分为大专\\本科\\硕士,将它们设定为虚拟变量  \n",
    "dummy_edu = pd.get_dummies(df['学历要求'], prefix = '学历') "
   ]
  },
  {
   "cell_type": "code",
   "execution_count": 54,
   "metadata": {},
   "outputs": [],
   "source": [
    "# 构建回归数组  \n",
    "df_with_dummy = pd.concat([df['月工资'], df['经验要求'], dummy_edu], axis = 1)"
   ]
  },
  {
   "cell_type": "code",
   "execution_count": 55,
   "metadata": {},
   "outputs": [
    {
     "name": "stdout",
     "output_type": "stream",
     "text": [
      "回归方程的参数：\n",
      "const    7.302655\n",
      "经验要求     1.192419\n",
      "学历_大专    0.159035\n",
      "学历_本科    2.069740\n",
      "学历_硕士    5.073880\n",
      "dtype: float64\n",
      "\n",
      "回归结果：\n",
      "                            OLS Regression Results                            \n",
      "==============================================================================\n",
      "Dep. Variable:                    月工资   R-squared:                       0.240\n",
      "Model:                            OLS   Adj. R-squared:                  0.235\n",
      "Method:                 Least Squares   F-statistic:                     46.89\n",
      "Date:                Fri, 29 Jun 2018   Prob (F-statistic):           2.35e-26\n",
      "Time:                        20:57:54   Log-Likelihood:                -1290.4\n",
      "No. Observations:                 450   AIC:                             2589.\n",
      "Df Residuals:                     446   BIC:                             2605.\n",
      "Df Model:                           3                                         \n",
      "Covariance Type:            nonrobust                                         \n",
      "==============================================================================\n",
      "                 coef    std err          t      P>|t|      [0.025      0.975]\n",
      "------------------------------------------------------------------------------\n",
      "const          7.3027      0.569     12.824      0.000       6.184       8.422\n",
      "经验要求           1.1924      0.116     10.321      0.000       0.965       1.419\n",
      "学历_大专          0.1590      0.567      0.281      0.779      -0.954       1.272\n",
      "学历_本科          2.0697      0.532      3.891      0.000       1.024       3.115\n",
      "学历_硕士          5.0739      1.444      3.515      0.000       2.237       7.911\n",
      "==============================================================================\n",
      "Omnibus:                       97.185   Durbin-Watson:                   2.145\n",
      "Prob(Omnibus):                  0.000   Jarque-Bera (JB):              195.765\n",
      "Skew:                           1.166   Prob(JB):                     3.09e-43\n",
      "Kurtosis:                       5.236   Cond. No.                     1.23e+16\n",
      "==============================================================================\n",
      "\n",
      "Warnings:\n",
      "[1] Standard Errors assume that the covariance matrix of the errors is correctly specified.\n",
      "[2] The smallest eigenvalue is 4.61e-29. This might indicate that there are\n",
      "strong multicollinearity problems or that the design matrix is singular.\n"
     ]
    }
   ],
   "source": [
    "# 建立多元回归模型  \n",
    "y = df_with_dummy['月工资']  \n",
    "X = df_with_dummy[['经验要求','学历_大专','学历_本科','学历_硕士']]  \n",
    "X = sm.add_constant(X)   \n",
    "model = sm.OLS(y, X.astype(float))  \n",
    "results = model.fit()  \n",
    "print('回归方程的参数：\\n{}\\n'.format(results.params))  \n",
    "print('回归结果：\\n{}'.format(results.summary()))"
   ]
  },
  {
   "cell_type": "code",
   "execution_count": null,
   "metadata": {},
   "outputs": [],
   "source": []
  }
 ],
 "metadata": {
  "hide_input": false,
  "kernelspec": {
   "display_name": "Python 3",
   "language": "python",
   "name": "python3"
  },
  "language_info": {
   "codemirror_mode": {
    "name": "ipython",
    "version": 3
   },
   "file_extension": ".py",
   "mimetype": "text/x-python",
   "name": "python",
   "nbconvert_exporter": "python",
   "pygments_lexer": "ipython3",
   "version": "3.6.5"
  }
 },
 "nbformat": 4,
 "nbformat_minor": 2
}
