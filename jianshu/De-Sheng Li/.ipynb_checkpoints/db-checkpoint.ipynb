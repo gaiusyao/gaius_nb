{
 "cells": [
  {
   "cell_type": "code",
   "execution_count": 1,
   "metadata": {},
   "outputs": [],
   "source": [
    "import sqlite3\n",
    "import pandas as pd"
   ]
  },
  {
   "cell_type": "code",
   "execution_count": 2,
   "metadata": {},
   "outputs": [],
   "source": [
    "def commit_sql(db, sql):\n",
    "    \"\"\"\n",
    "        将所做的修改保存到数据库\n",
    "        \n",
    "        Args:\n",
    "            db: database name, string\n",
    "            sql: sql statement, string\n",
    "    \"\"\"\n",
    "    conn = sqlite3.connect(db + '.db')\n",
    "    \n",
    "    cursor = conn.cursor() #创建 Cursor\n",
    "    cursor.execute(sql)\n",
    "    cursor.close()\n",
    "    \n",
    "    conn.commit()\n",
    "    conn.close()\n",
    "    \n",
    "    print('提交成功')"
   ]
  },
  {
   "cell_type": "code",
   "execution_count": 3,
   "metadata": {},
   "outputs": [],
   "source": [
    "# 创建文选表\n",
    "# 表名：mzdxj\n",
    "# 字段：id, title, date, vol, period, content, anno\n",
    "create_mzdxj = \"\"\"\n",
    "    CREATE TABLE mzdxj (\n",
    "        id INTEGER PRIMARY KEY AUTOINCREMENT, --自增主键\n",
    "        title VARCHAR(255), --文章标题\n",
    "        date TEXT, --日期，格式YYYY-MM-DD\n",
    "        vol INTEGER, --卷次\n",
    "        period VARCHAR(40), --时期\n",
    "        content TEXT, --文章内容\n",
    "        anno TEXT --文章注释\n",
    "    )\"\"\"\n",
    "\n",
    "# commit_sql('mzx', create_mzdxj)"
   ]
  },
  {
   "cell_type": "code",
   "execution_count": 4,
   "metadata": {},
   "outputs": [],
   "source": [
    "def insert_into_mzdxj():\n",
    "    \"\"\"\n",
    "        插入一条记录到选集表\n",
    "    \"\"\"\n",
    "    title = input(\"文章标题：\")\n",
    "    date = input(\"日期（YYYY-MM-DD）：\")\n",
    "    vol = input(\"卷次：\")\n",
    "    period = input(\"时期：\")\n",
    "    content = input(\"文章内容：\")\n",
    "    anno = input(\"文章注释：\")\n",
    "    \n",
    "    insert_sql = \"\"\"\n",
    "    INSERT INTO mzdxj (id, title, date, vol, period, content, anno) \n",
    "        VALUES(\n",
    "            NULL,\n",
    "            '%s',\n",
    "            '%s',\n",
    "            %d,\n",
    "            '%s',\n",
    "            '%s',\n",
    "            '%s'\n",
    "        )\n",
    "    \"\"\" % (title, date, int(vol), period, content.replace(\" \", \"\"), anno.replace(\" \", \"\"))\n",
    "    \n",
    "    commit_sql('mzx', insert_sql)"
   ]
  },
  {
   "cell_type": "code",
   "execution_count": 5,
   "metadata": {},
   "outputs": [],
   "source": [
    "df = pd.read_sql('select * from mzdxj', con=sqlite3.connect('mzx.db'))"
   ]
  },
  {
   "cell_type": "code",
   "execution_count": 6,
   "metadata": {},
   "outputs": [
    {
     "data": {
      "text/html": [
       "<div>\n",
       "<style scoped>\n",
       "    .dataframe tbody tr th:only-of-type {\n",
       "        vertical-align: middle;\n",
       "    }\n",
       "\n",
       "    .dataframe tbody tr th {\n",
       "        vertical-align: top;\n",
       "    }\n",
       "\n",
       "    .dataframe thead th {\n",
       "        text-align: right;\n",
       "    }\n",
       "</style>\n",
       "<table border=\"1\" class=\"dataframe\">\n",
       "  <thead>\n",
       "    <tr style=\"text-align: right;\">\n",
       "      <th></th>\n",
       "      <th>id</th>\n",
       "      <th>title</th>\n",
       "      <th>date</th>\n",
       "      <th>vol</th>\n",
       "      <th>period</th>\n",
       "      <th>content</th>\n",
       "      <th>anno</th>\n",
       "    </tr>\n",
       "  </thead>\n",
       "  <tbody>\n",
       "    <tr>\n",
       "      <th>0</th>\n",
       "      <td>1</td>\n",
       "      <td>序</td>\n",
       "      <td>None</td>\n",
       "      <td>6</td>\n",
       "      <td>None</td>\n",
       "      <td>毛泽东同志是伟大的马克思列宁主义者。伟大的领袖和导师毛泽东主席的著作，是马克思列宁主义的不朽...</td>\n",
       "      <td>〔1〕中共中央关于出版《毛泽东选集》和筹备出版《毛泽东全集》的决定：半个多世纪以来，伟大的领...</td>\n",
       "    </tr>\n",
       "    <tr>\n",
       "      <th>1</th>\n",
       "      <td>2</td>\n",
       "      <td>中国社会各阶级的分析</td>\n",
       "      <td>1925-12-01</td>\n",
       "      <td>1</td>\n",
       "      <td>第一次国内革命战争时期</td>\n",
       "      <td>谁是我们的敌人？谁是我们的朋友？这个问题是革命的首要问题。中国过去一切革命斗争成效甚少，其基...</td>\n",
       "      <td>〔1〕国家主义派指中国青年党，当时以其外围组织“中国国家主义青年团”的名义公开进行活动。组织...</td>\n",
       "    </tr>\n",
       "  </tbody>\n",
       "</table>\n",
       "</div>"
      ],
      "text/plain": [
       "   id       title        date  vol       period  \\\n",
       "0   1           序        None    6         None   \n",
       "1   2  中国社会各阶级的分析  1925-12-01    1  第一次国内革命战争时期   \n",
       "\n",
       "                                             content  \\\n",
       "0  毛泽东同志是伟大的马克思列宁主义者。伟大的领袖和导师毛泽东主席的著作，是马克思列宁主义的不朽...   \n",
       "1  谁是我们的敌人？谁是我们的朋友？这个问题是革命的首要问题。中国过去一切革命斗争成效甚少，其基...   \n",
       "\n",
       "                                                anno  \n",
       "0  〔1〕中共中央关于出版《毛泽东选集》和筹备出版《毛泽东全集》的决定：半个多世纪以来，伟大的领...  \n",
       "1  〔1〕国家主义派指中国青年党，当时以其外围组织“中国国家主义青年团”的名义公开进行活动。组织...  "
      ]
     },
     "execution_count": 6,
     "metadata": {},
     "output_type": "execute_result"
    }
   ],
   "source": [
    "df.head()"
   ]
  },
  {
   "cell_type": "code",
   "execution_count": 7,
   "metadata": {},
   "outputs": [],
   "source": [
    "# insert_into_mzdxj()"
   ]
  },
  {
   "cell_type": "code",
   "execution_count": null,
   "metadata": {},
   "outputs": [],
   "source": []
  }
 ],
 "metadata": {
  "hide_input": false,
  "kernelspec": {
   "display_name": "Python 3",
   "language": "python",
   "name": "python3"
  },
  "language_info": {
   "codemirror_mode": {
    "name": "ipython",
    "version": 3
   },
   "file_extension": ".py",
   "mimetype": "text/x-python",
   "name": "python",
   "nbconvert_exporter": "python",
   "pygments_lexer": "ipython3",
   "version": "3.6.5"
  }
 },
 "nbformat": 4,
 "nbformat_minor": 2
}
