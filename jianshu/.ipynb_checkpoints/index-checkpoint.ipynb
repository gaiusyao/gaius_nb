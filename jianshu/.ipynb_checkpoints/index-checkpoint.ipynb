{
 "cells": [
  {
   "cell_type": "markdown",
   "metadata": {},
   "source": [
    "# jianshu\n",
    "\n",
    "- Python 数据分析\n",
    "    - [Lagou Spider](https://nbviewer.jupyter.org/github/gaiusyao/gaius_nb/blob/master/jianshu/lagou_spider/lagou.ipynb): 拉勾爬虫\n",
    "    - [SW_scripts](https://nbviewer.jupyter.org/github/gaiusyao/gaius_nb/blob/master/jianshu/SW_scripts/SW_scripts.ipynb): 星球大战剧本\n",
    "    - [Google Job Skills](https://nbviewer.jupyter.org/github/gaiusyao/gaius_nb/blob/master/jianshu/google_job_skills/google_job_skills.ipynb): 谷歌职位要求\n",
    "    - [jieba](https://nbviewer.jupyter.org/github/gaiusyao/gaius_nb/blob/master/jianshu/jieba/jieba.ipynb): jieba 中文分词\n",
    "    - [Trump Tweet](https://nbviewer.jupyter.org/github/gaiusyao/gaius_nb/blob/master/jianshu/trump_tweet/trump_tweet.ipynb): LSI 和 LDA 提取川普推特主题\n",
    "    - [De Sheng Li](https://nbviewer.jupyter.org/github/gaiusyao/gaius_nb/blob/master/jianshu/De-Sheng-Li/note.ipynb): 《毛泽东选集》文本分析\n",
    "    \n",
    "    \n",
    "- Python 数据科学入门\n",
    "    - [Content](https://nbviewer.jupyter.org/github/gaiusyao/gaius_nb/blob/master/jianshu/Intro_to_Python_Data_Science/index.ipynb): 目录（暨写作大纲）"
   ]
  },
  {
   "cell_type": "code",
   "execution_count": null,
   "metadata": {},
   "outputs": [],
   "source": []
  }
 ],
 "metadata": {
  "hide_input": false,
  "kernelspec": {
   "display_name": "Python 3",
   "language": "python",
   "name": "python3"
  },
  "language_info": {
   "codemirror_mode": {
    "name": "ipython",
    "version": 3
   },
   "file_extension": ".py",
   "mimetype": "text/x-python",
   "name": "python",
   "nbconvert_exporter": "python",
   "pygments_lexer": "ipython3",
   "version": "3.6.6"
  }
 },
 "nbformat": 4,
 "nbformat_minor": 2
}
