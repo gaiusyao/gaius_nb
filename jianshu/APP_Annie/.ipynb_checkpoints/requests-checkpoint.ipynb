{
 "cells": [
  {
   "cell_type": "code",
   "execution_count": 2,
   "metadata": {},
   "outputs": [],
   "source": [
    "import pandas as pd\n",
    "\n",
    "import requests\n",
    "import math  \n",
    "import time\n",
    "import sys, urllib"
   ]
  },
  {
   "cell_type": "code",
   "execution_count": null,
   "metadata": {},
   "outputs": [],
   "source": [
    "url = \"https://www.appannie.com/apps/ios/app/e5ad90e5bcb9e79fade4bfa1/reviews/table/ \\\n",
    "    ?order_by=date&order_type=desc&page=0&interval=100&translate_lang= \\\n",
    "    &start_date=2018-08-20&end_date=2018-08-29\"\n",
    "\n",
    "my_headers = {  \n",
    "    'User-Agent':'Mozilla/5.0 (Windows NT 10.0; Win64; x64) AppleWebKit/537.36 (KHTML, like Gecko) Chrome/66.0.3359.139 Safari/537.36',  \n",
    "    'Host':'www.appannie.com',  \n",
    "    'Referer':'https://www.lagou.com/jobs/list_%E6%95%B0%E6%8D%AE%E4%BA%A7%E5%93%81%E7%BB%8F%E7%90%86?city=' + encode_city + '&cl=false&fromSearch=true&labelWords=&suginput=',  \n",
    "    'X-Anit-Forge-Code':'0',  \n",
    "    'X-Anit-Forge-Token': 'None',  \n",
    "    'X-Requested-With':'XMLHttpRequest'  \n",
    "}"
   ]
  }
 ],
 "metadata": {
  "hide_input": false,
  "kernelspec": {
   "display_name": "Python 3",
   "language": "python",
   "name": "python3"
  },
  "language_info": {
   "codemirror_mode": {
    "name": "ipython",
    "version": 3
   },
   "file_extension": ".py",
   "mimetype": "text/x-python",
   "name": "python",
   "nbconvert_exporter": "python",
   "pygments_lexer": "ipython3",
   "version": "3.6.6"
  }
 },
 "nbformat": 4,
 "nbformat_minor": 2
}
