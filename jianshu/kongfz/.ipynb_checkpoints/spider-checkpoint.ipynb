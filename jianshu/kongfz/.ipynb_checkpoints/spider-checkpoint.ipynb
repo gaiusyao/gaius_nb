{
 "cells": [
  {
   "cell_type": "markdown",
   "metadata": {},
   "source": [
    "## 导入相关包"
   ]
  },
  {
   "cell_type": "code",
   "execution_count": 1,
   "metadata": {},
   "outputs": [],
   "source": [
    "import numpy as np\n",
    "import pandas as pd\n",
    "\n",
    "import requests  \n",
    "\n",
    "import re\n",
    "import math  \n",
    "import time\n",
    "import sys, urllib"
   ]
  },
  {
   "cell_type": "markdown",
   "metadata": {},
   "source": [
    "## 搜索结果爬虫"
   ]
  },
  {
   "cell_type": "code",
   "execution_count": 2,
   "metadata": {},
   "outputs": [],
   "source": [
    "def search(key, status=0, mode='isfuzzy', order=0, page=1, **kwargs):\n",
    "    '''\n",
    "        根据关键词搜索孔夫子旧书网所有商品，搜索结果返回前 5000 条\n",
    "        @param key: search keywords, str\n",
    "        @param status: product status, int, default 0; 0=在售, 1=已售\n",
    "        @param mode: search mode, str, default 'isfuzzy'; plain=普通, isfuzzy=模糊, exact=精确, perfect=完全匹配\n",
    "        @param order: sorting method, int, default 0; 0=综合, 1=价格升序, 2=价格降序, 3=出版时间降序, 4=出版时间升序, 6=最新上架, 7=书店等级, 100=运费升序\n",
    "        @param page: page num, int, default=1\n",
    "        @param kwargs: other conditions, Dict\n",
    "        @return result: search results, Dict\n",
    "    '''\n",
    "    encode_key = urllib.parse.quote(key)\n",
    "    \n",
    "    # 搜索条件\n",
    "    search_conditions = 'select=0&' + 'key=' + encode_key + '&status=' + str(status)\n",
    "    for key, value in kwargs.items():\n",
    "        unicode_value = value.encode('unicode_escape').decode()\n",
    "        pattern = re.compile(r'\\\\u')\n",
    "        encode_value  = re.sub(pattern, 'k', unicode_value)\n",
    "        search_conditions += '&' + key + '=h' + str(encode_value)\n",
    "    search_conditions += '&' + mode + '=1' + '&order=' + str(order) \n",
    "    if page != 1:\n",
    "        search_conditions += '&pagenum=' + str(page)\n",
    "    \n",
    "    #  Request URL \n",
    "    request_url = 'http://search.kongfz.com/product_result/?' + search_conditions + '&type=1' + '&ajaxdata=1' + '&_=' + str(round(time.time() * 1000))\n",
    "    \n",
    "    # Request Headers\n",
    "    my_headers = {\n",
    "        'Host': 'search.kongfz.com',\n",
    "        'Referer': 'http://search.kongfz.com/product_result/?' + search_conditions,\n",
    "        'User-Agent': 'Mozilla/5.0 (Windows NT 10.0; Win64; x64) AppleWebKit/537.36 (KHTML, like Gecko) Chrome/69.0.3497.81 Safari/537.36',\n",
    "        'X-Requested-With': 'XMLHttpRequest',\n",
    "    }\n",
    "    \n",
    "    res = requests.post(url=request_url, headers = my_headers)  \n",
    "    res.raise_for_status()  \n",
    "    res.encoding = 'utf-8'  \n",
    "\n",
    "    # 得到包含搜索结果的字典\n",
    "    result = res.json()  \n",
    "    return result"
   ]
  },
  {
   "cell_type": "code",
   "execution_count": 3,
   "metadata": {},
   "outputs": [],
   "source": [
    "def get_page_info(product_list):  \n",
    "    ''''\n",
    "        对一个网页的商品信息进行解析，返回结果列表\n",
    "        @param product_list: product list, List\n",
    "        @return page_info_list: result list, List\n",
    "    '''  \n",
    "    page_info_list = []  \n",
    "    \n",
    "    for i in product_list:  \n",
    "        product_info = []  \n",
    "        product_info.append(i['itemid'])\n",
    "        product_info.append(i['itemname'])\n",
    "        product_info.append(i['shopid'])\n",
    "        product_info.append(i['shopname'])\n",
    "        product_info.append(i['area'])\n",
    "        product_info.append(i['areaname'])\n",
    "        product_info.append(i['author'])\n",
    "        product_info.append(i['press'])\n",
    "        product_info.append(i['price'])\n",
    "        product_info.append(i['binding'])\n",
    "        product_info.append(i['bindingname'])\n",
    "        product_info.append(i['pubdate'])\n",
    "        product_info.append(i['quality'])\n",
    "        product_info.append(i['qualityname'])\n",
    "        product_info.append(i['bigimgurl'])\n",
    "        product_info.append(i['smallimgurl'])\n",
    "        product_info.append(i['biztype'])\n",
    "        product_info.append(i['catid'])\n",
    "        product_info.append(i['class'])\n",
    "        product_info.append(i['importantdesc'])\n",
    "        product_info.append(i['isrelatedisbn'])\n",
    "        product_info.append(i['nickname'])\n",
    "        product_info.append(i['promise'])\n",
    "        product_info.append(i['addtime'])\n",
    "        product_info.append(i['newaddtime'])\n",
    "        product_info.append(i['updatetime'])\n",
    "        product_info.append(i['years'])\n",
    "        product_info.append(i['years2'])\n",
    "        product_info.append(i['yearsgroup'])\n",
    "        page_info_list.append(product_info)  \n",
    "    \n",
    "    return page_info_list"
   ]
  },
  {
   "cell_type": "code",
   "execution_count": 4,
   "metadata": {},
   "outputs": [],
   "source": [
    "def kongfz_search_spider(key, status=0, mode='isfuzzy', order=0, page=1, **kwargs):  \n",
    "    '''\n",
    "        爬取孔夫子商品搜索结果列表数据\n",
    "        @param key: search keywords, str\n",
    "        @param status: product status, int, default 0; 0=在售, 1=已售\n",
    "        @param mode: search mode, str, default 'isfuzzy'; plain=普通, isfuzzy=模糊, exact=精确, perfect=完全匹配\n",
    "        @param order: sorting method, int, default 0; 0=综合, 1=价格升序, 2=价格降序, 3=出版时间降序, 4=出版时间升序, 6=最新上架, 7=书店等级, 100=运费升序\n",
    "        @param page: page num, int, default=1\n",
    "        @param kwargs: other conditions, Dict\n",
    "    '''\n",
    "    # 先爬取第一页，得到搜索结果的总记录数和总页数\n",
    "    result_dict = search(key, status, mode, order, page, **kwargs)\n",
    "    total_found = result_dict['other']['total_found'] #获取总记录数\n",
    "    page_num = result_dict['other']['page_count'] #获取总页数\n",
    "    print('商品总数：{0}，总页数：{1}'.format(total_found, page_num))  \n",
    "    time.sleep(60)\n",
    "    \n",
    "    # 对每个网页读取JSON, 获取每页数据 \n",
    "    total_info = [] \n",
    "    for n in range(1, page_num+1):  \n",
    "        result_dict = search(key, status, mode, order, page=n, **kwargs)  \n",
    "        item_list = result_dict['data']['itemList']\n",
    "        page_info = get_page_info(item_list)\n",
    "        total_info += page_info  \n",
    "        time.sleep(30) \n",
    "        print('已经抓取第 {0}/{1} 页'.format(n, page_num))\n",
    "       \n",
    "    #将所有数据转化为 DataFrame再输出  \n",
    "    df = pd.DataFrame(data=total_info, columns=['itemid', 'itemname', 'shopid', 'shopname', 'area', 'areaname', \n",
    "                                                'author', 'press', 'price', 'binding', 'bindingname', 'pubdate', 'quality', 'qualityname', \n",
    "                                                'bigimgurl', 'smallimgurl', 'biztype', 'catid', 'class', 'importantdesc', 'isrelatedisbn', \n",
    "                                                'nickname', 'promise', 'addtime', 'newaddtime', 'updatetime', 'years', 'years2', 'yearsgroup'])   \n",
    "    data_output = 'output\\\\' + key + '_' + str(round(time.time())) + '.csv'\n",
    "    df.to_csv(data_output, index = False)  \n",
    "    print('已保存为 CSV 文件') "
   ]
  },
  {
   "cell_type": "code",
   "execution_count": 5,
   "metadata": {},
   "outputs": [
    {
     "name": "stdout",
     "output_type": "stream",
     "text": [
      "商品总数：3，总页数：1\n"
     ]
    },
    {
     "ename": "NameError",
     "evalue": "name 'item_list' is not defined",
     "output_type": "error",
     "traceback": [
      "\u001b[1;31m---------------------------------------------------------------------------\u001b[0m",
      "\u001b[1;31mNameError\u001b[0m                                 Traceback (most recent call last)",
      "\u001b[1;32m<ipython-input-5-eb284ea998b1>\u001b[0m in \u001b[0;36m<module>\u001b[1;34m()\u001b[0m\n\u001b[1;32m----> 1\u001b[1;33m \u001b[0mkongfz_search_spider\u001b[0m\u001b[1;33m(\u001b[0m\u001b[1;34m'毛泽东'\u001b[0m\u001b[1;33m,\u001b[0m \u001b[0mmode\u001b[0m\u001b[1;33m=\u001b[0m\u001b[1;34m'exact'\u001b[0m\u001b[1;33m,\u001b[0m \u001b[0morder\u001b[0m\u001b[1;33m=\u001b[0m\u001b[1;36m6\u001b[0m\u001b[1;33m,\u001b[0m \u001b[0mitemname\u001b[0m\u001b[1;33m=\u001b[0m\u001b[1;34m'毛泽东思想资料选集'\u001b[0m\u001b[1;33m)\u001b[0m\u001b[1;33m\u001b[0m\u001b[0m\n\u001b[0m",
      "\u001b[1;32m<ipython-input-4-f188772f51bb>\u001b[0m in \u001b[0;36mkongfz_search_spider\u001b[1;34m(key, status, mode, order, page, **kwargs)\u001b[0m\n\u001b[0;32m     21\u001b[0m         \u001b[0mresult_dict\u001b[0m \u001b[1;33m=\u001b[0m \u001b[0msearch\u001b[0m\u001b[1;33m(\u001b[0m\u001b[0mkey\u001b[0m\u001b[1;33m,\u001b[0m \u001b[0mstatus\u001b[0m\u001b[1;33m,\u001b[0m \u001b[0mmode\u001b[0m\u001b[1;33m,\u001b[0m \u001b[0morder\u001b[0m\u001b[1;33m,\u001b[0m \u001b[0mpage\u001b[0m\u001b[1;33m=\u001b[0m\u001b[0mn\u001b[0m\u001b[1;33m,\u001b[0m \u001b[1;33m**\u001b[0m\u001b[0mkwargs\u001b[0m\u001b[1;33m)\u001b[0m\u001b[1;33m\u001b[0m\u001b[0m\n\u001b[0;32m     22\u001b[0m         \u001b[0mitem_list\u001b[0m \u001b[1;33m=\u001b[0m \u001b[0mresult_dict\u001b[0m\u001b[1;33m[\u001b[0m\u001b[1;34m'data'\u001b[0m\u001b[1;33m]\u001b[0m\u001b[1;33m[\u001b[0m\u001b[1;34m'itemList'\u001b[0m\u001b[1;33m]\u001b[0m\u001b[1;33m\u001b[0m\u001b[0m\n\u001b[1;32m---> 23\u001b[1;33m         \u001b[0mpage_info\u001b[0m \u001b[1;33m=\u001b[0m \u001b[0mget_page_info\u001b[0m\u001b[1;33m(\u001b[0m\u001b[0mitem_list\u001b[0m\u001b[1;33m)\u001b[0m\u001b[1;33m\u001b[0m\u001b[0m\n\u001b[0m\u001b[0;32m     24\u001b[0m         \u001b[0mtotal_info\u001b[0m \u001b[1;33m+=\u001b[0m \u001b[0mpage_info\u001b[0m\u001b[1;33m\u001b[0m\u001b[0m\n\u001b[0;32m     25\u001b[0m         \u001b[0mtime\u001b[0m\u001b[1;33m.\u001b[0m\u001b[0msleep\u001b[0m\u001b[1;33m(\u001b[0m\u001b[1;36m30\u001b[0m\u001b[1;33m)\u001b[0m\u001b[1;33m\u001b[0m\u001b[0m\n",
      "\u001b[1;32m<ipython-input-3-54150335dae2>\u001b[0m in \u001b[0;36mget_page_info\u001b[1;34m(product_list)\u001b[0m\n\u001b[0;32m      7\u001b[0m     \u001b[0mpage_info_list\u001b[0m \u001b[1;33m=\u001b[0m \u001b[1;33m[\u001b[0m\u001b[1;33m]\u001b[0m\u001b[1;33m\u001b[0m\u001b[0m\n\u001b[0;32m      8\u001b[0m \u001b[1;33m\u001b[0m\u001b[0m\n\u001b[1;32m----> 9\u001b[1;33m     \u001b[1;32mfor\u001b[0m \u001b[0mi\u001b[0m \u001b[1;32min\u001b[0m \u001b[0mitem_list\u001b[0m\u001b[1;33m:\u001b[0m\u001b[1;33m\u001b[0m\u001b[0m\n\u001b[0m\u001b[0;32m     10\u001b[0m         \u001b[0mproduct_info\u001b[0m \u001b[1;33m=\u001b[0m \u001b[1;33m[\u001b[0m\u001b[1;33m]\u001b[0m\u001b[1;33m\u001b[0m\u001b[0m\n\u001b[0;32m     11\u001b[0m         \u001b[0mproduct_info\u001b[0m\u001b[1;33m.\u001b[0m\u001b[0mappend\u001b[0m\u001b[1;33m(\u001b[0m\u001b[0mi\u001b[0m\u001b[1;33m[\u001b[0m\u001b[1;34m'itemid'\u001b[0m\u001b[1;33m]\u001b[0m\u001b[1;33m)\u001b[0m\u001b[1;33m\u001b[0m\u001b[0m\n",
      "\u001b[1;31mNameError\u001b[0m: name 'item_list' is not defined"
     ]
    }
   ],
   "source": [
    "kongfz_search_spider('毛泽东', mode='exact', order=6, itemname='毛泽东思想资料选集')"
   ]
  },
  {
   "cell_type": "code",
   "execution_count": null,
   "metadata": {},
   "outputs": [],
   "source": []
  }
 ],
 "metadata": {
  "hide_input": false,
  "kernelspec": {
   "display_name": "Python 3",
   "language": "python",
   "name": "python3"
  },
  "language_info": {
   "codemirror_mode": {
    "name": "ipython",
    "version": 3
   },
   "file_extension": ".py",
   "mimetype": "text/x-python",
   "name": "python",
   "nbconvert_exporter": "python",
   "pygments_lexer": "ipython3",
   "version": "3.6.6"
  }
 },
 "nbformat": 4,
 "nbformat_minor": 2
}
