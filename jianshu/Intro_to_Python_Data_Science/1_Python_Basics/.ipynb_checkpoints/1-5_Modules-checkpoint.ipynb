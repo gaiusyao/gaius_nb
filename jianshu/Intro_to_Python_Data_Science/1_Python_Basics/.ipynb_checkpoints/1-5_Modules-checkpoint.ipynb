{
 "cells": [
  {
   "cell_type": "markdown",
   "metadata": {},
   "source": [
    "## 1.5 模块"
   ]
  },
  {
   "cell_type": "markdown",
   "metadata": {},
   "source": [
    "&emsp;&emsp;随着程序变得越来越长，可能希望将其拆分为多个文件以便于维护，还可能想方便地重复调用某个功能而不是多次复制这段代码。为了支持这一点，Python 有一种方法可以将定义放在一个文件中，并可以很方便地在其他地方进行引用，这样的文件称为**模块**。\n",
    "\n",
    "&emsp;&emsp;模块是包含 Python 定义和语句的文件，使用模块大大提高了代码的可用性，还可以避免函数名和变量名冲突。相同名字的函数和变量完全可以分别存在不同的模块中，因此，我们自己在编写模块时，不必考虑名字会与其他模块冲突。但是也要注意，尽量不要与内置函数名字冲突。"
   ]
  },
  {
   "cell_type": "markdown",
   "metadata": {},
   "source": [
    "### 1.5.1 编写一个简单的模块"
   ]
  },
  {
   "cell_type": "markdown",
   "metadata": {},
   "source": [
    "&emsp;&emsp;Python 有着丰富的第三方模块，加上其本身就内置了很多非常有用的模块，为各种开发需求提供了丰富的“轮子”。而这些模块在安装之后，只需要通过 `import` 引入，就可以立刻使用，极大地提高了开发效率。下面将编写一个简单的 `hello` 模块：\n",
    "\n",
    "``` PYTHON\n",
    "#!/usr/bin/env python3\n",
    "# -*- coding: utf-8 -*-\n",
    "\n",
    "\"\"\" a test module \"\"\"\n",
    "\n",
    "__author__ = 'Gaius Yao'\n",
    "\n",
    "def test():\n",
    "    print(\"Hello, world.\")\n",
    "\n",
    "if __name__=='__main__':\n",
    "    test()\n",
    "```"
   ]
  },
  {
   "cell_type": "markdown",
   "metadata": {},
   "source": [
    "&emsp;&emsp;第 1 行和第 2 行是标准注释；第 4 行是模块的文档注释，任何模块代码的第一个字符串都被视为模块的文档注释；第6行使用 `__author__` 变量留下作者署名。接下来的 `test()` 函数将在打印一条信息，而再之后的 if 语句将在**命令行**运行 `hello` 模块文件时，将一个特殊变量 `__name__` 置为 `__main__`，而如果在其他地方导入该 `hello` 模块时，if 判断将失败。"
   ]
  },
  {
   "cell_type": "markdown",
   "metadata": {},
   "source": [
    "### 1.5.2 使用模块"
   ]
  },
  {
   "cell_type": "markdown",
   "metadata": {},
   "source": [
    "&emsp;&emsp;现在导入 `hello` 模块，并尝试直接调用 `test()` 函数："
   ]
  },
  {
   "cell_type": "code",
   "execution_count": 3,
   "metadata": {},
   "outputs": [],
   "source": [
    "import hello"
   ]
  },
  {
   "cell_type": "code",
   "execution_count": 8,
   "metadata": {},
   "outputs": [
    {
     "name": "stdout",
     "output_type": "stream",
     "text": [
      "Error:\n",
      "\t name 'test' is not defined\n"
     ]
    }
   ],
   "source": [
    "try: \n",
    "    test()\n",
    "except Exception as e:\n",
    "    print(\"Error: \\n\\t {0}\".format(e))"
   ]
  },
  {
   "cell_type": "markdown",
   "metadata": {},
   "source": [
    "&emsp;&emsp;没有如预期般打印 `Hello, word`，反而提示 `test` 没有被定义，这是因为并未正确调用 `hello` 模块内的函数，正确方式如下："
   ]
  },
  {
   "cell_type": "code",
   "execution_count": 9,
   "metadata": {},
   "outputs": [
    {
     "name": "stdout",
     "output_type": "stream",
     "text": [
      "Hello, world.\n"
     ]
    }
   ],
   "source": [
    "hello.test()"
   ]
  },
  {
   "cell_type": "markdown",
   "metadata": {},
   "source": [
    "&emsp;&emsp;也可以在 `import` 时直接引入函数："
   ]
  },
  {
   "cell_type": "code",
   "execution_count": 11,
   "metadata": {},
   "outputs": [
    {
     "name": "stdout",
     "output_type": "stream",
     "text": [
      "Hello, world.\n"
     ]
    }
   ],
   "source": [
    "from hello import test\n",
    "\n",
    "test()"
   ]
  },
  {
   "cell_type": "markdown",
   "metadata": {},
   "source": [
    "### 1.5.3 安装第三方模块"
   ]
  },
  {
   "cell_type": "markdown",
   "metadata": {},
   "source": [
    "&emsp;&emsp;Python 的第三方模块十分强大，而其安装也很容易，这里不细讲，只提供两种安装方式：\n",
    "\n",
    "- `pip install lib_name`\n",
    "-  `conda install lib_name`"
   ]
  },
  {
   "cell_type": "markdown",
   "metadata": {},
   "source": [
    "&emsp;&emsp;当我们试图加载一个模块时，Python 会在指定的路径下搜索对应的 `.py` 文件，如果找不到，就会报错："
   ]
  },
  {
   "cell_type": "code",
   "execution_count": 12,
   "metadata": {},
   "outputs": [
    {
     "name": "stdout",
     "output_type": "stream",
     "text": [
      "Erro: \n",
      "\tNo module named 'gaius_module'\n"
     ]
    }
   ],
   "source": [
    "try:\n",
    "    import gaius_module\n",
    "except Exception as e:\n",
    "    print(\"Error: \\n\\t {0}\".format(e))"
   ]
  },
  {
   "cell_type": "markdown",
   "metadata": {},
   "source": [
    "&emsp;&emsp;默认情况下，Python 解释器会搜索当前目录、所有已安装的内置模块和第三方模块，搜索路径存放在 `sys` 模块的 `path` 变量中："
   ]
  },
  {
   "cell_type": "code",
   "execution_count": 13,
   "metadata": {},
   "outputs": [
    {
     "data": {
      "text/plain": [
       "['',\n",
       " 'E:\\\\IDE\\\\Anaconda3\\\\envs\\\\gaius\\\\python36.zip',\n",
       " 'E:\\\\IDE\\\\Anaconda3\\\\envs\\\\gaius\\\\DLLs',\n",
       " 'E:\\\\IDE\\\\Anaconda3\\\\envs\\\\gaius\\\\lib',\n",
       " 'E:\\\\IDE\\\\Anaconda3\\\\envs\\\\gaius',\n",
       " 'C:\\\\Users\\\\gaiusyao\\\\AppData\\\\Roaming\\\\Python\\\\Python36\\\\site-packages',\n",
       " 'E:\\\\IDE\\\\Anaconda3\\\\envs\\\\gaius\\\\lib\\\\site-packages',\n",
       " 'E:\\\\IDE\\\\Anaconda3\\\\envs\\\\gaius\\\\lib\\\\site-packages\\\\win32',\n",
       " 'E:\\\\IDE\\\\Anaconda3\\\\envs\\\\gaius\\\\lib\\\\site-packages\\\\win32\\\\lib',\n",
       " 'E:\\\\IDE\\\\Anaconda3\\\\envs\\\\gaius\\\\lib\\\\site-packages\\\\Pythonwin',\n",
       " 'E:\\\\IDE\\\\Anaconda3\\\\envs\\\\gaius\\\\lib\\\\site-packages\\\\IPython\\\\extensions',\n",
       " 'C:\\\\Users\\\\gaiusyao\\\\.ipython']"
      ]
     },
     "execution_count": 13,
     "metadata": {},
     "output_type": "execute_result"
    }
   ],
   "source": [
    "import sys\n",
    "sys.path"
   ]
  },
  {
   "cell_type": "markdown",
   "metadata": {},
   "source": [
    "&emsp;&emsp;如果我们要添加自己的搜索目录，有两种方法：\n",
    "- `sys.path.append(file_path)`\n",
    "- 设置环境变量 `PYTHONPATH`"
   ]
  },
  {
   "cell_type": "code",
   "execution_count": null,
   "metadata": {},
   "outputs": [],
   "source": []
  }
 ],
 "metadata": {
  "hide_input": false,
  "kernelspec": {
   "display_name": "Python 3",
   "language": "python",
   "name": "python3"
  },
  "language_info": {
   "codemirror_mode": {
    "name": "ipython",
    "version": 3
   },
   "file_extension": ".py",
   "mimetype": "text/x-python",
   "name": "python",
   "nbconvert_exporter": "python",
   "pygments_lexer": "ipython3",
   "version": "3.6.6"
  }
 },
 "nbformat": 4,
 "nbformat_minor": 2
}
