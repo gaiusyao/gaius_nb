{
 "cells": [
  {
   "cell_type": "markdown",
   "metadata": {},
   "source": [
    "## 1.2 控制流"
   ]
  },
  {
   "cell_type": "markdown",
   "metadata": {},
   "source": [
    "&emsp;&emsp;这里介绍三种常见的控制流语句————if、for和while。"
   ]
  },
  {
   "cell_type": "markdown",
   "metadata": {},
   "source": [
    "### 1.2.1 条件测试"
   ]
  },
  {
   "cell_type": "markdown",
   "metadata": {},
   "source": [
    "&emsp;&emsp;在介绍控制流语句之前，先来简单地说下什么是**条件测试**，条件测试其实就是一个值为 True 或 False 的表达式。大多数条件测试都将一个变量的当前值同特定值进行比较。最简单的条件测试检查变量的值是否与特定值相等："
   ]
  },
  {
   "cell_type": "code",
   "execution_count": 4,
   "metadata": {},
   "outputs": [],
   "source": [
    "iron_man = 'tony stark'"
   ]
  },
  {
   "cell_type": "code",
   "execution_count": 5,
   "metadata": {},
   "outputs": [
    {
     "data": {
      "text/plain": [
       "False"
      ]
     },
     "execution_count": 5,
     "metadata": {},
     "output_type": "execute_result"
    }
   ],
   "source": [
    "iron_man == 'bruce wayne' #不等，返回False"
   ]
  },
  {
   "cell_type": "code",
   "execution_count": 6,
   "metadata": {},
   "outputs": [
    {
     "data": {
      "text/plain": [
       "False"
      ]
     },
     "execution_count": 6,
     "metadata": {},
     "output_type": "execute_result"
    }
   ],
   "source": [
    "iron_man == 'Tony Stark' #注意，Python 区分大小写"
   ]
  },
  {
   "cell_type": "code",
   "execution_count": 7,
   "metadata": {},
   "outputs": [
    {
     "data": {
      "text/plain": [
       "True"
      ]
     },
     "execution_count": 7,
     "metadata": {},
     "output_type": "execute_result"
    }
   ],
   "source": [
    "iron_man == 'Tony Stark'.lower() #如果大小写无关紧要，而只想检查变量的值，可以通过 lower() 转换"
   ]
  },
  {
   "cell_type": "markdown",
   "metadata": {},
   "source": [
    "&emsp;&emsp;要判断两个值是否不等，可结合使用惊叹号和等号 `!=`，其中的惊叹号表示不，在很多其他的编程语言中都如此："
   ]
  },
  {
   "cell_type": "code",
   "execution_count": 13,
   "metadata": {},
   "outputs": [
    {
     "data": {
      "text/plain": [
       "True"
      ]
     },
     "execution_count": 13,
     "metadata": {},
     "output_type": "execute_result"
    }
   ],
   "source": [
    "answer = 42\n",
    "answer != 13"
   ]
  },
  {
   "cell_type": "markdown",
   "metadata": {},
   "source": [
    "&emsp;&emsp;条件语句中还可包含各种数学比较符，如小于、小于等于、大于、大于等于。\n",
    "\n",
    "&emsp;&emsp;有的时候需要同时检查多个条件，例如，有时候你需要在两个条件都为True时才执行相应的操作，而有时候你只要求其中一个条件为True时就执行相应的操作。在这些情况下，关键字and和or可助你一臂之力："
   ]
  },
  {
   "cell_type": "code",
   "execution_count": 9,
   "metadata": {},
   "outputs": [
    {
     "data": {
      "text/plain": [
       "False"
      ]
     },
     "execution_count": 9,
     "metadata": {},
     "output_type": "execute_result"
    }
   ],
   "source": [
    "age_0 = 22\n",
    "age_1 = 18\n",
    "age_0 >= 21 and age_1 >= 21 #False"
   ]
  },
  {
   "cell_type": "markdown",
   "metadata": {},
   "source": [
    "&emsp;&emsp;还可以通过成员操作符 `in` 和 `not in` 来确定是否包含特定的值："
   ]
  },
  {
   "cell_type": "code",
   "execution_count": 10,
   "metadata": {},
   "outputs": [
    {
     "name": "stdout",
     "output_type": "stream",
     "text": [
      "Marie, you can post a response if you wish.\n"
     ]
    }
   ],
   "source": [
    "banned_users = ['andrew', 'carolina', 'david']\n",
    "user = 'marie'\n",
    "if user not in banned_users:\n",
    "    print(\"{0}, you can post a response if you wish.\".format(user.title()))"
   ]
  },
  {
   "cell_type": "markdown",
   "metadata": {},
   "source": [
    "### 1.2.2 if 语句"
   ]
  },
  {
   "cell_type": "markdown",
   "metadata": {},
   "source": [
    "&emsp;&emsp;if 语句可能是最为人所熟知的语句类型，Python 根据条件测试的值为 True 还是 False 来决定是否执行 if 语句中的代码。如果条件测试的值为 True，Python 就执行紧跟在if语句后面的代码；如果为 False，Python 就忽略这些代码，下面是一个简单的 if 语句示例："
   ]
  },
  {
   "cell_type": "code",
   "execution_count": null,
   "metadata": {},
   "outputs": [],
   "source": [
    "answer = 13\n",
    "if answer != 42:\n",
    "    print(\"That is not the ultlimate answer!!!\")"
   ]
  },
  {
   "cell_type": "markdown",
   "metadata": {},
   "source": [
    "&emsp;&emsp;正如`if-else` 语句用于在通过条件测试时执行一个操作，并在没有通过时执行另一个操作，下面的代码在循环中首先检查当前的复仇者是否 `iron man`，如果是，则打印 `if` 下的相应语句，否则执行 `else` 下的语句。"
   ]
  },
  {
   "cell_type": "code",
   "execution_count": 2,
   "metadata": {},
   "outputs": [
    {
     "name": "stdout",
     "output_type": "stream",
     "text": [
      "\tIron Man is very rich.\n",
      "\tCaptain America has no money.\n",
      "\tHulk has no money.\n",
      "\tThor has no money.\n"
     ]
    }
   ],
   "source": [
    "avengers = ['iron man', 'captain america', 'hulk', 'thor']\n",
    "\n",
    "for avenger in avengers:\n",
    "    if avenger == 'iron man':\n",
    "        print(\"{0} is very rich.\".format(avenger.title()))\n",
    "    else:\n",
    "        print(\"{0} has no money.\".format(avenger.title()))"
   ]
  },
  {
   "cell_type": "markdown",
   "metadata": {},
   "source": [
    "&emsp;&emsp;当需要检查的条件超过两个的时候，`if-else` 就明显不够用了，此时就需要借助 `if-elif-else` 结构，它依次检查每个条件测试，直到遇到通过了的条件测试。测试通过后，Python 将执行紧跟在它后面的代码，并跳过余下的测试，如下例所示："
   ]
  },
  {
   "cell_type": "code",
   "execution_count": 14,
   "metadata": {},
   "outputs": [
    {
     "name": "stdout",
     "output_type": "stream",
     "text": [
      "Sorry, you are too old to drive.\n"
     ]
    }
   ],
   "source": [
    "age = 91\n",
    "if age >= 18 and age < 70:\n",
    "    print(\"You are old enough to drive!\")\n",
    "elif age >= 70:\n",
    "    print(\"Sorry, you are too old to drive.\")\n",
    "else:\n",
    "    print(\"Sorry, you are too young to drive.\")"
   ]
  },
  {
   "cell_type": "markdown",
   "metadata": {},
   "source": [
    "&emsp;&emsp;可根据需要使用任意数量的elif代码块，另外也可以省略else代码块，代之以用一条elif语句来处理。\n",
    "\n",
    "&emsp;&emsp;`if-elif-else` 结构功能强大，但仅适合用于只有一个条件满足的情况：遇到通过了的测试后，Python 就跳过余下的测试。这种行为很好，效率很高，让你能够测试一个特定的条件。然而，有时候必须检查你关心的所有条件。在这种情况下，应使用一系列不包含 `elif` 和 `else` 代码块的简单 if 语句。在可能有多个条件为 True，且你需要在每个条件为 True 时都采取相应措施时，适合使用这种方法。在下面的示例中，需要确保在其比萨中包含两种配料："
   ]
  },
  {
   "cell_type": "code",
   "execution_count": 15,
   "metadata": {},
   "outputs": [
    {
     "name": "stdout",
     "output_type": "stream",
     "text": [
      "Adding mushrooms.\n",
      "Adding extra cheese.\n",
      "Finished making your pizza!\n"
     ]
    }
   ],
   "source": [
    "requested_toppings = ['mushrooms', 'extra cheese']\n",
    "\n",
    "if 'mushrooms' in requested_toppings:\n",
    "    print(\"Adding mushrooms.\")\n",
    "if 'pepperoni' in requested_toppings:\n",
    "    print(\"Adding pepperoni.\")\n",
    "if 'extra cheese' in requested_toppings:\n",
    "    print(\"Adding extra cheese.\")\n",
    "print(\"Finished making your pizza!\")"
   ]
  },
  {
   "cell_type": "markdown",
   "metadata": {},
   "source": [
    "### 1.2.3 for 语句"
   ]
  },
  {
   "cell_type": "markdown",
   "metadata": {},
   "source": [
    "&emsp;&emsp;Python 中的 for 语句与在 C 或 Pascal 中使用的语句略有不同。即不是总是迭代数字的算术级数（如 Pascal），也不是使用户能够定义迭代步骤和暂停条件（如 C），Python的 for 语句遍历任何序列（列表或字符串）的项，并按它们出现在序列中的顺序排列。一个简单的例子："
   ]
  },
  {
   "cell_type": "code",
   "execution_count": 16,
   "metadata": {},
   "outputs": [
    {
     "name": "stdout",
     "output_type": "stream",
     "text": [
      "Leonardo\n",
      "Raphael\n",
      "Michelangelo\n",
      "Donatello\n"
     ]
    }
   ],
   "source": [
    "ninja_turtles = ['Leonardo', 'Raphael', 'Michelangelo', 'Donatello']\n",
    "\n",
    "for ninja_turtle in ninja_turtles:\n",
    "    print(ninja_turtle)"
   ]
  },
  {
   "cell_type": "markdown",
   "metadata": {},
   "source": [
    "&emsp;&emsp;在上面代码构建的简单循环中，Python 将首先读取其中的第一行代码 `for ninja_turtle in ninja_turtles`。这行代码让Python获取列表 `ninja_turtles` 中的第一个值（`'Leonardo'`），并将其存储到变量 `ninja_turtle` 中。接下来，Python 读取下一行代码 `print(ninja_turtle)`，它让 Python 打印 `ninja_turtle` 的值——依然是 `'Leonardo'`。由于列表还包含着其他值，Python 返回到循环的第一行 `for ninja_turtle in ninja_turtles`。Python 再次打印 `ninja_turtle` 的值——这次是 `'Raphael'`。接下来，Python 继续前面的步骤，直到将列表中的最后一个值 `'Donatello'` 打印出来为止。而此时，列表中已经没有其他的值了，因此 Python 接着执行程序的下一行代码。\n",
    "\n",
    "&emsp;&emsp;对列表中的每个元素，都将执行循环指定的步骤，而不管列表包含多少个元素。如果列表包含一百万个元素，Python 就重复执行指定的步骤一百万次，且通常速度非常快。另外，对于用于存储列表中每个值的临时变量，可指定任何名称，但使用有意义的名称可以提高代码的可读性。\n",
    "\n",
    "&emsp;&emsp;在 for 循环中，可对每个元素执行任何操作，也可以在 for 循环结束后提供总结性输出或接着执行程序必须完成的其他任务。扩展之前的示例，对每位神龟都打印一条信息，指出他是一个忍者，并在最后指出他们的身份："
   ]
  },
  {
   "cell_type": "code",
   "execution_count": 18,
   "metadata": {},
   "outputs": [
    {
     "name": "stdout",
     "output_type": "stream",
     "text": [
      "Leonardo is a ninja.\n",
      "Raphael is a ninja.\n",
      "Michelangelo is a ninja.\n",
      "Donatello is a ninja.\n",
      "\n",
      "They're Ninja Turtles!\n"
     ]
    }
   ],
   "source": [
    "for ninja_turtle in ninja_turtles:\n",
    "    print(\"{0} is a ninja.\".format(ninja_turtle))\n",
    "print(\"\\nThey\\'re Ninja Turtles!\")"
   ]
  },
  {
   "cell_type": "markdown",
   "metadata": {},
   "source": [
    "&emsp;&emsp;而当需要迭代一系列数字，内置函数 `range()` 就派上用场了。"
   ]
  },
  {
   "cell_type": "code",
   "execution_count": 24,
   "metadata": {},
   "outputs": [
    {
     "name": "stdout",
     "output_type": "stream",
     "text": [
      "0\n",
      "1\n",
      "2\n",
      "3\n",
      "4\n"
     ]
    }
   ],
   "source": [
    "for i in range(5):\n",
    "    print(i)"
   ]
  },
  {
   "cell_type": "code",
   "execution_count": 22,
   "metadata": {},
   "outputs": [
    {
     "name": "stdout",
     "output_type": "stream",
     "text": [
      "That is the ultlimate answer!!!\n"
     ]
    }
   ],
   "source": [
    "for i in range(100):\n",
    "    if i == 42:\n",
    "        print(\"That is the ultlimate answer!!!\")"
   ]
  },
  {
   "cell_type": "markdown",
   "metadata": {},
   "source": [
    "### 1.2.4 while 语句"
   ]
  },
  {
   "cell_type": "markdown",
   "metadata": {},
   "source": [
    "&emsp;&emsp;在介绍 while 语句前，先让我们花几分钟，了解下 `input()` 函数。`input()` 可以让程序暂停运行，等待用户输入一些文本。获取用户输入后，Python 将其存储在一个变量中，以方便使用。下面的代码将会存储输入的信息到 `message`，并通过 `print(message)` 打印出来："
   ]
  },
  {
   "cell_type": "code",
   "execution_count": 25,
   "metadata": {},
   "outputs": [
    {
     "name": "stdout",
     "output_type": "stream",
     "text": [
      "Tell me something, and I will repeat it back to you: 2333\n",
      "2333\n"
     ]
    }
   ],
   "source": [
    "message = input(\"Tell me something, and I will repeat it back to you: \")\n",
    "print(message)"
   ]
  },
  {
   "cell_type": "markdown",
   "metadata": {},
   "source": [
    "&emsp;&emsp;可以通过input()获取用户的数值输入，但需要注意的是，Python将用户通过input()输入的值解读为字符串，这在将输入作为数字使用时，会引发错误："
   ]
  },
  {
   "cell_type": "code",
   "execution_count": 27,
   "metadata": {},
   "outputs": [
    {
     "name": "stdout",
     "output_type": "stream",
     "text": [
      "How old are you? 42\n",
      "Error!\n",
      "\t'>=' not supported between instances of 'str' and 'int'\n"
     ]
    }
   ],
   "source": [
    "age = input(\"How old are you? \")\n",
    "age #'42'\n",
    "\n",
    "try: # 在 1.6 中会详细介绍 try-except 语句\n",
    "    age >= 18\n",
    "except Exception as e:\n",
    "    print(\"Error!\\n\\t{0}\".format(e))"
   ]
  },
  {
   "cell_type": "markdown",
   "metadata": {},
   "source": [
    "&emsp;&emsp;这里需要借助 `int()` 函数将数字的字符串表示转换为数值表示，如下所示："
   ]
  },
  {
   "cell_type": "code",
   "execution_count": 29,
   "metadata": {},
   "outputs": [
    {
     "data": {
      "text/plain": [
       "True"
      ]
     },
     "execution_count": 29,
     "metadata": {},
     "output_type": "execute_result"
    }
   ],
   "source": [
    "age = int(age)\n",
    "age >= 18"
   ]
  },
  {
   "cell_type": "markdown",
   "metadata": {},
   "source": [
    "&emsp;&emsp;for 循环用于针对集合中的每个元素都一个代码块，而 while 循环不断地运行，直到指定的条件不满足为止。下面是一个 while 循环的简单示例，它将从 1 数到 5："
   ]
  },
  {
   "cell_type": "code",
   "execution_count": 30,
   "metadata": {},
   "outputs": [
    {
     "name": "stdout",
     "output_type": "stream",
     "text": [
      "1\n",
      "2\n",
      "3\n",
      "4\n",
      "5\n"
     ]
    }
   ],
   "source": [
    "current_number = 1\n",
    "\n",
    "while current_number <= 5:\n",
    "    print(current_number)\n",
    "    current_number += 1"
   ]
  },
  {
   "cell_type": "markdown",
   "metadata": {},
   "source": [
    "&emsp;&emsp;在第1行，我们将 `current_number` 设置为 1，从而指定从 1 开始数。接下来的 while 循环被设成这样：只要 `current_number` 小于或等于 5，就接着运行这个循环。循环中的代码打印 `current_number` 的值，再使用代码 `current_number += 1`（`current_number = current_number + 1` 的简写）将其值加 1。只要满足条件 `current_number <= 5`，Python 就接着运行这个循环。直到 `current_number` 大于 5，循环将停止，整个程序也将到此结束。"
   ]
  },
  {
   "cell_type": "markdown",
   "metadata": {},
   "source": [
    "&emsp;&emsp;可以让用户输入一个退出值（如'quit'），以选择何时退出循环："
   ]
  },
  {
   "cell_type": "code",
   "execution_count": 32,
   "metadata": {},
   "outputs": [
    {
     "name": "stdout",
     "output_type": "stream",
     "text": [
      "Tell me something, and I will repeat it back to you:\n",
      "Enter 'quit' to end the program. quit\n",
      "quit\n"
     ]
    }
   ],
   "source": [
    "prompt = \"Tell me something, and I will repeat it back to you:\"\n",
    "prompt += \"\\nEnter 'quit' to end the program. \"\n",
    "message = \"\"\n",
    "\n",
    "while message != 'quit':\n",
    "    message = input(prompt)\n",
    "    print(message)"
   ]
  },
  {
   "cell_type": "markdown",
   "metadata": {},
   "source": [
    "&emsp;&emsp;在要求很多条件都满足才继续运行的程序中，可定义一个变量，用于判断整个程序是否处于活动状态。这个变量被称为标志，充当了程序的交通信号灯。在标志为 True 时继续运行，并在任何事件导致标志的值为 False 时让程序停止运行。这样，在 while 语句中就只需检查一个条件——标志的当前值是否为 True:"
   ]
  },
  {
   "cell_type": "code",
   "execution_count": 33,
   "metadata": {},
   "outputs": [
    {
     "name": "stdout",
     "output_type": "stream",
     "text": [
      "Tell me something, and I will repeat it back to you:\n",
      "Enter 'quit' to end the program. quit\n"
     ]
    }
   ],
   "source": [
    "active = True\n",
    "\n",
    "while active:\n",
    "    message = input(prompt)\n",
    "\n",
    "    if message == 'quit':\n",
    "        active = False\n",
    "    else:\n",
    "        print(message)"
   ]
  },
  {
   "cell_type": "markdown",
   "metadata": {},
   "source": [
    "### 1.2.5 break 和 continue 语句"
   ]
  },
  {
   "cell_type": "markdown",
   "metadata": {},
   "source": [
    "&emsp;&emsp;break 语句用于控制程序流程，可使用它来控制哪些代码行将执行，哪些代码行不执行，从而让程序按你的要求执行你要执行的代码。如在 while 循环中，想要立即退出，不再运行循环中余下的代码，也不管条件测试的结果如何，可使用 break 语句:"
   ]
  },
  {
   "cell_type": "code",
   "execution_count": 34,
   "metadata": {},
   "outputs": [
    {
     "name": "stdout",
     "output_type": "stream",
     "text": [
      "Tell me something, and I will repeat it back to you:\n",
      "Enter 'quit' to end the program. quit\n"
     ]
    }
   ],
   "source": [
    "while True:\n",
    "    city = input(prompt)\n",
    "\n",
    "    if city == 'quit':\n",
    "        break\n",
    "    else:\n",
    "        print(\"I'd love to go to {0}!\".format(city.title()))"
   ]
  },
  {
   "cell_type": "markdown",
   "metadata": {},
   "source": [
    "&emsp;&emsp;要返回到循环开头，并根据条件测试结果决定是否继续执行循环，可使用 continue 语句，它不像 break 语句那样不再执行余下的代码并退出整个循环。例如，来看一个从 1 数到 10，但只打印其中奇数的循环："
   ]
  },
  {
   "cell_type": "code",
   "execution_count": 35,
   "metadata": {},
   "outputs": [
    {
     "name": "stdout",
     "output_type": "stream",
     "text": [
      "1\n",
      "3\n",
      "5\n",
      "7\n",
      "9\n"
     ]
    }
   ],
   "source": [
    "current_number = 0\n",
    "\n",
    "while current_number < 10:\n",
    "    current_number += 1\n",
    "    if current_number % 2 == 0:\n",
    "        continue\n",
    "\n",
    "    print(current_number)"
   ]
  },
  {
   "cell_type": "code",
   "execution_count": null,
   "metadata": {},
   "outputs": [],
   "source": []
  }
 ],
 "metadata": {
  "hide_input": false,
  "kernelspec": {
   "display_name": "Python 3",
   "language": "python",
   "name": "python3"
  },
  "language_info": {
   "codemirror_mode": {
    "name": "ipython",
    "version": 3
   },
   "file_extension": ".py",
   "mimetype": "text/x-python",
   "name": "python",
   "nbconvert_exporter": "python",
   "pygments_lexer": "ipython3",
   "version": "3.6.6"
  }
 },
 "nbformat": 4,
 "nbformat_minor": 2
}
