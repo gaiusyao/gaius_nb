{
 "cells": [
  {
   "cell_type": "markdown",
   "metadata": {},
   "source": [
    "> 本系列所有代码均基于 Python 3.6"
   ]
  },
  {
   "cell_type": "markdown",
   "metadata": {},
   "source": [
    "## 1.1 Python 简介"
   ]
  },
  {
   "cell_type": "markdown",
   "metadata": {},
   "source": [
    "&emsp;&emsp;Python 是一门简明优雅、强大易学的通用性编程语言，在数据科学领域以及很多其他领域，Python 正变得日益流行，它的崛起也恰恰印证了那句话：\n",
    "\n",
    "> 人生苦短，我用 Python （Life is short, you need Python）\n",
    "\n",
    "&emsp;&emsp;Python 的语法十分简洁，具有极高的可读性，通过行首的空白（空格或制表符）来表示逻辑行的缩进层次，即同一层次的语句必须有相同的缩进，每一组这样的语句被称为一个块。而 Python 的注释则以 `#` 或者前后各 3 个引号表示："
   ]
  },
  {
   "cell_type": "code",
   "execution_count": 1,
   "metadata": {},
   "outputs": [
    {
     "name": "stdout",
     "output_type": "stream",
     "text": [
      "Hello, World!\n",
      "Two is greater than one!\n"
     ]
    }
   ],
   "source": [
    "# 这是一条单行注释\n",
    "print(\"Hello, World!\") # 这也是一条单行注释\n",
    "\n",
    "\"\"\"这是一段\n",
    "多行注释\"\"\"\n",
    "if 2 > 1:\n",
    "    print(\"Two is greater than one!\")"
   ]
  },
  {
   "cell_type": "markdown",
   "metadata": {},
   "source": [
    "### 1.1.1 对象、操作符和表达式"
   ]
  },
  {
   "cell_type": "markdown",
   "metadata": {},
   "source": [
    "&emsp;&emsp;在 Python 中，**处处皆对象**，是 Python 程序处理的核心元素。对象都有**类型**，类型定义了程序能在该对象上进行的操作，按对象可不可分，可分为标量和非标量两种类型，其中标量对象具有不可分的原子性，包括：\n",
    "- int：整数，如 `-2`, `8`, `571`\n",
    "- float：浮点数，如 `2.0`, `3.14`, `-10.24`\n",
    "- bool：布尔值，`True`, `False`\n",
    "- None：该类型只有一个值 `None`"
   ]
  },
  {
   "cell_type": "markdown",
   "metadata": {},
   "source": [
    "&emsp;&emsp;而非标量对象（如字符串），则具有内部结构。此外，很多类型的对象可以用字面量表示，例如，`2` 是个表示数值的字面量，`abc` 则是一个表示字符串的字面量。"
   ]
  },
  {
   "cell_type": "markdown",
   "metadata": {},
   "source": [
    "&emsp;&emsp;Python 具有常见的操作符：\n",
    "- 算术操作符 （`+`, `-`, `*`, `/`, `//`, `%`, `**`）\n",
    "- 位操作符 （`&`, `|`, `^`, `>>`, `<<`, `~`）\n",
    "- 赋值操作符 （`=`, `+=`, `-=`, `*=`, `%=`, `/=`, `//=`）\n",
    "- 比较操作符 （`==`, `!=`, `>`, `<`, `>=`, `<=`）\n",
    "- 逻辑操作符（`and`, `or`, `not`）\n",
    "- 唯一操作符 （`is`, `is not`）\n",
    "- 成员操作符 （`in`, `not in`）"
   ]
  },
  {
   "cell_type": "markdown",
   "metadata": {},
   "source": [
    "&emsp;&emsp;对象和操作符可以组成表达式，每个表达式都相当于某种类型的对象，即表达式的值："
   ]
  },
  {
   "cell_type": "code",
   "execution_count": 2,
   "metadata": {},
   "outputs": [
    {
     "data": {
      "text/plain": [
       "8"
      ]
     },
     "execution_count": 2,
     "metadata": {},
     "output_type": "execute_result"
    }
   ],
   "source": [
    "# 表达式表示 int 类型的对象 8\n",
    "3 + 5 "
   ]
  },
  {
   "cell_type": "code",
   "execution_count": 3,
   "metadata": {},
   "outputs": [
    {
     "data": {
      "text/plain": [
       "8.0"
      ]
     },
     "execution_count": 3,
     "metadata": {},
     "output_type": "execute_result"
    }
   ],
   "source": [
    "# 表达式表示 float 类型的对象 8.0\n",
    "3.0 + 5.0 "
   ]
  },
  {
   "cell_type": "markdown",
   "metadata": {},
   "source": [
    "### 1.1.2 数据类型"
   ]
  },
  {
   "cell_type": "markdown",
   "metadata": {},
   "source": [
    "&emsp;&emsp;Python 是一种动态类型语言，在运行时推知对象类型，共有 6 个标准数据类型：\n",
    "- Number：数字，包括整数（int）、浮点数（float）、复数（complex）以及布尔值（bool）\n",
    "- String：字符串，表示文本\n",
    "- List：列表，任意对象的集合，有许多可用方法\n",
    "- Tuple：元组，任意对象的集合，只有少数可用方法\n",
    "- Set：集合，其他独特对象的无序集合对象\n",
    "- Dictionary：字典，键-值存储对象"
   ]
  },
  {
   "cell_type": "markdown",
   "metadata": {},
   "source": [
    "&emsp;&emsp;其中，Number、String、Tuple 是不可变数据类型，List、Dictionary、Set 是可变数据类型。因为 Tuple、List、Dictionary、Set 是可以包含其他对象的对象，因此也可以说是 Python 的 4 种基本数据结构。"
   ]
  },
  {
   "cell_type": "markdown",
   "metadata": {},
   "source": [
    "> 详见 [2-1 基本数据类型]() 以及  [2-2 基本数据结构]()"
   ]
  },
  {
   "cell_type": "markdown",
   "metadata": {},
   "source": [
    "### 1.1.3 变量和赋值"
   ]
  },
  {
   "cell_type": "markdown",
   "metadata": {},
   "source": [
    "&emsp;&emsp;**变量**将名称与对象关联起来："
   ]
  },
  {
   "cell_type": "code",
   "execution_count": 4,
   "metadata": {},
   "outputs": [
    {
     "name": "stdout",
     "output_type": "stream",
     "text": [
      "The answer to life the universe and everything is 42.\n"
     ]
    }
   ],
   "source": [
    "ultimate_anwser  = 42\n",
    "print(\"The answer to life the universe and everything is {}.\".format(ultimate_anwser))"
   ]
  },
  {
   "cell_type": "code",
   "execution_count": 5,
   "metadata": {},
   "outputs": [
    {
     "data": {
      "text/plain": [
       "int"
      ]
     },
     "execution_count": 5,
     "metadata": {},
     "output_type": "execute_result"
    }
   ],
   "source": [
    "type(ultimate_anwser) #查询变量所指的对象类型"
   ]
  },
  {
   "cell_type": "markdown",
   "metadata": {},
   "source": [
    "&emsp;&emsp;`ultimate_anwser  = 42` 将名称 `ultimate_anwser` 绑定到一个 `int` 类型对象上，可以通过该名称引用这个对象，即将 `=`  两边的名称与表达式关联起来，这种语句被称为**赋值**语句。Python 支持**多重赋值**，如以下语句："
   ]
  },
  {
   "cell_type": "code",
   "execution_count": 6,
   "metadata": {},
   "outputs": [],
   "source": [
    "x, y = 2, 3"
   ]
  },
  {
   "cell_type": "markdown",
   "metadata": {},
   "source": [
    "&emsp;&emsp;Python 做变量交换非常优雅，下面将对比一般的变量交换方式，和 Pythonic【1】 的方式："
   ]
  },
  {
   "cell_type": "code",
   "execution_count": 7,
   "metadata": {},
   "outputs": [
    {
     "name": "stdout",
     "output_type": "stream",
     "text": [
      "x == 3, y == 2\n"
     ]
    }
   ],
   "source": [
    "# Normal\n",
    "tmp = x\n",
    "x = y\n",
    "y = tmp\n",
    "\n",
    "print(\"x == {0}, y == {1}\".format(x, y))"
   ]
  },
  {
   "cell_type": "code",
   "execution_count": 8,
   "metadata": {},
   "outputs": [
    {
     "name": "stdout",
     "output_type": "stream",
     "text": [
      "x == 2, y == 3\n"
     ]
    }
   ],
   "source": [
    "# Pythonic\n",
    "x, y = y, x\n",
    "\n",
    "print(\"x == {0}, y == {1}\".format(x, y))"
   ]
  },
  {
   "cell_type": "markdown",
   "metadata": {},
   "source": [
    "> 【1】 Pythonic\n",
    "> \n",
    "> Pythonic 可以理解为“很 Python 的”，是指基于 Python 简洁、明确、优雅的理念，编写出的极富 Python 特色的代码。"
   ]
  },
  {
   "cell_type": "markdown",
   "metadata": {},
   "source": [
    "&emsp;&emsp;对于 Python 来说，变量仅仅只是一个名称，一个对象可以有一或多个与之关联的名称，也可以不关联任何名称。在 Python 中，变量的名称可以包含大小写字母（Python 变量名大小写敏感）、数字（但不能以数字开头）和特殊字符 `_`，但不可含有关键字，选择一个恰当的变量名可以极大地提升代码可读性。"
   ]
  },
  {
   "cell_type": "markdown",
   "metadata": {},
   "source": [
    "### 1.1.4 Zen of Python"
   ]
  },
  {
   "cell_type": "markdown",
   "metadata": {},
   "source": [
    "&emsp;&emsp;Python 中有一个彩蛋——Zen of Python，即 Python 之禅，它总结了 Python 简洁、明确、优雅的风格，是编写 Python 代码的重要指导。"
   ]
  },
  {
   "cell_type": "code",
   "execution_count": 9,
   "metadata": {},
   "outputs": [
    {
     "name": "stdout",
     "output_type": "stream",
     "text": [
      "The Zen of Python, by Tim Peters\n",
      "\n",
      "Beautiful is better than ugly.\n",
      "Explicit is better than implicit.\n",
      "Simple is better than complex.\n",
      "Complex is better than complicated.\n",
      "Flat is better than nested.\n",
      "Sparse is better than dense.\n",
      "Readability counts.\n",
      "Special cases aren't special enough to break the rules.\n",
      "Although practicality beats purity.\n",
      "Errors should never pass silently.\n",
      "Unless explicitly silenced.\n",
      "In the face of ambiguity, refuse the temptation to guess.\n",
      "There should be one-- and preferably only one --obvious way to do it.\n",
      "Although that way may not be obvious at first unless you're Dutch.\n",
      "Now is better than never.\n",
      "Although never is often better than *right* now.\n",
      "If the implementation is hard to explain, it's a bad idea.\n",
      "If the implementation is easy to explain, it may be a good idea.\n",
      "Namespaces are one honking great idea -- let's do more of those!\n"
     ]
    }
   ],
   "source": [
    "import this"
   ]
  },
  {
   "cell_type": "code",
   "execution_count": null,
   "metadata": {},
   "outputs": [],
   "source": []
  }
 ],
 "metadata": {
  "hide_input": false,
  "kernelspec": {
   "display_name": "Python 3",
   "language": "python",
   "name": "python3"
  },
  "language_info": {
   "codemirror_mode": {
    "name": "ipython",
    "version": 3
   },
   "file_extension": ".py",
   "mimetype": "text/x-python",
   "name": "python",
   "nbconvert_exporter": "python",
   "pygments_lexer": "ipython3",
   "version": "3.6.6"
  }
 },
 "nbformat": 4,
 "nbformat_minor": 2
}
