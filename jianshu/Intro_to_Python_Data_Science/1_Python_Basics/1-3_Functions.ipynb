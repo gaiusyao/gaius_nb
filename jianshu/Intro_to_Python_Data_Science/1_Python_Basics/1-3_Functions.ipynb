{
 "cells": [
  {
   "cell_type": "markdown",
   "metadata": {},
   "source": [
    "## 1.3 函数"
   ]
  },
  {
   "cell_type": "markdown",
   "metadata": {},
   "source": [
    "&emsp;&emsp;函数可以理解为带名字的代码块，用于被反复调用以完成具体的工作。函数的使用，极大地减少了重复代码的出现，提升了代码的可复用性，让程序的编写、阅读、测试和修复都变得更容易。"
   ]
  },
  {
   "cell_type": "markdown",
   "metadata": {},
   "source": [
    "### 1.3.1 定义函数"
   ]
  },
  {
   "cell_type": "markdown",
   "metadata": {},
   "source": [
    "&emsp;&emsp;通过关键字 `def` 定义函数，它后面必须跟函数名和形式参数的括号列表。形成函数体的语句从下一行开始，必须缩进。下面定义了一个函数，用以打印一个 Fibonacci 序列："
   ]
  },
  {
   "cell_type": "code",
   "execution_count": 1,
   "metadata": {},
   "outputs": [],
   "source": [
    "def fib(n):\n",
    "    \"\"\"打印一个Fibonacci序列\"\"\"\n",
    "    a, b = 0, 1\n",
    "    while a < n:\n",
    "        print(a, end = ' ')\n",
    "        a, b = b, a+b"
   ]
  },
  {
   "cell_type": "markdown",
   "metadata": {},
   "source": [
    "&emsp;&emsp;第 1 行代码是函数定义，向 Python 指出了函数名，还可能在括号内指出函数为完成其任务需要什么样的信息。第 2 行的文本是被称为文档字符串（docstring，见下节）的注释，描述了函数是做什么的，由三引号括起，Python 使用它来生成有关程序中函数的文档。第 3 至第 6 行则是具体的执行代码，负责打印一个 Fibonacci 序列。而通过在定义函数 `fib()` 时添加一个变量n，就可让函数接受给 `n` 指定的任何值，从而生成相应的输出，下面的代码将会打印一个 Fibonacci 序列："
   ]
  },
  {
   "cell_type": "code",
   "execution_count": 2,
   "metadata": {},
   "outputs": [
    {
     "name": "stdout",
     "output_type": "stream",
     "text": [
      "0 1 1 2 3 5 8 13 21 34 55 89 144 233 377 610 987 1597 "
     ]
    }
   ],
   "source": [
    "fib(2000)"
   ]
  },
  {
   "cell_type": "markdown",
   "metadata": {},
   "source": [
    "### 1.3.2 作用域和命名空间"
   ]
  },
  {
   "cell_type": "markdown",
   "metadata": {},
   "source": [
    "&emsp;&emsp;**命名空间**是名字和对象的映射。可以把一个命名空间理解为一个字典，实际上很多当前的 Python 实现命名空间就是用的字典。各个命名空间是独立的，没有任何关系的，所以一个命名空间中不能有重名，但不同的命名空间是可以重名而没有任何影响。\n",
    "\n",
    "&emsp;&emsp;那么哪些可以是一个命名空间呢，比如 Python 的 built-in names（包括内置函数，内置常量，内置类型）；一个模块的 global names（这个模块定义的函数，类，变量）；一个函数的所有 local names；还有一个类对象的所有属性（数据成员，成员函数）都组成一个命名空间。\n",
    "\n",
    "&emsp;&emsp;命名空间都是有创建时间和生存期的。对于 Python built-in names 组成的命名空间，它在 Python 解释器启动的时候被创建，在解释器退出的时候才被删除；对于一个 Python 模块的 global namespace，它在这个模块被 `import` 的时候创建，在解释器退出的时候退出；对于一个函数的 local namespace，它在函数每次被调用的时候创建，函数返回的时候被删除。\n",
    "\n",
    "&emsp;&emsp;**作用域**是 Python 程序中的某一段或某些段，在这些地方，某个命名空间中的名字可以被直接引用。这个作用域就是这个命名空间的作用域。在执行期间的任何时候，至少有三层嵌套的作用域，其名称空间可以直接访问：\n",
    "1. 最里面的局部作用域\n",
    "2. 外层函数的局部作用域\n",
    "3. 模块的全局作用域\n",
    "4. 包含Python内置对象的最外层作用域"
   ]
  },
  {
   "cell_type": "markdown",
   "metadata": {},
   "source": [
    "&emsp;&emsp;这是一个演示如何引用不同范围和命名空间的示例："
   ]
  },
  {
   "cell_type": "code",
   "execution_count": 3,
   "metadata": {},
   "outputs": [
    {
     "name": "stdout",
     "output_type": "stream",
     "text": [
      "test value\n",
      "nonlocal value\n",
      "nonlocal value\n",
      "global value\n"
     ]
    }
   ],
   "source": [
    "def test_function_scopes():\n",
    "    \"\"\"作用域和命名空间示例\"\"\"\n",
    "    \n",
    "    def do_local():\n",
    "        \"\"\"创建仅在当前 do_local() 函数内可访问的变量\"\"\"\n",
    "        test_variable = 'local value' #定义一个局部变量，生命周期只在此函数内\n",
    "    \n",
    "    def do_nonlocal():\n",
    "        \"\"\"从外部范围寻址变量并尝试更改它\"\"\"\n",
    "        nonlocal test_variable #使用外层的变量\n",
    "        test_variable = 'nonlocal value'\n",
    "    \n",
    "    def do_global():\n",
    "        \"\"\"从全局的范围寻址变量并尝试更改它\"\"\"\n",
    "        global test_variable #定义全局变量\n",
    "        test_variable = 'global value'\n",
    "\n",
    "    test_variable = 'test value'\n",
    "    \n",
    "    do_local()\n",
    "    print(test_variable)\n",
    "    \n",
    "    do_nonlocal()\n",
    "    print(test_variable)\n",
    "    \n",
    "    do_global()\n",
    "    print(test_variable)\n",
    "    \n",
    "test_function_scopes()\n",
    "\n",
    "print(test_variable) #全局作用域中的 test_varible 变量"
   ]
  },
  {
   "cell_type": "markdown",
   "metadata": {},
   "source": [
    "### 1.3.3 传递实参"
   ]
  },
  {
   "cell_type": "markdown",
   "metadata": {},
   "source": [
    "&emsp;&emsp;在前面定义的函数 `fib()` 中，变量 `n` 是一个形参——函数完成其工作所需的一项信息。在代码 `fib(2000)` 中，值 `2000` 是一个实参——调用函数时传递给函数的信息。在 `fib(2000)` 中，将实参 `2000` 传递给了函数 `fib()`，这个值被存储在形参 `n` 中，由此得到想要的结果。\n",
    "\n",
    "&emsp;&emsp;在调用函数时，Python 必须将函数调用中的每个实参都关联到函数定义中的一个形参。为此，最简单的关联方式是基于实参的顺序。这种关联方式被称为**位置实参**。下面是一个显示宠物信息的函数,这个函数指出一个宠物属于哪种动物以及它叫什么名字，在调用它时，需要按顺序提供位置实参数（一种动物类型和一个名字），如下所示："
   ]
  },
  {
   "cell_type": "code",
   "execution_count": 4,
   "metadata": {},
   "outputs": [
    {
     "name": "stdout",
     "output_type": "stream",
     "text": [
      "I have a hamster.\n",
      "My hamster's name is Hulk.\n"
     ]
    }
   ],
   "source": [
    "def describe_pet(animal_type, pet_name):\n",
    "    \"\"\"显示宠物的信息\"\"\"\n",
    "    print(\"I have a {0}.\".format(animal_type))\n",
    "    print(\"My {0}'s name is {1}.\".format(animal_type, pet_name.title()))\n",
    "\n",
    "describe_pet('hamster', 'hulk')"
   ]
  },
  {
   "cell_type": "markdown",
   "metadata": {},
   "source": [
    "&emsp;&emsp;**关键字实参**是传递给函数的名称—值对，直接在实参中将名称和值关联起来了，因此向函数传递实参时不会混淆。关键字实参让你无需考虑函数调用中的实参顺序，还清楚地指出了函数调用中各个值的用途。重写上面的代码，使用关键字实参来调用 `describe_pet()`："
   ]
  },
  {
   "cell_type": "code",
   "execution_count": 5,
   "metadata": {},
   "outputs": [
    {
     "name": "stdout",
     "output_type": "stream",
     "text": [
      "I have a hamster.\n",
      "My hamster's name is Hulk.\n"
     ]
    }
   ],
   "source": [
    "describe_pet(pet_name='hulk', animal_type='hamster')"
   ]
  },
  {
   "cell_type": "markdown",
   "metadata": {},
   "source": [
    "&emsp;&emsp;编写函数时，可给每个形参指定默认值。在调用函数中给形参提供了实参时，Python 将使用指定的实参值；否则，将使用形参的默认值。重写 `describe_pet()` 函数，形参 `animal_type` 的默认值设置为 `'dog'`："
   ]
  },
  {
   "cell_type": "code",
   "execution_count": 6,
   "metadata": {},
   "outputs": [
    {
     "name": "stdout",
     "output_type": "stream",
     "text": [
      "I have a wolverine.\n",
      "My wolverine's name is Willie.\n"
     ]
    }
   ],
   "source": [
    "def describe_pet(pet_name, animal_type='wolverine'):\n",
    "    \"\"\"显示宠物的信息\"\"\"\n",
    "    print(\"I have a {0}.\".format(animal_type))\n",
    "    print(\"My {0}'s name is {1}.\".format(animal_type, pet_name.title()))\n",
    "    \n",
    "describe_pet(pet_name='willie')"
   ]
  },
  {
   "cell_type": "markdown",
   "metadata": {},
   "source": [
    "&emsp;&emsp;有时候，需要让实参变成可选的，这样使用函数的人就只需在必要时才提供额外的信息。可使用默认值来让实参变成可选的。下面是一个简单的例子："
   ]
  },
  {
   "cell_type": "code",
   "execution_count": 7,
   "metadata": {},
   "outputs": [
    {
     "name": "stdout",
     "output_type": "stream",
     "text": [
      "Jimi Hendrix\n",
      "John Hooker Lee\n"
     ]
    }
   ],
   "source": [
    "def get_formatted_name(first_name, last_name, middle_name=''):\n",
    "    \"\"\"返回整洁的姓名\"\"\"\n",
    "    if middle_name:\n",
    "        full_name = first_name + ' ' + middle_name + ' ' + last_name\n",
    "    else:\n",
    "        full_name = first_name + ' ' + last_name\n",
    "    return full_name.title()\n",
    "\n",
    "musician = get_formatted_name('jimi', 'hendrix') #没有输入中间名\n",
    "print(musician)\n",
    "\n",
    "musician = get_formatted_name('john', 'lee', 'hooker')\n",
    "print(musician)"
   ]
  },
  {
   "cell_type": "markdown",
   "metadata": {},
   "source": [
    "### 1.3.4 传递任意数量的实参"
   ]
  },
  {
   "cell_type": "markdown",
   "metadata": {},
   "source": [
    "&emsp;&emsp;有时候，预先不知道函数需要接受多少个实参，好在 Python 允许函数从调用语句中收集任意数量的实参。下面的函数包含了两个形参，其中第二个形参 `*toppings` 中的 `*` 让 Python 创建一个名为 `toppings` 的空元组（详见 2-2 基本数据结构），但不管调用语句为第二个形参提供了多少实参，`*toppings` 都将它们统统收入囊中："
   ]
  },
  {
   "cell_type": "code",
   "execution_count": 8,
   "metadata": {},
   "outputs": [
    {
     "name": "stdout",
     "output_type": "stream",
     "text": [
      "\n",
      "Making a 16-inch pizza with the following toppings:\n",
      "- pepperoni\n",
      "\n",
      "Making a 12-inch pizza with the following toppings:\n",
      "- mushrooms\n",
      "- green peppers\n",
      "- extra cheese\n"
     ]
    }
   ],
   "source": [
    "def make_pizza(size, *toppings):\n",
    "    \"\"\"概述要制作的比萨\"\"\"\n",
    "    print(\"\\nMaking a {0}-inch pizza with the following toppings:\".format(str(size)))\n",
    "    for topping in toppings:\n",
    "        print(\"- {0}\".format(topping))\n",
    "\n",
    "make_pizza(16, 'pepperoni')\n",
    "make_pizza(12, 'mushrooms', 'green peppers', 'extra cheese')"
   ]
  },
  {
   "cell_type": "markdown",
   "metadata": {},
   "source": [
    "&emsp;&emsp;还有时候，需要接受任意数量的实参，但预先不知道传递给函数的会是什么样的信息。在这种情况下，可将函数编写成能够接受任意数量的键—值对——调用语句提供了多少就接受多少。一个这样的示例是创建用户简介：你知道你将收到有关用户的信息，但不确定会是什么样的信息。在下面的示例中，函数 `build_profile()` 接受名和姓，同时还接受任意数量的关键字实参。其中，`**user_info` 创建一个名为 `user_info` 的空字典（详见 2-2 基本数据结构），并将收到的所有名称—值对都封装到这个字典中:"
   ]
  },
  {
   "cell_type": "code",
   "execution_count": 9,
   "metadata": {},
   "outputs": [
    {
     "name": "stdout",
     "output_type": "stream",
     "text": [
      "{'first_name': 'albert', 'last_name': 'einstein', 'location': 'princeton', 'field': 'physics'}\n"
     ]
    }
   ],
   "source": [
    "def build_profile(first, last, **user_info):\n",
    "    \"\"\"创建一个字典，其中包含我们知道的有关用户的一切\"\"\"\n",
    "    profile = {}\n",
    "    profile['first_name'] = first\n",
    "    profile['last_name'] = last \n",
    "\n",
    "    for key, value in user_info.items():\n",
    "        profile[key] = value\n",
    "    return profile\n",
    "\n",
    "user_profile = build_profile('albert', 'einstein', location='princeton', field='physics')\n",
    "print(user_profile)"
   ]
  },
  {
   "cell_type": "markdown",
   "metadata": {},
   "source": [
    "### 1.3.5 文档字符串"
   ]
  },
  {
   "cell_type": "markdown",
   "metadata": {},
   "source": [
    "&emsp;&emsp;在定义 `fib()` 时，有一条被称为文档字符串的字符串（`\"\"\"打印一个Fibonacci序列\"\"\"`），这由于让程序文档更加简单易懂的字符串，可以通过 `help()` 函数或 `__doc__` 属性查看："
   ]
  },
  {
   "cell_type": "code",
   "execution_count": 10,
   "metadata": {},
   "outputs": [
    {
     "name": "stdout",
     "output_type": "stream",
     "text": [
      "Help on function build_profile in module __main__:\n",
      "\n",
      "build_profile(first, last, **user_info)\n",
      "    创建一个字典，其中包含我们知道的有关用户的一切\n",
      "\n"
     ]
    }
   ],
   "source": [
    "help(build_profile)"
   ]
  },
  {
   "cell_type": "code",
   "execution_count": 11,
   "metadata": {},
   "outputs": [
    {
     "data": {
      "text/plain": [
       "'创建一个字典，其中包含我们知道的有关用户的一切'"
      ]
     },
     "execution_count": 11,
     "metadata": {},
     "output_type": "execute_result"
    }
   ],
   "source": [
    "build_profile.__doc__"
   ]
  },
  {
   "cell_type": "markdown",
   "metadata": {},
   "source": [
    "&emsp;&emsp;一个良好的文档字符串应满足以下几点：\n",
    "- 包含函数的基础信息\n",
    "- 包含函数的功能简介\n",
    "- 包含每个形参的类型，使用等信息\n",
    "\n",
    "&emsp;&emsp;实际上，笔者更习惯于这样写文档字符串："
   ]
  },
  {
   "cell_type": "code",
   "execution_count": 12,
   "metadata": {},
   "outputs": [
    {
     "name": "stdout",
     "output_type": "stream",
     "text": [
      "Help on function build_profile in module __main__:\n",
      "\n",
      "build_profile(first, last, **user_info)\n",
      "    创建一个字典，其中包含我们知道的有关用户的一切\n",
      "    @param first: first name, string\n",
      "    @param last: last name, string\n",
      "    @param **user_info: user info, dictionary\n",
      "    @return profile: user profile, dictionary\n",
      "\n"
     ]
    }
   ],
   "source": [
    "def build_profile(first, last, **user_info):\n",
    "    \"\"\"创建一个字典，其中包含我们知道的有关用户的一切\n",
    "        @param first: first name, string\n",
    "        @param last: last name, string\n",
    "        @param **user_info: user info, dictionary\n",
    "        @return profile: user profile, dictionary\n",
    "    \"\"\"\n",
    "    profile = {}\n",
    "    profile['first_name'] = first\n",
    "    profile['last_name'] = last \n",
    "\n",
    "    for key, value in user_info.items():\n",
    "        profile[key] = value\n",
    "    return profile\n",
    "        \n",
    "help(build_profile)"
   ]
  },
  {
   "cell_type": "markdown",
   "metadata": {},
   "source": [
    "### 1.3.6 匿名函数"
   ]
  },
  {
   "cell_type": "markdown",
   "metadata": {},
   "source": [
    "&emsp;&emsp;有些时候，为了更方便地使用函数，不需要显式地定义函数，直接传入匿名函数："
   ]
  },
  {
   "cell_type": "code",
   "execution_count": 13,
   "metadata": {},
   "outputs": [
    {
     "data": {
      "text/plain": [
       "16"
      ]
     },
     "execution_count": 13,
     "metadata": {},
     "output_type": "execute_result"
    }
   ],
   "source": [
    "square = lambda x: x**2\n",
    "square(4)"
   ]
  },
  {
   "cell_type": "markdown",
   "metadata": {},
   "source": [
    "&emsp;&emsp;该匿名函数实际上就是："
   ]
  },
  {
   "cell_type": "code",
   "execution_count": 14,
   "metadata": {},
   "outputs": [
    {
     "data": {
      "text/plain": [
       "16"
      ]
     },
     "execution_count": 14,
     "metadata": {},
     "output_type": "execute_result"
    }
   ],
   "source": [
    "def f(x):\n",
    "    return x ** 2\n",
    "\n",
    "f(4)"
   ]
  },
  {
   "cell_type": "markdown",
   "metadata": {},
   "source": [
    "&emsp;&emsp;匿名函数还可以当一个变量使用："
   ]
  },
  {
   "cell_type": "code",
   "execution_count": 15,
   "metadata": {},
   "outputs": [
    {
     "name": "stdout",
     "output_type": "stream",
     "text": [
      "33\n"
     ]
    }
   ],
   "source": [
    "def test(a,b,func):\n",
    "    result = func(a,b)\n",
    "    return result\n",
    "\n",
    "num = test(11, 22, lambda x, y: x + y)\n",
    "print(num)"
   ]
  }
 ],
 "metadata": {
  "hide_input": false,
  "kernelspec": {
   "display_name": "Python 3",
   "language": "python",
   "name": "python3"
  },
  "language_info": {
   "codemirror_mode": {
    "name": "ipython",
    "version": 3
   },
   "file_extension": ".py",
   "mimetype": "text/x-python",
   "name": "python",
   "nbconvert_exporter": "python",
   "pygments_lexer": "ipython3",
   "version": "3.6.6"
  }
 },
 "nbformat": 4,
 "nbformat_minor": 2
}
