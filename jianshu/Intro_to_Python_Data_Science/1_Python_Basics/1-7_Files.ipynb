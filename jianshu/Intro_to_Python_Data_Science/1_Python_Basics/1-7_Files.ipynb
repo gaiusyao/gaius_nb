{
 "cells": [
  {
   "cell_type": "markdown",
   "metadata": {},
   "source": [
    "## 1.7 文件"
   ]
  },
  {
   "cell_type": "markdown",
   "metadata": {},
   "source": [
    "&emsp;&emsp;下面将简单介绍文件的读写，首先读取一个 txt 文件："
   ]
  },
  {
   "cell_type": "code",
   "execution_count": 1,
   "metadata": {},
   "outputs": [
    {
     "name": "stdout",
     "output_type": "stream",
     "text": [
      "first line\n",
      "second line\n",
      "third line\n"
     ]
    }
   ],
   "source": [
    "file = open('multi_line_file.txt', 'r')\n",
    "read_data = file.read()\n",
    "file.close()\n",
    "\n",
    "print(read_data)"
   ]
  },
  {
   "cell_type": "markdown",
   "metadata": {},
   "source": [
    "&emsp;&emsp;第一行的 `open()` 函数接收文件名和模式两个参数，然后返回一个 file 对象，模式包括：\n",
    "- 'r'：只读取文件\n",
    "- 'w'：仅用于写入，将覆写已存在的同名文件\n",
    "- 'rb'：读取二进制文件\n",
    "- 'wb'：写入二进制文件\n",
    "-  'a'：打开文件，写入数据到行尾\n",
    "- 'r+'：打开文件进行读写\n",
    " \n",
    "&emsp;&emsp;第二行的 `read()` 函数则读取文件的内容，并返回一个字符串（在二进制模式下则是一个 bytes 对象）。`read()` 函数可接收一个可选参数 `size`，以决定读取的内容长度，当该参数为空或为负时，则读取全部内容。\n",
    " \n",
    "&emsp;&emsp;第三行关闭 file 对象，也可以使用 `with` 语句读取文件，这将自动调用 `close()` 函数关闭 file 对象："
   ]
  },
  {
   "cell_type": "code",
   "execution_count": 2,
   "metadata": {},
   "outputs": [
    {
     "name": "stdout",
     "output_type": "stream",
     "text": [
      "first line\n",
      "second line\n",
      "third line\n"
     ]
    }
   ],
   "source": [
    "with open('multi_line_file.txt', 'r') as file:\n",
    "    read_data = file.read()\n",
    "    print(read_data)"
   ]
  },
  {
   "cell_type": "markdown",
   "metadata": {},
   "source": [
    "&emsp;&emsp;写文件和读文件是一样的，唯一区别是调用 `open()` 函数时，传入标识符 `'w'` 或者 `'wb'` 表示写文本文件或写二进制文件："
   ]
  },
  {
   "cell_type": "code",
   "execution_count": 3,
   "metadata": {},
   "outputs": [],
   "source": [
    "with open('hello_file.txt', 'w') as file:\n",
    "    file.write('Hello, world!\\nblabla...')"
   ]
  },
  {
   "cell_type": "markdown",
   "metadata": {},
   "source": [
    "&emsp;&emsp;接下来使用 `readline()` 函数，这将从文件读取整行内容："
   ]
  },
  {
   "cell_type": "code",
   "execution_count": 4,
   "metadata": {},
   "outputs": [
    {
     "name": "stdout",
     "output_type": "stream",
     "text": [
      "Hello, world!\n",
      "\n",
      "blabla...\n"
     ]
    }
   ],
   "source": [
    "for line in open('hello_file.txt', 'r'):\n",
    "    print(line)"
   ]
  },
  {
   "cell_type": "code",
   "execution_count": null,
   "metadata": {},
   "outputs": [],
   "source": []
  }
 ],
 "metadata": {
  "hide_input": false,
  "kernelspec": {
   "display_name": "Python 3",
   "language": "python",
   "name": "python3"
  },
  "language_info": {
   "codemirror_mode": {
    "name": "ipython",
    "version": 3
   },
   "file_extension": ".py",
   "mimetype": "text/x-python",
   "name": "python",
   "nbconvert_exporter": "python",
   "pygments_lexer": "ipython3",
   "version": "3.6.6"
  }
 },
 "nbformat": 4,
 "nbformat_minor": 2
}
