{
 "cells": [
  {
   "cell_type": "markdown",
   "metadata": {},
   "source": [
    "## 1.6 错误处理"
   ]
  },
  {
   "cell_type": "markdown",
   "metadata": {},
   "source": [
    "&emsp;&emsp;在程序运行的过程中，出现错误是很常见的。如果发生了错误，可以事先约定返回一个错误代码，告知是否出错及出错原因。但使用错误码来表示是否出错会让应返回的正常结果和错误码混在一起，造成调用者必须用大量的代码来判断是否出错："
   ]
  },
  {
   "cell_type": "code",
   "execution_count": 1,
   "metadata": {},
   "outputs": [],
   "source": [
    "def foo():\n",
    "    r = some_function()\n",
    "    if r==(-1):\n",
    "        return (-1)\n",
    "    # do something\n",
    "    return r\n",
    "\n",
    "def bar():\n",
    "    r = foo()\n",
    "    if r==(-1):\n",
    "        print('Error')\n",
    "    else:\n",
    "        pass"
   ]
  },
  {
   "cell_type": "markdown",
   "metadata": {},
   "source": [
    "&emsp;&emsp;一旦出错，还需逐层上报，直到某个函数可以处理。因此，高级语言（包括 Python）通常都内置了一套 `try...except...finally...` 的错误处理机制来处理错误。"
   ]
  },
  {
   "cell_type": "markdown",
   "metadata": {},
   "source": [
    "&emsp;&emsp;用一个简单的例子来看看 `try...except...finally...` 机制："
   ]
  },
  {
   "cell_type": "code",
   "execution_count": 7,
   "metadata": {},
   "outputs": [
    {
     "name": "stdout",
     "output_type": "stream",
     "text": [
      "Try...\n",
      "\n",
      "Except: \n",
      "\t division by zero\n",
      "\n",
      "Finally...\n",
      "\n",
      "END\n"
     ]
    }
   ],
   "source": [
    "try:\n",
    "    print('Try...\\n')\n",
    "    r = 10 / 0\n",
    "    print('Result: {0}\\n'.format(r))\n",
    "except ZeroDivisionError as e:\n",
    "    print('Except: \\n\\t {0}\\n'.format(e))\n",
    "finally:\n",
    "    print('Finally...\\n')\n",
    "print('END')"
   ]
  },
  {
   "cell_type": "markdown",
   "metadata": {},
   "source": [
    "&emsp;&emsp;`try` 语句块将运行一段可能出错的代码，若出错，则后续代码不执行，并直接跳转至错误处理代码，即 `except` 语句块。执行完 `except` 后，若还有 `finally` 语句块，则执行 `finally` 语句块，至此，执行完毕。\n",
    "\n",
    "> **注意**：\n",
    "> 无论是否发生错误，若有 `finally` 语句块，都会被执行"
   ]
  },
  {
   "cell_type": "markdown",
   "metadata": {},
   "source": [
    "&emsp;&emsp;错误应该有很多种类，如果发生了不同类型的错误，可以用多个 `except` 来捕获不同类型的错误："
   ]
  },
  {
   "cell_type": "code",
   "execution_count": 8,
   "metadata": {},
   "outputs": [
    {
     "name": "stdout",
     "output_type": "stream",
     "text": [
      "Try...\n",
      "\n",
      "ValueError: invalid literal for int() with base 10: 'a'\n",
      "\n",
      "Finally...\n",
      "\n",
      "END\n"
     ]
    }
   ],
   "source": [
    "try:\n",
    "    print('Try...\\n')\n",
    "    r = 10 / int('a')\n",
    "    print('Result: {0}\\n'.format(r))\n",
    "except ValueError as e:\n",
    "    print('ValueError: {0}\\n'.format(e))\n",
    "except ZeroDivisionError as e:\n",
    "    print('ZeroDivisionError: {0}\\n'.format(e))\n",
    "finally:\n",
    "    print('Finally...\\n')\n",
    "print('END')"
   ]
  },
  {
   "cell_type": "markdown",
   "metadata": {},
   "source": [
    "&emsp;&emsp;Python 的错误其实也是类，所有的错误类型都继承自 `BaseException`，所以在使用 `except` 时需要注意的是，它不但捕获该类型的错误，还把其子类也“一网打尽”。比如：\n",
    "\n",
    "``` PYTHON\n",
    "try:\n",
    "    foo()\n",
    "except ValueError as e:\n",
    "    print('ValueError')\n",
    "except UnicodeError as e:\n",
    "    print('UnicodeError')\n",
    "```\n",
    "\n",
    "&emsp;&emsp;第二个 `except` 永远也捕获不到 `UnicodeError`，因为 `UnicodeError` 是 `ValueError` 的子类，如果有，也被第一个 `except` 给捕获了。"
   ]
  },
  {
   "cell_type": "markdown",
   "metadata": {},
   "source": [
    "&emsp;&emsp;用 `try...except` 捕获错误还有一个巨大的好处，就是可以跨越多层调用，比如函数 `main()` 调用 `foo()`，`foo()` 调用 `bar()`，结果 `bar()` 出错了，这时，只要 `main()` 捕获到了，就可以处理："
   ]
  },
  {
   "cell_type": "code",
   "execution_count": 10,
   "metadata": {},
   "outputs": [],
   "source": [
    "def foo(s):\n",
    "    return 10 / int(s)\n",
    "\n",
    "def bar(s):\n",
    "    return foo(s) * 2\n",
    "\n",
    "def main():\n",
    "    try:\n",
    "        bar('0')\n",
    "    except Exception as e:\n",
    "        print('Error:', e)\n",
    "    finally:\n",
    "        print('finally...')"
   ]
  },
  {
   "cell_type": "markdown",
   "metadata": {},
   "source": [
    "&emsp;&emsp;也就是说，不需要在每个可能出错的地方去捕获错误，只要在合适的层次去捕获错误就可以了。这样一来，就大大减少了写 `try...except...finally` 的麻烦。"
   ]
  },
  {
   "cell_type": "code",
   "execution_count": null,
   "metadata": {},
   "outputs": [],
   "source": []
  }
 ],
 "metadata": {
  "hide_input": false,
  "kernelspec": {
   "display_name": "Python 3",
   "language": "python",
   "name": "python3"
  },
  "language_info": {
   "codemirror_mode": {
    "name": "ipython",
    "version": 3
   },
   "file_extension": ".py",
   "mimetype": "text/x-python",
   "name": "python",
   "nbconvert_exporter": "python",
   "pygments_lexer": "ipython3",
   "version": "3.6.6"
  }
 },
 "nbformat": 4,
 "nbformat_minor": 2
}
