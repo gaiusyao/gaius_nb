{
 "cells": [
  {
   "cell_type": "markdown",
   "metadata": {},
   "source": [
    "# Python 数据科学入门"
   ]
  },
  {
   "cell_type": "markdown",
   "metadata": {},
   "source": [
    "## A 前篇\n",
    "\n",
    "- Python 简介\n",
    "- Python 数据科学工具箱\n",
    "- NumPy 入门\n",
    "- Pandas 数据处理\n",
    "- 获取数据\n",
    "- 清洗数据\n",
    "- 探索数据\n",
    "- 时间序列\n",
    "- 数据可视化\n",
    "- 可交互的数据可视化"
   ]
  },
  {
   "cell_type": "markdown",
   "metadata": {},
   "source": [
    "## B 中篇\n",
    "\n",
    "- 线性代数\n",
    "- 概率与统计\n",
    "- 假设与推断\n",
    "- 数据科学流程\n",
    "- 维数约简\n",
    "- 异常检测和处理\n",
    "- 评分函数\n",
    "- 测试和验证\n",
    "- 超参数优化\n",
    "- 特征选择"
   ]
  },
  {
   "cell_type": "markdown",
   "metadata": {},
   "source": [
    "## C 后篇\n",
    "\n",
    "- 机器学习简介\n",
    "- 线性与逻辑回归\n",
    "- 梯度下降\n",
    "- 朴素贝叶斯\n",
    "- K 近邻\n",
    "- 高级非线性算法\n",
    "- 决策树\n",
    "- 神经网络\n",
    "- 聚类分析\n",
    "- 自然语言处理\n",
    "- 网络分析\n",
    "- 推荐系统"
   ]
  },
  {
   "cell_type": "code",
   "execution_count": null,
   "metadata": {},
   "outputs": [],
   "source": []
  }
 ],
 "metadata": {
  "hide_input": false,
  "kernelspec": {
   "display_name": "Python 3",
   "language": "python",
   "name": "python3"
  },
  "language_info": {
   "codemirror_mode": {
    "name": "ipython",
    "version": 3
   },
   "file_extension": ".py",
   "mimetype": "text/x-python",
   "name": "python",
   "nbconvert_exporter": "python",
   "pygments_lexer": "ipython3",
   "version": "3.6.6"
  }
 },
 "nbformat": 4,
 "nbformat_minor": 2
}
