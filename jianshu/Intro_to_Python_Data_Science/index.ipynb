{
 "cells": [
  {
   "cell_type": "markdown",
   "metadata": {},
   "source": [
    "# Python 数据科学入门"
   ]
  },
  {
   "cell_type": "markdown",
   "metadata": {},
   "source": [
    "## A 前篇\n",
    "\n",
    "- Python 简介\n",
    "- Python 数据科学工具箱\n",
    "- Pandas 基础\n",
    "- DataFrame 和 Series\n",
    "- 获取数据\n",
    "- 探索数据\n",
    "- 清洗数据\n",
    "- 使用表格型数据\n",
    "- 使用数据库\n",
    "- 使用文本数据\n",
    "- 使用网络数据\n",
    "- 时间序列\n",
    "- 数据可视化\n",
    "- 可交互的数据可视化"
   ]
  },
  {
   "cell_type": "markdown",
   "metadata": {},
   "source": [
    "## B 后篇\n",
    "\n",
    "- 线性代数\n",
    "- 统计学\n",
    "- 概率\n",
    "- 假设与推断\n",
    "- 梯度下降\n",
    "- 机器学习\n",
    "- K 近邻法\n",
    "- 朴素贝叶斯\n",
    "- 简单线性回归\n",
    "- 多重回归分析\n",
    "- 逻辑回归\n",
    "- 决策树\n",
    "- 神经网络\n",
    "- 聚类分析\n",
    "- 自然语言处理\n",
    "- 网络分析\n",
    "- 推荐系统\n",
    "- MapReduce"
   ]
  }
 ],
 "metadata": {
  "hide_input": false,
  "kernelspec": {
   "display_name": "Python 3",
   "language": "python",
   "name": "python3"
  },
  "language_info": {
   "codemirror_mode": {
    "name": "ipython",
    "version": 3
   },
   "file_extension": ".py",
   "mimetype": "text/x-python",
   "name": "python",
   "nbconvert_exporter": "python",
   "pygments_lexer": "ipython3",
   "version": "3.6.5"
  }
 },
 "nbformat": 4,
 "nbformat_minor": 2
}
