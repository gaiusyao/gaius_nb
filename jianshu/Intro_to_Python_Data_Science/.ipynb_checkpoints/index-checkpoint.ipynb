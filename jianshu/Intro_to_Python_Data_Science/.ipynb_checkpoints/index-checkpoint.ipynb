{
 "cells": [
  {
   "cell_type": "markdown",
   "metadata": {},
   "source": [
    "# Python 数据科学入门"
   ]
  },
  {
   "cell_type": "markdown",
   "metadata": {},
   "source": [
    "## A 前篇\n",
    "\n",
    "\n",
    "- 1 Python 基础\n",
    "    - 1.1 Python 简介\n",
    "    - 1.2 数据类型\n",
    "    - 1.3 控制流\n",
    "    - 1.4 函数\n",
    "    - 1.5 类\n",
    "    - 1.6 模块\n",
    "    - 1.7 异常\n",
    "    - 1.8 文件\n",
    "    - 1.9 标准库\n",
    "    \n",
    "    \n",
    "- 2 数据类型和结构\n",
    "- 3 NumPy 入门\n",
    "- 4 使用 Pandas 进行数据处理\n",
    "- 5 数据导入导出\n",
    "- 6 数据清洗\n",
    "- 7 数据可视化"
   ]
  },
  {
   "cell_type": "markdown",
   "metadata": {},
   "source": [
    "## B 后篇\n",
    "\n",
    "\n",
    "- 8 Pandas 进阶\n",
    "- 9 时间序列\n",
    "- 10 NumPy 高级应用\n",
    "- 11 概率统计\n",
    "- 12 机器学习"
   ]
  },
  {
   "cell_type": "code",
   "execution_count": null,
   "metadata": {},
   "outputs": [],
   "source": []
  }
 ],
 "metadata": {
  "hide_input": false,
  "kernelspec": {
   "display_name": "Python 3",
   "language": "python",
   "name": "python3"
  },
  "language_info": {
   "codemirror_mode": {
    "name": "ipython",
    "version": 3
   },
   "file_extension": ".py",
   "mimetype": "text/x-python",
   "name": "python",
   "nbconvert_exporter": "python",
   "pygments_lexer": "ipython3",
   "version": "3.6.6"
  }
 },
 "nbformat": 4,
 "nbformat_minor": 2
}
