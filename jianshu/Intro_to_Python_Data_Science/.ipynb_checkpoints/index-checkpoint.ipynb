{
 "cells": [
  {
   "cell_type": "markdown",
   "metadata": {},
   "source": [
    "# Python 数据科学入门"
   ]
  },
  {
   "cell_type": "markdown",
   "metadata": {},
   "source": [
    "- 什么是数据科学\n",
    "- Python 简介\n",
    "- Python 数据科学工具箱\n",
    "- Pandas 基础\n",
    "- DataFrame 和 Series\n",
    "- 数据清洗\n",
    "- 使用表格型数据\n",
    "- 使用数据库\n",
    "- 使用文本数据\n",
    "- 使用网络数据\n",
    "- 数据可视化\n",
    "- 概率与统计\n",
    "- 时间序列\n",
    "- 机器学习\n",
    "- 自然语言处理"
   ]
  },
  {
   "cell_type": "code",
   "execution_count": null,
   "metadata": {},
   "outputs": [],
   "source": []
  }
 ],
 "metadata": {
  "hide_input": false,
  "kernelspec": {
   "display_name": "Python 3",
   "language": "python",
   "name": "python3"
  },
  "language_info": {
   "codemirror_mode": {
    "name": "ipython",
    "version": 3
   },
   "file_extension": ".py",
   "mimetype": "text/x-python",
   "name": "python",
   "nbconvert_exporter": "python",
   "pygments_lexer": "ipython3",
   "version": "3.6.5"
  }
 },
 "nbformat": 4,
 "nbformat_minor": 2
}
