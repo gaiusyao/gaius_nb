{
 "cells": [
  {
   "cell_type": "markdown",
   "metadata": {},
   "source": [
    "## 17.1 创建表\n",
    "&emsp;&emsp;SQL 不仅用于表数据操纵，还用来执行数据库和表的所有操作，包括表本身的创建和处理。一般有两种创建表的方法：\n",
    "- 多数DBMS 都具有交互式创建和管理数据库表的工具；\n",
    "- 表也可以直接用SQL 语句操纵。\n",
    "\n",
    ">**注意**：在不同的SQL 实现中，CREATE TABLE 语句的语法可能有所不同。对于具体的DBMS 支持何种语法，请参阅相应的文档。"
   ]
  },
  {
   "cell_type": "markdown",
   "metadata": {},
   "source": [
    "### 17.1.1 表创建基础\n",
    "&emsp;&emsp;利用CREATE TABLE 创建表，必须给出下列信息：\n",
    "- 新表的名字，在关键字CREATE TABLE 之后给出；\n",
    "- 表列的名字和定义，用逗号分隔；\n",
    "- 有的DBMS 还要求指定表的位置。\n",
    "\n",
    "``` SQL\n",
    "CREATE TABLE Products (\n",
    "        prod_id CHAR(10) NOT NULL,\n",
    "        vend_id CHAR(10) NOT NULL,\n",
    "        prod_name CHAR(254) NOT NULL,\n",
    "        prod_price DECIMAL(8,2) NOT NULL,\n",
    "        prod_desc VARCHAR(1000) NULL\n",
    ");\n",
    "```\n",
    "\n",
    ">**注意**：这条语句在Oracle、PostgreSQL、SQL Server 和SQLite中有效，而对于MySQL，varchar 必须替换为text；对于DB2，必须从最后一列中去掉NULL。这就是对于不同的DBMS，要编写不同的表创建脚本的原因）。"
   ]
  },
  {
   "cell_type": "markdown",
   "metadata": {},
   "source": [
    "### 17.1.2 使用NULL 值\n",
    "&emsp;&emsp;每个表列要么是NULL 列，要么是NOT NULL 列，这种状态在创建时由表的定义规定：\n",
    "\n",
    "``` SQL\n",
    "CREATE TABLE Orders (\n",
    "        order_num INTEGER NOT NULL,\n",
    "        order_date DATETIME NOT NULL,\n",
    "        cust_id CHAR(10) NOT NULL\n",
    ");\n",
    "```\n",
    "\n",
    "``` SQL\n",
    "CREATE TABLE Vendors (\n",
    "        vend_id CHAR(10) NOT NULL,\n",
    "        vend_name CHAR(50) NOT NULL,\n",
    "        vend_address CHAR(50) ,\n",
    "        vend_city CHAR(50) ,\n",
    "        vend_state CHAR(5) ,\n",
    "        vend_zip CHAR(10) ,\n",
    "        vend_country CHAR(50)\n",
    ");\n",
    "```\n",
    "\n",
    ">**注意**：在不指定NOT NULL 时，多数DBMS 认为指定的是NULL，但不是所有的DBMS 都这样。某些DBMS 要求指定关键字NULL，如果不指定将出错。关于完整的语法信息，请参阅具体的DBMS 文档。\n",
    "\n",
    ">**提示**：主键是其值唯一标识表中每一行的列。只有不允许NULL值的列可作为主键，允许NULL 值的列不能作为唯一标识。\n",
    "\n",
    ">**注意**：不要把NULL 值与空字符串相混淆。NULL 值是没有值，不是空字符串。如果指定''（两个单引号，其间没有字符），这在NOT NULL 列中是允许的。空字符串是一个有效的值，它不是无值。NULL 值用关键字NULL而不是空字符串指定。"
   ]
  },
  {
   "cell_type": "markdown",
   "metadata": {},
   "source": [
    "### 17.1.3 指定默认值\n",
    "&emsp;&emsp;SQL 允许指定默认值，在插入行时如果不给出值，DBMS 将自动采用默认值。默认值在CREATE TABLE 语句的列定义中用关键字DEFAULT 指定：\n",
    "\n",
    "``` SQL\n",
    "CREATE TABLE OrderItems (\n",
    "        order_num INTEGER NOT NULL,\n",
    "        order_item INTEGER NOT NULL,\n",
    "        prod_id CHAR(10) NOT NULL,\n",
    "        quantity INTEGER NOT NULL DEFAULT 1,\n",
    "        item_price DECIMAL(8,2) NOT NULL\n",
    ");\n",
    "```\n",
    "\n",
    "&emsp;&emsp;默认值经常用于日期或时间戳列，遗憾的是，这条获得系统日期的命令在不同的DBMS 中几乎都是不同的：\n",
    "\n",
    "DBMS | 函数/变量\n",
    "----|----\n",
    "Access | NOW()\n",
    "DB2 | CURRENT_DATE\n",
    "MySQL | CURRENT_DATE()\n",
    "Oracle | SYSDATE\n",
    "PostgreSQL | CURRENT_DATE\n",
    "SQL Server | GETDATE()\n",
    "SQLite | date('now')\n",
    "\n",
    ">**提示**：许多数据库开发人员喜欢使用DEFAULT 值而不是NULL 列，对于用于计算或数据分组的列更是如此。"
   ]
  },
  {
   "cell_type": "markdown",
   "metadata": {},
   "source": [
    "## 17.2 更新表\n",
    "&emsp;&emsp;更新表定义，可以使用ALTER TABLE 语句。以下是使用ALTERTABLE 时需要考虑的事情：\n",
    "\n",
    "- 理想情况下，不要在表中包含数据时对其进行更新。应该在表的设计过程中充分考虑未来可能的需求，避免今后对表的结构做大改动；\n",
    "- 所有的DBMS 都允许给现有的表增加列，不过对所增加列的数据类型（以及NULL 和DEFAULT 的使用）有所限制；\n",
    "- 许多DBMS 不允许删除或更改表中的列；\n",
    "- 多数DBMS 允许重新命名表中的列；\n",
    "- 许多DBMS 限制对已经填有数据的列进行更改，对未填有数据的列几乎没有限制。\n",
    "\n",
    "&emsp;&emsp;使用ALTER TABLE 更改表结构，必须给出下面的信息：\n",
    "- 在ALTER TABLE 之后给出要更改的表名（该表必须存在，否则将出错）；\n",
    "- 列出要做哪些更改。\n",
    "\n",
    "``` SQL\n",
    "ALTER TABLE Vendors\n",
    "ADD vend_phone CHAR(20);\n",
    "```\n",
    "\n",
    "``` SQL\n",
    "ALTER TABLE Vendors\n",
    "DROP COLUMN vend_phone;\n",
    "```\n",
    "\n",
    "&emsp;&emsp;复杂的表结构更改一般需要手动删除过程，它涉及以下步骤：\n",
    "1. 用新的列布局创建一个新表；\n",
    "2. 使用INSERT SELECT 语句从旧表复制数据到新表。有必要的话，可以使用转换函数和计算字段；\n",
    "3. 检验包含所需数据的新表；\n",
    "4. 重命名旧表（如果确定，可以删除它）；\n",
    "5. 用旧表原来的名字重命名新表；\n",
    "6. 根据需要，重新创建触发器、存储过程、索引和外键。\n",
    "\n",
    ">**说明**：SQLite 对使用ALTER TABLE 执行的操作有所限制。最重要的一个限制是，它不支持使用ALTER TABLE 定义主键和外键，这些必须在最初创建表时指定。\n",
    "\n",
    ">**注意**：使用ALTER TABLE 要极为小心，应该在进行改动前做完整的备份（表结构和数据的备份）。数据库表的更改不能撤销，如果增加了不需要的列，也许无法删除它们。类似地，如果删除了不应该删除的列，可能会丢失该列中的所有数据。"
   ]
  },
  {
   "cell_type": "markdown",
   "metadata": {},
   "source": [
    "## 17.3 删除表\n",
    "&emsp;&emsp;删除表（删除整个表而不是其内容）非常简单，使用DROP TABLE 语句即可：\n",
    "\n",
    "``` SQL\n",
    "DROP TABLE CustCopy;\n",
    "```\n",
    "\n",
    ">**提示**：许多DBMS 允许强制实施有关规则，防止删除与其他表相关联的表。在实施这些规则时，如果对某个表发布一条DROP TABLE 语句，且该表是某个关系的组成部分，则DBMS 将阻止这条语句执行，直到该关系被删除为止。如果允许，应该启用这些选项，它能防止意外删除有用的表。"
   ]
  },
  {
   "cell_type": "markdown",
   "metadata": {},
   "source": [
    "## 17.4 重命名表\n",
    "&emsp;&emsp;每个DBMS 对表重命名的支持有所不同。对于这个操作，不存在严格的标准DB2、MariaDB、MySQL、Oracle 和PostgreSQL 用户使用RENAME语句，SQL Server 用户使用sp_rename 存储过程，SQLite 用户使用ALTER TABLE 语句。：\n",
    "\n",
    ">**提示**：所有重命名操作的基本语法都要求指定旧表名和新表名。不过，存在DBMS 实现差异。关于具体的语法，请参阅相应的DBMS 文档。"
   ]
  },
  {
   "cell_type": "markdown",
   "metadata": {},
   "source": [
    "## 17.5 小结\n",
    "&emsp;&emsp;本章学习了CREATE TABLE 用来创建新表，ALTERTABLE 用来更改表列（或其他诸如约束或索引等对象），而DROP TABLE用来完整地删除一个表。这些语句必须小心使用，并且应该在备份后使用。"
   ]
  },
  {
   "cell_type": "code",
   "execution_count": null,
   "metadata": {},
   "outputs": [],
   "source": []
  }
 ],
 "metadata": {
  "kernelspec": {
   "display_name": "Python 3",
   "language": "python",
   "name": "python3"
  },
  "language_info": {
   "codemirror_mode": {
    "name": "ipython",
    "version": 3
   },
   "file_extension": ".py",
   "mimetype": "text/x-python",
   "name": "python",
   "nbconvert_exporter": "python",
   "pygments_lexer": "ipython3",
   "version": "3.6.4"
  }
 },
 "nbformat": 4,
 "nbformat_minor": 2
}
