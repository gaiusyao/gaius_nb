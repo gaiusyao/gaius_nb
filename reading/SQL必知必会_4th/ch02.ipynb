{
 "cells": [
  {
   "cell_type": "markdown",
   "metadata": {},
   "source": [
    "## 2.1 SELECT语句\n",
    "&emsp;&emsp;SQL 语句是由简单的英语单词构成的。这些单词称为**关键字**，每个SQL 语句都是由一个或多个关键字构成的。最经常使用的SQL 语句大概就是**SELECT 语句**了。它的用途是从一个或多个表中检索信息。\n",
    "\n",
    ">**关键字（keyword）**：作为SQL 组成部分的保留字。关键字不能用作表或列的名字。\n",
    "\n",
    "&emsp;&emsp;理解SQL语句的最好方式是将其转换为自然语言去理解，例如我们想使用SELECT 语句检索表数据，必须至少给出两条信息——想选择什么（SELECT），以及从什么地方选择（FROM）。"
   ]
  },
  {
   "cell_type": "markdown",
   "metadata": {},
   "source": [
    "## 2.2 检索单个列\n",
    "&emsp;&emsp;下面将通过最简单的SQL SELECT 语句，检索单个列："
   ]
  },
  {
   "cell_type": "code",
   "execution_count": 1,
   "metadata": {},
   "outputs": [],
   "source": [
    "# 导入sqlite3\n",
    "import sqlite3 as sql \n",
    "\n",
    "# 创建查询函数\n",
    "def select_sql(query):\n",
    "    conn = sql.connect('tysql.sqlite')\n",
    "    cur = conn.cursor()\n",
    "\n",
    "\n",
    "    cur.execute(query);\n",
    "    output = cur.fetchall()\n",
    "\n",
    "    cur.close()\n",
    "    conn.close()\n",
    "\n",
    "    print(output)\n",
    "\n",
    "conn = sql.connect('tysql.sqlite')\n",
    "cur = conn.cursor()"
   ]
  },
  {
   "cell_type": "code",
   "execution_count": 2,
   "metadata": {},
   "outputs": [
    {
     "name": "stdout",
     "output_type": "stream",
     "text": [
      "[('8 inch teddy bear',), ('12 inch teddy bear',), ('18 inch teddy bear',), ('Fish bean bag toy',), ('Bird bean bag toy',), ('Rabbit bean bag toy',), ('Raggedy Ann',), ('King doll',), ('Queen doll',)]\n"
     ]
    }
   ],
   "source": [
    "# 从Products 表中检索一个名为prod_name的列\n",
    "query = '''\n",
    "SELECT prod_name\n",
    "FROM Products;\n",
    "'''\n",
    "select_sql(query)"
   ]
  },
  {
   "cell_type": "markdown",
   "metadata": {},
   "source": [
    "## 2.3 检索多个列\n",
    "&emsp;&emsp;要想从一个表中检索多个列，仍然使用相同的SELECT 语句。唯一的不同是必须在SELECT 关键字后给出多个列名，列名之间必须以逗号分隔。下面的SELECT 语句从Products 表中选择3 列："
   ]
  },
  {
   "cell_type": "code",
   "execution_count": 3,
   "metadata": {},
   "outputs": [
    {
     "name": "stdout",
     "output_type": "stream",
     "text": [
      "[('BR01', '8 inch teddy bear', 5.99), ('BR02', '12 inch teddy bear', 8.99), ('BR03', '18 inch teddy bear', 11.99), ('BNBG01', 'Fish bean bag toy', 3.49), ('BNBG02', 'Bird bean bag toy', 3.49), ('BNBG03', 'Rabbit bean bag toy', 3.49), ('RGAN01', 'Raggedy Ann', 4.99), ('RYL01', 'King doll', 9.49), ('RYL02', 'Queen doll', 9.49)]\n"
     ]
    }
   ],
   "source": [
    "# 从表Products 中选择3列数据\n",
    "query = '''\n",
    "SELECT prod_id, prod_name, prod_price\n",
    "FROM Products;\n",
    "'''\n",
    "select_sql(query)"
   ]
  },
  {
   "cell_type": "markdown",
   "metadata": {},
   "source": [
    "## 2.4 检索所有列\n",
    "&emsp;&emsp;除了指定所需的列外（如上所述，一个或多个列），SELECT 语句还可以检索所有的列而不必逐个列出它们。在实际列名的位置使用**星号（*）通配符**可以做到这点，如下所示："
   ]
  },
  {
   "cell_type": "code",
   "execution_count": 4,
   "metadata": {},
   "outputs": [
    {
     "name": "stdout",
     "output_type": "stream",
     "text": [
      "[('BR01', 'BRS01', '8 inch teddy bear', 5.99, '8 inch teddy bear, comes with cap and jacket'), ('BR02', 'BRS01', '12 inch teddy bear', 8.99, '12 inch teddy bear, comes with cap and jacket'), ('BR03', 'BRS01', '18 inch teddy bear', 11.99, '18 inch teddy bear, comes with cap and jacket'), ('BNBG01', 'DLL01', 'Fish bean bag toy', 3.49, 'Fish bean bag toy, complete with bean bag worms with which to feed it'), ('BNBG02', 'DLL01', 'Bird bean bag toy', 3.49, 'Bird bean bag toy, eggs are not included'), ('BNBG03', 'DLL01', 'Rabbit bean bag toy', 3.49, 'Rabbit bean bag toy, comes with bean bag carrots'), ('RGAN01', 'DLL01', 'Raggedy Ann', 4.99, '18 inch Raggedy Ann doll'), ('RYL01', 'FNG01', 'King doll', 9.49, '12 inch king doll with royal garments and crown'), ('RYL02', 'FNG01', 'Queen doll', 9.49, '12 inch queen doll with royal garments and crown')]\n"
     ]
    }
   ],
   "source": [
    "# 从表Products 中选择所有数据\n",
    "query = '''\n",
    "SELECT *\n",
    "FROM Products;\n",
    "'''\n",
    "select_sql(query)"
   ]
  },
  {
   "cell_type": "markdown",
   "metadata": {},
   "source": [
    "## 2.5 检索不同的值\n",
    "&emsp;&emsp;如前所述，SELECT 语句返回所有匹配的行。但是，如果不希望每个值每次都重复出现，可以使用**DISTINCT 关键字**，指示数据库只返回不同的值。"
   ]
  },
  {
   "cell_type": "code",
   "execution_count": 5,
   "metadata": {},
   "outputs": [
    {
     "name": "stdout",
     "output_type": "stream",
     "text": [
      "[('BRS01',), ('DLL01',), ('FNG01',)]\n"
     ]
    }
   ],
   "source": [
    "query = '''\n",
    "SELECT DISTINCT vend_id\n",
    "FROM Products;\n",
    "'''\n",
    "select_sql(query)"
   ]
  },
  {
   "cell_type": "markdown",
   "metadata": {},
   "source": [
    "## 2.6 限制结果\n",
    "&emsp;&emsp;可以选择返回第一行或者一定数量的行，但遗憾的是，各种数据库中的这一SQL 实现并不相同，下面以选择头5行数据为例，列举各主要DBMS的不同实现方式：\n",
    "- SQL Server & Access: `SELECT TOP 5`\n",
    "- DB2: `FETCH FIRST 5 ROWS ONLY`\n",
    "- Oracle: `WHERE ROWNUM <=5`\n",
    "- MySQL, MariaDB, PostgreSQL, SQLite: `LIMIT 5`"
   ]
  },
  {
   "cell_type": "markdown",
   "metadata": {},
   "source": [
    "## 2.7 使用注释\n",
    "- 行内注释：\n",
    "    - 使用连字符：`-- 这是一条单行注释`\n",
    "    - 使用井字符：`# 这是一条单行注释`\n",
    "- 多行注释：`/* 多行注释 */`"
   ]
  },
  {
   "cell_type": "markdown",
   "metadata": {},
   "source": [
    "## 2.8 小结\n",
    "&emsp;&emsp;本章学习了如何使用**SELECT 语句**检索单个、多个以及所有列，也学习了如何返回不同的值，如何使用注释。"
   ]
  },
  {
   "cell_type": "code",
   "execution_count": null,
   "metadata": {},
   "outputs": [],
   "source": []
  }
 ],
 "metadata": {
  "kernelspec": {
   "display_name": "Python 3",
   "language": "python",
   "name": "python3"
  },
  "language_info": {
   "codemirror_mode": {
    "name": "ipython",
    "version": 3
   },
   "file_extension": ".py",
   "mimetype": "text/x-python",
   "name": "python",
   "nbconvert_exporter": "python",
   "pygments_lexer": "ipython3",
   "version": "3.6.4"
  }
 },
 "nbformat": 4,
 "nbformat_minor": 2
}
