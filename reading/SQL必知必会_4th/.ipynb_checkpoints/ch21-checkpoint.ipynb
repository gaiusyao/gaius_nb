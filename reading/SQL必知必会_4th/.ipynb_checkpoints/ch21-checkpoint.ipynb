{
 "cells": [
  {
   "cell_type": "markdown",
   "metadata": {},
   "source": [
    "## 21.1 游标\n",
    "&emsp;&emsp;SQL 检索操作返回一组称为结果集的行，这组返回的行都是与SQL 语句相匹配的行（零行或多行）。简单地使用SELECT 语句，没有办法得到第一行、下一行或前10 行。但这是关系DBMS 功能的组成部分。\n",
    "\n",
    ">**结果集（result set）**：SQL 查询所检索出的结果。\n",
    "\n",
    "&emsp;&emsp;有时，需要在检索出来的行中前进或后退一行或多行，这就是游标的用途所在。**游标（cursor）**是一个存储在DBMS 服务器上的数据库查询，它不是一条SELECT 语句，而是被该语句检索出来的结果集。在存储了游标之后，应用程序可以根据需要滚动或浏览其中的数据。不同的DBMS 支持不同的游标选项和特性。常见的一些选项和特性如下：\n",
    "- 能够标记游标为只读，使数据能读取，但不能更新和删除；\n",
    "- 能控制可以执行的定向操作（向前、向后、第一、最后、绝对位置、相对位置等）；\n",
    "- 能标记某些列为可编辑的，某些列为不可编辑的；\n",
    "- 规定范围，使游标对创建它的特定请求（如存储过程）或对所有请求可访问；\n",
    "- 指示DBMS 对检索出的数据（而不是指出表中活动数据）进行复制，使数据在游标打开和访问期间不变化。\n",
    "\n",
    ">**说明**：Microsoft Access 不支持游标，所以本课的内容不适用于Microsoft Access。MySQL 5 已经支持游标。因此，本课的内容不适用MySQL 较早的版本。SQLite 支持的游标称为步骤（step），本课讲述的基本概念适用于SQLite 的步骤，但语法可能完全不同。\n",
    "\n",
    ">**说明**：游标对基于Web 的应用（如ASP、ASP.NET、ColdFusion、PHP、Python、Ruby、JSP 等）用处不大。虽然游标在客户端应用和服务器会话期间存在，但这种客户/服务器模式不适合Web 应用，因为应用服务器是数据库客户端而不是最终用户。所以，大多数Web 应用开发人员不使用游标，他们根据自己的需要重新开发相应的功能。"
   ]
  },
  {
   "cell_type": "markdown",
   "metadata": {},
   "source": [
    "## 21.2 使用游标\n",
    "&emsp;&emsp;使用游标涉及几个明确的步骤：\n",
    "- 在使用游标前，必须声明（定义）它。这个过程实际上没有检索数据，它只是定义要使用的SELECT 语句和游标选项；\n",
    "- 一旦声明，就必须打开游标以供使用。这个过程用前面定义的SELECT语句把数据实际检索出来；\n",
    "- 对于填有数据的游标，根据需要取出（检索）各行；\n",
    "- 在结束游标使用时，必须关闭游标，可能的话，释放游标（有赖于具体的DBMS）。"
   ]
  },
  {
   "cell_type": "markdown",
   "metadata": {},
   "source": [
    "### 21.2.1 创建游标\n",
    "&emsp;&emsp;使用DECLARE 语句创建游标，这条语句在不同的DBMS 中有所不同。\n",
    "\n",
    "``` SQL\n",
    "-- DB2、MariaDB、MySQL 和SQL Server 版本\n",
    "DECLARE CustCursor CURSOR\n",
    "FOR\n",
    "SELECT * FROM Customers\n",
    "WHERE cust_email IS NULL\n",
    "```\n",
    "\n",
    "``` SQL\n",
    "-- Oracle 和PostgreSQL 版本\n",
    "DECLARE CURSOR CustCursor\n",
    "IS\n",
    "SELECT * FROM Customers\n",
    "WHERE cust_email IS NULL\n",
    "```"
   ]
  },
  {
   "cell_type": "markdown",
   "metadata": {},
   "source": [
    "### 21.2.2 使用游标\n",
    "&emsp;&emsp;使用OPEN CURSOR 语句打开游标，这条语句很简单，在大多数DBMS中的语法相同：\n",
    "\n",
    "``` SQL\n",
    "OPEN CURSOR CustCursor\n",
    "```\n",
    "\n",
    "&emsp;&emsp;现在可以用FETCH 语句访问游标数据了。FETCH 指出要检索哪些行，从何处检索它们以及将它们放于何处（如变量名）：\n",
    "\n",
    "``` SQL\n",
    "DECLARE TYPE CustCursor IS REF CURSOR\n",
    "        RETURN Customers%ROWTYPE;\n",
    "DECLARE CustRecord Customers%ROWTYPE\n",
    "BEGIN\n",
    "        OPEN CustCursor;\n",
    "        FETCH CustCursor INTO CustRecord;\n",
    "        CLOSE CustCursor;\n",
    "END;\n",
    "```"
   ]
  },
  {
   "cell_type": "markdown",
   "metadata": {},
   "source": [
    "### 21.2.3 关闭游标\n",
    "&emsp;&emsp;如前面几个例子所述，游标在使用完毕时需要关闭。此外，SQL Server等DBMS 要求明确释放游标所占用的资源：\n",
    "\n",
    "``` SQL\n",
    "-- DB2、Oracle 和PostgreSQL 的语法\n",
    "CLOSE CustCursor\n",
    "```\n",
    "\n",
    "``` SQL\n",
    "-- SQL Server的版本\n",
    "CLOSE CustCursor\n",
    "DEALLOCATE CURSOR CustCursor\n",
    "```"
   ]
  },
  {
   "cell_type": "markdown",
   "metadata": {},
   "source": [
    "## 21.3 小结\n",
    "&emsp;&emsp;本章学习了什么是游标，为什么使用游标。你使用的DBMS 可能会提供某种形式的游标，以及这里没有提及的功能。更详细的内容请参阅具体的DBMS 文档。"
   ]
  },
  {
   "cell_type": "code",
   "execution_count": null,
   "metadata": {},
   "outputs": [],
   "source": []
  }
 ],
 "metadata": {
  "kernelspec": {
   "display_name": "Python 3",
   "language": "python",
   "name": "python3"
  },
  "language_info": {
   "codemirror_mode": {
    "name": "ipython",
    "version": 3
   },
   "file_extension": ".py",
   "mimetype": "text/x-python",
   "name": "python",
   "nbconvert_exporter": "python",
   "pygments_lexer": "ipython3",
   "version": "3.6.4"
  }
 },
 "nbformat": 4,
 "nbformat_minor": 2
}
