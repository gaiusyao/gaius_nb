{
 "cells": [
  {
   "cell_type": "markdown",
   "metadata": {},
   "source": [
    "## 12.1 联结\n",
    "&emsp;&emsp;SQL 最强大的功能之一就是能在数据查询的执行中联结（join）表。联结是利用SQL 的SELECT 能执行的最重要的操作。"
   ]
  },
  {
   "cell_type": "markdown",
   "metadata": {},
   "source": [
    "### 12.1.1 关系表\n",
    "&emsp;&emsp;避免相同的数据出现多次是关系数据库设计的基础。关系表的设计就是要把信息分解成多个表，一类数据一个表。各表通过某些共同的值互相关联（所以才叫关系数据库）。将数据分解为多个表能更有效地存储，更方便地处理，并且可伸缩性更好。\n",
    "\n",
    ">**可伸缩（scale）**：能够适应不断增加的工作量而不失败。设计良好的数据库或应用程序称为可伸缩性好（scale well）。"
   ]
  },
  {
   "cell_type": "markdown",
   "metadata": {},
   "source": [
    "### 12.1.2 为什么使用联结\n",
    "&emsp;&emsp;联结是一种机制，用来在一条SELECT 语句中关联表，使用特殊的语法，可以联结多个表返回一组输出，联结在运行时关联表中正确的行。\n",
    "\n",
    ">**说明**：联结不是物理实体。换句话说，它在实际的数据库表中并不存在。DBMS 会根据需要建立联结，它在查询执行期间一直存在。"
   ]
  },
  {
   "cell_type": "markdown",
   "metadata": {},
   "source": [
    "## 12.2 创建联结\n",
    "&emsp;&emsp;创建联结非常简单，指定要联结的所有表以及关联它们的方式即可。"
   ]
  },
  {
   "cell_type": "code",
   "execution_count": 1,
   "metadata": {},
   "outputs": [],
   "source": [
    "import sqlite3 as sql \n",
    "import pandas as pd\n",
    "\n",
    "def select_sql(query):\n",
    "    conn = sql.connect('tysql.sqlite')\n",
    "    cur = conn.cursor()\n",
    "    df = pd.read_sql(query, con=conn)\n",
    "    cur.close()\n",
    "    conn.close()\n",
    "    print(df)"
   ]
  },
  {
   "cell_type": "code",
   "execution_count": 2,
   "metadata": {},
   "outputs": [
    {
     "name": "stdout",
     "output_type": "stream",
     "text": [
      "         vend_name            prod_name  prod_price\n",
      "0       Bears R Us    8 inch teddy bear        5.99\n",
      "1       Bears R Us   12 inch teddy bear        8.99\n",
      "2       Bears R Us   18 inch teddy bear       11.99\n",
      "3  Doll House Inc.    Fish bean bag toy        3.49\n",
      "4  Doll House Inc.    Bird bean bag toy        3.49\n",
      "5  Doll House Inc.  Rabbit bean bag toy        3.49\n",
      "6  Doll House Inc.          Raggedy Ann        4.99\n",
      "7    Fun and Games            King doll        9.49\n",
      "8    Fun and Games           Queen doll        9.49\n"
     ]
    }
   ],
   "source": [
    "# 用WHERE 子句联结Vendors, Products表\n",
    "query = '''\n",
    "SELECT vend_name, prod_name, prod_price\n",
    "FROM Vendors, Products\n",
    "WHERE Vendors.vend_id = Products.vend_id;\n",
    "'''\n",
    "select_sql(query)"
   ]
  },
  {
   "cell_type": "markdown",
   "metadata": {},
   "source": [
    ">**警告**：就像前一课提到的，在引用的列可能出现歧义时，必须使用完全限定列名（用一个句点分隔表名和列名）。如果引用一个没有用表名限制的具有歧义的列名，大多数DBMS 会返回错误。"
   ]
  },
  {
   "cell_type": "markdown",
   "metadata": {},
   "source": [
    "### 12.2.1 WHERE 子句的重要性\n",
    "&emsp;&emsp;在一条SELECT 语句中联结几个表时，相应的关系是在运行中构造的。因此在联结两张表时，必须将两张表的每一行配对，WHERE 子句作为过滤条件，只包含那些匹配给定条件（这里是联结条件）的行。没有WHERE子句，第一个表中的每一行将与第二个表中的每一行配对，而不管它们逻辑上是否能配在一起。\n",
    "\n",
    ">**笛卡儿积（cartesian product）**：由没有联结条件的表关系返回的结果为笛卡儿积。检索出的行的数目将是第一个表中的行数乘以第二个表中的行数。"
   ]
  },
  {
   "cell_type": "code",
   "execution_count": 3,
   "metadata": {},
   "outputs": [
    {
     "name": "stdout",
     "output_type": "stream",
     "text": [
      "          vend_name            prod_name  prod_price\n",
      "0        Bears R Us    8 inch teddy bear        5.99\n",
      "1        Bears R Us   12 inch teddy bear        8.99\n",
      "2        Bears R Us   18 inch teddy bear       11.99\n",
      "3        Bears R Us    Fish bean bag toy        3.49\n",
      "4        Bears R Us    Bird bean bag toy        3.49\n",
      "5        Bears R Us  Rabbit bean bag toy        3.49\n",
      "6        Bears R Us          Raggedy Ann        4.99\n",
      "7        Bears R Us            King doll        9.49\n",
      "8        Bears R Us           Queen doll        9.49\n",
      "9     Bear Emporium    8 inch teddy bear        5.99\n",
      "10    Bear Emporium   12 inch teddy bear        8.99\n",
      "11    Bear Emporium   18 inch teddy bear       11.99\n",
      "12    Bear Emporium    Fish bean bag toy        3.49\n",
      "13    Bear Emporium    Bird bean bag toy        3.49\n",
      "14    Bear Emporium  Rabbit bean bag toy        3.49\n",
      "15    Bear Emporium          Raggedy Ann        4.99\n",
      "16    Bear Emporium            King doll        9.49\n",
      "17    Bear Emporium           Queen doll        9.49\n",
      "18  Doll House Inc.    8 inch teddy bear        5.99\n",
      "19  Doll House Inc.   12 inch teddy bear        8.99\n",
      "20  Doll House Inc.   18 inch teddy bear       11.99\n",
      "21  Doll House Inc.    Fish bean bag toy        3.49\n",
      "22  Doll House Inc.    Bird bean bag toy        3.49\n",
      "23  Doll House Inc.  Rabbit bean bag toy        3.49\n",
      "24  Doll House Inc.          Raggedy Ann        4.99\n",
      "25  Doll House Inc.            King doll        9.49\n",
      "26  Doll House Inc.           Queen doll        9.49\n",
      "27     Furball Inc.    8 inch teddy bear        5.99\n",
      "28     Furball Inc.   12 inch teddy bear        8.99\n",
      "29     Furball Inc.   18 inch teddy bear       11.99\n",
      "30     Furball Inc.    Fish bean bag toy        3.49\n",
      "31     Furball Inc.    Bird bean bag toy        3.49\n",
      "32     Furball Inc.  Rabbit bean bag toy        3.49\n",
      "33     Furball Inc.          Raggedy Ann        4.99\n",
      "34     Furball Inc.            King doll        9.49\n",
      "35     Furball Inc.           Queen doll        9.49\n",
      "36    Fun and Games    8 inch teddy bear        5.99\n",
      "37    Fun and Games   12 inch teddy bear        8.99\n",
      "38    Fun and Games   18 inch teddy bear       11.99\n",
      "39    Fun and Games    Fish bean bag toy        3.49\n",
      "40    Fun and Games    Bird bean bag toy        3.49\n",
      "41    Fun and Games  Rabbit bean bag toy        3.49\n",
      "42    Fun and Games          Raggedy Ann        4.99\n",
      "43    Fun and Games            King doll        9.49\n",
      "44    Fun and Games           Queen doll        9.49\n",
      "45   Jouets et ours    8 inch teddy bear        5.99\n",
      "46   Jouets et ours   12 inch teddy bear        8.99\n",
      "47   Jouets et ours   18 inch teddy bear       11.99\n",
      "48   Jouets et ours    Fish bean bag toy        3.49\n",
      "49   Jouets et ours    Bird bean bag toy        3.49\n",
      "50   Jouets et ours  Rabbit bean bag toy        3.49\n",
      "51   Jouets et ours          Raggedy Ann        4.99\n",
      "52   Jouets et ours            King doll        9.49\n",
      "53   Jouets et ours           Queen doll        9.49\n"
     ]
    }
   ],
   "source": [
    "# 没有WHERE 语句的情况\n",
    "query = '''\n",
    "SELECT vend_name, prod_name, prod_price\n",
    "FROM Vendors, Products;\n",
    "'''\n",
    "select_sql(query)"
   ]
  },
  {
   "cell_type": "markdown",
   "metadata": {},
   "source": [
    ">**提示**：有时，返回笛卡儿积的联结，也称叉联结（cross join）。"
   ]
  },
  {
   "cell_type": "markdown",
   "metadata": {},
   "source": [
    "### 12.2.2 内联结\n",
    "&emsp;&emsp;目前为止使用的联结称为等值联结（equijoin），它基于两个表之间的相等测试。这种联结也称为内联结（inner join）。其实，可以对这种联结使用稍微不同的语法，明确指定联结的类型："
   ]
  },
  {
   "cell_type": "code",
   "execution_count": 4,
   "metadata": {},
   "outputs": [
    {
     "name": "stdout",
     "output_type": "stream",
     "text": [
      "         vend_name            prod_name  prod_price\n",
      "0       Bears R Us    8 inch teddy bear        5.99\n",
      "1       Bears R Us   12 inch teddy bear        8.99\n",
      "2       Bears R Us   18 inch teddy bear       11.99\n",
      "3  Doll House Inc.    Fish bean bag toy        3.49\n",
      "4  Doll House Inc.    Bird bean bag toy        3.49\n",
      "5  Doll House Inc.  Rabbit bean bag toy        3.49\n",
      "6  Doll House Inc.          Raggedy Ann        4.99\n",
      "7    Fun and Games            King doll        9.49\n",
      "8    Fun and Games           Queen doll        9.49\n"
     ]
    }
   ],
   "source": [
    "# 联结条件用特定的ON 子句而不是WHERE 子句\n",
    "query = '''\n",
    "SELECT vend_name, prod_name, prod_price\n",
    "FROM Vendors INNER JOIN Products\n",
    "        ON Vendors.vend_id = Products.vend_id;\n",
    "'''\n",
    "select_sql(query)"
   ]
  },
  {
   "cell_type": "markdown",
   "metadata": {},
   "source": [
    ">**说明**：ANSI SQL 规范首选INNER JOIN 语法，之前使用的是简单的等值语法。其实，SQL 语言纯正论者是用鄙视的眼光看待简单语法的。这就是说，DBMS 的确支持简单格式和标准格式，我建议你要理解这两种格式，具体使用就看你用哪个更顺手了。"
   ]
  },
  {
   "cell_type": "markdown",
   "metadata": {},
   "source": [
    "### 12.2.3 联结多个表\n",
    "&emsp;&emsp;SQL 不限制一条SELECT 语句中可以联结的表的数目。创建联结的基本规则也相同。首先列出所有表，然后定义表之间的关系："
   ]
  },
  {
   "cell_type": "code",
   "execution_count": 5,
   "metadata": {},
   "outputs": [
    {
     "name": "stdout",
     "output_type": "stream",
     "text": [
      "             prod_name        vend_name  prod_price  quantity\n",
      "0   18 inch teddy bear       Bears R Us       11.99        50\n",
      "1    Fish bean bag toy  Doll House Inc.        3.49       100\n",
      "2    Bird bean bag toy  Doll House Inc.        3.49       100\n",
      "3  Rabbit bean bag toy  Doll House Inc.        3.49       100\n",
      "4          Raggedy Ann  Doll House Inc.        4.99        50\n"
     ]
    }
   ],
   "source": [
    "query = '''\n",
    "SELECT prod_name, vend_name, prod_price, quantity\n",
    "FROM OrderItems, Products, Vendors\n",
    "WHERE Products.vend_id = Vendors.vend_id\n",
    "        AND OrderItems.prod_id = Products.prod_id\n",
    "        AND order_num = 20007;\n",
    "'''\n",
    "select_sql(query)"
   ]
  },
  {
   "cell_type": "markdown",
   "metadata": {},
   "source": [
    ">**注意**：DBMS 在运行时关联指定的每个表，以处理联结。这种处理可能非常耗费资源，因此应该注意，不要联结不必要的表。联结的表越多，性能下降越厉害。虽然SQL 本身不限制每个联结约束中表的数目，但实际上许多DBMS都有限制。请参阅具体的DBMS 文档以了解其限制。"
   ]
  },
  {
   "cell_type": "markdown",
   "metadata": {},
   "source": [
    "## 12.3 小结\n",
    "&emsp;&emsp;联结是SQL 中一个最重要、最强大的特性，有效地使用联结需要对关系数据库设计有基本的了解。本章学习了一些关系数据库设计的基本知识，包括等值联结（也称为内联结）这种最常用的联结。"
   ]
  },
  {
   "cell_type": "code",
   "execution_count": null,
   "metadata": {},
   "outputs": [],
   "source": []
  }
 ],
 "metadata": {
  "kernelspec": {
   "display_name": "Python 3",
   "language": "python",
   "name": "python3"
  },
  "language_info": {
   "codemirror_mode": {
    "name": "ipython",
    "version": 3
   },
   "file_extension": ".py",
   "mimetype": "text/x-python",
   "name": "python",
   "nbconvert_exporter": "python",
   "pygments_lexer": "ipython3",
   "version": "3.6.4"
  }
 },
 "nbformat": 4,
 "nbformat_minor": 2
}
