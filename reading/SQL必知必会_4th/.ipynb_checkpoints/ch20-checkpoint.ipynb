{
 "cells": [
  {
   "cell_type": "markdown",
   "metadata": {},
   "source": [
    "## 20.1 事物处理\n",
    "&emsp;&emsp;使用事务处理（transaction processing），通过确保成批的SQL 操作要么完全执行，要么完全不执行，来维护数据库的完整性。\n",
    "\n",
    "&emsp;&emsp;关系数据库把数据存储在多个表中，使数据更容易操纵、维护和重用。不用深究如何以及为什么进行关系数据库设计，在某种程度上说，设计良好的数据库模式都是关联的。\n",
    "\n",
    "&emsp;&emsp;在使用事务处理时，有几个反复出现的关键词。下面是关于事务处理需要知道的几个术语：\n",
    "- 事务（transaction）指一组SQL 语句；\n",
    "- 回退（rollback）指撤销指定SQL 语句的过程；\n",
    "- 提交（commit）指将未存储的SQL 语句结果写入数据库表；\n",
    "- 保留点（savepoint）指事务处理中设置的临时占位符（placeholder），可以对它发布回退（与回退整个事务处理不同）。\n",
    "\n",
    ">**提示**：事务处理用来管理INSERT、UPDATE 和DELETE 语句。不能回退SELECT语句（回退SELECT 语句也没有必要），也不能回退CREATE 或DROP 操作。事务处理中可以使用这些语句，但进行回退时，这些操作也不撤销。"
   ]
  },
  {
   "cell_type": "markdown",
   "metadata": {},
   "source": [
    "## 20.2 控制事物处理\n",
    "&emsp;&emsp;管理事务的关键在于将SQL 语句组分解为逻辑块，并明确规定数据何时应该回退，何时不应该回退。有的DBMS 要求明确标识事务处理块的开始和结束。如在SQL Server 中，标识如下：\n",
    "``` SQL\n",
    "BEGIN TRANSACTION\n",
    "...\n",
    "COMMIT TRANSACTION\n",
    "```\n",
    "\n",
    "&emsp;&emsp;MariaDB 和MySQL 中等同的代码为：\n",
    "``` SQL\n",
    "START TRANSACTION\n",
    "...\n",
    "```\n",
    "\n",
    "&emsp;&emsp;Oracle 使用的语法：\n",
    "``` SQL\n",
    "SET TRANSACTION\n",
    "...\n",
    "```\n",
    "\n",
    "&emsp;&emsp;PostgreSQL 使用ANSI SQL 语法：\n",
    "``` SQL\n",
    "BEGIN\n",
    "...\n",
    "```"
   ]
  },
  {
   "cell_type": "markdown",
   "metadata": {},
   "source": [
    "### 20.2.1 使用ROLLBACK\n",
    "&emsp;&emsp;SQL 的ROLLBACK 命令用来回退（撤销）SQL 语句：\n",
    "``` SQL\n",
    "DELETE FROM Orders;\n",
    "ROLLBACK;\n",
    "```"
   ]
  },
  {
   "cell_type": "markdown",
   "metadata": {},
   "source": [
    "### 20.2.2 使用COMMIT\n",
    "&emsp;&emsp;一般的SQL 语句都是针对数据库表直接执行和编写的。这就是所谓的隐式提交（implicit commit），即提交（写或保存）操作是自动进行的。在事务处理块中，提交不会隐式进行。不过，不同DBMS 的做法有所不同。有的DBMS 按隐式提交处理事务端，有的则不这样。进行明确的提交，使用COMMIT 语句。下面是一个SQL Server 的例子：\n",
    "``` SQL\n",
    "BEGIN TRANSACTION\n",
    "DELETE OrderItems WHERE order_num = 12345\n",
    "DELETE Orders WHERE order_num = 12345\n",
    "COMMIT TRANSACTION\n",
    "```"
   ]
  },
  {
   "cell_type": "markdown",
   "metadata": {},
   "source": [
    "### 20.2.3 使用保留点\n",
    "&emsp;&emsp;使用简单的ROLLBACK 和COMMIT 语句，就可以写入或撤销整个事务。但是，只对简单的事务才能这样做，复杂的事务可能需要部分提交或回退。要支持回退部分事务，必须在事务处理块中的合适位置放置占位符。这样，如果需要回退，可以回退到某个占位符。在SQL 中，这些占位符称为保留点。下面是一个SQL Server 的例子：\n",
    "``` SQL\n",
    "BEGIN TRANSACTION\n",
    "INSERT INTO Customers(cust_id, cust_name)\n",
    "VALUES('1000000010', 'Toys Emporium');\n",
    "SAVE TRANSACTION StartOrder;\n",
    "INSERT INTO Orders(order_num, order_date, cust_id)\n",
    "VALUES(20100,'2001/12/1','1000000010');\n",
    "IF @@ERROR <> 0 ROLLBACK TRANSACTION StartOrder;\n",
    "INSERT INTO OrderItems(order_num, order_item, prod_id, quantity, item_price)\n",
    "VALUES(20100, 1, 'BR01', 100, 5.49);\n",
    "IF @@ERROR <> 0 ROLLBACK TRANSACTION StartOrder;\n",
    "INSERT INTO OrderItems(order_num, order_item, prod_id, quantity, item_price)\n",
    "VALUES(20100, 2, 'BR03', 100, 10.99);\n",
    "IF @@ERROR <> 0 ROLLBACK TRANSACTION StartOrder;\n",
    "COMMIT TRANSACTION\n",
    "```\n",
    "\n",
    ">**提示**：可以在SQL 代码中设置任意多的保留点，越多越好。为什么呢？因为保留点越多，你就越能灵活地进行回退。"
   ]
  },
  {
   "cell_type": "markdown",
   "metadata": {},
   "source": [
    "## 20.3 小结\n",
    "&emsp;&emsp;本章介绍了事务是必须完整执行的SQL 语句块。我们学习了如何使用COMMIT 和ROLLBACK 语句对何时写数据、何时撤销进行明确的管理；还学习了如何使用保留点，更好地控制回退操作。事务处理是个相当重要的主题，一课内容无法全部涉及。各种DBMS 对事务处理的实现不同，详细内容请参考具体的DBMS 文档。"
   ]
  }
 ],
 "metadata": {
  "kernelspec": {
   "display_name": "Python 3",
   "language": "python",
   "name": "python3"
  },
  "language_info": {
   "codemirror_mode": {
    "name": "ipython",
    "version": 3
   },
   "file_extension": ".py",
   "mimetype": "text/x-python",
   "name": "python",
   "nbconvert_exporter": "python",
   "pygments_lexer": "ipython3",
   "version": "3.6.4"
  }
 },
 "nbformat": 4,
 "nbformat_minor": 2
}
