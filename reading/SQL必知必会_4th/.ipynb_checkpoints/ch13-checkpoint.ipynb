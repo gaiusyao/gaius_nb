{
 "cells": [
  {
   "cell_type": "markdown",
   "metadata": {},
   "source": [
    "## 13.1 使用表别名\n",
    "&emsp;&emsp;SQL 除了可以对列名和计算字段使用别名，还允许给表名起别名。"
   ]
  },
  {
   "cell_type": "code",
   "execution_count": 1,
   "metadata": {},
   "outputs": [],
   "source": [
    "import sqlite3 as sql \n",
    "import pandas as pd\n",
    "\n",
    "def select_sql(query):\n",
    "    conn = sql.connect('tysql.sqlite')\n",
    "    cur = conn.cursor()\n",
    "    df = pd.read_sql(query, con=conn)\n",
    "    cur.close()\n",
    "    conn.close()\n",
    "    print(df)"
   ]
  },
  {
   "cell_type": "code",
   "execution_count": 2,
   "metadata": {},
   "outputs": [
    {
     "name": "stdout",
     "output_type": "stream",
     "text": [
      "       cust_name        cust_contact\n",
      "0        Fun4All  Denise L. Stephens\n",
      "1  The Toy Store          Kim Howard\n"
     ]
    }
   ],
   "source": [
    "# 为3个表设置别名\n",
    "query = '''\n",
    "SELECT cust_name, cust_contact\n",
    "FROM Customers AS C, Orders AS O, OrderItems AS OI\n",
    "WHERE C.cust_id = O.cust_id\n",
    "        AND OI.order_num = O.order_num\n",
    "        AND prod_id = 'RGAN01';\n",
    "'''\n",
    "select_sql(query)"
   ]
  },
  {
   "cell_type": "markdown",
   "metadata": {},
   "source": [
    ">**注意**：Oracle 不支持AS 关键字。要在Oracle 中使用别名，可以不用AS，简单地指定列名即可（因此，应该是Customers C，而不是Customers AS C）。"
   ]
  },
  {
   "cell_type": "markdown",
   "metadata": {},
   "source": [
    "## 13.2 使用不同类型的联结\n",
    "&emsp;&emsp;迄今为止，我们使用的只是内联结或等值联结的简单联结。现在来看三种其他联结：自联结（self-join）、自然联结（natural join）和外联结（outer join）。"
   ]
  },
  {
   "cell_type": "markdown",
   "metadata": {},
   "source": [
    "### 13.2.1 自联结\n",
    "&emsp;&emsp;需要在一条SELECT 语句中不止一次引用相同的表，可以借助子查询，而另一种方法则是使用联结的相同查询："
   ]
  },
  {
   "cell_type": "code",
   "execution_count": 3,
   "metadata": {},
   "outputs": [
    {
     "name": "stdout",
     "output_type": "stream",
     "text": [
      "      cust_id cust_name        cust_contact\n",
      "0  1000000003   Fun4All           Jim Jones\n",
      "1  1000000004   Fun4All  Denise L. Stephens\n"
     ]
    }
   ],
   "source": [
    "# 使用子查询\n",
    "query = '''\n",
    "SELECT cust_id, cust_name, cust_contact\n",
    "FROM Customers\n",
    "WHERE cust_name = (SELECT cust_name\n",
    "                                        FROM Customers\n",
    "                                        WHERE cust_contact = 'Jim Jones');\n",
    "'''\n",
    "select_sql(query)"
   ]
  },
  {
   "cell_type": "code",
   "execution_count": 4,
   "metadata": {},
   "outputs": [
    {
     "name": "stdout",
     "output_type": "stream",
     "text": [
      "      cust_id cust_name        cust_contact\n",
      "0  1000000003   Fun4All           Jim Jones\n",
      "1  1000000004   Fun4All  Denise L. Stephens\n"
     ]
    }
   ],
   "source": [
    "# 使用联结的相同查询\n",
    "query = '''\n",
    "SELECT c1.cust_id, c1.cust_name, c1.cust_contact\n",
    "FROM Customers AS c1, Customers AS c2\n",
    "WHERE c1.cust_name = c2.cust_name\n",
    "        AND c2.cust_contact = 'Jim Jones';\n",
    "'''\n",
    "select_sql(query)"
   ]
  },
  {
   "cell_type": "markdown",
   "metadata": {},
   "source": [
    ">**提示**：自联结通常作为外部语句，用来替代从相同表中检索数据的使用子查询语句。虽然最终的结果是相同的，但许多DBMS 处理联结远比处理子查询快得多。应该试一下两种方法，以确定哪一种的性能更好。"
   ]
  },
  {
   "cell_type": "markdown",
   "metadata": {},
   "source": [
    "### 13.2.2 自然联结\n",
    "&emsp;&emsp;无论何时对表进行联结，应该至少有一列不止出现在一个表中（被联结列）。标准的联结（前一课中介绍的内联结）返回所有数据，相同的列甚至多次出现。自然联结排除多次出现，使每一列只返回一次。需要做到这点，自然联结要求我们只能选择那些唯一的列，一般通过对一个表使用通配符（SELECT *），而对其他表的列使用明确的子集来完成："
   ]
  },
  {
   "cell_type": "code",
   "execution_count": 5,
   "metadata": {},
   "outputs": [
    {
     "name": "stdout",
     "output_type": "stream",
     "text": [
      "      cust_id      cust_name         cust_address cust_city cust_state  \\\n",
      "0  1000000004        Fun4All  829 Riverside Drive   Phoenix         AZ   \n",
      "1  1000000005  The Toy Store     4545 53rd Street   Chicago         IL   \n",
      "\n",
      "  cust_zip cust_country        cust_contact             cust_email  order_num  \\\n",
      "0    88888          USA  Denise L. Stephens  dstephens@fun4all.com      20007   \n",
      "1    54545          USA          Kim Howard                   None      20008   \n",
      "\n",
      "   order_date prod_id  quantity  item_price  \n",
      "0  2012-01-30  RGAN01        50        4.49  \n",
      "1  2012-02-03  RGAN01         5        4.99  \n"
     ]
    }
   ],
   "source": [
    "# 使用联结的相同查询\n",
    "query = '''\n",
    "SELECT C.*, O.order_num, O.order_date,\n",
    "        OI.prod_id, OI.quantity, OI.item_price\n",
    "FROM Customers AS C, Orders AS O, OrderItems AS OI\n",
    "WHERE C.cust_id = O.cust_id\n",
    "        AND OI.order_num = O.order_num\n",
    "        AND prod_id = 'RGAN01';\n",
    "'''\n",
    "select_sql(query)"
   ]
  },
  {
   "cell_type": "markdown",
   "metadata": {},
   "source": [
    "### 13.2.3 外联结\n",
    "&emsp;&emsp;许多联结将一个表中的行与另一个表中的行相关联，但有时候需要包含没有关联行的那些行，这种联结包含了那些在相关表中没有关联行的行，被称为外联结："
   ]
  },
  {
   "cell_type": "code",
   "execution_count": 6,
   "metadata": {},
   "outputs": [
    {
     "name": "stdout",
     "output_type": "stream",
     "text": [
      "      cust_id  order_num\n",
      "0  1000000001      20005\n",
      "1  1000000003      20006\n",
      "2  1000000004      20007\n",
      "3  1000000005      20008\n",
      "4  1000000001      20009\n"
     ]
    }
   ],
   "source": [
    "# 一个简单的内联结，检索所有顾客及其订单\n",
    "query = '''\n",
    "SELECT Customers.cust_id, Orders.order_num\n",
    "FROM Customers INNER JOIN Orders\n",
    "        ON Customers.cust_id = Orders.cust_id;\n",
    "'''\n",
    "select_sql(query)"
   ]
  },
  {
   "cell_type": "code",
   "execution_count": 7,
   "metadata": {},
   "outputs": [
    {
     "name": "stdout",
     "output_type": "stream",
     "text": [
      "      cust_id  order_num\n",
      "0  1000000001    20005.0\n",
      "1  1000000001    20009.0\n",
      "2  1000000002        NaN\n",
      "3  1000000003    20006.0\n",
      "4  1000000004    20007.0\n",
      "5  1000000005    20008.0\n"
     ]
    }
   ],
   "source": [
    "# 使用外联结，检索包括没有订单顾客在内的所有顾客\n",
    "query = '''\n",
    "SELECT Customers.cust_id, Orders.order_num\n",
    "FROM Customers LEFT OUTER JOIN Orders\n",
    "        ON Customers.cust_id = Orders.cust_id;\n",
    "'''\n",
    "select_sql(query)"
   ]
  },
  {
   "cell_type": "markdown",
   "metadata": {},
   "source": [
    ">**注意**：SQLite 支持LEFT OUTER JOIN，但不支持RIGHT OUTER JOIN，也不支持FULL\n",
    "OUTER JOIN。\n",
    "\n",
    ">**提示**：要记住，总是有两种基本的外联结形式：左外联结和右外联结。它们之间的唯一差别是所关联的表的顺序。换句话说，调整FROM 或WHERE子句中表的顺序，左外联结可以转换为右外联结。因此，这两种外联结可以互换使用，哪个方便就用哪个。"
   ]
  },
  {
   "cell_type": "markdown",
   "metadata": {},
   "source": [
    "## 13.3 使用带聚集函数的联结"
   ]
  },
  {
   "cell_type": "code",
   "execution_count": 8,
   "metadata": {},
   "outputs": [
    {
     "name": "stdout",
     "output_type": "stream",
     "text": [
      "      cust_id  num_ord\n",
      "0  1000000001        2\n",
      "1  1000000003        1\n",
      "2  1000000004        1\n",
      "3  1000000005        1\n"
     ]
    }
   ],
   "source": [
    "# 使用COUNT()函数，检索所有顾客及每个顾客所下的订单数\n",
    "query = '''\n",
    "SELECT Customers.cust_id,\n",
    "        COUNT(Orders.order_num) AS num_ord\n",
    "FROM Customers INNER JOIN Orders\n",
    "        ON Customers.cust_id = Orders.cust_id\n",
    "GROUP BY Customers.cust_id;\n",
    "'''\n",
    "select_sql(query)"
   ]
  },
  {
   "cell_type": "markdown",
   "metadata": {},
   "source": [
    "## 13.4 使用联结和联结条件\n",
    "&emsp;&emsp;联结及其使用的要点：\n",
    "- 注意所使用的联结类型。一般我们使用内联结，但使用外联结也有效；\n",
    "- 关于确切的联结语法，应该查看具体的文档，看相应的DBMS 支持何种语法（大多数DBMS 使用这两课中描述的某种语法）；\n",
    "- 保证使用正确的联结条件（不管采用哪种语法），否则会返回不正确的数据；\n",
    "- 应该总是提供联结条件，否则会得出笛卡儿积；\n",
    "- 在一个联结中可以包含多个表，甚至可以对每个联结采用不同的联结类型。虽然这样做是合法的，一般也很有用，但应该在一起测试它们前分别测试每个联结。这会使故障排除更为简单。"
   ]
  },
  {
   "cell_type": "markdown",
   "metadata": {},
   "source": [
    "## 13.5 小结\n",
    "&emsp;&emsp;本章学习了如何以及为什么使用别名，然后讨论不同的联结类型以及每类联结所使用的语法。我们还介绍了如何与联结一起使用聚集函数，以及在使用联结时应该注意的问题。"
   ]
  }
 ],
 "metadata": {
  "kernelspec": {
   "display_name": "Python 3",
   "language": "python",
   "name": "python3"
  },
  "language_info": {
   "codemirror_mode": {
    "name": "ipython",
    "version": 3
   },
   "file_extension": ".py",
   "mimetype": "text/x-python",
   "name": "python",
   "nbconvert_exporter": "python",
   "pygments_lexer": "ipython3",
   "version": "3.6.4"
  }
 },
 "nbformat": 4,
 "nbformat_minor": 2
}
