{
 "cells": [
  {
   "cell_type": "markdown",
   "metadata": {},
   "source": [
    "## 4.1 使用WHERE子句\n",
    "&emsp;&emsp;数据库表一般包含大量的数据，很少需要检索表中的所有行。通常只会根据特定操作或报告的需要提取表数据的子集。只检索所需数据需要指定*搜索条件（search criteria）*，搜索条件也称为*过滤条件（filter condition）*。这就需要使用**WHERE 子句**对指定的搜索条件进行过滤。"
   ]
  },
  {
   "cell_type": "code",
   "execution_count": 1,
   "metadata": {},
   "outputs": [],
   "source": [
    "import sqlite3 as sql \n",
    "import pandas as pd\n",
    "\n",
    "def select_sql(query):\n",
    "    conn = sql.connect('tysql.sqlite')\n",
    "    cur = conn.cursor()\n",
    "    df = pd.read_sql(query,con=conn)\n",
    "    cur.close()\n",
    "    conn.close()\n",
    "    print(df)"
   ]
  },
  {
   "cell_type": "code",
   "execution_count": 2,
   "metadata": {},
   "outputs": [
    {
     "name": "stdout",
     "output_type": "stream",
     "text": [
      "             prod_name  prod_price\n",
      "0    Fish bean bag toy        3.49\n",
      "1    Bird bean bag toy        3.49\n",
      "2  Rabbit bean bag toy        3.49\n"
     ]
    }
   ],
   "source": [
    "# 从Products 表中检索prod_name, prod_price列，只返回prod_price 值为3.49 的行\n",
    "query = '''\n",
    "SELECT prod_name, prod_price\n",
    "FROM Products\n",
    "WHERE prod_price = 3.49;\n",
    "'''\n",
    "select_sql(query)"
   ]
  },
  {
   "cell_type": "markdown",
   "metadata": {},
   "source": [
    ">**注意**：WHERE 子句应位于FROM 子句之后，ORDER BY 子句之前。\n",
    "\n",
    ">**提示**：数据也可以在应用层过滤。但通常这种做法极其不妥。优化数据库后可以更快速有效地对数据进行过滤。而让客户端应用（或开发语言）处理数据库的工作将会极大地影响应用的性能，并且使所创建的应用完全不具备可伸缩性。此外，如果在客户端过滤数据，服务器不得不通过网络发送多余的数据，这将导致网络带宽的浪费。"
   ]
  },
  {
   "cell_type": "markdown",
   "metadata": {},
   "source": [
    "## 4.2 WHERE 子句操作符\n",
    "操作符 | 说明 \n",
    "----|----\n",
    " = | 等于\n",
    " <> | 不等于\n",
    " != | 不等于\n",
    " < | 小于\n",
    " <= | 小于等于\n",
    " !< | 不小于\n",
    " > | 大于\n",
    " >= | 大于等于\n",
    " !> | 不大于\n",
    " BETWEEN | 在指定的两个值之间\n",
    " IS NULL | 为NULL值\n",
    " \n",
    " >**注意**：上表中的某些操作符是冗余的（如`< >`与`!=`相同，`!<`相当于`>=`）。并非所有DBMS 都支持这些操作符。想确定你的DBMS 支持哪些操作符，请参阅相应的文档。"
   ]
  },
  {
   "cell_type": "markdown",
   "metadata": {},
   "source": [
    " ### 4.2.1 检查单个值"
   ]
  },
  {
   "cell_type": "code",
   "execution_count": 3,
   "metadata": {},
   "outputs": [
    {
     "name": "stdout",
     "output_type": "stream",
     "text": [
      "             prod_name  prod_price\n",
      "0    8 inch teddy bear        5.99\n",
      "1   12 inch teddy bear        8.99\n",
      "2    Fish bean bag toy        3.49\n",
      "3    Bird bean bag toy        3.49\n",
      "4  Rabbit bean bag toy        3.49\n",
      "5          Raggedy Ann        4.99\n",
      "6            King doll        9.49\n",
      "7           Queen doll        9.49\n"
     ]
    }
   ],
   "source": [
    "# 从Products 表中检索prod_name, prod_price列，只返回prod_price 值小于10 的行\n",
    "query = '''\n",
    "SELECT prod_name, prod_price\n",
    "FROM Products\n",
    "WHERE prod_price < 10;\n",
    "'''\n",
    "select_sql(query)"
   ]
  },
  {
   "cell_type": "markdown",
   "metadata": {},
   "source": [
    "### 4.2.2 不匹配检查"
   ]
  },
  {
   "cell_type": "code",
   "execution_count": 4,
   "metadata": {},
   "outputs": [
    {
     "name": "stdout",
     "output_type": "stream",
     "text": [
      "  vend_id           prod_name\n",
      "0   BRS01   8 inch teddy bear\n",
      "1   BRS01  12 inch teddy bear\n",
      "2   BRS01  18 inch teddy bear\n",
      "3   FNG01           King doll\n",
      "4   FNG01          Queen doll\n"
     ]
    }
   ],
   "source": [
    "# 从Products 表中检索vend_id, prod_name列，只返回vend_id 不为 ‘DLL01’ 的行\n",
    "query = '''\n",
    "SELECT vend_id, prod_name\n",
    "FROM Products\n",
    "WHERE vend_id <> 'DLL01';\n",
    "'''\n",
    "select_sql(query)"
   ]
  },
  {
   "cell_type": "markdown",
   "metadata": {},
   "source": [
    "### 4.2.3 范围值检查"
   ]
  },
  {
   "cell_type": "code",
   "execution_count": 5,
   "metadata": {},
   "outputs": [
    {
     "name": "stdout",
     "output_type": "stream",
     "text": [
      "            prod_name  prod_price\n",
      "0   8 inch teddy bear        5.99\n",
      "1  12 inch teddy bear        8.99\n",
      "2           King doll        9.49\n",
      "3          Queen doll        9.49\n"
     ]
    }
   ],
   "source": [
    "# 从Products 表中检索prod_name, prod_price列，只返回prod_price 值在5 和10之间的行\n",
    "query = '''\n",
    "SELECT prod_name, prod_price\n",
    "FROM Products\n",
    "WHERE prod_price BETWEEN 5 AND 10;\n",
    "'''\n",
    "select_sql(query)"
   ]
  },
  {
   "cell_type": "markdown",
   "metadata": {},
   "source": [
    "## 4.3 小结\n",
    "&emsp;&emsp;本章学习了如何用SELECT 语句的WHERE 子句过滤返回的数据。"
   ]
  }
 ],
 "metadata": {
  "kernelspec": {
   "display_name": "Python 3",
   "language": "python",
   "name": "python3"
  },
  "language_info": {
   "codemirror_mode": {
    "name": "ipython",
    "version": 3
   },
   "file_extension": ".py",
   "mimetype": "text/x-python",
   "name": "python",
   "nbconvert_exporter": "python",
   "pygments_lexer": "ipython3",
   "version": "3.6.4"
  }
 },
 "nbformat": 4,
 "nbformat_minor": 2
}
