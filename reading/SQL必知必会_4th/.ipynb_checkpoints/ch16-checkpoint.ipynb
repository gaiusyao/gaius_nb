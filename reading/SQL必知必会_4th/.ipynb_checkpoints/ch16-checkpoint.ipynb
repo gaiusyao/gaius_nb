{
 "cells": [
  {
   "cell_type": "markdown",
   "metadata": {},
   "source": [
    "## 16.1 更新数据\n",
    "&emsp;&emsp;更新（修改）表中的数据，可以使用UPDATE 语句。有两种使用UPDATE的方式：\n",
    "- 更新表中的特定行；\n",
    "- 更新表中的所有行。\n",
    "\n",
    ">**注意**：在使用UPDATE 时一定要细心。因为稍不注意，就会更新表中的所有行。\n",
    "\n",
    ">**提示**：在客户端/服务器的DBMS 中，使用UPDATE 语句可能需要特殊的安全权限。在你使用UPDATE 前，应该保证自己有足够的安全权限。\n",
    "\n",
    "&emsp;&emsp;基本的UPDATE 语句由三部分组成，分别是：\n",
    "- 要更新的表；\n",
    "- 列名和它们的新值；\n",
    "- 确定要更新哪些行的过滤条件。"
   ]
  },
  {
   "cell_type": "code",
   "execution_count": 1,
   "metadata": {},
   "outputs": [],
   "source": [
    "import sqlite3 as sql \n",
    "import pandas as pd\n",
    "\n",
    "def insert_sql(insert):\n",
    "    conn = sql.connect('tysql.sqlite')\n",
    "    cur = conn.cursor()\n",
    "    cur.execute(insert);\n",
    "    cur.close()\n",
    "    conn.commit()\n",
    "    conn.close()\n",
    "    print('Done!')"
   ]
  },
  {
   "cell_type": "code",
   "execution_count": 2,
   "metadata": {},
   "outputs": [
    {
     "name": "stdout",
     "output_type": "stream",
     "text": [
      "Done!\n"
     ]
    }
   ],
   "source": [
    "# 更新客户1000000005 电子邮件地址\n",
    "insert = '''\n",
    "UPDATE Customers\n",
    "SET cust_email = 'kim@thetoystore.com'\n",
    "WHERE cust_id = '1000000005';\n",
    "'''\n",
    "insert_sql(insert)"
   ]
  },
  {
   "cell_type": "code",
   "execution_count": 3,
   "metadata": {},
   "outputs": [
    {
     "name": "stdout",
     "output_type": "stream",
     "text": [
      "Done!\n"
     ]
    }
   ],
   "source": [
    "# 更新多个列\n",
    "insert = '''\n",
    "UPDATE Customers\n",
    "SET cust_contact = 'Sam Roberts',\n",
    "        cust_email = 'sam@toyland.com'\n",
    "WHERE cust_id = '1000000006';\n",
    "'''\n",
    "insert_sql(insert)"
   ]
  },
  {
   "cell_type": "markdown",
   "metadata": {},
   "source": [
    ">**提示**：UPDATE 语句中可以使用子查询，使得能用SELECT 语句检索出的数据更新列数据。\n",
    "\n",
    ">**说明**：有的SQL 实现支持在UPDATE 语句中使用FROM 子句，用一个表的数据更新另一个表的行。如想知道你的DBMS 是否支持这个特性，请参阅它的文档。"
   ]
  },
  {
   "cell_type": "code",
   "execution_count": 4,
   "metadata": {},
   "outputs": [
    {
     "name": "stdout",
     "output_type": "stream",
     "text": [
      "Done!\n"
     ]
    }
   ],
   "source": [
    "# 设置某个列的值为NULL（假如表定义允许NULL 值）\n",
    "insert = '''\n",
    "UPDATE Customers\n",
    "SET cust_email = NULL\n",
    "WHERE cust_id = '1000000005';\n",
    "'''\n",
    "insert_sql(insert)"
   ]
  },
  {
   "cell_type": "markdown",
   "metadata": {},
   "source": [
    "## 16.2 删除数据\n",
    "&emsp;&emsp;从一个表中删除（去掉）数据，使用DELETE 语句。有两种使用DELETE的方式：\n",
    "- 从表中删除特定的行；\n",
    "- 从表中删除所有行。\n",
    "\n",
    ">**注意**：在使用DELETE 时一定要细心。因为稍不注意，就会错误地删除表中所有行。\n",
    "\n",
    ">**提示**：在客户端/服务器的DBMS 中，使用DELETE 语句可能需要特殊的安全权限。在你使用DELETE 前，应该保证自己有足够的安全权限。"
   ]
  },
  {
   "cell_type": "code",
   "execution_count": 5,
   "metadata": {},
   "outputs": [],
   "source": [
    "# 构造DELETE 函数\n",
    "def del_sql(delete):\n",
    "    conn = sql.connect('tysql.sqlite')\n",
    "    cur = conn.cursor()\n",
    "    cur.execute(delete);\n",
    "    cur.close()\n",
    "    conn.commit()\n",
    "    conn.close()\n",
    "    print('Delete Succeeded!')"
   ]
  },
  {
   "cell_type": "code",
   "execution_count": 7,
   "metadata": {},
   "outputs": [
    {
     "name": "stdout",
     "output_type": "stream",
     "text": [
      "Delete Succeeded!\n"
     ]
    }
   ],
   "source": [
    "# 设置某个列的值为NULL（假如表定义允许NULL 值）\n",
    "delete = '''\n",
    "DELETE FROM Customers\n",
    "WHERE cust_id = '1000000006';\n",
    "'''\n",
    "del_sql(insert)"
   ]
  },
  {
   "cell_type": "markdown",
   "metadata": {},
   "source": [
    ">**提示**：在某些SQL 实现中，跟在DELETE 后的关键字FROM 是可选的。但是即使不需要，也最好提供这个关键字。这样做将保证SQL代码在DBMS之间可移植。\n",
    "\n",
    ">**说明**：DELETE 语句从表中删除行，甚至是删除表中所有行。但是，DELETE不删除表本身。\n",
    "\n",
    ">**提示**：如果想从表中删除所有行，不要使用DELETE。可使用TRUNCATE TABLE语句，它完成相同的工作，而速度更快（因为不记录数据的变动）。"
   ]
  },
  {
   "cell_type": "markdown",
   "metadata": {},
   "source": [
    "## 16.3 更新和删除的指导原则\n",
    "&emsp;&emsp;使用UPDATE 或DELETE 时所遵循的重要原则：\n",
    "- 除非确实打算更新和删除每一行，否则绝对不要使用不带WHERE 子句的UPDATE 或DELETE 语句；\n",
    "- 保证每个表都有主键，尽可能像WHERE 子句那样使用它（可以指定各主键、多个值或值的范围）；\n",
    "- 在UPDATE 或DELETE 语句使用WHERE 子句前，应该先用SELECT 进行测试，保证它过滤的是正确的记录，以防编写的WHERE 子句不正确；\n",
    "- 使用强制实施引用完整性的数据库，这样DBMS 将不允许删除其数据与其他表相关联的行；\n",
    "- 有的DBMS 允许数据库管理员施加约束，防止执行不带WHERE 子句的UPDATE 或DELETE 语句。如果所采用的DBMS 支持这个特性，应该使用它。"
   ]
  },
  {
   "cell_type": "markdown",
   "metadata": {},
   "source": [
    "## 16.4 小结\n",
    "&emsp;&emsp;本章学习了如何使用UPDATE 和DELETE 语句处理表中的数据。"
   ]
  },
  {
   "cell_type": "code",
   "execution_count": null,
   "metadata": {},
   "outputs": [],
   "source": []
  }
 ],
 "metadata": {
  "kernelspec": {
   "display_name": "Python 3",
   "language": "python",
   "name": "python3"
  },
  "language_info": {
   "codemirror_mode": {
    "name": "ipython",
    "version": 3
   },
   "file_extension": ".py",
   "mimetype": "text/x-python",
   "name": "python",
   "nbconvert_exporter": "python",
   "pygments_lexer": "ipython3",
   "version": "3.6.4"
  }
 },
 "nbformat": 4,
 "nbformat_minor": 2
}
