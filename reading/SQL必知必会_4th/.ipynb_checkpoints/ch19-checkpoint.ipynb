{
 "cells": [
  {
   "cell_type": "markdown",
   "metadata": {},
   "source": [
    "## 19.1 存储过程\n",
    "&emsp;&emsp;迄今为止，我们使用的大多数SQL 语句都是针对一个或多个表的单条语句。并非所有操作都这么简单，经常会有一些复杂的操作需要多条语句才能完成，例如以下的情形：\n",
    "- 为了处理订单，必须核对以保证库存中有相应的物品；\n",
    "- 如果物品有库存，需要预定，不再出售给别的人，并且减少物品数据以反映正确的库存量；\n",
    "- 库存中没有的物品需要订购，这需要与供应商进行某种交互；\n",
    "- 关于哪些物品入库（并且可以立即发货）和哪些物品退订，需要通知相应的顾客。\n",
    "\n",
    "&emsp;&emsp;可以创建存储过程来处理这些工作。简单来说，存储过程就是为以后使用而保存的一条或多条SQL 语句。可将其视为批文件，虽然它们的作用不仅限于批处理。\n",
    "\n",
    ">**说明**：Microsoft Access 和SQLite 不支持存储过程。因此，本课的内容不适用它们。MySQL 5 已经支持存储过程。因此，本课的内容不适用MySQL 较早的版本。存储过程很复杂，全面介绍它需要很大篇幅。本课不打算讲解存储过程的所有内容，只给出简单介绍，让读者对它们的功能有所了解。因此，这里给出的例子只提供Oracle 和SQL Server 的语法。"
   ]
  },
  {
   "cell_type": "markdown",
   "metadata": {},
   "source": [
    "## 19.2 为什么要使用存储过程\n",
    "&emsp;&emsp;我们知道了什么是存储过程，那么为什么要使用它们呢？理由很多，下面列出一些主要的：\n",
    "- 通过把处理封装在一个易用的单元中，可以简化复杂的操作（如前面例子所述）；\n",
    "- 由于不要求反复建立一系列处理步骤，因而保证了数据的一致性。如果所有开发人员和应用程序都使用同一存储过程，则所使用的代码都是相同的（这一点的延伸就是防止错误）；\n",
    "- 简化对变动的管理。如果表名、列名或业务逻辑（或别的内容）有变化，那么只需要更改存储过程的代码。使用它的人员甚至不需要知道这些变化（这一点的延伸就是安全性）；\n",
    "- 因为存储过程通常以编译过的形式存储，所以DBMS 处理命令所需的工作量少，提高了性能；\n",
    "- 存在一些只能用在单个请求中的SQL 元素和特性，存储过程可以使用它们来编写功能更强更灵活的代码。\n",
    "\n",
    "&emsp;&emsp;换句话说，使用存储过程有三个主要的好处，即**简单、安全、高性能**。不过，在将SQL 代码转换为存储过程前，也必须知道它的一些缺陷：\n",
    "- 不同DBMS 中的存储过程语法有所不同。事实上，编写真正的可移植存储过程几乎是不可能的。不过，存储过程的自我调用（名字以及数据如何传递）可以相对保持可移植。因此，如果需要移植到别的DBMS，至少客户端应用代码不需要变动；\n",
    "- 一般来说，编写存储过程比编写基本SQL 语句复杂，需要更高的技能，更丰富的经验。因此，许多数据库管理员把限制存储过程的创建作为安全措施（主要受上一条缺陷的影响）。\n",
    "\n",
    ">**说明**：大多数DBMS 将编写存储过程所需的安全和访问权限与执行存储过程所需的安全和访问权限区分开来。这是好事情，即使你不能（或不想）编写自己的存储过程，也仍然可以在适当的时候执行别的存储过程。"
   ]
  },
  {
   "cell_type": "markdown",
   "metadata": {},
   "source": [
    "## 19.3 执行存储过程\n",
    "&emsp;&emsp;存储过程的执行远比编写要频繁得多，因此我们先介绍存储过程的执行。执行存储过程的SQL 语句很简单，即EXECUTE。EXECUTE 接受存储过程名和需要传递给它的任何参数：\n",
    "\n",
    "``` SQL\n",
    "EXECUTE AddNewProduct( 'JTS01',\n",
    "        'Stuffed Eiffel Tower',\n",
    "        6.49,\n",
    "        'Plush stuffed toy with the text La Tour Eiffel in red white and blue' );\n",
    "```\n",
    "\n",
    "&emsp;&emsp;这里执行一个名为AddNewProduct 的存储过程，将一个新产品添加到Products 表中。AddNewProduct 有四个参数，分别是：供应商ID（Vendors 表的主键）、产品名、价格和描述。这4 个参数匹配存储过程中4 个预期变量（定义为存储过程自身的组成部分）。此存储过程将新行添加到Products 表，并将传入的属性赋给相应的列。以下是存储过程所完成的工作：\n",
    "- 验证传递的数据，保证所有4 个参数都有值；\n",
    "- 生成用作主键的唯一ID；\n",
    "- 将新产品插入Products 表，在合适的列中存储生成的主键和传递的数据。\n",
    "\n",
    ">**提示**：在Products 表中还有另一个需要值的列prod_id 列，它是这个表的主键。为什么这个值不作为属性传递给存储过程？要保证恰当地生成此ID，最好是使生成此ID 的过程自动化（而不是依赖于最终用户的输入）。这也是这个例子使用存储过程的原因。\n",
    "\n",
    "&emsp;&emsp;这就是存储过程执行的基本形式。对于具体的DBMS，可能包括以下的执行选择：\n",
    "- 参数可选，具有不提供参数时的默认值；\n",
    "- 不按次序给出参数，以“参数=值”的方式给出参数值；\n",
    "- 输出参数，允许存储过程在正执行的应用程序中更新所用的参数；\n",
    "- 用SELECT 语句检索数据；\n",
    "- 返回代码，允许存储过程返回一个值到正在执行的应用程序。"
   ]
  },
  {
   "cell_type": "markdown",
   "metadata": {},
   "source": [
    "## 19.4 创建存储过程\n",
    "&emsp;&emsp;正如所述，存储过程的编写很重要。为了获得感性认识，我们来看一个简\n",
    "单的存储过程例子，它对邮件发送清单中具有邮件地址的顾客进行计数。下面是该过程的Oracle 版本：\n",
    "``` SQL\n",
    "CREATE PROCEDURE MailingListCount (\n",
    "        ListCount OUT INTEGER\n",
    ")\n",
    "IS\n",
    "v_rows INTEGER;\n",
    "BEGIN\n",
    "        SELECT COUNT(*) INTO v_rows\n",
    "        FROM Customers\n",
    "        WHERE NOT cust_email IS NULL;\n",
    "        ListCount := v_rows;\n",
    "END;\n",
    "```\n",
    "\n",
    "&emsp;&emsp;调用Oracle 例子可以像下面这样：\n",
    "``` SQL\n",
    "var ReturnValue NUMBER\n",
    "EXEC MailingListCount(:ReturnValue);\n",
    "SELECT ReturnValue;\n",
    "```\n",
    "\n",
    "&emsp;&emsp;下面是该过程的SQL Server 版本：\n",
    "``` SQL\n",
    "CREATE PROCEDURE MailingListCount\n",
    "AS\n",
    "DECLARE @cnt INTEGER\n",
    "SELECT @cnt = COUNT(*)\n",
    "FROM Customers\n",
    "WHERE NOT cust_email IS NULL;\n",
    "RETURN @cnt;\n",
    "```\n",
    "\n",
    "&emsp;&emsp;调用SQL Server 例子可以像下面这样：\n",
    "``` SQL\n",
    "DECLARE @ReturnValue INT\n",
    "EXECUTE @ReturnValue=MailingListCount;\n",
    "SELECT @ReturnValue;\n",
    "```\n",
    "\n",
    "&emsp;&emsp;在Orders 表中插入一个新订单。此程序仅适用于SQL Server，但它说明了存储过程的某些用途和技术：\n",
    "``` SQL\n",
    "CREATE PROCEDURE NewOrder @cust_id CHAR(10)\n",
    "AS\n",
    "-- Declare variable for order number\n",
    "DECLARE @order_num INTEGER\n",
    "-- Get current highest order number\n",
    "SELECT @order_num=MAX(order_num)\n",
    "FROM Orders\n",
    "-- Determine next order number\n",
    "SELECT @order_num=@order_num+1\n",
    "-- Insert new order\n",
    "INSERT INTO Orders(order_num, order_date, cust_id)\n",
    "VALUES(@order_num, GETDATE(), @cust_id)\n",
    "-- Return order number\n",
    "RETURN @order_num;\n",
    "```\n",
    "\n",
    ">**说明**：应该注释所有代码，存储过程也不例外。增加注释不影响性能，因此不存在缺陷（除了增加编写时间外）。注释代码的好处很多，包括使别人（以及你自己）更容易地理解和更安全地修改代码。对代码进行注释的标准方式是在之前放置--（两个连字符）。有的DBMS 还支持其他的注释语法，不过所有DBMS 都支持--，因此在注释代码时最好都使用这种语法。"
   ]
  },
  {
   "cell_type": "markdown",
   "metadata": {},
   "source": [
    "## 19.5 小结\n",
    "&emsp;&emsp;本章学习了什么是存储过程，为什么使用存储过程。我们介绍了执行和创建存储过程的语法，使用存储过程的一些方法。存储过程是个相当重要的主题，一课内容无法全部涉及。各种DBMS 对存储过程的实现不一，你使用的DBMS 可能提供了一些这里提到的功能，也有其他未提及的功能，更详细的介绍请参阅具体的DBMS 文档。"
   ]
  },
  {
   "cell_type": "code",
   "execution_count": null,
   "metadata": {},
   "outputs": [],
   "source": []
  }
 ],
 "metadata": {
  "kernelspec": {
   "display_name": "Python 3",
   "language": "python",
   "name": "python3"
  },
  "language_info": {
   "codemirror_mode": {
    "name": "ipython",
    "version": 3
   },
   "file_extension": ".py",
   "mimetype": "text/x-python",
   "name": "python",
   "nbconvert_exporter": "python",
   "pygments_lexer": "ipython3",
   "version": "3.6.4"
  }
 },
 "nbformat": 4,
 "nbformat_minor": 2
}
