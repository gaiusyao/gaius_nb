{
 "cells": [
  {
   "cell_type": "markdown",
   "metadata": {},
   "source": [
    "## 5.1 组合WHERE子句\n",
    "&emsp;&emsp;为了进行更强的过滤控制，SQL 允许给出多个WHERE 子句。这些子句有两种使用方式，即以**AND 子句**或**OR 子句**的方式使用。\n",
    "\n",
    ">**操作符（operator）**：用来联结或改变WHERE 子句中的子句的关键字，也称为逻辑操作符（logical operator）。"
   ]
  },
  {
   "cell_type": "markdown",
   "metadata": {},
   "source": [
    "### 5.1.1 AND操作符\n",
    "&emsp;&emsp;要通过不止一个列进行过滤，可以使用AND 操作符给WHERE 子句附加条件："
   ]
  },
  {
   "cell_type": "code",
   "execution_count": 1,
   "metadata": {},
   "outputs": [],
   "source": [
    "import sqlite3 as sql \n",
    "import pandas as pd\n",
    "\n",
    "def select_sql(query):\n",
    "    conn = sql.connect('tysql.sqlite')\n",
    "    cur = conn.cursor()\n",
    "    df = pd.read_sql(query,con=conn)\n",
    "    cur.close()\n",
    "    conn.close()\n",
    "    print(df)"
   ]
  },
  {
   "cell_type": "code",
   "execution_count": 2,
   "metadata": {},
   "outputs": [
    {
     "name": "stdout",
     "output_type": "stream",
     "text": [
      "  prod_id  prod_price            prod_name\n",
      "0  BNBG01        3.49    Fish bean bag toy\n",
      "1  BNBG02        3.49    Bird bean bag toy\n",
      "2  BNBG03        3.49  Rabbit bean bag toy\n"
     ]
    }
   ],
   "source": [
    "# 从Products 表中检索3个列\n",
    "#只返回vend_id 为'DLL01' 且prod_price 值小于等于 的行\n",
    "query = '''\n",
    "SELECT prod_id, prod_price, prod_name\n",
    "FROM Products\n",
    "WHERE vend_id = 'DLL01' AND prod_price <= 4;\n",
    "'''\n",
    "select_sql(query)"
   ]
  },
  {
   "cell_type": "markdown",
   "metadata": {},
   "source": [
    "> **AND**：用在WHERE 子句中的关键字，用来指示检索满足所有给定条件的行。"
   ]
  },
  {
   "cell_type": "markdown",
   "metadata": {},
   "source": [
    "### 5.1.2 OR操作符\n",
    "&emsp;&emsp;OR 操作符与AND 操作符正好相反，它指示DBMS 检索匹配任一条件的行。事实上，许多DBMS 在OR WHERE 子句的第一个条件得到满足的情况下，就不再计算第二个条件了（在第一个条件满足时，不管第二个条件是否满足，相应的行都将被检索出来）:"
   ]
  },
  {
   "cell_type": "code",
   "execution_count": 4,
   "metadata": {},
   "outputs": [
    {
     "name": "stdout",
     "output_type": "stream",
     "text": [
      "             prod_name  prod_price\n",
      "0    8 inch teddy bear        5.99\n",
      "1   12 inch teddy bear        8.99\n",
      "2   18 inch teddy bear       11.99\n",
      "3    Fish bean bag toy        3.49\n",
      "4    Bird bean bag toy        3.49\n",
      "5  Rabbit bean bag toy        3.49\n",
      "6          Raggedy Ann        4.99\n"
     ]
    }
   ],
   "source": [
    "# 从Products 表中检索prod_name, prod_price列\n",
    "#只返回vend_id 为'DLL01' 或vend_id 为'BRS01'  的行\n",
    "query = '''\n",
    "SELECT prod_name, prod_price\n",
    "FROM Products\n",
    "WHERE vend_id = 'DLL01' OR vend_id = 'BRS01';\n",
    "'''\n",
    "select_sql(query)"
   ]
  },
  {
   "cell_type": "markdown",
   "metadata": {},
   "source": [
    ">**OR**：WHERE 子句中使用的关键字，用来表示检索匹配任一给定条件的行。"
   ]
  },
  {
   "cell_type": "markdown",
   "metadata": {},
   "source": [
    "### 5.1.3 求值顺序\n",
    "&emsp;&emsp;WHERE 子句可以包含任意数目的AND 和OR 操作符。允许两者**结合**以进行复杂、高级的过滤。但由于AND 操作符的优先级高于OR 操作符，为避免不必要的错误，在两者同时使用的时候，需要使用圆括号（优先级高于AND 操作符）将OR 操作符两侧的条件括起来："
   ]
  },
  {
   "cell_type": "code",
   "execution_count": 5,
   "metadata": {},
   "outputs": [
    {
     "name": "stdout",
     "output_type": "stream",
     "text": [
      "             prod_name  prod_price\n",
      "0    8 inch teddy bear        5.99\n",
      "1   12 inch teddy bear        8.99\n",
      "2   18 inch teddy bear       11.99\n",
      "3    Fish bean bag toy        3.49\n",
      "4    Bird bean bag toy        3.49\n",
      "5  Rabbit bean bag toy        3.49\n",
      "6          Raggedy Ann        4.99\n"
     ]
    }
   ],
   "source": [
    "# 从Products 表中检索prod_name, prod_price列\n",
    "#只返回vend_id 为'DLL01' 或vend_id 为'BRS01'  ，且prod_price 值大于等于10的行\n",
    "query = '''\n",
    "SELECT prod_name, prod_price\n",
    "FROM Products\n",
    "WHERE vend_id = 'DLL01' OR vend_id = 'BRS01';\n",
    "'''\n",
    "select_sql(query)"
   ]
  },
  {
   "cell_type": "markdown",
   "metadata": {},
   "source": [
    "## 5.2 IN操作符\n",
    "&emsp;&emsp;**IN 操作符**用来指定条件范围，范围中的每个条件都可以进行匹配。IN 取一组由逗号分隔、括在圆括号中的合法值："
   ]
  },
  {
   "cell_type": "code",
   "execution_count": 6,
   "metadata": {},
   "outputs": [
    {
     "name": "stdout",
     "output_type": "stream",
     "text": [
      "             prod_name  prod_price\n",
      "0   12 inch teddy bear        8.99\n",
      "1   18 inch teddy bear       11.99\n",
      "2    8 inch teddy bear        5.99\n",
      "3    Bird bean bag toy        3.49\n",
      "4    Fish bean bag toy        3.49\n",
      "5  Rabbit bean bag toy        3.49\n",
      "6          Raggedy Ann        4.99\n"
     ]
    }
   ],
   "source": [
    "# 从Products 表中检索prod_name, prod_price列\n",
    "#只返回vend_id 为'DLL01' 或vend_id 为'BRS01'  的行，按prod_name 排序\n",
    "query = '''\n",
    "SELECT prod_name, prod_price\n",
    "FROM Products\n",
    "WHERE vend_id IN ( 'DLL01', 'BRS01' )\n",
    "ORDER BY prod_name;\n",
    "'''\n",
    "select_sql(query)"
   ]
  },
  {
   "cell_type": "markdown",
   "metadata": {},
   "source": [
    "&emsp;&emsp;IN 操作符的优点如下。\n",
    "- 在有很多合法选项时，IN 操作符的语法更清楚，更直观；\n",
    "- 在与其他AND 和OR 操作符组合使用IN 时，求值顺序更容易管理；\n",
    "- IN 操作符一般比一组OR 操作符执行得更快；\n",
    "- IN 的最大优点是可以包含其他SELECT 语句，能够更动态地建立WHERE 子句。\n",
    "\n",
    ">**IN**：WHERE 子句中用来指定要匹配值的清单的关键字，功能与OR 相当。"
   ]
  },
  {
   "cell_type": "markdown",
   "metadata": {},
   "source": [
    "## 5.3 NOT操作符\n",
    "&emsp;&emsp;WHERE 子句中的**NOT 操作符**有且只有一个功能，那就是否定其后所跟的任何条件。因为NOT 从不单独使用（它总是与其他操作符一起使用），所以它的语法与其他操作符有所不同。NOT 关键字可以用在要过滤的列前，而不仅是在其后："
   ]
  },
  {
   "cell_type": "code",
   "execution_count": 7,
   "metadata": {},
   "outputs": [
    {
     "name": "stdout",
     "output_type": "stream",
     "text": [
      "            prod_name\n",
      "0  12 inch teddy bear\n",
      "1  18 inch teddy bear\n",
      "2   8 inch teddy bear\n",
      "3           King doll\n",
      "4          Queen doll\n"
     ]
    }
   ],
   "source": [
    "# 从Products 表中检索prod_name 列，只返回vend_id 不为'DLL01'  的行\n",
    "query = '''\n",
    "SELECT prod_name\n",
    "FROM Products\n",
    "WHERE NOT vend_id = 'DLL01'\n",
    "ORDER BY prod_name;\n",
    "'''\n",
    "select_sql(query)"
   ]
  },
  {
   "cell_type": "markdown",
   "metadata": {},
   "source": [
    ">**NOT**：WHERE 子句中用来否定其后条件的关键字。"
   ]
  },
  {
   "cell_type": "markdown",
   "metadata": {},
   "source": [
    "## 5.4 小结\n",
    "&emsp;&emsp;本章学习了如何用AND 和OR 操作符组合成WHERE 子句，和如何明确地管理求值顺序，如何使用IN 和NOT 操作符。"
   ]
  },
  {
   "cell_type": "code",
   "execution_count": null,
   "metadata": {},
   "outputs": [],
   "source": []
  }
 ],
 "metadata": {
  "kernelspec": {
   "display_name": "Python 3",
   "language": "python",
   "name": "python3"
  },
  "language_info": {
   "codemirror_mode": {
    "name": "ipython",
    "version": 3
   },
   "file_extension": ".py",
   "mimetype": "text/x-python",
   "name": "python",
   "nbconvert_exporter": "python",
   "pygments_lexer": "ipython3",
   "version": "3.6.4"
  }
 },
 "nbformat": 4,
 "nbformat_minor": 2
}
