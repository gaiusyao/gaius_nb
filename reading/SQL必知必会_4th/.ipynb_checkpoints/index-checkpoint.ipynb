{
 "cells": [
  {
   "cell_type": "markdown",
   "metadata": {},
   "source": [
    "# SQL必知必会（第四版）\n",
    "\n",
    "- [ch01](https://nbviewer.jupyter.org/github/gaiusyao/gaius_nb/blob/master/reading/SQL必知必会_4th/ch01.ipynb): 了解SQL\n",
    "- [ch02](https://nbviewer.jupyter.org/github/gaiusyao/gaius_nb/blob/master/reading/SQL必知必会_4th/ch02.ipynb): 检索数据\n",
    "\n",
    "\n",
    "- [tysql.sqlite](https://github.com/gaiusyao/gaius_nb/blob/master/reading/SQL必知必会_4th/tysql.sqlite): 数据库文件"
   ]
  },
  {
   "cell_type": "code",
   "execution_count": null,
   "metadata": {},
   "outputs": [],
   "source": []
  }
 ],
 "metadata": {
  "kernelspec": {
   "display_name": "Python 3",
   "language": "python",
   "name": "python3"
  },
  "language_info": {
   "codemirror_mode": {
    "name": "ipython",
    "version": 3
   },
   "file_extension": ".py",
   "mimetype": "text/x-python",
   "name": "python",
   "nbconvert_exporter": "python",
   "pygments_lexer": "ipython3",
   "version": "3.6.4"
  }
 },
 "nbformat": 4,
 "nbformat_minor": 2
}
