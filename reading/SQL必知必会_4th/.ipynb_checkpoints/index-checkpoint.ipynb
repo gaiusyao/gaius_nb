{
 "cells": [
  {
   "cell_type": "markdown",
   "metadata": {},
   "source": [
    "# SQL必知必会（第四版）\n",
    "\n",
    "- [ch01](https://nbviewer.jupyter.org/github/gaiusyao/gaius_nb/blob/master/reading/SQL必知必会_4th/ch01.ipynb): 了解SQL\n",
    "- [ch02](https://nbviewer.jupyter.org/github/gaiusyao/gaius_nb/blob/master/reading/SQL必知必会_4th/ch02.ipynb): 检索数据\n",
    "- [ch03](https://nbviewer.jupyter.org/github/gaiusyao/gaius_nb/blob/master/reading/SQL必知必会_4th/ch03.ipynb): 排序检索数据\n",
    "- [ch04](https://nbviewer.jupyter.org/github/gaiusyao/gaius_nb/blob/master/reading/SQL必知必会_4th/ch04.ipynb): 数据过滤\n",
    "- [ch05](https://nbviewer.jupyter.org/github/gaiusyao/gaius_nb/blob/master/reading/SQL必知必会_4th/ch05.ipynb): 高级数据过滤\n",
    "- [ch06](https://nbviewer.jupyter.org/github/gaiusyao/gaius_nb/blob/master/reading/SQL必知必会_4th/ch06.ipynb): 用通配符进行数据过滤\n",
    "- [ch07](https://nbviewer.jupyter.org/github/gaiusyao/gaius_nb/blob/master/reading/SQL必知必会_4th/ch07.ipynb): 创建计算字段\n",
    "- [ch08](https://nbviewer.jupyter.org/github/gaiusyao/gaius_nb/blob/master/reading/SQL必知必会_4th/ch08.ipynb): 使用函数处理数据\n",
    "- [ch09](https://nbviewer.jupyter.org/github/gaiusyao/gaius_nb/blob/master/reading/SQL必知必会_4th/ch09.ipynb): 汇总数据\n",
    "- [ch10](https://nbviewer.jupyter.org/github/gaiusyao/gaius_nb/blob/master/reading/SQL必知必会_4th/ch10.ipynb): 分组数据\n",
    "- [ch11](https://nbviewer.jupyter.org/github/gaiusyao/gaius_nb/blob/master/reading/SQL必知必会_4th/ch11.ipynb): 使用子查询\n",
    "- [ch12](https://nbviewer.jupyter.org/github/gaiusyao/gaius_nb/blob/master/reading/SQL必知必会_4th/ch12.ipynb): 联结表\n",
    "- [ch13](https://nbviewer.jupyter.org/github/gaiusyao/gaius_nb/blob/master/reading/SQL必知必会_4th/ch13.ipynb): 创建高级联结\n",
    "- [ch14](https://nbviewer.jupyter.org/github/gaiusyao/gaius_nb/blob/master/reading/SQL必知必会_4th/ch14.ipynb): 组合查询\n",
    "- [ch15](https://nbviewer.jupyter.org/github/gaiusyao/gaius_nb/blob/master/reading/SQL必知必会_4th/ch15.ipynb): 插入数据\n",
    "- [ch16](https://nbviewer.jupyter.org/github/gaiusyao/gaius_nb/blob/master/reading/SQL必知必会_4th/ch16.ipynb): 更新和删除数据\n",
    "- [ch17](https://nbviewer.jupyter.org/github/gaiusyao/gaius_nb/blob/master/reading/SQL必知必会_4th/ch17.ipynb): 创建和操纵表\n",
    "- [ch18](https://nbviewer.jupyter.org/github/gaiusyao/gaius_nb/blob/master/reading/SQL必知必会_4th/ch18.ipynb): 使用视图\n",
    "\n",
    "\n",
    "- [tysql.sqlite](https://github.com/gaiusyao/gaius_nb/blob/master/reading/SQL必知必会_4th/tysql.sqlite): 数据库文件"
   ]
  },
  {
   "cell_type": "code",
   "execution_count": null,
   "metadata": {},
   "outputs": [],
   "source": []
  }
 ],
 "metadata": {
  "kernelspec": {
   "display_name": "Python 3",
   "language": "python",
   "name": "python3"
  },
  "language_info": {
   "codemirror_mode": {
    "name": "ipython",
    "version": 3
   },
   "file_extension": ".py",
   "mimetype": "text/x-python",
   "name": "python",
   "nbconvert_exporter": "python",
   "pygments_lexer": "ipython3",
   "version": "3.6.4"
  }
 },
 "nbformat": 4,
 "nbformat_minor": 2
}
