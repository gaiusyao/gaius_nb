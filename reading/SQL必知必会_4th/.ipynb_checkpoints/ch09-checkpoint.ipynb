{
 "cells": [
  {
   "cell_type": "markdown",
   "metadata": {},
   "source": [
    "## 9.1 聚集函数\n",
    "&emsp;&emsp;经常需要汇总数据而不用把它们实际检索出来，为此SQL 提供了专门的聚集函数：\n",
    "\n",
    "函数 | 说明\n",
    "----|----\n",
    "AVG() | 返回某列的平均值\n",
    "COUNT() | 返回某列的行数\n",
    "MAX() | 返回某列的最大值\n",
    "MIN() | 返回某列的最小值\n",
    "SUM() | 返回某列值之和\n",
    "\n",
    ">**聚集函数（aggregate function）**：对某些行运行的函数，计算并返回一个值。"
   ]
  },
  {
   "cell_type": "markdown",
   "metadata": {},
   "source": [
    "### 9.1.1 AVG()函数\n",
    "&emsp;&emsp;AVG()通过对表中行数计数并计算其列值之和，求得该列的平均值。AVG()可用来返回所有列的平均值，也可以用来返回特定列或行的平均值："
   ]
  },
  {
   "cell_type": "code",
   "execution_count": 1,
   "metadata": {},
   "outputs": [],
   "source": [
    "import sqlite3 as sql \n",
    "import pandas as pd\n",
    "\n",
    "def select_sql(query):\n",
    "    conn = sql.connect('tysql.sqlite')\n",
    "    cur = conn.cursor()\n",
    "    df = pd.read_sql(query, con=conn)\n",
    "    cur.close()\n",
    "    conn.close()\n",
    "    print(df)"
   ]
  },
  {
   "cell_type": "code",
   "execution_count": 2,
   "metadata": {},
   "outputs": [
    {
     "name": "stdout",
     "output_type": "stream",
     "text": [
      "   avg_price\n",
      "0   6.823333\n"
     ]
    }
   ],
   "source": [
    "# 使用AVG()返回Products 表中所有产品的平均价格\n",
    "query = '''\n",
    "SELECT AVG(prod_price) AS avg_price\n",
    "FROM Products;\n",
    "'''\n",
    "select_sql(query)"
   ]
  },
  {
   "cell_type": "code",
   "execution_count": 3,
   "metadata": {},
   "outputs": [
    {
     "name": "stdout",
     "output_type": "stream",
     "text": [
      "   avg_price\n",
      "0      3.865\n"
     ]
    }
   ],
   "source": [
    "# 使用AVG()返回Products 表中特定供应商产品的平均价格\n",
    "query = '''\n",
    "SELECT AVG(prod_price) AS avg_price\n",
    "FROM Products\n",
    "WHERE vend_id = 'DLL01';\n",
    "'''\n",
    "select_sql(query)"
   ]
  },
  {
   "cell_type": "markdown",
   "metadata": {},
   "source": [
    ">**注意**：AVG()只能用来确定特定数值列的平均值，而且列名必须作为函数参数给出。为了获得多个列的平均值，必须使用多个AVG()函数。\n",
    "\n",
    ">**说明**：AVG()函数忽略列值为NULL 的行。"
   ]
  },
  {
   "cell_type": "markdown",
   "metadata": {},
   "source": [
    "### 9.1.2 COUNT()函数\n",
    "&emsp;&emsp;COUNT()函数进行计数。可利用COUNT()确定表中行的数目或符合特定条件的行的数目。COUNT()函数有两种使用方式：\n",
    "- 使用COUNT(*)对表中行的数目进行计数，不管表列中包含的是空值（NULL）还是非空值；\n",
    "- 使用COUNT(column)对特定列中具有值的行进行计数，忽略NULL 值。"
   ]
  },
  {
   "cell_type": "code",
   "execution_count": 4,
   "metadata": {},
   "outputs": [
    {
     "name": "stdout",
     "output_type": "stream",
     "text": [
      "   num_cust\n",
      "0         5\n"
     ]
    }
   ],
   "source": [
    "# 返回Customers 表中顾客的总数\n",
    "query = '''\n",
    "SELECT COUNT(*) AS num_cust\n",
    "FROM Customers;\n",
    "'''\n",
    "select_sql(query)"
   ]
  },
  {
   "cell_type": "code",
   "execution_count": 5,
   "metadata": {},
   "outputs": [
    {
     "name": "stdout",
     "output_type": "stream",
     "text": [
      "   num_cust\n",
      "0         3\n"
     ]
    }
   ],
   "source": [
    "# 只对具有电子邮件地址的客户计\n",
    "query = '''\n",
    "SELECT COUNT(cust_email) AS num_cust\n",
    "FROM Customers;\n",
    "'''\n",
    "select_sql(query)"
   ]
  },
  {
   "cell_type": "markdown",
   "metadata": {},
   "source": [
    "### 9.1.3 MAX()函数\n",
    "&emsp;&emsp;MAX()返回指定列中的最大值。MAX()要求指定列名："
   ]
  },
  {
   "cell_type": "code",
   "execution_count": 6,
   "metadata": {},
   "outputs": [
    {
     "name": "stdout",
     "output_type": "stream",
     "text": [
      "   max_price\n",
      "0      11.99\n"
     ]
    }
   ],
   "source": [
    "# 返回Products 表中最贵物品的价格\n",
    "query = '''\n",
    "SELECT MAX(prod_price) AS max_price\n",
    "FROM Products;\n",
    "'''\n",
    "select_sql(query)"
   ]
  },
  {
   "cell_type": "markdown",
   "metadata": {},
   "source": [
    ">**提示**：虽然MAX()一般用来找出最大的数值或日期值，但许多（并非所有）DBMS 允许将它用来返回任意列中的最大值，包括返回文本列中的最大值。在用于文本数据时，MAX()返回按该列排序后的最后一行。\n",
    "\n",
    ">**说明**：MAX()函数忽略列值为NULL 的行。"
   ]
  },
  {
   "cell_type": "markdown",
   "metadata": {},
   "source": [
    "### 9.1.4 MIN()函数\n",
    "&emsp;&emsp;MIN()的功能正好与MAX()功能相反，它返回指定列的最小值。与MAX()一样，MIN()要求指定列名："
   ]
  },
  {
   "cell_type": "code",
   "execution_count": 7,
   "metadata": {},
   "outputs": [
    {
     "name": "stdout",
     "output_type": "stream",
     "text": [
      "   min_price\n",
      "0       3.49\n"
     ]
    }
   ],
   "source": [
    "# 返回Products 表中最便宜物品的价格\n",
    "query = '''\n",
    "SELECT MIN(prod_price) AS min_price\n",
    "FROM Products;\n",
    "'''\n",
    "select_sql(query)"
   ]
  },
  {
   "cell_type": "markdown",
   "metadata": {},
   "source": [
    ">**提示**：虽然MIN()一般用来找出最小的数值或日期值，但许多（并非所有）DBMS 允许将它用来返回任意列中的最小值，包括返回文本列中的最小值。在用于文本数据时，MIN()返回该列排序后最前面的行。\n",
    "\n",
    ">**说明**：MIN()函数忽略列值为NULL 的行。"
   ]
  },
  {
   "cell_type": "markdown",
   "metadata": {},
   "source": [
    "### 9.1.5 SUM()函数\n",
    "&emsp;&emsp;SUM()用来返回指定列值的和（总计）："
   ]
  },
  {
   "cell_type": "code",
   "execution_count": 8,
   "metadata": {},
   "outputs": [
    {
     "name": "stdout",
     "output_type": "stream",
     "text": [
      "   total_price\n",
      "0       1648.0\n"
     ]
    }
   ],
   "source": [
    "# 合计每项物品的item_price*quantity，得出总的订单金额\n",
    "query = '''\n",
    "SELECT SUM(item_price*quantity) AS total_price\n",
    "FROM OrderItems\n",
    "WHERE order_num = 20005;\n",
    "'''\n",
    "select_sql(query)"
   ]
  },
  {
   "cell_type": "markdown",
   "metadata": {},
   "source": [
    ">**提示**：如本例所示，利用标准的算术操作符，所有聚集函数都可用来执行多个列上的计算。\n",
    "\n",
    ">**说明**：SUM()函数忽略列值为NULL 的行。"
   ]
  },
  {
   "cell_type": "markdown",
   "metadata": {},
   "source": [
    "## 9.2 聚集不同值\n",
    "&emsp;&emsp;以上5 个聚集函数都可以如下使用：\n",
    "- 对所有行执行计算，指定ALL 参数或不指定参数（因为ALL 是默认行为）；\n",
    "- 只包含不同的值，指定DISTINCT 参数。\n",
    "\n",
    ">**提示**：ALL 参数不需要指定，因为它是默认行为。如果不指定DISTINCT，则假定为ALL。\n",
    "\n",
    ">**说明**：Microsoft Access 在聚集函数中不支持DISTINCT，因此下面的例子不适合于Access。要在Access 得到类似的结果，需要使用子查询把DISTINCT 数据返回到外部SELECT COUNT(*)语句。"
   ]
  },
  {
   "cell_type": "code",
   "execution_count": 9,
   "metadata": {},
   "outputs": [
    {
     "name": "stdout",
     "output_type": "stream",
     "text": [
      "   avg_price\n",
      "0       4.24\n"
     ]
    }
   ],
   "source": [
    "# 使用AVG()函数返回特定供应商提供的产品的平均价格\n",
    "# 使用了DISTINCT 参数，因此平均值只考虑各个不同的价格\n",
    "query = '''\n",
    "SELECT AVG(DISTINCT prod_price) AS avg_price\n",
    "FROM Products\n",
    "WHERE vend_id = 'DLL01';\n",
    "'''\n",
    "select_sql(query)"
   ]
  },
  {
   "cell_type": "markdown",
   "metadata": {},
   "source": [
    ">**注意**：如果指定列名，则DISTINCT 只能用于COUNT()。DISTINCT 不能用于COUNT(*)。类似地，DISTINCT 必须使用列名，不能用于计算或表达式。\n",
    "\n",
    ">**提示**：虽然DISTINCT 从技术上可用于MIN()和MAX()，但这样做实际上没有价值。一个列中的最小值和最大值不管是否只考虑不同值，结果都是相同的。\n",
    "\n",
    ">**说明**：除了这里介绍的DISTINCT 和ALL 参数，有的DBMS 还支持其他参数，如支持对查询结果的子集进行计算的TOP 和TOP PERCENT。为了解具体的DBMS 支持哪些参数，请参阅相应的文档。"
   ]
  },
  {
   "cell_type": "markdown",
   "metadata": {},
   "source": [
    "## 9.3 组合聚集函数\n",
    "&emsp;&emsp;实际上，SELECT 语句可根据需要包含多个聚集函数："
   ]
  },
  {
   "cell_type": "code",
   "execution_count": 10,
   "metadata": {},
   "outputs": [
    {
     "name": "stdout",
     "output_type": "stream",
     "text": [
      "   num_items  price_min  price_max  price_avg\n",
      "0          9       3.49      11.99   6.823333\n"
     ]
    }
   ],
   "source": [
    "# 返回4 个值（Products表中物品的数目，产品价格的最高值、最低值以及平均值）。\n",
    "query = '''\n",
    "SELECT COUNT(*) AS num_items,\n",
    "        MIN(prod_price) AS price_min,\n",
    "        MAX(prod_price) AS price_max,\n",
    "        AVG(prod_price) AS price_avg\n",
    "FROM Products;\n",
    "'''\n",
    "select_sql(query)"
   ]
  },
  {
   "cell_type": "markdown",
   "metadata": {},
   "source": [
    "## 9.4 小结\n",
    "&emsp;&emsp;本章学习了使用聚集函数来汇总数据。"
   ]
  },
  {
   "cell_type": "code",
   "execution_count": null,
   "metadata": {},
   "outputs": [],
   "source": []
  }
 ],
 "metadata": {
  "kernelspec": {
   "display_name": "Python 3",
   "language": "python",
   "name": "python3"
  },
  "language_info": {
   "codemirror_mode": {
    "name": "ipython",
    "version": 3
   },
   "file_extension": ".py",
   "mimetype": "text/x-python",
   "name": "python",
   "nbconvert_exporter": "python",
   "pygments_lexer": "ipython3",
   "version": "3.6.4"
  }
 },
 "nbformat": 4,
 "nbformat_minor": 2
}
