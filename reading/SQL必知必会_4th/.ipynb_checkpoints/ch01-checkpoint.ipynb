{
 "cells": [
  {
   "cell_type": "markdown",
   "metadata": {},
   "source": [
    "## 1.1 数据库基础\n",
    "&emsp;&emsp;在学习SQL之前，应对数据库及数据库技术的某些基本概念有所了解。\n",
    "\n",
    "\n",
    "### 1.1.1 数据库\n",
    "&emsp;&emsp;数据库是一个以某种有组织的方式存储的数据集合，可以将数据库想象为一个文件柜，这个文件柜是一个存放数据的物理位置，不管\n",
    "数据是什么，也不管数据是如何组织的。\n",
    "\n",
    "> **数据库（database）**：保存有组织的数据的容器（通常是一个文件或一组文件）。\n",
    "\n",
    "> **注意**：人们通常用数据库这个术语来代表他们使用的数据库软件，这是不正确的，也因此产生了许多混淆。确切地说，数据库软件应称为*数据库管理系统（DBMS）*。数据库是通过DBMS 创建和操纵的容器，而具体它究竟是什么，形式如何，各种数据库都不一样。\n",
    "\n",
    "\n",
    "### 1.1.2 表\n",
    "&emsp;&emsp;当往文件柜中存放资料时，是先创建文件，再将相关资料存入文件中。而在数据库领域中，这种文件称为表。表是一种结构化的文件，可用来存储某种特定类型的数据。表可以保存顾客清单、产品目录，或者其他信息清单。\n",
    "\n",
    "> **表（table）**：某种特定类型数据的结构化清单。\n",
    "\n",
    "&emsp;&emsp;存储在表中的数据必须是同一类型的数据或清单，决不能将不同类型的数据存放在一个表中应遵循一事一表的原则，每种类型的数据或清单一个表。\n",
    "\n",
    ">**表名的唯一性**：在同一数据库中，表名需唯一。\n",
    "\n",
    "&emsp;&emsp;表具有一些特性，这些特性定义了数据在表中如何存储，包含存储什么\n",
    "样的数据，数据如何分解，各部分信息如何命名等信息。描述表的这组信息就是所谓的*模式（schema）*，模式可以用来描述数据库中特定的表，也可以用来描述整个数据库（和其中表的关系）。\n",
    "\n",
    ">**模式（schema）**：关于数据库和表的布局及特性的信息。\n",
    "\n",
    "\n",
    "### 1.1.3 列和数据类型\n",
    "&emsp;&emsp;表由列组成。列存储表中某部分的信息。\n",
    "\n",
    "> **列（column）**：表中的一个字段。所有表都是由一个或多个列组成的。\n",
    "\n",
    "&emsp;&emsp;数据库中每个列都有相应的数据类型。数据类型（datatype）定义了列可\n",
    "以存储哪些数据种类。例如，如果列中存储的是数字（或许是订单中的物品数），则相应的数据类型应该为数值类型。\n",
    "\n",
    "> **数据类型（datatype）**：所允许的数据的类型。每个表列都有相应的数据类型，它限制（或允许）该列中存储的数据。\n",
    "\n",
    "> **注意**：数据类型及其名称是SQL 不兼容的一个主要原因。虽然大多数基本数据类型得到了一致的支持，但许多高级的数据类型却没有。更糟的是，偶然会有相同的数据类型在不同的DBMS 中具有不同的名称。对此用户毫无办法，重要的是在创建表结构时要记住这些差异。\n",
    "\n",
    "\n",
    "### 1.1.4 行\n",
    "&emsp;&emsp;表中的数据是按行存储的，所保存的每个记录存储在自己的行内。如果\n",
    "将表想象为网格，网格中垂直的列为表列，水平行为表行。\n",
    "\n",
    "> **行（row）**：表中的一个记录。\n",
    "\n",
    "\n",
    "### 1.1.5 主键\n",
    "&emsp;&emsp;表中每一行都应该有一列（或几列）可以唯一标识自己。就如同一个人的身份证号码（id），可以唯一标识这个人。\n",
    "\n",
    "> **主键（primary key）**：一列（或一组列），其值能够唯一标识表中每一行。\n",
    "\n",
    "&emsp;&emsp;表中的任何列都可以作为主键，只要它满足以下条件：\n",
    "- 任意两行都不具有相同的主键值；\n",
    "- 每一行都必须具有一个主键值（主键列不允许NULL 值）；\n",
    "- 主键列中的值不允许修改或更新；\n",
    "- 主键值不能重用（如果某行从表中删除，它的主键不能赋给以后的新行）。"
   ]
  },
  {
   "cell_type": "markdown",
   "metadata": {},
   "source": [
    "## 1.2 什么是SQL\n",
    "&emsp;&emsp;SQL（发音为字母S-Q-L 或sequel）是Structured Query Language（结构化查询语言）的缩写。SQL 是一种专门用来与数据库沟通的语言。设计SQL 的目的是很好地完成一项任务——提供一种从数据库中读写数据的简单有效的方法。\n",
    "\n",
    "> **说明**：许多DBMS 厂商通过增加语句或指令，对SQL 进行了扩展。这种扩展的目的是提供执行特定操作的额外功能或简化方法。标准SQL 由ANSI 标准委员会管理，从而称ANSI SQL。所有主要的DBMS，即使有自己的扩展，也都支持ANSI SQL。"
   ]
  },
  {
   "cell_type": "markdown",
   "metadata": {},
   "source": [
    "## 1.3 动手实践\n",
    "&emsp;&emsp;与其他任何语言一样，学习SQL 的最好方法是自己动手实践。为此，需\n",
    "要一个数据库和用来测试SQL 语句的应用系统。这里，我们选用的是SQLite，一款非常小巧的嵌入式开源数据库软件，在python中可以通过导入sqlite3创建与SQLite的连接："
   ]
  },
  {
   "cell_type": "code",
   "execution_count": 1,
   "metadata": {},
   "outputs": [],
   "source": [
    "import sqlite3 as sql\n",
    "\n",
    "#创建连接，如当前文件夹无该数据库文件，则自动创建\n",
    "conn = sql.connect('test.db') \n",
    "\n",
    "# 创建游标对象\n",
    "cur = conn.cursor()\n",
    "\n",
    "# 创建表\n",
    "cur.execute('CREATE TABLE user (id varchar(20) primary key, name varchar(20))');\n",
    "\n",
    "# 插入一行记录\n",
    "cur.execute('INSERT INTO user (id, name) values (\\'1\\', \\'Michael\\')');\n",
    "\n",
    "# 关闭游标\n",
    "cur.close()\n",
    "\n",
    "# 提交更改\n",
    "conn.commit()\n",
    "\n",
    "# 关闭连接\n",
    "conn.close()"
   ]
  },
  {
   "cell_type": "code",
   "execution_count": 2,
   "metadata": {},
   "outputs": [
    {
     "data": {
      "text/plain": [
       "[('1', 'Michael')]"
      ]
     },
     "execution_count": 2,
     "metadata": {},
     "output_type": "execute_result"
    }
   ],
   "source": [
    "conn = sql.connect('test.db') \n",
    "cur = conn.cursor()\n",
    "\n",
    "# 查询user表中的所有记录\n",
    "query = 'SELECT * FROM user'\n",
    "cur.execute(query);\n",
    "values = cur.fetchall()\n",
    "\n",
    "cur.close()\n",
    "conn.close()\n",
    "\n",
    "values"
   ]
  },
  {
   "cell_type": "code",
   "execution_count": 3,
   "metadata": {},
   "outputs": [],
   "source": [
    "conn = sql.connect('test.db') \n",
    "cur = conn.cursor()\n",
    "\n",
    "# 删除数据表\n",
    "query = 'DROP TABLE user'\n",
    "cur.execute(query);\n",
    "\n",
    "cur.close()\n",
    "conn.close()"
   ]
  },
  {
   "cell_type": "code",
   "execution_count": 4,
   "metadata": {},
   "outputs": [],
   "source": [
    "# 删除数据库文件\n",
    "import os\n",
    "os.remove('test.db')"
   ]
  },
  {
   "cell_type": "markdown",
   "metadata": {},
   "source": [
    "## 1.4 小结\n",
    "&emsp;&emsp;本章介绍了SQL和一些基本的数据库术语，还通过示例简单地介绍了sqlite3的使用。"
   ]
  },
  {
   "cell_type": "code",
   "execution_count": null,
   "metadata": {},
   "outputs": [],
   "source": []
  }
 ],
 "metadata": {
  "kernelspec": {
   "display_name": "Python 3",
   "language": "python",
   "name": "python3"
  },
  "language_info": {
   "codemirror_mode": {
    "name": "ipython",
    "version": 3
   },
   "file_extension": ".py",
   "mimetype": "text/x-python",
   "name": "python",
   "nbconvert_exporter": "python",
   "pygments_lexer": "ipython3",
   "version": "3.6.4"
  }
 },
 "nbformat": 4,
 "nbformat_minor": 2
}
