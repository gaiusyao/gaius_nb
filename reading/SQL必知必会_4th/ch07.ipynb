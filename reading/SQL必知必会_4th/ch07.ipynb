{
 "cells": [
  {
   "cell_type": "markdown",
   "metadata": {},
   "source": [
    "## 7.1 计算字段\n",
    "&emsp;&emsp;存储在数据库表中的数据一般不是应用程序所需要的格式，我们需要直接从数据库中检索出转换、计算或格式化过的数据，而不是检索出数据，然后再在客户端应用程序中重新格式化。这就需要用上计算字段，计算字段并不实际存在于数据库表中，而是运行时在SELECT 语句中创建的。\n",
    "\n",
    ">**字段（field）**：基本上与列（column）的意思相同，经常互换使用，不过数据库列一般称为列，而术语字段通常与计算字段一起使用。\n",
    "\n",
    ">**提示**：在SQL 语句内可完成的许多转换和格式化工作都可以直接在客户端应用程序内完成。但一般来说，在数据库服务器上完成这些操作比在客户端中完成要快得多。"
   ]
  },
  {
   "cell_type": "markdown",
   "metadata": {},
   "source": [
    "## 7.2 拼接字段\n",
    "&emsp;&emsp;下面通过计算字段创建由两列组成的标题：\n",
    "\n",
    ">**拼接（concatenate）**：将值联结到一起（将一个值附加到另一个值）构成单个值。"
   ]
  },
  {
   "cell_type": "code",
   "execution_count": 1,
   "metadata": {},
   "outputs": [],
   "source": [
    "import sqlite3 as sql \n",
    "import pandas as pd\n",
    "\n",
    "def select_sql(query):\n",
    "    conn = sql.connect('tysql.sqlite')\n",
    "    cur = conn.cursor()\n",
    "    df = pd.read_sql(query, con=conn)\n",
    "    cur.close()\n",
    "    conn.close()\n",
    "    print(df)"
   ]
  },
  {
   "cell_type": "code",
   "execution_count": 2,
   "metadata": {},
   "outputs": [
    {
     "name": "stdout",
     "output_type": "stream",
     "text": [
      "  vend_name || ' (' || vend_country || ')'\n",
      "0                      Bear Emporium (USA)\n",
      "1                         Bears R Us (USA)\n",
      "2                    Doll House Inc. (USA)\n",
      "3                  Fun and Games (England)\n",
      "4                       Furball Inc. (USA)\n",
      "5                  Jouets et ours (France)\n"
     ]
    }
   ],
   "source": [
    "# 从Vendors 表中拼接vend_name, vend_country列并返回，按vend_name排序\n",
    "query = '''\n",
    "SELECT vend_name || ' (' || vend_country || ')'\n",
    "FROM Vendors\n",
    "ORDER BY vend_name;\n",
    "'''\n",
    "select_sql(query)"
   ]
  },
  {
   "cell_type": "markdown",
   "metadata": {},
   "source": [
    ">**说明**：Access 和SQL Server 使用+号。DB2、Oracle、PostgreSQL、SQLite 和Open Office Base 使用||。详细请参阅具体的DBMS 文档。"
   ]
  },
  {
   "cell_type": "code",
   "execution_count": 7,
   "metadata": {},
   "outputs": [
    {
     "name": "stdout",
     "output_type": "stream",
     "text": [
      "  RTRIM(vend_name) || ' (' || RTRIM(vend_country) || ')'\n",
      "0                                Bear Emporium (USA)    \n",
      "1                                   Bears R Us (USA)    \n",
      "2                              Doll House Inc. (USA)    \n",
      "3                            Fun and Games (England)    \n",
      "4                                 Furball Inc. (USA)    \n",
      "5                            Jouets et ours (France)    \n"
     ]
    }
   ],
   "source": [
    "# 从Vendors 表中拼接vend_name, vend_country列并返回，按vend_name排序\n",
    "# RTRIM()函数去掉值右边的所有空格\n",
    "query = '''\n",
    "SELECT RTRIM(vend_name) || ' (' || RTRIM(vend_country) || ')'\n",
    "FROM Vendors\n",
    "ORDER BY vend_name;\n",
    "'''\n",
    "select_sql(query)"
   ]
  },
  {
   "cell_type": "markdown",
   "metadata": {},
   "source": [
    ">**说明**：大多数DBMS 都支持RTRIM()（正如刚才所见，它去掉字符串右边的空格）、LTRIM()（去掉字符串左边的空格）以及TRIM()（去掉字符串左右两边的空格）。"
   ]
  },
  {
   "cell_type": "code",
   "execution_count": 8,
   "metadata": {},
   "outputs": [
    {
     "name": "stdout",
     "output_type": "stream",
     "text": [
      "                vend_title\n",
      "0      Bear Emporium (USA)\n",
      "1         Bears R Us (USA)\n",
      "2    Doll House Inc. (USA)\n",
      "3  Fun and Games (England)\n",
      "4       Furball Inc. (USA)\n",
      "5  Jouets et ours (France)\n"
     ]
    }
   ],
   "source": [
    "# 使用别名\n",
    "query = '''\n",
    "SELECT RTRIM(vend_name) || ' (' || RTRIM(vend_country) || ')' AS vend_title\n",
    "FROM Vendors\n",
    "ORDER BY vend_name;\n",
    "'''\n",
    "select_sql(query)"
   ]
  },
  {
   "cell_type": "markdown",
   "metadata": {},
   "source": [
    ">**说明**：别名还有其他用途。常见的用途包括在实际的表列名包含不合法的字符（如空格）时重新命名它，在原来的名字含混或容易误解时扩充它。"
   ]
  },
  {
   "cell_type": "markdown",
   "metadata": {},
   "source": [
    "## 7.3 执行算术计算\n",
    "&emsp;&emsp;计算字段的另一常见用途是对检索出的数据进行算术计算："
   ]
  },
  {
   "cell_type": "code",
   "execution_count": 9,
   "metadata": {},
   "outputs": [
    {
     "name": "stdout",
     "output_type": "stream",
     "text": [
      "  prod_id  quantity  item_price\n",
      "0  RGAN01         5        4.99\n",
      "1    BR03         5       11.99\n",
      "2  BNBG01        10        3.49\n",
      "3  BNBG02        10        3.49\n",
      "4  BNBG03        10        3.49\n"
     ]
    }
   ],
   "source": [
    "# 检索订单号为20008 的订单中的所有物品\n",
    "query = '''\n",
    "SELECT prod_id, quantity, item_price\n",
    "FROM OrderItems\n",
    "WHERE order_num = 20008;\n",
    "'''\n",
    "select_sql(query)"
   ]
  },
  {
   "cell_type": "code",
   "execution_count": 10,
   "metadata": {},
   "outputs": [
    {
     "name": "stdout",
     "output_type": "stream",
     "text": [
      "  prod_id  quantity  item_price  expanded_price\n",
      "0  RGAN01         5        4.99           24.95\n",
      "1    BR03         5       11.99           59.95\n",
      "2  BNBG01        10        3.49           34.90\n",
      "3  BNBG02        10        3.49           34.90\n",
      "4  BNBG03        10        3.49           34.90\n"
     ]
    }
   ],
   "source": [
    "# 检索订单号为20008 的订单中的所有物品\n",
    "# 并汇总物品的价格（单价乘以订购数量）\n",
    "query = '''\n",
    "SELECT prod_id,\n",
    "    quantity,\n",
    "    item_price,\n",
    "    quantity*item_price AS expanded_price\n",
    "FROM OrderItems\n",
    "WHERE order_num = 20008;\n",
    "'''\n",
    "select_sql(query)"
   ]
  },
  {
   "cell_type": "markdown",
   "metadata": {},
   "source": [
    "## 7.4 小结\n",
    "&emsp;&emsp;本章学习了计算字段以及如何创建计算字段，说明了计算字段在字符串拼接和算术计算中的用途。此外，还讲述了如何创建和使用别名。"
   ]
  },
  {
   "cell_type": "code",
   "execution_count": null,
   "metadata": {},
   "outputs": [],
   "source": []
  }
 ],
 "metadata": {
  "kernelspec": {
   "display_name": "Python 3",
   "language": "python",
   "name": "python3"
  },
  "language_info": {
   "codemirror_mode": {
    "name": "ipython",
    "version": 3
   },
   "file_extension": ".py",
   "mimetype": "text/x-python",
   "name": "python",
   "nbconvert_exporter": "python",
   "pygments_lexer": "ipython3",
   "version": "3.6.4"
  }
 },
 "nbformat": 4,
 "nbformat_minor": 2
}
