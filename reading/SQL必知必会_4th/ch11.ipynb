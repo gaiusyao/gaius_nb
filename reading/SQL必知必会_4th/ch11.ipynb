{
 "cells": [
  {
   "cell_type": "markdown",
   "metadata": {},
   "source": [
    "## 11.1 子查询\n",
    "&emsp;&emsp;SELECT 语句是SQL 的查询。我们迄今为止所看到的所有SELECT 语句都是简单查询，即从单个数据库表中检索数据的单条语句。\n",
    "\n",
    ">**查询（query）**：任何SQL 语句都是查询。但此术语一般指SELECT 语句。\n",
    "\n",
    "&emsp;&emsp;SQL 还允许创建子查询（subquery），即嵌套在其他查询中的查询。"
   ]
  },
  {
   "cell_type": "markdown",
   "metadata": {},
   "source": [
    "## 11.2 利用子查询进行过滤"
   ]
  },
  {
   "cell_type": "code",
   "execution_count": 1,
   "metadata": {},
   "outputs": [],
   "source": [
    "import sqlite3 as sql \n",
    "import pandas as pd\n",
    "\n",
    "def select_sql(query):\n",
    "    conn = sql.connect('tysql.sqlite')\n",
    "    cur = conn.cursor()\n",
    "    df = pd.read_sql(query, con=conn)\n",
    "    cur.close()\n",
    "    conn.close()\n",
    "    print(df)"
   ]
  },
  {
   "cell_type": "code",
   "execution_count": 2,
   "metadata": {},
   "outputs": [
    {
     "name": "stdout",
     "output_type": "stream",
     "text": [
      "      cust_id\n",
      "0  1000000004\n",
      "1  1000000005\n"
     ]
    }
   ],
   "source": [
    "# 使用子查询进行过滤\n",
    "query = '''\n",
    "SELECT cust_id\n",
    "FROM Orders\n",
    "WHERE order_num IN (SELECT order_num\n",
    "                                        FROM OrderItems\n",
    "                                        WHERE prod_id = 'RGAN01');\n",
    "'''\n",
    "select_sql(query)"
   ]
  },
  {
   "cell_type": "markdown",
   "metadata": {},
   "source": [
    ">**注意**：只能是单列作为子查询的SELECT 语句只能查询单个列。企图检索多个列将返回错误。"
   ]
  },
  {
   "cell_type": "markdown",
   "metadata": {},
   "source": [
    "## 11.3 作为计算字段使用子查询"
   ]
  },
  {
   "cell_type": "code",
   "execution_count": 3,
   "metadata": {},
   "outputs": [
    {
     "name": "stdout",
     "output_type": "stream",
     "text": [
      "       cust_name cust_state  orders\n",
      "0        Fun4All         IN       1\n",
      "1        Fun4All         AZ       1\n",
      "2     Kids Place         OH       0\n",
      "3  The Toy Store         IL       1\n",
      "4   Village Toys         MI       2\n"
     ]
    }
   ],
   "source": [
    "# 使用子查询创建计算字段\n",
    "query = '''\n",
    "SELECT cust_name,\n",
    "        cust_state,\n",
    "        (SELECT COUNT(*)\n",
    "            FROM Orders\n",
    "            WHERE Orders.cust_id = Customers.cust_id) AS orders\n",
    "FROM Customers\n",
    "ORDER BY cust_name;\n",
    "'''\n",
    "select_sql(query)"
   ]
  },
  {
   "cell_type": "markdown",
   "metadata": {},
   "source": [
    "## 11.4 小结\n",
    "&emsp;&emsp;本章学习了什么是子查询，以及如何使用它们。子查询常用于WHERE 子句的IN 操作符中，以及用来填充计算列。"
   ]
  }
 ],
 "metadata": {
  "kernelspec": {
   "display_name": "Python 3",
   "language": "python",
   "name": "python3"
  },
  "language_info": {
   "codemirror_mode": {
    "name": "ipython",
    "version": 3
   },
   "file_extension": ".py",
   "mimetype": "text/x-python",
   "name": "python",
   "nbconvert_exporter": "python",
   "pygments_lexer": "ipython3",
   "version": "3.6.4"
  }
 },
 "nbformat": 4,
 "nbformat_minor": 2
}
