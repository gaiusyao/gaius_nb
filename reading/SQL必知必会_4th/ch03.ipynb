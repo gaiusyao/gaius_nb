{
 "cells": [
  {
   "cell_type": "markdown",
   "metadata": {},
   "source": [
    "## 3.1 排序数据\n",
    "&emsp;&emsp;为了明确地排序用SELECT 语句检索出的数据，可使用**ORDER BY 子句**。ORDER BY 子句取一个或多个列的名字，据此对输出进行排序。\n",
    "\n",
    ">**子句（clause）**：SQL 语句由子句构成，有些子句是必需的，有些则是可选的。一个子句通常由一个关键字加上所提供的数据组成。子句的例子有我们在前一课看到的SELECT 语句的FROM 子句。"
   ]
  },
  {
   "cell_type": "code",
   "execution_count": 1,
   "metadata": {},
   "outputs": [],
   "source": [
    "# 导入sqlite3\n",
    "import sqlite3 as sql \n",
    "# 为了更好地展示数据，导入pandas\n",
    "import pandas as pd\n",
    "\n",
    "# 创建查询函数\n",
    "def select_sql(query):\n",
    "    conn = sql.connect('tysql.sqlite')\n",
    "    cur = conn.cursor()\n",
    "\n",
    "    # 使用pandas读取sql结果存入DataFrame\n",
    "    df = pd.read_sql(query,con=conn)\n",
    "\n",
    "    cur.close()\n",
    "    conn.close()\n",
    "\n",
    "    print(df)"
   ]
  },
  {
   "cell_type": "code",
   "execution_count": 2,
   "metadata": {},
   "outputs": [
    {
     "name": "stdout",
     "output_type": "stream",
     "text": [
      "             prod_name\n",
      "0   12 inch teddy bear\n",
      "1   18 inch teddy bear\n",
      "2    8 inch teddy bear\n",
      "3    Bird bean bag toy\n",
      "4    Fish bean bag toy\n",
      "5            King doll\n",
      "6           Queen doll\n",
      "7  Rabbit bean bag toy\n",
      "8          Raggedy Ann\n"
     ]
    }
   ],
   "source": [
    "# 从Products 表中检索一个名为prod_name的列，按prod_name排序\n",
    "query = '''\n",
    "SELECT prod_name\n",
    "FROM Products\n",
    "ORDER BY prod_name;\n",
    "'''\n",
    "select_sql(query)"
   ]
  },
  {
   "cell_type": "markdown",
   "metadata": {},
   "source": [
    ">**注意**：在指定一条ORDER BY 子句时，应该保证它是SELECT 语句中最后一条子句。"
   ]
  },
  {
   "cell_type": "markdown",
   "metadata": {},
   "source": [
    "## 3.2 按多个列排序\n",
    "&emsp;&emsp;要按多个列排序，简单指定列名，列名之间用逗号分开即可（就像选择多个列时那样）："
   ]
  },
  {
   "cell_type": "code",
   "execution_count": 3,
   "metadata": {},
   "outputs": [
    {
     "name": "stdout",
     "output_type": "stream",
     "text": [
      "  prod_id  prod_price            prod_name\n",
      "0  BNBG02        3.49    Bird bean bag toy\n",
      "1  BNBG01        3.49    Fish bean bag toy\n",
      "2  BNBG03        3.49  Rabbit bean bag toy\n",
      "3  RGAN01        4.99          Raggedy Ann\n",
      "4    BR01        5.99    8 inch teddy bear\n",
      "5    BR02        8.99   12 inch teddy bear\n",
      "6   RYL01        9.49            King doll\n",
      "7   RYL02        9.49           Queen doll\n",
      "8    BR03       11.99   18 inch teddy bear\n"
     ]
    }
   ],
   "source": [
    "# 从Products 表中检索3个列，按prod_price, prod_name排序\n",
    "query = '''\n",
    "SELECT prod_id, prod_price, prod_name\n",
    "FROM Products\n",
    "ORDER BY prod_price, prod_name;\n",
    "'''\n",
    "select_sql(query)"
   ]
  },
  {
   "cell_type": "markdown",
   "metadata": {},
   "source": [
    "## 3.3 按列位置排序\n",
    "&emsp;&emsp;除了能用列名指出排序顺序外，ORDER BY 还支持按相对列位置进行排序："
   ]
  },
  {
   "cell_type": "code",
   "execution_count": 4,
   "metadata": {},
   "outputs": [
    {
     "name": "stdout",
     "output_type": "stream",
     "text": [
      "  prod_id  prod_price            prod_name\n",
      "0  BNBG02        3.49    Bird bean bag toy\n",
      "1  BNBG01        3.49    Fish bean bag toy\n",
      "2  BNBG03        3.49  Rabbit bean bag toy\n",
      "3  RGAN01        4.99          Raggedy Ann\n",
      "4    BR01        5.99    8 inch teddy bear\n",
      "5    BR02        8.99   12 inch teddy bear\n",
      "6   RYL01        9.49            King doll\n",
      "7   RYL02        9.49           Queen doll\n",
      "8    BR03       11.99   18 inch teddy bear\n"
     ]
    }
   ],
   "source": [
    "# 从Products 表中检索3个列，按第2, 3列排序\n",
    "query = '''\n",
    "SELECT prod_id, prod_price, prod_name\n",
    "FROM Products\n",
    "ORDER BY 2, 3;\n",
    "'''\n",
    "select_sql(query)"
   ]
  },
  {
   "cell_type": "markdown",
   "metadata": {},
   "source": [
    "## 3.4 按列位置排序\n",
    "&emsp;&emsp;ORDER BY 子句默认按升序排列，为了进行降序排序，必须指定**DESC 关键字**："
   ]
  },
  {
   "cell_type": "code",
   "execution_count": 5,
   "metadata": {},
   "outputs": [
    {
     "name": "stdout",
     "output_type": "stream",
     "text": [
      "  prod_id  prod_price            prod_name\n",
      "0  BNBG02        3.49    Bird bean bag toy\n",
      "1  BNBG01        3.49    Fish bean bag toy\n",
      "2  BNBG03        3.49  Rabbit bean bag toy\n",
      "3  RGAN01        4.99          Raggedy Ann\n",
      "4    BR01        5.99    8 inch teddy bear\n",
      "5    BR02        8.99   12 inch teddy bear\n",
      "6   RYL01        9.49            King doll\n",
      "7   RYL02        9.49           Queen doll\n",
      "8    BR03       11.99   18 inch teddy bear\n"
     ]
    }
   ],
   "source": [
    "# 从Products 表中检索3个列，按prod_price列降序排列\n",
    "query = '''\n",
    "SELECT prod_id, prod_price, prod_name\n",
    "FROM Products\n",
    "ORDER BY 2, 3;\n",
    "'''\n",
    "select_sql(query)"
   ]
  },
  {
   "cell_type": "markdown",
   "metadata": {},
   "source": [
    "## 3.5 小结\n",
    "&emsp;&emsp;本章学习了如何使用的ORDER BY 子句对检索出的数据进行排序。"
   ]
  },
  {
   "cell_type": "code",
   "execution_count": null,
   "metadata": {},
   "outputs": [],
   "source": []
  }
 ],
 "metadata": {
  "kernelspec": {
   "display_name": "Python 3",
   "language": "python",
   "name": "python3"
  },
  "language_info": {
   "codemirror_mode": {
    "name": "ipython",
    "version": 3
   },
   "file_extension": ".py",
   "mimetype": "text/x-python",
   "name": "python",
   "nbconvert_exporter": "python",
   "pygments_lexer": "ipython3",
   "version": "3.6.4"
  }
 },
 "nbformat": 4,
 "nbformat_minor": 2
}
