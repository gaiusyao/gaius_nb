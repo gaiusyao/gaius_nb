{
 "cells": [
  {
   "cell_type": "markdown",
   "metadata": {},
   "source": [
    "## 8.1 函数\n",
    "&emsp;&emsp;与大多数其他计算机语言一样，SQL 也可以用函数来处理数据。函数一般是在数据上执行的，为数据的转换和处理提供了方便。\n",
    "\n",
    ">**注意**：与几乎所有DBMS 都等同地支持SQL 语句（如SELECT）不同，每一个DBMS 都有特定的函数。事实上，只有少数几个函数被所有主要的DBMS等同地支持。虽然所有类型的函数一般都可以在每个DBMS 中使用，但各个函数的名称和语法可能极其不同。"
   ]
  },
  {
   "cell_type": "markdown",
   "metadata": {},
   "source": [
    "## 8.2 使用函数\n",
    "&emsp;&emsp;大多数SQL 实现支持以下类型的函数：\n",
    "- 用于处理文本字符串（如删除或填充值，转换值为大写或小写）的文本函数；\n",
    "- 用于在数值数据上进行算术操作（如返回绝对值，进行代数运算）的数值函数；\n",
    "- 用于处理日期和时间值并从这些值中提取特定成分（如返回两个日期之差，检查日期有效性）的日期和时间函数；\n",
    "- 返回DBMS 正使用的特殊信息（如返回用户登录信息）的系统函数。"
   ]
  },
  {
   "cell_type": "markdown",
   "metadata": {},
   "source": [
    "### 8.2.1 常用文本处理函数\n",
    "\n",
    "函数 | 说明\n",
    "----|----\n",
    "LEFT()（或使用子字符串函数） | 返回字符串左边的字符\n",
    "LENGTH()（也使用DATALENGTH()或LEN()） | 返回字符串的长度\n",
    "LOWER()（Access使用LCASE()） | 将字符串转换为小写\n",
    "LTRIM() | 去掉字符串左边的空格\n",
    "RIGHT()（或使用子字符串函数） | 返回字符串右边的字符\n",
    "RTRIM() | 去掉字符串右边的空格\n",
    "SOUNDEX() | 返回字符串的SOUNDEX值\n",
    "UPPER()（Access使用UCASE()） | 将字符串转换为大写"
   ]
  },
  {
   "cell_type": "code",
   "execution_count": 1,
   "metadata": {},
   "outputs": [],
   "source": [
    "import sqlite3 as sql \n",
    "import pandas as pd\n",
    "\n",
    "def select_sql(query):\n",
    "    conn = sql.connect('tysql.sqlite')\n",
    "    cur = conn.cursor()\n",
    "    df = pd.read_sql(query, con=conn)\n",
    "    cur.close()\n",
    "    conn.close()\n",
    "    print(df)"
   ]
  },
  {
   "cell_type": "code",
   "execution_count": 2,
   "metadata": {},
   "outputs": [
    {
     "name": "stdout",
     "output_type": "stream",
     "text": [
      "         vend_name vend_name_upcase\n",
      "0    Bear Emporium    BEAR EMPORIUM\n",
      "1       Bears R Us       BEARS R US\n",
      "2  Doll House Inc.  DOLL HOUSE INC.\n",
      "3    Fun and Games    FUN AND GAMES\n",
      "4     Furball Inc.     FURBALL INC.\n",
      "5   Jouets et ours   JOUETS ET OURS\n"
     ]
    }
   ],
   "source": [
    "# UPPER()函数将字段转化为大写\n",
    "query = '''\n",
    "SELECT vend_name, \n",
    "        UPPER(vend_name) AS vend_name_upcase\n",
    "FROM Vendors\n",
    "ORDER BY vend_name;\n",
    "'''\n",
    "select_sql(query)"
   ]
  },
  {
   "cell_type": "markdown",
   "metadata": {},
   "source": [
    "### 8.2.2 日期和时间处理函数\n",
    "&emsp;&emsp;日期和时间采用相应的数据类型存储在表中，每种DBMS 都有自己的特殊形式。日期和时间值以特殊的格式存储，以便能快速和有效地排序或过滤，并且节省物理存储空间。应用程序一般不使用日期和时间的存储格式，因此日期和时间函数总是用来读取、统计和处理这些值。由于这个原因，日期和时间函数在SQL中具有重要的作用。遗憾的是，它们很不一致，可移植性最差。"
   ]
  },
  {
   "cell_type": "code",
   "execution_count": 6,
   "metadata": {},
   "outputs": [
    {
     "name": "stdout",
     "output_type": "stream",
     "text": [
      "   order_num\n",
      "0      20005\n",
      "1      20006\n",
      "2      20007\n",
      "3      20008\n",
      "4      20009\n"
     ]
    }
   ],
   "source": [
    "# 在SQLite中检索2012 年的所有订单\n",
    "query = '''\n",
    "SELECT order_num\n",
    "FROM Orders\n",
    "WHERE strftime('%Y', order_date) = '2012';\n",
    "'''\n",
    "select_sql(query)"
   ]
  },
  {
   "cell_type": "markdown",
   "metadata": {},
   "source": [
    "### 8.2.3 常用数值处理函数\n",
    "函数 | 说明\n",
    "----|----\n",
    "ABS() | 返回一个数的绝对值\n",
    "COS() | 返回一个角度的余弦\n",
    "EXP() | 返回一个数的指数值\n",
    "PI() | 返回圆周率\n",
    "SIN() | 返回一个角度的正弦\n",
    "SQRT() | 返回一个数的平方根\n",
    "TAN() | 返回一个角度的正切"
   ]
  },
  {
   "cell_type": "markdown",
   "metadata": {},
   "source": [
    "## 8.3 小结\n",
    "&emsp;&emsp;本章学习了SQL 的数据处理函数。虽然这些函数在格式化、处理和过滤数据中非常有用，但它们在各种SQL 实现中很不一致。"
   ]
  },
  {
   "cell_type": "code",
   "execution_count": null,
   "metadata": {},
   "outputs": [],
   "source": []
  }
 ],
 "metadata": {
  "kernelspec": {
   "display_name": "Python 3",
   "language": "python",
   "name": "python3"
  },
  "language_info": {
   "codemirror_mode": {
    "name": "ipython",
    "version": 3
   },
   "file_extension": ".py",
   "mimetype": "text/x-python",
   "name": "python",
   "nbconvert_exporter": "python",
   "pygments_lexer": "ipython3",
   "version": "3.6.4"
  }
 },
 "nbformat": 4,
 "nbformat_minor": 2
}
