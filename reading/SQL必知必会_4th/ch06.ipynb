{
 "cells": [
  {
   "cell_type": "markdown",
   "metadata": {},
   "source": [
    "## 6.1 LIKE操作符\n",
    "&emsp;&emsp;如果想找出名称包含bean bag 的所有产品，可以构造一个通配符搜索模式，找出在产品名的任何位置出现bean bag 的产品。通配符本身实际上是SQL 的WHERE 子句中有特殊含义的字符，SQL 支持几种通配符。为在搜索子句中使用通配符，必须使用LIKE 操作符。\n",
    "\n",
    ">**通配符（wildcard）**：用来匹配值的一部分的特殊字符。\n",
    "\n",
    ">**搜索模式（search pattern）**：由字面值、通配符或两者组合构成的搜索条件。\n",
    "\n",
    ">**谓词（predicate）**：操作符何时不是操作符？答案是，它作为谓词时。从技术上说，LIKE\n",
    "是谓词而不是操作符。虽然最终的结果是相同的，但应该对此术语有所了解，以免在SQL 文献或手册中遇到此术语时不知所云。"
   ]
  },
  {
   "cell_type": "markdown",
   "metadata": {},
   "source": [
    "### 6.1.1 百分号（%）通配符\n",
    "&emsp;&emsp;最常使用的通配符是百分号（%）。在搜索串中，%表示任何字符出现任意次数：\n",
    "\n",
    ">**说明**：如果使用的是Microsoft Access，需要使用*而不是%。"
   ]
  },
  {
   "cell_type": "code",
   "execution_count": 1,
   "metadata": {},
   "outputs": [],
   "source": [
    "import sqlite3 as sql \n",
    "import pandas as pd\n",
    "\n",
    "def select_sql(query):\n",
    "    conn = sql.connect('tysql.sqlite')\n",
    "    cur = conn.cursor()\n",
    "    df = pd.read_sql(query,con=conn)\n",
    "    cur.close()\n",
    "    conn.close()\n",
    "    print(df)"
   ]
  },
  {
   "cell_type": "code",
   "execution_count": 2,
   "metadata": {},
   "outputs": [
    {
     "name": "stdout",
     "output_type": "stream",
     "text": [
      "  prod_id          prod_name\n",
      "0  BNBG01  Fish bean bag toy\n"
     ]
    }
   ],
   "source": [
    "# 从Products 表中检索prod_id, prod_name 列\n",
    "#返回prod_name以Fish起头 的行\n",
    "query = '''\n",
    "SELECT prod_id, prod_name\n",
    "FROM Products\n",
    "WHERE prod_name LIKE 'Fish%';\n",
    "'''\n",
    "select_sql(query)"
   ]
  },
  {
   "cell_type": "markdown",
   "metadata": {},
   "source": [
    ">**说明**：根据DBMS 的不同及其配置，搜索可以是区分大小写的。"
   ]
  },
  {
   "cell_type": "code",
   "execution_count": 3,
   "metadata": {},
   "outputs": [
    {
     "name": "stdout",
     "output_type": "stream",
     "text": [
      "           prod_name\n",
      "0  Fish bean bag toy\n"
     ]
    }
   ],
   "source": [
    "# 从Products 表中检索prod_name 列\n",
    "#返回prod_name以F 起头、以y 结尾的行\n",
    "query = '''\n",
    "SELECT prod_name\n",
    "FROM Products\n",
    "WHERE prod_name LIKE 'F%y';\n",
    "'''\n",
    "select_sql(query)"
   ]
  },
  {
   "cell_type": "markdown",
   "metadata": {},
   "source": [
    ">**注意**：通配符%看起来像是可以匹配任何东西，但有个例外，这就是NULL。子句`WHERE prod_name LIKE '%'`不会匹配产品名称为NULL 的行。"
   ]
  },
  {
   "cell_type": "markdown",
   "metadata": {},
   "source": [
    "### 6.1.2 下划线（_）通配符\n",
    "&emsp;&emsp;另一个有用的通配符是下划线（_）。下划线的用途与%一样，但它只匹配单个字符，而不是多个字符。\n",
    "\n",
    ">**说明**：如果使用的是Microsoft Access，需要使用?而不是_，DB2 不支持通配符_。"
   ]
  },
  {
   "cell_type": "code",
   "execution_count": 4,
   "metadata": {},
   "outputs": [
    {
     "name": "stdout",
     "output_type": "stream",
     "text": [
      "  prod_id           prod_name\n",
      "0    BR02  12 inch teddy bear\n",
      "1    BR03  18 inch teddy bear\n"
     ]
    }
   ],
   "source": [
    "# 从Products 表中检索prod_id, prod_name 列\n",
    "#返回prod_name以两个字符 + inch teddy bear 构成的行\n",
    "query = '''\n",
    "SELECT prod_id, prod_name\n",
    "FROM Products\n",
    "WHERE prod_name LIKE '__ inch teddy bear';\n",
    "'''\n",
    "select_sql(query)"
   ]
  },
  {
   "cell_type": "markdown",
   "metadata": {},
   "source": [
    "### 6.1.3 方括号（[]）通配符\n",
    "&emsp;&emsp;方括号（[]）通配符用来指定一个字符集，它必须匹配指定位置（通配符的位置）的一个字符。\n",
    "\n",
    ">**说明**：与前面描述的通配符不一样，并不是所有DBMS 都支持用来创建集合的[]。只有微软的Access 和SQL Server 支持集合。而我们使用的是SQLite ，因此不会得到预期的结果。"
   ]
  },
  {
   "cell_type": "code",
   "execution_count": 5,
   "metadata": {},
   "outputs": [
    {
     "name": "stdout",
     "output_type": "stream",
     "text": [
      "Empty DataFrame\n",
      "Columns: [cust_contact]\n",
      "Index: []\n"
     ]
    }
   ],
   "source": [
    "# 从Customers表中检索cust_contact 列\n",
    "#返回cust_contact以以J 或M 起头的行，按cust_contact 排序\n",
    "query = '''\n",
    "SELECT cust_contact\n",
    "FROM Customers\n",
    "WHERE cust_contact LIKE '[JM]%'\n",
    "ORDER BY cust_contact;\n",
    "'''\n",
    "select_sql(query)"
   ]
  },
  {
   "cell_type": "markdown",
   "metadata": {},
   "source": [
    ">**说明**：此通配符可以用前缀字符^（脱字号）来否定。"
   ]
  },
  {
   "cell_type": "markdown",
   "metadata": {},
   "source": [
    "## 6.2 使用通配符的技巧\n",
    "- 不要过度使用通配符；\n",
    "- 在确实需要使用通配符时，也尽量不要把它们用在搜索模式的开始处。把通配符置于开始处，搜索起来是最慢的；\n",
    "- 仔细注意通配符的位置，如果放错地方，可能不会返回想要的数据。"
   ]
  },
  {
   "cell_type": "markdown",
   "metadata": {},
   "source": [
    "## 6.3 小结\n",
    "&emsp;&emsp;本章学习了了什么是通配符，如何在WHERE 子句中使用SQL 通配符。"
   ]
  },
  {
   "cell_type": "code",
   "execution_count": null,
   "metadata": {},
   "outputs": [],
   "source": []
  }
 ],
 "metadata": {
  "kernelspec": {
   "display_name": "Python 3",
   "language": "python",
   "name": "python3"
  },
  "language_info": {
   "codemirror_mode": {
    "name": "ipython",
    "version": 3
   },
   "file_extension": ".py",
   "mimetype": "text/x-python",
   "name": "python",
   "nbconvert_exporter": "python",
   "pygments_lexer": "ipython3",
   "version": "3.6.4"
  }
 },
 "nbformat": 4,
 "nbformat_minor": 2
}
