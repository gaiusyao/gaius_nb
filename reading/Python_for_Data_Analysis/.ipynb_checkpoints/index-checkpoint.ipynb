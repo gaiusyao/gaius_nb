{
 "cells": [
  {
   "cell_type": "markdown",
   "metadata": {},
   "source": [
    "# 利用Python进行数据分析（第二版）\n",
    "\n",
    "- [ch02](https://nbviewer.jupyter.org/github/gaiusyao/gaius_nb/blob/master/reading/Python_for_Data_Analysis/ch02.ipynb): Python语法基础\n",
    "- [ch03](https://nbviewer.jupyter.org/github/gaiusyao/gaius_nb/blob/master/reading/Python_for_Data_Analysis/ch03.ipynb): Python的数据结构、函数和文件\n",
    "- [ch04](https://nbviewer.jupyter.org/github/gaiusyao/gaius_nb/blob/master/reading/Python_for_Data_Analysis/ch04.ipynb): NumPy基础：数组和矢量计算"
   ]
  },
  {
   "cell_type": "code",
   "execution_count": null,
   "metadata": {},
   "outputs": [],
   "source": []
  }
 ],
 "metadata": {
  "hide_input": false,
  "kernelspec": {
   "display_name": "Python 3",
   "language": "python",
   "name": "python3"
  },
  "language_info": {
   "codemirror_mode": {
    "name": "ipython",
    "version": 3
   },
   "file_extension": ".py",
   "mimetype": "text/x-python",
   "name": "python",
   "nbconvert_exporter": "python",
   "pygments_lexer": "ipython3",
   "version": "3.6.4"
  }
 },
 "nbformat": 4,
 "nbformat_minor": 2
}
