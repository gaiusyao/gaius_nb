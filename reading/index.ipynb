{
 "cells": [
  {
   "cell_type": "markdown",
   "metadata": {},
   "source": [
    "# reading: 读书笔记\n",
    "\n",
    "- [SQL必知必会_4th](https://nbviewer.jupyter.org/github/gaiusyao/gaius_nb/blob/master/reading/index.ipynb): SQL必知必会（第四版）\n",
    "- [Python_for_Data_Analysis](https://nbviewer.jupyter.org/github/gaiusyao/gaius_nb/blob/master/reading/Python_for_Data_Analysis/index.ipynb): 利用Python进行数据分析（第二版）\n",
    "- [Data Science Essentials in Python](https://nbviewer.jupyter.org/github/gaiusyao/gaius_nb/blob/master/reading/Data_Science_Essentials_in_Python/index.ipynb): Python数据科学入门"
   ]
  },
  {
   "cell_type": "code",
   "execution_count": null,
   "metadata": {},
   "outputs": [],
   "source": []
  }
 ],
 "metadata": {
  "hide_input": false,
  "kernelspec": {
   "display_name": "Python 3",
   "language": "python",
   "name": "python3"
  },
  "language_info": {
   "codemirror_mode": {
    "name": "ipython",
    "version": 3
   },
   "file_extension": ".py",
   "mimetype": "text/x-python",
   "name": "python",
   "nbconvert_exporter": "python",
   "pygments_lexer": "ipython3",
   "version": "3.6.4"
  }
 },
 "nbformat": 4,
 "nbformat_minor": 2
}
