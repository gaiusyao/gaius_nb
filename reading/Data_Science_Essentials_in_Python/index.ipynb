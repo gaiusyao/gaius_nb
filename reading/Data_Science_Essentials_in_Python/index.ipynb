{
 "cells": [
  {
   "cell_type": "markdown",
   "metadata": {},
   "source": [
    "# Python数据科学入门\n",
    "\n",
    "- [ch01](https://nbviewer.jupyter.org/github/gaiusyao/gaius_nb/blob/master/reading/Data_Science_Essentials_in_Python/ch01.ipynb): 什么是数据科学\n",
    "- [ch02](https://nbviewer.jupyter.org/github/gaiusyao/gaius_nb/blob/master/reading/Data_Science_Essentials_in_Python/ch02.ipynb): 数据科学的Python核心\n",
    "- [ch03](https://nbviewer.jupyter.org/github/gaiusyao/gaius_nb/blob/master/reading/Data_Science_Essentials_in_Python/ch03.ipynb): 使用文本数据\n",
    "- [ch04](https://nbviewer.jupyter.org/github/gaiusyao/gaius_nb/blob/master/reading/Data_Science_Essentials_in_Python/ch04.ipynb): 使用数据库\n",
    "- [ch05](https://nbviewer.jupyter.org/github/gaiusyao/gaius_nb/blob/master/reading/Data_Science_Essentials_in_Python/ch05.ipynb): 使用表格形式的数值数据\n",
    "- [ch06](https://nbviewer.jupyter.org/github/gaiusyao/gaius_nb/blob/master/reading/Data_Science_Essentials_in_Python/ch06.ipynb): 使用series和frame\n",
    "- [ch07](https://nbviewer.jupyter.org/github/gaiusyao/gaius_nb/blob/master/reading/Data_Science_Essentials_in_Python/ch07.ipynb): 使用网络数据\n",
    "- [ch08](https://nbviewer.jupyter.org/github/gaiusyao/gaius_nb/blob/master/reading/Data_Science_Essentials_in_Python/ch08.ipynb): 绘图\n",
    "- [ch09](https://nbviewer.jupyter.org/github/gaiusyao/gaius_nb/blob/master/reading/Data_Science_Essentials_in_Python/ch09.ipynb): 概率与统计\n",
    "- [ch10](https://nbviewer.jupyter.org/github/gaiusyao/gaius_nb/blob/master/reading/Data_Science_Essentials_in_Python/ch10.ipynb): 机器学习"
   ]
  },
  {
   "cell_type": "code",
   "execution_count": null,
   "metadata": {},
   "outputs": [],
   "source": []
  }
 ],
 "metadata": {
  "kernelspec": {
   "display_name": "Python 3",
   "language": "python",
   "name": "python3"
  },
  "language_info": {
   "codemirror_mode": {
    "name": "ipython",
    "version": 3
   },
   "file_extension": ".py",
   "mimetype": "text/x-python",
   "name": "python",
   "nbconvert_exporter": "python",
   "pygments_lexer": "ipython3",
   "version": "3.6.4"
  }
 },
 "nbformat": 4,
 "nbformat_minor": 2
}
