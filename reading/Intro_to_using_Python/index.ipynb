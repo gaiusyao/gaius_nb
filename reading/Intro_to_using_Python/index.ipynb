{
 "cells": [
  {
   "cell_type": "markdown",
   "metadata": {},
   "source": [
    "# Python 编程导论（第 2 版）\n",
    "\n",
    "- [ch02](https://nbviewer.jupyter.org/github/gaiusyao/gaius_nb/blob/master/reading/Intro_to_using_Python/ch02.ipynb): Python 简介\n",
    "- [ch03](https://nbviewer.jupyter.org/github/gaiusyao/gaius_nb/blob/master/reading/Intro_to_using_Python/ch03.ipynb): 一些简单的数值程序"
   ]
  },
  {
   "cell_type": "code",
   "execution_count": null,
   "metadata": {},
   "outputs": [],
   "source": []
  }
 ],
 "metadata": {
  "hide_input": false,
  "kernelspec": {
   "display_name": "Python 3",
   "language": "python",
   "name": "python3"
  },
  "language_info": {
   "codemirror_mode": {
    "name": "ipython",
    "version": 3
   },
   "file_extension": ".py",
   "mimetype": "text/x-python",
   "name": "python",
   "nbconvert_exporter": "python",
   "pygments_lexer": "ipython3",
   "version": "3.6.5"
  }
 },
 "nbformat": 4,
 "nbformat_minor": 2
}
