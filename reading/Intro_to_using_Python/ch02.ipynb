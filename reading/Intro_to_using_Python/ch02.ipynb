{
 "cells": [
  {
   "cell_type": "markdown",
   "metadata": {},
   "source": [
    "## Python 简介"
   ]
  },
  {
   "cell_type": "code",
   "execution_count": 1,
   "metadata": {},
   "outputs": [],
   "source": [
    "print('Hello World!')"
   ]
  },
  {
   "cell_type": "code",
   "execution_count": 2,
   "metadata": {},
   "outputs": [],
   "source": [
    "# int\n",
    "3 + 2"
   ]
  },
  {
   "cell_type": "code",
   "execution_count": 3,
   "metadata": {},
   "outputs": [],
   "source": [
    "# float\n",
    "3.0 + 2.0"
   ]
  },
  {
   "cell_type": "code",
   "execution_count": 4,
   "metadata": {},
   "outputs": [],
   "source": [
    "# bool\n",
    "3 != 2"
   ]
  },
  {
   "cell_type": "code",
   "execution_count": 5,
   "metadata": {},
   "outputs": [],
   "source": [
    "# 查看对象类型\n",
    "type(3.0)"
   ]
  },
  {
   "cell_type": "code",
   "execution_count": 6,
   "metadata": {},
   "outputs": [],
   "source": [
    "# 变量将名称与对象关联起来\n",
    "pi = 3.14\n",
    "radius = 11\n",
    "area = pi * (radius**2)\n",
    "radius = 14\n",
    "\n",
    "print(\" area: {0}\\n radius: {1}\\n\".format(area, radius))"
   ]
  },
  {
   "cell_type": "code",
   "execution_count": 7,
   "metadata": {},
   "outputs": [],
   "source": [
    "# Python 中注释的写法\n",
    "\n",
    "side = 1 #单位正方形的边长\n",
    "radius = 1 #单位圆形的半径\n",
    "\n",
    "#从圆C的面积中减去正方形S的面积\n",
    "areaC = pi*radius**2\n",
    "areaS = side*side\n",
    "difference = areaS - areaC\n",
    "\n",
    "print(difference)"
   ]
  },
  {
   "cell_type": "code",
   "execution_count": 8,
   "metadata": {},
   "outputs": [],
   "source": [
    "# 多重赋值\n",
    "x, y = 2, 3\n",
    "x, y = y, x\n",
    "print ('x =', x)\n",
    "print ('y =', y)"
   ]
  },
  {
   "cell_type": "code",
   "execution_count": 9,
   "metadata": {},
   "outputs": [],
   "source": [
    "# 条件语句\n",
    "if x%2 == 0:\n",
    "    print('Even')\n",
    "else:\n",
    "    print('Odd')"
   ]
  },
  {
   "cell_type": "code",
   "execution_count": 10,
   "metadata": {},
   "outputs": [],
   "source": [
    "# 嵌套条件语句\n",
    "if x%2 == 0:\n",
    "    if x%3 == 0:\n",
    "        print('Divisible by 2 and 3')\n",
    "    else:\n",
    "        print('Divisible by 2 and not by 3')\n",
    "elif x%3 == 0:\n",
    "    print('Divisible by 3 and not by 2')"
   ]
  },
  {
   "cell_type": "code",
   "execution_count": 11,
   "metadata": {},
   "outputs": [],
   "source": [
    "'a'"
   ]
  },
  {
   "cell_type": "code",
   "execution_count": 12,
   "metadata": {},
   "outputs": [],
   "source": [
    "3 * 4"
   ]
  },
  {
   "cell_type": "code",
   "execution_count": 13,
   "metadata": {},
   "outputs": [],
   "source": [
    "3 * 'a'"
   ]
  },
  {
   "cell_type": "code",
   "execution_count": 14,
   "metadata": {},
   "outputs": [],
   "source": [
    "'a' + 'a'"
   ]
  },
  {
   "cell_type": "code",
   "execution_count": 15,
   "metadata": {},
   "outputs": [],
   "source": [
    "try:\n",
    "    a\n",
    "except Exception as e:\n",
    "    print(e)"
   ]
  },
  {
   "cell_type": "code",
   "execution_count": 16,
   "metadata": {},
   "outputs": [],
   "source": [
    "try:\n",
    "    'a' ** 'a'\n",
    "except Exception as e:\n",
    "    print(e)"
   ]
  },
  {
   "cell_type": "code",
   "execution_count": 17,
   "metadata": {},
   "outputs": [
    {
     "name": "stdout",
     "output_type": "stream",
     "text": [
      "Enter your name: Gaius\n"
     ]
    }
   ],
   "source": [
    "# 使用 input() 输入\n",
    "name = input('Enter your name: ')"
   ]
  },
  {
   "cell_type": "code",
   "execution_count": 18,
   "metadata": {},
   "outputs": [
    {
     "name": "stdout",
     "output_type": "stream",
     "text": [
      "Are you really Gaius?\n"
     ]
    }
   ],
   "source": [
    "print('Are you really ' + name + '?')"
   ]
  },
  {
   "cell_type": "code",
   "execution_count": 19,
   "metadata": {},
   "outputs": [
    {
     "name": "stdout",
     "output_type": "stream",
     "text": [
      "Enter an int: 3\n"
     ]
    }
   ],
   "source": [
    "# input() 输入的是字符串\n",
    "n = input('Enter an int: ')"
   ]
  },
  {
   "cell_type": "code",
   "execution_count": 20,
   "metadata": {},
   "outputs": [
    {
     "data": {
      "text/plain": [
       "str"
      ]
     },
     "execution_count": 20,
     "metadata": {},
     "output_type": "execute_result"
    }
   ],
   "source": [
    "type(n)"
   ]
  },
  {
   "cell_type": "code",
   "execution_count": 21,
   "metadata": {},
   "outputs": [
    {
     "data": {
      "text/plain": [
       "3"
      ]
     },
     "execution_count": 21,
     "metadata": {},
     "output_type": "execute_result"
    }
   ],
   "source": [
    "# 转换为整型\n",
    "int(n)"
   ]
  },
  {
   "cell_type": "code",
   "execution_count": 22,
   "metadata": {},
   "outputs": [
    {
     "name": "stdout",
     "output_type": "stream",
     "text": [
      "Mluvíš anglicky?\n",
      "क्या आप अंग्रेज़ी बोलते ह􀉇?\n"
     ]
    }
   ],
   "source": [
    "# 使用 UTF-8 编码\n",
    "\n",
    "# -*- coding: utf-8 -*-\n",
    "\n",
    "print('Mluvíš anglicky?')\n",
    "print('क्या आप अंग्रेज़ी बोलते ह􀉇?')"
   ]
  },
  {
   "cell_type": "code",
   "execution_count": 23,
   "metadata": {},
   "outputs": [
    {
     "name": "stdout",
     "output_type": "stream",
     "text": [
      "3 * 3 = 9\n"
     ]
    }
   ],
   "source": [
    "# 迭代\n",
    "x = 3\n",
    "ans = 0\n",
    "itersLeft = x\n",
    "while (itersLeft != 0):\n",
    "    ans = ans + x\n",
    "    itersLeft = itersLeft - 1\n",
    "print(str(x) + ' * ' + str(x) + ' = ' + str(ans))"
   ]
  },
  {
   "cell_type": "code",
   "execution_count": 24,
   "metadata": {},
   "outputs": [
    {
     "name": "stdout",
     "output_type": "stream",
     "text": [
      "How many times should I print the letter X? 42\n",
      "XXXXXXXXXXXXXXXXXXXXXXXXXXXXXXXXXXXXXXXXXX\n"
     ]
    }
   ],
   "source": [
    "# 迭代练习\n",
    "numXs = int(input('How many times should I print the letter X? '))\n",
    "toPrint = ''\n",
    "\n",
    "while(numXs != 0):\n",
    "    toPrint += 'X'\n",
    "    numXs = numXs - 1\n",
    "\n",
    "print(toPrint)"
   ]
  },
  {
   "cell_type": "code",
   "execution_count": 26,
   "metadata": {},
   "outputs": [
    {
     "name": "stdout",
     "output_type": "stream",
     "text": [
      "Enter 10 int (1/10):3\n",
      "Enter 10 int (2/10):4\n",
      "Enter 10 int (3/10):5\n",
      "Enter 10 int (4/10):6\n",
      "Enter 10 int (5/10):7\n",
      "Enter 10 int (6/10):8\n",
      "Enter 10 int (7/10):9\n",
      "Enter 10 int (8/10):1\n",
      "Enter 10 int (9/10):2\n",
      "Enter 10 int (10/10):42\n",
      "Maximum odd number: 9\n"
     ]
    }
   ],
   "source": [
    "# 编写一个程序，要求用户输入10个整数，然后输出其中最大的奇数。如果用户没有输入奇数，则输出一个消息进行说明\n",
    "n = 10\n",
    "nInt = []\n",
    "oddNum = []\n",
    "\n",
    "for i in range(n):\n",
    "    num = input(\"Enter {0} int ({1}/{2}):\".format(n, i+1, n))\n",
    "    nInt.append(int(num))\n",
    "\n",
    "for item in nInt:\n",
    "    if item%2 != 0:\n",
    "        oddNum.append(item)\n",
    "\n",
    "if len(oddNum):\n",
    "    print(\"Maximum odd number: {0}\".format(max(oddNum)))\n",
    "else:\n",
    "    print(\"The user did not enter an odd number\")"
   ]
  },
  {
   "cell_type": "code",
   "execution_count": null,
   "metadata": {},
   "outputs": [],
   "source": []
  }
 ],
 "metadata": {
  "hide_input": false,
  "kernelspec": {
   "display_name": "Python 3",
   "language": "python",
   "name": "python3"
  },
  "language_info": {
   "codemirror_mode": {
    "name": "ipython",
    "version": 3
   },
   "file_extension": ".py",
   "mimetype": "text/x-python",
   "name": "python",
   "nbconvert_exporter": "python",
   "pygments_lexer": "ipython3",
   "version": "3.6.5"
  }
 },
 "nbformat": 4,
 "nbformat_minor": 2
}
