{
 "cells": [
  {
   "cell_type": "markdown",
   "metadata": {},
   "source": [
    "# 1 探索性数据分析"
   ]
  },
  {
   "cell_type": "markdown",
   "metadata": {},
   "source": [
    "## 1.1 统计学方法"
   ]
  },
  {
   "cell_type": "markdown",
   "metadata": {},
   "source": [
    "&emsp;&emsp;使用以下统计学工具解决轶事证据的局限性：\n",
    "- 数据收集\n",
    "- 描述性统计\n",
    "- 探索性数据分析\n",
    "- 估计 *#使用样本数据来估计一般总体的统计特征*\n",
    "- 假设检验"
   ]
  },
  {
   "cell_type": "markdown",
   "metadata": {},
   "source": [
    "## 1.2 全国家庭增长调查"
   ]
  },
  {
   "cell_type": "markdown",
   "metadata": {},
   "source": [
    "&emsp;&emsp;美国疾病控制与预防中心（CDC），从 1973 年起开始进行全国家庭增长调查（NSFG），以收集“与家庭生活、婚姻状况、妊娠状况、生育情况、避孕情况，以及两性健康相关的信息”。\n",
    "\n",
    "&emsp;&emsp;全国家庭增长调查是一项**横截面（cross-sectional）研究**，捕获的是一个群组在某一个时刻的快照。而在一个时间段内重复观察一个群组则是**纵向（longitudinal）研究**。"
   ]
  },
  {
   "cell_type": "markdown",
   "metadata": {},
   "source": [
    "## 1.3 相关函数"
   ]
  },
  {
   "cell_type": "markdown",
   "metadata": {},
   "source": [
    "&emsp;&emsp;在导入数据并进行分析之前，先完成几个基本的函数。"
   ]
  },
  {
   "cell_type": "code",
   "execution_count": 1,
   "metadata": {},
   "outputs": [],
   "source": [
    "from __future__ import print_function, division\n",
    "\n",
    "import sys\n",
    "import numpy as np\n",
    "import thinkstats2 #包含了本书用到的很多类和函数\n",
    "\n",
    "from collections import defaultdict"
   ]
  },
  {
   "cell_type": "code",
   "execution_count": 2,
   "metadata": {},
   "outputs": [],
   "source": [
    "def ReadFemPreg(dct_file, dat_file):\n",
    "    \"\"\"\n",
    "    读取 NSFG 妊娠数据\n",
    "\n",
    "    dct_file: string file name\n",
    "    dat_file: string file name\n",
    "\n",
    "    returns: DataFrame\n",
    "    \"\"\"\n",
    "    dct = thinkstats2.ReadStataDct(dct_file)\n",
    "    df = dct.ReadFixedWidth(dat_file, compression='gzip')\n",
    "    CleanFemPreg(df)\n",
    "    return df"
   ]
  },
  {
   "cell_type": "code",
   "execution_count": 3,
   "metadata": {},
   "outputs": [],
   "source": [
    "def CleanFemPreg(df):\n",
    "    \"\"\"\n",
    "    对妊娠数据框中进行数据清洗\n",
    "\n",
    "    df: DataFrame\n",
    "    \"\"\"\n",
    "    # 将每个 agepreg 除以 100，从而获得以年为单位的浮点数值\n",
    "    df.agepreg /= 100.0\n",
    "\n",
    "    # 将超过 20 磅的体重替换为 NaN\n",
    "    df.loc[df.birthwgt_lb > 20, 'birthwgt_lb'] = np.nan\n",
    "    \n",
    "    # 用 NaN 替换  'not ascertained', 'refused', 'don't know' \n",
    "    na_vals = [97, 98, 99]\n",
    "    df.birthwgt_lb.replace(na_vals, np.nan, inplace=True)\n",
    "    df.birthwgt_oz.replace(na_vals, np.nan, inplace=True)\n",
    "    df.hpagelb.replace(na_vals, np.nan, inplace=True)\n",
    "\n",
    "    df.babysex.replace([7, 9], np.nan, inplace=True)\n",
    "    df.nbrnaliv.replace([9], np.nan, inplace=True)\n",
    "\n",
    "    # 将体重单位统一换成磅\n",
    "    df['totalwgt_lb'] = df.birthwgt_lb + df.birthwgt_oz / 16.0    \n",
    "\n",
    "    # 由于 ReadStataDct 中的错误，最后一个变量被剪裁，将其替换为 NaN\n",
    "    df.cmintvw = np.nan"
   ]
  },
  {
   "cell_type": "code",
   "execution_count": 4,
   "metadata": {},
   "outputs": [],
   "source": [
    "def MakePregMap(df):\n",
    "    \"\"\"\n",
    "    制作一个从 caseid 到妊娠数据的索引地图\n",
    "\n",
    "    df: DataFrame\n",
    "\n",
    "    returns: dict that maps from caseid to list of indices into `preg`\n",
    "    \"\"\"\n",
    "    d = defaultdict(list)\n",
    "    for index, caseid in df.caseid.iteritems():\n",
    "        d[caseid].append(index)\n",
    "    return d"
   ]
  },
  {
   "cell_type": "markdown",
   "metadata": {},
   "source": [
    "## 1.4 DataFrame"
   ]
  },
  {
   "cell_type": "markdown",
   "metadata": {},
   "source": [
    "&emsp;&emsp;使用 `ReadFixedWidth` 读取妊娠数据，返回一个 `DataFrame` 对象。"
   ]
  },
  {
   "cell_type": "code",
   "execution_count": 5,
   "metadata": {},
   "outputs": [],
   "source": [
    "df = ReadFemPreg('2002FemPreg.dct', '2002FemPreg.dat.gz')"
   ]
  },
  {
   "cell_type": "code",
   "execution_count": 6,
   "metadata": {
    "scrolled": true
   },
   "outputs": [
    {
     "data": {
      "text/html": [
       "<div>\n",
       "<style scoped>\n",
       "    .dataframe tbody tr th:only-of-type {\n",
       "        vertical-align: middle;\n",
       "    }\n",
       "\n",
       "    .dataframe tbody tr th {\n",
       "        vertical-align: top;\n",
       "    }\n",
       "\n",
       "    .dataframe thead th {\n",
       "        text-align: right;\n",
       "    }\n",
       "</style>\n",
       "<table border=\"1\" class=\"dataframe\">\n",
       "  <thead>\n",
       "    <tr style=\"text-align: right;\">\n",
       "      <th></th>\n",
       "      <th>caseid</th>\n",
       "      <th>pregordr</th>\n",
       "      <th>howpreg_n</th>\n",
       "      <th>howpreg_p</th>\n",
       "      <th>moscurrp</th>\n",
       "      <th>nowprgdk</th>\n",
       "      <th>pregend1</th>\n",
       "      <th>pregend2</th>\n",
       "      <th>nbrnaliv</th>\n",
       "      <th>multbrth</th>\n",
       "      <th>...</th>\n",
       "      <th>laborfor_i</th>\n",
       "      <th>religion_i</th>\n",
       "      <th>metro_i</th>\n",
       "      <th>basewgt</th>\n",
       "      <th>adj_mod_basewgt</th>\n",
       "      <th>finalwgt</th>\n",
       "      <th>secu_p</th>\n",
       "      <th>sest</th>\n",
       "      <th>cmintvw</th>\n",
       "      <th>totalwgt_lb</th>\n",
       "    </tr>\n",
       "  </thead>\n",
       "  <tbody>\n",
       "    <tr>\n",
       "      <th>0</th>\n",
       "      <td>1</td>\n",
       "      <td>1</td>\n",
       "      <td>NaN</td>\n",
       "      <td>NaN</td>\n",
       "      <td>NaN</td>\n",
       "      <td>NaN</td>\n",
       "      <td>6.0</td>\n",
       "      <td>NaN</td>\n",
       "      <td>1.0</td>\n",
       "      <td>NaN</td>\n",
       "      <td>...</td>\n",
       "      <td>0</td>\n",
       "      <td>0</td>\n",
       "      <td>0</td>\n",
       "      <td>3410.389399</td>\n",
       "      <td>3869.349602</td>\n",
       "      <td>6448.271112</td>\n",
       "      <td>2</td>\n",
       "      <td>9</td>\n",
       "      <td>NaN</td>\n",
       "      <td>8.8125</td>\n",
       "    </tr>\n",
       "    <tr>\n",
       "      <th>1</th>\n",
       "      <td>1</td>\n",
       "      <td>2</td>\n",
       "      <td>NaN</td>\n",
       "      <td>NaN</td>\n",
       "      <td>NaN</td>\n",
       "      <td>NaN</td>\n",
       "      <td>6.0</td>\n",
       "      <td>NaN</td>\n",
       "      <td>1.0</td>\n",
       "      <td>NaN</td>\n",
       "      <td>...</td>\n",
       "      <td>0</td>\n",
       "      <td>0</td>\n",
       "      <td>0</td>\n",
       "      <td>3410.389399</td>\n",
       "      <td>3869.349602</td>\n",
       "      <td>6448.271112</td>\n",
       "      <td>2</td>\n",
       "      <td>9</td>\n",
       "      <td>NaN</td>\n",
       "      <td>7.8750</td>\n",
       "    </tr>\n",
       "    <tr>\n",
       "      <th>2</th>\n",
       "      <td>2</td>\n",
       "      <td>1</td>\n",
       "      <td>NaN</td>\n",
       "      <td>NaN</td>\n",
       "      <td>NaN</td>\n",
       "      <td>NaN</td>\n",
       "      <td>5.0</td>\n",
       "      <td>NaN</td>\n",
       "      <td>3.0</td>\n",
       "      <td>5.0</td>\n",
       "      <td>...</td>\n",
       "      <td>0</td>\n",
       "      <td>0</td>\n",
       "      <td>0</td>\n",
       "      <td>7226.301740</td>\n",
       "      <td>8567.549110</td>\n",
       "      <td>12999.542264</td>\n",
       "      <td>2</td>\n",
       "      <td>12</td>\n",
       "      <td>NaN</td>\n",
       "      <td>9.1250</td>\n",
       "    </tr>\n",
       "    <tr>\n",
       "      <th>3</th>\n",
       "      <td>2</td>\n",
       "      <td>2</td>\n",
       "      <td>NaN</td>\n",
       "      <td>NaN</td>\n",
       "      <td>NaN</td>\n",
       "      <td>NaN</td>\n",
       "      <td>6.0</td>\n",
       "      <td>NaN</td>\n",
       "      <td>1.0</td>\n",
       "      <td>NaN</td>\n",
       "      <td>...</td>\n",
       "      <td>0</td>\n",
       "      <td>0</td>\n",
       "      <td>0</td>\n",
       "      <td>7226.301740</td>\n",
       "      <td>8567.549110</td>\n",
       "      <td>12999.542264</td>\n",
       "      <td>2</td>\n",
       "      <td>12</td>\n",
       "      <td>NaN</td>\n",
       "      <td>7.0000</td>\n",
       "    </tr>\n",
       "    <tr>\n",
       "      <th>4</th>\n",
       "      <td>2</td>\n",
       "      <td>3</td>\n",
       "      <td>NaN</td>\n",
       "      <td>NaN</td>\n",
       "      <td>NaN</td>\n",
       "      <td>NaN</td>\n",
       "      <td>6.0</td>\n",
       "      <td>NaN</td>\n",
       "      <td>1.0</td>\n",
       "      <td>NaN</td>\n",
       "      <td>...</td>\n",
       "      <td>0</td>\n",
       "      <td>0</td>\n",
       "      <td>0</td>\n",
       "      <td>7226.301740</td>\n",
       "      <td>8567.549110</td>\n",
       "      <td>12999.542264</td>\n",
       "      <td>2</td>\n",
       "      <td>12</td>\n",
       "      <td>NaN</td>\n",
       "      <td>6.1875</td>\n",
       "    </tr>\n",
       "  </tbody>\n",
       "</table>\n",
       "<p>5 rows × 244 columns</p>\n",
       "</div>"
      ],
      "text/plain": [
       "   caseid  pregordr  howpreg_n  howpreg_p  moscurrp  nowprgdk  pregend1  \\\n",
       "0       1         1        NaN        NaN       NaN       NaN       6.0   \n",
       "1       1         2        NaN        NaN       NaN       NaN       6.0   \n",
       "2       2         1        NaN        NaN       NaN       NaN       5.0   \n",
       "3       2         2        NaN        NaN       NaN       NaN       6.0   \n",
       "4       2         3        NaN        NaN       NaN       NaN       6.0   \n",
       "\n",
       "   pregend2  nbrnaliv  multbrth     ...       laborfor_i  religion_i  metro_i  \\\n",
       "0       NaN       1.0       NaN     ...                0           0        0   \n",
       "1       NaN       1.0       NaN     ...                0           0        0   \n",
       "2       NaN       3.0       5.0     ...                0           0        0   \n",
       "3       NaN       1.0       NaN     ...                0           0        0   \n",
       "4       NaN       1.0       NaN     ...                0           0        0   \n",
       "\n",
       "       basewgt  adj_mod_basewgt      finalwgt  secu_p  sest  cmintvw  \\\n",
       "0  3410.389399      3869.349602   6448.271112       2     9      NaN   \n",
       "1  3410.389399      3869.349602   6448.271112       2     9      NaN   \n",
       "2  7226.301740      8567.549110  12999.542264       2    12      NaN   \n",
       "3  7226.301740      8567.549110  12999.542264       2    12      NaN   \n",
       "4  7226.301740      8567.549110  12999.542264       2    12      NaN   \n",
       "\n",
       "   totalwgt_lb  \n",
       "0       8.8125  \n",
       "1       7.8750  \n",
       "2       9.1250  \n",
       "3       7.0000  \n",
       "4       6.1875  \n",
       "\n",
       "[5 rows x 244 columns]"
      ]
     },
     "execution_count": 6,
     "metadata": {},
     "output_type": "execute_result"
    }
   ],
   "source": [
    "# 查看数据框前 5 行数据\n",
    "df.head()"
   ]
  },
  {
   "cell_type": "markdown",
   "metadata": {},
   "source": [
    "&emsp;&emsp;`df` 的 `columns` 属性将列名返回为一个 `Index` 对象。"
   ]
  },
  {
   "cell_type": "code",
   "execution_count": 7,
   "metadata": {},
   "outputs": [
    {
     "data": {
      "text/plain": [
       "Index(['caseid', 'pregordr', 'howpreg_n', 'howpreg_p', 'moscurrp', 'nowprgdk',\n",
       "       'pregend1', 'pregend2', 'nbrnaliv', 'multbrth',\n",
       "       ...\n",
       "       'laborfor_i', 'religion_i', 'metro_i', 'basewgt', 'adj_mod_basewgt',\n",
       "       'finalwgt', 'secu_p', 'sest', 'cmintvw', 'totalwgt_lb'],\n",
       "      dtype='object', length=244)"
      ]
     },
     "execution_count": 7,
     "metadata": {},
     "output_type": "execute_result"
    }
   ],
   "source": [
    "# 查看数据框的列名\n",
    "df.columns"
   ]
  },
  {
   "cell_type": "markdown",
   "metadata": {},
   "source": [
    "&emsp;&emsp;可以使用列名作为键值，访问数据框其中一列，这将返回一个 `Series` 对象。"
   ]
  },
  {
   "cell_type": "code",
   "execution_count": 8,
   "metadata": {},
   "outputs": [
    {
     "data": {
      "text/plain": [
       "pandas.core.series.Series"
      ]
     },
     "execution_count": 8,
     "metadata": {},
     "output_type": "execute_result"
    }
   ],
   "source": [
    "pregordr = df['pregordr']\n",
    "type(pregordr)"
   ]
  },
  {
   "cell_type": "markdown",
   "metadata": {},
   "source": [
    "&emsp;&emsp;可以使用整数的 `index` 和 `slice` 值访问 `Series` 中的元素。"
   ]
  },
  {
   "cell_type": "code",
   "execution_count": 9,
   "metadata": {},
   "outputs": [
    {
     "data": {
      "text/plain": [
       "1"
      ]
     },
     "execution_count": 9,
     "metadata": {},
     "output_type": "execute_result"
    }
   ],
   "source": [
    "pregordr[42]"
   ]
  },
  {
   "cell_type": "code",
   "execution_count": 10,
   "metadata": {},
   "outputs": [
    {
     "data": {
      "text/plain": [
       "2    1\n",
       "3    2\n",
       "4    3\n",
       "Name: pregordr, dtype: int64"
      ]
     },
     "execution_count": 10,
     "metadata": {},
     "output_type": "execute_result"
    }
   ],
   "source": [
    "pregordr[2:5]"
   ]
  },
  {
   "cell_type": "markdown",
   "metadata": {},
   "source": [
    "&emsp;&emsp; 也可以使用点标记法来访问 `DataFrame` 中的列。"
   ]
  },
  {
   "cell_type": "code",
   "execution_count": 11,
   "metadata": {},
   "outputs": [
    {
     "data": {
      "text/plain": [
       "pandas.core.series.Series"
      ]
     },
     "execution_count": 11,
     "metadata": {},
     "output_type": "execute_result"
    }
   ],
   "source": [
    "pregordr = df.pregordr\n",
    "type(pregordr)"
   ]
  },
  {
   "cell_type": "markdown",
   "metadata": {},
   "source": [
    "## 1.5 变量"
   ]
  },
  {
   "cell_type": "markdown",
   "metadata": {},
   "source": [
    "&emsp;&emsp;此次探索性分析将用到数据框中的以下变量：\n",
    "- caseid：调查参与者的整数 ID\n",
    "- prglength：妊娠周数 *#整数*\n",
    "- outcome：怀孕结果的整数代码 *# 1 代表成功生产*\n",
    "- pregordr：妊娠的顺序号\n",
    "- birthord：成功生产的顺序号\n",
    "- birthwgt_lb：新生儿体重的磅部分数值\n",
    "- birthwgt_oz：新生儿体重的盎司部分数值\n",
    "- agepreg：妊娠结束时母亲的年龄\n",
    "- finalwgt：调查参与者在全美人口中代表的人数 *#浮点数*"
   ]
  },
  {
   "cell_type": "markdown",
   "metadata": {},
   "source": [
    "## 1.6 数据变换"
   ]
  },
  {
   "cell_type": "markdown",
   "metadata": {},
   "source": [
    "&emsp;&emsp;导入数据时，经常需要检查数据中是否存在错误或缺失值，处理特殊值，将数据转换为不同的格式并进行计算。这些操作都称为**数据清洗（data cleaning）**。在导入妊娠数据时，使用了 `CleanFemPreg` 函数进行数据清洗，详见 1.3。"
   ]
  },
  {
   "cell_type": "markdown",
   "metadata": {},
   "source": [
    "## 1.7 数据验证"
   ]
  },
  {
   "cell_type": "markdown",
   "metadata": {},
   "source": [
    "&emsp;&emsp;数据验证的方法之一是计算基本的统计量，并与已发布的结果进行比较。例如 NSFG 的代码本为每个变量提供了概要表，如 `outcome` 变量：\n",
    "\n",
    "value | label | Total \n",
    "------ | ------ | ------\n",
    "1 | LIVE BIRTH | 9148\n",
    "2 | INDUCED ABORTION | 1862\n",
    "3 | STILLBIRTH | 120\n",
    "4 | MISCARRIAGE | 1921\n",
    "5 | ECTOPIC PREGNANCY | 190\n",
    "6 | CURRENT PREGNANCY | 352\n",
    "\n",
    "&emsp;&emsp;使用 `value_counts` 方法，将结果与已发布数据进行比较："
   ]
  },
  {
   "cell_type": "code",
   "execution_count": 12,
   "metadata": {},
   "outputs": [
    {
     "data": {
      "text/plain": [
       "1    9148\n",
       "2    1862\n",
       "3     120\n",
       "4    1921\n",
       "5     190\n",
       "6     352\n",
       "Name: outcome, dtype: int64"
      ]
     },
     "execution_count": 12,
     "metadata": {},
     "output_type": "execute_result"
    }
   ],
   "source": [
    "df.outcome.value_counts().sort_index()"
   ]
  },
  {
   "cell_type": "markdown",
   "metadata": {},
   "source": [
    "## 1.8 解释数据"
   ]
  },
  {
   "cell_type": "markdown",
   "metadata": {},
   "source": [
    "&emsp;&emsp;想要有效使用数据，就必须同时在两个层面上思考问题：统计学层面和上下文层面。\n",
    "\n",
    "&emsp;&emsp;以一位调查参与者的 `outcome` 序列为例："
   ]
  },
  {
   "cell_type": "code",
   "execution_count": 13,
   "metadata": {},
   "outputs": [],
   "source": [
    "preg_map = MakePregMap(df)"
   ]
  },
  {
   "cell_type": "code",
   "execution_count": 14,
   "metadata": {},
   "outputs": [],
   "source": [
    "caseid = 10229"
   ]
  },
  {
   "cell_type": "code",
   "execution_count": 15,
   "metadata": {},
   "outputs": [],
   "source": [
    "indices = preg_map[caseid]"
   ]
  },
  {
   "cell_type": "code",
   "execution_count": 16,
   "metadata": {},
   "outputs": [
    {
     "data": {
      "text/plain": [
       "array([4, 4, 4, 4, 4, 4, 1], dtype=int64)"
      ]
     },
     "execution_count": 16,
     "metadata": {},
     "output_type": "execute_result"
    }
   ],
   "source": [
    "df.outcome[indices].values"
   ]
  },
  {
   "cell_type": "markdown",
   "metadata": {},
   "source": [
    "&emsp;&emsp;结果中的 1 代表成功分娩， 4 代表流产。从统计学上来看，这位调查者并无异常，流产并不少见。但联系上下文，这数据向我们说明了一位坚强的妇女，在流产了 6 次之后，终于成功生下孩子。"
   ]
  },
  {
   "cell_type": "markdown",
   "metadata": {},
   "source": [
    "## 1.9 相关术语"
   ]
  },
  {
   "cell_type": "markdown",
   "metadata": {},
   "source": [
    "> - **轶事证据**（*anecdotalevidence*）\n",
    "> \n",
    "> &emsp;&emsp;证据是来自轶事事件，由于观测数量比较小，且在选择数据和确认数据时存在偏倚，不精确，这种证据有可能是不可靠的。轶事证据是一种对常见现象的不太有把握的证据，然而，对于一些特例现象，轶事证据常常被广泛接受。\n",
    "> \n",
    "> - **总体**（*population*）\n",
    ">\n",
    "> &emsp;&emsp;在研究中，我们感兴趣的群组。\n",
    "> \n",
    "> - **横截面研究**（*cross-sectional study*）\n",
    ">\n",
    "> &emsp;&emsp;收集一个总体在某个特定时间点的数据研究。\n",
    "> \n",
    "> - **周期**（*cycle*）\n",
    ">\n",
    "> &emsp;&emsp;在重复进行的横截面研究中，每次研究被称为一个周期。\n",
    "> \n",
    "> - **纵向研究**（*longtitudinal study*）\n",
    ">\n",
    "> &emsp;&emsp;在一段时间内跟踪一个总体的研究，从同一个群体重复收集数据。\n",
    "> \n",
    "> - **记录**（*record*）\n",
    ">\n",
    "> &emsp;&emsp;在数据集中，关于单个人或其他对象的信息集合。\n",
    "> \n",
    "> - **调查参与人**（*respondent*）\n",
    ">\n",
    "> &emsp;&emsp;参与调查的人。\n",
    "> \n",
    "> - **样本**（*sample*）\n",
    ">\n",
    "> &emsp;&emsp;总体中用于数据收集的一个子集。\n",
    "> \n",
    "> - **有代表性**（*representative*）\n",
    ">\n",
    "> &emsp;&emsp;如果总体中每个成员被选入样本的机会都均等，那么这个样本就是有代表性的。\n",
    "> \n",
    "> - **原始数据**（*raw data*）\n",
    ">\n",
    "> &emsp;&emsp;没有经过或只经过少许检查、计算或解释，直接收集和记录的值。\n",
    "> \n",
    "> - **过度抽样**（*oversampling*）\n",
    ">\n",
    "> &emsp;&emsp;一种通过增加一个子总体的样本数来避免因样本规模过小产生错误的技术。\n",
    "> \n",
    "> - **重编码**（*recode*）\n",
    ">\n",
    "> &emsp;&emsp;通过计算和应用于原始数据的其他逻辑生成的值。\n",
    "> \n",
    "> - **数据清洗**（*data cleaning*）\n",
    ">\n",
    "> &emsp;&emsp;数据处理过程，包括数据验证、错误检查，以及数据类型和表示的转换等。"
   ]
  }
 ],
 "metadata": {
  "hide_input": false,
  "kernelspec": {
   "display_name": "Python 3",
   "language": "python",
   "name": "python3"
  },
  "language_info": {
   "codemirror_mode": {
    "name": "ipython",
    "version": 3
   },
   "file_extension": ".py",
   "mimetype": "text/x-python",
   "name": "python",
   "nbconvert_exporter": "python",
   "pygments_lexer": "ipython3",
   "version": "3.6.5"
  }
 },
 "nbformat": 4,
 "nbformat_minor": 2
}
