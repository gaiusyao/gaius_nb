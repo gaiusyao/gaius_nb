{
 "cells": [
  {
   "cell_type": "markdown",
   "metadata": {},
   "source": [
    "# 2 分布"
   ]
  },
  {
   "cell_type": "markdown",
   "metadata": {},
   "source": [
    "## 2.1 表示直方图"
   ]
  },
  {
   "cell_type": "markdown",
   "metadata": {},
   "source": [
    "&emsp;&emsp;Think_Stats 的作者为本书编写了一个 `thinkstats2.py`，提供了书中需要用到的各种类和函数，其中的 `Hist` 类，用于表示直方图并提供操作方法。"
   ]
  },
  {
   "cell_type": "markdown",
   "metadata": {},
   "source": [
    "``` python\n",
    "class Hist(_DictWrapper):\n",
    "    \"\"\"\n",
    "    用于表示直方图，即展示每个值到频数的图形\n",
    "\n",
    "    参数可以是序列、字典、pandas 的 Series 对象，或者另一个 Hist 对象\n",
    "    \"\"\"\n",
    "    def Freq(self, x):\n",
    "        \"\"\"\n",
    "        获取与值x关联的频率\n",
    "\n",
    "        Args:\n",
    "            x: number value\n",
    "\n",
    "        Returns:\n",
    "            int frequency\n",
    "        \"\"\"\n",
    "        return self.d.get(x, 0)\n",
    "\n",
    "    def Freqs(self, xs):\n",
    "        \"\"\"\n",
    "        获取一系列值的频率\n",
    "        \"\"\"\n",
    "        return [self.Freq(x) for x in xs]\n",
    "\n",
    "    def IsSubset(self, other):\n",
    "        \"\"\"\n",
    "        检查此直方图中的值是否为其子集给定直方图中的值\n",
    "        \"\"\"\n",
    "        for val, freq in self.Items():\n",
    "            if freq > other.Freq(val):\n",
    "                return False\n",
    "        return True\n",
    "\n",
    "    def Subtract(self, other):\n",
    "        \"\"\"\n",
    "        从此直方图中减去给定直方图中的值\n",
    "        \"\"\"\n",
    "        for val, freq in other.Items():\n",
    "            self.Incr(val, -freq)\n",
    "```"
   ]
  },
  {
   "cell_type": "markdown",
   "metadata": {},
   "source": [
    "&emsp;&emsp;初始化一个 `Hist` 对象："
   ]
  },
  {
   "cell_type": "code",
   "execution_count": 1,
   "metadata": {},
   "outputs": [
    {
     "data": {
      "text/plain": [
       "Hist({1: 1, 2: 2, 3: 1, 5: 1})"
      ]
     },
     "execution_count": 1,
     "metadata": {},
     "output_type": "execute_result"
    }
   ],
   "source": [
    "import thinkstats2\n",
    "\n",
    "hist = thinkstats2.Hist([1, 2, 2, 3, 5])\n",
    "hist"
   ]
  },
  {
   "cell_type": "markdown",
   "metadata": {},
   "source": [
    "&emsp;&emsp;调用 `Hist` 对象的 `Freq` 方法，返回传入的参数值的频数。"
   ]
  },
  {
   "cell_type": "code",
   "execution_count": 2,
   "metadata": {},
   "outputs": [
    {
     "data": {
      "text/plain": [
       "2"
      ]
     },
     "execution_count": 2,
     "metadata": {},
     "output_type": "execute_result"
    }
   ],
   "source": [
    "hist.Freq(2)"
   ]
  },
  {
   "cell_type": "markdown",
   "metadata": {},
   "source": [
    "&emsp;&emsp;使用方括号操作符的结果也是一样。"
   ]
  },
  {
   "cell_type": "code",
   "execution_count": 3,
   "metadata": {},
   "outputs": [
    {
     "data": {
      "text/plain": [
       "2"
      ]
     },
     "execution_count": 3,
     "metadata": {},
     "output_type": "execute_result"
    }
   ],
   "source": [
    "hist[2]"
   ]
  },
  {
   "cell_type": "markdown",
   "metadata": {},
   "source": [
    "&emsp;&emsp;如果传入的参数值不存在，频数则是 0。"
   ]
  },
  {
   "cell_type": "code",
   "execution_count": 4,
   "metadata": {},
   "outputs": [
    {
     "data": {
      "text/plain": [
       "0"
      ]
     },
     "execution_count": 4,
     "metadata": {},
     "output_type": "execute_result"
    }
   ],
   "source": [
    "hist.Freq(4)"
   ]
  },
  {
   "cell_type": "markdown",
   "metadata": {},
   "source": [
    "&emsp;&emsp;`Values` 方法返回 Hist 对象中值的未排序列表。"
   ]
  },
  {
   "cell_type": "code",
   "execution_count": 5,
   "metadata": {},
   "outputs": [
    {
     "data": {
      "text/plain": [
       "dict_keys([1, 2, 3, 5])"
      ]
     },
     "execution_count": 5,
     "metadata": {},
     "output_type": "execute_result"
    }
   ],
   "source": [
    "hist.Values()"
   ]
  },
  {
   "cell_type": "markdown",
   "metadata": {},
   "source": [
    "&emsp;&emsp;若要按序遍历 `Hist` 中的值，可以使用内建函数 `sorted`。"
   ]
  },
  {
   "cell_type": "code",
   "execution_count": 6,
   "metadata": {},
   "outputs": [
    {
     "name": "stdout",
     "output_type": "stream",
     "text": [
      "1 1\n",
      "2 2\n",
      "3 1\n",
      "5 1\n"
     ]
    }
   ],
   "source": [
    "for val in sorted(hist.Values()):\n",
    "    print(val, hist.Freq(val))"
   ]
  },
  {
   "cell_type": "markdown",
   "metadata": {},
   "source": [
    "## 2.2 绘制直方图"
   ]
  },
  {
   "cell_type": "markdown",
   "metadata": {},
   "source": [
    "&emsp;&emsp;作者还编写了一个 `thinkplot.py` 模块，可以提供各种函数用于绘制直方图及 `thinkstats2.py` 中定义的其他对象，下面使用 `thinkplot` 绘制 `hist`。"
   ]
  },
  {
   "cell_type": "code",
   "execution_count": 7,
   "metadata": {},
   "outputs": [
    {
     "name": "stderr",
     "output_type": "stream",
     "text": [
      "No handles with labels found to put in legend.\n"
     ]
    },
    {
     "data": {
      "image/png": "[encoded data removed]",
      "text/plain": [
       "<Figure size 432x288 with 1 Axes>"
      ]
     },
     "metadata": {},
     "output_type": "display_data"
    }
   ],
   "source": [
    "import thinkplot\n",
    "thinkplot.Hist(hist)\n",
    "thinkplot.Config(xlabel='value', ylabel='frequency')"
   ]
  },
  {
   "cell_type": "markdown",
   "metadata": {},
   "source": [
    "## 2.3 全国家庭增长调查中的变量"
   ]
  },
  {
   "cell_type": "markdown",
   "metadata": {},
   "source": [
    "&emsp;&emsp;读入数据，选取成功生产的记录。"
   ]
  },
  {
   "cell_type": "code",
   "execution_count": 8,
   "metadata": {},
   "outputs": [],
   "source": [
    "import nsfg\n",
    "\n",
    "preg = nsfg.ReadFemPreg()\n",
    "live = preg[preg.outcome == 1] #从数据框中选取满足条件的行"
   ]
  },
  {
   "cell_type": "markdown",
   "metadata": {},
   "source": [
    "&emsp;&emsp;为 `live` 的 `birthwgt_lb` 列生成并绘制直方图。"
   ]
  },
  {
   "cell_type": "code",
   "execution_count": 9,
   "metadata": {},
   "outputs": [
    {
     "data": {
      "image/png": "[encoded data removed]",
      "text/plain": [
       "<Figure size 432x288 with 1 Axes>"
      ]
     },
     "metadata": {},
     "output_type": "display_data"
    },
    {
     "data": {
      "text/plain": [
       "<Figure size 576x432 with 0 Axes>"
      ]
     },
     "metadata": {},
     "output_type": "display_data"
    }
   ],
   "source": [
    "hist = thinkstats2.Hist(live.birthwgt_lb, label='birthwgt_lb')\n",
    "thinkplot.Hist(hist)\n",
    "thinkplot.Show(xlabel='pounds', ylabel='frequency')"
   ]
  },
  {
   "cell_type": "markdown",
   "metadata": {},
   "source": [
    "&emsp;&emsp;通过直方图不难看出，**众数（mode）**为 7 磅，分布呈钟形。钟形是**正态（normal）分布**，即**高斯（Gaussian）分布**的形状。但结果的分布是不对称的，**尾端（tail）**向左侧延伸更长，这一点与正态分布不符。\n",
    "\n",
    "&emsp;&emsp;接下来为 `agepreg` 列，即妊娠结束时的年龄，生成并绘制直方图。"
   ]
  },
  {
   "cell_type": "code",
   "execution_count": 10,
   "metadata": {},
   "outputs": [],
   "source": [
    "import numpy as np\n",
    "\n",
    "ages = np.floor(live.agepreg) #四舍五入年龄"
   ]
  },
  {
   "cell_type": "code",
   "execution_count": 11,
   "metadata": {},
   "outputs": [
    {
     "data": {
      "image/png": "[encoded data removed]",
      "text/plain": [
       "<Figure size 432x288 with 1 Axes>"
      ]
     },
     "metadata": {},
     "output_type": "display_data"
    }
   ],
   "source": [
    "hist = thinkstats2.Hist(ages, label='agepreg')\n",
    "thinkplot.Hist(hist)\n",
    "thinkplot.Config(xlabel='years', ylabel='Count')"
   ]
  },
  {
   "cell_type": "markdown",
   "metadata": {},
   "source": [
    "&emsp;&emsp;由图可知，众数为 21 岁，分布形状大致为钟形，但尾端向右延伸较长。"
   ]
  },
  {
   "cell_type": "markdown",
   "metadata": {},
   "source": [
    "&emsp;&emsp;接下来为 `preglngth` 列，即妊娠周数，生成并绘制直方图。"
   ]
  },
  {
   "cell_type": "code",
   "execution_count": 12,
   "metadata": {},
   "outputs": [
    {
     "data": {
      "image/png": "[encoded data removed]",
      "text/plain": [
       "<Figure size 432x288 with 1 Axes>"
      ]
     },
     "metadata": {},
     "output_type": "display_data"
    }
   ],
   "source": [
    "hist = thinkstats2.Hist(live.prglngth, label='prglngth')\n",
    "thinkplot.Hist(hist)\n",
    "thinkplot.Config(xlabel='weeks', ylabel='Count')"
   ]
  },
  {
   "cell_type": "markdown",
   "metadata": {},
   "source": [
    "&emsp;&emsp;由图可知，最常见的值为 39 周，很少超过 43 周。"
   ]
  },
  {
   "cell_type": "markdown",
   "metadata": {},
   "source": [
    "## 2.4 离群值"
   ]
  },
  {
   "cell_type": "markdown",
   "metadata": {},
   "source": [
    "&emsp;&emsp;通过观察直方图，很容易发现最常出现的值，并能判断分布的形状，但不一定能看到很少出现的值。在进一步探索数据之前，最好检查一下**离群值（outlier）**。\n",
    "\n",
    "&emsp;&emsp;`Hist` 对象提供 `Largest` 和 `Smallest` 方法，这两个方法的参数都是整数 `n`，分别返回直方图中 `n` 个最大和最小的值。"
   ]
  },
  {
   "cell_type": "code",
   "execution_count": 13,
   "metadata": {},
   "outputs": [
    {
     "name": "stdout",
     "output_type": "stream",
     "text": [
      "0 1\n",
      "4 1\n",
      "9 1\n",
      "13 1\n",
      "17 2\n",
      "18 1\n",
      "19 1\n",
      "20 1\n",
      "21 2\n",
      "22 7\n"
     ]
    }
   ],
   "source": [
    "for weeks, freq in hist.Smallest(10):\n",
    "    print(weeks, freq)"
   ]
  },
  {
   "cell_type": "code",
   "execution_count": 14,
   "metadata": {},
   "outputs": [
    {
     "name": "stdout",
     "output_type": "stream",
     "text": [
      "50 2\n",
      "48 7\n",
      "47 1\n",
      "46 1\n",
      "45 10\n",
      "44 46\n",
      "43 148\n",
      "42 328\n",
      "41 587\n",
      "40 1116\n"
     ]
    }
   ],
   "source": [
    "for weeks, freq in hist.Largest(10):\n",
    "    print(weeks, freq)"
   ]
  },
  {
   "cell_type": "markdown",
   "metadata": {},
   "source": [
    "&emsp;&emsp;10 周以下的值显然不符合常理，很可能是数据没有进行正确的清洗，而从医学角度来看，大于 50 周的也几乎是不可能的。至于 10 至 30 周的，可能是早产，也可能是数据错误。对于这些离群值的处理，最佳方法依然是依赖于“领域知识”，即有关数据来源和意义的信息，另外也取决于打算对数据进行何种分析。"
   ]
  },
  {
   "cell_type": "markdown",
   "metadata": {},
   "source": [
    "## 2.5 第一胎"
   ]
  },
  {
   "cell_type": "markdown",
   "metadata": {},
   "source": [
    "&emsp;&emsp;现在可以选择第一胎和其他胎的婴儿进行比较，然后计算其直方图。"
   ]
  },
  {
   "cell_type": "code",
   "execution_count": 15,
   "metadata": {},
   "outputs": [],
   "source": [
    "firsts = live[live.birthord == 1]\n",
    "others = live[live.birthord != 1]\n",
    "\n",
    "first_hist = thinkstats2.Hist(firsts.prglngth, label='first')\n",
    "other_hist = thinkstats2.Hist(others.prglngth, label='other')"
   ]
  },
  {
   "cell_type": "markdown",
   "metadata": {},
   "source": [
    "&emsp;&emsp;接着在同一坐标轴上绘制这两个直方图。"
   ]
  },
  {
   "cell_type": "code",
   "execution_count": 16,
   "metadata": {},
   "outputs": [
    {
     "data": {
      "image/png": "[encoded data removed]",
      "text/plain": [
       "<Figure size 432x288 with 1 Axes>"
      ]
     },
     "metadata": {},
     "output_type": "display_data"
    }
   ],
   "source": [
    "width = 0.45 #设置柱形宽度\n",
    "\n",
    "thinkplot.PrePlot(2)\n",
    "thinkplot.Hist(first_hist, align='right', width=width)\n",
    "thinkplot.Hist(other_hist, align='left', width=width)\n",
    "thinkplot.Config(xlabel='weeks', ylabel='Count', xlim=[27, 46])"
   ]
  },
  {
   "cell_type": "markdown",
   "metadata": {},
   "source": [
    "## 2.6 分布概述"
   ]
  },
  {
   "cell_type": "markdown",
   "metadata": {},
   "source": [
    "&emsp;&emsp;直方图是一个样本分布的完整描述，如果一个分布的细节很重要，可能需要展示其直方图。但经常只需要几个描述性的统计量，对变量分布进行概述：\n",
    "- 集中趋势：变量值是否聚集在某个值附近\n",
    "- 众数：是否有多个聚集点\n",
    "- 展布：变量的变化性如何\n",
    "- 尾部：当值偏离众数时，其概率降低多快\n",
    "- 离群值：是否有远离众数的极端值\n",
    "\n",
    "&emsp;&emsp;**汇总统计量（summay statistic）**就是为回答上述问题而设计的，目前最常用的汇总统计量是**均值（mean）**，用于描述分布的**集中趋势（central tendency）**。"
   ]
  },
  {
   "cell_type": "markdown",
   "metadata": {},
   "source": [
    "## 2.7 方差"
   ]
  },
  {
   "cell_type": "markdown",
   "metadata": {},
   "source": [
    "&emsp;&emsp;**方差（variance）**是用于描述一个分布的变化或者**展布（spread）**的汇总统计量。方差的平方根是**标准差（standard deviation）**\n",
    "\n",
    "&emsp;&emsp;Pandas 提供了计算均值、方差和标准差的方法。"
   ]
  },
  {
   "cell_type": "code",
   "execution_count": 17,
   "metadata": {},
   "outputs": [],
   "source": [
    "mean = live.prglngth.mean()\n",
    "var = live.prglngth.var()\n",
    "std = live.prglngth.std()"
   ]
  },
  {
   "cell_type": "code",
   "execution_count": 18,
   "metadata": {},
   "outputs": [
    {
     "name": "stdout",
     "output_type": "stream",
     "text": [
      "妊娠期均值：38.56055968517709 周\n",
      "妊娠期标准差：2.702343810070587 周\n"
     ]
    }
   ],
   "source": [
    "print(\"妊娠期均值：{0} 周\".format(mean))\n",
    "print(\"妊娠期标准差：{0} 周\".format(std))"
   ]
  },
  {
   "cell_type": "markdown",
   "metadata": {},
   "source": [
    "&emsp;&emsp;妊娠期的均值为 38.6 周，标准差为 2.7 周，也就是说，2~3 周偏差值是正常的。"
   ]
  },
  {
   "cell_type": "markdown",
   "metadata": {},
   "source": [
    "## 2.8 效应量"
   ]
  },
  {
   "cell_type": "markdown",
   "metadata": {},
   "source": [
    "&emsp;&emsp;**效应量（effect size）**是用于描述效应大小的汇总统计量。\n",
    "\n",
    "&emsp;&emsp;要描述两个群组之间的差异，一个常用的方法是使用均值的差值，例如第一胎和其他胎的妊娠均值，及二者的差值。"
   ]
  },
  {
   "cell_type": "code",
   "execution_count": 19,
   "metadata": {},
   "outputs": [
    {
     "name": "stdout",
     "output_type": "stream",
     "text": [
      "第一胎妊娠均值：38.60095173351461\n",
      "其他胎妊娠均值：38.52291446673706\n",
      "二者差值：0.07803726677754952\n"
     ]
    }
   ],
   "source": [
    "print(\"第一胎妊娠均值：{0}\".format(firsts.prglngth.mean()))\n",
    "print(\"其他胎妊娠均值：{0}\".format(others.prglngth.mean()))\n",
    "\n",
    "print(\"二者差值：{0}\".format(firsts.prglngth.mean() - others.prglngth.mean()))"
   ]
  },
  {
   "cell_type": "markdown",
   "metadata": {},
   "source": [
    "&emsp;&emsp;假设这个估算是正确的，那么这个差值不具有实际意义。\n",
    "\n",
    "&emsp;&emsp;另一种描述效应量的方法是将两个群组之间的差值与群组间的变化性进行比较，如 `Cohen’s d`，就是将两个群组均值之间的差值除以两个群组间的**合并标准差（pooled standard deviation）**。"
   ]
  },
  {
   "cell_type": "code",
   "execution_count": 20,
   "metadata": {},
   "outputs": [],
   "source": [
    "def CohenEffectSize(group1, group2):\n",
    "    \"\"\"\n",
    "        在两个群组之间计算 Cohen’s d\n",
    "    \n",
    "        Args:\n",
    "            group1: Series or DataFrame\n",
    "            group2: Series or DataFrame\n",
    "    \n",
    "        Returns: \n",
    "            float if the arguments are Series;\n",
    "            Series if the arguments are DataFrames\n",
    "    \"\"\"\n",
    "    diff = group1.mean() - group2.mean()\n",
    "\n",
    "    var1 = group1.var()\n",
    "    var2 = group2.var()\n",
    "    n1, n2 = len(group1), len(group2)\n",
    "\n",
    "    pooled_var = (n1 * var1 + n2 * var2) / (n1 + n2)\n",
    "    d = diff / np.sqrt(pooled_var)\n",
    "    return d"
   ]
  },
  {
   "cell_type": "code",
   "execution_count": 21,
   "metadata": {},
   "outputs": [
    {
     "data": {
      "text/plain": [
       "0.028879044654449834"
      ]
     },
     "execution_count": 21,
     "metadata": {},
     "output_type": "execute_result"
    }
   ],
   "source": [
    "CohenEffectSize(firsts.prglngth, others.prglngth)"
   ]
  },
  {
   "cell_type": "markdown",
   "metadata": {},
   "source": [
    "&emsp;&emsp;两组样本间的 `Cohen'd` 仅为 0.029，这个值非常的小。对比一下，男性与女性身高差的这个值约为 1.7。"
   ]
  },
  {
   "cell_type": "markdown",
   "metadata": {},
   "source": [
    "## 2.9 术语"
   ]
  },
  {
   "cell_type": "markdown",
   "metadata": {},
   "source": [
    "> - 分布（distribution）\n",
    "> \n",
    "> &emsp;&emsp;样本中的值以及每个值出现的频数\n",
    "> \n",
    "> - 直方图（histogram）\n",
    "> \n",
    "> &emsp;&emsp;从值到频数的映射，或者展示这一映射的图形\n",
    "> \n",
    "> - 频数（frequency）\n",
    "> \n",
    "> &emsp;&emsp;一个值在样本中出现的次数\n",
    "> \n",
    "> - 众数（mode）\n",
    "> \n",
    "> &emsp;&emsp;一个样本中最常出现的值，或者最常出现的值之一\n",
    "> \n",
    "> - 正态分布（normal distribution）\n",
    "> \n",
    "> &emsp;&emsp;钟形的理想化分布，也称为高斯分布\n",
    "> \n",
    "> - 均匀分布（uniform distribution）\n",
    "> \n",
    "> &emsp;&emsp;所有值具有相同频数的分布\n",
    "> \n",
    "> - 尾部（tail）\n",
    "> \n",
    "> &emsp;&emsp;一个分布中最高端和最低端的部分\n",
    "> \n",
    "> - 集中趋势（central tendency）\n",
    "> \n",
    "> &emsp;&emsp;样本或总体的一个特征 *#直观上，这一特征是一个平均值或典型值*\n",
    "> \n",
    "> - 离群值（outlier）\n",
    "> \n",
    "> &emsp;&emsp;远离集中趋势的值\n",
    "> \n",
    "> - 展布（spread）\n",
    "> \n",
    "> &emsp;&emsp;对值在分布中扩展规模的度量\n",
    "> \n",
    "> - 汇总统计量（summary statistic）\n",
    "> \n",
    "> &emsp;&emsp;对分布的某些方面（如集中趋势或展布）进行量化的统计量\n",
    "> \n",
    "> - 方差（variance）\n",
    "> \n",
    "> &emsp;&emsp;一种汇总统计量，常用于量化展布\n",
    "> \n",
    "> - 标准差（standard deviation）\n",
    "> \n",
    "> &emsp;&emsp;方差的平方根，也用于量化展布\n",
    "> \n",
    "> - 效应量（effect size）\n",
    "> \n",
    "> &emsp;&emsp;一种汇总统计量，用于量化一个效应的大小，如群组之间的差异\n",
    "> \n",
    "> - 临床显著（clinically significant）\n",
    "> \n",
    "> &emsp;&emsp;在实践中有意义的结果，如群组之间的差异\n",
    "> "
   ]
  },
  {
   "cell_type": "code",
   "execution_count": null,
   "metadata": {},
   "outputs": [],
   "source": []
  }
 ],
 "metadata": {
  "hide_input": false,
  "kernelspec": {
   "display_name": "Python 3",
   "language": "python",
   "name": "python3"
  },
  "language_info": {
   "codemirror_mode": {
    "name": "ipython",
    "version": 3
   },
   "file_extension": ".py",
   "mimetype": "text/x-python",
   "name": "python",
   "nbconvert_exporter": "python",
   "pygments_lexer": "ipython3",
   "version": "3.6.5"
  }
 },
 "nbformat": 4,
 "nbformat_minor": 2
}
